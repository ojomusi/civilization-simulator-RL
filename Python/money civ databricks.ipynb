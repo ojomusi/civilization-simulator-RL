{
 "cells": [
  {
   "cell_type": "code",
   "execution_count": 0,
   "metadata": {
    "application/vnd.databricks.v1+cell": {
     "cellMetadata": {
      "byteLimit": 2048000,
      "rowLimit": 10000
     },
     "inputWidgets": {},
     "nuid": "95f910d9-8725-4864-a1fe-f4d8f00cee88",
     "showTitle": false,
     "tableResultSettingsMap": {},
     "title": ""
    }
   },
   "outputs": [
    {
     "output_type": "stream",
     "name": "stdout",
     "output_type": "stream",
     "text": [
      "Collecting pygame\n  Obtaining dependency information for pygame from https://files.pythonhosted.org/packages/7a/a1/9ae2852ebd3a7cc7d9ae7ff7919ab983e4a5c1b7a14e840732f23b2b48f6/pygame-2.6.1-cp311-cp311-manylinux_2_17_x86_64.manylinux2014_x86_64.whl.metadata\n  Downloading pygame-2.6.1-cp311-cp311-manylinux_2_17_x86_64.manylinux2014_x86_64.whl.metadata (12 kB)\nRequirement already satisfied: pandas in /databricks/python3/lib/python3.11/site-packages (1.5.3)\nRequirement already satisfied: matplotlib in /databricks/python3/lib/python3.11/site-packages (3.7.2)\nCollecting noise\n  Downloading noise-1.2.2.zip (132 kB)\n\u001B[?25l     \u001B[90m━━━━━━━━━━━━━━━━━━━━━━━━━━━━━━━━━━━━━━━━\u001B[0m \u001B[32m0.0/132.0 kB\u001B[0m \u001B[31m?\u001B[0m eta \u001B[36m-:--:--\u001B[0m\n\u001B[2K     \u001B[90m━━━━━━━━━━━━━━━━━━━━━━━━━━━━━━━━━━━━━━━\u001B[0m \u001B[32m132.0/132.0 kB\u001B[0m \u001B[31m4.5 MB/s\u001B[0m eta \u001B[36m0:00:00\u001B[0m\n\u001B[?25h  Preparing metadata (setup.py): started\n  Preparing metadata (setup.py): finished with status 'done'\nCollecting deltalake\n  Obtaining dependency information for deltalake from https://files.pythonhosted.org/packages/2f/91/6d1da88861f3f54f150ff8a7b6566f86204b1e71c6ac1419d380bb844bc9/deltalake-0.22.0-cp39-abi3-manylinux_2_17_x86_64.manylinux2014_x86_64.whl.metadata\n  Downloading deltalake-0.22.0-cp39-abi3-manylinux_2_17_x86_64.manylinux2014_x86_64.whl.metadata (5.0 kB)\nCollecting pyspark==2.1.2\n  Downloading pyspark-2.1.2.tar.gz (181.3 MB)\n\u001B[?25l     \u001B[90m━━━━━━━━━━━━━━━━━━━━━━━━━━━━━━━━━━━━━━━━\u001B[0m \u001B[32m0.0/181.3 MB\u001B[0m \u001B[31m?\u001B[0m eta \u001B[36m-:--:--\u001B[0m\n\u001B[2K     \u001B[90m━━━━━━━━━━━━━━━━━━━━━━━━━━━━━━━━━━━━━━━━\u001B[0m \u001B[32m0.5/181.3 MB\u001B[0m \u001B[31m13.2 MB/s\u001B[0m eta \u001B[36m0:00:14\u001B[0m\n\u001B[2K     \u001B[90m━━━━━━━━━━━━━━━━━━━━━━━━━━━━━━━━━━━━━━━━\u001B[0m \u001B[32m0.9/181.3 MB\u001B[0m \u001B[31m13.8 MB/s\u001B[0m eta \u001B[36m0:00:14\u001B[0m\n\u001B[2K     \u001B[90m━━━━━━━━━━━━━━━━━━━━━━━━━━━━━━━━━━━━━━━━\u001B[0m \u001B[32m1.0/181.3 MB\u001B[0m \u001B[31m13.9 MB/s\u001B[0m eta \u001B[36m0:00:14\u001B[0m\n\u001B[2K     \u001B[90m━━━━━━━━━━━━━━━━━━━━━━━━━━━━━━━━━━━━━━━━\u001B[0m \u001B[32m1.4/181.3 MB\u001B[0m \u001B[31m9.8 MB/s\u001B[0m eta \u001B[36m0:00:19\u001B[0m\n\u001B[2K     \u001B[90m━━━━━━━━━━━━━━━━━━━━━━━━━━━━━━━━━━━━━━━━\u001B[0m \u001B[32m2.1/181.3 MB\u001B[0m \u001B[31m12.0 MB/s\u001B[0m eta \u001B[36m0:00:15\u001B[0m\n\u001B[2K     \u001B[91m╸\u001B[0m\u001B[90m━━━━━━━━━━━━━━━━━━━━━━━━━━━━━━━━━━━━━━━\u001B[0m \u001B[32m2.9/181.3 MB\u001B[0m \u001B[31m13.6 MB/s\u001B[0m eta \u001B[36m0:00:14\u001B[0m\n\u001B[2K     \u001B[91m╸\u001B[0m\u001B[90m━━━━━━━━━━━━━━━━━━━━━━━━━━━━━━━━━━━━━━━\u001B[0m \u001B[32m3.1/181.3 MB\u001B[0m \u001B[31m14.4 MB/s\u001B[0m eta \u001B[36m0:00:13\u001B[0m\n\u001B[2K     \u001B[91m╸\u001B[0m\u001B[90m━━━━━━━━━━━━━━━━━━━━━━━━━━━━━━━━━━━━━━━\u001B[0m \u001B[32m3.7/181.3 MB\u001B[0m \u001B[31m13.1 MB/s\u001B[0m eta \u001B[36m0:00:14\u001B[0m\n\u001B[2K     \u001B[91m╸\u001B[0m\u001B[90m━━━━━━━━━━━━━━━━━━━━━━━━━━━━━━━━━━━━━━━\u001B[0m \u001B[32m4.2/181.3 MB\u001B[0m \u001B[31m14.2 MB/s\u001B[0m eta \u001B[36m0:00:13\u001B[0m\n\u001B[2K     \u001B[91m╸\u001B[0m\u001B[90m━━━━━━━━━━━━━━━━━━━━━━━━━━━━━━━━━━━━━━━\u001B[0m \u001B[32m4.5/181.3 MB\u001B[0m \u001B[31m12.7 MB/s\u001B[0m eta \u001B[36m0:00:14\u001B[0m\n\u001B[2K     \u001B[91m━\u001B[0m\u001B[90m╺\u001B[0m\u001B[90m━━━━━━━━━━━━━━━━━━━━━━━━━━━━━━━━━━━━━━\u001B[0m \u001B[32m6.0/181.3 MB\u001B[0m \u001B[31m15.6 MB/s\u001B[0m eta \u001B[36m0:00:12\u001B[0m\n\u001B[2K     \u001B[91m━\u001B[0m\u001B[91m╸\u001B[0m\u001B[90m━━━━━━━━━━━━━━━━━━━━━━━━━━━━━━━━━━━━━━\u001B[0m \u001B[32m7.9/181.3 MB\u001B[0m \u001B[31m18.8 MB/s\u001B[0m eta \u001B[36m0:00:10\u001B[0m\n\u001B[2K     \u001B[91m━━\u001B[0m\u001B[90m╺\u001B[0m\u001B[90m━━━━━━━━━━━━━━━━━━━━━━━━━━━━━━━━━━━━\u001B[0m \u001B[32m10.3/181.3 MB\u001B[0m \u001B[31m22.4 MB/s\u001B[0m eta \u001B[36m0:00:08\u001B[0m\n\u001B[2K     \u001B[91m━━\u001B[0m\u001B[91m╸\u001B[0m\u001B[90m━━━━━━━━━━━━━━━━━━━━━━━━━━━━━━━━━━━━\u001B[0m \u001B[32m13.2/181.3 MB\u001B[0m \u001B[31m36.3 MB/s\u001B[0m eta \u001B[36m0:00:05\u001B[0m\n\u001B[2K     \u001B[91m━━━\u001B[0m\u001B[90m╺\u001B[0m\u001B[90m━━━━━━━━━━━━━━━━━━━━━━━━━━━━━━━━━━━\u001B[0m \u001B[32m14.7/181.3 MB\u001B[0m \u001B[31m63.8 MB/s\u001B[0m eta \u001B[36m0:00:03\u001B[0m\n\u001B[2K     \u001B[91m━━━\u001B[0m\u001B[90m╺\u001B[0m\u001B[90m━━━━━━━━━━━━━━━━━━━━━━━━━━━━━━━━━━━\u001B[0m \u001B[32m14.8/181.3 MB\u001B[0m \u001B[31m47.6 MB/s\u001B[0m eta \u001B[36m0:00:04\u001B[0m\n\u001B[2K     \u001B[91m━━━━\u001B[0m\u001B[90m╺\u001B[0m\u001B[90m━━━━━━━━━━━━━━━━━━━━━━━━━━━━━━━━━━\u001B[0m \u001B[32m19.7/181.3 MB\u001B[0m \u001B[31m62.7 MB/s\u001B[0m eta \u001B[36m0:00:03\u001B[0m\n\u001B[2K     \u001B[91m━━━━━\u001B[0m\u001B[90m╺\u001B[0m\u001B[90m━━━━━━━━━━━━━━━━━━━━━━━━━━━━━━━━\u001B[0m \u001B[32m25.1/181.3 MB\u001B[0m \u001B[31m139.3 MB/s\u001B[0m eta \u001B[36m0:00:02\u001B[0m\n\u001B[2K     \u001B[91m━━━━━\u001B[0m\u001B[90m╺\u001B[0m\u001B[90m━━━━━━━━━━━━━━━━━━━━━━━━━━━━━━━━\u001B[0m \u001B[32m26.2/181.3 MB\u001B[0m \u001B[31m136.7 MB/s\u001B[0m eta \u001B[36m0:00:02\u001B[0m\n\u001B[2K     \u001B[91m━━━━━\u001B[0m\u001B[90m╺\u001B[0m\u001B[90m━━━━━━━━━━━━━━━━━━━━━━━━━━━━━━━━\u001B[0m \u001B[32m26.2/181.3 MB\u001B[0m \u001B[31m136.7 MB/s\u001B[0m eta \u001B[36m0:00:02\u001B[0m\n\u001B[2K     \u001B[91m━━━━━\u001B[0m\u001B[91m╸\u001B[0m\u001B[90m━━━━━━━━━━━━━━━━━━━━━━━━━━━━━━━━━\u001B[0m \u001B[32m27.3/181.3 MB\u001B[0m \u001B[31m67.2 MB/s\u001B[0m eta \u001B[36m0:00:03\u001B[0m\n\u001B[2K     \u001B[91m━━━━━\u001B[0m\u001B[91m╸\u001B[0m\u001B[90m━━━━━━━━━━━━━━━━━━━━━━━━━━━━━━━━━\u001B[0m \u001B[32m27.8/181.3 MB\u001B[0m \u001B[31m51.0 MB/s\u001B[0m eta \u001B[36m0:00:04\u001B[0m\n\u001B[2K     \u001B[91m━━━━━━\u001B[0m\u001B[91m╸\u001B[0m\u001B[90m━━━━━━━━━━━━━━━━━━━━━━━━━━━━━━━━\u001B[0m \u001B[32m30.6/181.3 MB\u001B[0m \u001B[31m48.4 MB/s\u001B[0m eta \u001B[36m0:00:04\u001B[0m\n\u001B[2K     \u001B[91m━━━━━━━\u001B[0m\u001B[90m╺\u001B[0m\u001B[90m━━━━━━━━━━━━━━━━━━━━━━━━━━━━━━━\u001B[0m \u001B[32m33.6/181.3 MB\u001B[0m \u001B[31m40.9 MB/s\u001B[0m eta \u001B[36m0:00:04\u001B[0m\n\u001B[2K     \u001B[91m━━━━━━━━\u001B[0m\u001B[91m╸\u001B[0m\u001B[90m━━━━━━━━━━━━━━━━━━━━━━━━━━━━━━\u001B[0m \u001B[32m39.6/181.3 MB\u001B[0m \u001B[31m96.2 MB/s\u001B[0m eta \u001B[36m0:00:02\u001B[0m\n\u001B[2K     \u001B[91m━━━━━━━━━\u001B[0m\u001B[90m╺\u001B[0m\u001B[90m━━━━━━━━━━━━━━━━━━━━━━━━━━━━\u001B[0m \u001B[32m43.0/181.3 MB\u001B[0m \u001B[31m157.4 MB/s\u001B[0m eta \u001B[36m0:00:01\u001B[0m\n\u001B[2K     \u001B[91m━━━━━━━━━\u001B[0m\u001B[90m╺\u001B[0m\u001B[90m━━━━━━━━━━━━━━━━━━━━━━━━━━━━\u001B[0m \u001B[32m44.0/181.3 MB\u001B[0m \u001B[31m109.9 MB/s\u001B[0m eta \u001B[36m0:00:02\u001B[0m\n\u001B[2K     \u001B[91m━━━━━━━━━\u001B[0m\u001B[90m╺\u001B[0m\u001B[90m━━━━━━━━━━━━━━━━━━━━━━━━━━━━\u001B[0m \u001B[32m44.0/181.3 MB\u001B[0m \u001B[31m109.9 MB/s\u001B[0m eta \u001B[36m0:00:02\u001B[0m\n\u001B[2K     \u001B[91m━━━━━━━━━\u001B[0m\u001B[91m╸\u001B[0m\u001B[90m━━━━━━━━━━━━━━━━━━━━━━━━━━━━━\u001B[0m \u001B[32m45.5/181.3 MB\u001B[0m \u001B[31m61.0 MB/s\u001B[0m eta \u001B[36m0:00:03\u001B[0m\n\u001B[2K     \u001B[91m━━━━━━━━━━\u001B[0m\u001B[90m╺\u001B[0m\u001B[90m━━━━━━━━━━━━━━━━━━━━━━━━━━━━\u001B[0m \u001B[32m48.2/181.3 MB\u001B[0m \u001B[31m59.6 MB/s\u001B[0m eta \u001B[36m0:00:03\u001B[0m\n\u001B[2K     \u001B[91m━━━━━━━━━━\u001B[0m\u001B[90m╺\u001B[0m\u001B[90m━━━━━━━━━━━━━━━━━━━━━━━━━━━━\u001B[0m \u001B[32m48.2/181.3 MB\u001B[0m \u001B[31m59.6 MB/s\u001B[0m eta \u001B[36m0:00:03\u001B[0m\n\u001B[2K     \u001B[91m━━━━━━━━━━━\u001B[0m\u001B[90m╺\u001B[0m\u001B[90m━━━━━━━━━━━━━━━━━━━━━━━━━━━\u001B[0m \u001B[32m53.2/181.3 MB\u001B[0m \u001B[31m53.5 MB/s\u001B[0m eta \u001B[36m0:00:03\u001B[0m\n\u001B[2K     \u001B[91m━━━━━━━━━━━━\u001B[0m\u001B[90m╺\u001B[0m\u001B[90m━━━━━━━━━━━━━━━━━━━━━━━━━\u001B[0m \u001B[32m59.1/181.3 MB\u001B[0m \u001B[31m151.6 MB/s\u001B[0m eta \u001B[36m0:00:01\u001B[0m\n\u001B[2K     \u001B[91m━━━━━━━━━━━━━\u001B[0m\u001B[90m╺\u001B[0m\u001B[90m━━━━━━━━━━━━━━━━━━━━━━━━\u001B[0m \u001B[32m62.9/181.3 MB\u001B[0m \u001B[31m115.7 MB/s\u001B[0m eta \u001B[36m0:00:02\u001B[0m\n\u001B[2K     \u001B[91m━━━━━━━━━━━━━\u001B[0m\u001B[91m╸\u001B[0m\u001B[90m━━━━━━━━━━━━━━━━━━━━━━━━━\u001B[0m \u001B[32m64.0/181.3 MB\u001B[0m \u001B[31m83.0 MB/s\u001B[0m eta \u001B[36m0:00:02\u001B[0m\n\u001B[2K     \u001B[91m━━━━━━━━━━━━━\u001B[0m\u001B[91m╸\u001B[0m\u001B[90m━━━━━━━━━━━━━━━━━━━━━━━━━\u001B[0m \u001B[32m64.0/181.3 MB\u001B[0m \u001B[31m83.0 MB/s\u001B[0m eta \u001B[36m0:00:02\u001B[0m\n\u001B[2K     \u001B[91m━━━━━━━━━━━━━━\u001B[0m\u001B[90m╺\u001B[0m\u001B[90m━━━━━━━━━━━━━━━━━━━━━━━━\u001B[0m \u001B[32m66.0/181.3 MB\u001B[0m \u001B[31m54.8 MB/s\u001B[0m eta \u001B[36m0:00:03\u001B[0m\n\u001B[2K     \u001B[91m━━━━━━━━━━━━━━━\u001B[0m\u001B[91m╸\u001B[0m\u001B[90m━━━━━━━━━━━━━━━━━━━━━━━\u001B[0m \u001B[32m72.1/181.3 MB\u001B[0m \u001B[31m62.2 MB/s\u001B[0m eta \u001B[36m0:00:02\u001B[0m\n\u001B[2K     \u001B[91m━━━━━━━━━━━━━━━━\u001B[0m\u001B[90m╺\u001B[0m\u001B[90m━━━━━━━━━━━━━━━━━━━━━\u001B[0m \u001B[32m77.6/181.3 MB\u001B[0m \u001B[31m196.4 MB/s\u001B[0m eta \u001B[36m0:00:01\u001B[0m\n\u001B[2K     \u001B[91m━━━━━━━━━━━━━━━━\u001B[0m\u001B[90m╺\u001B[0m\u001B[90m━━━━━━━━━━━━━━━━━━━━━\u001B[0m \u001B[32m77.6/181.3 MB\u001B[0m \u001B[31m196.4 MB/s\u001B[0m eta \u001B[36m0:00:01\u001B[0m\n\u001B[2K     \u001B[91m━━━━━━━━━━━━━━━━━\u001B[0m\u001B[90m╺\u001B[0m\u001B[90m━━━━━━━━━━━━━━━━━━━━━\u001B[0m \u001B[32m79.2/181.3 MB\u001B[0m \u001B[31m85.0 MB/s\u001B[0m eta \u001B[36m0:00:02\u001B[0m\n\u001B[2K     \u001B[91m━━━━━━━━━━━━━━━━━━\u001B[0m\u001B[90m╺\u001B[0m\u001B[90m━━━━━━━━━━━━━━━━━━━━\u001B[0m \u001B[32m84.9/181.3 MB\u001B[0m \u001B[31m83.2 MB/s\u001B[0m eta \u001B[36m0:00:02\u001B[0m\n\u001B[2K     \u001B[91m━━━━━━━━━━━━━━━━━━\u001B[0m\u001B[90m╺\u001B[0m\u001B[90m━━━━━━━━━━━━━━━━━━━━\u001B[0m \u001B[32m84.9/181.3 MB\u001B[0m \u001B[31m83.2 MB/s\u001B[0m eta \u001B[36m0:00:02\u001B[0m\n\u001B[2K     \u001B[91m━━━━━━━━━━━━━━━━━━━\u001B[0m\u001B[90m╺\u001B[0m\u001B[90m━━━━━━━━━━━━━━━━━━━\u001B[0m \u001B[32m90.6/181.3 MB\u001B[0m \u001B[31m97.3 MB/s\u001B[0m eta \u001B[36m0:00:01\u001B[0m\n\u001B[2K     \u001B[91m━━━━━━━━━━━━━━━━━━━━\u001B[0m\u001B[90m╺\u001B[0m\u001B[90m━━━━━━━━━━━━━━━━━━\u001B[0m \u001B[32m93.3/181.3 MB\u001B[0m \u001B[31m96.2 MB/s\u001B[0m eta \u001B[36m0:00:01\u001B[0m\n\u001B[2K     \u001B[91m━━━━━━━━━━━━━━━━━━━━\u001B[0m\u001B[90m╺\u001B[0m\u001B[90m━━━━━━━━━━━━━━━━━━\u001B[0m \u001B[32m93.6/181.3 MB\u001B[0m \u001B[31m63.1 MB/s\u001B[0m eta \u001B[36m0:00:02\u001B[0m\n\u001B[2K     \u001B[91m━━━━━━━━━━━━━━━━━━━━\u001B[0m\u001B[91m╸\u001B[0m\u001B[90m━━━━━━━━━━━━━━━━━━\u001B[0m \u001B[32m97.5/181.3 MB\u001B[0m \u001B[31m87.0 MB/s\u001B[0m eta \u001B[36m0:00:01\u001B[0m\n\u001B[2K     \u001B[91m━━━━━━━━━━━━━━━━━━━━\u001B[0m\u001B[91m╸\u001B[0m\u001B[90m━━━━━━━━━━━━━━━━━━\u001B[0m \u001B[32m97.5/181.3 MB\u001B[0m \u001B[31m87.0 MB/s\u001B[0m eta \u001B[36m0:00:01\u001B[0m\n\u001B[2K     \u001B[91m━━━━━━━━━━━━━━━━━━━━━\u001B[0m\u001B[90m╺\u001B[0m\u001B[90m━━━━━━━━━━━━━━━━\u001B[0m \u001B[32m101.8/181.3 MB\u001B[0m \u001B[31m60.6 MB/s\u001B[0m eta \u001B[36m0:00:02\u001B[0m\n\u001B[2K     \u001B[91m━━━━━━━━━━━━━━━━━━━━━\u001B[0m\u001B[91m╸\u001B[0m\u001B[90m━━━━━━━━━━━━━━━━\u001B[0m \u001B[32m104.6/181.3 MB\u001B[0m \u001B[31m77.6 MB/s\u001B[0m eta \u001B[36m0:00:01\u001B[0m\n\u001B[2K     \u001B[91m━━━━━━━━━━━━━━━━━━━━━━\u001B[0m\u001B[90m╺\u001B[0m\u001B[90m━━━━━━━━━━━━━━\u001B[0m \u001B[32m108.6/181.3 MB\u001B[0m \u001B[31m112.7 MB/s\u001B[0m eta \u001B[36m0:00:01\u001B[0m\n\u001B[2K     \u001B[91m━━━━━━━━━━━━━━━━━━━━━━━\u001B[0m\u001B[90m╺\u001B[0m\u001B[90m━━━━━━━━━━━━━\u001B[0m \u001B[32m113.2/181.3 MB\u001B[0m \u001B[31m109.8 MB/s\u001B[0m eta \u001B[36m0:00:01\u001B[0m\n\u001B[2K     \u001B[91m━━━━━━━━━━━━━━━━━━━━━━━\u001B[0m\u001B[91m╸\u001B[0m\u001B[90m━━━━━━━━━━━━━\u001B[0m \u001B[32m115.3/181.3 MB\u001B[0m \u001B[31m103.4 MB/s\u001B[0m eta \u001B[36m0:00:01\u001B[0m\n\u001B[2K     \u001B[91m━━━━━━━━━━━━━━━━━━━━━━━\u001B[0m\u001B[91m╸\u001B[0m\u001B[90m━━━━━━━━━━━━━\u001B[0m \u001B[32m115.3/181.3 MB\u001B[0m \u001B[31m103.4 MB/s\u001B[0m eta \u001B[36m0:00:01\u001B[0m\n\u001B[2K     \u001B[91m━━━━━━━━━━━━━━━━━━━━━━━━\u001B[0m\u001B[91m╸\u001B[0m\u001B[90m━━━━━━━━━━━━━\u001B[0m \u001B[32m117.4/181.3 MB\u001B[0m \u001B[31m64.8 MB/s\u001B[0m eta \u001B[36m0:00:01\u001B[0m\n\u001B[2K     \u001B[91m━━━━━━━━━━━━━━━━━━━━━━━━\u001B[0m\u001B[91m╸\u001B[0m\u001B[90m━━━━━━━━━━━━━\u001B[0m \u001B[32m117.4/181.3 MB\u001B[0m \u001B[31m64.8 MB/s\u001B[0m eta \u001B[36m0:00:01\u001B[0m\n\u001B[2K     \u001B[91m━━━━━━━━━━━━━━━━━━━━━━━━\u001B[0m\u001B[91m╸\u001B[0m\u001B[90m━━━━━━━━━━━━━\u001B[0m \u001B[32m119.2/181.3 MB\u001B[0m \u001B[31m47.4 MB/s\u001B[0m eta \u001B[36m0:00:02\u001B[0m\n\u001B[2K     \u001B[91m━━━━━━━━━━━━━━━━━━━━━━━━━━\u001B[0m\u001B[90m╺\u001B[0m\u001B[90m━━━━━━━━━━━\u001B[0m \u001B[32m125.3/181.3 MB\u001B[0m \u001B[31m53.7 MB/s\u001B[0m eta \u001B[36m0:00:02\u001B[0m\n\u001B[2K     \u001B[91m━━━━━━━━━━━━━━━━━━━━━━━━━━\u001B[0m\u001B[90m╺\u001B[0m\u001B[90m━━━━━━━━━━━\u001B[0m \u001B[32m125.8/181.3 MB\u001B[0m \u001B[31m79.3 MB/s\u001B[0m eta \u001B[36m0:00:01\u001B[0m\n\u001B[2K     \u001B[91m━━━━━━━━━━━━━━━━━━━━━━━━━━\u001B[0m\u001B[91m╸\u001B[0m\u001B[90m━━━━━━━━━━━\u001B[0m \u001B[32m127.6/181.3 MB\u001B[0m \u001B[31m52.7 MB/s\u001B[0m eta \u001B[36m0:00:02\u001B[0m\n\u001B[2K     \u001B[91m━━━━━━━━━━━━━━━━━━━━━━━━━━━\u001B[0m\u001B[90m╺\u001B[0m\u001B[90m━━━━━━━━━━\u001B[0m \u001B[32m129.0/181.3 MB\u001B[0m \u001B[31m77.8 MB/s\u001B[0m eta \u001B[36m0:00:01\u001B[0m\n\u001B[2K     \u001B[91m━━━━━━━━━━━━━━━━━━━━━━━━━━━\u001B[0m\u001B[90m╺\u001B[0m\u001B[90m━━━━━━━━━━\u001B[0m \u001B[32m129.4/181.3 MB\u001B[0m \u001B[31m53.9 MB/s\u001B[0m eta \u001B[36m0:00:01\u001B[0m\n\u001B[2K     \u001B[91m━━━━━━━━━━━━━━━━━━━━━━━━━━━\u001B[0m\u001B[91m╸\u001B[0m\u001B[90m━━━━━━━━━━\u001B[0m \u001B[32m132.1/181.3 MB\u001B[0m \u001B[31m55.0 MB/s\u001B[0m eta \u001B[36m0:00:01\u001B[0m\n\u001B[2K     \u001B[91m━━━━━━━━━━━━━━━━━━━━━━━━━━━\u001B[0m\u001B[91m╸\u001B[0m\u001B[90m━━━━━━━━━━\u001B[0m \u001B[32m132.1/181.3 MB\u001B[0m \u001B[31m55.0 MB/s\u001B[0m eta \u001B[36m0:00:01\u001B[0m\n\u001B[2K     \u001B[91m━━━━━━━━━━━━━━━━━━━━━━━━━━━━\u001B[0m\u001B[91m╸\u001B[0m\u001B[90m━━━━━━━━━\u001B[0m \u001B[32m137.4/181.3 MB\u001B[0m \u001B[31m55.9 MB/s\u001B[0m eta \u001B[36m0:00:01\u001B[0m\n\u001B[2K     \u001B[91m━━━━━━━━━━━━━━━━━━━━━━━━━━━━\u001B[0m\u001B[91m╸\u001B[0m\u001B[90m━━━━━━━━━\u001B[0m \u001B[32m137.4/181.3 MB\u001B[0m \u001B[31m55.9 MB/s\u001B[0m eta \u001B[36m0:00:01\u001B[0m\n\u001B[2K     \u001B[91m━━━━━━━━━━━━━━━━━━━━━━━━━━━━━\u001B[0m\u001B[90m╺\u001B[0m\u001B[90m━━━━━━━━\u001B[0m \u001B[32m138.7/181.3 MB\u001B[0m \u001B[31m41.7 MB/s\u001B[0m eta \u001B[36m0:00:02\u001B[0m\n\u001B[2K     \u001B[91m━━━━━━━━━━━━━━━━━━━━━━━━━━━━━━\u001B[0m\u001B[90m╺\u001B[0m\u001B[90m━━━━━━━\u001B[0m \u001B[32m143.9/181.3 MB\u001B[0m \u001B[31m79.9 MB/s\u001B[0m eta \u001B[36m0:00:01\u001B[0m\n\u001B[2K     \u001B[91m━━━━━━━━━━━━━━━━━━━━━━━━━━━━━━\u001B[0m\u001B[90m╺\u001B[0m\u001B[90m━━━━━━\u001B[0m \u001B[32m148.6/181.3 MB\u001B[0m \u001B[31m136.2 MB/s\u001B[0m eta \u001B[36m0:00:01\u001B[0m\n\u001B[2K     \u001B[91m━━━━━━━━━━━━━━━━━━━━━━━━━━━━━━━\u001B[0m\u001B[90m╺\u001B[0m\u001B[90m━━━━━\u001B[0m \u001B[32m154.1/181.3 MB\u001B[0m \u001B[31m148.1 MB/s\u001B[0m eta \u001B[36m0:00:01\u001B[0m\n\u001B[2K     \u001B[91m━━━━━━━━━━━━━━━━━━━━━━━━━━━━━━━\u001B[0m\u001B[91m╸\u001B[0m\u001B[90m━━━━━\u001B[0m \u001B[32m156.2/181.3 MB\u001B[0m \u001B[31m129.0 MB/s\u001B[0m eta \u001B[36m0:00:01\u001B[0m\n\u001B[2K     \u001B[91m━━━━━━━━━━━━━━━━━━━━━━━━━━━━━━━━\u001B[0m\u001B[90m╺\u001B[0m\u001B[90m━━━━\u001B[0m \u001B[32m157.3/181.3 MB\u001B[0m \u001B[31m107.2 MB/s\u001B[0m eta \u001B[36m0:00:01\u001B[0m\n\u001B[2K     \u001B[91m━━━━━━━━━━━━━━━━━━━━━━━━━━━━━━━━\u001B[0m\u001B[90m╺\u001B[0m\u001B[90m━━━━\u001B[0m \u001B[32m157.3/181.3 MB\u001B[0m \u001B[31m107.2 MB/s\u001B[0m eta \u001B[36m0:00:01\u001B[0m\n\u001B[2K     \u001B[91m━━━━━━━━━━━━━━━━━━━━━━━━━━━━━━━━━\u001B[0m\u001B[90m╺\u001B[0m\u001B[90m━━━━\u001B[0m \u001B[32m158.6/181.3 MB\u001B[0m \u001B[31m56.7 MB/s\u001B[0m eta \u001B[36m0:00:01\u001B[0m\n\u001B[2K     \u001B[91m━━━━━━━━━━━━━━━━━━━━━━━━━━━━━━━━━\u001B[0m\u001B[91m╸\u001B[0m\u001B[90m━━━━\u001B[0m \u001B[32m160.4/181.3 MB\u001B[0m \u001B[31m53.6 MB/s\u001B[0m eta \u001B[36m0:00:01\u001B[0m\n\u001B[2K     \u001B[91m━━━━━━━━━━━━━━━━━━━━━━━━━━━━━━━━━\u001B[0m\u001B[91m╸\u001B[0m\u001B[90m━━━━\u001B[0m \u001B[32m160.4/181.3 MB\u001B[0m \u001B[31m53.6 MB/s\u001B[0m eta \u001B[36m0:00:01\u001B[0m\n\u001B[2K     \u001B[91m━━━━━━━━━━━━━━━━━━━━━━━━━━━━━━━━━━\u001B[0m\u001B[90m╺\u001B[0m\u001B[90m━━━\u001B[0m \u001B[32m162.5/181.3 MB\u001B[0m \u001B[31m40.7 MB/s\u001B[0m eta \u001B[36m0:00:01\u001B[0m\n\u001B[2K     \u001B[91m━━━━━━━━━━━━━━━━━━━━━━━━━━━━━━━━━━\u001B[0m\u001B[90m╺\u001B[0m\u001B[90m━━━\u001B[0m \u001B[32m162.5/181.3 MB\u001B[0m \u001B[31m40.7 MB/s\u001B[0m eta \u001B[36m0:00:01\u001B[0m\n\u001B[2K     \u001B[91m━━━━━━━━━━━━━━━━━━━━━━━━━━━━━━━━━━\u001B[0m\u001B[91m╸\u001B[0m\u001B[90m━━━\u001B[0m \u001B[32m164.8/181.3 MB\u001B[0m \u001B[31m32.4 MB/s\u001B[0m eta \u001B[36m0:00:01\u001B[0m\n\u001B[2K     \u001B[91m━━━━━━━━━━━━━━━━━━━━━━━━━━━━━━━━━━━\u001B[0m\u001B[91m╸\u001B[0m\u001B[90m━━\u001B[0m \u001B[32m169.5/181.3 MB\u001B[0m \u001B[31m49.4 MB/s\u001B[0m eta \u001B[36m0:00:01\u001B[0m\n\u001B[2K     \u001B[91m━━━━━━━━━━━━━━━━━━━━━━━━━━━━━━━━━━━━\u001B[0m\u001B[90m╺\u001B[0m\u001B[90m━\u001B[0m \u001B[32m172.0/181.3 MB\u001B[0m \u001B[31m69.3 MB/s\u001B[0m eta \u001B[36m0:00:01\u001B[0m\n\u001B[2K     \u001B[91m━━━━━━━━━━━━━━━━━━━━━━━━━━━━━━━━━━━\u001B[0m\u001B[91m╸\u001B[0m\u001B[90m━\u001B[0m \u001B[32m175.6/181.3 MB\u001B[0m \u001B[31m100.9 MB/s\u001B[0m eta \u001B[36m0:00:01\u001B[0m\n\u001B[2K     \u001B[91m━━━━━━━━━━━━━━━━━━━━━━━━━━━━━━━━━━━━\u001B[0m\u001B[91m╸\u001B[0m\u001B[90m━\u001B[0m \u001B[32m176.2/181.3 MB\u001B[0m \u001B[31m96.5 MB/s\u001B[0m eta \u001B[36m0:00:01\u001B[0m\n\u001B[2K     \u001B[91m━━━━━━━━━━━━━━━━━━━━━━━━━━━━━━━━━━━━━\u001B[0m\u001B[90m╺\u001B[0m \u001B[32m177.8/181.3 MB\u001B[0m \u001B[31m65.2 MB/s\u001B[0m eta \u001B[36m0:00:01\u001B[0m\n\u001B[2K     \u001B[91m━━━━━━━━━━━━━━━━━━━━━━━━━━━━━━━━━━━━━\u001B[0m\u001B[91m╸\u001B[0m \u001B[32m180.0/181.3 MB\u001B[0m \u001B[31m59.5 MB/s\u001B[0m eta \u001B[36m0:00:01\u001B[0m\n\u001B[2K     \u001B[91m━━━━━━━━━━━━━━━━━━━━━━━━━━━━━━━━━━━━━\u001B[0m\u001B[91m╸\u001B[0m \u001B[32m181.3/181.3 MB\u001B[0m \u001B[31m55.7 MB/s\u001B[0m eta \u001B[36m0:00:01\u001B[0m\n\u001B[2K     \u001B[91m━━━━━━━━━━━━━━━━━━━━━━━━━━━━━━━━━━━━━\u001B[0m\u001B[91m╸\u001B[0m \u001B[32m181.3/181.3 MB\u001B[0m \u001B[31m55.7 MB/s\u001B[0m eta \u001B[36m0:00:01\u001B[0m\n\u001B[2K     \u001B[91m━━━━━━━━━━━━━━━━━━━━━━━━━━━━━━━━━━━━━\u001B[0m\u001B[91m╸\u001B[0m \u001B[32m181.3/181.3 MB\u001B[0m \u001B[31m55.7 MB/s\u001B[0m eta \u001B[36m0:00:01\u001B[0m\n\u001B[2K     \u001B[91m━━━━━━━━━━━━━━━━━━━━━━━━━━━━━━━━━━━━━\u001B[0m\u001B[91m╸\u001B[0m \u001B[32m181.3/181.3 MB\u001B[0m \u001B[31m55.7 MB/s\u001B[0m eta \u001B[36m0:00:01\u001B[0m\n\u001B[2K     \u001B[91m━━━━━━━━━━━━━━━━━━━━━━━━━━━━━━━━━━━━━\u001B[0m\u001B[91m╸\u001B[0m \u001B[32m181.3/181.3 MB\u001B[0m \u001B[31m55.7 MB/s\u001B[0m eta \u001B[36m0:00:01\u001B[0m\n\u001B[2K     \u001B[91m━━━━━━━━━━━━━━━━━━━━━━━━━━━━━━━━━━━━━\u001B[0m\u001B[91m╸\u001B[0m \u001B[32m181.3/181.3 MB\u001B[0m \u001B[31m55.7 MB/s\u001B[0m eta \u001B[36m0:00:01\u001B[0m\n\u001B[2K     \u001B[91m━━━━━━━━━━━━━━━━━━━━━━━━━━━━━━━━━━━━━\u001B[0m\u001B[91m╸\u001B[0m \u001B[32m181.3/181.3 MB\u001B[0m \u001B[31m55.7 MB/s\u001B[0m eta \u001B[36m0:00:01\u001B[0m\n\u001B[2K     \u001B[91m━━━━━━━━━━━━━━━━━━━━━━━━━━━━━━━━━━━━━\u001B[0m\u001B[91m╸\u001B[0m \u001B[32m181.3/181.3 MB\u001B[0m \u001B[31m55.7 MB/s\u001B[0m eta \u001B[36m0:00:01\u001B[0m\n\u001B[2K     \u001B[91m━━━━━━━━━━━━━━━━━━━━━━━━━━━━━━━━━━━━━\u001B[0m\u001B[91m╸\u001B[0m \u001B[32m181.3/181.3 MB\u001B[0m \u001B[31m55.7 MB/s\u001B[0m eta \u001B[36m0:00:01\u001B[0m\n\u001B[2K     \u001B[91m━━━━━━━━━━━━━━━━━━━━━━━━━━━━━━━━━━━━━\u001B[0m\u001B[91m╸\u001B[0m \u001B[32m181.3/181.3 MB\u001B[0m \u001B[31m55.7 MB/s\u001B[0m eta \u001B[36m0:00:01\u001B[0m\n\u001B[2K     \u001B[91m━━━━━━━━━━━━━━━━━━━━━━━━━━━━━━━━━━━━━\u001B[0m\u001B[91m╸\u001B[0m \u001B[32m181.3/181.3 MB\u001B[0m \u001B[31m55.7 MB/s\u001B[0m eta \u001B[36m0:00:01\u001B[0m\n\u001B[2K     \u001B[91m━━━━━━━━━━━━━━━━━━━━━━━━━━━━━━━━━━━━━\u001B[0m\u001B[91m╸\u001B[0m \u001B[32m181.3/181.3 MB\u001B[0m \u001B[31m55.7 MB/s\u001B[0m eta \u001B[36m0:00:01\u001B[0m\n\u001B[2K     \u001B[91m━━━━━━━━━━━━━━━━━━━━━━━━━━━━━━━━━━━━━\u001B[0m\u001B[91m╸\u001B[0m \u001B[32m181.3/181.3 MB\u001B[0m \u001B[31m55.7 MB/s\u001B[0m eta \u001B[36m0:00:01\u001B[0m\n\u001B[2K     \u001B[91m━━━━━━━━━━━━━━━━━━━━━━━━━━━━━━━━━━━━━\u001B[0m\u001B[91m╸\u001B[0m \u001B[32m181.3/181.3 MB\u001B[0m \u001B[31m55.7 MB/s\u001B[0m eta \u001B[36m0:00:01\u001B[0m\n\u001B[2K     \u001B[91m━━━━━━━━━━━━━━━━━━━━━━━━━━━━━━━━━━━━━\u001B[0m\u001B[91m╸\u001B[0m \u001B[32m181.3/181.3 MB\u001B[0m \u001B[31m55.7 MB/s\u001B[0m eta \u001B[36m0:00:01\u001B[0m\n\u001B[2K     \u001B[91m━━━━━━━━━━━━━━━━━━━━━━━━━━━━━━━━━━━━━\u001B[0m\u001B[91m╸\u001B[0m \u001B[32m181.3/181.3 MB\u001B[0m \u001B[31m55.7 MB/s\u001B[0m eta \u001B[36m0:00:01\u001B[0m\n\u001B[2K     \u001B[91m━━━━━━━━━━━━━━━━━━━━━━━━━━━━━━━━━━━━━\u001B[0m\u001B[91m╸\u001B[0m \u001B[32m181.3/181.3 MB\u001B[0m \u001B[31m55.7 MB/s\u001B[0m eta \u001B[36m0:00:01\u001B[0m\n\u001B[2K     \u001B[91m━━━━━━━━━━━━━━━━━━━━━━━━━━━━━━━━━━━━━\u001B[0m\u001B[91m╸\u001B[0m \u001B[32m181.3/181.3 MB\u001B[0m \u001B[31m55.7 MB/s\u001B[0m eta \u001B[36m0:00:01\u001B[0m\n\u001B[2K     \u001B[91m━━━━━━━━━━━━━━━━━━━━━━━━━━━━━━━━━━━━━\u001B[0m\u001B[91m╸\u001B[0m \u001B[32m181.3/181.3 MB\u001B[0m \u001B[31m55.7 MB/s\u001B[0m eta \u001B[36m0:00:01\u001B[0m\n\u001B[2K     \u001B[91m━━━━━━━━━━━━━━━━━━━━━━━━━━━━━━━━━━━━━\u001B[0m\u001B[91m╸\u001B[0m \u001B[32m181.3/181.3 MB\u001B[0m \u001B[31m55.7 MB/s\u001B[0m eta \u001B[36m0:00:01\u001B[0m\n\u001B[2K     \u001B[91m━━━━━━━━━━━━━━━━━━━━━━━━━━━━━━━━━━━━━\u001B[0m\u001B[91m╸\u001B[0m \u001B[32m181.3/181.3 MB\u001B[0m \u001B[31m55.7 MB/s\u001B[0m eta \u001B[36m0:00:01\u001B[0m\n\u001B[2K     \u001B[91m━━━━━━━━━━━━━━━━━━━━━━━━━━━━━━━━━━━━━\u001B[0m\u001B[91m╸\u001B[0m \u001B[32m181.3/181.3 MB\u001B[0m \u001B[31m55.7 MB/s\u001B[0m eta \u001B[36m0:00:01\u001B[0m\n\u001B[2K     \u001B[91m━━━━━━━━━━━━━━━━━━━━━━━━━━━━━━━━━━━━━\u001B[0m\u001B[91m╸\u001B[0m \u001B[32m181.3/181.3 MB\u001B[0m \u001B[31m55.7 MB/s\u001B[0m eta \u001B[36m0:00:01\u001B[0m\n\u001B[2K     \u001B[91m━━━━━━━━━━━━━━━━━━━━━━━━━━━━━━━━━━━━━\u001B[0m\u001B[91m╸\u001B[0m \u001B[32m181.3/181.3 MB\u001B[0m \u001B[31m55.7 MB/s\u001B[0m eta \u001B[36m0:00:01\u001B[0m\n\u001B[2K     \u001B[91m━━━━━━━━━━━━━━━━━━━━━━━━━━━━━━━━━━━━━\u001B[0m\u001B[91m╸\u001B[0m \u001B[32m181.3/181.3 MB\u001B[0m \u001B[31m55.7 MB/s\u001B[0m eta \u001B[36m0:00:01\u001B[0m\n\u001B[2K     \u001B[91m━━━━━━━━━━━━━━━━━━━━━━━━━━━━━━━━━━━━━\u001B[0m\u001B[91m╸\u001B[0m \u001B[32m181.3/181.3 MB\u001B[0m \u001B[31m55.7 MB/s\u001B[0m eta \u001B[36m0:00:01\u001B[0m\n\u001B[2K     \u001B[91m━━━━━━━━━━━━━━━━━━━━━━━━━━━━━━━━━━━━━\u001B[0m\u001B[91m╸\u001B[0m \u001B[32m181.3/181.3 MB\u001B[0m \u001B[31m55.7 MB/s\u001B[0m eta \u001B[36m0:00:01\u001B[0m\n\u001B[2K     \u001B[91m━━━━━━━━━━━━━━━━━━━━━━━━━━━━━━━━━━━━━\u001B[0m\u001B[91m╸\u001B[0m \u001B[32m181.3/181.3 MB\u001B[0m \u001B[31m55.7 MB/s\u001B[0m eta \u001B[36m0:00:01\u001B[0m\n\u001B[2K     \u001B[91m━━━━━━━━━━━━━━━━━━━━━━━━━━━━━━━━━━━━━\u001B[0m\u001B[91m╸\u001B[0m \u001B[32m181.3/181.3 MB\u001B[0m \u001B[31m55.7 MB/s\u001B[0m eta \u001B[36m0:00:01\u001B[0m\n\u001B[2K     \u001B[91m━━━━━━━━━━━━━━━━━━━━━━━━━━━━━━━━━━━━━\u001B[0m\u001B[91m╸\u001B[0m \u001B[32m181.3/181.3 MB\u001B[0m \u001B[31m55.7 MB/s\u001B[0m eta \u001B[36m0:00:01\u001B[0m\n\u001B[2K     \u001B[91m━━━━━━━━━━━━━━━━━━━━━━━━━━━━━━━━━━━━━\u001B[0m\u001B[91m╸\u001B[0m \u001B[32m181.3/181.3 MB\u001B[0m \u001B[31m55.7 MB/s\u001B[0m eta \u001B[36m0:00:01\u001B[0m\n\u001B[2K     \u001B[91m━━━━━━━━━━━━━━━━━━━━━━━━━━━━━━━━━━━━━\u001B[0m\u001B[91m╸\u001B[0m \u001B[32m181.3/181.3 MB\u001B[0m \u001B[31m55.7 MB/s\u001B[0m eta \u001B[36m0:00:01\u001B[0m\n\u001B[2K     \u001B[91m━━━━━━━━━━━━━━━━━━━━━━━━━━━━━━━━━━━━━\u001B[0m\u001B[91m╸\u001B[0m \u001B[32m181.3/181.3 MB\u001B[0m \u001B[31m55.7 MB/s\u001B[0m eta \u001B[36m0:00:01\u001B[0m\n\u001B[2K     \u001B[91m━━━━━━━━━━━━━━━━━━━━━━━━━━━━━━━━━━━━━\u001B[0m\u001B[91m╸\u001B[0m \u001B[32m181.3/181.3 MB\u001B[0m \u001B[31m55.7 MB/s\u001B[0m eta \u001B[36m0:00:01\u001B[0m\n\u001B[2K     \u001B[91m━━━━━━━━━━━━━━━━━━━━━━━━━━━━━━━━━━━━━\u001B[0m\u001B[91m╸\u001B[0m \u001B[32m181.3/181.3 MB\u001B[0m \u001B[31m55.7 MB/s\u001B[0m eta \u001B[36m0:00:01\u001B[0m\n\u001B[2K     \u001B[91m━━━━━━━━━━━━━━━━━━━━━━━━━━━━━━━━━━━━━\u001B[0m\u001B[91m╸\u001B[0m \u001B[32m181.3/181.3 MB\u001B[0m \u001B[31m55.7 MB/s\u001B[0m eta \u001B[36m0:00:01\u001B[0m\n\u001B[2K     \u001B[91m━━━━━━━━━━━━━━━━━━━━━━━━━━━━━━━━━━━━━\u001B[0m\u001B[91m╸\u001B[0m \u001B[32m181.3/181.3 MB\u001B[0m \u001B[31m55.7 MB/s\u001B[0m eta \u001B[36m0:00:01\u001B[0m\n\u001B[2K     \u001B[91m━━━━━━━━━━━━━━━━━━━━━━━━━━━━━━━━━━━━━\u001B[0m\u001B[91m╸\u001B[0m \u001B[32m181.3/181.3 MB\u001B[0m \u001B[31m55.7 MB/s\u001B[0m eta \u001B[36m0:00:01\u001B[0m\n\u001B[2K     \u001B[91m━━━━━━━━━━━━━━━━━━━━━━━━━━━━━━━━━━━━━\u001B[0m\u001B[91m╸\u001B[0m \u001B[32m181.3/181.3 MB\u001B[0m \u001B[31m55.7 MB/s\u001B[0m eta \u001B[36m0:00:01\u001B[0m\n\u001B[2K     \u001B[91m━━━━━━━━━━━━━━━━━━━━━━━━━━━━━━━━━━━━━\u001B[0m\u001B[91m╸\u001B[0m \u001B[32m181.3/181.3 MB\u001B[0m \u001B[31m55.7 MB/s\u001B[0m eta \u001B[36m0:00:01\u001B[0m\n\u001B[2K     \u001B[91m━━━━━━━━━━━━━━━━━━━━━━━━━━━━━━━━━━━━━\u001B[0m\u001B[91m╸\u001B[0m \u001B[32m181.3/181.3 MB\u001B[0m \u001B[31m55.7 MB/s\u001B[0m eta \u001B[36m0:00:01\u001B[0m\n\u001B[2K     \u001B[91m━━━━━━━━━━━━━━━━━━━━━━━━━━━━━━━━━━━━━\u001B[0m\u001B[91m╸\u001B[0m \u001B[32m181.3/181.3 MB\u001B[0m \u001B[31m55.7 MB/s\u001B[0m eta \u001B[36m0:00:01\u001B[0m\n\u001B[2K     \u001B[91m━━━━━━━━━━━━━━━━━━━━━━━━━━━━━━━━━━━━━\u001B[0m\u001B[91m╸\u001B[0m \u001B[32m181.3/181.3 MB\u001B[0m \u001B[31m55.7 MB/s\u001B[0m eta \u001B[36m0:00:01\u001B[0m\n\u001B[2K     \u001B[91m━━━━━━━━━━━━━━━━━━━━━━━━━━━━━━━━━━━━━\u001B[0m\u001B[91m╸\u001B[0m \u001B[32m181.3/181.3 MB\u001B[0m \u001B[31m55.7 MB/s\u001B[0m eta \u001B[36m0:00:01\u001B[0m\n\u001B[2K     \u001B[91m━━━━━━━━━━━━━━━━━━━━━━━━━━━━━━━━━━━━━\u001B[0m\u001B[91m╸\u001B[0m \u001B[32m181.3/181.3 MB\u001B[0m \u001B[31m55.7 MB/s\u001B[0m eta \u001B[36m0:00:01\u001B[0m\n\u001B[2K     \u001B[91m━━━━━━━━━━━━━━━━━━━━━━━━━━━━━━━━━━━━━\u001B[0m\u001B[91m╸\u001B[0m \u001B[32m181.3/181.3 MB\u001B[0m \u001B[31m55.7 MB/s\u001B[0m eta \u001B[36m0:00:01\u001B[0m\n\u001B[2K     \u001B[91m━━━━━━━━━━━━━━━━━━━━━━━━━━━━━━━━━━━━━\u001B[0m\u001B[91m╸\u001B[0m \u001B[32m181.3/181.3 MB\u001B[0m \u001B[31m55.7 MB/s\u001B[0m eta \u001B[36m0:00:01\u001B[0m\n\u001B[2K     \u001B[91m━━━━━━━━━━━━━━━━━━━━━━━━━━━━━━━━━━━━━\u001B[0m\u001B[91m╸\u001B[0m \u001B[32m181.3/181.3 MB\u001B[0m \u001B[31m55.7 MB/s\u001B[0m eta \u001B[36m0:00:01\u001B[0m\n\u001B[2K     \u001B[91m━━━━━━━━━━━━━━━━━━━━━━━━━━━━━━━━━━━━━\u001B[0m\u001B[91m╸\u001B[0m \u001B[32m181.3/181.3 MB\u001B[0m \u001B[31m55.7 MB/s\u001B[0m eta \u001B[36m0:00:01\u001B[0m\n\u001B[2K     \u001B[91m━━━━━━━━━━━━━━━━━━━━━━━━━━━━━━━━━━━━━\u001B[0m\u001B[91m╸\u001B[0m \u001B[32m181.3/181.3 MB\u001B[0m \u001B[31m55.7 MB/s\u001B[0m eta \u001B[36m0:00:01\u001B[0m\n\u001B[2K     \u001B[91m━━━━━━━━━━━━━━━━━━━━━━━━━━━━━━━━━━━━━\u001B[0m\u001B[91m╸\u001B[0m \u001B[32m181.3/181.3 MB\u001B[0m \u001B[31m55.7 MB/s\u001B[0m eta \u001B[36m0:00:01\u001B[0m\n\u001B[2K     \u001B[91m━━━━━━━━━━━━━━━━━━━━━━━━━━━━━━━━━━━━━\u001B[0m\u001B[91m╸\u001B[0m \u001B[32m181.3/181.3 MB\u001B[0m \u001B[31m55.7 MB/s\u001B[0m eta \u001B[36m0:00:01\u001B[0m\n\u001B[2K     \u001B[91m━━━━━━━━━━━━━━━━━━━━━━━━━━━━━━━━━━━━━\u001B[0m\u001B[91m╸\u001B[0m \u001B[32m181.3/181.3 MB\u001B[0m \u001B[31m55.7 MB/s\u001B[0m eta \u001B[36m0:00:01\u001B[0m\n\u001B[2K     \u001B[91m━━━━━━━━━━━━━━━━━━━━━━━━━━━━━━━━━━━━━\u001B[0m\u001B[91m╸\u001B[0m \u001B[32m181.3/181.3 MB\u001B[0m \u001B[31m55.7 MB/s\u001B[0m eta \u001B[36m0:00:01\u001B[0m\n\u001B[2K     \u001B[91m━━━━━━━━━━━━━━━━━━━━━━━━━━━━━━━━━━━━━\u001B[0m\u001B[91m╸\u001B[0m \u001B[32m181.3/181.3 MB\u001B[0m \u001B[31m55.7 MB/s\u001B[0m eta \u001B[36m0:00:01\u001B[0m\n\u001B[2K     \u001B[91m━━━━━━━━━━━━━━━━━━━━━━━━━━━━━━━━━━━━━\u001B[0m\u001B[91m╸\u001B[0m \u001B[32m181.3/181.3 MB\u001B[0m \u001B[31m55.7 MB/s\u001B[0m eta \u001B[36m0:00:01\u001B[0m\n\u001B[2K     \u001B[91m━━━━━━━━━━━━━━━━━━━━━━━━━━━━━━━━━━━━━\u001B[0m\u001B[91m╸\u001B[0m \u001B[32m181.3/181.3 MB\u001B[0m \u001B[31m55.7 MB/s\u001B[0m eta \u001B[36m0:00:01\u001B[0m\n\u001B[2K     \u001B[91m━━━━━━━━━━━━━━━━━━━━━━━━━━━━━━━━━━━━━\u001B[0m\u001B[91m╸\u001B[0m \u001B[32m181.3/181.3 MB\u001B[0m \u001B[31m55.7 MB/s\u001B[0m eta \u001B[36m0:00:01\u001B[0m\n\u001B[2K     \u001B[91m━━━━━━━━━━━━━━━━━━━━━━━━━━━━━━━━━━━━━\u001B[0m\u001B[91m╸\u001B[0m \u001B[32m181.3/181.3 MB\u001B[0m \u001B[31m55.7 MB/s\u001B[0m eta \u001B[36m0:00:01\u001B[0m\n\u001B[2K     \u001B[91m━━━━━━━━━━━━━━━━━━━━━━━━━━━━━━━━━━━━━\u001B[0m\u001B[91m╸\u001B[0m \u001B[32m181.3/181.3 MB\u001B[0m \u001B[31m55.7 MB/s\u001B[0m eta \u001B[36m0:00:01\u001B[0m\n\u001B[2K     \u001B[91m━━━━━━━━━━━━━━━━━━━━━━━━━━━━━━━━━━━━━\u001B[0m\u001B[91m╸\u001B[0m \u001B[32m181.3/181.3 MB\u001B[0m \u001B[31m55.7 MB/s\u001B[0m eta \u001B[36m0:00:01\u001B[0m\n\u001B[2K     \u001B[91m━━━━━━━━━━━━━━━━━━━━━━━━━━━━━━━━━━━━━\u001B[0m\u001B[91m╸\u001B[0m \u001B[32m181.3/181.3 MB\u001B[0m \u001B[31m55.7 MB/s\u001B[0m eta \u001B[36m0:00:01\u001B[0m\n\u001B[2K     \u001B[91m━━━━━━━━━━━━━━━━━━━━━━━━━━━━━━━━━━━━━\u001B[0m\u001B[91m╸\u001B[0m \u001B[32m181.3/181.3 MB\u001B[0m \u001B[31m55.7 MB/s\u001B[0m eta \u001B[36m0:00:01\u001B[0m\n\u001B[2K     \u001B[91m━━━━━━━━━━━━━━━━━━━━━━━━━━━━━━━━━━━━━\u001B[0m\u001B[91m╸\u001B[0m \u001B[32m181.3/181.3 MB\u001B[0m \u001B[31m55.7 MB/s\u001B[0m eta \u001B[36m0:00:01\u001B[0m\n\u001B[2K     \u001B[91m━━━━━━━━━━━━━━━━━━━━━━━━━━━━━━━━━━━━━\u001B[0m\u001B[91m╸\u001B[0m \u001B[32m181.3/181.3 MB\u001B[0m \u001B[31m55.7 MB/s\u001B[0m eta \u001B[36m0:00:01\u001B[0m\n\u001B[2K     \u001B[91m━━━━━━━━━━━━━━━━━━━━━━━━━━━━━━━━━━━━━\u001B[0m\u001B[91m╸\u001B[0m \u001B[32m181.3/181.3 MB\u001B[0m \u001B[31m55.7 MB/s\u001B[0m eta \u001B[36m0:00:01\u001B[0m\n\u001B[2K     \u001B[91m━━━━━━━━━━━━━━━━━━━━━━━━━━━━━━━━━━━━━\u001B[0m\u001B[91m╸\u001B[0m \u001B[32m181.3/181.3 MB\u001B[0m \u001B[31m55.7 MB/s\u001B[0m eta \u001B[36m0:00:01\u001B[0m\n\u001B[2K     \u001B[91m━━━━━━━━━━━━━━━━━━━━━━━━━━━━━━━━━━━━━\u001B[0m\u001B[91m╸\u001B[0m \u001B[32m181.3/181.3 MB\u001B[0m \u001B[31m55.7 MB/s\u001B[0m eta \u001B[36m0:00:01\u001B[0m\n\u001B[2K     \u001B[91m━━━━━━━━━━━━━━━━━━━━━━━━━━━━━━━━━━━━━\u001B[0m\u001B[91m╸\u001B[0m \u001B[32m181.3/181.3 MB\u001B[0m \u001B[31m55.7 MB/s\u001B[0m eta \u001B[36m0:00:01\u001B[0m\n\u001B[2K     \u001B[91m━━━━━━━━━━━━━━━━━━━━━━━━━━━━━━━━━━━━━\u001B[0m\u001B[91m╸\u001B[0m \u001B[32m181.3/181.3 MB\u001B[0m \u001B[31m55.7 MB/s\u001B[0m eta \u001B[36m0:00:01\u001B[0m\n\u001B[2K     \u001B[91m━━━━━━━━━━━━━━━━━━━━━━━━━━━━━━━━━━━━━\u001B[0m\u001B[91m╸\u001B[0m \u001B[32m181.3/181.3 MB\u001B[0m \u001B[31m55.7 MB/s\u001B[0m eta \u001B[36m0:00:01\u001B[0m\n\u001B[2K     \u001B[91m━━━━━━━━━━━━━━━━━━━━━━━━━━━━━━━━━━━━━\u001B[0m\u001B[91m╸\u001B[0m \u001B[32m181.3/181.3 MB\u001B[0m \u001B[31m55.7 MB/s\u001B[0m eta \u001B[36m0:00:01\u001B[0m\n\u001B[2K     \u001B[91m━━━━━━━━━━━━━━━━━━━━━━━━━━━━━━━━━━━━━\u001B[0m\u001B[91m╸\u001B[0m \u001B[32m181.3/181.3 MB\u001B[0m \u001B[31m55.7 MB/s\u001B[0m eta \u001B[36m0:00:01\u001B[0m\n\u001B[2K     \u001B[91m━━━━━━━━━━━━━━━━━━━━━━━━━━━━━━━━━━━━━\u001B[0m\u001B[91m╸\u001B[0m \u001B[32m181.3/181.3 MB\u001B[0m \u001B[31m55.7 MB/s\u001B[0m eta \u001B[36m0:00:01\u001B[0m\n\u001B[2K     \u001B[91m━━━━━━━━━━━━━━━━━━━━━━━━━━━━━━━━━━━━━\u001B[0m\u001B[91m╸\u001B[0m \u001B[32m181.3/181.3 MB\u001B[0m \u001B[31m55.7 MB/s\u001B[0m eta \u001B[36m0:00:01\u001B[0m\n\u001B[2K     \u001B[91m━━━━━━━━━━━━━━━━━━━━━━━━━━━━━━━━━━━━━\u001B[0m\u001B[91m╸\u001B[0m \u001B[32m181.3/181.3 MB\u001B[0m \u001B[31m55.7 MB/s\u001B[0m eta \u001B[36m0:00:01\u001B[0m\n\u001B[2K     \u001B[91m━━━━━━━━━━━━━━━━━━━━━━━━━━━━━━━━━━━━━\u001B[0m\u001B[91m╸\u001B[0m \u001B[32m181.3/181.3 MB\u001B[0m \u001B[31m55.7 MB/s\u001B[0m eta \u001B[36m0:00:01\u001B[0m\n\u001B[2K     \u001B[91m━━━━━━━━━━━━━━━━━━━━━━━━━━━━━━━━━━━━━\u001B[0m\u001B[91m╸\u001B[0m \u001B[32m181.3/181.3 MB\u001B[0m \u001B[31m55.7 MB/s\u001B[0m eta \u001B[36m0:00:01\u001B[0m\n\u001B[2K     \u001B[91m━━━━━━━━━━━━━━━━━━━━━━━━━━━━━━━━━━━━━\u001B[0m\u001B[91m╸\u001B[0m \u001B[32m181.3/181.3 MB\u001B[0m \u001B[31m55.7 MB/s\u001B[0m eta \u001B[36m0:00:01\u001B[0m\n\u001B[2K     \u001B[90m━━━━━━━━━━━━━━━━━━━━━━━━━━━━━━━━━━━━━━━\u001B[0m \u001B[32m181.3/181.3 MB\u001B[0m \u001B[31m3.0 MB/s\u001B[0m eta \u001B[36m0:00:00\u001B[0m\n\u001B[?25h  Preparing metadata (setup.py): started\n  Preparing metadata (setup.py): finished with status 'done'\nCollecting pyarrow==11.0.0\n  Obtaining dependency information for pyarrow==11.0.0 from https://files.pythonhosted.org/packages/83/4a/d5cce2a703e0249e161b63b86f1676d08afcfe8186feccf5c55730ece1c2/pyarrow-11.0.0-cp311-cp311-manylinux_2_17_x86_64.manylinux2014_x86_64.whl.metadata\n  Downloading pyarrow-11.0.0-cp311-cp311-manylinux_2_17_x86_64.manylinux2014_x86_64.whl.metadata (3.0 kB)\nRequirement already satisfied: plotly in /databricks/python3/lib/python3.11/site-packages (5.9.0)\nCollecting py4j==0.10.4 (from pyspark==2.1.2)\n  Obtaining dependency information for py4j==0.10.4 from https://files.pythonhosted.org/packages/93/a7/0e1719e8ad34d194aae72dc07a37e65fd3895db7c797a67a828333cd6067/py4j-0.10.4-py2.py3-none-any.whl.metadata\n  Downloading py4j-0.10.4-py2.py3-none-any.whl.metadata (1.3 kB)\nRequirement already satisfied: numpy>=1.16.6 in /databricks/python3/lib/python3.11/site-packages (from pyarrow==11.0.0) (1.23.5)\nRequirement already satisfied: python-dateutil>=2.8.1 in /databricks/python3/lib/python3.11/site-packages (from pandas) (2.8.2)\nRequirement already satisfied: pytz>=2020.1 in /databricks/python3/lib/python3.11/site-packages (from pandas) (2022.7)\nRequirement already satisfied: contourpy>=1.0.1 in /databricks/python3/lib/python3.11/site-packages (from matplotlib) (1.0.5)\nRequirement already satisfied: cycler>=0.10 in /databricks/python3/lib/python3.11/site-packages (from matplotlib) (0.11.0)\nRequirement already satisfied: fonttools>=4.22.0 in /databricks/python3/lib/python3.11/site-packages (from matplotlib) (4.25.0)\nRequirement already satisfied: kiwisolver>=1.0.1 in /databricks/python3/lib/python3.11/site-packages (from matplotlib) (1.4.4)\nRequirement already satisfied: packaging>=20.0 in /databricks/python3/lib/python3.11/site-packages (from matplotlib) (23.2)\nRequirement already satisfied: pillow>=6.2.0 in /databricks/python3/lib/python3.11/site-packages (from matplotlib) (9.4.0)\nRequirement already satisfied: pyparsing<3.1,>=2.3.1 in /databricks/python3/lib/python3.11/site-packages (from matplotlib) (3.0.9)\nINFO: pip is looking at multiple versions of deltalake to determine which version is compatible with other requirements. This could take a while.\nCollecting deltalake\n  Obtaining dependency information for deltalake from https://files.pythonhosted.org/packages/76/51/bc0eeb088c4bdea4628afcfeb0f4bbe254baa8ddfeba05ba2f34468a9d25/deltalake-0.21.0-cp38-abi3-manylinux_2_17_x86_64.manylinux2014_x86_64.whl.metadata\n  Downloading deltalake-0.21.0-cp38-abi3-manylinux_2_17_x86_64.manylinux2014_x86_64.whl.metadata (5.0 kB)\n  Obtaining dependency information for deltalake from https://files.pythonhosted.org/packages/f2/f7/e5fb8f63f76412afe12021e608cfc3fb09ab42aa144e89278beae2e5161f/deltalake-0.20.2-cp38-abi3-manylinux_2_17_x86_64.manylinux2014_x86_64.whl.metadata\n  Downloading deltalake-0.20.2-cp38-abi3-manylinux_2_17_x86_64.manylinux2014_x86_64.whl.metadata (5.0 kB)\n  Obtaining dependency information for deltalake from https://files.pythonhosted.org/packages/17/7d/fcca43592258b39674cfbb8729f9e875a94766b8e55ebb671aa893c20612/deltalake-0.20.1-cp38-abi3-manylinux_2_17_x86_64.manylinux2014_x86_64.whl.metadata\n  Downloading deltalake-0.20.1-cp38-abi3-manylinux_2_17_x86_64.manylinux2014_x86_64.whl.metadata (5.0 kB)\n  Obtaining dependency information for deltalake from https://files.pythonhosted.org/packages/89/63/b21dca553e3f9a390c0e6528d586765c809455b22cd4b9326dfe208892c7/deltalake-0.20.0-cp38-abi3-manylinux_2_17_x86_64.manylinux2014_x86_64.whl.metadata\n  Downloading deltalake-0.20.0-cp38-abi3-manylinux_2_17_x86_64.manylinux2014_x86_64.whl.metadata (5.0 kB)\n  Obtaining dependency information for deltalake from https://files.pythonhosted.org/packages/65/23/b0db4948e576bd6f2fe9f565ac336c9c6832faba55feac07adb84e0a24b5/deltalake-0.19.2-cp38-abi3-manylinux_2_17_x86_64.manylinux2014_x86_64.whl.metadata\n  Downloading deltalake-0.19.2-cp38-abi3-manylinux_2_17_x86_64.manylinux2014_x86_64.whl.metadata (5.0 kB)\n  Obtaining dependency information for deltalake from https://files.pythonhosted.org/packages/60/c5/08df0d03c01bad85a290ad057358fbba570e88d7c2e97fe983594b8d0729/deltalake-0.19.1-cp38-abi3-manylinux_2_17_x86_64.manylinux2014_x86_64.whl.metadata\n  Downloading deltalake-0.19.1-cp38-abi3-manylinux_2_17_x86_64.manylinux2014_x86_64.whl.metadata (5.0 kB)\n  Obtaining dependency information for deltalake from https://files.pythonhosted.org/packages/4c/64/a6951f2485ee91ced40707e454a977db9e6cdefedafb876dcfb376d2e895/deltalake-0.19.0-cp38-abi3-manylinux_2_17_x86_64.manylinux2014_x86_64.whl.metadata\n  Downloading deltalake-0.19.0-cp38-abi3-manylinux_2_17_x86_64.manylinux2014_x86_64.whl.metadata (5.0 kB)\nINFO: pip is still looking at multiple versions of deltalake to determine which version is compatible with other requirements. This could take a while.\n  Obtaining dependency information for deltalake from https://files.pythonhosted.org/packages/0d/b9/bfdd92bb9d576f5144d1684eaeeaa48ded60dc9ba570f55f0ebbdc22944c/deltalake-0.18.2-cp38-abi3-manylinux_2_17_x86_64.manylinux2014_x86_64.whl.metadata\n  Downloading deltalake-0.18.2-cp38-abi3-manylinux_2_17_x86_64.manylinux2014_x86_64.whl.metadata (5.1 kB)\nRequirement already satisfied: pyarrow-hotfix in /databricks/python3/lib/python3.11/site-packages (from deltalake) (0.6)\nRequirement already satisfied: tenacity>=6.2.0 in /databricks/python3/lib/python3.11/site-packages (from plotly) (8.2.2)\nRequirement already satisfied: six>=1.5 in /usr/lib/python3/dist-packages (from python-dateutil>=2.8.1->pandas) (1.16.0)\nDownloading pyarrow-11.0.0-cp311-cp311-manylinux_2_17_x86_64.manylinux2014_x86_64.whl (34.9 MB)\n\u001B[?25l   \u001B[90m━━━━━━━━━━━━━━━━━━━━━━━━━━━━━━━━━━━━━━━━\u001B[0m \u001B[32m0.0/34.9 MB\u001B[0m \u001B[31m?\u001B[0m eta \u001B[36m-:--:--\u001B[0m\n\u001B[2K   \u001B[91m━━━━━━\u001B[0m\u001B[90m╺\u001B[0m\u001B[90m━━━━━━━━━━━━━━━━━━━━━━━━━━━━━━━━━\u001B[0m \u001B[32m5.5/34.9 MB\u001B[0m \u001B[31m164.6 MB/s\u001B[0m eta \u001B[36m0:00:01\u001B[0m\n\u001B[2K   \u001B[91m━━━━━━━━━━━━━\u001B[0m\u001B[91m╸\u001B[0m\u001B[90m━━━━━━━━━━━━━━━━━━━━━━━━━━\u001B[0m \u001B[32m12.1/34.9 MB\u001B[0m \u001B[31m172.7 MB/s\u001B[0m eta \u001B[36m0:00:01\u001B[0m\n\u001B[2K   \u001B[91m━━━━━━━━━━━━━━━━━━━━\u001B[0m\u001B[90m╺\u001B[0m\u001B[90m━━━━━━━━━━━━━━━━━━━\u001B[0m \u001B[32m17.7/34.9 MB\u001B[0m \u001B[31m174.7 MB/s\u001B[0m eta \u001B[36m0:00:01\u001B[0m\n\u001B[2K   \u001B[91m━━━━━━━━━━━━━━━━━━━━━━━━━━━\u001B[0m\u001B[90m╺\u001B[0m\u001B[90m━━━━━━━━━━━━\u001B[0m \u001B[32m23.7/34.9 MB\u001B[0m \u001B[31m164.7 MB/s\u001B[0m eta \u001B[36m0:00:01\u001B[0m\n\u001B[2K   \u001B[91m━━━━━━━━━━━━━━━━━━━━━━━━━━━━━━━━━\u001B[0m\u001B[91m╸\u001B[0m\u001B[90m━━━━━━\u001B[0m \u001B[32m29.5/34.9 MB\u001B[0m \u001B[31m152.4 MB/s\u001B[0m eta \u001B[36m0:00:01\u001B[0m\n\u001B[2K   \u001B[91m━━━━━━━━━━━━━━━━━━━━━━━━━━━━━━━━━━━━━━━\u001B[0m\u001B[91m╸\u001B[0m \u001B[32m34.5/34.9 MB\u001B[0m \u001B[31m155.6 MB/s\u001B[0m eta \u001B[36m0:00:01\u001B[0m\n\u001B[2K   \u001B[91m━━━━━━━━━━━━━━━━━━━━━━━━━━━━━━━━━━━━━━━\u001B[0m\u001B[91m╸\u001B[0m \u001B[32m34.9/34.9 MB\u001B[0m \u001B[31m138.7 MB/s\u001B[0m eta \u001B[36m0:00:01\u001B[0m\n\u001B[2K   \u001B[91m━━━━━━━━━━━━━━━━━━━━━━━━━━━━━━━━━━━━━━━\u001B[0m\u001B[91m╸\u001B[0m \u001B[32m34.9/34.9 MB\u001B[0m \u001B[31m138.7 MB/s\u001B[0m eta \u001B[36m0:00:01\u001B[0m\n\u001B[2K   \u001B[91m━━━━━━━━━━━━━━━━━━━━━━━━━━━━━━━━━━━━━━━\u001B[0m\u001B[91m╸\u001B[0m \u001B[32m34.9/34.9 MB\u001B[0m \u001B[31m138.7 MB/s\u001B[0m eta \u001B[36m0:00:01\u001B[0m\n\u001B[2K   \u001B[91m━━━━━━━━━━━━━━━━━━━━━━━━━━━━━━━━━━━━━━━\u001B[0m\u001B[91m╸\u001B[0m \u001B[32m34.9/34.9 MB\u001B[0m \u001B[31m138.7 MB/s\u001B[0m eta \u001B[36m0:00:01\u001B[0m\n\u001B[2K   \u001B[90m━━━━━━━━━━━━━━━━━━━━━━━━━━━━━━━━━━━━━━━━\u001B[0m \u001B[32m34.9/34.9 MB\u001B[0m \u001B[31m47.2 MB/s\u001B[0m eta \u001B[36m0:00:00\u001B[0m\n\u001B[?25hDownloading py4j-0.10.4-py2.py3-none-any.whl (186 kB)\n\u001B[?25l   \u001B[90m━━━━━━━━━━━━━━━━━━━━━━━━━━━━━━━━━━━━━━━━\u001B[0m \u001B[32m0.0/186.6 kB\u001B[0m \u001B[31m?\u001B[0m eta \u001B[36m-:--:--\u001B[0m\n\u001B[2K   \u001B[90m━━━━━━━━━━━━━━━━━━━━━━━━━━━━━━━━━━━━━━━━\u001B[0m \u001B[32m186.6/186.6 kB\u001B[0m \u001B[31m37.6 MB/s\u001B[0m eta \u001B[36m0:00:00\u001B[0m\n\u001B[?25hDownloading pygame-2.6.1-cp311-cp311-manylinux_2_17_x86_64.manylinux2014_x86_64.whl (14.0 MB)\n\u001B[?25l   \u001B[90m━━━━━━━━━━━━━━━━━━━━━━━━━━━━━━━━━━━━━━━━\u001B[0m \u001B[32m0.0/14.0 MB\u001B[0m \u001B[31m?\u001B[0m eta \u001B[36m-:--:--\u001B[0m\n\u001B[2K   \u001B[91m━━━━━━━━━━━━━━━━━━━━━\u001B[0m\u001B[91m╸\u001B[0m\u001B[90m━━━━━━━━━━━━━━━━━━\u001B[0m \u001B[32m7.5/14.0 MB\u001B[0m \u001B[31m180.2 MB/s\u001B[0m eta \u001B[36m0:00:01\u001B[0m\n\u001B[2K   \u001B[91m━━━━━━━━━━━━━━━━━━━━━━━━━━━━━━━━━━━━━━━\u001B[0m\u001B[91m╸\u001B[0m \u001B[32m14.0/14.0 MB\u001B[0m \u001B[31m192.4 MB/s\u001B[0m eta \u001B[36m0:00:01\u001B[0m\n\u001B[2K   \u001B[91m━━━━━━━━━━━━━━━━━━━━━━━━━━━━━━━━━━━━━━━\u001B[0m\u001B[91m╸\u001B[0m \u001B[32m14.0/14.0 MB\u001B[0m \u001B[31m192.4 MB/s\u001B[0m eta \u001B[36m0:00:01\u001B[0m\n\u001B[2K   \u001B[90m━━━━━━━━━━━━━━━━━━━━━━━━━━━━━━━━━━━━━━━━\u001B[0m \u001B[32m14.0/14.0 MB\u001B[0m \u001B[31m98.2 MB/s\u001B[0m eta \u001B[36m0:00:00\u001B[0m\n\u001B[?25hDownloading deltalake-0.18.2-cp38-abi3-manylinux_2_17_x86_64.manylinux2014_x86_64.whl (34.6 MB)\n\u001B[?25l   \u001B[90m━━━━━━━━━━━━━━━━━━━━━━━━━━━━━━━━━━━━━━━━\u001B[0m \u001B[32m0.0/34.6 MB\u001B[0m \u001B[31m?\u001B[0m eta \u001B[36m-:--:--\u001B[0m\n\u001B[2K   \u001B[91m━━━━━━━\u001B[0m\u001B[91m╸\u001B[0m\u001B[90m━━━━━━━━━━━━━━━━━━━━━━━━━━━━━━━━\u001B[0m \u001B[32m6.7/34.6 MB\u001B[0m \u001B[31m167.3 MB/s\u001B[0m eta \u001B[36m0:00:01\u001B[0m\n\u001B[2K   \u001B[91m━━━━━━━━━━━━━━\u001B[0m\u001B[91m╸\u001B[0m\u001B[90m━━━━━━━━━━━━━━━━━━━━━━━━━\u001B[0m \u001B[32m13.0/34.6 MB\u001B[0m \u001B[31m178.5 MB/s\u001B[0m eta \u001B[36m0:00:01\u001B[0m\n\u001B[2K   \u001B[91m━━━━━━━━━━━━━━━━━━━━━━\u001B[0m\u001B[90m╺\u001B[0m\u001B[90m━━━━━━━━━━━━━━━━━\u001B[0m \u001B[32m19.4/34.6 MB\u001B[0m \u001B[31m186.0 MB/s\u001B[0m eta \u001B[36m0:00:01\u001B[0m\n\u001B[2K   \u001B[91m━━━━━━━━━━━━━━━━━━━━━━━━━━━━━━━\u001B[0m\u001B[90m╺\u001B[0m\u001B[90m━━━━━━━━\u001B[0m \u001B[32m27.1/34.6 MB\u001B[0m \u001B[31m172.3 MB/s\u001B[0m eta \u001B[36m0:00:01\u001B[0m\n\u001B[2K   \u001B[91m━━━━━━━━━━━━━━━━━━━━━━━━━━━━━━━━━━━━━\u001B[0m\u001B[91m╸\u001B[0m\u001B[90m━━\u001B[0m \u001B[32m32.6/34.6 MB\u001B[0m \u001B[31m139.2 MB/s\u001B[0m eta \u001B[36m0:00:01\u001B[0m\n\u001B[2K   \u001B[91m━━━━━━━━━━━━━━━━━━━━━━━━━━━━━━━━━━━━━━━\u001B[0m\u001B[91m╸\u001B[0m \u001B[32m34.6/34.6 MB\u001B[0m \u001B[31m131.8 MB/s\u001B[0m eta \u001B[36m0:00:01\u001B[0m\n\u001B[2K   \u001B[91m━━━━━━━━━━━━━━━━━━━━━━━━━━━━━━━━━━━━━━━\u001B[0m\u001B[91m╸\u001B[0m \u001B[32m34.6/34.6 MB\u001B[0m \u001B[31m131.8 MB/s\u001B[0m eta \u001B[36m0:00:01\u001B[0m\n\u001B[2K   \u001B[91m━━━━━━━━━━━━━━━━━━━━━━━━━━━━━━━━━━━━━━━\u001B[0m\u001B[91m╸\u001B[0m \u001B[32m34.6/34.6 MB\u001B[0m \u001B[31m131.8 MB/s\u001B[0m eta \u001B[36m0:00:01\u001B[0m\n\u001B[2K   \u001B[91m━━━━━━━━━━━━━━━━━━━━━━━━━━━━━━━━━━━━━━━\u001B[0m\u001B[91m╸\u001B[0m \u001B[32m34.6/34.6 MB\u001B[0m \u001B[31m131.8 MB/s\u001B[0m eta \u001B[36m0:00:01\u001B[0m\n\u001B[2K   \u001B[91m━━━━━━━━━━━━━━━━━━━━━━━━━━━━━━━━━━━━━━━\u001B[0m\u001B[91m╸\u001B[0m \u001B[32m34.6/34.6 MB\u001B[0m \u001B[31m131.8 MB/s\u001B[0m eta \u001B[36m0:00:01\u001B[0m\n\u001B[2K   \u001B[91m━━━━━━━━━━━━━━━━━━━━━━━━━━━━━━━━━━━━━━━\u001B[0m\u001B[91m╸\u001B[0m \u001B[32m34.6/34.6 MB\u001B[0m \u001B[31m131.8 MB/s\u001B[0m eta \u001B[36m0:00:01\u001B[0m\n\u001B[2K   \u001B[91m━━━━━━━━━━━━━━━━━━━━━━━━━━━━━━━━━━━━━━━\u001B[0m\u001B[91m╸\u001B[0m \u001B[32m34.6/34.6 MB\u001B[0m \u001B[31m131.8 MB/s\u001B[0m eta \u001B[36m0:00:01\u001B[0m\n\u001B[2K   \u001B[91m━━━━━━━━━━━━━━━━━━━━━━━━━━━━━━━━━━━━━━━\u001B[0m\u001B[91m╸\u001B[0m \u001B[32m34.6/34.6 MB\u001B[0m \u001B[31m131.8 MB/s\u001B[0m eta \u001B[36m0:00:01\u001B[0m\n\u001B[2K   \u001B[90m━━━━━━━━━━━━━━━━━━━━━━━━━━━━━━━━━━━━━━━━\u001B[0m \u001B[32m34.6/34.6 MB\u001B[0m \u001B[31m27.6 MB/s\u001B[0m eta \u001B[36m0:00:00\u001B[0m\n\u001B[?25hBuilding wheels for collected packages: pyspark, noise\n  Building wheel for pyspark (setup.py): started\n  Building wheel for pyspark (setup.py): finished with status 'done'\n  Created wheel for pyspark: filename=pyspark-2.1.2-py2.py3-none-any.whl size=181625682 sha256=0080b9a175f7085d47b245f9d4c369f91540b4476724302d4f5eade16cfcfecc\n  Stored in directory: /root/.cache/pip/wheels/f9/86/24/8a2cb5473b8945117f23fd4cdb8c8756b4e4e4012cc32abeec\n  Building wheel for noise (setup.py): started\n  Building wheel for noise (setup.py): finished with status 'done'\n  Created wheel for noise: filename=noise-1.2.2-cp311-cp311-linux_x86_64.whl size=56276 sha256=44754b524df0ca401d7047328591a18cfc0b74cb31985d7b706f8e57b07b0147\n  Stored in directory: /root/.cache/pip/wheels/39/25/2e/af6d1bcc91a8f99af0f651f8718b9ab999720a21c6d4149091\nSuccessfully built pyspark noise\nInstalling collected packages: py4j, noise, pyspark, pygame, pyarrow, deltalake\n  Attempting uninstall: pyarrow\n    Found existing installation: pyarrow 14.0.1\n    Not uninstalling pyarrow at /databricks/python3/lib/python3.11/site-packages, outside environment /local_disk0/.ephemeral_nfs/envs/pythonEnv-cfdb971d-8311-425c-a6f6-36229bacdea2\n    Can't uninstall 'pyarrow'. No files were found to uninstall.\n\u001B[31mERROR: pip's dependency resolver does not currently take into account all the packages that are installed. This behaviour is the source of the following dependency conflicts.\ndatasets 2.19.1 requires pyarrow>=12.0.0, but you have pyarrow 11.0.0 which is incompatible.\u001B[0m\u001B[31m\n\u001B[0mSuccessfully installed deltalake-0.18.2 noise-1.2.2 py4j-0.10.4 pyarrow-11.0.0 pygame-2.6.1 pyspark-2.1.2\n\u001B[43mNote: you may need to restart the kernel using %restart_python or dbutils.library.restartPython() to use updated packages.\u001B[0m\n"
     ]
    }
   ],
   "source": [
    "%pip install pygame pandas matplotlib noise deltalake pyspark==2.1.2 pyarrow==11.0.0 plotly\n",
    "#%pip uninstall pyarrow\n",
    "#%pip install pyarrow==15.0.2\n",
    "#%pip install pyarrow==16  # Or use a compatible version like 11.0.0\n",
    "#dbutils.library.restartPython()\n",
    "#%pip install deltalake==0.9.2  # Ensure `deltalake` is compatible with `pyarrow`\n",
    "# %pip install mosaicml\n",
    "# %pip list\n",
    "#dbutils.library.restartPython()\n"
   ]
  },
  {
   "cell_type": "code",
   "execution_count": 0,
   "metadata": {
    "application/vnd.databricks.v1+cell": {
     "cellMetadata": {
      "byteLimit": 2048000,
      "rowLimit": 10000
     },
     "inputWidgets": {},
     "nuid": "df7a8133-669e-490b-a2ee-83a62a812747",
     "showTitle": false,
     "tableResultSettingsMap": {},
     "title": ""
    }
   },
   "outputs": [
    {
     "output_type": "stream",
     "name": "stderr",
     "output_type": "stream",
     "text": [
      "2024/11/26 21:32:43 INFO mlflow.tracking._tracking_service.client: 🏃 View run Empire Performance Comparison at: https://community.cloud.databricks.com/ml/experiments/46078387421220/runs/763b6154de2d45f6bce50a350f4b2660.\n2024/11/26 21:32:43 INFO mlflow.tracking._tracking_service.client: 🧪 View experiment at: https://community.cloud.databricks.com/ml/experiments/46078387421220.\n"
     ]
    },
    {
     "output_type": "display_data",
     "data": {
      "text/plain": [
       "\u001B[0;31m---------------------------------------------------------------------------\u001B[0m\n",
       "\u001B[0;31mValueError\u001B[0m                                Traceback (most recent call last)\n",
       "File \u001B[0;32m<command-46078387421222>, line 1926\u001B[0m\n",
       "\u001B[1;32m   1907\u001B[0m             \u001B[38;5;66;03m# Optionally log game tick or other information\u001B[39;00m\n",
       "\u001B[1;32m   1908\u001B[0m             \u001B[38;5;66;03m# print(f\"Game tick: {game_tick}\", file=f)\u001B[39;00m\n",
       "\u001B[1;32m   1909\u001B[0m     \u001B[38;5;66;03m# finally:\u001B[39;00m\n",
       "\u001B[0;32m   (...)\u001B[0m\n",
       "\u001B[1;32m   1921\u001B[0m \n",
       "\u001B[1;32m   1922\u001B[0m     \u001B[38;5;66;03m#     pygame.display.update()\u001B[39;00m\n",
       "\u001B[1;32m   1925\u001B[0m \u001B[38;5;28;01mif\u001B[39;00m \u001B[38;5;18m__name__\u001B[39m \u001B[38;5;241m==\u001B[39m \u001B[38;5;124m\"\u001B[39m\u001B[38;5;124m__main__\u001B[39m\u001B[38;5;124m\"\u001B[39m:\n",
       "\u001B[0;32m-> 1926\u001B[0m     main()\n",
       "\n",
       "File \u001B[0;32m<command-46078387421222>, line 1895\u001B[0m, in \u001B[0;36mmain\u001B[0;34m()\u001B[0m\n",
       "\u001B[1;32m   1893\u001B[0m     turn \u001B[38;5;241m+\u001B[39m\u001B[38;5;241m=\u001B[39m \u001B[38;5;241m1\u001B[39m\n",
       "\u001B[1;32m   1894\u001B[0m     \u001B[38;5;66;03m#log_metrics_to_delta_lake(emp, path=delta_lake_path)\u001B[39;00m\n",
       "\u001B[0;32m-> 1895\u001B[0m     log_and_save_metrics(emp)\n",
       "\u001B[1;32m   1896\u001B[0m     \u001B[38;5;66;03m# Check if data was written by loading and displaying contents\u001B[39;00m\n",
       "\u001B[1;32m   1897\u001B[0m     \u001B[38;5;66;03m# metrics_snapshot = spark.read.format(\"delta\").load(delta_lake_path)\u001B[39;00m\n",
       "\u001B[1;32m   1898\u001B[0m     \u001B[38;5;66;03m# metrics_snapshot.show()\u001B[39;00m\n",
       "\u001B[1;32m   1899\u001B[0m     \u001B[38;5;66;03m# f.flush()\u001B[39;00m\n",
       "\u001B[1;32m   1901\u001B[0m game_tick \u001B[38;5;241m+\u001B[39m\u001B[38;5;241m=\u001B[39m \u001B[38;5;241m1\u001B[39m\n",
       "\n",
       "File \u001B[0;32m<command-46078387421222>, line 107\u001B[0m, in \u001B[0;36mlog_and_save_metrics\u001B[0;34m(empire)\u001B[0m\n",
       "\u001B[1;32m    102\u001B[0m columns \u001B[38;5;241m=\u001B[39m [\n",
       "\u001B[1;32m    103\u001B[0m     \u001B[38;5;124m\"\u001B[39m\u001B[38;5;124mempire_name\u001B[39m\u001B[38;5;124m\"\u001B[39m, \u001B[38;5;124m\"\u001B[39m\u001B[38;5;124mage\u001B[39m\u001B[38;5;124m\"\u001B[39m, \u001B[38;5;124m\"\u001B[39m\u001B[38;5;124mterritory_size\u001B[39m\u001B[38;5;124m\"\u001B[39m, \u001B[38;5;124m\"\u001B[39m\u001B[38;5;124meconomy\u001B[39m\u001B[38;5;124m\"\u001B[39m,  \u001B[38;5;124m\"\u001B[39m\u001B[38;5;124mstability\u001B[39m\u001B[38;5;124m\"\u001B[39m, \u001B[38;5;124m\"\u001B[39m\u001B[38;5;124mx\u001B[39m\u001B[38;5;124m\"\u001B[39m, \u001B[38;5;124m\"\u001B[39m\u001B[38;5;124my\u001B[39m\u001B[38;5;124m\"\u001B[39m\n",
       "\u001B[1;32m    104\u001B[0m ]\n",
       "\u001B[1;32m    106\u001B[0m \u001B[38;5;66;03m# Convert metrics to a DataFrame\u001B[39;00m\n",
       "\u001B[0;32m--> 107\u001B[0m metrics_df \u001B[38;5;241m=\u001B[39m spark\u001B[38;5;241m.\u001B[39mcreateDataFrame(tile_data, columns)\n",
       "\u001B[1;32m    109\u001B[0m \u001B[38;5;66;03m# Append or merge into Delta table\u001B[39;00m\n",
       "\u001B[1;32m    110\u001B[0m delta_table \u001B[38;5;241m=\u001B[39m DeltaTable\u001B[38;5;241m.\u001B[39mforPath(spark, delta_table_path)\n",
       "\n",
       "File \u001B[0;32m/databricks/spark/python/pyspark/instrumentation_utils.py:47\u001B[0m, in \u001B[0;36m_wrap_function.<locals>.wrapper\u001B[0;34m(*args, **kwargs)\u001B[0m\n",
       "\u001B[1;32m     45\u001B[0m start \u001B[38;5;241m=\u001B[39m time\u001B[38;5;241m.\u001B[39mperf_counter()\n",
       "\u001B[1;32m     46\u001B[0m \u001B[38;5;28;01mtry\u001B[39;00m:\n",
       "\u001B[0;32m---> 47\u001B[0m     res \u001B[38;5;241m=\u001B[39m func(\u001B[38;5;241m*\u001B[39margs, \u001B[38;5;241m*\u001B[39m\u001B[38;5;241m*\u001B[39mkwargs)\n",
       "\u001B[1;32m     48\u001B[0m     logger\u001B[38;5;241m.\u001B[39mlog_success(\n",
       "\u001B[1;32m     49\u001B[0m         module_name, class_name, function_name, time\u001B[38;5;241m.\u001B[39mperf_counter() \u001B[38;5;241m-\u001B[39m start, signature\n",
       "\u001B[1;32m     50\u001B[0m     )\n",
       "\u001B[1;32m     51\u001B[0m     \u001B[38;5;28;01mreturn\u001B[39;00m res\n",
       "\n",
       "File \u001B[0;32m/databricks/spark/python/pyspark/sql/session.py:1605\u001B[0m, in \u001B[0;36mSparkSession.createDataFrame\u001B[0;34m(self, data, schema, samplingRatio, verifySchema)\u001B[0m\n",
       "\u001B[1;32m   1600\u001B[0m \u001B[38;5;28;01mif\u001B[39;00m has_pandas \u001B[38;5;129;01mand\u001B[39;00m \u001B[38;5;28misinstance\u001B[39m(data, pd\u001B[38;5;241m.\u001B[39mDataFrame):\n",
       "\u001B[1;32m   1601\u001B[0m     \u001B[38;5;66;03m# Create a DataFrame from pandas DataFrame.\u001B[39;00m\n",
       "\u001B[1;32m   1602\u001B[0m     \u001B[38;5;28;01mreturn\u001B[39;00m \u001B[38;5;28msuper\u001B[39m(SparkSession, \u001B[38;5;28mself\u001B[39m)\u001B[38;5;241m.\u001B[39mcreateDataFrame(  \u001B[38;5;66;03m# type: ignore[call-overload]\u001B[39;00m\n",
       "\u001B[1;32m   1603\u001B[0m         data, schema, samplingRatio, verifySchema\n",
       "\u001B[1;32m   1604\u001B[0m     )\n",
       "\u001B[0;32m-> 1605\u001B[0m \u001B[38;5;28;01mreturn\u001B[39;00m \u001B[38;5;28mself\u001B[39m\u001B[38;5;241m.\u001B[39m_create_dataframe(\n",
       "\u001B[1;32m   1606\u001B[0m     data, schema, samplingRatio, verifySchema  \u001B[38;5;66;03m# type: ignore[arg-type]\u001B[39;00m\n",
       "\u001B[1;32m   1607\u001B[0m )\n",
       "\n",
       "File \u001B[0;32m/databricks/spark/python/pyspark/sql/session.py:1662\u001B[0m, in \u001B[0;36mSparkSession._create_dataframe\u001B[0;34m(self, data, schema, samplingRatio, verifySchema)\u001B[0m\n",
       "\u001B[1;32m   1660\u001B[0m     rdd, struct \u001B[38;5;241m=\u001B[39m \u001B[38;5;28mself\u001B[39m\u001B[38;5;241m.\u001B[39m_createFromRDD(data\u001B[38;5;241m.\u001B[39mmap(prepare), schema, samplingRatio)\n",
       "\u001B[1;32m   1661\u001B[0m \u001B[38;5;28;01melse\u001B[39;00m:\n",
       "\u001B[0;32m-> 1662\u001B[0m     rdd, struct \u001B[38;5;241m=\u001B[39m \u001B[38;5;28mself\u001B[39m\u001B[38;5;241m.\u001B[39m_createFromLocal(\u001B[38;5;28mmap\u001B[39m(prepare, data), schema)\n",
       "\u001B[1;32m   1663\u001B[0m jrdd \u001B[38;5;241m=\u001B[39m \u001B[38;5;28mself\u001B[39m\u001B[38;5;241m.\u001B[39m_jvm\u001B[38;5;241m.\u001B[39mSerDeUtil\u001B[38;5;241m.\u001B[39mtoJavaArray(rdd\u001B[38;5;241m.\u001B[39m_to_java_object_rdd())\n",
       "\u001B[1;32m   1664\u001B[0m jdf \u001B[38;5;241m=\u001B[39m \u001B[38;5;28mself\u001B[39m\u001B[38;5;241m.\u001B[39m_jsparkSession\u001B[38;5;241m.\u001B[39mapplySchemaToPythonRDD(jrdd\u001B[38;5;241m.\u001B[39mrdd(), struct\u001B[38;5;241m.\u001B[39mjson())\n",
       "\n",
       "File \u001B[0;32m/databricks/spark/python/pyspark/sql/session.py:1229\u001B[0m, in \u001B[0;36mSparkSession._createFromLocal\u001B[0;34m(self, data, schema)\u001B[0m\n",
       "\u001B[1;32m   1221\u001B[0m \u001B[38;5;28;01mdef\u001B[39;00m \u001B[38;5;21m_createFromLocal\u001B[39m(\n",
       "\u001B[1;32m   1222\u001B[0m     \u001B[38;5;28mself\u001B[39m, data: Iterable[Any], schema: Optional[Union[DataType, List[\u001B[38;5;28mstr\u001B[39m]]]\n",
       "\u001B[1;32m   1223\u001B[0m ) \u001B[38;5;241m-\u001B[39m\u001B[38;5;241m>\u001B[39m Tuple[\u001B[38;5;124m\"\u001B[39m\u001B[38;5;124mRDD[Tuple]\u001B[39m\u001B[38;5;124m\"\u001B[39m, StructType]:\n",
       "\u001B[1;32m   1224\u001B[0m \u001B[38;5;250m    \u001B[39m\u001B[38;5;124;03m\"\"\"\u001B[39;00m\n",
       "\u001B[1;32m   1225\u001B[0m \u001B[38;5;124;03m    Create an RDD for DataFrame from a list or pandas.DataFrame, returns the RDD and schema.\u001B[39;00m\n",
       "\u001B[1;32m   1226\u001B[0m \u001B[38;5;124;03m    This would be broken with table acl enabled as user process does not have permission to\u001B[39;00m\n",
       "\u001B[1;32m   1227\u001B[0m \u001B[38;5;124;03m    write temp files.\u001B[39;00m\n",
       "\u001B[1;32m   1228\u001B[0m \u001B[38;5;124;03m    \"\"\"\u001B[39;00m\n",
       "\u001B[0;32m-> 1229\u001B[0m     internal_data, struct \u001B[38;5;241m=\u001B[39m \u001B[38;5;28mself\u001B[39m\u001B[38;5;241m.\u001B[39m_wrap_data_schema(data, schema)\n",
       "\u001B[1;32m   1230\u001B[0m     \u001B[38;5;28;01mreturn\u001B[39;00m \u001B[38;5;28mself\u001B[39m\u001B[38;5;241m.\u001B[39m_sc\u001B[38;5;241m.\u001B[39mparallelize(internal_data), struct\n",
       "\n",
       "File \u001B[0;32m/databricks/spark/python/pyspark/sql/session.py:1196\u001B[0m, in \u001B[0;36mSparkSession._wrap_data_schema\u001B[0;34m(self, data, schema)\u001B[0m\n",
       "\u001B[1;32m   1193\u001B[0m     data \u001B[38;5;241m=\u001B[39m \u001B[38;5;28mlist\u001B[39m(data)\n",
       "\u001B[1;32m   1195\u001B[0m \u001B[38;5;28;01mif\u001B[39;00m schema \u001B[38;5;129;01mis\u001B[39;00m \u001B[38;5;28;01mNone\u001B[39;00m \u001B[38;5;129;01mor\u001B[39;00m \u001B[38;5;28misinstance\u001B[39m(schema, (\u001B[38;5;28mlist\u001B[39m, \u001B[38;5;28mtuple\u001B[39m)):\n",
       "\u001B[0;32m-> 1196\u001B[0m     struct \u001B[38;5;241m=\u001B[39m \u001B[38;5;28mself\u001B[39m\u001B[38;5;241m.\u001B[39m_inferSchemaFromList(data, names\u001B[38;5;241m=\u001B[39mschema)\n",
       "\u001B[1;32m   1197\u001B[0m     converter \u001B[38;5;241m=\u001B[39m _create_converter(struct)\n",
       "\u001B[1;32m   1198\u001B[0m     tupled_data: Iterable[Tuple] \u001B[38;5;241m=\u001B[39m \u001B[38;5;28mmap\u001B[39m(converter, data)\n",
       "\n",
       "File \u001B[0;32m/databricks/spark/python/pyspark/sql/session.py:1056\u001B[0m, in \u001B[0;36mSparkSession._inferSchemaFromList\u001B[0;34m(self, data, names)\u001B[0m\n",
       "\u001B[1;32m   1041\u001B[0m \u001B[38;5;250m\u001B[39m\u001B[38;5;124;03m\"\"\"\u001B[39;00m\n",
       "\u001B[1;32m   1042\u001B[0m \u001B[38;5;124;03mInfer schema from list of Row, dict, or tuple.\u001B[39;00m\n",
       "\u001B[1;32m   1043\u001B[0m \n",
       "\u001B[0;32m   (...)\u001B[0m\n",
       "\u001B[1;32m   1053\u001B[0m \u001B[38;5;124;03m:class:`pyspark.sql.types.StructType`\u001B[39;00m\n",
       "\u001B[1;32m   1054\u001B[0m \u001B[38;5;124;03m\"\"\"\u001B[39;00m\n",
       "\u001B[1;32m   1055\u001B[0m \u001B[38;5;28;01mif\u001B[39;00m \u001B[38;5;129;01mnot\u001B[39;00m data:\n",
       "\u001B[0;32m-> 1056\u001B[0m     \u001B[38;5;28;01mraise\u001B[39;00m \u001B[38;5;167;01mValueError\u001B[39;00m(\u001B[38;5;124m\"\u001B[39m\u001B[38;5;124mcan not infer schema from empty dataset\u001B[39m\u001B[38;5;124m\"\u001B[39m)\n",
       "\u001B[1;32m   1057\u001B[0m infer_dict_as_struct \u001B[38;5;241m=\u001B[39m \u001B[38;5;28mself\u001B[39m\u001B[38;5;241m.\u001B[39m_jconf\u001B[38;5;241m.\u001B[39minferDictAsStruct()\n",
       "\u001B[1;32m   1058\u001B[0m infer_array_from_first_element \u001B[38;5;241m=\u001B[39m \u001B[38;5;28mself\u001B[39m\u001B[38;5;241m.\u001B[39m_jconf\u001B[38;5;241m.\u001B[39mlegacyInferArrayTypeFromFirstElement()\n",
       "\n",
       "\u001B[0;31mValueError\u001B[0m: can not infer schema from empty dataset"
      ]
     },
     "metadata": {
      "application/vnd.databricks.v1+output": {
       "addedWidgets": {},
       "arguments": {},
       "datasetInfos": [],
       "jupyterProps": {
        "ename": "ValueError",
        "evalue": "can not infer schema from empty dataset"
       },
       "metadata": {
        "errorSummary": "<span class='ansi-red-fg'>ValueError</span>: can not infer schema from empty dataset"
       },
       "removedWidgets": [],
       "sqlProps": null,
       "stackFrames": [
        "\u001B[0;31m---------------------------------------------------------------------------\u001B[0m",
        "\u001B[0;31mValueError\u001B[0m                                Traceback (most recent call last)",
        "File \u001B[0;32m<command-46078387421222>, line 1926\u001B[0m\n\u001B[1;32m   1907\u001B[0m             \u001B[38;5;66;03m# Optionally log game tick or other information\u001B[39;00m\n\u001B[1;32m   1908\u001B[0m             \u001B[38;5;66;03m# print(f\"Game tick: {game_tick}\", file=f)\u001B[39;00m\n\u001B[1;32m   1909\u001B[0m     \u001B[38;5;66;03m# finally:\u001B[39;00m\n\u001B[0;32m   (...)\u001B[0m\n\u001B[1;32m   1921\u001B[0m \n\u001B[1;32m   1922\u001B[0m     \u001B[38;5;66;03m#     pygame.display.update()\u001B[39;00m\n\u001B[1;32m   1925\u001B[0m \u001B[38;5;28;01mif\u001B[39;00m \u001B[38;5;18m__name__\u001B[39m \u001B[38;5;241m==\u001B[39m \u001B[38;5;124m\"\u001B[39m\u001B[38;5;124m__main__\u001B[39m\u001B[38;5;124m\"\u001B[39m:\n\u001B[0;32m-> 1926\u001B[0m     main()\n",
        "File \u001B[0;32m<command-46078387421222>, line 1895\u001B[0m, in \u001B[0;36mmain\u001B[0;34m()\u001B[0m\n\u001B[1;32m   1893\u001B[0m     turn \u001B[38;5;241m+\u001B[39m\u001B[38;5;241m=\u001B[39m \u001B[38;5;241m1\u001B[39m\n\u001B[1;32m   1894\u001B[0m     \u001B[38;5;66;03m#log_metrics_to_delta_lake(emp, path=delta_lake_path)\u001B[39;00m\n\u001B[0;32m-> 1895\u001B[0m     log_and_save_metrics(emp)\n\u001B[1;32m   1896\u001B[0m     \u001B[38;5;66;03m# Check if data was written by loading and displaying contents\u001B[39;00m\n\u001B[1;32m   1897\u001B[0m     \u001B[38;5;66;03m# metrics_snapshot = spark.read.format(\"delta\").load(delta_lake_path)\u001B[39;00m\n\u001B[1;32m   1898\u001B[0m     \u001B[38;5;66;03m# metrics_snapshot.show()\u001B[39;00m\n\u001B[1;32m   1899\u001B[0m     \u001B[38;5;66;03m# f.flush()\u001B[39;00m\n\u001B[1;32m   1901\u001B[0m game_tick \u001B[38;5;241m+\u001B[39m\u001B[38;5;241m=\u001B[39m \u001B[38;5;241m1\u001B[39m\n",
        "File \u001B[0;32m<command-46078387421222>, line 107\u001B[0m, in \u001B[0;36mlog_and_save_metrics\u001B[0;34m(empire)\u001B[0m\n\u001B[1;32m    102\u001B[0m columns \u001B[38;5;241m=\u001B[39m [\n\u001B[1;32m    103\u001B[0m     \u001B[38;5;124m\"\u001B[39m\u001B[38;5;124mempire_name\u001B[39m\u001B[38;5;124m\"\u001B[39m, \u001B[38;5;124m\"\u001B[39m\u001B[38;5;124mage\u001B[39m\u001B[38;5;124m\"\u001B[39m, \u001B[38;5;124m\"\u001B[39m\u001B[38;5;124mterritory_size\u001B[39m\u001B[38;5;124m\"\u001B[39m, \u001B[38;5;124m\"\u001B[39m\u001B[38;5;124meconomy\u001B[39m\u001B[38;5;124m\"\u001B[39m,  \u001B[38;5;124m\"\u001B[39m\u001B[38;5;124mstability\u001B[39m\u001B[38;5;124m\"\u001B[39m, \u001B[38;5;124m\"\u001B[39m\u001B[38;5;124mx\u001B[39m\u001B[38;5;124m\"\u001B[39m, \u001B[38;5;124m\"\u001B[39m\u001B[38;5;124my\u001B[39m\u001B[38;5;124m\"\u001B[39m\n\u001B[1;32m    104\u001B[0m ]\n\u001B[1;32m    106\u001B[0m \u001B[38;5;66;03m# Convert metrics to a DataFrame\u001B[39;00m\n\u001B[0;32m--> 107\u001B[0m metrics_df \u001B[38;5;241m=\u001B[39m spark\u001B[38;5;241m.\u001B[39mcreateDataFrame(tile_data, columns)\n\u001B[1;32m    109\u001B[0m \u001B[38;5;66;03m# Append or merge into Delta table\u001B[39;00m\n\u001B[1;32m    110\u001B[0m delta_table \u001B[38;5;241m=\u001B[39m DeltaTable\u001B[38;5;241m.\u001B[39mforPath(spark, delta_table_path)\n",
        "File \u001B[0;32m/databricks/spark/python/pyspark/instrumentation_utils.py:47\u001B[0m, in \u001B[0;36m_wrap_function.<locals>.wrapper\u001B[0;34m(*args, **kwargs)\u001B[0m\n\u001B[1;32m     45\u001B[0m start \u001B[38;5;241m=\u001B[39m time\u001B[38;5;241m.\u001B[39mperf_counter()\n\u001B[1;32m     46\u001B[0m \u001B[38;5;28;01mtry\u001B[39;00m:\n\u001B[0;32m---> 47\u001B[0m     res \u001B[38;5;241m=\u001B[39m func(\u001B[38;5;241m*\u001B[39margs, \u001B[38;5;241m*\u001B[39m\u001B[38;5;241m*\u001B[39mkwargs)\n\u001B[1;32m     48\u001B[0m     logger\u001B[38;5;241m.\u001B[39mlog_success(\n\u001B[1;32m     49\u001B[0m         module_name, class_name, function_name, time\u001B[38;5;241m.\u001B[39mperf_counter() \u001B[38;5;241m-\u001B[39m start, signature\n\u001B[1;32m     50\u001B[0m     )\n\u001B[1;32m     51\u001B[0m     \u001B[38;5;28;01mreturn\u001B[39;00m res\n",
        "File \u001B[0;32m/databricks/spark/python/pyspark/sql/session.py:1605\u001B[0m, in \u001B[0;36mSparkSession.createDataFrame\u001B[0;34m(self, data, schema, samplingRatio, verifySchema)\u001B[0m\n\u001B[1;32m   1600\u001B[0m \u001B[38;5;28;01mif\u001B[39;00m has_pandas \u001B[38;5;129;01mand\u001B[39;00m \u001B[38;5;28misinstance\u001B[39m(data, pd\u001B[38;5;241m.\u001B[39mDataFrame):\n\u001B[1;32m   1601\u001B[0m     \u001B[38;5;66;03m# Create a DataFrame from pandas DataFrame.\u001B[39;00m\n\u001B[1;32m   1602\u001B[0m     \u001B[38;5;28;01mreturn\u001B[39;00m \u001B[38;5;28msuper\u001B[39m(SparkSession, \u001B[38;5;28mself\u001B[39m)\u001B[38;5;241m.\u001B[39mcreateDataFrame(  \u001B[38;5;66;03m# type: ignore[call-overload]\u001B[39;00m\n\u001B[1;32m   1603\u001B[0m         data, schema, samplingRatio, verifySchema\n\u001B[1;32m   1604\u001B[0m     )\n\u001B[0;32m-> 1605\u001B[0m \u001B[38;5;28;01mreturn\u001B[39;00m \u001B[38;5;28mself\u001B[39m\u001B[38;5;241m.\u001B[39m_create_dataframe(\n\u001B[1;32m   1606\u001B[0m     data, schema, samplingRatio, verifySchema  \u001B[38;5;66;03m# type: ignore[arg-type]\u001B[39;00m\n\u001B[1;32m   1607\u001B[0m )\n",
        "File \u001B[0;32m/databricks/spark/python/pyspark/sql/session.py:1662\u001B[0m, in \u001B[0;36mSparkSession._create_dataframe\u001B[0;34m(self, data, schema, samplingRatio, verifySchema)\u001B[0m\n\u001B[1;32m   1660\u001B[0m     rdd, struct \u001B[38;5;241m=\u001B[39m \u001B[38;5;28mself\u001B[39m\u001B[38;5;241m.\u001B[39m_createFromRDD(data\u001B[38;5;241m.\u001B[39mmap(prepare), schema, samplingRatio)\n\u001B[1;32m   1661\u001B[0m \u001B[38;5;28;01melse\u001B[39;00m:\n\u001B[0;32m-> 1662\u001B[0m     rdd, struct \u001B[38;5;241m=\u001B[39m \u001B[38;5;28mself\u001B[39m\u001B[38;5;241m.\u001B[39m_createFromLocal(\u001B[38;5;28mmap\u001B[39m(prepare, data), schema)\n\u001B[1;32m   1663\u001B[0m jrdd \u001B[38;5;241m=\u001B[39m \u001B[38;5;28mself\u001B[39m\u001B[38;5;241m.\u001B[39m_jvm\u001B[38;5;241m.\u001B[39mSerDeUtil\u001B[38;5;241m.\u001B[39mtoJavaArray(rdd\u001B[38;5;241m.\u001B[39m_to_java_object_rdd())\n\u001B[1;32m   1664\u001B[0m jdf \u001B[38;5;241m=\u001B[39m \u001B[38;5;28mself\u001B[39m\u001B[38;5;241m.\u001B[39m_jsparkSession\u001B[38;5;241m.\u001B[39mapplySchemaToPythonRDD(jrdd\u001B[38;5;241m.\u001B[39mrdd(), struct\u001B[38;5;241m.\u001B[39mjson())\n",
        "File \u001B[0;32m/databricks/spark/python/pyspark/sql/session.py:1229\u001B[0m, in \u001B[0;36mSparkSession._createFromLocal\u001B[0;34m(self, data, schema)\u001B[0m\n\u001B[1;32m   1221\u001B[0m \u001B[38;5;28;01mdef\u001B[39;00m \u001B[38;5;21m_createFromLocal\u001B[39m(\n\u001B[1;32m   1222\u001B[0m     \u001B[38;5;28mself\u001B[39m, data: Iterable[Any], schema: Optional[Union[DataType, List[\u001B[38;5;28mstr\u001B[39m]]]\n\u001B[1;32m   1223\u001B[0m ) \u001B[38;5;241m-\u001B[39m\u001B[38;5;241m>\u001B[39m Tuple[\u001B[38;5;124m\"\u001B[39m\u001B[38;5;124mRDD[Tuple]\u001B[39m\u001B[38;5;124m\"\u001B[39m, StructType]:\n\u001B[1;32m   1224\u001B[0m \u001B[38;5;250m    \u001B[39m\u001B[38;5;124;03m\"\"\"\u001B[39;00m\n\u001B[1;32m   1225\u001B[0m \u001B[38;5;124;03m    Create an RDD for DataFrame from a list or pandas.DataFrame, returns the RDD and schema.\u001B[39;00m\n\u001B[1;32m   1226\u001B[0m \u001B[38;5;124;03m    This would be broken with table acl enabled as user process does not have permission to\u001B[39;00m\n\u001B[1;32m   1227\u001B[0m \u001B[38;5;124;03m    write temp files.\u001B[39;00m\n\u001B[1;32m   1228\u001B[0m \u001B[38;5;124;03m    \"\"\"\u001B[39;00m\n\u001B[0;32m-> 1229\u001B[0m     internal_data, struct \u001B[38;5;241m=\u001B[39m \u001B[38;5;28mself\u001B[39m\u001B[38;5;241m.\u001B[39m_wrap_data_schema(data, schema)\n\u001B[1;32m   1230\u001B[0m     \u001B[38;5;28;01mreturn\u001B[39;00m \u001B[38;5;28mself\u001B[39m\u001B[38;5;241m.\u001B[39m_sc\u001B[38;5;241m.\u001B[39mparallelize(internal_data), struct\n",
        "File \u001B[0;32m/databricks/spark/python/pyspark/sql/session.py:1196\u001B[0m, in \u001B[0;36mSparkSession._wrap_data_schema\u001B[0;34m(self, data, schema)\u001B[0m\n\u001B[1;32m   1193\u001B[0m     data \u001B[38;5;241m=\u001B[39m \u001B[38;5;28mlist\u001B[39m(data)\n\u001B[1;32m   1195\u001B[0m \u001B[38;5;28;01mif\u001B[39;00m schema \u001B[38;5;129;01mis\u001B[39;00m \u001B[38;5;28;01mNone\u001B[39;00m \u001B[38;5;129;01mor\u001B[39;00m \u001B[38;5;28misinstance\u001B[39m(schema, (\u001B[38;5;28mlist\u001B[39m, \u001B[38;5;28mtuple\u001B[39m)):\n\u001B[0;32m-> 1196\u001B[0m     struct \u001B[38;5;241m=\u001B[39m \u001B[38;5;28mself\u001B[39m\u001B[38;5;241m.\u001B[39m_inferSchemaFromList(data, names\u001B[38;5;241m=\u001B[39mschema)\n\u001B[1;32m   1197\u001B[0m     converter \u001B[38;5;241m=\u001B[39m _create_converter(struct)\n\u001B[1;32m   1198\u001B[0m     tupled_data: Iterable[Tuple] \u001B[38;5;241m=\u001B[39m \u001B[38;5;28mmap\u001B[39m(converter, data)\n",
        "File \u001B[0;32m/databricks/spark/python/pyspark/sql/session.py:1056\u001B[0m, in \u001B[0;36mSparkSession._inferSchemaFromList\u001B[0;34m(self, data, names)\u001B[0m\n\u001B[1;32m   1041\u001B[0m \u001B[38;5;250m\u001B[39m\u001B[38;5;124;03m\"\"\"\u001B[39;00m\n\u001B[1;32m   1042\u001B[0m \u001B[38;5;124;03mInfer schema from list of Row, dict, or tuple.\u001B[39;00m\n\u001B[1;32m   1043\u001B[0m \n\u001B[0;32m   (...)\u001B[0m\n\u001B[1;32m   1053\u001B[0m \u001B[38;5;124;03m:class:`pyspark.sql.types.StructType`\u001B[39;00m\n\u001B[1;32m   1054\u001B[0m \u001B[38;5;124;03m\"\"\"\u001B[39;00m\n\u001B[1;32m   1055\u001B[0m \u001B[38;5;28;01mif\u001B[39;00m \u001B[38;5;129;01mnot\u001B[39;00m data:\n\u001B[0;32m-> 1056\u001B[0m     \u001B[38;5;28;01mraise\u001B[39;00m \u001B[38;5;167;01mValueError\u001B[39;00m(\u001B[38;5;124m\"\u001B[39m\u001B[38;5;124mcan not infer schema from empty dataset\u001B[39m\u001B[38;5;124m\"\u001B[39m)\n\u001B[1;32m   1057\u001B[0m infer_dict_as_struct \u001B[38;5;241m=\u001B[39m \u001B[38;5;28mself\u001B[39m\u001B[38;5;241m.\u001B[39m_jconf\u001B[38;5;241m.\u001B[39minferDictAsStruct()\n\u001B[1;32m   1058\u001B[0m infer_array_from_first_element \u001B[38;5;241m=\u001B[39m \u001B[38;5;28mself\u001B[39m\u001B[38;5;241m.\u001B[39m_jconf\u001B[38;5;241m.\u001B[39mlegacyInferArrayTypeFromFirstElement()\n",
        "\u001B[0;31mValueError\u001B[0m: can not infer schema from empty dataset"
       ],
       "type": "baseError"
      }
     },
     "output_type": "display_data"
    }
   ],
   "source": [
    "\"\"\"\n",
    "MIT License\n",
    "\n",
    "Copyright (c) 2020 Ben Plate \n",
    "\n",
    "Permission is hereby granted, free of charge, to any person obtaining a copy\n",
    "of this software and associated documentation files (the \"Software\"), to deal\n",
    "in the Software without restriction, including without limitation the rights\n",
    "to use, copy, modify, merge, publish, distribute, sublicense, and/or sell\n",
    "copies of the Software, and to permit persons to whom the Software is\n",
    "furnished to do so, subject to the following conditions:\n",
    "\n",
    "The above copyright notice and this permission notice shall be included in all\n",
    "copies or substantial portions of the Software.\n",
    "\n",
    "THE SOFTWARE IS PROVIDED \"AS IS\", WITHOUT WARRANTY OF ANY KIND, EXPRESS OR\n",
    "IMPLIED, INCLUDING BUT NOT LIMITED TO THE WARRANTIES OF MERCHANTABILITY,\n",
    "FITNESS FOR A PARTICULAR PURPOSE AND NONINFRINGEMENT. IN NO EVENT SHALL THE\n",
    "AUTHORS OR COPYRIGHT HOLDERS BE LIABLE FOR ANY CLAIM, DAMAGES OR OTHER\n",
    "LIABILITY, WHETHER IN AN ACTION OF CONTRACT, TORT OR OTHERWISE, ARISING FROM,\n",
    "OUT OF OR IN CONNECTION WITH THE SOFTWARE OR THE USE OR OTHER DEALINGS IN THE\n",
    "SOFTWARE.\n",
    "\n",
    "\"\"\"\n",
    "\n",
    "import os\n",
    "os.environ[\"SDL_VIDEODRIVER\"] = \"dummy\"  # Run pygame without opening a display window\n",
    "import sys\n",
    "\n",
    "import pygame\n",
    "import pygame.gfxdraw\n",
    "import math\n",
    "import noise\n",
    "\n",
    "import random\n",
    "import pandas as pd\n",
    "from datetime import datetime\n",
    "\n",
    "import numpy as np\n",
    "from pyspark.sql import SparkSession\n",
    "import mlflow\n",
    "from delta.tables import DeltaTable\n",
    "from deltalake.writer import write_deltalake  # use delta-rs or similar lightweight Delta Lake\n",
    "\n",
    "mlflow.end_run()\n",
    "# Start Spark Session for Delta Lake (this code should be within a Databricks notebook)\n",
    "spark = SparkSession.builder \\\n",
    "    .appName(\"Empire Simulation\") \\\n",
    "    .getOrCreate()\n",
    "\n",
    "# Start MLflow\n",
    "mlflow.set_tracking_uri(\"databricks\")  # Set Databricks as tracking URI\n",
    "mlflow.start_run(run_name=\"Empire Performance Comparison\")\n",
    "\n",
    "# Define Delta Lake Table for Empire Metrics\n",
    "#delta_lake_path = \"/dbfs/empire_data/newmetrics\"  # Databricks file path for Delta table\n",
    "delta_table_path = \"/dbfs/empire_data/newmoneymetrics\"  # Databricks file path for Delta table\n",
    "# Initialize the Delta table schema\n",
    "columns = [\"empire_name\", \"age\", \"territory_size\", \"economy\", \"stability\", \"x\", \"y\"]\n",
    "empire_metrics_df = spark.createDataFrame([columns], schema=columns)  # Empty DataFrame for schema\n",
    "\n",
    "# Save Delta table (first-time creation)\n",
    "empire_metrics_df.write.format(\"delta\").mode(\"overwrite\").save(delta_table_path)\n",
    "\n",
    "# Function to log and save metrics for each empire\n",
    "# def log_metrics_to_delta_lake(empire, path=delta_lake_path):\n",
    "#     # Convert metrics to a DataFrame or dictionary\n",
    "#     metrics_data = pd.DataFrame([{\n",
    "#         \"empire_name\": empire.name,\n",
    "#         \"age\": empire.age,\n",
    "#         \"territory_size\": len(get_empire_tiles(empire)),\n",
    "#         \"economy\": empire.economy,\n",
    "#         \"stability\": empire.stability \n",
    "#     }])\n",
    "#     # Write to Delta Lake path\n",
    "#     write_deltalake(path, metrics_data, mode=\"append\")  # No Spark session needed\n",
    "def log_and_save_metrics(empire):\n",
    "    \"\"\"Logs metrics for each empire to MLflow and saves to Delta Lake.\"\"\"\n",
    "    # Extract empire metrics\n",
    "    territory_tiles = get_empire_tiles(empire)\n",
    "    metrics = [\n",
    "        (\"empire_name\", empire.name),  # Include empire name for comparison\n",
    "        (\"age\", empire.age),\n",
    "        (\"territory_size\", len(get_empire_tiles(empire))),\n",
    "       ( \"economy\", empire.economy),\n",
    "        (\"stability\", empire.stability)\n",
    "    ]\n",
    "\n",
    "    # Log to MLflow with empire name\n",
    "    mlflow.log_metric(f\"{metrics[0][1]}_age\", metrics[1][1])\n",
    "    mlflow.log_metric(f\"{metrics[0][1]}_territory_size\", metrics[2][1])\n",
    "    mlflow.log_metric(f\"{metrics[0][1]}_economy\", metrics[3][1])\n",
    "    mlflow.log_metric(f\"{metrics[0][1]}_stability\", metrics[4][1])\n",
    "\n",
    "      # Include individual tile coordinates\n",
    "    tile_data = [\n",
    "        (empire.name, empire.age, len(get_empire_tiles(empire)), empire.economy, empire.stability, tile.x, tile.y)\n",
    "        for tile in territory_tiles\n",
    "    ]\n",
    "\n",
    "    # Define columns for the DataFrame\n",
    "    columns = [\n",
    "        \"empire_name\", \"age\", \"territory_size\", \"economy\",  \"stability\", \"x\", \"y\"\n",
    "    ]\n",
    "\n",
    "    # Handle empty tile_data\n",
    "    if not tile_data:\n",
    "        print(\"No data to log; skipping metrics update.\")\n",
    "        return\n",
    "    # Convert metrics to a DataFrame\n",
    "    metrics_df = spark.createDataFrame(tile_data, columns)\n",
    "\n",
    "    # Append or merge into Delta table\n",
    "    delta_table = DeltaTable.forPath(spark, delta_table_path)\n",
    "    delta_table.alias(\"old_data\").merge(\n",
    "        metrics_df.alias(\"new_data\"),\n",
    "        \"\"\"\n",
    "        old_data.x = new_data.x AND \n",
    "        old_data.y = new_data.y AND\n",
    "        old_data.empire_name = new_data.empire_name\n",
    "        \"\"\"\n",
    "    ).whenNotMatchedInsertAll().execute()\n",
    "\n",
    "seed_value = int(datetime.now().timestamp())  # Get the current time as a float\n",
    "random.seed(seed_value)\n",
    "# random.seed(datetime.now())\n",
    "\n",
    "rand_val = random.randint(0, 100000)\n",
    "\n",
    "SQRT_3 = 1.732\n",
    "WINDOW_BOUND = [1366, 700]\n",
    "GAME_BOUND = [\n",
    "    round(WINDOW_BOUND[0] * 1 / 64),\n",
    "    round(WINDOW_BOUND[1] * 1 / 64),\n",
    "    round(WINDOW_BOUND[0] * 31 / 32),\n",
    "    round(WINDOW_BOUND[1] * 31 / 32),\n",
    "]\n",
    "HEX_WIDTH = 12  # 12\n",
    "DIMENSIONS = [64, 32]  # 64, 32\n",
    "CONTINENT_ROUGHNESS = 0.9  # 0.9\n",
    "OCEAN_WORLD = 5\n",
    "INITIAL_EMPIRES = 16  # 16\n",
    "PEACE_DURATION = 15\n",
    "ECONOMIC_ADVANTAGE = 2\n",
    "ENABLE_MULTITHREADING = True\n",
    "\n",
    "NUM_CORES = 1\n",
    "\n",
    "if ENABLE_MULTITHREADING:\n",
    "    if sys.platform.startswith(\"linux\"):\n",
    "        stream = os.popen(\"grep -c ^processor /proc/cpuinfo\")\n",
    "    elif sys.platform.startswith(\"win\"):\n",
    "        stream = os.popen(\"echo %NUMBER_OF_PROCESSORS%\")\n",
    "    elif sys.platform.startswith(\"cygwin\"):\n",
    "        stream = os.popen(\"echo %NUMBER_OF_PROCESSORS%\")\n",
    "    elif sys.platform.startswith(\"msys\"):\n",
    "        stream = os.popen(\"echo %NUMBER_OF_PROCESSORS%\")\n",
    "    elif sys.platform.startswith(\"darwin\"):\n",
    "        stream = os.popen(\"sysctl -n hw.ncpu\")\n",
    "\n",
    "    output = stream.read()\n",
    "    NUM_CORES = int(output[: len(output) - 1])\n",
    "\n",
    "global emp_count, game_tick, turn\n",
    "\n",
    "noise_vals = []\n",
    "emp_arr = []\n",
    "hex_arr = []\n",
    "emp_count = 1\n",
    "game_tick = 1\n",
    "turn = 1\n",
    "\n",
    "\n",
    "class Empire:\n",
    "    def __init__(self, name, capital, color, economy=100):\n",
    "        global emp_count\n",
    "\n",
    "        self.name = name\n",
    "        self.capital = capital\n",
    "        self.color = verify_color(color)\n",
    "        self.expanding = True\n",
    "        self.economy = economy\n",
    "        self.stability = 1.0\n",
    "        self.war_targets = []\n",
    "        self.peace_deals = []\n",
    "        self.border_emps = []\n",
    "        self.border_count = 0\n",
    "        self.age = 0\n",
    "\n",
    "        emp_count += 1\n",
    "        annex_tile(self, capital)\n",
    "        # self.capital.set_color((0, 0, 0))\n",
    "        self.capital.make_capital()\n",
    "        emp_arr.append(self)\n",
    "\n",
    "        recalc_border_emps(self)\n",
    "\n",
    "        for border_emp in self.border_emps:\n",
    "            recalc_border_emps(border_emp)\n",
    "\n",
    "\n",
    "class AIEmpire(Empire):\n",
    "    def __init__(self, name, capital, color, economy=100, ai_agent=None):\n",
    "        super().__init__(name, capital, color, economy)\n",
    "        self.ai_agent = ai_agent  # Reinforcement learning agent\n",
    "\n",
    "        self.reward = 0\n",
    "        self.state = self.get_state()\n",
    "        self.next_state = None\n",
    "        self.expanding = True\n",
    "        annex_tile(self, capital)\n",
    "        self.capital.make_capital()\n",
    "        # emp_arr.append(self)\n",
    "\n",
    "        recalc_border_emps(self)\n",
    "\n",
    "        for border_emp in self.border_emps:\n",
    "            recalc_border_emps(border_emp)\n",
    "        # recalc_border_emps(self)\n",
    "\n",
    "        # for border_emp in self.border_emps:\n",
    "        #     recalc_border_emps(border_emp)\n",
    "\n",
    "    def get_state(self):\n",
    "        \"\"\"Define the state representation for the AI agent.\"\"\"\n",
    "        return {\n",
    "            \"economy\": self.economy,\n",
    "            \"stability\": self.stability,\n",
    "            \"territory_size\": len(get_empire_tiles(self)),\n",
    "            \"border_empires\": len(self.border_emps),\n",
    "            \"age\": self.age,\n",
    "        }\n",
    "\n",
    "    def update_reward(self):\n",
    "        \"\"\"Update the reward based on the empire's performance.\"\"\"\n",
    "        territory_growth = len(get_empire_tiles(self)) - self.state[\"territory_size\"]\n",
    "        self.reward = (\n",
    "            territory_growth * 10  # Reward for each tile acquired\n",
    "            + (self.economy - self.state[\"economy\"]) * 0.1  # Reward for economy growth\n",
    "            - (5 - self.stability) * 5  # Penalty for low stability\n",
    "        )\n",
    "\n",
    "    def take_action(self):\n",
    "        \"\"\"Allow the AI agent to choose an action based on the current state.\"\"\"\n",
    "        self.state = self.get_state()\n",
    "        action = self.ai_agent.select_action(self.state, self.next_state, self.reward)[\n",
    "            0\n",
    "        ]\n",
    "        q_value = self.ai_agent.select_action(self.state, self.next_state, self.reward)[\n",
    "            1\n",
    "        ]\n",
    "        # print(self.state[\"economy\"], self.state[\"territory_size\"], self.war_targets)\n",
    "        # print(action)\n",
    "        # Define actions (expand, declare war, improve stability, etc.)\n",
    "        if action == \"expand\":\n",
    "            self.expand_territory()\n",
    "        elif action == \"declare_war\":\n",
    "            self.declare_war_on_neighbor()\n",
    "        elif action == \"stabilize\":\n",
    "            self.improve_stability()\n",
    "        elif action == \"peace\":\n",
    "            self.make_peace_with_neighbor()\n",
    "        elif action == \"sea_invade\":\n",
    "            self.sea_invade()\n",
    "        self.next_state = self.get_state()  # update next_state for simulation\n",
    "        self.update_reward()  # Update the reward after taking action\n",
    "        # log_metrics(\n",
    "        #     turn,\n",
    "        #     self.name,\n",
    "        #     self.economy,\n",
    "        #     self.stability,\n",
    "        #     self.state[\"territory_size\"],\n",
    "        #     self.reward,\n",
    "        #     action,\n",
    "        #     q_value,\n",
    "        # )\n",
    "\n",
    "    def process_turn(self):\n",
    "        tiles = get_empire_tiles(self)\n",
    "\n",
    "        # print(self.economy)\n",
    "\n",
    "        # border_selfs = []\n",
    "        deltaE = math.floor(\n",
    "            (\n",
    "                2.5 * len(tiles)\n",
    "                + (\n",
    "                    len(tiles) < 20\n",
    "                    and 250\n",
    "                    or (250 + -0.55 * ((len(tiles) - 20) ** 1.3))\n",
    "                )\n",
    "                / 3\n",
    "            )\n",
    "            / (len(self.war_targets) + 1)\n",
    "        )\n",
    "        deltaS = 1.0 - (len(tiles) + 1) * 0.02\n",
    "        if deltaE > 750:\n",
    "            deltaE = 750\n",
    "        if deltaS > 0.5:\n",
    "            deltaS = 0.5\n",
    "        if deltaS < -0.5:\n",
    "            deltaS = -0.5\n",
    "        self.economy += deltaE\n",
    "        self.stability += deltaS\n",
    "        if self.economy > 500000:\n",
    "            self.economy = 500000\n",
    "        if self.economy < 0:\n",
    "            self.economy = 0\n",
    "        if self.stability > 5:\n",
    "            self.stability = 5.0\n",
    "        if self.stability < 0:\n",
    "            self.stability = 0.0\n",
    "\n",
    "        if len(tiles) == 1:\n",
    "            surrounded = True\n",
    "            surroundings = get_surroundings(self.capital)\n",
    "            if len(surroundings) == 0:\n",
    "                dissolve_empire(self)\n",
    "            else:\n",
    "                surrounding_emp = surroundings[0].empire\n",
    "                for surr_hex in surroundings:\n",
    "                    if surr_hex.empire != surrounding_emp:\n",
    "                        surrounded = False\n",
    "                        break\n",
    "                if surrounded == True:\n",
    "                    if surrounding_emp is not None:\n",
    "                        partition_empire(self, surrounding_emp)\n",
    "                    else:\n",
    "                        print(\n",
    "                            f\"Warning: Cannot partition {self.name} as there is no surrounding empire.\"\n",
    "                        )\n",
    "        if (\n",
    "            random.randint(\n",
    "                min(round(self.border_count / (1 + len(tiles))) * 200, 1000), 2000\n",
    "            )\n",
    "            == 2000\n",
    "        ):\n",
    "            print(\"%s collapsed!\" % (self.name))\n",
    "            dissolve_empire(self)\n",
    "        # Tile occupation and bordering empire checks\n",
    "        # Recalculate borders, etc.\n",
    "        # Rebellion chance based on distance and stability\n",
    "        if len(self.war_targets) == 0:\n",
    "            for i in range(0, 3):\n",
    "                rand_hex = hex_arr[random.randint(0, len(hex_arr) - 1)]\n",
    "                if (\n",
    "                    rand_hex.empire == self\n",
    "                    and rand_hex.occupier is None\n",
    "                    and random.randint(math.floor(min(self.stability, 0.9) * 10), 10)\n",
    "                    < 5\n",
    "                    and distance_from_tiles(self.capital, rand_hex) > 8\n",
    "                    and random.randint(\n",
    "                        0, 25 + math.floor(distance_from_tiles(self.capital, rand_hex))\n",
    "                    )\n",
    "                    > 25\n",
    "                ):\n",
    "                    print(\"A nation has rebelled against %s! (2)\" % (self.name))\n",
    "                    rebel(self, rand_hex)\n",
    "                    self.stability *= 0.5\n",
    "                    if random.randint(0, 2) == 0 and len(tiles) > 30:\n",
    "                        the_tiles = get_empire_tiles(self)\n",
    "                        rand_hex = the_tiles[random.randint(0, len(the_tiles) - 1)]\n",
    "                        for i in range(0, random.randint(1, 3)):\n",
    "                            rebel(self, rand_hex)\n",
    "                        self.stability *= 0.5\n",
    "                        print(\"%s has broken out into civil war!\" % (self.name))\n",
    "                    break\n",
    "        self.age += 1\n",
    "\n",
    "    def expand_territory(self):\n",
    "        \"\"\"Try to expand territory if possible.\"\"\"\n",
    "        action_taken = False\n",
    "        for hexagon in get_empire_tiles(self):\n",
    "            surroundings = get_surroundings(hexagon)\n",
    "            for surr_hex in surroundings:\n",
    "                if surr_hex.empire is None and surr_hex.occupier is None:\n",
    "                    annex_tile(self, surr_hex)\n",
    "                    recalc_border_emps(self)\n",
    "                    action_taken = True\n",
    "                    break\n",
    "        for hexagon in get_controlled_tiles(self):\n",
    "            surroundings = get_surroundings(hexagon)\n",
    "            for surr_hex in surroundings:\n",
    "                if not is_in_control(self, surr_hex):\n",
    "                    for target in self.war_targets:\n",
    "                        if (\n",
    "                            target.type == 0\n",
    "                            and is_in_control(target.target, surr_hex)\n",
    "                            and (\n",
    "                                surr_hex.empire == target.target\n",
    "                                or surr_hex.empire == self\n",
    "                            )\n",
    "                        ):\n",
    "                            econ_advantage = min(\n",
    "                                round(self.economy / (target.target.economy + 1)), 9\n",
    "                            )\n",
    "                            helpers = 0\n",
    "                            destroyed_empire = False\n",
    "                            for pot_helper in get_surroundings(surr_hex):\n",
    "                                if is_in_control(self, pot_helper):\n",
    "                                    helpers += 1\n",
    "                            if (\n",
    "                                target.rebel is None\n",
    "                                and random.randint(0, helpers + 1) > 1\n",
    "                                and random.randint(\n",
    "                                    0, econ_advantage * ECONOMIC_ADVANTAGE + 1\n",
    "                                )\n",
    "                                > 1\n",
    "                            ):\n",
    "                                if surr_hex.empire == self:\n",
    "                                    unoccupy_tile(surr_hex)\n",
    "                                else:\n",
    "                                    destroyed_empire = occupy_tile(\n",
    "                                        self, surr_hex, target\n",
    "                                    )\n",
    "                                    action_taken = True\n",
    "                            elif (\n",
    "                                target.rebel == True\n",
    "                                and random.randint(0, helpers + 1) > 1\n",
    "                                and random.randint(0, 3) == 0\n",
    "                            ):\n",
    "                                if surr_hex.empire == self:\n",
    "                                    unoccupy_tile(surr_hex)\n",
    "                                else:\n",
    "                                    destroyed_empire = occupy_tile(\n",
    "                                        self, surr_hex, target\n",
    "                                    )\n",
    "                                    action_taken = True\n",
    "                            elif (\n",
    "                                target.rebel == False\n",
    "                                and random.randint(0, helpers + 1) > 1\n",
    "                                and random.randint(0, 10) == 0\n",
    "                            ):\n",
    "                                if surr_hex.empire == self:\n",
    "                                    unoccupy_tile(surr_hex)\n",
    "                                else:\n",
    "                                    destroyed_empire = occupy_tile(\n",
    "                                        self, surr_hex, target\n",
    "                                    )\n",
    "                                    action_taken = True\n",
    "                            if (\n",
    "                                destroyed_empire == True\n",
    "                                and target.special == 0\n",
    "                                and random.randint(0, 1) == 0\n",
    "                            ):\n",
    "                                recalc_border_emps(self)\n",
    "                                print(\n",
    "                                    \"All neighboring nations have declared war on %s after a partition!\"\n",
    "                                    % (self.name)\n",
    "                                )\n",
    "                                action_taken = True\n",
    "        return action_taken\n",
    "\n",
    "    def declare_war_on_neighbor(self):\n",
    "        \"\"\"Declare war on a weighted neighboring empire based on their economy.\"\"\"\n",
    "        if not self.border_emps:\n",
    "            return False  # No neighbors to declare war on\n",
    "\n",
    "        for border_emp in self.border_emps:\n",
    "            if (\n",
    "                self.age > 30\n",
    "                and self.economy > 1000\n",
    "                and random.randint(0, 20 * len(emp_arr)) == 0\n",
    "                and self.economy >= border_emp.economy\n",
    "            ):\n",
    "                can_war = True\n",
    "                for diplo in concat_table(self.war_targets, self.peace_deals):\n",
    "                    if diplo.target == border_emp:\n",
    "                        can_war = False\n",
    "                if can_war:\n",
    "                    # Sort border empires by their economy in descending order\n",
    "                    ordered_econ_list = sorted(\n",
    "                        self.border_emps, key=lambda x: x.economy, reverse=True\n",
    "                    )\n",
    "\n",
    "                    # Calculate weights based on sorted position (stronger economies get higher weights)\n",
    "                    weights = [\n",
    "                        i / len(ordered_econ_list)\n",
    "                        for i in range(1, len(ordered_econ_list) + 1)\n",
    "                    ]\n",
    "\n",
    "                    # Select a target empire based on the calculated weights\n",
    "                    target = random.choices(ordered_econ_list, weights=weights, k=1)[0]\n",
    "\n",
    "                    # Declare war on the chosen target\n",
    "                    declare_war(self, target)\n",
    "                    print(\"%s has declared war on %s\" % (self.name, target.name))\n",
    "                    return True\n",
    "        for hexagon in get_controlled_tiles(self):\n",
    "            surroundings = get_surroundings(hexagon)\n",
    "            for surr_hex in surroundings:\n",
    "                if not is_in_control(self, surr_hex):\n",
    "                    for target in self.war_targets:\n",
    "                        if is_in_control(target.target, surr_hex):\n",
    "                            # Occupy tiles based on economic and helper conditions\n",
    "                            destroyed_empire = occupy_tile(self, surr_hex, target)\n",
    "                            if destroyed_empire:\n",
    "                                recalc_border_emps(self)\n",
    "                                print(\n",
    "                                    f\"{self.name} has caused neighboring nations to declare war after partition.\"\n",
    "                                )\n",
    "                                for border_emp in self.border_emps:\n",
    "                                    if self.economy * 0.7 < border_emp.economy:\n",
    "                                        already_at_war = False\n",
    "                                        for target in border_emp.war_targets:\n",
    "                                            if target.target == self:\n",
    "                                                already_at_war = True\n",
    "                                                target.special = 1\n",
    "                                                target.aggressor = self\n",
    "                                        if not already_at_war:\n",
    "                                            declare_war(border_emp, self, 1, self)\n",
    "                                            return True\n",
    "        return False\n",
    "\n",
    "    def improve_stability(self):\n",
    "        \"\"\"Increase stability as an action.\"\"\"\n",
    "        if self.stability >= 5:\n",
    "            self.stability = 5.0\n",
    "            return False\n",
    "        else:\n",
    "            self.stability += 0.1\n",
    "            return True\n",
    "\n",
    "    def make_peace_with_neighbor(self):\n",
    "        \"\"\"Make peace with a neighboring empire.\"\"\"\n",
    "        # Handle peace with war targets after sufficient time\n",
    "        action_taken = False\n",
    "        if self.war_targets:\n",
    "            for war in self.war_targets:\n",
    "                if random.randint(0, game_tick - war.tick) > 25:\n",
    "                    print(f\"{self.name} has made peace with {war.target.name}\")\n",
    "                    make_peace(self, war.target)\n",
    "                    action_taken = True\n",
    "                    break\n",
    "        if self.border_emps:\n",
    "            target = random.choice(self.border_emps)\n",
    "            target_deals = [x.target for x in self.peace_deals]\n",
    "            if target in target_deals:\n",
    "                action_taken = False\n",
    "            else:\n",
    "                print(f\"{self.name} has made peace with {target.name}\")\n",
    "                make_peace(self, target)\n",
    "        for i in reversed(range(len(self.peace_deals))):\n",
    "            if game_tick - self.peace_deals[i].tick >= PEACE_DURATION:\n",
    "                print(\n",
    "                    \"Peace deal between %s and %s has expired\"\n",
    "                    % (self.name, self.peace_deals[i].target.name)\n",
    "                )\n",
    "                self.peace_deals.pop(i)\n",
    "        return action_taken\n",
    "\n",
    "    def sea_invade(self):\n",
    "        \"\"\"Sea invade a neighboring empire.\"\"\"\n",
    "        action_taken = False\n",
    "        for target in shuffle_table(emp_arr):\n",
    "            if self.economy >= 5000 and self.economy > target.economy * 1.25:\n",
    "                # print(\"Sea invasion happening by %s on %s!\" % (self.name, target.name))\n",
    "                sea_invasion(self, target)\n",
    "                action_taken = True\n",
    "        return action_taken\n",
    "class MoneyEmpire(AIEmpire):\n",
    "    def update_reward(self):\n",
    "        \"\"\"Update the reward based on the empire's performance.\"\"\"\n",
    "\n",
    "        self.reward = (\n",
    "            (self.economy - self.state[\"economy\"]) * 0.1  # Reward for economy growth\n",
    "            - (5 - self.stability) * 5  # Penalty for low stability\n",
    "        )\n",
    "\n",
    "class Agent:\n",
    "    def __init__(\n",
    "        self,\n",
    "        empire,\n",
    "        replay_memory_size=1000,\n",
    "        batch_size=10,\n",
    "        gamma=0.99,\n",
    "        learning_rate=0.001,\n",
    "    ):\n",
    "        self.replay_memory = []\n",
    "        self.replay_memory_size = replay_memory_size\n",
    "        self.batch_size = batch_size\n",
    "        self.gamma = gamma  # Discount factor\n",
    "        self.learning_rate = learning_rate\n",
    "        self.q_network = {}  # Initialize a Q-network or dictionary for Q-values\n",
    "        self.actions = [\"expand\", \"declare_war\", \"stabilize\", \"peace\", \"sea_invade\"]\n",
    "        self.empire = empire\n",
    "\n",
    "    def select_action(self, state, next_state, reward):\n",
    "        \"\"\"Select an action based on the current policy or randomly.\"\"\"\n",
    "        if next_state is None:\n",
    "            self.past_action = random.choice(self.actions)\n",
    "            return self.past_action if state[\"territory_size\"] < 50 else \"stabilize\"\n",
    "        else:\n",
    "            self.update_policy(state, self.past_action, reward, next_state)\n",
    "            if not self.q_network:\n",
    "                # Random action if q_network is empty\n",
    "                self.past_action = (\n",
    "                    random.choice(self.actions)\n",
    "                    if state[\"territory_size\"] < 50\n",
    "                    else \"stabilize\"\n",
    "                )\n",
    "                return self.past_action, None\n",
    "\n",
    "            # Find the best action based on the highest Q-value\n",
    "            best_action = None\n",
    "            best_q = float(\"-inf\")\n",
    "\n",
    "            # Iterate through the q_network to find the best Q-value for the current state\n",
    "            for (stored_state, action), q_value in self.q_network.items():\n",
    "                # Check if the stored state matches the current state\n",
    "                if stored_state == tuple(state.items()):\n",
    "                    if q_value > best_q:\n",
    "                        best_q = q_value\n",
    "                        best_action = action\n",
    "\n",
    "            # If we found a suitable action with a Q-value >= 1, we use it\n",
    "            if best_q >= 1:\n",
    "                self.past_action = best_action\n",
    "                return self.past_action, best_q\n",
    "            else:\n",
    "                # Otherwise, use random actions or the highest Q-value action if available\n",
    "                if best_action:\n",
    "                    # Remove the action with the lowest Q-value if all Q-values are negative\n",
    "                    policy_copy = {\n",
    "                        (st, act): qv\n",
    "                        for (st, act), qv in self.q_network.items()\n",
    "                        if st == tuple(state.items()) and qv >= 0\n",
    "                    }\n",
    "\n",
    "                    if policy_copy:\n",
    "                        # Choose the best Q-value action from the modified policy\n",
    "                        best_q_action = max(policy_copy, key=policy_copy.get)\n",
    "                        self.past_action = best_q_action[\n",
    "                            1\n",
    "                        ]  # Get the action part of the tuple\n",
    "                        return self.past_action\n",
    "                    else:\n",
    "                        # If no non-negative actions left, choose randomly\n",
    "                        self.past_action = random.choice(self.actions)\n",
    "                        return self.past_action, best_q\n",
    "                else:\n",
    "                    # Fallback to random if no valid action was found\n",
    "                    self.past_action = random.choice(self.actions)\n",
    "                    return self.past_action, best_q\n",
    "\n",
    "    def update_policy(self, state, action, reward, next_state):\n",
    "        \"\"\"Update policy based on observed state, action, and reward using Deep Q-Learning.\"\"\"\n",
    "        # Add experience to replay memory\n",
    "        self.push_to_memory(state, action, reward, next_state)\n",
    "\n",
    "        # Sample a batch from replay memory if it's sufficiently populated\n",
    "        if len(self.replay_memory) >= self.batch_size:\n",
    "            batch = self.sample_from_memory(self.batch_size)\n",
    "\n",
    "            # Perform Q-learning update on each sampled experience\n",
    "            for (\n",
    "                sampled_state,\n",
    "                sampled_action,\n",
    "                sampled_reward,\n",
    "                sampled_next_state,\n",
    "            ) in batch:\n",
    "\n",
    "                # Get the current Q-value for the state-action pair\n",
    "                # Convert state and action to tuples to make them hashable\n",
    "                state_key = tuple((k, v) for k, v in sampled_state.items())\n",
    "                action_key = (\n",
    "                    tuple((k, v) for k, v in sampled_action.items())\n",
    "                    if isinstance(sampled_action, dict)\n",
    "                    else sampled_action\n",
    "                )\n",
    "\n",
    "                current_q = self.q_network.get((state_key, action_key), 0.0)\n",
    "\n",
    "                # Calculate the target Q-value\n",
    "                if sampled_next_state is None:  # If it's a terminal state\n",
    "                    target_q = sampled_reward\n",
    "                else:\n",
    "                    # Find max Q-value for the next state\n",
    "                    next_state_key = tuple(\n",
    "                        (k, v) for k, v in sampled_next_state.items()\n",
    "                    )\n",
    "                    next_q_values = [\n",
    "                        self.q_network.get((next_state_key, a), 0.0)\n",
    "                        for a in self.get_possible_actions(sampled_next_state)\n",
    "                    ]\n",
    "                    max_next_q = max(next_q_values) if next_q_values else 0.0\n",
    "                    target_q = sampled_reward + self.gamma * max_next_q\n",
    "\n",
    "                # Update Q-value with gradient descent (simplified as a manual update for clarity)\n",
    "                updated_q = current_q + self.learning_rate * (target_q - current_q)\n",
    "                self.q_network[(state_key, action_key)] = updated_q\n",
    "\n",
    "    def push_to_memory(self, state, action, reward, next_state):\n",
    "        \"\"\"Push a new experience into replay memory.\"\"\"\n",
    "        if len(self.replay_memory) >= self.replay_memory_size:\n",
    "            self.replay_memory.pop(0)\n",
    "        self.replay_memory.append((state, action, reward, next_state))\n",
    "\n",
    "    def sample_from_memory(self, batch_size):\n",
    "        \"\"\"Sample a batch of experiences from replay memory.\"\"\"\n",
    "        return random.sample(self.replay_memory, batch_size)\n",
    "\n",
    "    def get_possible_actions(self, state):\n",
    "        possible_actions = []\n",
    "\n",
    "        if self.empire.expand_territory():\n",
    "            possible_actions.append(\"expand_territory\")\n",
    "        if self.empire.declare_war_on_neighbor():\n",
    "            possible_actions.append(\"declare_war_on_neighbor\")\n",
    "        if self.empire.improve_stability():\n",
    "            possible_actions.append(\"improve_stability\")\n",
    "        if self.empire.make_peace_with_neighbor():\n",
    "            possible_actions.append(\"make_peace_with_neighbor\")\n",
    "        if self.empire.sea_invade():\n",
    "            possible_actions.append(\"sea_invade\")\n",
    "\n",
    "        return possible_actions\n",
    "\n",
    "\n",
    "# This function will collect metrics and save them in a CSV file for easy loading in Databricks\n",
    "# def log_metrics(\n",
    "#     turn, empire_name, economy, stability, territory_size, reward, action, q_value\n",
    "# ):\n",
    "#     performance_data.append({\n",
    "#         \"turn\": turn,\n",
    "#         \"empire_name\": empire_name,\n",
    "#         \"economy\": economy,\n",
    "#         \"stability\": stability,\n",
    "#         \"territory_size\": territory_size,\n",
    "#         \"reward\": reward,\n",
    "#         \"action\": action,\n",
    "#         \"q_value\": q_value,\n",
    "#         \"timestamp\": datetime.now(),\n",
    "#     })\n",
    "    # df = pd.DataFrame([data])\n",
    "    # df.to_csv(\n",
    "    #     \"ai_empire_logs.csv\", mode=\"a\", header=False, index=False\n",
    "    # )  # Saving the logs to Databricks FileStore\n",
    "\n",
    "\n",
    "class Hex:\n",
    "    def __init__(self, win, x, y):\n",
    "        self.win = win\n",
    "        self.x = x\n",
    "        self.y = y\n",
    "        self.empire = None\n",
    "        self.occupier = None\n",
    "        self.new_empire = None\n",
    "        self.new_occupier = None\n",
    "        self.change_color = False\n",
    "        self.color = (255, 255, 255)\n",
    "        draw_hex_at_coord(self.win, self.x, self.y, self.color)\n",
    "\n",
    "    def set_color(self, color):\n",
    "        self.color = color\n",
    "        draw_hex_at_coord(self.win, self.x, self.y, self.color)\n",
    "\n",
    "    def make_capital(self):\n",
    "        pygame.draw.circle(\n",
    "            self.win,\n",
    "            (0, 0, 0),\n",
    "            (\n",
    "                GAME_BOUND[0] + self.x * math.floor(1.5 * HEX_WIDTH),\n",
    "                GAME_BOUND[1]\n",
    "                + self.y * math.floor(SQRT_3 * HEX_WIDTH)\n",
    "                + (self.x % 2) * math.floor(SQRT_3 / 2 * HEX_WIDTH),\n",
    "            ),\n",
    "            math.ceil(HEX_WIDTH * 0.5),\n",
    "        )\n",
    "\n",
    "\n",
    "class DiploObject:\n",
    "    def __init__(self, target, kind, rebel=None, special=0, aggressor=None):\n",
    "        self.target = target\n",
    "        self.type = kind  # 0 is a war declartion, 1 is a peace deal\n",
    "        self.tick = game_tick\n",
    "        self.rebel = rebel\n",
    "        self.special = special  # 0 is not special, 1 is retribution conflict\n",
    "        self.aggressor = aggressor\n",
    "\n",
    "\n",
    "def draw_hex(screen, color, x, y, sWidth=10, width=0):\n",
    "    factor_1 = math.floor(SQRT_3 * sWidth / 2)\n",
    "    factor_2 = math.floor(sWidth * 0.5)\n",
    "    # pygame.draw.polygon(\n",
    "    #     screen,\n",
    "    #     color,\n",
    "    #     [\n",
    "    #         [x - sWidth, y],\n",
    "    #         [x - factor_2, y - factor_1],\n",
    "    #         [x + factor_2, y - factor_1],\n",
    "    #         [x + sWidth, y],\n",
    "    #         [x + factor_2, y + factor_1],\n",
    "    #         [x - factor_2, y + factor_1],\n",
    "    #     ],\n",
    "    #     width,\n",
    "    # )\n",
    "\n",
    "\n",
    "def draw_hex_at_coord(screen, x, y, color=(255, 255, 255)):\n",
    "    factor_1 = math.floor(1.5 * HEX_WIDTH)\n",
    "    factor_2 = math.floor(SQRT_3 * HEX_WIDTH)\n",
    "    factor_3 = math.floor(SQRT_3 / 2 * HEX_WIDTH)\n",
    "    draw_hex(\n",
    "        screen,\n",
    "        color,\n",
    "        GAME_BOUND[0] + x * factor_1,\n",
    "        GAME_BOUND[1] + y * factor_2 + (x % 2) * factor_3,\n",
    "        HEX_WIDTH,\n",
    "    )\n",
    "    draw_hex(\n",
    "        screen,\n",
    "        (0, 0, 0),\n",
    "        GAME_BOUND[0] + x * factor_1,\n",
    "        GAME_BOUND[1] + y * factor_2 + (x % 2) * factor_3,\n",
    "        HEX_WIDTH,\n",
    "        1,\n",
    "    )\n",
    "\n",
    "\n",
    "def get_key_from_value(tab, value):\n",
    "    i = 0\n",
    "    for val in tab:\n",
    "        if val == value:\n",
    "            return i\n",
    "        i += 1\n",
    "    return -1\n",
    "\n",
    "\n",
    "def index_at_greatest(tab):\n",
    "    val = -math.inf\n",
    "    index = -1\n",
    "\n",
    "    for i in range(len(tab)):\n",
    "        if tab[i] > val:\n",
    "            val = tab[i]\n",
    "            index = i\n",
    "\n",
    "    return i\n",
    "\n",
    "\n",
    "def concat_table(tab1, tab2):\n",
    "    tab3 = []\n",
    "    for i in tab1:\n",
    "        tab3.append(i)\n",
    "    for i in tab2:\n",
    "        tab3.append(i)\n",
    "    return tab3\n",
    "\n",
    "\n",
    "def cpft(a, b, c):\n",
    "    for v in a:\n",
    "        if v[0] == b and v[1] == c:\n",
    "            return True\n",
    "    return False\n",
    "\n",
    "\n",
    "def verify_color(color, level=0):\n",
    "    if level > 100:\n",
    "        return color\n",
    "    for emp in emp_arr:\n",
    "        diff = (\n",
    "            ((emp.color[0] - color[0]) ** 2)\n",
    "            + ((emp.color[1] - color[1]) ** 2)\n",
    "            + ((emp.color[2] - color[2]) ** 2)\n",
    "        )\n",
    "        if diff < 500:\n",
    "            return verify_color(\n",
    "                (\n",
    "                    random.randint(15, 85),\n",
    "                    random.randint(15, 85),\n",
    "                    random.randint(15, 85),\n",
    "                ),\n",
    "                level + 1,\n",
    "            )\n",
    "\n",
    "    return color\n",
    "\n",
    "\n",
    "def tiles_connected(tile1, tile2, l=None, i=None):\n",
    "    if l == None:\n",
    "        if (tile2.empire != tile2.empire) or (\n",
    "            tile1.empire is None or tile2.empire is None\n",
    "        ):\n",
    "            return False\n",
    "        l = [[tile2.x, tile2.y, 0]]\n",
    "    if i == None:\n",
    "        i = 0\n",
    "    for v in get_surroundings(tile2):\n",
    "        if v == tile1:\n",
    "            return True\n",
    "        coords = [v.x, v.y]\n",
    "        orig = hex_exists(l[0][0], l[0][1])\n",
    "        if not (cpft(l, coords[0], coords[1])) and (\n",
    "            is_in_control(tile1.empire, v) or is_in_control(orig.empire, v)\n",
    "        ):\n",
    "            l.append([coords[0], coords[1], i])\n",
    "    if len(l) <= i:\n",
    "        return False\n",
    "\n",
    "    return tiles_connected(tile1, hex_exists(l[i][0], l[i][1]), l, i + 1)\n",
    "\n",
    "\n",
    "def hex_exists(x, y):\n",
    "    for hexagon in hex_arr:\n",
    "        if hexagon.x == x and hexagon.y == y:\n",
    "            return hexagon\n",
    "    return None\n",
    "\n",
    "\n",
    "def get_surroundings(tile):\n",
    "    out = []\n",
    "    out.append(hex_exists(tile.x, tile.y + 1))\n",
    "    out.append(hex_exists(tile.x, tile.y - 1))\n",
    "    out.append(hex_exists(tile.x + 1, tile.y))\n",
    "    out.append(hex_exists(tile.x - 1, tile.y))\n",
    "    if tile.x % 2 == 1:\n",
    "        out.append(hex_exists(tile.x - 1, tile.y + 1))\n",
    "        out.append(hex_exists(tile.x + 1, tile.y + 1))\n",
    "    else:\n",
    "        out.append(hex_exists(tile.x + 1, tile.y - 1))\n",
    "        out.append(hex_exists(tile.x - 1, tile.y - 1))\n",
    "\n",
    "    for i in range(len(out) - 1, -1, -1):\n",
    "        if out[i] is None:\n",
    "            out.pop(i)\n",
    "    return out\n",
    "\n",
    "\n",
    "def get_cluster(tile, max_size=0, l=None, orig_tile=None):\n",
    "    if orig_tile is None:\n",
    "        orig_tile = tile\n",
    "    if l is None:\n",
    "        l = [tile]\n",
    "    if max_size != 0 and len(l) > max_size:\n",
    "        return l\n",
    "    for v in get_surroundings(tile):\n",
    "        if is_same_tile_type(orig_tile, v) and get_key_from_value(l, v) == -1:\n",
    "            l.append(v)\n",
    "            l = get_cluster(v, max_size, l, orig_tile)\n",
    "    return l\n",
    "\n",
    "\n",
    "def distance_from_tiles(t0, t1):\n",
    "    return math.sqrt((t0.x - t1.x) ** 2 + (t0.y - t1.y) ** 2)\n",
    "\n",
    "\n",
    "def is_in_control(emp, tile):\n",
    "    return (tile.empire == emp and tile.occupier is None) or tile.occupier == emp\n",
    "\n",
    "\n",
    "def is_same_tile_type(tile1, tile2):\n",
    "    if not (tile1.occupier is None):\n",
    "        if not (tile2.occupier is None):\n",
    "            return tile1.empire == tile2.empire and tile1.occupier == tile2.occupier\n",
    "        else:\n",
    "            return is_in_control(tile1.occupier, tile2)\n",
    "    elif tile1.occupier is None:\n",
    "        if not (tile2.occupier is None):\n",
    "            return is_in_control(tile2.occupier, tile1)\n",
    "        else:\n",
    "            return tile1.empire == tile2.empire\n",
    "\n",
    "\n",
    "def recalc_border_emps(emp):\n",
    "    emp.border_emps = []\n",
    "    emp.border_count = 0\n",
    "    for hexagon in get_empire_tiles(emp):\n",
    "        surroundings = get_surroundings(hexagon)\n",
    "        for surr_hex in surroundings:\n",
    "            if (\n",
    "                not (surr_hex.empire is None)\n",
    "                and not (surr_hex.empire.name == emp.name)\n",
    "                and get_key_from_value(emp.border_emps, surr_hex.empire) == -1\n",
    "            ):\n",
    "                emp.border_emps.append(surr_hex.empire)\n",
    "                emp.border_count += 1\n",
    "                if get_key_from_value(surr_hex.empire.border_emps, emp) == -1:\n",
    "                    surr_hex.empire.border_emps.append(emp)\n",
    "            elif surr_hex.empire is None and surr_hex.occupier is None:\n",
    "                emp.expanding = True\n",
    "\n",
    "\n",
    "def fragment_empire(emp, conqueror):\n",
    "    print(\n",
    "        \"The capital of %s has been captured and %s will liberate its occupations!\"\n",
    "        % (emp.name, conqueror.name)\n",
    "    )\n",
    "    tiles = get_empire_tiles(emp)\n",
    "\n",
    "    for hexagon in tiles:\n",
    "        unoccupy_tile(hexagon)\n",
    "\n",
    "    while len(tiles) > 0:\n",
    "        rand_loc = random.randint(0, len(tiles) - 1)\n",
    "        rand_hex = tiles[rand_loc]\n",
    "        tiles.pop(rand_loc)\n",
    "\n",
    "        new_empires = []\n",
    "\n",
    "        rand_hexes = get_surroundings(rand_hex)\n",
    "        for rand in rand_hexes:\n",
    "            if get_key_from_value(tiles, rand) != -1:\n",
    "                if len(rand_hexes) < 30:\n",
    "                    rand_hexes_rand_hexes = get_surroundings(rand)\n",
    "\n",
    "                    for rand_rand in reversed(rand_hexes_rand_hexes):\n",
    "                        if (\n",
    "                            random.randint(0, 1) == 0\n",
    "                            and len(rand_hexes) < 30\n",
    "                            and get_key_from_value(tiles, rand_rand) != -1\n",
    "                            and get_key_from_value(rand_hexes, rand_rand) == -1\n",
    "                        ):\n",
    "                            rand_hexes.append(rand_rand)\n",
    "                            tiles.pop(get_key_from_value(tiles, rand_rand))\n",
    "\n",
    "                    tiles.pop(get_key_from_value(tiles, rand))\n",
    "            elif get_key_from_value(rand_hexes, rand) == -1:\n",
    "                rand_hexes.pop(get_key_from_value(rand_hexes, rand))\n",
    "\n",
    "        if len(rand_hexes) > 9 or len(get_empire_tiles(emp)) < 10:\n",
    "            new_empire = Empire(\n",
    "                \"Empire %d\" % (emp_count),\n",
    "                rand_hex,\n",
    "                (\n",
    "                    random.randint(15, 85),\n",
    "                    random.randint(15, 85),\n",
    "                    random.randint(15, 85),\n",
    "                ),\n",
    "            )\n",
    "\n",
    "            new_empires.append(new_empire)\n",
    "            for rand in rand_hexes:\n",
    "                annex_tile(new_empire, rand)\n",
    "\n",
    "    dissolve_empire(emp)\n",
    "\n",
    "    recalc_border_emps(conqueror)\n",
    "    for empire in emp.border_emps:\n",
    "        recalc_border_emps(empire)\n",
    "\n",
    "    for empire in new_empires:\n",
    "        empire.economy = math.floor((emp.economy / len(new_empires)) * 0.8)\n",
    "        peace1 = DiploObject(empire, 1)\n",
    "        peace2 = DiploObject(conqueror, 1)\n",
    "        conqueror.peace_deals.append(peace1)\n",
    "        emp.peace_deals.append(peace2)\n",
    "        recalc_border_emps(empire)\n",
    "\n",
    "    # print(emp.name)\n",
    "    # emp_arr.pop(get_key_from_value(emp_arr, emp))\n",
    "\n",
    "\n",
    "def partition_empire(emp, conqueror):\n",
    "    print(\n",
    "        \"The capital of %s has been captured by %s and will be partitioned!\"\n",
    "        % (emp.name, conqueror.name)\n",
    "    )\n",
    "    main_land = get_cluster(emp.capital)\n",
    "    for hexagon in main_land:\n",
    "        annex_tile(conqueror, hexagon)\n",
    "    for hexagon in shuffle_table(hex_arr):\n",
    "        if hexagon.empire == emp:\n",
    "            if hexagon.occupier is None:\n",
    "                tiles = get_cluster(hexagon)\n",
    "                new_emp = Empire(\n",
    "                    \"Empire %d\" % (emp_count),\n",
    "                    hexagon,\n",
    "                    (\n",
    "                        random.randint(15, 85),\n",
    "                        random.randint(15, 85),\n",
    "                        random.randint(15, 85),\n",
    "                    ),\n",
    "                )\n",
    "                for tile in tiles:\n",
    "                    if tile != new_emp.capital:\n",
    "                        annex_tile(new_emp, tile)\n",
    "            else:\n",
    "                annex_tile(hexagon.occupier, hexagon)\n",
    "        elif hexagon.occupier == emp:\n",
    "            unoccupy_tile(hexagon)\n",
    "    for emp_i in emp_arr:\n",
    "        for i in reversed(range(len(emp_i.war_targets))):\n",
    "            if emp_i.war_targets[i].target == emp:\n",
    "                emp_i.war_targets.pop(i)\n",
    "    rebel = False\n",
    "    for war in emp.war_targets:\n",
    "        if not (war.rebel is None) and war.rebel == True:\n",
    "            war.target.stability += 5\n",
    "            rebel = True\n",
    "    if rebel:\n",
    "        emp.stability *= 3\n",
    "    else:\n",
    "        conqueror.economy = round(conqueror.economy * 0.8)\n",
    "\n",
    "    recalc_border_emps(conqueror)\n",
    "    for empire in emp.border_emps:\n",
    "        recalc_border_emps(empire)\n",
    "    emp_arr.pop(get_key_from_value(emp_arr, emp))\n",
    "\n",
    "\n",
    "def annex_tile(emp, tile):\n",
    "    tile.empire = emp\n",
    "    tile.new_empire = emp\n",
    "    tile.occupier = None\n",
    "    tile.new_occupier = None\n",
    "    tile.change_color = True\n",
    "    tile.set_color((emp.color[0] + 140, emp.color[1] + 140, emp.color[2] + 140))\n",
    "\n",
    "\n",
    "def delayed_annex_tile(emp, tile):\n",
    "    tile.new_empire = emp\n",
    "    tile.new_occupier = None\n",
    "    tile.set_color(emp.color)\n",
    "\n",
    "\n",
    "def unoccupy_tile(tile):\n",
    "    tile.occupier = None\n",
    "    tile.new_occupier = None\n",
    "    tile.change_color = True\n",
    "    tile.set_color(\n",
    "        (\n",
    "            tile.empire.color[0] + 140,\n",
    "            tile.empire.color[1] + 140,\n",
    "            tile.empire.color[2] + 140,\n",
    "        )\n",
    "    )\n",
    "\n",
    "\n",
    "def delayed_unoccupy_tile(tile):\n",
    "    tile.new_occupier = None\n",
    "    tile.set_color(tile.empire.color)\n",
    "\n",
    "\n",
    "def is_delayed(tile):\n",
    "    return tile.new_occupier != tile.occupier or tile.new_empire != tile.empire\n",
    "\n",
    "\n",
    "def correct_delayed():\n",
    "    for hexagon in hex_arr:\n",
    "        if is_delayed(hexagon):\n",
    "            hexagon.occupier = hexagon.new_occupier\n",
    "            hexagon.empire = hexagon.new_empire\n",
    "\n",
    "\n",
    "def occupy_tile(emp, tile, causus):\n",
    "    if tile.empire.capital == tile:\n",
    "        if not (causus is None) and (\n",
    "            (causus.special == 1 and causus.aggressor != emp)\n",
    "            or (not (causus.rebel is None))\n",
    "            and random.randint(0, 1) == 0\n",
    "        ):\n",
    "            fragment_empire(tile.empire, emp)\n",
    "            # print(\"woah\")\n",
    "        else:\n",
    "            partition_empire(tile.empire, emp)\n",
    "        emp.economy -= 500\n",
    "        if emp.economy < 0:\n",
    "            emp.economy = 0\n",
    "        return True\n",
    "    else:\n",
    "        tile.occupier = emp\n",
    "        tile.new_occupier = emp\n",
    "        tile.change_color = True\n",
    "        tile.set_color((emp.color[0] + 140, emp.color[1] + 140, emp.color[2] + 140))\n",
    "        emp.economy -= 10\n",
    "        tile.empire.economy -= 10\n",
    "        if emp.economy < 0:\n",
    "            emp.economy = 0\n",
    "        if tile.empire.economy < 0:\n",
    "            tile.empire.economy = 0\n",
    "        return False\n",
    "\n",
    "\n",
    "def declare_war(initiator, target, special=0, aggressor=None):\n",
    "    init_war_dec = DiploObject(target, 0, None, special, aggressor)\n",
    "    initiator.war_targets.append(init_war_dec)\n",
    "\n",
    "    target_war_dec = DiploObject(initiator, 0, None, special, aggressor)\n",
    "    target.war_targets.append(target_war_dec)\n",
    "\n",
    "\n",
    "def rebel(emp, tile):\n",
    "    rebel_emp = Empire(\n",
    "        \"Empire %d\" % (emp_count),\n",
    "        tile,\n",
    "        (random.randint(15, 85), random.randint(15, 85), random.randint(15, 85)),\n",
    "        round(emp.economy * 0.6),\n",
    "    )\n",
    "\n",
    "    for surr_hex in get_surroundings(tile):\n",
    "        if surr_hex.color[0] != 0 or surr_hex.color[1] != 0 or surr_hex.color[2] != 0:\n",
    "            annex_tile(rebel_emp, surr_hex)\n",
    "\n",
    "    war1 = DiploObject(emp, 0, True)\n",
    "    war2 = DiploObject(rebel_emp, 0, False)\n",
    "\n",
    "    emp.economy = emp.economy * 0.6\n",
    "    rebel_emp.economy = emp.economy * 0.2\n",
    "\n",
    "    emp.war_targets.append(war2)\n",
    "    rebel_emp.war_targets.append(war1)\n",
    "\n",
    "\n",
    "def make_peace(emp1, emp2):\n",
    "    c1 = get_cluster(emp1.capital)\n",
    "    for hexagon in c1:\n",
    "        if hexagon.occupier == emp1 and hexagon != emp1.capital:\n",
    "            delayed_annex_tile(emp1, hexagon)\n",
    "\n",
    "    c2 = get_cluster(emp2.capital)\n",
    "    for hexagon in c2:\n",
    "        if hexagon.occupier == emp2 and hexagon != emp2.capital:\n",
    "            delayed_annex_tile(emp2, hexagon)\n",
    "\n",
    "    for hexagon in hex_arr:\n",
    "        if (\n",
    "            hexagon.empire == emp1\n",
    "            and hexagon.occupier == emp2\n",
    "            and not is_delayed(hexagon)\n",
    "        ):\n",
    "            c3 = get_cluster(hexagon)\n",
    "            for tile in c3:\n",
    "                delayed_unoccupy_tile(tile)\n",
    "        elif (\n",
    "            hexagon.empire == emp2\n",
    "            and hexagon.occupier == emp1\n",
    "            and not is_delayed(hexagon)\n",
    "        ):\n",
    "            c3 = get_cluster(hexagon)\n",
    "            for tile in c3:\n",
    "                delayed_unoccupy_tile(tile)\n",
    "        elif (\n",
    "            hexagon.empire == emp1\n",
    "            and hexagon.occupier is None\n",
    "            and get_key_from_value(c1, hexagon) == -1\n",
    "            and not is_delayed(hexagon)\n",
    "        ):\n",
    "            c3 = get_cluster(hexagon)\n",
    "            if len(c3) > 10 and not tiles_connected(hexagon, emp1.capital):\n",
    "                new_emp = Empire(\n",
    "                    \"Empire %d\" % (emp_count),\n",
    "                    hexagon,\n",
    "                    (\n",
    "                        random.randint(15, 85),\n",
    "                        random.randint(15, 85),\n",
    "                        random.randint(15, 85),\n",
    "                    ),\n",
    "                )\n",
    "                for tile in c3:\n",
    "                    if tile != new_emp.capital:\n",
    "                        delayed_annex_tile(new_emp, tile)\n",
    "                for surr_hex in get_surroundings(hexagon):\n",
    "                    if surr_hex.color[0] != 0:\n",
    "                        delayed_annex_tile(new_emp, surr_hex)\n",
    "            else:\n",
    "                for tile in c3:\n",
    "                    if tile.color[0] == 0:\n",
    "                        print(\n",
    "                            \"There's been a screw up; Hex info: (%d, %d) E: (%s) O: (%s) P:(%s, %s) (1)\"\n",
    "                            % (\n",
    "                                hexagon.x,\n",
    "                                hexagon.y,\n",
    "                                hexagon.empire.name,\n",
    "                                hexagon.occupier,\n",
    "                                emp1.name,\n",
    "                                emp2.name,\n",
    "                            )\n",
    "                        )\n",
    "                    elif tile.occupier is None and tile.empire == emp1:\n",
    "                        delayed_annex_tile(emp2, tile)\n",
    "        elif (\n",
    "            hexagon.empire == emp2\n",
    "            and hexagon.occupier is None\n",
    "            and get_key_from_value(c2, hexagon) == -1\n",
    "            and not is_delayed(hexagon)\n",
    "        ):\n",
    "            c3 = get_cluster(hexagon)\n",
    "            if len(c3) > 10 and not tiles_connected(hexagon, emp2.capital):\n",
    "                new_emp = Empire(\n",
    "                    \"Empire %d\" % (emp_count),\n",
    "                    hexagon,\n",
    "                    (\n",
    "                        random.randint(15, 85),\n",
    "                        random.randint(15, 85),\n",
    "                        random.randint(15, 85),\n",
    "                    ),\n",
    "                )\n",
    "                for tile in c3:\n",
    "                    if tile != new_emp.capital:\n",
    "                        delayed_annex_tile(new_emp, tile)\n",
    "                for surr_hex in get_surroundings(hexagon):\n",
    "                    if surr_hex.color[0] != 0:\n",
    "                        delayed_annex_tile(new_emp, surr_hex)\n",
    "            else:\n",
    "                for tile in c3:\n",
    "                    if tile.color[0] == 0:\n",
    "                        print(\n",
    "                            \"There's been a screw up; Hex info: (%d, %d) E: (%s) O: (%s) P:(%s, %s) (2)\"\n",
    "                            % (\n",
    "                                hexagon.x,\n",
    "                                hexagon.y,\n",
    "                                hexagon.empire.name,\n",
    "                                hexagon.occupier,\n",
    "                                emp1.name,\n",
    "                                emp2.name,\n",
    "                            )\n",
    "                        )\n",
    "                    elif tile.occupier is None and tile.empire == emp2:\n",
    "                        delayed_annex_tile(emp1, tile)\n",
    "\n",
    "    correct_delayed()\n",
    "\n",
    "    checked_emps = [emp1, emp2]\n",
    "\n",
    "    recalc_border_emps(emp1)\n",
    "    for empire in emp1.border_emps:\n",
    "        recalc_border_emps(empire)\n",
    "        checked_emps.append(empire)\n",
    "\n",
    "    recalc_border_emps(emp2)\n",
    "    for empire in emp2.border_emps:\n",
    "        if get_key_from_value(checked_emps, empire) != -1:\n",
    "            recalc_border_emps(empire)\n",
    "            checked_emps.append(empire)\n",
    "\n",
    "    for i in reversed(range(len(emp1.war_targets))):\n",
    "        if emp1.war_targets[i].target == emp2:\n",
    "            emp1.war_targets.pop(i)\n",
    "\n",
    "    for i in reversed(range(len(emp2.war_targets))):\n",
    "        if emp2.war_targets[i].target == emp1:\n",
    "            emp2.war_targets.pop(i)\n",
    "\n",
    "    peace1 = DiploObject(emp2, 1)\n",
    "    peace2 = DiploObject(emp1, 1)\n",
    "    emp1.peace_deals.append(peace1)\n",
    "    emp2.peace_deals.append(peace2)\n",
    "\n",
    "\n",
    "def dissolve_empire(emp):\n",
    "    for i in reversed(range(len(emp.war_targets))):\n",
    "        for j in reversed(range(len(emp.war_targets[i].target.war_targets))):\n",
    "            if emp.war_targets[i].target.war_targets[j].target == emp:\n",
    "                emp.war_targets[i].target.war_targets.pop(j)\n",
    "        emp.war_targets.pop(i)\n",
    "\n",
    "    for hexagon in hex_arr:\n",
    "        if hexagon.empire == emp and hexagon.occupier is None:\n",
    "            hexagon.empire = None\n",
    "            hexagon.new_empire = None\n",
    "            hexagon.occupier = None\n",
    "            hexagon.new_occupier = None\n",
    "            hexagon.set_color((255, 255, 255))\n",
    "        elif hexagon.empire == emp:\n",
    "            annex_tile(hexagon.occupier, hexagon)\n",
    "        elif hexagon.occupier == emp:\n",
    "            unoccupy_tile(hexagon)\n",
    "\n",
    "    for empire in emp_arr:\n",
    "        for i in reversed(range(len(empire.border_emps))):\n",
    "            try:\n",
    "                if empire.border_emps[i] == emp:\n",
    "                    empire.border_emps.pop(i)\n",
    "                    recalc_border_emps(empire)\n",
    "            except:\n",
    "                print(empire.name)\n",
    "                print(len(empire.border_emps))\n",
    "                print(i)\n",
    "                for border_emp in empire.border_emps:\n",
    "                    print(border_emp)\n",
    "                print(i)\n",
    "                Exception(\"rip\")\n",
    "\n",
    "    index = get_key_from_value(emp_arr, emp)\n",
    "    emp_arr.pop(get_key_from_value(emp_arr, emp))\n",
    "\n",
    "\n",
    "def sea_invasion(emp, target):\n",
    "    target_tiles = shuffle_table(get_empire_tiles(target))\n",
    "\n",
    "    # print(\"[s] 1\")\n",
    "\n",
    "    invasions = random.randint(1, 3)\n",
    "    invaded = False\n",
    "    for hexagon in target_tiles:\n",
    "        surroundings = get_surroundings(hexagon)\n",
    "\n",
    "        # print(\"[s] 1.5 (%d, %f)\" % (len(get_surroundings(hexagon)), distance_from_tiles(hexagon, target.capital)))\n",
    "\n",
    "        if (\n",
    "            hexagon.occupier is None\n",
    "            and hexagon.empire == target\n",
    "            and len(get_surroundings(hexagon)) < 6\n",
    "            and distance_from_tiles(hexagon, target.capital) > 3\n",
    "        ):\n",
    "            # print(\"[s] 2\")\n",
    "            occupy_tile(emp, hexagon, None)\n",
    "\n",
    "            for surr_hex in surroundings:\n",
    "                if surr_hex.color[0] != 0 and not (surr_hex.empire is None):\n",
    "                    occupy_tile(emp, surr_hex, None)\n",
    "\n",
    "            invasions -= 1\n",
    "            invaded = True\n",
    "\n",
    "            if invasions == 0:\n",
    "                break\n",
    "\n",
    "    # print(\"[s] 3\")\n",
    "    if invaded:\n",
    "        # print(\"[s] 4\")\n",
    "        declare_war(emp, target)\n",
    "\n",
    "\n",
    "def shuffle_table(tab):\n",
    "    out = []\n",
    "    for i in range(len(tab)):\n",
    "        j = random.randint(i, len(tab) - 1)\n",
    "        temp = tab[i]\n",
    "        tab[i] = tab[j]\n",
    "        tab[j] = temp\n",
    "        out.append(tab[i])\n",
    "    return out\n",
    "\n",
    "\n",
    "def get_empire_tiles(emp):\n",
    "    out = []\n",
    "    for hexagon in hex_arr:\n",
    "        if hexagon.empire == emp:\n",
    "            out.append(hexagon)\n",
    "    return out\n",
    "\n",
    "\n",
    "def get_controlled_tiles(emp):\n",
    "    out = []\n",
    "    for hexagon in hex_arr:\n",
    "        if is_in_control(emp, hexagon):\n",
    "            out.append(hexagon)\n",
    "    return out\n",
    "\n",
    "\n",
    "def for_each_empire(emp):\n",
    "    tiles = get_empire_tiles(emp)\n",
    "\n",
    "    # print(emp.economy)\n",
    "\n",
    "    # border_emps = []\n",
    "    deltaE = math.floor(\n",
    "        (\n",
    "            2.5 * len(tiles)\n",
    "            + (len(tiles) < 20 and 250 or (250 + -0.55 * ((len(tiles) - 20) ** 1.3)))\n",
    "            / 3\n",
    "        )\n",
    "        / (len(emp.war_targets) + 1)\n",
    "    )\n",
    "    deltaS = 1.0 - (len(tiles) + 1) * 0.02\n",
    "    if deltaE > 750:\n",
    "        deltaE = 750\n",
    "    if deltaS > 0.5:\n",
    "        deltaS = 0.5\n",
    "    if deltaS < -0.5:\n",
    "        deltaS = -0.5\n",
    "    emp.economy += deltaE\n",
    "    emp.stability += deltaS\n",
    "    if emp.economy > 500000:\n",
    "        emp.economy = 500000\n",
    "    if emp.economy < 0:\n",
    "        emp.economy = 0\n",
    "    if emp.stability > 5:\n",
    "        emp.stability = 5.0\n",
    "    if emp.stability < 0:\n",
    "        emp.stability = 0.0\n",
    "\n",
    "    if emp.expanding:\n",
    "        if len(emp.war_targets) == 0:\n",
    "            expanded = False\n",
    "            for hexagon in reversed(tiles):\n",
    "                surroundings = get_surroundings(hexagon)\n",
    "                # print(emp.economy)\n",
    "                for surr_hex in surroundings:\n",
    "                    if (\n",
    "                        surr_hex.empire is None\n",
    "                        and surr_hex.occupier is None\n",
    "                        and random.randint(0, 10) < math.log10(emp.economy) - 2\n",
    "                    ):\n",
    "                        annex_tile(emp, surr_hex)\n",
    "                        tiles.append(hexagon)\n",
    "                        expanded = True\n",
    "            if not expanded:\n",
    "                emp.expanding = False\n",
    "            recalc_border_emps(emp)\n",
    "    else:\n",
    "        # recalc_border_emps(emp)\n",
    "        if len(tiles) == 1:\n",
    "            surrounded = True\n",
    "            surroundings = get_surroundings(emp.capital)\n",
    "            if len(surroundings) == 0:\n",
    "                dissolve_empire(emp)\n",
    "            else:\n",
    "                surrounding_emp = surroundings[0].empire\n",
    "                for surr_hex in surroundings:\n",
    "                    if surr_hex.empire != surrounding_emp:\n",
    "                        surrounded = False\n",
    "                        break\n",
    "                if surrounded == True:\n",
    "                    partition_empire(emp, surrounding_emp)\n",
    "        if (\n",
    "            random.randint(\n",
    "                min(round(emp.border_count / (1 + len(tiles))) * 200, 1000), 2000\n",
    "            )\n",
    "            == 2000\n",
    "        ):\n",
    "            print(\"%s collapsed!\" % (emp.name))\n",
    "            dissolve_empire(emp)\n",
    "\n",
    "    for border_emp in emp.border_emps:\n",
    "        if (\n",
    "            emp.age > 30\n",
    "            and emp.economy > 1000\n",
    "            and random.randint(0, 20 * len(emp_arr)) == 0\n",
    "            and emp.economy >= border_emp.economy\n",
    "        ):\n",
    "            can_war = True\n",
    "            for diplo in concat_table(emp.war_targets, emp.peace_deals):\n",
    "                if diplo.target == border_emp:\n",
    "                    can_war = False\n",
    "            if can_war:\n",
    "                declare_war(emp, border_emp)\n",
    "                print(\"%s has declared war on %s\" % (emp.name, border_emp.name))\n",
    "                break\n",
    "\n",
    "    if len(emp.war_targets) != 0:\n",
    "        for war in emp.war_targets:\n",
    "            if random.randint(0, game_tick - war.tick) > 25:\n",
    "                print(\"%s has made peace with %s\" % (emp.name, war.target.name))\n",
    "                make_peace(emp, war.target)\n",
    "                break\n",
    "\n",
    "        for hexagon in get_controlled_tiles(emp):\n",
    "            surroundings = get_surroundings(hexagon)\n",
    "            for surr_hex in surroundings:\n",
    "                if not is_in_control(emp, surr_hex):\n",
    "                    for target in emp.war_targets:\n",
    "                        if (\n",
    "                            target.type == 0\n",
    "                            and is_in_control(target.target, surr_hex)\n",
    "                            and (\n",
    "                                surr_hex.empire == target.target\n",
    "                                or surr_hex.empire == emp\n",
    "                            )\n",
    "                        ):\n",
    "                            econ_advantage = min(\n",
    "                                round(emp.economy / (target.target.economy + 1)), 9\n",
    "                            )\n",
    "                            helpers = 0\n",
    "                            destroyed_empire = False\n",
    "                            for pot_helper in get_surroundings(surr_hex):\n",
    "                                if is_in_control(emp, pot_helper):\n",
    "                                    helpers += 1\n",
    "                            if (\n",
    "                                target.rebel is None\n",
    "                                and random.randint(0, helpers + 1) > 1\n",
    "                                and random.randint(\n",
    "                                    0, econ_advantage * ECONOMIC_ADVANTAGE + 1\n",
    "                                )\n",
    "                                > 1\n",
    "                            ):\n",
    "                                if surr_hex.empire == emp:\n",
    "                                    unoccupy_tile(surr_hex)\n",
    "                                else:\n",
    "                                    destroyed_empire = occupy_tile(\n",
    "                                        emp, surr_hex, target\n",
    "                                    )\n",
    "                            elif (\n",
    "                                target.rebel == True\n",
    "                                and random.randint(0, helpers + 1) > 1\n",
    "                                and random.randint(0, 3) == 0\n",
    "                            ):\n",
    "                                if surr_hex.empire == emp:\n",
    "                                    unoccupy_tile(surr_hex)\n",
    "                                else:\n",
    "                                    destroyed_empire = occupy_tile(\n",
    "                                        emp, surr_hex, target\n",
    "                                    )\n",
    "                            elif (\n",
    "                                target.rebel == False\n",
    "                                and random.randint(0, helpers + 1) > 1\n",
    "                                and random.randint(0, 10) == 0\n",
    "                            ):\n",
    "                                if surr_hex.empire == emp:\n",
    "                                    unoccupy_tile(surr_hex)\n",
    "                                else:\n",
    "                                    destroyed_empire = occupy_tile(\n",
    "                                        emp, surr_hex, target\n",
    "                                    )\n",
    "                            # break\n",
    "\n",
    "                            if (\n",
    "                                destroyed_empire == True\n",
    "                                and target.special == 0\n",
    "                                and random.randint(0, 1) == 0\n",
    "                            ):\n",
    "                                recalc_border_emps(emp)\n",
    "                                print(\n",
    "                                    \"All neighboring nations have declared war on %s after a partition!\"\n",
    "                                    % (emp.name)\n",
    "                                )\n",
    "                                for border_emp in emp.border_emps:\n",
    "                                    if emp.economy * 0.7 < border_emp.economy:\n",
    "                                        already_at_war = False\n",
    "                                        for target in border_emp.war_targets:\n",
    "                                            if target.target == emp:\n",
    "                                                already_at_war = True\n",
    "                                                target.special = 1\n",
    "                                                target.aggressor = emp\n",
    "                                        if not already_at_war:\n",
    "                                            declare_war(border_emp, emp, 1, emp)\n",
    "\n",
    "    else:\n",
    "        \"\"\"\n",
    "        for hexagon in tiles:\n",
    "                if random.randint(0, 1500) == 0 and random.randint(math.floor(min(emp.stability, 0.9) * 10), 10) < 5 and distance_from_tiles(emp.capital, hexagon) > 8:\n",
    "                        print(\"A nation has rebelled against %s! (1)\" % (emp.name))\n",
    "                        rebel(emp, hexagon)\n",
    "                        emp.stability *= 0.5\n",
    "        \"\"\"\n",
    "        for i in range(0, 3):\n",
    "            rand_hex = hex_arr[random.randint(0, len(hex_arr) - 1)]\n",
    "            if (\n",
    "                rand_hex.empire == emp\n",
    "                and rand_hex.occupier is None\n",
    "                and random.randint(math.floor(min(emp.stability, 0.9) * 10), 10) < 5\n",
    "                and distance_from_tiles(emp.capital, rand_hex) > 8\n",
    "                and random.randint(\n",
    "                    0, 25 + math.floor(distance_from_tiles(emp.capital, rand_hex))\n",
    "                )\n",
    "                > 25\n",
    "            ):\n",
    "                print(\"A nation has rebelled against %s! (2)\" % (emp.name))\n",
    "                rebel(emp, rand_hex)\n",
    "                emp.stability *= 0.5\n",
    "                if random.randint(0, 2) == 0 and len(tiles) > 30:\n",
    "                    the_tiles = get_empire_tiles(emp)\n",
    "                    rand_hex = the_tiles[random.randint(0, len(the_tiles) - 1)]\n",
    "                    for i in range(0, random.randint(1, 3)):\n",
    "                        rebel(emp, rand_hex)\n",
    "                    emp.stability *= 0.5\n",
    "                    print(\"%s has broken out into civil war!\" % (emp.name))\n",
    "                break\n",
    "\n",
    "        if random.randint(0, 750) == 0:\n",
    "            for target in shuffle_table(emp_arr):\n",
    "                if emp.economy >= 5000 and emp.economy > target.economy * 1.25:\n",
    "                    print(\n",
    "                        \"Sea invasion happening by %s on %s!\" % (emp.name, target.name)\n",
    "                    )\n",
    "                    sea_invasion(emp, target)\n",
    "                    break\n",
    "\n",
    "    for i in reversed(range(len(emp.peace_deals))):\n",
    "        if game_tick - emp.peace_deals[i].tick >= PEACE_DURATION:\n",
    "            print(\n",
    "                \"Peace deal between %s and %s has expired\"\n",
    "                % (emp.name, emp.peace_deals[i].target.name)\n",
    "            )\n",
    "            emp.peace_deals.pop(i)\n",
    "\n",
    "    # if random.randint(0, 1000) == 0:\n",
    "    # \tprint(\"%s collapsed!\" % (emp.name))\n",
    "    # \tdissolve_empire(emp)\n",
    "\n",
    "    emp.age += 1\n",
    "\n",
    "    # log_metrics(\n",
    "    #     turn,\n",
    "    #     emp.name,\n",
    "    #     emp.economy,\n",
    "    #     emp.stability,\n",
    "    #     len(get_empire_tiles(emp)),\n",
    "    #     None,\n",
    "    #     None,\n",
    "    #     None,\n",
    "    # )\n",
    "\n",
    "\n",
    "def fix_things():\n",
    "    for hexagon in hex_arr:\n",
    "        if not (hexagon.empire is None) and hexagon.empire == hexagon.occupier:\n",
    "            hexagon.occupier = None\n",
    "            hexagon.new_occupier = None\n",
    "            hexagon.set_color(hexagon.empire.color)\n",
    "        elif (\n",
    "            not (hexagon.empire is None)\n",
    "            and not (hexagon.occupier is None)\n",
    "            and len(hexagon.empire.war_targets) == 0\n",
    "        ):\n",
    "            print(\"THIS just happened\")\n",
    "            print(hexagon.empire.name)\n",
    "            print(hexagon.occupier.name)\n",
    "            print(get_key_from_value(hexagon.empire.war_targets, hexagon.occupier))\n",
    "            print(get_key_from_value(hexagon.occupier.war_targets, hexagon.empire))\n",
    "            hexagon.occupier = None\n",
    "            hexagon.new_occupier = None\n",
    "            hexagon.set_color(hexagon.empire.color)\n",
    "    for emp in emp_arr:\n",
    "        if len(get_empire_tiles(emp)) == 0:\n",
    "            print(\"FOR some reason, %s wasn't deleted... deleting now\" % (emp.name))\n",
    "            emp_arr.pop(get_key_from_value(emp_arr, emp))\n",
    "\n",
    "\n",
    "def tick(win):\n",
    "    global game_tick\n",
    "\n",
    "    for hexagon in hex_arr:\n",
    "        if hexagon.change_color and not (hexagon.empire is None):\n",
    "            if not (hexagon.occupier is None) and not (\n",
    "                hexagon.empire == hexagon.occupier\n",
    "            ):\n",
    "                hexagon.set_color(\n",
    "                    (\n",
    "                        hexagon.occupier.color[0] + 70,\n",
    "                        hexagon.occupier.color[1] + 70,\n",
    "                        hexagon.occupier.color[2] + 70,\n",
    "                    )\n",
    "                )\n",
    "                hexagon.change_color = False\n",
    "            elif hexagon.occupier is None:\n",
    "                hexagon.set_color(\n",
    "                    (\n",
    "                        hexagon.empire.color[0],\n",
    "                        hexagon.empire.color[1],\n",
    "                        hexagon.empire.color[2],\n",
    "                    )\n",
    "                )\n",
    "                hexagon.change_color = False\n",
    "                if hexagon.empire.capital == hexagon:\n",
    "                    # hexagon.set_color((0, 0, 0))\n",
    "                    hexagon.make_capital()\n",
    "        elif hexagon.change_color:\n",
    "            hexagon.change_color = False\n",
    "            hexagon.set_color((255, 255, 255))\n",
    "\n",
    "    for emp in emp_arr:\n",
    "        result = for_each_empire(emp)\n",
    "        if result == False:\n",
    "            return False\n",
    "\n",
    "    if game_tick % 10 == 0:\n",
    "        fix_things()\n",
    "        rand_x = random.randint(0, DIMENSIONS[0])\n",
    "        rand_y = random.randint(0, DIMENSIONS[1])\n",
    "        rand_hex = hex_exists(rand_x, rand_y)\n",
    "        if not (rand_hex is None) and rand_hex.empire is None:\n",
    "            print(\"Empire %d has spawned randomly!\" % (emp_count))\n",
    "            Empire(\n",
    "                \"Empire %d\" % (emp_count),\n",
    "                rand_hex,\n",
    "                (\n",
    "                    random.randint(15, 85),\n",
    "                    random.randint(15, 85),\n",
    "                    random.randint(15, 85),\n",
    "                ),\n",
    "            )\n",
    "\n",
    "\n",
    "def startup(win):\n",
    "    global emp_count\n",
    "\n",
    "    for i in range(0, DIMENSIONS[0]):\n",
    "        noise_vals.append([])\n",
    "        for j in range(0, DIMENSIONS[0]):\n",
    "            noise_vals[i].append(\n",
    "                noise.snoise2(\n",
    "                    rand_val + i * 0.075 * CONTINENT_ROUGHNESS,\n",
    "                    rand_val + j * 0.075 * CONTINENT_ROUGHNESS,\n",
    "                )\n",
    "            )\n",
    "\n",
    "    for i in range(0, DIMENSIONS[0]):\n",
    "        for j in range(0, DIMENSIONS[1]):\n",
    "            if noise_vals[i][j] >= -1 + OCEAN_WORLD * 0.2:\n",
    "                hex_arr.append(Hex(win, i, j))\n",
    "\n",
    "    for i in range(0, INITIAL_EMPIRES):\n",
    "        while True:\n",
    "            rand_x = random.randint(0, DIMENSIONS[0])\n",
    "            rand_y = random.randint(0, DIMENSIONS[1])\n",
    "            rand_hex = hex_exists(rand_x, rand_y)\n",
    "            if not (rand_hex is None):\n",
    "                Empire(\n",
    "                    \"Empire %d\" % (emp_count),\n",
    "                    rand_hex,\n",
    "                    (\n",
    "                        random.randint(15, 85),\n",
    "                        random.randint(15, 85),\n",
    "                        random.randint(15, 85),\n",
    "                    ),\n",
    "                )\n",
    "                break\n",
    "\n",
    "\n",
    "def main():\n",
    "    # Create a timestamp for the filename\n",
    "\n",
    "    timestamp = datetime.now().strftime(\"%Y%m%d_%H%M%S\")\n",
    "    timestamp = 1\n",
    "    # filename = (\n",
    "    #     f\"saves/output_{timestamp}.txt\"\n",
    "    # )\n",
    "    original_stdout = sys.stdout  # Save a reference to the original standard output\n",
    "    # Redirect print output to the file\n",
    "    # with open(filename, \"w\") as f:\n",
    "        # Example of capturing output - you can modify as needed\n",
    "\n",
    "    f = open(os.devnull, 'w')\n",
    "    sys.stdout = f  # Change the standard output to none\n",
    "   # try:\n",
    "    print(\"Starting the game...\")\n",
    "   # print(\"Starting the game...\", file=f)\n",
    "    if (\n",
    "        GAME_BOUND[0] + GAME_BOUND[2] > WINDOW_BOUND[0]\n",
    "        or GAME_BOUND[1] + GAME_BOUND[3] > WINDOW_BOUND[1]\n",
    "    ):\n",
    "        raise Exception(\n",
    "            \"Game Error: Game bounding box is bigger than window bounding box\"\n",
    "        )\n",
    "\n",
    "   # pygame.init()\n",
    "    win = pygame.display.set_mode((WINDOW_BOUND[0], WINDOW_BOUND[1]))\n",
    "    #pygame.display.set_caption(\"hello\")\n",
    "    win.fill((0, 15, 55))\n",
    "\n",
    "   # clock = pygame.time.Clock()\n",
    "\n",
    "    global game_tick\n",
    "    global emp_count\n",
    "    global turn\n",
    "    turn = 1\n",
    "\n",
    "    startup(win)\n",
    "\n",
    "    result = True\n",
    "    # # Initialize the AI empire, passing a placeholder for the agent\n",
    "    # ai_empire = AIEmpire(\n",
    "    #     \"AI Empire\",\n",
    "    #     random.choice(hex_arr),\n",
    "    #     (\n",
    "    #         random.randint(15, 85),\n",
    "    #         random.randint(15, 85),\n",
    "    #         random.randint(15, 85),\n",
    "    #     ),\n",
    "    #     ai_agent=None,  # Temporary placeholder; we'll assign the agent after creation\n",
    "    # )\n",
    "\n",
    "    # # Now create the Agent instance, passing the ai_empire instance to it\n",
    "    # ai_agent = Agent(ai_empire)\n",
    "\n",
    "    # # Set the ai_agent attribute of ai_empire to the created Agent instance\n",
    "    # ai_empire.ai_agent = ai_agent\n",
    "\n",
    "    money_ai_empire = MoneyEmpire(\n",
    "        \"Money AI Empire\",\n",
    "        random.choice(hex_arr),\n",
    "        (\n",
    "            random.randint(15, 85),\n",
    "            random.randint(15, 85),\n",
    "            random.randint(15, 85),\n",
    "        ),\n",
    "        ai_agent=None,  # Temporary placeholder; we'll assign the agent after creation\n",
    "    )\n",
    "\n",
    "    # Now create the Agent instance, passing the ai_empire instance to it\n",
    "    money_ai_agent = Agent(money_ai_empire)\n",
    "\n",
    "    # Set the ai_agent attribute of ai_empire to the created Agent instance\n",
    "    money_ai_empire.ai_agent = money_ai_agent\n",
    "\n",
    "    while True:\n",
    "        # for event in pygame.event.get():\n",
    "        #     if event.type == pygame.QUIT:\n",
    "        #         print(\"Game closed.\")\n",
    "        #         #print(\"Game closed.\", file=f)\n",
    "        #         sys.stdout = original_stdout\n",
    "        #         return\n",
    "\n",
    "        # Process actions for each empire, including the AI empire\n",
    "        for emp in emp_arr:\n",
    "            if isinstance(emp, MoneyEmpire):\n",
    "                emp.process_turn()\n",
    "                emp.take_action()\n",
    "                log_and_save_metrics(emp)\n",
    "            # f.flush()\n",
    "            else:\n",
    "                for_each_empire(emp)\n",
    "            # print(emp.name + \" bread: \", emp.economy, \"turn = \", turn)\n",
    "            turn += 1\n",
    "            if(turn >= 250):\n",
    "                mlflow.end_run()\n",
    "                return False\n",
    "            #log_metrics_to_delta_lake(emp, path=delta_lake_path)\n",
    "            log_and_save_metrics(emp)\n",
    "            # Check if data was written by loading and displaying contents\n",
    "            # metrics_snapshot = spark.read.format(\"delta\").load(delta_lake_path)\n",
    "            # metrics_snapshot.show()\n",
    "            # f.flush()\n",
    "\n",
    "        game_tick += 1\n",
    "       # pygame.display.update()\n",
    "        if(turn >= 250):\n",
    "            mlflow.end_run()\n",
    "           # pygame.quit()\n",
    "            return False\n",
    "            # Optionally log game tick or other information\n",
    "            # print(f\"Game tick: {game_tick}\", file=f)\n",
    "    # finally:\n",
    "    #     sys.stdout = original_stdout\n",
    "\n",
    "    # while True:\n",
    "    #     for e in pygame.event.get():\n",
    "    #         if e.type == pygame.QUIT:\n",
    "    #             return\n",
    "\n",
    "    #     if not (result == False):\n",
    "    #         result = tick(win)\n",
    "    #     game_tick += 1\n",
    "    #     clock.tick(5)\n",
    "\n",
    "    #     pygame.display.update()\n",
    "\n",
    "\n",
    "if __name__ == \"__main__\":\n",
    "    main()\n",
    "    #pygame.quit()"
   ]
  },
  {
   "cell_type": "code",
   "execution_count": 0,
   "metadata": {
    "application/vnd.databricks.v1+cell": {
     "cellMetadata": {
      "byteLimit": 2048000,
      "rowLimit": 10000
     },
     "inputWidgets": {},
     "nuid": "51f3a536-3755-45b5-aa9b-45b8eb248ed8",
     "showTitle": false,
     "tableResultSettingsMap": {},
     "title": ""
    }
   },
   "outputs": [
    {
     "output_type": "display_data",
     "data": {
      "text/html": [
       "<style scoped>\n",
       "  .table-result-container {\n",
       "    max-height: 300px;\n",
       "    overflow: auto;\n",
       "  }\n",
       "  table, th, td {\n",
       "    border: 1px solid black;\n",
       "    border-collapse: collapse;\n",
       "  }\n",
       "  th, td {\n",
       "    padding: 5px;\n",
       "  }\n",
       "  th {\n",
       "    text-align: left;\n",
       "  }\n",
       "</style><div class='table-result-container'><table class='table-result'><thead style='background-color: white'><tr><th>empire_name</th><th>age</th><th>territory_size</th><th>economy</th><th>stability</th><th>x</th><th>y</th><th>col</th><th>row</th></tr></thead><tbody><tr><td>Empire 11</td><td>9</td><td>14</td><td>961</td><td>5.0</td><td>21.0</td><td>30.0</td><td>31.5</td><td>51.96152422706631</td></tr><tr><td>Empire 11</td><td>9</td><td>14</td><td>961</td><td>5.0</td><td>24.0</td><td>26.0</td><td>36.0</td><td>45.033320996790806</td></tr><tr><td>Empire 6</td><td>9</td><td>22</td><td>1000</td><td>5.0</td><td>4.0</td><td>16.0</td><td>6.0</td><td>27.712812921102035</td></tr><tr><td>Empire 5</td><td>9</td><td>12</td><td>957</td><td>5.0</td><td>21.0</td><td>25.0</td><td>31.5</td><td>43.30127018922193</td></tr><tr><td>Empire 6</td><td>9</td><td>22</td><td>1000</td><td>5.0</td><td>7.0</td><td>15.0</td><td>10.5</td><td>25.980762113533157</td></tr><tr><td>Empire 5</td><td>9</td><td>12</td><td>957</td><td>5.0</td><td>23.0</td><td>22.0</td><td>34.5</td><td>38.1051177665153</td></tr><tr><td>Empire 6</td><td>9</td><td>22</td><td>1000</td><td>5.0</td><td>7.0</td><td>20.0</td><td>10.5</td><td>34.64101615137754</td></tr><tr><td>Empire 6</td><td>9</td><td>22</td><td>1000</td><td>5.0</td><td>9.0</td><td>18.0</td><td>13.5</td><td>31.17691453623979</td></tr><tr><td>Empire 7</td><td>9</td><td>9</td><td>921</td><td>5.0</td><td>40.0</td><td>23.0</td><td>60.0</td><td>39.837168574084174</td></tr><tr><td>Empire 7</td><td>9</td><td>9</td><td>921</td><td>5.0</td><td>42.0</td><td>23.0</td><td>63.0</td><td>39.837168574084174</td></tr><tr><td>Empire 16</td><td>9</td><td>7</td><td>886</td><td>5.0</td><td>36.0</td><td>6.0</td><td>54.0</td><td>10.392304845413264</td></tr><tr><td>Empire 16</td><td>9</td><td>7</td><td>886</td><td>5.0</td><td>35.0</td><td>9.0</td><td>52.5</td><td>15.588457268119894</td></tr><tr><td>Empire 14</td><td>9</td><td>6</td><td>879</td><td>5.0</td><td>4.0</td><td>4.0</td><td>6.0</td><td>6.928203230275509</td></tr><tr><td>Empire 14</td><td>9</td><td>6</td><td>879</td><td>5.0</td><td>6.0</td><td>6.0</td><td>9.0</td><td>10.392304845413264</td></tr><tr><td>Money AI Empire</td><td>8</td><td>286</td><td>1424</td><td>5.0</td><td>45.0</td><td>28.0</td><td>67.5</td><td>48.49742261192856</td></tr><tr><td>Money AI Empire</td><td>8</td><td>286</td><td>1424</td><td>5.0</td><td>45.0</td><td>29.0</td><td>67.5</td><td>50.22947341949744</td></tr><tr><td>Money AI Empire</td><td>8</td><td>286</td><td>1424</td><td>5.0</td><td>45.0</td><td>30.0</td><td>67.5</td><td>51.96152422706631</td></tr><tr><td>Money AI Empire</td><td>8</td><td>286</td><td>1424</td><td>5.0</td><td>45.0</td><td>31.0</td><td>67.5</td><td>53.693575034635195</td></tr><tr><td>Money AI Empire</td><td>8</td><td>286</td><td>1424</td><td>5.0</td><td>46.0</td><td>26.0</td><td>69.0</td><td>45.033320996790806</td></tr><tr><td>Money AI Empire</td><td>8</td><td>286</td><td>1424</td><td>5.0</td><td>46.0</td><td>27.0</td><td>69.0</td><td>46.76537180435968</td></tr><tr><td>Money AI Empire</td><td>8</td><td>286</td><td>1424</td><td>5.0</td><td>46.0</td><td>28.0</td><td>69.0</td><td>48.49742261192856</td></tr><tr><td>Money AI Empire</td><td>8</td><td>286</td><td>1424</td><td>5.0</td><td>46.0</td><td>29.0</td><td>69.0</td><td>50.22947341949744</td></tr><tr><td>Money AI Empire</td><td>8</td><td>286</td><td>1424</td><td>5.0</td><td>46.0</td><td>30.0</td><td>69.0</td><td>51.96152422706631</td></tr><tr><td>Money AI Empire</td><td>8</td><td>286</td><td>1424</td><td>5.0</td><td>46.0</td><td>31.0</td><td>69.0</td><td>53.693575034635195</td></tr><tr><td>Money AI Empire</td><td>8</td><td>286</td><td>1424</td><td>5.0</td><td>47.0</td><td>26.0</td><td>70.5</td><td>45.033320996790806</td></tr><tr><td>Money AI Empire</td><td>8</td><td>286</td><td>1424</td><td>5.0</td><td>47.0</td><td>27.0</td><td>70.5</td><td>46.76537180435968</td></tr><tr><td>Money AI Empire</td><td>8</td><td>286</td><td>1424</td><td>5.0</td><td>47.0</td><td>28.0</td><td>70.5</td><td>48.49742261192856</td></tr><tr><td>Money AI Empire</td><td>8</td><td>286</td><td>1424</td><td>5.0</td><td>47.0</td><td>29.0</td><td>70.5</td><td>50.22947341949744</td></tr><tr><td>Money AI Empire</td><td>8</td><td>286</td><td>1424</td><td>5.0</td><td>47.0</td><td>30.0</td><td>70.5</td><td>51.96152422706631</td></tr><tr><td>Money AI Empire</td><td>8</td><td>286</td><td>1424</td><td>5.0</td><td>47.0</td><td>31.0</td><td>70.5</td><td>53.693575034635195</td></tr><tr><td>Money AI Empire</td><td>8</td><td>286</td><td>1424</td><td>5.0</td><td>48.0</td><td>26.0</td><td>72.0</td><td>45.033320996790806</td></tr><tr><td>Money AI Empire</td><td>8</td><td>286</td><td>1424</td><td>5.0</td><td>48.0</td><td>27.0</td><td>72.0</td><td>46.76537180435968</td></tr><tr><td>Money AI Empire</td><td>8</td><td>286</td><td>1424</td><td>5.0</td><td>48.0</td><td>28.0</td><td>72.0</td><td>48.49742261192856</td></tr><tr><td>Money AI Empire</td><td>8</td><td>286</td><td>1424</td><td>5.0</td><td>48.0</td><td>29.0</td><td>72.0</td><td>50.22947341949744</td></tr><tr><td>Money AI Empire</td><td>8</td><td>286</td><td>1424</td><td>5.0</td><td>48.0</td><td>30.0</td><td>72.0</td><td>51.96152422706631</td></tr><tr><td>Money AI Empire</td><td>8</td><td>286</td><td>1424</td><td>5.0</td><td>48.0</td><td>31.0</td><td>72.0</td><td>53.693575034635195</td></tr><tr><td>Money AI Empire</td><td>8</td><td>286</td><td>1424</td><td>5.0</td><td>49.0</td><td>25.0</td><td>73.5</td><td>43.30127018922193</td></tr><tr><td>Money AI Empire</td><td>8</td><td>286</td><td>1424</td><td>5.0</td><td>49.0</td><td>26.0</td><td>73.5</td><td>45.033320996790806</td></tr><tr><td>Money AI Empire</td><td>8</td><td>286</td><td>1424</td><td>5.0</td><td>49.0</td><td>27.0</td><td>73.5</td><td>46.76537180435968</td></tr><tr><td>Money AI Empire</td><td>8</td><td>286</td><td>1424</td><td>5.0</td><td>49.0</td><td>28.0</td><td>73.5</td><td>48.49742261192856</td></tr><tr><td>Money AI Empire</td><td>8</td><td>286</td><td>1424</td><td>5.0</td><td>49.0</td><td>29.0</td><td>73.5</td><td>50.22947341949744</td></tr><tr><td>Money AI Empire</td><td>8</td><td>286</td><td>1424</td><td>5.0</td><td>49.0</td><td>30.0</td><td>73.5</td><td>51.96152422706631</td></tr><tr><td>Money AI Empire</td><td>8</td><td>286</td><td>1424</td><td>5.0</td><td>49.0</td><td>31.0</td><td>73.5</td><td>53.693575034635195</td></tr><tr><td>Money AI Empire</td><td>8</td><td>286</td><td>1424</td><td>5.0</td><td>50.0</td><td>29.0</td><td>75.0</td><td>50.22947341949744</td></tr><tr><td>Money AI Empire</td><td>8</td><td>286</td><td>1424</td><td>5.0</td><td>50.0</td><td>30.0</td><td>75.0</td><td>51.96152422706631</td></tr><tr><td>Money AI Empire</td><td>8</td><td>286</td><td>1424</td><td>5.0</td><td>50.0</td><td>31.0</td><td>75.0</td><td>53.693575034635195</td></tr><tr><td>Empire 6</td><td>8</td><td>18</td><td>872</td><td>5.0</td><td>4.0</td><td>17.0</td><td>6.0</td><td>29.444863728670914</td></tr><tr><td>Empire 6</td><td>8</td><td>18</td><td>872</td><td>5.0</td><td>4.0</td><td>18.0</td><td>6.0</td><td>31.17691453623979</td></tr><tr><td>Empire 11</td><td>8</td><td>11</td><td>851</td><td>5.0</td><td>23.0</td><td>26.0</td><td>34.5</td><td>45.033320996790806</td></tr><tr><td>Empire 15</td><td>8</td><td>14</td><td>907</td><td>5.0</td><td>31.0</td><td>15.0</td><td>46.5</td><td>25.980762113533157</td></tr><tr><td>Empire 11</td><td>8</td><td>11</td><td>851</td><td>5.0</td><td>24.0</td><td>29.0</td><td>36.0</td><td>50.22947341949744</td></tr><tr><td>Empire 5</td><td>8</td><td>10</td><td>849</td><td>5.0</td><td>20.0</td><td>23.0</td><td>30.0</td><td>39.837168574084174</td></tr><tr><td>Empire 6</td><td>8</td><td>18</td><td>872</td><td>5.0</td><td>10.0</td><td>17.0</td><td>15.0</td><td>29.444863728670914</td></tr><tr><td>Empire 6</td><td>8</td><td>18</td><td>872</td><td>5.0</td><td>6.0</td><td>20.0</td><td>9.0</td><td>34.64101615137754</td></tr><tr><td>Empire 6</td><td>8</td><td>18</td><td>872</td><td>5.0</td><td>7.0</td><td>17.0</td><td>10.5</td><td>29.444863728670914</td></tr><tr><td>Empire 7</td><td>8</td><td>7</td><td>821</td><td>5.0</td><td>41.0</td><td>22.0</td><td>61.5</td><td>38.1051177665153</td></tr><tr><td>Empire 16</td><td>8</td><td>5</td><td>791</td><td>5.0</td><td>34.0</td><td>8.0</td><td>51.0</td><td>13.856406460551018</td></tr><tr><td>Empire 16</td><td>8</td><td>5</td><td>791</td><td>5.0</td><td>35.0</td><td>6.0</td><td>52.5</td><td>10.392304845413264</td></tr><tr><td>Empire 14</td><td>8</td><td>4</td><td>786</td><td>5.0</td><td>5.0</td><td>5.0</td><td>7.5</td><td>8.660254037844386</td></tr><tr><td>Empire 14</td><td>8</td><td>4</td><td>786</td><td>5.0</td><td>6.0</td><td>5.0</td><td>9.0</td><td>8.660254037844386</td></tr><tr><td>Money AI Empire</td><td>7</td><td>254</td><td>927</td><td>5.0</td><td>60.0</td><td>7.0</td><td>90.0</td><td>12.12435565298214</td></tr><tr><td>Money AI Empire</td><td>7</td><td>254</td><td>927</td><td>5.0</td><td>60.0</td><td>8.0</td><td>90.0</td><td>13.856406460551018</td></tr><tr><td>Money AI Empire</td><td>7</td><td>254</td><td>927</td><td>5.0</td><td>60.0</td><td>9.0</td><td>90.0</td><td>15.588457268119894</td></tr><tr><td>Money AI Empire</td><td>7</td><td>254</td><td>927</td><td>5.0</td><td>60.0</td><td>10.0</td><td>90.0</td><td>17.32050807568877</td></tr><tr><td>Money AI Empire</td><td>7</td><td>254</td><td>927</td><td>5.0</td><td>61.0</td><td>0.0</td><td>91.5</td><td>0.0</td></tr><tr><td>Money AI Empire</td><td>7</td><td>254</td><td>927</td><td>5.0</td><td>61.0</td><td>1.0</td><td>91.5</td><td>1.7320508075688772</td></tr><tr><td>Money AI Empire</td><td>7</td><td>254</td><td>927</td><td>5.0</td><td>61.0</td><td>2.0</td><td>91.5</td><td>3.4641016151377544</td></tr><tr><td>Money AI Empire</td><td>7</td><td>254</td><td>927</td><td>5.0</td><td>61.0</td><td>3.0</td><td>91.5</td><td>5.196152422706632</td></tr><tr><td>Money AI Empire</td><td>7</td><td>254</td><td>927</td><td>5.0</td><td>61.0</td><td>4.0</td><td>91.5</td><td>6.928203230275509</td></tr><tr><td>Money AI Empire</td><td>7</td><td>254</td><td>927</td><td>5.0</td><td>61.0</td><td>5.0</td><td>91.5</td><td>8.660254037844386</td></tr><tr><td>Money AI Empire</td><td>7</td><td>254</td><td>927</td><td>5.0</td><td>61.0</td><td>6.0</td><td>91.5</td><td>10.392304845413264</td></tr><tr><td>Money AI Empire</td><td>7</td><td>254</td><td>927</td><td>5.0</td><td>61.0</td><td>7.0</td><td>91.5</td><td>12.12435565298214</td></tr><tr><td>Money AI Empire</td><td>7</td><td>254</td><td>927</td><td>5.0</td><td>61.0</td><td>8.0</td><td>91.5</td><td>13.856406460551018</td></tr><tr><td>Money AI Empire</td><td>7</td><td>254</td><td>927</td><td>5.0</td><td>61.0</td><td>9.0</td><td>91.5</td><td>15.588457268119894</td></tr><tr><td>Money AI Empire</td><td>7</td><td>254</td><td>927</td><td>5.0</td><td>61.0</td><td>10.0</td><td>91.5</td><td>17.32050807568877</td></tr><tr><td>Money AI Empire</td><td>7</td><td>254</td><td>927</td><td>5.0</td><td>61.0</td><td>11.0</td><td>91.5</td><td>19.05255888325765</td></tr><tr><td>Money AI Empire</td><td>7</td><td>254</td><td>927</td><td>5.0</td><td>61.0</td><td>14.0</td><td>91.5</td><td>24.24871130596428</td></tr><tr><td>Money AI Empire</td><td>7</td><td>254</td><td>927</td><td>5.0</td><td>62.0</td><td>0.0</td><td>93.0</td><td>0.0</td></tr><tr><td>Money AI Empire</td><td>7</td><td>254</td><td>927</td><td>5.0</td><td>62.0</td><td>1.0</td><td>93.0</td><td>1.7320508075688772</td></tr><tr><td>Money AI Empire</td><td>7</td><td>254</td><td>927</td><td>5.0</td><td>62.0</td><td>2.0</td><td>93.0</td><td>3.4641016151377544</td></tr><tr><td>Money AI Empire</td><td>7</td><td>254</td><td>927</td><td>5.0</td><td>62.0</td><td>3.0</td><td>93.0</td><td>5.196152422706632</td></tr><tr><td>Money AI Empire</td><td>7</td><td>254</td><td>927</td><td>5.0</td><td>62.0</td><td>4.0</td><td>93.0</td><td>6.928203230275509</td></tr><tr><td>Money AI Empire</td><td>7</td><td>254</td><td>927</td><td>5.0</td><td>62.0</td><td>5.0</td><td>93.0</td><td>8.660254037844386</td></tr><tr><td>Money AI Empire</td><td>7</td><td>254</td><td>927</td><td>5.0</td><td>62.0</td><td>6.0</td><td>93.0</td><td>10.392304845413264</td></tr><tr><td>Money AI Empire</td><td>7</td><td>254</td><td>927</td><td>5.0</td><td>62.0</td><td>7.0</td><td>93.0</td><td>12.12435565298214</td></tr><tr><td>Money AI Empire</td><td>7</td><td>254</td><td>927</td><td>5.0</td><td>62.0</td><td>8.0</td><td>93.0</td><td>13.856406460551018</td></tr><tr><td>Money AI Empire</td><td>7</td><td>254</td><td>927</td><td>5.0</td><td>62.0</td><td>12.0</td><td>93.0</td><td>20.784609690826528</td></tr><tr><td>Money AI Empire</td><td>7</td><td>254</td><td>927</td><td>5.0</td><td>62.0</td><td>13.0</td><td>93.0</td><td>22.516660498395403</td></tr><tr><td>Money AI Empire</td><td>7</td><td>254</td><td>927</td><td>5.0</td><td>63.0</td><td>0.0</td><td>94.5</td><td>0.0</td></tr><tr><td>Money AI Empire</td><td>7</td><td>254</td><td>927</td><td>5.0</td><td>63.0</td><td>12.0</td><td>94.5</td><td>20.784609690826528</td></tr><tr><td>Money AI Empire</td><td>7</td><td>254</td><td>927</td><td>5.0</td><td>55.0</td><td>27.0</td><td>82.5</td><td>46.76537180435968</td></tr><tr><td>Money AI Empire</td><td>7</td><td>254</td><td>927</td><td>5.0</td><td>55.0</td><td>28.0</td><td>82.5</td><td>48.49742261192856</td></tr><tr><td>Money AI Empire</td><td>7</td><td>254</td><td>927</td><td>5.0</td><td>56.0</td><td>3.0</td><td>84.0</td><td>5.196152422706632</td></tr><tr><td>Money AI Empire</td><td>7</td><td>254</td><td>927</td><td>5.0</td><td>56.0</td><td>5.0</td><td>84.0</td><td>8.660254037844386</td></tr><tr><td>Money AI Empire</td><td>7</td><td>254</td><td>927</td><td>5.0</td><td>56.0</td><td>17.0</td><td>84.0</td><td>29.444863728670914</td></tr><tr><td>Money AI Empire</td><td>7</td><td>254</td><td>927</td><td>5.0</td><td>56.0</td><td>18.0</td><td>84.0</td><td>31.17691453623979</td></tr><tr><td>Money AI Empire</td><td>7</td><td>254</td><td>927</td><td>5.0</td><td>56.0</td><td>19.0</td><td>84.0</td><td>32.90896534380867</td></tr><tr><td>Money AI Empire</td><td>7</td><td>254</td><td>927</td><td>5.0</td><td>56.0</td><td>20.0</td><td>84.0</td><td>34.64101615137754</td></tr><tr><td>Money AI Empire</td><td>7</td><td>254</td><td>927</td><td>5.0</td><td>56.0</td><td>21.0</td><td>84.0</td><td>36.373066958946424</td></tr><tr><td>Money AI Empire</td><td>7</td><td>254</td><td>927</td><td>5.0</td><td>56.0</td><td>22.0</td><td>84.0</td><td>38.1051177665153</td></tr><tr><td>Money AI Empire</td><td>7</td><td>254</td><td>927</td><td>5.0</td><td>56.0</td><td>23.0</td><td>84.0</td><td>39.837168574084174</td></tr><tr><td>Money AI Empire</td><td>7</td><td>254</td><td>927</td><td>5.0</td><td>56.0</td><td>24.0</td><td>84.0</td><td>41.569219381653056</td></tr><tr><td>Money AI Empire</td><td>7</td><td>254</td><td>927</td><td>5.0</td><td>56.0</td><td>25.0</td><td>84.0</td><td>43.30127018922193</td></tr><tr><td>Money AI Empire</td><td>7</td><td>254</td><td>927</td><td>5.0</td><td>56.0</td><td>26.0</td><td>84.0</td><td>45.033320996790806</td></tr><tr><td>Money AI Empire</td><td>7</td><td>254</td><td>927</td><td>5.0</td><td>56.0</td><td>27.0</td><td>84.0</td><td>46.76537180435968</td></tr><tr><td>Money AI Empire</td><td>7</td><td>254</td><td>927</td><td>5.0</td><td>57.0</td><td>3.0</td><td>85.5</td><td>5.196152422706632</td></tr><tr><td>Money AI Empire</td><td>7</td><td>254</td><td>927</td><td>5.0</td><td>57.0</td><td>4.0</td><td>85.5</td><td>6.928203230275509</td></tr><tr><td>Money AI Empire</td><td>7</td><td>254</td><td>927</td><td>5.0</td><td>57.0</td><td>5.0</td><td>85.5</td><td>8.660254037844386</td></tr><tr><td>Money AI Empire</td><td>7</td><td>254</td><td>927</td><td>5.0</td><td>57.0</td><td>6.0</td><td>85.5</td><td>10.392304845413264</td></tr><tr><td>Money AI Empire</td><td>7</td><td>254</td><td>927</td><td>5.0</td><td>58.0</td><td>22.0</td><td>87.0</td><td>38.1051177665153</td></tr><tr><td>Money AI Empire</td><td>7</td><td>254</td><td>927</td><td>5.0</td><td>58.0</td><td>23.0</td><td>87.0</td><td>39.837168574084174</td></tr><tr><td>Money AI Empire</td><td>7</td><td>254</td><td>927</td><td>5.0</td><td>58.0</td><td>24.0</td><td>87.0</td><td>41.569219381653056</td></tr><tr><td>Money AI Empire</td><td>7</td><td>254</td><td>927</td><td>5.0</td><td>58.0</td><td>25.0</td><td>87.0</td><td>43.30127018922193</td></tr><tr><td>Money AI Empire</td><td>7</td><td>254</td><td>927</td><td>5.0</td><td>59.0</td><td>0.0</td><td>88.5</td><td>0.0</td></tr><tr><td>Money AI Empire</td><td>7</td><td>254</td><td>927</td><td>5.0</td><td>59.0</td><td>1.0</td><td>88.5</td><td>1.7320508075688772</td></tr><tr><td>Money AI Empire</td><td>7</td><td>254</td><td>927</td><td>5.0</td><td>59.0</td><td>2.0</td><td>88.5</td><td>3.4641016151377544</td></tr><tr><td>Money AI Empire</td><td>7</td><td>254</td><td>927</td><td>5.0</td><td>59.0</td><td>3.0</td><td>88.5</td><td>5.196152422706632</td></tr><tr><td>Money AI Empire</td><td>7</td><td>254</td><td>927</td><td>5.0</td><td>59.0</td><td>4.0</td><td>88.5</td><td>6.928203230275509</td></tr><tr><td>Money AI Empire</td><td>7</td><td>254</td><td>927</td><td>5.0</td><td>59.0</td><td>5.0</td><td>88.5</td><td>8.660254037844386</td></tr><tr><td>Money AI Empire</td><td>7</td><td>254</td><td>927</td><td>5.0</td><td>59.0</td><td>6.0</td><td>88.5</td><td>10.392304845413264</td></tr><tr><td>Money AI Empire</td><td>7</td><td>254</td><td>927</td><td>5.0</td><td>59.0</td><td>7.0</td><td>88.5</td><td>12.12435565298214</td></tr><tr><td>Money AI Empire</td><td>7</td><td>254</td><td>927</td><td>5.0</td><td>59.0</td><td>8.0</td><td>88.5</td><td>13.856406460551018</td></tr><tr><td>Money AI Empire</td><td>7</td><td>254</td><td>927</td><td>5.0</td><td>59.0</td><td>16.0</td><td>88.5</td><td>27.712812921102035</td></tr><tr><td>Money AI Empire</td><td>7</td><td>254</td><td>927</td><td>5.0</td><td>59.0</td><td>22.0</td><td>88.5</td><td>38.1051177665153</td></tr><tr><td>Money AI Empire</td><td>7</td><td>254</td><td>927</td><td>5.0</td><td>59.0</td><td>23.0</td><td>88.5</td><td>39.837168574084174</td></tr><tr><td>Money AI Empire</td><td>7</td><td>254</td><td>927</td><td>5.0</td><td>59.0</td><td>24.0</td><td>88.5</td><td>41.569219381653056</td></tr><tr><td>Money AI Empire</td><td>7</td><td>254</td><td>927</td><td>5.0</td><td>60.0</td><td>0.0</td><td>90.0</td><td>0.0</td></tr><tr><td>Money AI Empire</td><td>7</td><td>254</td><td>927</td><td>5.0</td><td>60.0</td><td>1.0</td><td>90.0</td><td>1.7320508075688772</td></tr><tr><td>Money AI Empire</td><td>7</td><td>254</td><td>927</td><td>5.0</td><td>60.0</td><td>2.0</td><td>90.0</td><td>3.4641016151377544</td></tr><tr><td>Money AI Empire</td><td>7</td><td>254</td><td>927</td><td>5.0</td><td>60.0</td><td>3.0</td><td>90.0</td><td>5.196152422706632</td></tr><tr><td>Money AI Empire</td><td>7</td><td>254</td><td>927</td><td>5.0</td><td>60.0</td><td>4.0</td><td>90.0</td><td>6.928203230275509</td></tr><tr><td>Money AI Empire</td><td>7</td><td>254</td><td>927</td><td>5.0</td><td>60.0</td><td>5.0</td><td>90.0</td><td>8.660254037844386</td></tr><tr><td>Money AI Empire</td><td>7</td><td>254</td><td>927</td><td>5.0</td><td>60.0</td><td>6.0</td><td>90.0</td><td>10.392304845413264</td></tr><tr><td>Money AI Empire</td><td>7</td><td>254</td><td>927</td><td>5.0</td><td>53.0</td><td>31.0</td><td>79.5</td><td>53.693575034635195</td></tr><tr><td>Money AI Empire</td><td>7</td><td>254</td><td>927</td><td>5.0</td><td>54.0</td><td>24.0</td><td>81.0</td><td>41.569219381653056</td></tr><tr><td>Money AI Empire</td><td>7</td><td>254</td><td>927</td><td>5.0</td><td>54.0</td><td>25.0</td><td>81.0</td><td>43.30127018922193</td></tr><tr><td>Money AI Empire</td><td>7</td><td>254</td><td>927</td><td>5.0</td><td>54.0</td><td>26.0</td><td>81.0</td><td>45.033320996790806</td></tr><tr><td>Money AI Empire</td><td>7</td><td>254</td><td>927</td><td>5.0</td><td>54.0</td><td>27.0</td><td>81.0</td><td>46.76537180435968</td></tr><tr><td>Money AI Empire</td><td>7</td><td>254</td><td>927</td><td>5.0</td><td>54.0</td><td>28.0</td><td>81.0</td><td>48.49742261192856</td></tr><tr><td>Money AI Empire</td><td>7</td><td>254</td><td>927</td><td>5.0</td><td>54.0</td><td>29.0</td><td>81.0</td><td>50.22947341949744</td></tr><tr><td>Money AI Empire</td><td>7</td><td>254</td><td>927</td><td>5.0</td><td>55.0</td><td>17.0</td><td>82.5</td><td>29.444863728670914</td></tr><tr><td>Money AI Empire</td><td>7</td><td>254</td><td>927</td><td>5.0</td><td>55.0</td><td>18.0</td><td>82.5</td><td>31.17691453623979</td></tr><tr><td>Money AI Empire</td><td>7</td><td>254</td><td>927</td><td>5.0</td><td>55.0</td><td>19.0</td><td>82.5</td><td>32.90896534380867</td></tr><tr><td>Money AI Empire</td><td>7</td><td>254</td><td>927</td><td>5.0</td><td>55.0</td><td>20.0</td><td>82.5</td><td>34.64101615137754</td></tr><tr><td>Money AI Empire</td><td>7</td><td>254</td><td>927</td><td>5.0</td><td>55.0</td><td>22.0</td><td>82.5</td><td>38.1051177665153</td></tr><tr><td>Money AI Empire</td><td>7</td><td>254</td><td>927</td><td>5.0</td><td>55.0</td><td>23.0</td><td>82.5</td><td>39.837168574084174</td></tr><tr><td>Money AI Empire</td><td>7</td><td>254</td><td>927</td><td>5.0</td><td>55.0</td><td>24.0</td><td>82.5</td><td>41.569219381653056</td></tr><tr><td>Money AI Empire</td><td>7</td><td>254</td><td>927</td><td>5.0</td><td>55.0</td><td>25.0</td><td>82.5</td><td>43.30127018922193</td></tr><tr><td>Money AI Empire</td><td>7</td><td>254</td><td>927</td><td>5.0</td><td>55.0</td><td>26.0</td><td>82.5</td><td>45.033320996790806</td></tr><tr><td>Money AI Empire</td><td>7</td><td>254</td><td>927</td><td>5.0</td><td>51.0</td><td>31.0</td><td>76.5</td><td>53.693575034635195</td></tr><tr><td>Money AI Empire</td><td>7</td><td>254</td><td>927</td><td>5.0</td><td>52.0</td><td>24.0</td><td>78.0</td><td>41.569219381653056</td></tr><tr><td>Money AI Empire</td><td>7</td><td>254</td><td>927</td><td>5.0</td><td>52.0</td><td>25.0</td><td>78.0</td><td>43.30127018922193</td></tr><tr><td>Money AI Empire</td><td>7</td><td>254</td><td>927</td><td>5.0</td><td>52.0</td><td>26.0</td><td>78.0</td><td>45.033320996790806</td></tr><tr><td>Money AI Empire</td><td>7</td><td>254</td><td>927</td><td>5.0</td><td>52.0</td><td>27.0</td><td>78.0</td><td>46.76537180435968</td></tr><tr><td>Money AI Empire</td><td>7</td><td>254</td><td>927</td><td>5.0</td><td>52.0</td><td>28.0</td><td>78.0</td><td>48.49742261192856</td></tr><tr><td>Money AI Empire</td><td>7</td><td>254</td><td>927</td><td>5.0</td><td>52.0</td><td>29.0</td><td>78.0</td><td>50.22947341949744</td></tr><tr><td>Money AI Empire</td><td>7</td><td>254</td><td>927</td><td>5.0</td><td>52.0</td><td>30.0</td><td>78.0</td><td>51.96152422706631</td></tr><tr><td>Money AI Empire</td><td>7</td><td>254</td><td>927</td><td>5.0</td><td>52.0</td><td>31.0</td><td>78.0</td><td>53.693575034635195</td></tr><tr><td>Money AI Empire</td><td>7</td><td>254</td><td>927</td><td>5.0</td><td>53.0</td><td>25.0</td><td>79.5</td><td>43.30127018922193</td></tr><tr><td>Money AI Empire</td><td>7</td><td>254</td><td>927</td><td>5.0</td><td>53.0</td><td>26.0</td><td>79.5</td><td>45.033320996790806</td></tr><tr><td>Money AI Empire</td><td>7</td><td>254</td><td>927</td><td>5.0</td><td>53.0</td><td>27.0</td><td>79.5</td><td>46.76537180435968</td></tr><tr><td>Money AI Empire</td><td>7</td><td>254</td><td>927</td><td>5.0</td><td>53.0</td><td>28.0</td><td>79.5</td><td>48.49742261192856</td></tr><tr><td>Money AI Empire</td><td>7</td><td>254</td><td>927</td><td>5.0</td><td>53.0</td><td>29.0</td><td>79.5</td><td>50.22947341949744</td></tr><tr><td>Money AI Empire</td><td>7</td><td>254</td><td>927</td><td>5.0</td><td>53.0</td><td>30.0</td><td>79.5</td><td>51.96152422706631</td></tr><tr><td>Money AI Empire</td><td>7</td><td>254</td><td>927</td><td>5.0</td><td>57.0</td><td>17.0</td><td>85.5</td><td>29.444863728670914</td></tr><tr><td>Money AI Empire</td><td>7</td><td>254</td><td>927</td><td>5.0</td><td>57.0</td><td>18.0</td><td>85.5</td><td>31.17691453623979</td></tr><tr><td>Money AI Empire</td><td>7</td><td>254</td><td>927</td><td>5.0</td><td>57.0</td><td>20.0</td><td>85.5</td><td>34.64101615137754</td></tr><tr><td>Money AI Empire</td><td>7</td><td>254</td><td>927</td><td>5.0</td><td>57.0</td><td>21.0</td><td>85.5</td><td>36.373066958946424</td></tr><tr><td>Money AI Empire</td><td>7</td><td>254</td><td>927</td><td>5.0</td><td>57.0</td><td>22.0</td><td>85.5</td><td>38.1051177665153</td></tr><tr><td>Money AI Empire</td><td>7</td><td>254</td><td>927</td><td>5.0</td><td>57.0</td><td>23.0</td><td>85.5</td><td>39.837168574084174</td></tr><tr><td>Money AI Empire</td><td>7</td><td>254</td><td>927</td><td>5.0</td><td>57.0</td><td>24.0</td><td>85.5</td><td>41.569219381653056</td></tr><tr><td>Money AI Empire</td><td>7</td><td>254</td><td>927</td><td>5.0</td><td>57.0</td><td>25.0</td><td>85.5</td><td>43.30127018922193</td></tr><tr><td>Money AI Empire</td><td>7</td><td>254</td><td>927</td><td>5.0</td><td>57.0</td><td>26.0</td><td>85.5</td><td>45.033320996790806</td></tr><tr><td>Money AI Empire</td><td>7</td><td>254</td><td>927</td><td>5.0</td><td>58.0</td><td>0.0</td><td>87.0</td><td>0.0</td></tr><tr><td>Money AI Empire</td><td>7</td><td>254</td><td>927</td><td>5.0</td><td>58.0</td><td>1.0</td><td>87.0</td><td>1.7320508075688772</td></tr><tr><td>Money AI Empire</td><td>7</td><td>254</td><td>927</td><td>5.0</td><td>58.0</td><td>3.0</td><td>87.0</td><td>5.196152422706632</td></tr><tr><td>Money AI Empire</td><td>7</td><td>254</td><td>927</td><td>5.0</td><td>58.0</td><td>4.0</td><td>87.0</td><td>6.928203230275509</td></tr><tr><td>Money AI Empire</td><td>7</td><td>254</td><td>927</td><td>5.0</td><td>58.0</td><td>5.0</td><td>87.0</td><td>8.660254037844386</td></tr><tr><td>Money AI Empire</td><td>7</td><td>254</td><td>927</td><td>5.0</td><td>58.0</td><td>6.0</td><td>87.0</td><td>10.392304845413264</td></tr><tr><td>Money AI Empire</td><td>7</td><td>254</td><td>927</td><td>5.0</td><td>58.0</td><td>7.0</td><td>87.0</td><td>12.12435565298214</td></tr><tr><td>Money AI Empire</td><td>7</td><td>254</td><td>927</td><td>5.0</td><td>58.0</td><td>21.0</td><td>87.0</td><td>36.373066958946424</td></tr><tr><td>Money AI Empire</td><td>7</td><td>254</td><td>927</td><td>5.0</td><td>50.0</td><td>24.0</td><td>75.0</td><td>41.569219381653056</td></tr><tr><td>Money AI Empire</td><td>7</td><td>254</td><td>927</td><td>5.0</td><td>50.0</td><td>25.0</td><td>75.0</td><td>43.30127018922193</td></tr><tr><td>Money AI Empire</td><td>7</td><td>254</td><td>927</td><td>5.0</td><td>50.0</td><td>26.0</td><td>75.0</td><td>45.033320996790806</td></tr><tr><td>Money AI Empire</td><td>7</td><td>254</td><td>927</td><td>5.0</td><td>50.0</td><td>27.0</td><td>75.0</td><td>46.76537180435968</td></tr><tr><td>Money AI Empire</td><td>7</td><td>254</td><td>927</td><td>5.0</td><td>50.0</td><td>28.0</td><td>75.0</td><td>48.49742261192856</td></tr><tr><td>Money AI Empire</td><td>7</td><td>254</td><td>927</td><td>5.0</td><td>51.0</td><td>24.0</td><td>76.5</td><td>41.569219381653056</td></tr><tr><td>Money AI Empire</td><td>7</td><td>254</td><td>927</td><td>5.0</td><td>51.0</td><td>25.0</td><td>76.5</td><td>43.30127018922193</td></tr><tr><td>Money AI Empire</td><td>7</td><td>254</td><td>927</td><td>5.0</td><td>51.0</td><td>26.0</td><td>76.5</td><td>45.033320996790806</td></tr><tr><td>Money AI Empire</td><td>7</td><td>254</td><td>927</td><td>5.0</td><td>51.0</td><td>27.0</td><td>76.5</td><td>46.76537180435968</td></tr><tr><td>Money AI Empire</td><td>7</td><td>254</td><td>927</td><td>5.0</td><td>51.0</td><td>28.0</td><td>76.5</td><td>48.49742261192856</td></tr><tr><td>Money AI Empire</td><td>7</td><td>254</td><td>927</td><td>5.0</td><td>51.0</td><td>29.0</td><td>76.5</td><td>50.22947341949744</td></tr><tr><td>Money AI Empire</td><td>7</td><td>254</td><td>927</td><td>5.0</td><td>51.0</td><td>30.0</td><td>76.5</td><td>51.96152422706631</td></tr><tr><td>Empire 10</td><td>7</td><td>14</td><td>749</td><td>4.5</td><td>53.0</td><td>24.0</td><td>79.5</td><td>41.569219381653056</td></tr><tr><td>Empire 10</td><td>7</td><td>14</td><td>749</td><td>4.5</td><td>54.0</td><td>20.0</td><td>81.0</td><td>34.64101615137754</td></tr><tr><td>Empire 15</td><td>7</td><td>13</td><td>792</td><td>4.5</td><td>28.0</td><td>16.0</td><td>42.0</td><td>27.712812921102035</td></tr><tr><td>Empire 10</td><td>7</td><td>14</td><td>749</td><td>4.5</td><td>52.0</td><td>21.0</td><td>78.0</td><td>36.373066958946424</td></tr><tr><td>Empire 12</td><td>7</td><td>16</td><td>813</td><td>4.5</td><td>51.0</td><td>19.0</td><td>76.5</td><td>32.90896534380867</td></tr><tr><td>Empire 11</td><td>7</td><td>9</td><td>746</td><td>4.5</td><td>23.0</td><td>27.0</td><td>34.5</td><td>46.76537180435968</td></tr><tr><td>Empire 11</td><td>7</td><td>9</td><td>746</td><td>4.5</td><td>24.0</td><td>28.0</td><td>36.0</td><td>48.49742261192856</td></tr><tr><td>Empire 6</td><td>7</td><td>13</td><td>757</td><td>4.5</td><td>5.0</td><td>16.0</td><td>7.5</td><td>27.712812921102035</td></tr><tr><td>Empire 5</td><td>7</td><td>9</td><td>744</td><td>4.5</td><td>21.0</td><td>24.0</td><td>31.5</td><td>41.569219381653056</td></tr><tr><td>Empire 6</td><td>7</td><td>13</td><td>757</td><td>4.5</td><td>5.0</td><td>17.0</td><td>7.5</td><td>29.444863728670914</td></tr><tr><td>Empire 5</td><td>7</td><td>9</td><td>744</td><td>4.5</td><td>22.0</td><td>23.0</td><td>33.0</td><td>39.837168574084174</td></tr><tr><td>Empire 6</td><td>7</td><td>13</td><td>757</td><td>4.5</td><td>7.0</td><td>16.0</td><td>10.5</td><td>27.712812921102035</td></tr><tr><td>Empire 7</td><td>7</td><td>6</td><td>723</td><td>4.5</td><td>41.0</td><td>23.0</td><td>61.5</td><td>39.837168574084174</td></tr><tr><td>Empire 6</td><td>7</td><td>13</td><td>757</td><td>4.5</td><td>9.0</td><td>19.0</td><td>13.5</td><td>32.90896534380867</td></tr><tr><td>Empire 16</td><td>7</td><td>3</td><td>701</td><td>4.5</td><td>34.0</td><td>9.0</td><td>51.0</td><td>15.588457268119894</td></tr><tr><td>Empire 4</td><td>7</td><td>6</td><td>739</td><td>4.5</td><td>52.0</td><td>7.0</td><td>78.0</td><td>12.12435565298214</td></tr><tr><td>Money AI Empire</td><td>6</td><td>121</td><td>616</td><td>5.1</td><td>49.0</td><td>16.0</td><td>73.5</td><td>27.712812921102035</td></tr><tr><td>Money AI Empire</td><td>6</td><td>121</td><td>616</td><td>5.1</td><td>49.0</td><td>17.0</td><td>73.5</td><td>29.444863728670914</td></tr><tr><td>Money AI Empire</td><td>6</td><td>121</td><td>616</td><td>5.1</td><td>49.0</td><td>18.0</td><td>73.5</td><td>31.17691453623979</td></tr><tr><td>Money AI Empire</td><td>6</td><td>121</td><td>616</td><td>5.1</td><td>50.0</td><td>7.0</td><td>75.0</td><td>12.12435565298214</td></tr><tr><td>Money AI Empire</td><td>6</td><td>121</td><td>616</td><td>5.1</td><td>50.0</td><td>9.0</td><td>75.0</td><td>15.588457268119894</td></tr><tr><td>Money AI Empire</td><td>6</td><td>121</td><td>616</td><td>5.1</td><td>50.0</td><td>10.0</td><td>75.0</td><td>17.32050807568877</td></tr><tr><td>Money AI Empire</td><td>6</td><td>121</td><td>616</td><td>5.1</td><td>50.0</td><td>11.0</td><td>75.0</td><td>19.05255888325765</td></tr><tr><td>Money AI Empire</td><td>6</td><td>121</td><td>616</td><td>5.1</td><td>50.0</td><td>12.0</td><td>75.0</td><td>20.784609690826528</td></tr><tr><td>Money AI Empire</td><td>6</td><td>121</td><td>616</td><td>5.1</td><td>50.0</td><td>13.0</td><td>75.0</td><td>22.516660498395403</td></tr><tr><td>Money AI Empire</td><td>6</td><td>121</td><td>616</td><td>5.1</td><td>50.0</td><td>14.0</td><td>75.0</td><td>24.24871130596428</td></tr><tr><td>Money AI Empire</td><td>6</td><td>121</td><td>616</td><td>5.1</td><td>50.0</td><td>15.0</td><td>75.0</td><td>25.980762113533157</td></tr><tr><td>Money AI Empire</td><td>6</td><td>121</td><td>616</td><td>5.1</td><td>50.0</td><td>16.0</td><td>75.0</td><td>27.712812921102035</td></tr><tr><td>Money AI Empire</td><td>6</td><td>121</td><td>616</td><td>5.1</td><td>50.0</td><td>18.0</td><td>75.0</td><td>31.17691453623979</td></tr><tr><td>Money AI Empire</td><td>6</td><td>121</td><td>616</td><td>5.1</td><td>51.0</td><td>9.0</td><td>76.5</td><td>15.588457268119894</td></tr><tr><td>Money AI Empire</td><td>6</td><td>121</td><td>616</td><td>5.1</td><td>51.0</td><td>10.0</td><td>76.5</td><td>17.32050807568877</td></tr><tr><td>Money AI Empire</td><td>6</td><td>121</td><td>616</td><td>5.1</td><td>58.0</td><td>16.0</td><td>87.0</td><td>27.712812921102035</td></tr><tr><td>Money AI Empire</td><td>6</td><td>121</td><td>616</td><td>5.1</td><td>58.0</td><td>17.0</td><td>87.0</td><td>29.444863728670914</td></tr><tr><td>Money AI Empire</td><td>6</td><td>121</td><td>616</td><td>5.1</td><td>59.0</td><td>9.0</td><td>88.5</td><td>15.588457268119894</td></tr><tr><td>Money AI Empire</td><td>6</td><td>121</td><td>616</td><td>5.1</td><td>59.0</td><td>10.0</td><td>88.5</td><td>17.32050807568877</td></tr><tr><td>Money AI Empire</td><td>6</td><td>121</td><td>616</td><td>5.1</td><td>59.0</td><td>11.0</td><td>88.5</td><td>19.05255888325765</td></tr><tr><td>Money AI Empire</td><td>6</td><td>121</td><td>616</td><td>5.1</td><td>59.0</td><td>12.0</td><td>88.5</td><td>20.784609690826528</td></tr><tr><td>Money AI Empire</td><td>6</td><td>121</td><td>616</td><td>5.1</td><td>59.0</td><td>13.0</td><td>88.5</td><td>22.516660498395403</td></tr><tr><td>Money AI Empire</td><td>6</td><td>121</td><td>616</td><td>5.1</td><td>59.0</td><td>14.0</td><td>88.5</td><td>24.24871130596428</td></tr><tr><td>Money AI Empire</td><td>6</td><td>121</td><td>616</td><td>5.1</td><td>59.0</td><td>15.0</td><td>88.5</td><td>25.980762113533157</td></tr><tr><td>Money AI Empire</td><td>6</td><td>121</td><td>616</td><td>5.1</td><td>60.0</td><td>11.0</td><td>90.0</td><td>19.05255888325765</td></tr><tr><td>Money AI Empire</td><td>6</td><td>121</td><td>616</td><td>5.1</td><td>60.0</td><td>12.0</td><td>90.0</td><td>20.784609690826528</td></tr><tr><td>Money AI Empire</td><td>6</td><td>121</td><td>616</td><td>5.1</td><td>60.0</td><td>13.0</td><td>90.0</td><td>22.516660498395403</td></tr><tr><td>Money AI Empire</td><td>6</td><td>121</td><td>616</td><td>5.1</td><td>60.0</td><td>14.0</td><td>90.0</td><td>24.24871130596428</td></tr><tr><td>Money AI Empire</td><td>6</td><td>121</td><td>616</td><td>5.1</td><td>60.0</td><td>15.0</td><td>90.0</td><td>25.980762113533157</td></tr><tr><td>Money AI Empire</td><td>6</td><td>121</td><td>616</td><td>5.1</td><td>61.0</td><td>12.0</td><td>91.5</td><td>20.784609690826528</td></tr><tr><td>Money AI Empire</td><td>6</td><td>121</td><td>616</td><td>5.1</td><td>61.0</td><td>13.0</td><td>91.5</td><td>22.516660498395403</td></tr><tr><td>Money AI Empire</td><td>6</td><td>121</td><td>616</td><td>5.1</td><td>48.0</td><td>10.0</td><td>72.0</td><td>17.32050807568877</td></tr><tr><td>Money AI Empire</td><td>6</td><td>121</td><td>616</td><td>5.1</td><td>48.0</td><td>11.0</td><td>72.0</td><td>19.05255888325765</td></tr><tr><td>Money AI Empire</td><td>6</td><td>121</td><td>616</td><td>5.1</td><td>48.0</td><td>14.0</td><td>72.0</td><td>24.24871130596428</td></tr><tr><td>Money AI Empire</td><td>6</td><td>121</td><td>616</td><td>5.1</td><td>48.0</td><td>15.0</td><td>72.0</td><td>25.980762113533157</td></tr><tr><td>Money AI Empire</td><td>6</td><td>121</td><td>616</td><td>5.1</td><td>48.0</td><td>16.0</td><td>72.0</td><td>27.712812921102035</td></tr><tr><td>Money AI Empire</td><td>6</td><td>121</td><td>616</td><td>5.1</td><td>48.0</td><td>17.0</td><td>72.0</td><td>29.444863728670914</td></tr><tr><td>Money AI Empire</td><td>6</td><td>121</td><td>616</td><td>5.1</td><td>48.0</td><td>18.0</td><td>72.0</td><td>31.17691453623979</td></tr><tr><td>Money AI Empire</td><td>6</td><td>121</td><td>616</td><td>5.1</td><td>49.0</td><td>7.0</td><td>73.5</td><td>12.12435565298214</td></tr><tr><td>Money AI Empire</td><td>6</td><td>121</td><td>616</td><td>5.1</td><td>49.0</td><td>8.0</td><td>73.5</td><td>13.856406460551018</td></tr><tr><td>Money AI Empire</td><td>6</td><td>121</td><td>616</td><td>5.1</td><td>49.0</td><td>9.0</td><td>73.5</td><td>15.588457268119894</td></tr><tr><td>Money AI Empire</td><td>6</td><td>121</td><td>616</td><td>5.1</td><td>49.0</td><td>10.0</td><td>73.5</td><td>17.32050807568877</td></tr><tr><td>Money AI Empire</td><td>6</td><td>121</td><td>616</td><td>5.1</td><td>49.0</td><td>11.0</td><td>73.5</td><td>19.05255888325765</td></tr><tr><td>Money AI Empire</td><td>6</td><td>121</td><td>616</td><td>5.1</td><td>49.0</td><td>13.0</td><td>73.5</td><td>22.516660498395403</td></tr><tr><td>Money AI Empire</td><td>6</td><td>121</td><td>616</td><td>5.1</td><td>49.0</td><td>14.0</td><td>73.5</td><td>24.24871130596428</td></tr><tr><td>Money AI Empire</td><td>6</td><td>121</td><td>616</td><td>5.1</td><td>49.0</td><td>15.0</td><td>73.5</td><td>25.980762113533157</td></tr><tr><td>Money AI Empire</td><td>6</td><td>121</td><td>616</td><td>5.1</td><td>51.0</td><td>11.0</td><td>76.5</td><td>19.05255888325765</td></tr><tr><td>Money AI Empire</td><td>6</td><td>121</td><td>616</td><td>5.1</td><td>51.0</td><td>14.0</td><td>76.5</td><td>24.24871130596428</td></tr><tr><td>Money AI Empire</td><td>6</td><td>121</td><td>616</td><td>5.1</td><td>51.0</td><td>15.0</td><td>76.5</td><td>25.980762113533157</td></tr><tr><td>Money AI Empire</td><td>6</td><td>121</td><td>616</td><td>5.1</td><td>52.0</td><td>9.0</td><td>78.0</td><td>15.588457268119894</td></tr><tr><td>Money AI Empire</td><td>6</td><td>121</td><td>616</td><td>5.1</td><td>52.0</td><td>10.0</td><td>78.0</td><td>17.32050807568877</td></tr><tr><td>Money AI Empire</td><td>6</td><td>121</td><td>616</td><td>5.1</td><td>52.0</td><td>11.0</td><td>78.0</td><td>19.05255888325765</td></tr><tr><td>Money AI Empire</td><td>6</td><td>121</td><td>616</td><td>5.1</td><td>52.0</td><td>12.0</td><td>78.0</td><td>20.784609690826528</td></tr><tr><td>Money AI Empire</td><td>6</td><td>121</td><td>616</td><td>5.1</td><td>52.0</td><td>13.0</td><td>78.0</td><td>22.516660498395403</td></tr><tr><td>Money AI Empire</td><td>6</td><td>121</td><td>616</td><td>5.1</td><td>52.0</td><td>14.0</td><td>78.0</td><td>24.24871130596428</td></tr><tr><td>Money AI Empire</td><td>6</td><td>121</td><td>616</td><td>5.1</td><td>52.0</td><td>15.0</td><td>78.0</td><td>25.980762113533157</td></tr><tr><td>Money AI Empire</td><td>6</td><td>121</td><td>616</td><td>5.1</td><td>52.0</td><td>16.0</td><td>78.0</td><td>27.712812921102035</td></tr><tr><td>Money AI Empire</td><td>6</td><td>121</td><td>616</td><td>5.1</td><td>53.0</td><td>8.0</td><td>79.5</td><td>13.856406460551018</td></tr><tr><td>Money AI Empire</td><td>6</td><td>121</td><td>616</td><td>5.1</td><td>53.0</td><td>9.0</td><td>79.5</td><td>15.588457268119894</td></tr><tr><td>Money AI Empire</td><td>6</td><td>121</td><td>616</td><td>5.1</td><td>46.0</td><td>12.0</td><td>69.0</td><td>20.784609690826528</td></tr><tr><td>Money AI Empire</td><td>6</td><td>121</td><td>616</td><td>5.1</td><td>46.0</td><td>13.0</td><td>69.0</td><td>22.516660498395403</td></tr><tr><td>Money AI Empire</td><td>6</td><td>121</td><td>616</td><td>5.1</td><td>46.0</td><td>14.0</td><td>69.0</td><td>24.24871130596428</td></tr><tr><td>Money AI Empire</td><td>6</td><td>121</td><td>616</td><td>5.1</td><td>46.0</td><td>15.0</td><td>69.0</td><td>25.980762113533157</td></tr><tr><td>Money AI Empire</td><td>6</td><td>121</td><td>616</td><td>5.1</td><td>46.0</td><td>16.0</td><td>69.0</td><td>27.712812921102035</td></tr><tr><td>Money AI Empire</td><td>6</td><td>121</td><td>616</td><td>5.1</td><td>47.0</td><td>8.0</td><td>70.5</td><td>13.856406460551018</td></tr><tr><td>Money AI Empire</td><td>6</td><td>121</td><td>616</td><td>5.1</td><td>47.0</td><td>9.0</td><td>70.5</td><td>15.588457268119894</td></tr><tr><td>Money AI Empire</td><td>6</td><td>121</td><td>616</td><td>5.1</td><td>47.0</td><td>13.0</td><td>70.5</td><td>22.516660498395403</td></tr><tr><td>Money AI Empire</td><td>6</td><td>121</td><td>616</td><td>5.1</td><td>47.0</td><td>14.0</td><td>70.5</td><td>24.24871130596428</td></tr><tr><td>Money AI Empire</td><td>6</td><td>121</td><td>616</td><td>5.1</td><td>47.0</td><td>15.0</td><td>70.5</td><td>25.980762113533157</td></tr><tr><td>Money AI Empire</td><td>6</td><td>121</td><td>616</td><td>5.1</td><td>47.0</td><td>16.0</td><td>70.5</td><td>27.712812921102035</td></tr><tr><td>Money AI Empire</td><td>6</td><td>121</td><td>616</td><td>5.1</td><td>47.0</td><td>17.0</td><td>70.5</td><td>29.444863728670914</td></tr><tr><td>Money AI Empire</td><td>6</td><td>121</td><td>616</td><td>5.1</td><td>48.0</td><td>7.0</td><td>72.0</td><td>12.12435565298214</td></tr><tr><td>Money AI Empire</td><td>6</td><td>121</td><td>616</td><td>5.1</td><td>48.0</td><td>8.0</td><td>72.0</td><td>13.856406460551018</td></tr><tr><td>Money AI Empire</td><td>6</td><td>121</td><td>616</td><td>5.1</td><td>48.0</td><td>9.0</td><td>72.0</td><td>15.588457268119894</td></tr><tr><td>Money AI Empire</td><td>6</td><td>121</td><td>616</td><td>5.1</td><td>53.0</td><td>10.0</td><td>79.5</td><td>17.32050807568877</td></tr><tr><td>Money AI Empire</td><td>6</td><td>121</td><td>616</td><td>5.1</td><td>53.0</td><td>11.0</td><td>79.5</td><td>19.05255888325765</td></tr><tr><td>Money AI Empire</td><td>6</td><td>121</td><td>616</td><td>5.1</td><td>53.0</td><td>12.0</td><td>79.5</td><td>20.784609690826528</td></tr><tr><td>Money AI Empire</td><td>6</td><td>121</td><td>616</td><td>5.1</td><td>53.0</td><td>13.0</td><td>79.5</td><td>22.516660498395403</td></tr><tr><td>Money AI Empire</td><td>6</td><td>121</td><td>616</td><td>5.1</td><td>53.0</td><td>14.0</td><td>79.5</td><td>24.24871130596428</td></tr><tr><td>Money AI Empire</td><td>6</td><td>121</td><td>616</td><td>5.1</td><td>53.0</td><td>15.0</td><td>79.5</td><td>25.980762113533157</td></tr><tr><td>Money AI Empire</td><td>6</td><td>121</td><td>616</td><td>5.1</td><td>54.0</td><td>7.0</td><td>81.0</td><td>12.12435565298214</td></tr><tr><td>Money AI Empire</td><td>6</td><td>121</td><td>616</td><td>5.1</td><td>54.0</td><td>8.0</td><td>81.0</td><td>13.856406460551018</td></tr><tr><td>Money AI Empire</td><td>6</td><td>121</td><td>616</td><td>5.1</td><td>54.0</td><td>9.0</td><td>81.0</td><td>15.588457268119894</td></tr><tr><td>Money AI Empire</td><td>6</td><td>121</td><td>616</td><td>5.1</td><td>54.0</td><td>10.0</td><td>81.0</td><td>17.32050807568877</td></tr><tr><td>Money AI Empire</td><td>6</td><td>121</td><td>616</td><td>5.1</td><td>54.0</td><td>12.0</td><td>81.0</td><td>20.784609690826528</td></tr><tr><td>Money AI Empire</td><td>6</td><td>121</td><td>616</td><td>5.1</td><td>54.0</td><td>13.0</td><td>81.0</td><td>22.516660498395403</td></tr><tr><td>Money AI Empire</td><td>6</td><td>121</td><td>616</td><td>5.1</td><td>54.0</td><td>14.0</td><td>81.0</td><td>24.24871130596428</td></tr><tr><td>Money AI Empire</td><td>6</td><td>121</td><td>616</td><td>5.1</td><td>54.0</td><td>15.0</td><td>81.0</td><td>25.980762113533157</td></tr><tr><td>Money AI Empire</td><td>6</td><td>121</td><td>616</td><td>5.1</td><td>55.0</td><td>7.0</td><td>82.5</td><td>12.12435565298214</td></tr><tr><td>Money AI Empire</td><td>6</td><td>121</td><td>616</td><td>5.1</td><td>55.0</td><td>8.0</td><td>82.5</td><td>13.856406460551018</td></tr><tr><td>Money AI Empire</td><td>6</td><td>121</td><td>616</td><td>5.1</td><td>55.0</td><td>9.0</td><td>82.5</td><td>15.588457268119894</td></tr><tr><td>Money AI Empire</td><td>6</td><td>121</td><td>616</td><td>5.1</td><td>55.0</td><td>11.0</td><td>82.5</td><td>19.05255888325765</td></tr><tr><td>Money AI Empire</td><td>6</td><td>121</td><td>616</td><td>5.1</td><td>55.0</td><td>12.0</td><td>82.5</td><td>20.784609690826528</td></tr><tr><td>Money AI Empire</td><td>6</td><td>121</td><td>616</td><td>5.1</td><td>55.0</td><td>13.0</td><td>82.5</td><td>22.516660498395403</td></tr><tr><td>Money AI Empire</td><td>6</td><td>121</td><td>616</td><td>5.1</td><td>55.0</td><td>14.0</td><td>82.5</td><td>24.24871130596428</td></tr><tr><td>Money AI Empire</td><td>6</td><td>121</td><td>616</td><td>5.1</td><td>56.0</td><td>6.0</td><td>84.0</td><td>10.392304845413264</td></tr><tr><td>Money AI Empire</td><td>6</td><td>121</td><td>616</td><td>5.1</td><td>56.0</td><td>7.0</td><td>84.0</td><td>12.12435565298214</td></tr><tr><td>Money AI Empire</td><td>6</td><td>121</td><td>616</td><td>5.1</td><td>56.0</td><td>8.0</td><td>84.0</td><td>13.856406460551018</td></tr><tr><td>Money AI Empire</td><td>6</td><td>121</td><td>616</td><td>5.1</td><td>56.0</td><td>9.0</td><td>84.0</td><td>15.588457268119894</td></tr><tr><td>Money AI Empire</td><td>6</td><td>121</td><td>616</td><td>5.1</td><td>56.0</td><td>11.0</td><td>84.0</td><td>19.05255888325765</td></tr><tr><td>Money AI Empire</td><td>6</td><td>121</td><td>616</td><td>5.1</td><td>56.0</td><td>12.0</td><td>84.0</td><td>20.784609690826528</td></tr><tr><td>Money AI Empire</td><td>6</td><td>121</td><td>616</td><td>5.1</td><td>56.0</td><td>13.0</td><td>84.0</td><td>22.516660498395403</td></tr><tr><td>Money AI Empire</td><td>6</td><td>121</td><td>616</td><td>5.1</td><td>56.0</td><td>14.0</td><td>84.0</td><td>24.24871130596428</td></tr><tr><td>Money AI Empire</td><td>6</td><td>121</td><td>616</td><td>5.1</td><td>57.0</td><td>7.0</td><td>85.5</td><td>12.12435565298214</td></tr><tr><td>Money AI Empire</td><td>6</td><td>121</td><td>616</td><td>5.1</td><td>57.0</td><td>8.0</td><td>85.5</td><td>13.856406460551018</td></tr><tr><td>Money AI Empire</td><td>6</td><td>121</td><td>616</td><td>5.1</td><td>57.0</td><td>9.0</td><td>85.5</td><td>15.588457268119894</td></tr><tr><td>Money AI Empire</td><td>6</td><td>121</td><td>616</td><td>5.1</td><td>57.0</td><td>10.0</td><td>85.5</td><td>17.32050807568877</td></tr><tr><td>Money AI Empire</td><td>6</td><td>121</td><td>616</td><td>5.1</td><td>57.0</td><td>11.0</td><td>85.5</td><td>19.05255888325765</td></tr><tr><td>Money AI Empire</td><td>6</td><td>121</td><td>616</td><td>5.1</td><td>57.0</td><td>12.0</td><td>85.5</td><td>20.784609690826528</td></tr><tr><td>Money AI Empire</td><td>6</td><td>121</td><td>616</td><td>5.1</td><td>57.0</td><td>13.0</td><td>85.5</td><td>22.516660498395403</td></tr><tr><td>Money AI Empire</td><td>6</td><td>121</td><td>616</td><td>5.1</td><td>57.0</td><td>14.0</td><td>85.5</td><td>24.24871130596428</td></tr><tr><td>Money AI Empire</td><td>6</td><td>121</td><td>616</td><td>5.1</td><td>58.0</td><td>8.0</td><td>87.0</td><td>13.856406460551018</td></tr><tr><td>Money AI Empire</td><td>6</td><td>121</td><td>616</td><td>5.1</td><td>58.0</td><td>9.0</td><td>87.0</td><td>15.588457268119894</td></tr><tr><td>Money AI Empire</td><td>6</td><td>121</td><td>616</td><td>5.1</td><td>58.0</td><td>10.0</td><td>87.0</td><td>17.32050807568877</td></tr><tr><td>Money AI Empire</td><td>6</td><td>121</td><td>616</td><td>5.1</td><td>58.0</td><td>11.0</td><td>87.0</td><td>19.05255888325765</td></tr><tr><td>Money AI Empire</td><td>6</td><td>121</td><td>616</td><td>5.1</td><td>58.0</td><td>12.0</td><td>87.0</td><td>20.784609690826528</td></tr><tr><td>Money AI Empire</td><td>6</td><td>121</td><td>616</td><td>5.1</td><td>58.0</td><td>13.0</td><td>87.0</td><td>22.516660498395403</td></tr><tr><td>Money AI Empire</td><td>6</td><td>121</td><td>616</td><td>5.1</td><td>58.0</td><td>14.0</td><td>87.0</td><td>24.24871130596428</td></tr><tr><td>Money AI Empire</td><td>6</td><td>121</td><td>616</td><td>5.1</td><td>58.0</td><td>15.0</td><td>87.0</td><td>25.980762113533157</td></tr><tr><td>Empire 10</td><td>6</td><td>11</td><td>639</td><td>4.0</td><td>51.0</td><td>23.0</td><td>76.5</td><td>39.837168574084174</td></tr><tr><td>Empire 10</td><td>6</td><td>11</td><td>639</td><td>4.0</td><td>52.0</td><td>22.0</td><td>78.0</td><td>38.1051177665153</td></tr><tr><td>Empire 10</td><td>6</td><td>11</td><td>639</td><td>4.0</td><td>53.0</td><td>23.0</td><td>79.5</td><td>39.837168574084174</td></tr><tr><td>Empire 12</td><td>6</td><td>15</td><td>693</td><td>4.0</td><td>53.0</td><td>16.0</td><td>79.5</td><td>27.712812921102035</td></tr><tr><td>Empire 12</td><td>6</td><td>15</td><td>693</td><td>4.0</td><td>54.0</td><td>18.0</td><td>81.0</td><td>31.17691453623979</td></tr><tr><td>Empire 15</td><td>6</td><td>12</td><td>679</td><td>4.0</td><td>31.0</td><td>19.0</td><td>46.5</td><td>32.90896534380867</td></tr><tr><td>Empire 13</td><td>6</td><td>4</td><td>627</td><td>4.0</td><td>54.0</td><td>16.0</td><td>81.0</td><td>27.712812921102035</td></tr><tr><td>Empire 5</td><td>6</td><td>7</td><td>644</td><td>4.0</td><td>21.0</td><td>23.0</td><td>31.5</td><td>39.837168574084174</td></tr><tr><td>Empire 7</td><td>6</td><td>5</td><td>628</td><td>4.0</td><td>39.0</td><td>23.0</td><td>58.5</td><td>39.837168574084174</td></tr><tr><td>Empire 9</td><td>6</td><td>3</td><td>610</td><td>4.0</td><td>54.0</td><td>11.0</td><td>81.0</td><td>19.05255888325765</td></tr><tr><td>Empire 5</td><td>6</td><td>7</td><td>644</td><td>4.0</td><td>23.0</td><td>25.0</td><td>34.5</td><td>43.30127018922193</td></tr><tr><td>Empire 7</td><td>6</td><td>5</td><td>628</td><td>4.0</td><td>42.0</td><td>24.0</td><td>63.0</td><td>41.569219381653056</td></tr><tr><td>Empire 9</td><td>6</td><td>3</td><td>610</td><td>4.0</td><td>56.0</td><td>10.0</td><td>84.0</td><td>17.32050807568877</td></tr><tr><td>Empire 5</td><td>6</td><td>7</td><td>644</td><td>4.0</td><td>24.0</td><td>23.0</td><td>36.0</td><td>39.837168574084174</td></tr><tr><td>Empire 3</td><td>6</td><td>4</td><td>621</td><td>4.0</td><td>57.0</td><td>16.0</td><td>85.5</td><td>27.712812921102035</td></tr><tr><td>Empire 8</td><td>6</td><td>6</td><td>644</td><td>4.0</td><td>49.0</td><td>12.0</td><td>73.5</td><td>20.784609690826528</td></tr><tr><td>Empire 14</td><td>6</td><td>2</td><td>610</td><td>4.0</td><td>5.0</td><td>3.0</td><td>7.5</td><td>5.196152422706632</td></tr><tr><td>Empire 2</td><td>6</td><td>7</td><td>638</td><td>4.0</td><td>63.0</td><td>8.0</td><td>94.5</td><td>13.856406460551018</td></tr><tr><td>Empire 6</td><td>6</td><td>9</td><td>652</td><td>4.0</td><td>9.0</td><td>17.0</td><td>13.5</td><td>29.444863728670914</td></tr><tr><td>Empire 15</td><td>5</td><td>11</td><td>569</td><td>3.5</td><td>28.0</td><td>17.0</td><td>42.0</td><td>29.444863728670914</td></tr><tr><td>Empire 15</td><td>5</td><td>11</td><td>569</td><td>3.5</td><td>29.0</td><td>17.0</td><td>43.5</td><td>29.444863728670914</td></tr><tr><td>Empire 12</td><td>5</td><td>13</td><td>578</td><td>3.5</td><td>49.0</td><td>19.0</td><td>73.5</td><td>32.90896534380867</td></tr><tr><td>Empire 12</td><td>5</td><td>13</td><td>578</td><td>3.5</td><td>50.0</td><td>17.0</td><td>75.0</td><td>29.444863728670914</td></tr><tr><td>Empire 12</td><td>5</td><td>13</td><td>578</td><td>3.5</td><td>54.0</td><td>19.0</td><td>81.0</td><td>32.90896534380867</td></tr><tr><td>Empire 10</td><td>5</td><td>8</td><td>536</td><td>3.5</td><td>52.0</td><td>23.0</td><td>78.0</td><td>39.837168574084174</td></tr><tr><td>Empire 10</td><td>5</td><td>8</td><td>536</td><td>3.5</td><td>53.0</td><td>20.0</td><td>79.5</td><td>34.64101615137754</td></tr><tr><td>Empire 11</td><td>5</td><td>7</td><td>546</td><td>3.5</td><td>21.0</td><td>27.0</td><td>31.5</td><td>46.76537180435968</td></tr><tr><td>Empire 13</td><td>5</td><td>3</td><td>537</td><td>3.5</td><td>54.0</td><td>17.0</td><td>81.0</td><td>29.444863728670914</td></tr><tr><td>Empire 11</td><td>5</td><td>7</td><td>546</td><td>3.5</td><td>22.0</td><td>26.0</td><td>33.0</td><td>45.033320996790806</td></tr><tr><td>Empire 10</td><td>5</td><td>8</td><td>536</td><td>3.5</td><td>54.0</td><td>22.0</td><td>81.0</td><td>38.1051177665153</td></tr><tr><td>Empire 10</td><td>5</td><td>8</td><td>536</td><td>3.5</td><td>54.0</td><td>23.0</td><td>81.0</td><td>39.837168574084174</td></tr><tr><td>Empire 10</td><td>5</td><td>8</td><td>536</td><td>3.5</td><td>55.0</td><td>21.0</td><td>82.5</td><td>36.373066958946424</td></tr><tr><td>Empire 3</td><td>5</td><td>3</td><td>531</td><td>3.5</td><td>56.0</td><td>15.0</td><td>84.0</td><td>25.980762113533157</td></tr><tr><td>Empire 8</td><td>5</td><td>5</td><td>549</td><td>3.5</td><td>48.0</td><td>13.0</td><td>72.0</td><td>22.516660498395403</td></tr><tr><td>Empire 16</td><td>5</td><td>2</td><td>525</td><td>3.5</td><td>35.0</td><td>7.0</td><td>52.5</td><td>12.12435565298214</td></tr><tr><td>Empire 6</td><td>5</td><td>8</td><td>549</td><td>3.5</td><td>5.0</td><td>18.0</td><td>7.5</td><td>31.17691453623979</td></tr><tr><td>Empire 2</td><td>5</td><td>6</td><td>540</td><td>3.5</td><td>62.0</td><td>9.0</td><td>93.0</td><td>15.588457268119894</td></tr><tr><td>Empire 1</td><td>5</td><td>7</td><td>544</td><td>3.5</td><td>55.0</td><td>0.0</td><td>82.5</td><td>0.0</td></tr><tr><td>Empire 1</td><td>5</td><td>7</td><td>544</td><td>3.5</td><td>57.0</td><td>0.0</td><td>85.5</td><td>0.0</td></tr><tr><td>Empire 1</td><td>5</td><td>7</td><td>544</td><td>3.5</td><td>58.0</td><td>2.0</td><td>87.0</td><td>3.4641016151377544</td></tr><tr><td>Empire 4</td><td>5</td><td>5</td><td>549</td><td>3.5</td><td>53.0</td><td>7.0</td><td>79.5</td><td>12.12435565298214</td></tr><tr><td>Empire 6</td><td>5</td><td>8</td><td>549</td><td>3.5</td><td>8.0</td><td>20.0</td><td>12.0</td><td>34.64101615137754</td></tr><tr><td>Empire 22</td><td>4</td><td>40</td><td>766</td><td>2.02</td><td>25.0</td><td>30.0</td><td>37.5</td><td>51.96152422706631</td></tr><tr><td>Money AI Empire</td><td>4</td><td>2</td><td>440</td><td>3.1</td><td>51.0</td><td>13.0</td><td>76.5</td><td>22.516660498395403</td></tr><tr><td>Empire 12</td><td>4</td><td>10</td><td>470</td><td>3.0</td><td>51.0</td><td>17.0</td><td>76.5</td><td>29.444863728670914</td></tr><tr><td>Empire 12</td><td>4</td><td>10</td><td>470</td><td>3.0</td><td>53.0</td><td>17.0</td><td>79.5</td><td>29.444863728670914</td></tr><tr><td>Empire 12</td><td>4</td><td>10</td><td>470</td><td>3.0</td><td>53.0</td><td>19.0</td><td>79.5</td><td>32.90896534380867</td></tr><tr><td>Empire 15</td><td>4</td><td>9</td><td>464</td><td>3.0</td><td>28.0</td><td>18.0</td><td>42.0</td><td>31.17691453623979</td></tr><tr><td>Empire 11</td><td>4</td><td>5</td><td>451</td><td>3.0</td><td>21.0</td><td>29.0</td><td>31.5</td><td>50.22947341949744</td></tr><tr><td>Empire 15</td><td>4</td><td>9</td><td>464</td><td>3.0</td><td>30.0</td><td>16.0</td><td>45.0</td><td>27.712812921102035</td></tr><tr><td>Empire 10</td><td>4</td><td>3</td><td>446</td><td>3.0</td><td>54.0</td><td>21.0</td><td>81.0</td><td>36.373066958946424</td></tr><tr><td>Empire 15</td><td>4</td><td>9</td><td>464</td><td>3.0</td><td>31.0</td><td>18.0</td><td>46.5</td><td>31.17691453623979</td></tr><tr><td>Empire 20</td><td>4</td><td>5</td><td>459</td><td>3.0</td><td>16.0</td><td>30.0</td><td>24.0</td><td>51.96152422706631</td></tr><tr><td>Empire 2</td><td>4</td><td>5</td><td>445</td><td>3.0</td><td>62.0</td><td>11.0</td><td>93.0</td><td>19.05255888325765</td></tr><tr><td>Empire 2</td><td>4</td><td>5</td><td>445</td><td>3.0</td><td>63.0</td><td>11.0</td><td>94.5</td><td>19.05255888325765</td></tr><tr><td>Empire 6</td><td>4</td><td>6</td><td>451</td><td>3.0</td><td>6.0</td><td>17.0</td><td>9.0</td><td>29.444863728670914</td></tr><tr><td>Empire 6</td><td>4</td><td>6</td><td>451</td><td>3.0</td><td>8.0</td><td>18.0</td><td>12.0</td><td>31.17691453623979</td></tr><tr><td>Empire 6</td><td>4</td><td>6</td><td>451</td><td>3.0</td><td>8.0</td><td>19.0</td><td>12.0</td><td>32.90896534380867</td></tr><tr><td>Empire 1</td><td>4</td><td>4</td><td>451</td><td>3.0</td><td>57.0</td><td>2.0</td><td>85.5</td><td>3.4641016151377544</td></tr><tr><td>Empire 22</td><td>3</td><td>39</td><td>594</td><td>1.82</td><td>19.0</td><td>26.0</td><td>28.5</td><td>45.033320996790806</td></tr><tr><td>Empire 22</td><td>3</td><td>39</td><td>594</td><td>1.82</td><td>24.0</td><td>31.0</td><td>36.0</td><td>53.693575034635195</td></tr><tr><td>Empire 23</td><td>3</td><td>19</td><td>473</td><td>2.5</td><td>38.0</td><td>21.0</td><td>57.0</td><td>36.373066958946424</td></tr><tr><td>Empire 23</td><td>3</td><td>19</td><td>473</td><td>2.5</td><td>41.0</td><td>20.0</td><td>61.5</td><td>34.64101615137754</td></tr><tr><td>Empire 15</td><td>3</td><td>6</td><td>366</td><td>2.5</td><td>28.0</td><td>19.0</td><td>42.0</td><td>32.90896534380867</td></tr><tr><td>Empire 11</td><td>3</td><td>4</td><td>358</td><td>2.5</td><td>22.0</td><td>27.0</td><td>33.0</td><td>46.76537180435968</td></tr><tr><td>Empire 15</td><td>3</td><td>6</td><td>366</td><td>2.5</td><td>30.0</td><td>17.0</td><td>45.0</td><td>29.444863728670914</td></tr><tr><td>Empire 11</td><td>3</td><td>4</td><td>358</td><td>2.5</td><td>22.0</td><td>29.0</td><td>33.0</td><td>50.22947341949744</td></tr><tr><td>Empire 12</td><td>3</td><td>7</td><td>370</td><td>2.5</td><td>50.0</td><td>19.0</td><td>75.0</td><td>32.90896534380867</td></tr><tr><td>Empire 12</td><td>3</td><td>7</td><td>370</td><td>2.5</td><td>53.0</td><td>18.0</td><td>79.5</td><td>31.17691453623979</td></tr><tr><td>Empire 2</td><td>3</td><td>3</td><td>355</td><td>2.5</td><td>62.0</td><td>10.0</td><td>93.0</td><td>17.32050807568877</td></tr><tr><td>Empire 5</td><td>3</td><td>4</td><td>365</td><td>2.5</td><td>23.0</td><td>23.0</td><td>34.5</td><td>39.837168574084174</td></tr><tr><td>Empire 7</td><td>3</td><td>3</td><td>358</td><td>2.5</td><td>41.0</td><td>24.0</td><td>61.5</td><td>41.569219381653056</td></tr><tr><td>Empire 3</td><td>3</td><td>2</td><td>355</td><td>2.5</td><td>57.0</td><td>15.0</td><td>85.5</td><td>25.980762113533157</td></tr><tr><td>Empire 2</td><td>3</td><td>3</td><td>355</td><td>2.5</td><td>63.0</td><td>10.0</td><td>94.5</td><td>17.32050807568877</td></tr><tr><td>Empire 8</td><td>3</td><td>4</td><td>363</td><td>2.5</td><td>47.0</td><td>12.0</td><td>70.5</td><td>20.784609690826528</td></tr><tr><td>Empire 4</td><td>3</td><td>4</td><td>363</td><td>2.5</td><td>50.0</td><td>8.0</td><td>75.0</td><td>13.856406460551018</td></tr><tr><td>Empire 1</td><td>3</td><td>3</td><td>361</td><td>2.5</td><td>56.0</td><td>2.0</td><td>84.0</td><td>3.4641016151377544</td></tr><tr><td>Empire 6</td><td>3</td><td>3</td><td>361</td><td>2.5</td><td>7.0</td><td>19.0</td><td>10.5</td><td>32.90896534380867</td></tr><tr><td>Empire 22</td><td>2</td><td>37</td><td>426</td><td>1.58</td><td>18.0</td><td>27.0</td><td>27.0</td><td>46.76537180435968</td></tr><tr><td>Empire 22</td><td>2</td><td>37</td><td>426</td><td>1.58</td><td>18.0</td><td>31.0</td><td>27.0</td><td>53.693575034635195</td></tr><tr><td>Empire 21</td><td>2</td><td>53</td><td>485</td><td>0.96</td><td>9.0</td><td>20.0</td><td>13.5</td><td>34.64101615137754</td></tr><tr><td>Empire 21</td><td>2</td><td>53</td><td>485</td><td>0.96</td><td>9.0</td><td>14.0</td><td>13.5</td><td>24.24871130596428</td></tr><tr><td>Empire 15</td><td>2</td><td>4</td><td>273</td><td>2.0</td><td>29.0</td><td>18.0</td><td>43.5</td><td>31.17691453623979</td></tr><tr><td>Empire 11</td><td>2</td><td>2</td><td>270</td><td>2.0</td><td>22.0</td><td>28.0</td><td>33.0</td><td>48.49742261192856</td></tr><tr><td>Empire 15</td><td>2</td><td>4</td><td>273</td><td>2.0</td><td>30.0</td><td>18.0</td><td>45.0</td><td>31.17691453623979</td></tr><tr><td>Empire 10</td><td>2</td><td>2</td><td>270</td><td>2.0</td><td>53.0</td><td>22.0</td><td>79.5</td><td>38.1051177665153</td></tr><tr><td>Empire 20</td><td>2</td><td>4</td><td>273</td><td>2.0</td><td>17.0</td><td>29.0</td><td>25.5</td><td>50.22947341949744</td></tr><tr><td>Empire 12</td><td>2</td><td>5</td><td>275</td><td>2.0</td><td>51.0</td><td>18.0</td><td>76.5</td><td>31.17691453623979</td></tr><tr><td>Empire 12</td><td>2</td><td>5</td><td>275</td><td>2.0</td><td>52.0</td><td>19.0</td><td>78.0</td><td>32.90896534380867</td></tr><tr><td>Empire 20</td><td>2</td><td>4</td><td>273</td><td>2.0</td><td>17.0</td><td>31.0</td><td>25.5</td><td>53.693575034635195</td></tr><tr><td>Empire 7</td><td>2</td><td>2</td><td>270</td><td>2.0</td><td>40.0</td><td>24.0</td><td>60.0</td><td>41.569219381653056</td></tr><tr><td>Empire 8</td><td>2</td><td>3</td><td>273</td><td>2.0</td><td>48.0</td><td>12.0</td><td>72.0</td><td>20.784609690826528</td></tr><tr><td>Empire 4</td><td>2</td><td>3</td><td>273</td><td>2.0</td><td>51.0</td><td>7.0</td><td>76.5</td><td>12.12435565298214</td></tr><tr><td>Money AI Empire</td><td>15</td><td>359</td><td>0</td><td>5.0</td><td>57.0</td><td>16.0</td><td>85.5</td><td>27.712812921102035</td></tr><tr><td>Money AI Empire</td><td>15</td><td>359</td><td>0</td><td>5.0</td><td>52.0</td><td>18.0</td><td>78.0</td><td>31.17691453623979</td></tr><tr><td>Money AI Empire</td><td>15</td><td>359</td><td>0</td><td>5.0</td><td>49.0</td><td>12.0</td><td>73.5</td><td>20.784609690826528</td></tr><tr><td>Money AI Empire</td><td>15</td><td>359</td><td>0</td><td>5.0</td><td>52.0</td><td>20.0</td><td>78.0</td><td>34.64101615137754</td></tr><tr><td>Money AI Empire</td><td>15</td><td>359</td><td>0</td><td>5.0</td><td>52.0</td><td>23.0</td><td>78.0</td><td>39.837168574084174</td></tr><tr><td>Money AI Empire</td><td>15</td><td>359</td><td>0</td><td>5.0</td><td>50.0</td><td>20.0</td><td>75.0</td><td>34.64101615137754</td></tr><tr><td>Money AI Empire</td><td>15</td><td>359</td><td>0</td><td>5.0</td><td>62.0</td><td>10.0</td><td>93.0</td><td>17.32050807568877</td></tr><tr><td>Money AI Empire</td><td>15</td><td>359</td><td>0</td><td>5.0</td><td>63.0</td><td>9.0</td><td>94.5</td><td>15.588457268119894</td></tr><tr><td>Money AI Empire</td><td>15</td><td>359</td><td>0</td><td>5.0</td><td>51.0</td><td>18.0</td><td>76.5</td><td>31.17691453623979</td></tr><tr><td>Money AI Empire</td><td>15</td><td>359</td><td>0</td><td>5.0</td><td>57.0</td><td>2.0</td><td>85.5</td><td>3.4641016151377544</td></tr><tr><td>Money AI Empire</td><td>15</td><td>359</td><td>0</td><td>5.0</td><td>52.0</td><td>19.0</td><td>78.0</td><td>32.90896534380867</td></tr><tr><td>Money AI Empire</td><td>15</td><td>359</td><td>0</td><td>5.0</td><td>52.0</td><td>21.0</td><td>78.0</td><td>36.373066958946424</td></tr><tr><td>Money AI Empire</td><td>15</td><td>359</td><td>0</td><td>5.0</td><td>56.0</td><td>15.0</td><td>84.0</td><td>25.980762113533157</td></tr><tr><td>Money AI Empire</td><td>15</td><td>359</td><td>0</td><td>5.0</td><td>53.0</td><td>24.0</td><td>79.5</td><td>41.569219381653056</td></tr><tr><td>Money AI Empire</td><td>15</td><td>359</td><td>0</td><td>5.0</td><td>53.0</td><td>23.0</td><td>79.5</td><td>39.837168574084174</td></tr><tr><td>Money AI Empire</td><td>15</td><td>359</td><td>0</td><td>5.0</td><td>51.0</td><td>17.0</td><td>76.5</td><td>29.444863728670914</td></tr><tr><td>Money AI Empire</td><td>15</td><td>359</td><td>0</td><td>5.0</td><td>48.0</td><td>12.0</td><td>72.0</td><td>20.784609690826528</td></tr><tr><td>Money AI Empire</td><td>15</td><td>359</td><td>0</td><td>5.0</td><td>56.0</td><td>2.0</td><td>84.0</td><td>3.4641016151377544</td></tr><tr><td>Money AI Empire</td><td>15</td><td>359</td><td>0</td><td>5.0</td><td>53.0</td><td>17.0</td><td>79.5</td><td>29.444863728670914</td></tr><tr><td>Money AI Empire</td><td>15</td><td>359</td><td>0</td><td>5.0</td><td>62.0</td><td>9.0</td><td>93.0</td><td>15.588457268119894</td></tr><tr><td>Money AI Empire</td><td>15</td><td>359</td><td>0</td><td>5.0</td><td>57.0</td><td>15.0</td><td>85.5</td><td>25.980762113533157</td></tr><tr><td>Money AI Empire</td><td>15</td><td>359</td><td>0</td><td>5.0</td><td>57.0</td><td>0.0</td><td>85.5</td><td>0.0</td></tr><tr><td>Money AI Empire</td><td>15</td><td>359</td><td>0</td><td>5.0</td><td>56.0</td><td>1.0</td><td>84.0</td><td>1.7320508075688772</td></tr><tr><td>Money AI Empire</td><td>15</td><td>359</td><td>0</td><td>5.0</td><td>54.0</td><td>20.0</td><td>81.0</td><td>34.64101615137754</td></tr><tr><td>Money AI Empire</td><td>15</td><td>359</td><td>0</td><td>5.0</td><td>52.0</td><td>7.0</td><td>78.0</td><td>12.12435565298214</td></tr><tr><td>Money AI Empire</td><td>15</td><td>359</td><td>0</td><td>5.0</td><td>54.0</td><td>21.0</td><td>81.0</td><td>36.373066958946424</td></tr><tr><td>Money AI Empire</td><td>15</td><td>359</td><td>0</td><td>5.0</td><td>51.0</td><td>19.0</td><td>76.5</td><td>32.90896534380867</td></tr><tr><td>Money AI Empire</td><td>15</td><td>359</td><td>0</td><td>5.0</td><td>53.0</td><td>20.0</td><td>79.5</td><td>34.64101615137754</td></tr><tr><td>Money AI Empire</td><td>15</td><td>359</td><td>0</td><td>5.0</td><td>54.0</td><td>23.0</td><td>81.0</td><td>39.837168574084174</td></tr><tr><td>Money AI Empire</td><td>15</td><td>359</td><td>0</td><td>5.0</td><td>63.0</td><td>11.0</td><td>94.5</td><td>19.05255888325765</td></tr><tr><td>Money AI Empire</td><td>15</td><td>359</td><td>0</td><td>5.0</td><td>52.0</td><td>17.0</td><td>78.0</td><td>29.444863728670914</td></tr><tr><td>Money AI Empire</td><td>15</td><td>359</td><td>0</td><td>5.0</td><td>55.0</td><td>0.0</td><td>82.5</td><td>0.0</td></tr><tr><td>Money AI Empire</td><td>15</td><td>359</td><td>0</td><td>5.0</td><td>51.0</td><td>23.0</td><td>76.5</td><td>39.837168574084174</td></tr><tr><td>Money AI Empire</td><td>15</td><td>359</td><td>0</td><td>5.0</td><td>53.0</td><td>22.0</td><td>79.5</td><td>38.1051177665153</td></tr><tr><td>Money AI Empire</td><td>15</td><td>359</td><td>0</td><td>5.0</td><td>54.0</td><td>16.0</td><td>81.0</td><td>27.712812921102035</td></tr><tr><td>Money AI Empire</td><td>15</td><td>359</td><td>0</td><td>5.0</td><td>51.0</td><td>8.0</td><td>76.5</td><td>13.856406460551018</td></tr><tr><td>Money AI Empire</td><td>15</td><td>359</td><td>0</td><td>5.0</td><td>47.0</td><td>11.0</td><td>70.5</td><td>19.05255888325765</td></tr><tr><td>Money AI Empire</td><td>15</td><td>359</td><td>0</td><td>5.0</td><td>50.0</td><td>8.0</td><td>75.0</td><td>13.856406460551018</td></tr><tr><td>Money AI Empire</td><td>15</td><td>359</td><td>0</td><td>5.0</td><td>51.0</td><td>20.0</td><td>76.5</td><td>34.64101615137754</td></tr><tr><td>Money AI Empire</td><td>15</td><td>359</td><td>0</td><td>5.0</td><td>54.0</td><td>11.0</td><td>81.0</td><td>19.05255888325765</td></tr><tr><td>Money AI Empire</td><td>15</td><td>359</td><td>0</td><td>5.0</td><td>53.0</td><td>21.0</td><td>79.5</td><td>36.373066958946424</td></tr><tr><td>Money AI Empire</td><td>15</td><td>359</td><td>0</td><td>5.0</td><td>55.0</td><td>21.0</td><td>82.5</td><td>36.373066958946424</td></tr><tr><td>Money AI Empire</td><td>15</td><td>359</td><td>0</td><td>5.0</td><td>48.0</td><td>13.0</td><td>72.0</td><td>22.516660498395403</td></tr><tr><td>Money AI Empire</td><td>15</td><td>359</td><td>0</td><td>5.0</td><td>56.0</td><td>16.0</td><td>84.0</td><td>27.712812921102035</td></tr><tr><td>Money AI Empire</td><td>15</td><td>359</td><td>0</td><td>5.0</td><td>54.0</td><td>18.0</td><td>81.0</td><td>31.17691453623979</td></tr><tr><td>Money AI Empire</td><td>15</td><td>359</td><td>0</td><td>5.0</td><td>53.0</td><td>19.0</td><td>79.5</td><td>32.90896534380867</td></tr><tr><td>Money AI Empire</td><td>15</td><td>359</td><td>0</td><td>5.0</td><td>55.0</td><td>16.0</td><td>82.5</td><td>27.712812921102035</td></tr><tr><td>Money AI Empire</td><td>15</td><td>359</td><td>0</td><td>5.0</td><td>56.0</td><td>10.0</td><td>84.0</td><td>17.32050807568877</td></tr><tr><td>Money AI Empire</td><td>15</td><td>359</td><td>0</td><td>5.0</td><td>49.0</td><td>19.0</td><td>73.5</td><td>32.90896534380867</td></tr><tr><td>Money AI Empire</td><td>15</td><td>359</td><td>0</td><td>5.0</td><td>51.0</td><td>22.0</td><td>76.5</td><td>38.1051177665153</td></tr><tr><td>Money AI Empire</td><td>15</td><td>359</td><td>0</td><td>5.0</td><td>51.0</td><td>21.0</td><td>76.5</td><td>36.373066958946424</td></tr><tr><td>Money AI Empire</td><td>15</td><td>359</td><td>0</td><td>5.0</td><td>51.0</td><td>7.0</td><td>76.5</td><td>12.12435565298214</td></tr><tr><td>Money AI Empire</td><td>15</td><td>359</td><td>0</td><td>5.0</td><td>53.0</td><td>7.0</td><td>79.5</td><td>12.12435565298214</td></tr><tr><td>Money AI Empire</td><td>15</td><td>359</td><td>0</td><td>5.0</td><td>57.0</td><td>1.0</td><td>85.5</td><td>1.7320508075688772</td></tr><tr><td>Money AI Empire</td><td>15</td><td>359</td><td>0</td><td>5.0</td><td>54.0</td><td>22.0</td><td>81.0</td><td>38.1051177665153</td></tr><tr><td>Money AI Empire</td><td>15</td><td>359</td><td>0</td><td>5.0</td><td>51.0</td><td>16.0</td><td>76.5</td><td>27.712812921102035</td></tr><tr><td>Money AI Empire</td><td>15</td><td>359</td><td>0</td><td>5.0</td><td>50.0</td><td>19.0</td><td>75.0</td><td>32.90896534380867</td></tr><tr><td>Money AI Empire</td><td>15</td><td>359</td><td>0</td><td>5.0</td><td>56.0</td><td>0.0</td><td>84.0</td><td>0.0</td></tr><tr><td>Money AI Empire</td><td>15</td><td>359</td><td>0</td><td>5.0</td><td>53.0</td><td>18.0</td><td>79.5</td><td>31.17691453623979</td></tr><tr><td>Money AI Empire</td><td>15</td><td>359</td><td>0</td><td>5.0</td><td>47.0</td><td>12.0</td><td>70.5</td><td>20.784609690826528</td></tr><tr><td>Money AI Empire</td><td>15</td><td>359</td><td>0</td><td>5.0</td><td>52.0</td><td>8.0</td><td>78.0</td><td>13.856406460551018</td></tr><tr><td>Money AI Empire</td><td>15</td><td>359</td><td>0</td><td>5.0</td><td>54.0</td><td>19.0</td><td>81.0</td><td>32.90896534380867</td></tr><tr><td>Money AI Empire</td><td>15</td><td>359</td><td>0</td><td>5.0</td><td>55.0</td><td>15.0</td><td>82.5</td><td>25.980762113533157</td></tr><tr><td>Money AI Empire</td><td>15</td><td>359</td><td>0</td><td>5.0</td><td>55.0</td><td>10.0</td><td>82.5</td><td>17.32050807568877</td></tr><tr><td>Money AI Empire</td><td>15</td><td>359</td><td>0</td><td>5.0</td><td>53.0</td><td>16.0</td><td>79.5</td><td>27.712812921102035</td></tr><tr><td>Money AI Empire</td><td>15</td><td>359</td><td>0</td><td>5.0</td><td>47.0</td><td>10.0</td><td>70.5</td><td>17.32050807568877</td></tr><tr><td>Money AI Empire</td><td>15</td><td>359</td><td>0</td><td>5.0</td><td>54.0</td><td>17.0</td><td>81.0</td><td>29.444863728670914</td></tr><tr><td>Money AI Empire</td><td>15</td><td>359</td><td>0</td><td>5.0</td><td>52.0</td><td>22.0</td><td>78.0</td><td>38.1051177665153</td></tr><tr><td>Money AI Empire</td><td>15</td><td>359</td><td>0</td><td>5.0</td><td>63.0</td><td>8.0</td><td>94.5</td><td>13.856406460551018</td></tr><tr><td>Money AI Empire</td><td>15</td><td>359</td><td>0</td><td>5.0</td><td>63.0</td><td>10.0</td><td>94.5</td><td>17.32050807568877</td></tr><tr><td>Money AI Empire</td><td>15</td><td>359</td><td>0</td><td>5.0</td><td>58.0</td><td>2.0</td><td>87.0</td><td>3.4641016151377544</td></tr><tr><td>Money AI Empire</td><td>15</td><td>359</td><td>0</td><td>5.0</td><td>62.0</td><td>11.0</td><td>93.0</td><td>19.05255888325765</td></tr><tr><td>Money AI Empire</td><td>15</td><td>359</td><td>0</td><td>5.0</td><td>50.0</td><td>17.0</td><td>75.0</td><td>29.444863728670914</td></tr><tr><td>Empire 6</td><td>12</td><td>38</td><td>1451</td><td>5.0</td><td>3.0</td><td>14.0</td><td>4.5</td><td>24.24871130596428</td></tr><tr><td>Empire 6</td><td>12</td><td>38</td><td>1451</td><td>5.0</td><td>3.0</td><td>16.0</td><td>4.5</td><td>27.712812921102035</td></tr><tr><td>Empire 11</td><td>12</td><td>26</td><td>1349</td><td>5.0</td><td>18.0</td><td>30.0</td><td>27.0</td><td>51.96152422706631</td></tr><tr><td>Empire 11</td><td>12</td><td>26</td><td>1349</td><td>5.0</td><td>19.0</td><td>28.0</td><td>28.5</td><td>48.49742261192856</td></tr><tr><td>Empire 5</td><td>12</td><td>23</td><td>1316</td><td>5.0</td><td>18.0</td><td>24.0</td><td>27.0</td><td>41.569219381653056</td></tr><tr><td>Empire 5</td><td>12</td><td>23</td><td>1316</td><td>5.0</td><td>19.0</td><td>23.0</td><td>28.5</td><td>39.837168574084174</td></tr><tr><td>Empire 11</td><td>12</td><td>26</td><td>1349</td><td>5.0</td><td>20.0</td><td>27.0</td><td>30.0</td><td>46.76537180435968</td></tr><tr><td>Empire 15</td><td>12</td><td>30</td><td>1422</td><td>5.0</td><td>30.0</td><td>14.0</td><td>45.0</td><td>24.24871130596428</td></tr><tr><td>Empire 15</td><td>12</td><td>30</td><td>1422</td><td>5.0</td><td>32.0</td><td>18.0</td><td>48.0</td><td>31.17691453623979</td></tr><tr><td>Empire 15</td><td>12</td><td>30</td><td>1422</td><td>5.0</td><td>26.0</td><td>17.0</td><td>39.0</td><td>29.444863728670914</td></tr><tr><td>Empire 15</td><td>12</td><td>30</td><td>1422</td><td>5.0</td><td>25.0</td><td>17.0</td><td>37.5</td><td>29.444863728670914</td></tr><tr><td>Empire 16</td><td>12</td><td>13</td><td>1197</td><td>5.0</td><td>34.0</td><td>10.0</td><td>51.0</td><td>17.32050807568877</td></tr><tr><td>Empire 15</td><td>12</td><td>30</td><td>1422</td><td>5.0</td><td>31.0</td><td>14.0</td><td>46.5</td><td>24.24871130596428</td></tr><tr><td>Empire 6</td><td>12</td><td>38</td><td>1451</td><td>5.0</td><td>11.0</td><td>16.0</td><td>16.5</td><td>27.712812921102035</td></tr><tr><td>Empire 5</td><td>12</td><td>23</td><td>1316</td><td>5.0</td><td>19.0</td><td>22.0</td><td>28.5</td><td>38.1051177665153</td></tr><tr><td>Empire 5</td><td>12</td><td>23</td><td>1316</td><td>5.0</td><td>18.0</td><td>25.0</td><td>27.0</td><td>43.30127018922193</td></tr><tr><td>Empire 5</td><td>12</td><td>23</td><td>1316</td><td>5.0</td><td>23.0</td><td>21.0</td><td>34.5</td><td>36.373066958946424</td></tr><tr><td>Empire 16</td><td>12</td><td>13</td><td>1197</td><td>5.0</td><td>37.0</td><td>7.0</td><td>55.5</td><td>12.12435565298214</td></tr><tr><td>Empire 16</td><td>12</td><td>13</td><td>1197</td><td>5.0</td><td>36.0</td><td>5.0</td><td>54.0</td><td>8.660254037844386</td></tr><tr><td>Empire 6</td><td>12</td><td>38</td><td>1451</td><td>5.0</td><td>5.0</td><td>14.0</td><td>7.5</td><td>24.24871130596428</td></tr><tr><td>Empire 14</td><td>12</td><td>14</td><td>1185</td><td>5.0</td><td>8.0</td><td>5.0</td><td>12.0</td><td>8.660254037844386</td></tr><tr><td>Empire 14</td><td>12</td><td>14</td><td>1185</td><td>5.0</td><td>4.0</td><td>3.0</td><td>6.0</td><td>5.196152422706632</td></tr><tr><td>Empire 14</td><td>12</td><td>14</td><td>1185</td><td>5.0</td><td>8.0</td><td>7.0</td><td>12.0</td><td>12.12435565298214</td></tr><tr><td>Empire 14</td><td>12</td><td>14</td><td>1185</td><td>5.0</td><td>6.0</td><td>3.0</td><td>9.0</td><td>5.196152422706632</td></tr><tr><td>Empire 11</td><td>11</td><td>23</td><td>1209</td><td>5.0</td><td>19.0</td><td>30.0</td><td>28.5</td><td>51.96152422706631</td></tr><tr><td>Empire 11</td><td>11</td><td>23</td><td>1209</td><td>5.0</td><td>20.0</td><td>28.0</td><td>30.0</td><td>48.49742261192856</td></tr><tr><td>Empire 15</td><td>11</td><td>25</td><td>1278</td><td>5.0</td><td>31.0</td><td>17.0</td><td>46.5</td><td>29.444863728670914</td></tr><tr><td>Empire 15</td><td>11</td><td>25</td><td>1278</td><td>5.0</td><td>27.0</td><td>16.0</td><td>40.5</td><td>27.712812921102035</td></tr><tr><td>Empire 15</td><td>11</td><td>25</td><td>1278</td><td>5.0</td><td>26.0</td><td>18.0</td><td>39.0</td><td>31.17691453623979</td></tr><tr><td>Empire 15</td><td>11</td><td>25</td><td>1278</td><td>5.0</td><td>27.0</td><td>17.0</td><td>40.5</td><td>29.444863728670914</td></tr><tr><td>Empire 5</td><td>11</td><td>18</td><td>1188</td><td>5.0</td><td>24.0</td><td>22.0</td><td>36.0</td><td>38.1051177665153</td></tr><tr><td>Empire 5</td><td>11</td><td>18</td><td>1188</td><td>5.0</td><td>19.0</td><td>24.0</td><td>28.5</td><td>41.569219381653056</td></tr><tr><td>Empire 6</td><td>11</td><td>34</td><td>1289</td><td>5.0</td><td>7.0</td><td>21.0</td><td>10.5</td><td>36.373066958946424</td></tr><tr><td>Empire 6</td><td>11</td><td>34</td><td>1289</td><td>5.0</td><td>8.0</td><td>17.0</td><td>12.0</td><td>29.444863728670914</td></tr><tr><td>Empire 6</td><td>11</td><td>34</td><td>1289</td><td>5.0</td><td>3.0</td><td>17.0</td><td>4.5</td><td>29.444863728670914</td></tr><tr><td>Empire 6</td><td>11</td><td>34</td><td>1289</td><td>5.0</td><td>4.0</td><td>15.0</td><td>6.0</td><td>25.980762113533157</td></tr><tr><td>Empire 15</td><td>11</td><td>25</td><td>1278</td><td>5.0</td><td>32.0</td><td>17.0</td><td>48.0</td><td>29.444863728670914</td></tr><tr><td>Empire 15</td><td>11</td><td>25</td><td>1278</td><td>5.0</td><td>33.0</td><td>15.0</td><td>49.5</td><td>25.980762113533157</td></tr><tr><td>Empire 12</td><td>11</td><td>18</td><td>1307</td><td>5.0</td><td>50.0</td><td>20.0</td><td>75.0</td><td>34.64101615137754</td></tr><tr><td>Empire 11</td><td>11</td><td>23</td><td>1209</td><td>5.0</td><td>22.0</td><td>30.0</td><td>33.0</td><td>51.96152422706631</td></tr><tr><td>Empire 11</td><td>11</td><td>23</td><td>1209</td><td>5.0</td><td>21.0</td><td>31.0</td><td>31.5</td><td>53.693575034635195</td></tr><tr><td>Empire 5</td><td>11</td><td>18</td><td>1188</td><td>5.0</td><td>22.0</td><td>22.0</td><td>33.0</td><td>38.1051177665153</td></tr><tr><td>Empire 5</td><td>11</td><td>18</td><td>1188</td><td>5.0</td><td>21.0</td><td>22.0</td><td>31.5</td><td>38.1051177665153</td></tr><tr><td>Empire 16</td><td>11</td><td>10</td><td>1089</td><td>5.0</td><td>37.0</td><td>6.0</td><td>55.5</td><td>10.392304845413264</td></tr><tr><td>Empire 16</td><td>11</td><td>10</td><td>1089</td><td>5.0</td><td>34.0</td><td>7.0</td><td>51.0</td><td>12.12435565298214</td></tr><tr><td>Empire 6</td><td>11</td><td>34</td><td>1289</td><td>5.0</td><td>9.0</td><td>16.0</td><td>13.5</td><td>27.712812921102035</td></tr><tr><td>Empire 14</td><td>11</td><td>10</td><td>1077</td><td>5.0</td><td>3.0</td><td>3.0</td><td>4.5</td><td>5.196152422706632</td></tr><tr><td>Empire 14</td><td>11</td><td>10</td><td>1077</td><td>5.0</td><td>6.0</td><td>4.0</td><td>9.0</td><td>6.928203230275509</td></tr><tr><td>Empire 14</td><td>11</td><td>10</td><td>1077</td><td>5.0</td><td>7.0</td><td>6.0</td><td>10.5</td><td>10.392304845413264</td></tr><tr><td>Empire 6</td><td>10</td><td>29</td><td>1137</td><td>5.0</td><td>10.0</td><td>16.0</td><td>15.0</td><td>27.712812921102035</td></tr><tr><td>Empire 6</td><td>10</td><td>29</td><td>1137</td><td>5.0</td><td>10.0</td><td>18.0</td><td>15.0</td><td>31.17691453623979</td></tr><tr><td>Empire 6</td><td>10</td><td>29</td><td>1137</td><td>5.0</td><td>10.0</td><td>19.0</td><td>15.0</td><td>32.90896534380867</td></tr><tr><td>Empire 10</td><td>10</td><td>16</td><td>1103</td><td>5.0</td><td>51.0</td><td>22.0</td><td>76.5</td><td>38.1051177665153</td></tr><tr><td>Empire 11</td><td>10</td><td>19</td><td>1079</td><td>5.0</td><td>20.0</td><td>29.0</td><td>30.0</td><td>50.22947341949744</td></tr><tr><td>Empire 10</td><td>10</td><td>16</td><td>1103</td><td>5.0</td><td>52.0</td><td>20.0</td><td>78.0</td><td>34.64101615137754</td></tr><tr><td>Empire 11</td><td>10</td><td>19</td><td>1079</td><td>5.0</td><td>21.0</td><td>28.0</td><td>31.5</td><td>48.49742261192856</td></tr><tr><td>Empire 15</td><td>10</td><td>19</td><td>1148</td><td>5.0</td><td>30.0</td><td>15.0</td><td>45.0</td><td>25.980762113533157</td></tr><tr><td>Empire 11</td><td>10</td><td>19</td><td>1079</td><td>5.0</td><td>23.0</td><td>29.0</td><td>34.5</td><td>50.22947341949744</td></tr><tr><td>Empire 11</td><td>10</td><td>19</td><td>1079</td><td>5.0</td><td>24.0</td><td>27.0</td><td>36.0</td><td>46.76537180435968</td></tr><tr><td>Empire 15</td><td>10</td><td>19</td><td>1148</td><td>5.0</td><td>32.0</td><td>16.0</td><td>48.0</td><td>27.712812921102035</td></tr><tr><td>Empire 12</td><td>10</td><td>17</td><td>1182</td><td>5.0</td><td>51.0</td><td>20.0</td><td>76.5</td><td>34.64101615137754</td></tr><tr><td>Empire 11</td><td>10</td><td>19</td><td>1079</td><td>5.0</td><td>22.0</td><td>31.0</td><td>33.0</td><td>53.693575034635195</td></tr><tr><td>Empire 15</td><td>10</td><td>19</td><td>1148</td><td>5.0</td><td>31.0</td><td>16.0</td><td>46.5</td><td>27.712812921102035</td></tr><tr><td>Empire 7</td><td>10</td><td>10</td><td>1026</td><td>5.0</td><td>39.0</td><td>22.0</td><td>58.5</td><td>38.1051177665153</td></tr><tr><td>Empire 5</td><td>10</td><td>14</td><td>1070</td><td>5.0</td><td>20.0</td><td>24.0</td><td>30.0</td><td>41.569219381653056</td></tr><tr><td>Empire 5</td><td>10</td><td>14</td><td>1070</td><td>5.0</td><td>24.0</td><td>24.0</td><td>36.0</td><td>41.569219381653056</td></tr><tr><td>Empire 6</td><td>10</td><td>29</td><td>1137</td><td>5.0</td><td>5.0</td><td>15.0</td><td>7.5</td><td>25.980762113533157</td></tr><tr><td>Empire 6</td><td>10</td><td>29</td><td>1137</td><td>5.0</td><td>6.0</td><td>16.0</td><td>9.0</td><td>27.712812921102035</td></tr><tr><td>Empire 6</td><td>10</td><td>29</td><td>1137</td><td>5.0</td><td>6.0</td><td>19.0</td><td>9.0</td><td>32.90896534380867</td></tr><tr><td>Empire 6</td><td>10</td><td>29</td><td>1137</td><td>5.0</td><td>8.0</td><td>16.0</td><td>12.0</td><td>27.712812921102035</td></tr><tr><td>Empire 1</td><td>10</td><td>8</td><td>1044</td><td>5.0</td><td>56.0</td><td>0.0</td><td>84.0</td><td>0.0</td></tr><tr><td>Empire 16</td><td>10</td><td>8</td><td>986</td><td>5.0</td><td>37.0</td><td>5.0</td><td>55.5</td><td>8.660254037844386</td></tr><tr><td>Empire 14</td><td>10</td><td>7</td><td>977</td><td>5.0</td><td>7.0</td><td>5.0</td><td>10.5</td><td>8.660254037844386</td></tr><tr><td>Empire 22</td><td>1</td><td>35</td><td>262</td><td>1.3</td><td>24.0</td><td>27.0</td><td>36.0</td><td>46.76537180435968</td></tr><tr><td>Empire 22</td><td>1</td><td>35</td><td>262</td><td>1.3</td><td>23.0</td><td>29.0</td><td>34.5</td><td>50.22947341949744</td></tr><tr><td>Empire 22</td><td>1</td><td>35</td><td>262</td><td>1.3</td><td>24.0</td><td>30.0</td><td>36.0</td><td>51.96152422706631</td></tr><tr><td>Empire 22</td><td>1</td><td>35</td><td>262</td><td>1.3</td><td>23.0</td><td>26.0</td><td>34.5</td><td>45.033320996790806</td></tr><tr><td>Empire 22</td><td>1</td><td>35</td><td>262</td><td>1.3</td><td>22.0</td><td>29.0</td><td>33.0</td><td>50.22947341949744</td></tr><tr><td>Empire 22</td><td>1</td><td>35</td><td>262</td><td>1.3</td><td>20.0</td><td>26.0</td><td>30.0</td><td>45.033320996790806</td></tr><tr><td>Empire 22</td><td>1</td><td>35</td><td>262</td><td>1.3</td><td>22.0</td><td>27.0</td><td>33.0</td><td>46.76537180435968</td></tr><tr><td>Empire 22</td><td>1</td><td>35</td><td>262</td><td>1.3</td><td>24.0</td><td>29.0</td><td>36.0</td><td>50.22947341949744</td></tr><tr><td>Empire 22</td><td>1</td><td>35</td><td>262</td><td>1.3</td><td>20.0</td><td>29.0</td><td>30.0</td><td>50.22947341949744</td></tr><tr><td>Empire 22</td><td>1</td><td>35</td><td>262</td><td>1.3</td><td>21.0</td><td>27.0</td><td>31.5</td><td>46.76537180435968</td></tr><tr><td>Empire 22</td><td>1</td><td>35</td><td>262</td><td>1.3</td><td>20.0</td><td>30.0</td><td>30.0</td><td>51.96152422706631</td></tr><tr><td>Empire 22</td><td>1</td><td>35</td><td>262</td><td>1.3</td><td>22.0</td><td>26.0</td><td>33.0</td><td>45.033320996790806</td></tr><tr><td>Empire 22</td><td>1</td><td>35</td><td>262</td><td>1.3</td><td>21.0</td><td>28.0</td><td>31.5</td><td>48.49742261192856</td></tr><tr><td>Empire 22</td><td>1</td><td>35</td><td>262</td><td>1.3</td><td>18.0</td><td>28.0</td><td>27.0</td><td>48.49742261192856</td></tr><tr><td>Empire 22</td><td>1</td><td>35</td><td>262</td><td>1.3</td><td>22.0</td><td>30.0</td><td>33.0</td><td>51.96152422706631</td></tr><tr><td>Empire 22</td><td>1</td><td>35</td><td>262</td><td>1.3</td><td>24.0</td><td>26.0</td><td>36.0</td><td>45.033320996790806</td></tr><tr><td>Empire 22</td><td>1</td><td>35</td><td>262</td><td>1.3</td><td>20.0</td><td>27.0</td><td>30.0</td><td>46.76537180435968</td></tr><tr><td>Empire 22</td><td>1</td><td>35</td><td>262</td><td>1.3</td><td>21.0</td><td>26.0</td><td>31.5</td><td>45.033320996790806</td></tr><tr><td>Empire 22</td><td>1</td><td>35</td><td>262</td><td>1.3</td><td>22.0</td><td>31.0</td><td>33.0</td><td>53.693575034635195</td></tr><tr><td>Empire 22</td><td>1</td><td>35</td><td>262</td><td>1.3</td><td>18.0</td><td>29.0</td><td>27.0</td><td>50.22947341949744</td></tr><tr><td>Empire 22</td><td>1</td><td>35</td><td>262</td><td>1.3</td><td>24.0</td><td>25.0</td><td>36.0</td><td>43.30127018922193</td></tr><tr><td>Empire 22</td><td>1</td><td>35</td><td>262</td><td>1.3</td><td>19.0</td><td>30.0</td><td>28.5</td><td>51.96152422706631</td></tr><tr><td>Empire 22</td><td>1</td><td>35</td><td>262</td><td>1.3</td><td>21.0</td><td>29.0</td><td>31.5</td><td>50.22947341949744</td></tr><tr><td>Empire 22</td><td>1</td><td>35</td><td>262</td><td>1.3</td><td>23.0</td><td>27.0</td><td>34.5</td><td>46.76537180435968</td></tr><tr><td>Empire 22</td><td>1</td><td>35</td><td>262</td><td>1.3</td><td>20.0</td><td>28.0</td><td>30.0</td><td>48.49742261192856</td></tr><tr><td>Empire 22</td><td>1</td><td>35</td><td>262</td><td>1.3</td><td>19.0</td><td>29.0</td><td>28.5</td><td>50.22947341949744</td></tr><tr><td>Empire 22</td><td>1</td><td>35</td><td>262</td><td>1.3</td><td>23.0</td><td>31.0</td><td>34.5</td><td>53.693575034635195</td></tr><tr><td>Empire 22</td><td>1</td><td>35</td><td>262</td><td>1.3</td><td>19.0</td><td>28.0</td><td>28.5</td><td>48.49742261192856</td></tr><tr><td>Empire 22</td><td>1</td><td>35</td><td>262</td><td>1.3</td><td>23.0</td><td>28.0</td><td>34.5</td><td>48.49742261192856</td></tr><tr><td>Empire 22</td><td>1</td><td>35</td><td>262</td><td>1.3</td><td>21.0</td><td>30.0</td><td>31.5</td><td>51.96152422706631</td></tr><tr><td>Empire 22</td><td>1</td><td>35</td><td>262</td><td>1.3</td><td>24.0</td><td>28.0</td><td>36.0</td><td>48.49742261192856</td></tr><tr><td>Empire 22</td><td>1</td><td>35</td><td>262</td><td>1.3</td><td>19.0</td><td>27.0</td><td>28.5</td><td>46.76537180435968</td></tr><tr><td>Empire 22</td><td>1</td><td>35</td><td>262</td><td>1.3</td><td>23.0</td><td>30.0</td><td>34.5</td><td>51.96152422706631</td></tr><tr><td>Empire 22</td><td>1</td><td>35</td><td>262</td><td>1.3</td><td>21.0</td><td>31.0</td><td>31.5</td><td>53.693575034635195</td></tr><tr><td>Empire 22</td><td>1</td><td>35</td><td>262</td><td>1.3</td><td>22.0</td><td>28.0</td><td>33.0</td><td>48.49742261192856</td></tr><tr><td>Empire 21</td><td>1</td><td>51</td><td>291</td><td>1.0</td><td>8.0</td><td>22.0</td><td>12.0</td><td>38.1051177665153</td></tr><tr><td>Empire 21</td><td>1</td><td>51</td><td>291</td><td>1.0</td><td>8.0</td><td>20.0</td><td>12.0</td><td>34.64101615137754</td></tr><tr><td>Empire 21</td><td>1</td><td>51</td><td>291</td><td>1.0</td><td>7.0</td><td>16.0</td><td>10.5</td><td>27.712812921102035</td></tr><tr><td>Empire 21</td><td>1</td><td>51</td><td>291</td><td>1.0</td><td>9.0</td><td>16.0</td><td>13.5</td><td>27.712812921102035</td></tr><tr><td>Empire 21</td><td>1</td><td>51</td><td>291</td><td>1.0</td><td>7.0</td><td>18.0</td><td>10.5</td><td>31.17691453623979</td></tr><tr><td>Empire 21</td><td>1</td><td>51</td><td>291</td><td>1.0</td><td>10.0</td><td>20.0</td><td>15.0</td><td>34.64101615137754</td></tr><tr><td>Empire 21</td><td>1</td><td>51</td><td>291</td><td>1.0</td><td>2.0</td><td>16.0</td><td>3.0</td><td>27.712812921102035</td></tr><tr><td>Empire 21</td><td>1</td><td>51</td><td>291</td><td>1.0</td><td>11.0</td><td>18.0</td><td>16.5</td><td>31.17691453623979</td></tr><tr><td>Empire 21</td><td>1</td><td>51</td><td>291</td><td>1.0</td><td>6.0</td><td>14.0</td><td>9.0</td><td>24.24871130596428</td></tr><tr><td>Empire 21</td><td>1</td><td>51</td><td>291</td><td>1.0</td><td>5.0</td><td>15.0</td><td>7.5</td><td>25.980762113533157</td></tr><tr><td>Empire 21</td><td>1</td><td>51</td><td>291</td><td>1.0</td><td>3.0</td><td>14.0</td><td>4.5</td><td>24.24871130596428</td></tr><tr><td>Empire 21</td><td>1</td><td>51</td><td>291</td><td>1.0</td><td>10.0</td><td>16.0</td><td>15.0</td><td>27.712812921102035</td></tr><tr><td>Empire 21</td><td>1</td><td>51</td><td>291</td><td>1.0</td><td>10.0</td><td>15.0</td><td>15.0</td><td>25.980762113533157</td></tr><tr><td>Empire 21</td><td>1</td><td>51</td><td>291</td><td>1.0</td><td>8.0</td><td>21.0</td><td>12.0</td><td>36.373066958946424</td></tr><tr><td>Empire 21</td><td>1</td><td>51</td><td>291</td><td>1.0</td><td>9.0</td><td>21.0</td><td>13.5</td><td>36.373066958946424</td></tr><tr><td>Empire 21</td><td>1</td><td>51</td><td>291</td><td>1.0</td><td>8.0</td><td>17.0</td><td>12.0</td><td>29.444863728670914</td></tr><tr><td>Empire 21</td><td>1</td><td>51</td><td>291</td><td>1.0</td><td>8.0</td><td>19.0</td><td>12.0</td><td>32.90896534380867</td></tr><tr><td>Empire 21</td><td>1</td><td>51</td><td>291</td><td>1.0</td><td>7.0</td><td>20.0</td><td>10.5</td><td>34.64101615137754</td></tr><tr><td>Empire 21</td><td>1</td><td>51</td><td>291</td><td>1.0</td><td>5.0</td><td>16.0</td><td>7.5</td><td>27.712812921102035</td></tr><tr><td>Empire 21</td><td>1</td><td>51</td><td>291</td><td>1.0</td><td>8.0</td><td>18.0</td><td>12.0</td><td>31.17691453623979</td></tr><tr><td>Empire 21</td><td>1</td><td>51</td><td>291</td><td>1.0</td><td>10.0</td><td>18.0</td><td>15.0</td><td>31.17691453623979</td></tr><tr><td>Empire 21</td><td>1</td><td>51</td><td>291</td><td>1.0</td><td>4.0</td><td>18.0</td><td>6.0</td><td>31.17691453623979</td></tr><tr><td>Empire 21</td><td>1</td><td>51</td><td>291</td><td>1.0</td><td>9.0</td><td>17.0</td><td>13.5</td><td>29.444863728670914</td></tr><tr><td>Empire 21</td><td>1</td><td>51</td><td>291</td><td>1.0</td><td>5.0</td><td>19.0</td><td>7.5</td><td>32.90896534380867</td></tr><tr><td>Empire 21</td><td>1</td><td>51</td><td>291</td><td>1.0</td><td>5.0</td><td>17.0</td><td>7.5</td><td>29.444863728670914</td></tr><tr><td>Empire 21</td><td>1</td><td>51</td><td>291</td><td>1.0</td><td>4.0</td><td>17.0</td><td>6.0</td><td>29.444863728670914</td></tr><tr><td>Empire 21</td><td>1</td><td>51</td><td>291</td><td>1.0</td><td>9.0</td><td>15.0</td><td>13.5</td><td>25.980762113533157</td></tr><tr><td>Empire 21</td><td>1</td><td>51</td><td>291</td><td>1.0</td><td>11.0</td><td>16.0</td><td>16.5</td><td>27.712812921102035</td></tr><tr><td>Empire 21</td><td>1</td><td>51</td><td>291</td><td>1.0</td><td>6.0</td><td>18.0</td><td>9.0</td><td>31.17691453623979</td></tr><tr><td>Empire 21</td><td>1</td><td>51</td><td>291</td><td>1.0</td><td>7.0</td><td>19.0</td><td>10.5</td><td>32.90896534380867</td></tr><tr><td>Empire 21</td><td>1</td><td>51</td><td>291</td><td>1.0</td><td>10.0</td><td>19.0</td><td>15.0</td><td>32.90896534380867</td></tr><tr><td>Empire 21</td><td>1</td><td>51</td><td>291</td><td>1.0</td><td>3.0</td><td>17.0</td><td>4.5</td><td>29.444863728670914</td></tr><tr><td>Empire 21</td><td>1</td><td>51</td><td>291</td><td>1.0</td><td>6.0</td><td>15.0</td><td>9.0</td><td>25.980762113533157</td></tr><tr><td>Empire 21</td><td>1</td><td>51</td><td>291</td><td>1.0</td><td>3.0</td><td>16.0</td><td>4.5</td><td>27.712812921102035</td></tr><tr><td>Empire 21</td><td>1</td><td>51</td><td>291</td><td>1.0</td><td>7.0</td><td>21.0</td><td>10.5</td><td>36.373066958946424</td></tr><tr><td>Empire 21</td><td>1</td><td>51</td><td>291</td><td>1.0</td><td>8.0</td><td>16.0</td><td>12.0</td><td>27.712812921102035</td></tr><tr><td>Empire 21</td><td>1</td><td>51</td><td>291</td><td>1.0</td><td>10.0</td><td>17.0</td><td>15.0</td><td>29.444863728670914</td></tr><tr><td>Empire 21</td><td>1</td><td>51</td><td>291</td><td>1.0</td><td>5.0</td><td>18.0</td><td>7.5</td><td>31.17691453623979</td></tr><tr><td>Empire 21</td><td>1</td><td>51</td><td>291</td><td>1.0</td><td>11.0</td><td>17.0</td><td>16.5</td><td>29.444863728670914</td></tr><tr><td>Empire 21</td><td>1</td><td>51</td><td>291</td><td>1.0</td><td>7.0</td><td>17.0</td><td>10.5</td><td>29.444863728670914</td></tr><tr><td>Empire 21</td><td>1</td><td>51</td><td>291</td><td>1.0</td><td>4.0</td><td>14.0</td><td>6.0</td><td>24.24871130596428</td></tr><tr><td>Empire 21</td><td>1</td><td>51</td><td>291</td><td>1.0</td><td>4.0</td><td>15.0</td><td>6.0</td><td>25.980762113533157</td></tr><tr><td>Empire 21</td><td>1</td><td>51</td><td>291</td><td>1.0</td><td>6.0</td><td>20.0</td><td>9.0</td><td>34.64101615137754</td></tr><tr><td>Empire 21</td><td>1</td><td>51</td><td>291</td><td>1.0</td><td>9.0</td><td>18.0</td><td>13.5</td><td>31.17691453623979</td></tr><tr><td>Empire 21</td><td>1</td><td>51</td><td>291</td><td>1.0</td><td>6.0</td><td>19.0</td><td>9.0</td><td>32.90896534380867</td></tr><tr><td>Empire 21</td><td>1</td><td>51</td><td>291</td><td>1.0</td><td>6.0</td><td>16.0</td><td>9.0</td><td>27.712812921102035</td></tr><tr><td>Empire 21</td><td>1</td><td>51</td><td>291</td><td>1.0</td><td>6.0</td><td>17.0</td><td>9.0</td><td>29.444863728670914</td></tr><tr><td>Empire 21</td><td>1</td><td>51</td><td>291</td><td>1.0</td><td>8.0</td><td>15.0</td><td>12.0</td><td>25.980762113533157</td></tr><tr><td>Empire 21</td><td>1</td><td>51</td><td>291</td><td>1.0</td><td>5.0</td><td>14.0</td><td>7.5</td><td>24.24871130596428</td></tr><tr><td>Empire 21</td><td>1</td><td>51</td><td>291</td><td>1.0</td><td>4.0</td><td>16.0</td><td>6.0</td><td>27.712812921102035</td></tr><tr><td>Empire 21</td><td>1</td><td>51</td><td>291</td><td>1.0</td><td>3.0</td><td>15.0</td><td>4.5</td><td>25.980762113533157</td></tr><tr><td>Empire 23</td><td>1</td><td>17</td><td>223</td><td>1.5</td><td>39.0</td><td>22.0</td><td>58.5</td><td>38.1051177665153</td></tr><tr><td>Empire 23</td><td>1</td><td>17</td><td>223</td><td>1.5</td><td>41.0</td><td>21.0</td><td>61.5</td><td>36.373066958946424</td></tr><tr><td>Empire 23</td><td>1</td><td>17</td><td>223</td><td>1.5</td><td>40.0</td><td>22.0</td><td>60.0</td><td>38.1051177665153</td></tr><tr><td>Empire 23</td><td>1</td><td>17</td><td>223</td><td>1.5</td><td>39.0</td><td>21.0</td><td>58.5</td><td>36.373066958946424</td></tr><tr><td>Empire 23</td><td>1</td><td>17</td><td>223</td><td>1.5</td><td>42.0</td><td>21.0</td><td>63.0</td><td>36.373066958946424</td></tr><tr><td>Empire 23</td><td>1</td><td>17</td><td>223</td><td>1.5</td><td>41.0</td><td>23.0</td><td>61.5</td><td>39.837168574084174</td></tr><tr><td>Empire 23</td><td>1</td><td>17</td><td>223</td><td>1.5</td><td>42.0</td><td>23.0</td><td>63.0</td><td>39.837168574084174</td></tr><tr><td>Empire 23</td><td>1</td><td>17</td><td>223</td><td>1.5</td><td>40.0</td><td>23.0</td><td>60.0</td><td>39.837168574084174</td></tr><tr><td>Empire 23</td><td>1</td><td>17</td><td>223</td><td>1.5</td><td>42.0</td><td>24.0</td><td>63.0</td><td>41.569219381653056</td></tr><tr><td>Empire 23</td><td>1</td><td>17</td><td>223</td><td>1.5</td><td>39.0</td><td>23.0</td><td>58.5</td><td>39.837168574084174</td></tr><tr><td>Empire 23</td><td>1</td><td>17</td><td>223</td><td>1.5</td><td>41.0</td><td>22.0</td><td>61.5</td><td>38.1051177665153</td></tr><tr><td>Empire 23</td><td>1</td><td>17</td><td>223</td><td>1.5</td><td>40.0</td><td>24.0</td><td>60.0</td><td>41.569219381653056</td></tr><tr><td>Empire 23</td><td>1</td><td>17</td><td>223</td><td>1.5</td><td>38.0</td><td>23.0</td><td>57.0</td><td>39.837168574084174</td></tr><tr><td>Empire 23</td><td>1</td><td>17</td><td>223</td><td>1.5</td><td>40.0</td><td>21.0</td><td>60.0</td><td>36.373066958946424</td></tr><tr><td>Empire 23</td><td>1</td><td>17</td><td>223</td><td>1.5</td><td>41.0</td><td>24.0</td><td>61.5</td><td>41.569219381653056</td></tr><tr><td>Empire 23</td><td>1</td><td>17</td><td>223</td><td>1.5</td><td>39.0</td><td>24.0</td><td>58.5</td><td>41.569219381653056</td></tr><tr><td>Empire 23</td><td>1</td><td>17</td><td>223</td><td>1.5</td><td>42.0</td><td>22.0</td><td>63.0</td><td>38.1051177665153</td></tr><tr><td>Money AI Empire</td><td>1</td><td>1</td><td>185</td><td>1.5</td><td>51.0</td><td>12.0</td><td>76.5</td><td>20.784609690826528</td></tr><tr><td>Empire 13</td><td>1</td><td>2</td><td>185</td><td>1.5</td><td>55.0</td><td>15.0</td><td>82.5</td><td>25.980762113533157</td></tr><tr><td>Empire 15</td><td>1</td><td>2</td><td>185</td><td>1.5</td><td>29.0</td><td>19.0</td><td>43.5</td><td>32.90896534380867</td></tr><tr><td>Empire 15</td><td>1</td><td>2</td><td>185</td><td>1.5</td><td>30.0</td><td>19.0</td><td>45.0</td><td>32.90896534380867</td></tr><tr><td>Empire 10</td><td>1</td><td>1</td><td>185</td><td>1.5</td><td>53.0</td><td>21.0</td><td>79.5</td><td>36.373066958946424</td></tr><tr><td>Empire 11</td><td>1</td><td>1</td><td>185</td><td>1.5</td><td>23.0</td><td>28.0</td><td>34.5</td><td>48.49742261192856</td></tr><tr><td>Empire 13</td><td>1</td><td>2</td><td>185</td><td>1.5</td><td>55.0</td><td>16.0</td><td>82.5</td><td>27.712812921102035</td></tr><tr><td>Empire 20</td><td>1</td><td>2</td><td>185</td><td>1.5</td><td>18.0</td><td>30.0</td><td>27.0</td><td>51.96152422706631</td></tr><tr><td>Empire 20</td><td>1</td><td>2</td><td>185</td><td>1.5</td><td>17.0</td><td>30.0</td><td>25.5</td><td>51.96152422706631</td></tr><tr><td>Empire 12</td><td>1</td><td>3</td><td>185</td><td>1.5</td><td>51.0</td><td>16.0</td><td>76.5</td><td>27.712812921102035</td></tr><tr><td>Empire 12</td><td>1</td><td>3</td><td>185</td><td>1.5</td><td>52.0</td><td>17.0</td><td>78.0</td><td>29.444863728670914</td></tr><tr><td>Empire 12</td><td>1</td><td>3</td><td>185</td><td>1.5</td><td>52.0</td><td>18.0</td><td>78.0</td><td>31.17691453623979</td></tr><tr><td>Empire 5</td><td>1</td><td>3</td><td>185</td><td>1.5</td><td>22.0</td><td>24.0</td><td>33.0</td><td>41.569219381653056</td></tr><tr><td>Empire 5</td><td>1</td><td>3</td><td>185</td><td>1.5</td><td>22.0</td><td>25.0</td><td>33.0</td><td>43.30127018922193</td></tr><tr><td>Empire 7</td><td>1</td><td>1</td><td>185</td><td>1.5</td><td>39.0</td><td>24.0</td><td>58.5</td><td>41.569219381653056</td></tr><tr><td>Empire 18</td><td>1</td><td>1</td><td>185</td><td>1.5</td><td>7.0</td><td>15.0</td><td>10.5</td><td>25.980762113533157</td></tr><tr><td>Empire 5</td><td>1</td><td>3</td><td>185</td><td>1.5</td><td>23.0</td><td>24.0</td><td>34.5</td><td>41.569219381653056</td></tr><tr><td>Empire 3</td><td>1</td><td>1</td><td>185</td><td>1.5</td><td>56.0</td><td>16.0</td><td>84.0</td><td>27.712812921102035</td></tr><tr><td>Empire 9</td><td>1</td><td>1</td><td>185</td><td>1.5</td><td>55.0</td><td>10.0</td><td>82.5</td><td>17.32050807568877</td></tr><tr><td>Empire 19</td><td>1</td><td>1</td><td>185</td><td>1.5</td><td>9.0</td><td>19.0</td><td>13.5</td><td>32.90896534380867</td></tr><tr><td>Empire 8</td><td>1</td><td>2</td><td>185</td><td>1.5</td><td>47.0</td><td>10.0</td><td>70.5</td><td>17.32050807568877</td></tr><tr><td>Empire 8</td><td>1</td><td>2</td><td>185</td><td>1.5</td><td>47.0</td><td>11.0</td><td>70.5</td><td>19.05255888325765</td></tr><tr><td>Empire 16</td><td>1</td><td>1</td><td>185</td><td>1.5</td><td>35.0</td><td>8.0</td><td>52.5</td><td>13.856406460551018</td></tr><tr><td>Empire 4</td><td>1</td><td>2</td><td>185</td><td>1.5</td><td>51.0</td><td>8.0</td><td>76.5</td><td>13.856406460551018</td></tr><tr><td>Empire 1</td><td>1</td><td>2</td><td>185</td><td>1.5</td><td>56.0</td><td>1.0</td><td>84.0</td><td>1.7320508075688772</td></tr><tr><td>Empire 6</td><td>1</td><td>2</td><td>185</td><td>1.5</td><td>6.0</td><td>18.0</td><td>9.0</td><td>31.17691453623979</td></tr><tr><td>Empire 1</td><td>1</td><td>2</td><td>185</td><td>1.5</td><td>57.0</td><td>1.0</td><td>85.5</td><td>1.7320508075688772</td></tr><tr><td>Empire 14</td><td>1</td><td>1</td><td>185</td><td>1.5</td><td>5.0</td><td>4.0</td><td>7.5</td><td>6.928203230275509</td></tr><tr><td>Empire 4</td><td>1</td><td>2</td><td>185</td><td>1.5</td><td>52.0</td><td>8.0</td><td>78.0</td><td>13.856406460551018</td></tr><tr><td>Empire 2</td><td>1</td><td>1</td><td>185</td><td>1.5</td><td>63.0</td><td>9.0</td><td>94.5</td><td>15.588457268119894</td></tr><tr><td>Empire 6</td><td>1</td><td>2</td><td>185</td><td>1.5</td><td>7.0</td><td>18.0</td><td>10.5</td><td>31.17691453623979</td></tr></tbody></table></div>"
      ]
     },
     "metadata": {
      "application/vnd.databricks.v1+output": {
       "addedWidgets": {},
       "aggData": [],
       "aggError": "",
       "aggOverflow": false,
       "aggSchema": [],
       "aggSeriesLimitReached": false,
       "aggType": "",
       "arguments": {},
       "columnCustomDisplayInfos": {},
       "data": [
        [
         "Empire 11",
         9,
         14,
         961,
         5.0,
         21.0,
         30.0,
         31.5,
         51.96152422706631
        ],
        [
         "Empire 11",
         9,
         14,
         961,
         5.0,
         24.0,
         26.0,
         36.0,
         45.033320996790806
        ],
        [
         "Empire 6",
         9,
         22,
         1000,
         5.0,
         4.0,
         16.0,
         6.0,
         27.712812921102035
        ],
        [
         "Empire 5",
         9,
         12,
         957,
         5.0,
         21.0,
         25.0,
         31.5,
         43.30127018922193
        ],
        [
         "Empire 6",
         9,
         22,
         1000,
         5.0,
         7.0,
         15.0,
         10.5,
         25.980762113533157
        ],
        [
         "Empire 5",
         9,
         12,
         957,
         5.0,
         23.0,
         22.0,
         34.5,
         38.1051177665153
        ],
        [
         "Empire 6",
         9,
         22,
         1000,
         5.0,
         7.0,
         20.0,
         10.5,
         34.64101615137754
        ],
        [
         "Empire 6",
         9,
         22,
         1000,
         5.0,
         9.0,
         18.0,
         13.5,
         31.17691453623979
        ],
        [
         "Empire 7",
         9,
         9,
         921,
         5.0,
         40.0,
         23.0,
         60.0,
         39.837168574084174
        ],
        [
         "Empire 7",
         9,
         9,
         921,
         5.0,
         42.0,
         23.0,
         63.0,
         39.837168574084174
        ],
        [
         "Empire 16",
         9,
         7,
         886,
         5.0,
         36.0,
         6.0,
         54.0,
         10.392304845413264
        ],
        [
         "Empire 16",
         9,
         7,
         886,
         5.0,
         35.0,
         9.0,
         52.5,
         15.588457268119894
        ],
        [
         "Empire 14",
         9,
         6,
         879,
         5.0,
         4.0,
         4.0,
         6.0,
         6.928203230275509
        ],
        [
         "Empire 14",
         9,
         6,
         879,
         5.0,
         6.0,
         6.0,
         9.0,
         10.392304845413264
        ],
        [
         "Money AI Empire",
         8,
         286,
         1424,
         5.0,
         45.0,
         28.0,
         67.5,
         48.49742261192856
        ],
        [
         "Money AI Empire",
         8,
         286,
         1424,
         5.0,
         45.0,
         29.0,
         67.5,
         50.22947341949744
        ],
        [
         "Money AI Empire",
         8,
         286,
         1424,
         5.0,
         45.0,
         30.0,
         67.5,
         51.96152422706631
        ],
        [
         "Money AI Empire",
         8,
         286,
         1424,
         5.0,
         45.0,
         31.0,
         67.5,
         53.693575034635195
        ],
        [
         "Money AI Empire",
         8,
         286,
         1424,
         5.0,
         46.0,
         26.0,
         69.0,
         45.033320996790806
        ],
        [
         "Money AI Empire",
         8,
         286,
         1424,
         5.0,
         46.0,
         27.0,
         69.0,
         46.76537180435968
        ],
        [
         "Money AI Empire",
         8,
         286,
         1424,
         5.0,
         46.0,
         28.0,
         69.0,
         48.49742261192856
        ],
        [
         "Money AI Empire",
         8,
         286,
         1424,
         5.0,
         46.0,
         29.0,
         69.0,
         50.22947341949744
        ],
        [
         "Money AI Empire",
         8,
         286,
         1424,
         5.0,
         46.0,
         30.0,
         69.0,
         51.96152422706631
        ],
        [
         "Money AI Empire",
         8,
         286,
         1424,
         5.0,
         46.0,
         31.0,
         69.0,
         53.693575034635195
        ],
        [
         "Money AI Empire",
         8,
         286,
         1424,
         5.0,
         47.0,
         26.0,
         70.5,
         45.033320996790806
        ],
        [
         "Money AI Empire",
         8,
         286,
         1424,
         5.0,
         47.0,
         27.0,
         70.5,
         46.76537180435968
        ],
        [
         "Money AI Empire",
         8,
         286,
         1424,
         5.0,
         47.0,
         28.0,
         70.5,
         48.49742261192856
        ],
        [
         "Money AI Empire",
         8,
         286,
         1424,
         5.0,
         47.0,
         29.0,
         70.5,
         50.22947341949744
        ],
        [
         "Money AI Empire",
         8,
         286,
         1424,
         5.0,
         47.0,
         30.0,
         70.5,
         51.96152422706631
        ],
        [
         "Money AI Empire",
         8,
         286,
         1424,
         5.0,
         47.0,
         31.0,
         70.5,
         53.693575034635195
        ],
        [
         "Money AI Empire",
         8,
         286,
         1424,
         5.0,
         48.0,
         26.0,
         72.0,
         45.033320996790806
        ],
        [
         "Money AI Empire",
         8,
         286,
         1424,
         5.0,
         48.0,
         27.0,
         72.0,
         46.76537180435968
        ],
        [
         "Money AI Empire",
         8,
         286,
         1424,
         5.0,
         48.0,
         28.0,
         72.0,
         48.49742261192856
        ],
        [
         "Money AI Empire",
         8,
         286,
         1424,
         5.0,
         48.0,
         29.0,
         72.0,
         50.22947341949744
        ],
        [
         "Money AI Empire",
         8,
         286,
         1424,
         5.0,
         48.0,
         30.0,
         72.0,
         51.96152422706631
        ],
        [
         "Money AI Empire",
         8,
         286,
         1424,
         5.0,
         48.0,
         31.0,
         72.0,
         53.693575034635195
        ],
        [
         "Money AI Empire",
         8,
         286,
         1424,
         5.0,
         49.0,
         25.0,
         73.5,
         43.30127018922193
        ],
        [
         "Money AI Empire",
         8,
         286,
         1424,
         5.0,
         49.0,
         26.0,
         73.5,
         45.033320996790806
        ],
        [
         "Money AI Empire",
         8,
         286,
         1424,
         5.0,
         49.0,
         27.0,
         73.5,
         46.76537180435968
        ],
        [
         "Money AI Empire",
         8,
         286,
         1424,
         5.0,
         49.0,
         28.0,
         73.5,
         48.49742261192856
        ],
        [
         "Money AI Empire",
         8,
         286,
         1424,
         5.0,
         49.0,
         29.0,
         73.5,
         50.22947341949744
        ],
        [
         "Money AI Empire",
         8,
         286,
         1424,
         5.0,
         49.0,
         30.0,
         73.5,
         51.96152422706631
        ],
        [
         "Money AI Empire",
         8,
         286,
         1424,
         5.0,
         49.0,
         31.0,
         73.5,
         53.693575034635195
        ],
        [
         "Money AI Empire",
         8,
         286,
         1424,
         5.0,
         50.0,
         29.0,
         75.0,
         50.22947341949744
        ],
        [
         "Money AI Empire",
         8,
         286,
         1424,
         5.0,
         50.0,
         30.0,
         75.0,
         51.96152422706631
        ],
        [
         "Money AI Empire",
         8,
         286,
         1424,
         5.0,
         50.0,
         31.0,
         75.0,
         53.693575034635195
        ],
        [
         "Empire 6",
         8,
         18,
         872,
         5.0,
         4.0,
         17.0,
         6.0,
         29.444863728670914
        ],
        [
         "Empire 6",
         8,
         18,
         872,
         5.0,
         4.0,
         18.0,
         6.0,
         31.17691453623979
        ],
        [
         "Empire 11",
         8,
         11,
         851,
         5.0,
         23.0,
         26.0,
         34.5,
         45.033320996790806
        ],
        [
         "Empire 15",
         8,
         14,
         907,
         5.0,
         31.0,
         15.0,
         46.5,
         25.980762113533157
        ],
        [
         "Empire 11",
         8,
         11,
         851,
         5.0,
         24.0,
         29.0,
         36.0,
         50.22947341949744
        ],
        [
         "Empire 5",
         8,
         10,
         849,
         5.0,
         20.0,
         23.0,
         30.0,
         39.837168574084174
        ],
        [
         "Empire 6",
         8,
         18,
         872,
         5.0,
         10.0,
         17.0,
         15.0,
         29.444863728670914
        ],
        [
         "Empire 6",
         8,
         18,
         872,
         5.0,
         6.0,
         20.0,
         9.0,
         34.64101615137754
        ],
        [
         "Empire 6",
         8,
         18,
         872,
         5.0,
         7.0,
         17.0,
         10.5,
         29.444863728670914
        ],
        [
         "Empire 7",
         8,
         7,
         821,
         5.0,
         41.0,
         22.0,
         61.5,
         38.1051177665153
        ],
        [
         "Empire 16",
         8,
         5,
         791,
         5.0,
         34.0,
         8.0,
         51.0,
         13.856406460551018
        ],
        [
         "Empire 16",
         8,
         5,
         791,
         5.0,
         35.0,
         6.0,
         52.5,
         10.392304845413264
        ],
        [
         "Empire 14",
         8,
         4,
         786,
         5.0,
         5.0,
         5.0,
         7.5,
         8.660254037844386
        ],
        [
         "Empire 14",
         8,
         4,
         786,
         5.0,
         6.0,
         5.0,
         9.0,
         8.660254037844386
        ],
        [
         "Money AI Empire",
         7,
         254,
         927,
         5.0,
         60.0,
         7.0,
         90.0,
         12.12435565298214
        ],
        [
         "Money AI Empire",
         7,
         254,
         927,
         5.0,
         60.0,
         8.0,
         90.0,
         13.856406460551018
        ],
        [
         "Money AI Empire",
         7,
         254,
         927,
         5.0,
         60.0,
         9.0,
         90.0,
         15.588457268119894
        ],
        [
         "Money AI Empire",
         7,
         254,
         927,
         5.0,
         60.0,
         10.0,
         90.0,
         17.32050807568877
        ],
        [
         "Money AI Empire",
         7,
         254,
         927,
         5.0,
         61.0,
         0.0,
         91.5,
         0.0
        ],
        [
         "Money AI Empire",
         7,
         254,
         927,
         5.0,
         61.0,
         1.0,
         91.5,
         1.7320508075688772
        ],
        [
         "Money AI Empire",
         7,
         254,
         927,
         5.0,
         61.0,
         2.0,
         91.5,
         3.4641016151377544
        ],
        [
         "Money AI Empire",
         7,
         254,
         927,
         5.0,
         61.0,
         3.0,
         91.5,
         5.196152422706632
        ],
        [
         "Money AI Empire",
         7,
         254,
         927,
         5.0,
         61.0,
         4.0,
         91.5,
         6.928203230275509
        ],
        [
         "Money AI Empire",
         7,
         254,
         927,
         5.0,
         61.0,
         5.0,
         91.5,
         8.660254037844386
        ],
        [
         "Money AI Empire",
         7,
         254,
         927,
         5.0,
         61.0,
         6.0,
         91.5,
         10.392304845413264
        ],
        [
         "Money AI Empire",
         7,
         254,
         927,
         5.0,
         61.0,
         7.0,
         91.5,
         12.12435565298214
        ],
        [
         "Money AI Empire",
         7,
         254,
         927,
         5.0,
         61.0,
         8.0,
         91.5,
         13.856406460551018
        ],
        [
         "Money AI Empire",
         7,
         254,
         927,
         5.0,
         61.0,
         9.0,
         91.5,
         15.588457268119894
        ],
        [
         "Money AI Empire",
         7,
         254,
         927,
         5.0,
         61.0,
         10.0,
         91.5,
         17.32050807568877
        ],
        [
         "Money AI Empire",
         7,
         254,
         927,
         5.0,
         61.0,
         11.0,
         91.5,
         19.05255888325765
        ],
        [
         "Money AI Empire",
         7,
         254,
         927,
         5.0,
         61.0,
         14.0,
         91.5,
         24.24871130596428
        ],
        [
         "Money AI Empire",
         7,
         254,
         927,
         5.0,
         62.0,
         0.0,
         93.0,
         0.0
        ],
        [
         "Money AI Empire",
         7,
         254,
         927,
         5.0,
         62.0,
         1.0,
         93.0,
         1.7320508075688772
        ],
        [
         "Money AI Empire",
         7,
         254,
         927,
         5.0,
         62.0,
         2.0,
         93.0,
         3.4641016151377544
        ],
        [
         "Money AI Empire",
         7,
         254,
         927,
         5.0,
         62.0,
         3.0,
         93.0,
         5.196152422706632
        ],
        [
         "Money AI Empire",
         7,
         254,
         927,
         5.0,
         62.0,
         4.0,
         93.0,
         6.928203230275509
        ],
        [
         "Money AI Empire",
         7,
         254,
         927,
         5.0,
         62.0,
         5.0,
         93.0,
         8.660254037844386
        ],
        [
         "Money AI Empire",
         7,
         254,
         927,
         5.0,
         62.0,
         6.0,
         93.0,
         10.392304845413264
        ],
        [
         "Money AI Empire",
         7,
         254,
         927,
         5.0,
         62.0,
         7.0,
         93.0,
         12.12435565298214
        ],
        [
         "Money AI Empire",
         7,
         254,
         927,
         5.0,
         62.0,
         8.0,
         93.0,
         13.856406460551018
        ],
        [
         "Money AI Empire",
         7,
         254,
         927,
         5.0,
         62.0,
         12.0,
         93.0,
         20.784609690826528
        ],
        [
         "Money AI Empire",
         7,
         254,
         927,
         5.0,
         62.0,
         13.0,
         93.0,
         22.516660498395403
        ],
        [
         "Money AI Empire",
         7,
         254,
         927,
         5.0,
         63.0,
         0.0,
         94.5,
         0.0
        ],
        [
         "Money AI Empire",
         7,
         254,
         927,
         5.0,
         63.0,
         12.0,
         94.5,
         20.784609690826528
        ],
        [
         "Money AI Empire",
         7,
         254,
         927,
         5.0,
         55.0,
         27.0,
         82.5,
         46.76537180435968
        ],
        [
         "Money AI Empire",
         7,
         254,
         927,
         5.0,
         55.0,
         28.0,
         82.5,
         48.49742261192856
        ],
        [
         "Money AI Empire",
         7,
         254,
         927,
         5.0,
         56.0,
         3.0,
         84.0,
         5.196152422706632
        ],
        [
         "Money AI Empire",
         7,
         254,
         927,
         5.0,
         56.0,
         5.0,
         84.0,
         8.660254037844386
        ],
        [
         "Money AI Empire",
         7,
         254,
         927,
         5.0,
         56.0,
         17.0,
         84.0,
         29.444863728670914
        ],
        [
         "Money AI Empire",
         7,
         254,
         927,
         5.0,
         56.0,
         18.0,
         84.0,
         31.17691453623979
        ],
        [
         "Money AI Empire",
         7,
         254,
         927,
         5.0,
         56.0,
         19.0,
         84.0,
         32.90896534380867
        ],
        [
         "Money AI Empire",
         7,
         254,
         927,
         5.0,
         56.0,
         20.0,
         84.0,
         34.64101615137754
        ],
        [
         "Money AI Empire",
         7,
         254,
         927,
         5.0,
         56.0,
         21.0,
         84.0,
         36.373066958946424
        ],
        [
         "Money AI Empire",
         7,
         254,
         927,
         5.0,
         56.0,
         22.0,
         84.0,
         38.1051177665153
        ],
        [
         "Money AI Empire",
         7,
         254,
         927,
         5.0,
         56.0,
         23.0,
         84.0,
         39.837168574084174
        ],
        [
         "Money AI Empire",
         7,
         254,
         927,
         5.0,
         56.0,
         24.0,
         84.0,
         41.569219381653056
        ],
        [
         "Money AI Empire",
         7,
         254,
         927,
         5.0,
         56.0,
         25.0,
         84.0,
         43.30127018922193
        ],
        [
         "Money AI Empire",
         7,
         254,
         927,
         5.0,
         56.0,
         26.0,
         84.0,
         45.033320996790806
        ],
        [
         "Money AI Empire",
         7,
         254,
         927,
         5.0,
         56.0,
         27.0,
         84.0,
         46.76537180435968
        ],
        [
         "Money AI Empire",
         7,
         254,
         927,
         5.0,
         57.0,
         3.0,
         85.5,
         5.196152422706632
        ],
        [
         "Money AI Empire",
         7,
         254,
         927,
         5.0,
         57.0,
         4.0,
         85.5,
         6.928203230275509
        ],
        [
         "Money AI Empire",
         7,
         254,
         927,
         5.0,
         57.0,
         5.0,
         85.5,
         8.660254037844386
        ],
        [
         "Money AI Empire",
         7,
         254,
         927,
         5.0,
         57.0,
         6.0,
         85.5,
         10.392304845413264
        ],
        [
         "Money AI Empire",
         7,
         254,
         927,
         5.0,
         58.0,
         22.0,
         87.0,
         38.1051177665153
        ],
        [
         "Money AI Empire",
         7,
         254,
         927,
         5.0,
         58.0,
         23.0,
         87.0,
         39.837168574084174
        ],
        [
         "Money AI Empire",
         7,
         254,
         927,
         5.0,
         58.0,
         24.0,
         87.0,
         41.569219381653056
        ],
        [
         "Money AI Empire",
         7,
         254,
         927,
         5.0,
         58.0,
         25.0,
         87.0,
         43.30127018922193
        ],
        [
         "Money AI Empire",
         7,
         254,
         927,
         5.0,
         59.0,
         0.0,
         88.5,
         0.0
        ],
        [
         "Money AI Empire",
         7,
         254,
         927,
         5.0,
         59.0,
         1.0,
         88.5,
         1.7320508075688772
        ],
        [
         "Money AI Empire",
         7,
         254,
         927,
         5.0,
         59.0,
         2.0,
         88.5,
         3.4641016151377544
        ],
        [
         "Money AI Empire",
         7,
         254,
         927,
         5.0,
         59.0,
         3.0,
         88.5,
         5.196152422706632
        ],
        [
         "Money AI Empire",
         7,
         254,
         927,
         5.0,
         59.0,
         4.0,
         88.5,
         6.928203230275509
        ],
        [
         "Money AI Empire",
         7,
         254,
         927,
         5.0,
         59.0,
         5.0,
         88.5,
         8.660254037844386
        ],
        [
         "Money AI Empire",
         7,
         254,
         927,
         5.0,
         59.0,
         6.0,
         88.5,
         10.392304845413264
        ],
        [
         "Money AI Empire",
         7,
         254,
         927,
         5.0,
         59.0,
         7.0,
         88.5,
         12.12435565298214
        ],
        [
         "Money AI Empire",
         7,
         254,
         927,
         5.0,
         59.0,
         8.0,
         88.5,
         13.856406460551018
        ],
        [
         "Money AI Empire",
         7,
         254,
         927,
         5.0,
         59.0,
         16.0,
         88.5,
         27.712812921102035
        ],
        [
         "Money AI Empire",
         7,
         254,
         927,
         5.0,
         59.0,
         22.0,
         88.5,
         38.1051177665153
        ],
        [
         "Money AI Empire",
         7,
         254,
         927,
         5.0,
         59.0,
         23.0,
         88.5,
         39.837168574084174
        ],
        [
         "Money AI Empire",
         7,
         254,
         927,
         5.0,
         59.0,
         24.0,
         88.5,
         41.569219381653056
        ],
        [
         "Money AI Empire",
         7,
         254,
         927,
         5.0,
         60.0,
         0.0,
         90.0,
         0.0
        ],
        [
         "Money AI Empire",
         7,
         254,
         927,
         5.0,
         60.0,
         1.0,
         90.0,
         1.7320508075688772
        ],
        [
         "Money AI Empire",
         7,
         254,
         927,
         5.0,
         60.0,
         2.0,
         90.0,
         3.4641016151377544
        ],
        [
         "Money AI Empire",
         7,
         254,
         927,
         5.0,
         60.0,
         3.0,
         90.0,
         5.196152422706632
        ],
        [
         "Money AI Empire",
         7,
         254,
         927,
         5.0,
         60.0,
         4.0,
         90.0,
         6.928203230275509
        ],
        [
         "Money AI Empire",
         7,
         254,
         927,
         5.0,
         60.0,
         5.0,
         90.0,
         8.660254037844386
        ],
        [
         "Money AI Empire",
         7,
         254,
         927,
         5.0,
         60.0,
         6.0,
         90.0,
         10.392304845413264
        ],
        [
         "Money AI Empire",
         7,
         254,
         927,
         5.0,
         53.0,
         31.0,
         79.5,
         53.693575034635195
        ],
        [
         "Money AI Empire",
         7,
         254,
         927,
         5.0,
         54.0,
         24.0,
         81.0,
         41.569219381653056
        ],
        [
         "Money AI Empire",
         7,
         254,
         927,
         5.0,
         54.0,
         25.0,
         81.0,
         43.30127018922193
        ],
        [
         "Money AI Empire",
         7,
         254,
         927,
         5.0,
         54.0,
         26.0,
         81.0,
         45.033320996790806
        ],
        [
         "Money AI Empire",
         7,
         254,
         927,
         5.0,
         54.0,
         27.0,
         81.0,
         46.76537180435968
        ],
        [
         "Money AI Empire",
         7,
         254,
         927,
         5.0,
         54.0,
         28.0,
         81.0,
         48.49742261192856
        ],
        [
         "Money AI Empire",
         7,
         254,
         927,
         5.0,
         54.0,
         29.0,
         81.0,
         50.22947341949744
        ],
        [
         "Money AI Empire",
         7,
         254,
         927,
         5.0,
         55.0,
         17.0,
         82.5,
         29.444863728670914
        ],
        [
         "Money AI Empire",
         7,
         254,
         927,
         5.0,
         55.0,
         18.0,
         82.5,
         31.17691453623979
        ],
        [
         "Money AI Empire",
         7,
         254,
         927,
         5.0,
         55.0,
         19.0,
         82.5,
         32.90896534380867
        ],
        [
         "Money AI Empire",
         7,
         254,
         927,
         5.0,
         55.0,
         20.0,
         82.5,
         34.64101615137754
        ],
        [
         "Money AI Empire",
         7,
         254,
         927,
         5.0,
         55.0,
         22.0,
         82.5,
         38.1051177665153
        ],
        [
         "Money AI Empire",
         7,
         254,
         927,
         5.0,
         55.0,
         23.0,
         82.5,
         39.837168574084174
        ],
        [
         "Money AI Empire",
         7,
         254,
         927,
         5.0,
         55.0,
         24.0,
         82.5,
         41.569219381653056
        ],
        [
         "Money AI Empire",
         7,
         254,
         927,
         5.0,
         55.0,
         25.0,
         82.5,
         43.30127018922193
        ],
        [
         "Money AI Empire",
         7,
         254,
         927,
         5.0,
         55.0,
         26.0,
         82.5,
         45.033320996790806
        ],
        [
         "Money AI Empire",
         7,
         254,
         927,
         5.0,
         51.0,
         31.0,
         76.5,
         53.693575034635195
        ],
        [
         "Money AI Empire",
         7,
         254,
         927,
         5.0,
         52.0,
         24.0,
         78.0,
         41.569219381653056
        ],
        [
         "Money AI Empire",
         7,
         254,
         927,
         5.0,
         52.0,
         25.0,
         78.0,
         43.30127018922193
        ],
        [
         "Money AI Empire",
         7,
         254,
         927,
         5.0,
         52.0,
         26.0,
         78.0,
         45.033320996790806
        ],
        [
         "Money AI Empire",
         7,
         254,
         927,
         5.0,
         52.0,
         27.0,
         78.0,
         46.76537180435968
        ],
        [
         "Money AI Empire",
         7,
         254,
         927,
         5.0,
         52.0,
         28.0,
         78.0,
         48.49742261192856
        ],
        [
         "Money AI Empire",
         7,
         254,
         927,
         5.0,
         52.0,
         29.0,
         78.0,
         50.22947341949744
        ],
        [
         "Money AI Empire",
         7,
         254,
         927,
         5.0,
         52.0,
         30.0,
         78.0,
         51.96152422706631
        ],
        [
         "Money AI Empire",
         7,
         254,
         927,
         5.0,
         52.0,
         31.0,
         78.0,
         53.693575034635195
        ],
        [
         "Money AI Empire",
         7,
         254,
         927,
         5.0,
         53.0,
         25.0,
         79.5,
         43.30127018922193
        ],
        [
         "Money AI Empire",
         7,
         254,
         927,
         5.0,
         53.0,
         26.0,
         79.5,
         45.033320996790806
        ],
        [
         "Money AI Empire",
         7,
         254,
         927,
         5.0,
         53.0,
         27.0,
         79.5,
         46.76537180435968
        ],
        [
         "Money AI Empire",
         7,
         254,
         927,
         5.0,
         53.0,
         28.0,
         79.5,
         48.49742261192856
        ],
        [
         "Money AI Empire",
         7,
         254,
         927,
         5.0,
         53.0,
         29.0,
         79.5,
         50.22947341949744
        ],
        [
         "Money AI Empire",
         7,
         254,
         927,
         5.0,
         53.0,
         30.0,
         79.5,
         51.96152422706631
        ],
        [
         "Money AI Empire",
         7,
         254,
         927,
         5.0,
         57.0,
         17.0,
         85.5,
         29.444863728670914
        ],
        [
         "Money AI Empire",
         7,
         254,
         927,
         5.0,
         57.0,
         18.0,
         85.5,
         31.17691453623979
        ],
        [
         "Money AI Empire",
         7,
         254,
         927,
         5.0,
         57.0,
         20.0,
         85.5,
         34.64101615137754
        ],
        [
         "Money AI Empire",
         7,
         254,
         927,
         5.0,
         57.0,
         21.0,
         85.5,
         36.373066958946424
        ],
        [
         "Money AI Empire",
         7,
         254,
         927,
         5.0,
         57.0,
         22.0,
         85.5,
         38.1051177665153
        ],
        [
         "Money AI Empire",
         7,
         254,
         927,
         5.0,
         57.0,
         23.0,
         85.5,
         39.837168574084174
        ],
        [
         "Money AI Empire",
         7,
         254,
         927,
         5.0,
         57.0,
         24.0,
         85.5,
         41.569219381653056
        ],
        [
         "Money AI Empire",
         7,
         254,
         927,
         5.0,
         57.0,
         25.0,
         85.5,
         43.30127018922193
        ],
        [
         "Money AI Empire",
         7,
         254,
         927,
         5.0,
         57.0,
         26.0,
         85.5,
         45.033320996790806
        ],
        [
         "Money AI Empire",
         7,
         254,
         927,
         5.0,
         58.0,
         0.0,
         87.0,
         0.0
        ],
        [
         "Money AI Empire",
         7,
         254,
         927,
         5.0,
         58.0,
         1.0,
         87.0,
         1.7320508075688772
        ],
        [
         "Money AI Empire",
         7,
         254,
         927,
         5.0,
         58.0,
         3.0,
         87.0,
         5.196152422706632
        ],
        [
         "Money AI Empire",
         7,
         254,
         927,
         5.0,
         58.0,
         4.0,
         87.0,
         6.928203230275509
        ],
        [
         "Money AI Empire",
         7,
         254,
         927,
         5.0,
         58.0,
         5.0,
         87.0,
         8.660254037844386
        ],
        [
         "Money AI Empire",
         7,
         254,
         927,
         5.0,
         58.0,
         6.0,
         87.0,
         10.392304845413264
        ],
        [
         "Money AI Empire",
         7,
         254,
         927,
         5.0,
         58.0,
         7.0,
         87.0,
         12.12435565298214
        ],
        [
         "Money AI Empire",
         7,
         254,
         927,
         5.0,
         58.0,
         21.0,
         87.0,
         36.373066958946424
        ],
        [
         "Money AI Empire",
         7,
         254,
         927,
         5.0,
         50.0,
         24.0,
         75.0,
         41.569219381653056
        ],
        [
         "Money AI Empire",
         7,
         254,
         927,
         5.0,
         50.0,
         25.0,
         75.0,
         43.30127018922193
        ],
        [
         "Money AI Empire",
         7,
         254,
         927,
         5.0,
         50.0,
         26.0,
         75.0,
         45.033320996790806
        ],
        [
         "Money AI Empire",
         7,
         254,
         927,
         5.0,
         50.0,
         27.0,
         75.0,
         46.76537180435968
        ],
        [
         "Money AI Empire",
         7,
         254,
         927,
         5.0,
         50.0,
         28.0,
         75.0,
         48.49742261192856
        ],
        [
         "Money AI Empire",
         7,
         254,
         927,
         5.0,
         51.0,
         24.0,
         76.5,
         41.569219381653056
        ],
        [
         "Money AI Empire",
         7,
         254,
         927,
         5.0,
         51.0,
         25.0,
         76.5,
         43.30127018922193
        ],
        [
         "Money AI Empire",
         7,
         254,
         927,
         5.0,
         51.0,
         26.0,
         76.5,
         45.033320996790806
        ],
        [
         "Money AI Empire",
         7,
         254,
         927,
         5.0,
         51.0,
         27.0,
         76.5,
         46.76537180435968
        ],
        [
         "Money AI Empire",
         7,
         254,
         927,
         5.0,
         51.0,
         28.0,
         76.5,
         48.49742261192856
        ],
        [
         "Money AI Empire",
         7,
         254,
         927,
         5.0,
         51.0,
         29.0,
         76.5,
         50.22947341949744
        ],
        [
         "Money AI Empire",
         7,
         254,
         927,
         5.0,
         51.0,
         30.0,
         76.5,
         51.96152422706631
        ],
        [
         "Empire 10",
         7,
         14,
         749,
         4.5,
         53.0,
         24.0,
         79.5,
         41.569219381653056
        ],
        [
         "Empire 10",
         7,
         14,
         749,
         4.5,
         54.0,
         20.0,
         81.0,
         34.64101615137754
        ],
        [
         "Empire 15",
         7,
         13,
         792,
         4.5,
         28.0,
         16.0,
         42.0,
         27.712812921102035
        ],
        [
         "Empire 10",
         7,
         14,
         749,
         4.5,
         52.0,
         21.0,
         78.0,
         36.373066958946424
        ],
        [
         "Empire 12",
         7,
         16,
         813,
         4.5,
         51.0,
         19.0,
         76.5,
         32.90896534380867
        ],
        [
         "Empire 11",
         7,
         9,
         746,
         4.5,
         23.0,
         27.0,
         34.5,
         46.76537180435968
        ],
        [
         "Empire 11",
         7,
         9,
         746,
         4.5,
         24.0,
         28.0,
         36.0,
         48.49742261192856
        ],
        [
         "Empire 6",
         7,
         13,
         757,
         4.5,
         5.0,
         16.0,
         7.5,
         27.712812921102035
        ],
        [
         "Empire 5",
         7,
         9,
         744,
         4.5,
         21.0,
         24.0,
         31.5,
         41.569219381653056
        ],
        [
         "Empire 6",
         7,
         13,
         757,
         4.5,
         5.0,
         17.0,
         7.5,
         29.444863728670914
        ],
        [
         "Empire 5",
         7,
         9,
         744,
         4.5,
         22.0,
         23.0,
         33.0,
         39.837168574084174
        ],
        [
         "Empire 6",
         7,
         13,
         757,
         4.5,
         7.0,
         16.0,
         10.5,
         27.712812921102035
        ],
        [
         "Empire 7",
         7,
         6,
         723,
         4.5,
         41.0,
         23.0,
         61.5,
         39.837168574084174
        ],
        [
         "Empire 6",
         7,
         13,
         757,
         4.5,
         9.0,
         19.0,
         13.5,
         32.90896534380867
        ],
        [
         "Empire 16",
         7,
         3,
         701,
         4.5,
         34.0,
         9.0,
         51.0,
         15.588457268119894
        ],
        [
         "Empire 4",
         7,
         6,
         739,
         4.5,
         52.0,
         7.0,
         78.0,
         12.12435565298214
        ],
        [
         "Money AI Empire",
         6,
         121,
         616,
         5.1,
         49.0,
         16.0,
         73.5,
         27.712812921102035
        ],
        [
         "Money AI Empire",
         6,
         121,
         616,
         5.1,
         49.0,
         17.0,
         73.5,
         29.444863728670914
        ],
        [
         "Money AI Empire",
         6,
         121,
         616,
         5.1,
         49.0,
         18.0,
         73.5,
         31.17691453623979
        ],
        [
         "Money AI Empire",
         6,
         121,
         616,
         5.1,
         50.0,
         7.0,
         75.0,
         12.12435565298214
        ],
        [
         "Money AI Empire",
         6,
         121,
         616,
         5.1,
         50.0,
         9.0,
         75.0,
         15.588457268119894
        ],
        [
         "Money AI Empire",
         6,
         121,
         616,
         5.1,
         50.0,
         10.0,
         75.0,
         17.32050807568877
        ],
        [
         "Money AI Empire",
         6,
         121,
         616,
         5.1,
         50.0,
         11.0,
         75.0,
         19.05255888325765
        ],
        [
         "Money AI Empire",
         6,
         121,
         616,
         5.1,
         50.0,
         12.0,
         75.0,
         20.784609690826528
        ],
        [
         "Money AI Empire",
         6,
         121,
         616,
         5.1,
         50.0,
         13.0,
         75.0,
         22.516660498395403
        ],
        [
         "Money AI Empire",
         6,
         121,
         616,
         5.1,
         50.0,
         14.0,
         75.0,
         24.24871130596428
        ],
        [
         "Money AI Empire",
         6,
         121,
         616,
         5.1,
         50.0,
         15.0,
         75.0,
         25.980762113533157
        ],
        [
         "Money AI Empire",
         6,
         121,
         616,
         5.1,
         50.0,
         16.0,
         75.0,
         27.712812921102035
        ],
        [
         "Money AI Empire",
         6,
         121,
         616,
         5.1,
         50.0,
         18.0,
         75.0,
         31.17691453623979
        ],
        [
         "Money AI Empire",
         6,
         121,
         616,
         5.1,
         51.0,
         9.0,
         76.5,
         15.588457268119894
        ],
        [
         "Money AI Empire",
         6,
         121,
         616,
         5.1,
         51.0,
         10.0,
         76.5,
         17.32050807568877
        ],
        [
         "Money AI Empire",
         6,
         121,
         616,
         5.1,
         58.0,
         16.0,
         87.0,
         27.712812921102035
        ],
        [
         "Money AI Empire",
         6,
         121,
         616,
         5.1,
         58.0,
         17.0,
         87.0,
         29.444863728670914
        ],
        [
         "Money AI Empire",
         6,
         121,
         616,
         5.1,
         59.0,
         9.0,
         88.5,
         15.588457268119894
        ],
        [
         "Money AI Empire",
         6,
         121,
         616,
         5.1,
         59.0,
         10.0,
         88.5,
         17.32050807568877
        ],
        [
         "Money AI Empire",
         6,
         121,
         616,
         5.1,
         59.0,
         11.0,
         88.5,
         19.05255888325765
        ],
        [
         "Money AI Empire",
         6,
         121,
         616,
         5.1,
         59.0,
         12.0,
         88.5,
         20.784609690826528
        ],
        [
         "Money AI Empire",
         6,
         121,
         616,
         5.1,
         59.0,
         13.0,
         88.5,
         22.516660498395403
        ],
        [
         "Money AI Empire",
         6,
         121,
         616,
         5.1,
         59.0,
         14.0,
         88.5,
         24.24871130596428
        ],
        [
         "Money AI Empire",
         6,
         121,
         616,
         5.1,
         59.0,
         15.0,
         88.5,
         25.980762113533157
        ],
        [
         "Money AI Empire",
         6,
         121,
         616,
         5.1,
         60.0,
         11.0,
         90.0,
         19.05255888325765
        ],
        [
         "Money AI Empire",
         6,
         121,
         616,
         5.1,
         60.0,
         12.0,
         90.0,
         20.784609690826528
        ],
        [
         "Money AI Empire",
         6,
         121,
         616,
         5.1,
         60.0,
         13.0,
         90.0,
         22.516660498395403
        ],
        [
         "Money AI Empire",
         6,
         121,
         616,
         5.1,
         60.0,
         14.0,
         90.0,
         24.24871130596428
        ],
        [
         "Money AI Empire",
         6,
         121,
         616,
         5.1,
         60.0,
         15.0,
         90.0,
         25.980762113533157
        ],
        [
         "Money AI Empire",
         6,
         121,
         616,
         5.1,
         61.0,
         12.0,
         91.5,
         20.784609690826528
        ],
        [
         "Money AI Empire",
         6,
         121,
         616,
         5.1,
         61.0,
         13.0,
         91.5,
         22.516660498395403
        ],
        [
         "Money AI Empire",
         6,
         121,
         616,
         5.1,
         48.0,
         10.0,
         72.0,
         17.32050807568877
        ],
        [
         "Money AI Empire",
         6,
         121,
         616,
         5.1,
         48.0,
         11.0,
         72.0,
         19.05255888325765
        ],
        [
         "Money AI Empire",
         6,
         121,
         616,
         5.1,
         48.0,
         14.0,
         72.0,
         24.24871130596428
        ],
        [
         "Money AI Empire",
         6,
         121,
         616,
         5.1,
         48.0,
         15.0,
         72.0,
         25.980762113533157
        ],
        [
         "Money AI Empire",
         6,
         121,
         616,
         5.1,
         48.0,
         16.0,
         72.0,
         27.712812921102035
        ],
        [
         "Money AI Empire",
         6,
         121,
         616,
         5.1,
         48.0,
         17.0,
         72.0,
         29.444863728670914
        ],
        [
         "Money AI Empire",
         6,
         121,
         616,
         5.1,
         48.0,
         18.0,
         72.0,
         31.17691453623979
        ],
        [
         "Money AI Empire",
         6,
         121,
         616,
         5.1,
         49.0,
         7.0,
         73.5,
         12.12435565298214
        ],
        [
         "Money AI Empire",
         6,
         121,
         616,
         5.1,
         49.0,
         8.0,
         73.5,
         13.856406460551018
        ],
        [
         "Money AI Empire",
         6,
         121,
         616,
         5.1,
         49.0,
         9.0,
         73.5,
         15.588457268119894
        ],
        [
         "Money AI Empire",
         6,
         121,
         616,
         5.1,
         49.0,
         10.0,
         73.5,
         17.32050807568877
        ],
        [
         "Money AI Empire",
         6,
         121,
         616,
         5.1,
         49.0,
         11.0,
         73.5,
         19.05255888325765
        ],
        [
         "Money AI Empire",
         6,
         121,
         616,
         5.1,
         49.0,
         13.0,
         73.5,
         22.516660498395403
        ],
        [
         "Money AI Empire",
         6,
         121,
         616,
         5.1,
         49.0,
         14.0,
         73.5,
         24.24871130596428
        ],
        [
         "Money AI Empire",
         6,
         121,
         616,
         5.1,
         49.0,
         15.0,
         73.5,
         25.980762113533157
        ],
        [
         "Money AI Empire",
         6,
         121,
         616,
         5.1,
         51.0,
         11.0,
         76.5,
         19.05255888325765
        ],
        [
         "Money AI Empire",
         6,
         121,
         616,
         5.1,
         51.0,
         14.0,
         76.5,
         24.24871130596428
        ],
        [
         "Money AI Empire",
         6,
         121,
         616,
         5.1,
         51.0,
         15.0,
         76.5,
         25.980762113533157
        ],
        [
         "Money AI Empire",
         6,
         121,
         616,
         5.1,
         52.0,
         9.0,
         78.0,
         15.588457268119894
        ],
        [
         "Money AI Empire",
         6,
         121,
         616,
         5.1,
         52.0,
         10.0,
         78.0,
         17.32050807568877
        ],
        [
         "Money AI Empire",
         6,
         121,
         616,
         5.1,
         52.0,
         11.0,
         78.0,
         19.05255888325765
        ],
        [
         "Money AI Empire",
         6,
         121,
         616,
         5.1,
         52.0,
         12.0,
         78.0,
         20.784609690826528
        ],
        [
         "Money AI Empire",
         6,
         121,
         616,
         5.1,
         52.0,
         13.0,
         78.0,
         22.516660498395403
        ],
        [
         "Money AI Empire",
         6,
         121,
         616,
         5.1,
         52.0,
         14.0,
         78.0,
         24.24871130596428
        ],
        [
         "Money AI Empire",
         6,
         121,
         616,
         5.1,
         52.0,
         15.0,
         78.0,
         25.980762113533157
        ],
        [
         "Money AI Empire",
         6,
         121,
         616,
         5.1,
         52.0,
         16.0,
         78.0,
         27.712812921102035
        ],
        [
         "Money AI Empire",
         6,
         121,
         616,
         5.1,
         53.0,
         8.0,
         79.5,
         13.856406460551018
        ],
        [
         "Money AI Empire",
         6,
         121,
         616,
         5.1,
         53.0,
         9.0,
         79.5,
         15.588457268119894
        ],
        [
         "Money AI Empire",
         6,
         121,
         616,
         5.1,
         46.0,
         12.0,
         69.0,
         20.784609690826528
        ],
        [
         "Money AI Empire",
         6,
         121,
         616,
         5.1,
         46.0,
         13.0,
         69.0,
         22.516660498395403
        ],
        [
         "Money AI Empire",
         6,
         121,
         616,
         5.1,
         46.0,
         14.0,
         69.0,
         24.24871130596428
        ],
        [
         "Money AI Empire",
         6,
         121,
         616,
         5.1,
         46.0,
         15.0,
         69.0,
         25.980762113533157
        ],
        [
         "Money AI Empire",
         6,
         121,
         616,
         5.1,
         46.0,
         16.0,
         69.0,
         27.712812921102035
        ],
        [
         "Money AI Empire",
         6,
         121,
         616,
         5.1,
         47.0,
         8.0,
         70.5,
         13.856406460551018
        ],
        [
         "Money AI Empire",
         6,
         121,
         616,
         5.1,
         47.0,
         9.0,
         70.5,
         15.588457268119894
        ],
        [
         "Money AI Empire",
         6,
         121,
         616,
         5.1,
         47.0,
         13.0,
         70.5,
         22.516660498395403
        ],
        [
         "Money AI Empire",
         6,
         121,
         616,
         5.1,
         47.0,
         14.0,
         70.5,
         24.24871130596428
        ],
        [
         "Money AI Empire",
         6,
         121,
         616,
         5.1,
         47.0,
         15.0,
         70.5,
         25.980762113533157
        ],
        [
         "Money AI Empire",
         6,
         121,
         616,
         5.1,
         47.0,
         16.0,
         70.5,
         27.712812921102035
        ],
        [
         "Money AI Empire",
         6,
         121,
         616,
         5.1,
         47.0,
         17.0,
         70.5,
         29.444863728670914
        ],
        [
         "Money AI Empire",
         6,
         121,
         616,
         5.1,
         48.0,
         7.0,
         72.0,
         12.12435565298214
        ],
        [
         "Money AI Empire",
         6,
         121,
         616,
         5.1,
         48.0,
         8.0,
         72.0,
         13.856406460551018
        ],
        [
         "Money AI Empire",
         6,
         121,
         616,
         5.1,
         48.0,
         9.0,
         72.0,
         15.588457268119894
        ],
        [
         "Money AI Empire",
         6,
         121,
         616,
         5.1,
         53.0,
         10.0,
         79.5,
         17.32050807568877
        ],
        [
         "Money AI Empire",
         6,
         121,
         616,
         5.1,
         53.0,
         11.0,
         79.5,
         19.05255888325765
        ],
        [
         "Money AI Empire",
         6,
         121,
         616,
         5.1,
         53.0,
         12.0,
         79.5,
         20.784609690826528
        ],
        [
         "Money AI Empire",
         6,
         121,
         616,
         5.1,
         53.0,
         13.0,
         79.5,
         22.516660498395403
        ],
        [
         "Money AI Empire",
         6,
         121,
         616,
         5.1,
         53.0,
         14.0,
         79.5,
         24.24871130596428
        ],
        [
         "Money AI Empire",
         6,
         121,
         616,
         5.1,
         53.0,
         15.0,
         79.5,
         25.980762113533157
        ],
        [
         "Money AI Empire",
         6,
         121,
         616,
         5.1,
         54.0,
         7.0,
         81.0,
         12.12435565298214
        ],
        [
         "Money AI Empire",
         6,
         121,
         616,
         5.1,
         54.0,
         8.0,
         81.0,
         13.856406460551018
        ],
        [
         "Money AI Empire",
         6,
         121,
         616,
         5.1,
         54.0,
         9.0,
         81.0,
         15.588457268119894
        ],
        [
         "Money AI Empire",
         6,
         121,
         616,
         5.1,
         54.0,
         10.0,
         81.0,
         17.32050807568877
        ],
        [
         "Money AI Empire",
         6,
         121,
         616,
         5.1,
         54.0,
         12.0,
         81.0,
         20.784609690826528
        ],
        [
         "Money AI Empire",
         6,
         121,
         616,
         5.1,
         54.0,
         13.0,
         81.0,
         22.516660498395403
        ],
        [
         "Money AI Empire",
         6,
         121,
         616,
         5.1,
         54.0,
         14.0,
         81.0,
         24.24871130596428
        ],
        [
         "Money AI Empire",
         6,
         121,
         616,
         5.1,
         54.0,
         15.0,
         81.0,
         25.980762113533157
        ],
        [
         "Money AI Empire",
         6,
         121,
         616,
         5.1,
         55.0,
         7.0,
         82.5,
         12.12435565298214
        ],
        [
         "Money AI Empire",
         6,
         121,
         616,
         5.1,
         55.0,
         8.0,
         82.5,
         13.856406460551018
        ],
        [
         "Money AI Empire",
         6,
         121,
         616,
         5.1,
         55.0,
         9.0,
         82.5,
         15.588457268119894
        ],
        [
         "Money AI Empire",
         6,
         121,
         616,
         5.1,
         55.0,
         11.0,
         82.5,
         19.05255888325765
        ],
        [
         "Money AI Empire",
         6,
         121,
         616,
         5.1,
         55.0,
         12.0,
         82.5,
         20.784609690826528
        ],
        [
         "Money AI Empire",
         6,
         121,
         616,
         5.1,
         55.0,
         13.0,
         82.5,
         22.516660498395403
        ],
        [
         "Money AI Empire",
         6,
         121,
         616,
         5.1,
         55.0,
         14.0,
         82.5,
         24.24871130596428
        ],
        [
         "Money AI Empire",
         6,
         121,
         616,
         5.1,
         56.0,
         6.0,
         84.0,
         10.392304845413264
        ],
        [
         "Money AI Empire",
         6,
         121,
         616,
         5.1,
         56.0,
         7.0,
         84.0,
         12.12435565298214
        ],
        [
         "Money AI Empire",
         6,
         121,
         616,
         5.1,
         56.0,
         8.0,
         84.0,
         13.856406460551018
        ],
        [
         "Money AI Empire",
         6,
         121,
         616,
         5.1,
         56.0,
         9.0,
         84.0,
         15.588457268119894
        ],
        [
         "Money AI Empire",
         6,
         121,
         616,
         5.1,
         56.0,
         11.0,
         84.0,
         19.05255888325765
        ],
        [
         "Money AI Empire",
         6,
         121,
         616,
         5.1,
         56.0,
         12.0,
         84.0,
         20.784609690826528
        ],
        [
         "Money AI Empire",
         6,
         121,
         616,
         5.1,
         56.0,
         13.0,
         84.0,
         22.516660498395403
        ],
        [
         "Money AI Empire",
         6,
         121,
         616,
         5.1,
         56.0,
         14.0,
         84.0,
         24.24871130596428
        ],
        [
         "Money AI Empire",
         6,
         121,
         616,
         5.1,
         57.0,
         7.0,
         85.5,
         12.12435565298214
        ],
        [
         "Money AI Empire",
         6,
         121,
         616,
         5.1,
         57.0,
         8.0,
         85.5,
         13.856406460551018
        ],
        [
         "Money AI Empire",
         6,
         121,
         616,
         5.1,
         57.0,
         9.0,
         85.5,
         15.588457268119894
        ],
        [
         "Money AI Empire",
         6,
         121,
         616,
         5.1,
         57.0,
         10.0,
         85.5,
         17.32050807568877
        ],
        [
         "Money AI Empire",
         6,
         121,
         616,
         5.1,
         57.0,
         11.0,
         85.5,
         19.05255888325765
        ],
        [
         "Money AI Empire",
         6,
         121,
         616,
         5.1,
         57.0,
         12.0,
         85.5,
         20.784609690826528
        ],
        [
         "Money AI Empire",
         6,
         121,
         616,
         5.1,
         57.0,
         13.0,
         85.5,
         22.516660498395403
        ],
        [
         "Money AI Empire",
         6,
         121,
         616,
         5.1,
         57.0,
         14.0,
         85.5,
         24.24871130596428
        ],
        [
         "Money AI Empire",
         6,
         121,
         616,
         5.1,
         58.0,
         8.0,
         87.0,
         13.856406460551018
        ],
        [
         "Money AI Empire",
         6,
         121,
         616,
         5.1,
         58.0,
         9.0,
         87.0,
         15.588457268119894
        ],
        [
         "Money AI Empire",
         6,
         121,
         616,
         5.1,
         58.0,
         10.0,
         87.0,
         17.32050807568877
        ],
        [
         "Money AI Empire",
         6,
         121,
         616,
         5.1,
         58.0,
         11.0,
         87.0,
         19.05255888325765
        ],
        [
         "Money AI Empire",
         6,
         121,
         616,
         5.1,
         58.0,
         12.0,
         87.0,
         20.784609690826528
        ],
        [
         "Money AI Empire",
         6,
         121,
         616,
         5.1,
         58.0,
         13.0,
         87.0,
         22.516660498395403
        ],
        [
         "Money AI Empire",
         6,
         121,
         616,
         5.1,
         58.0,
         14.0,
         87.0,
         24.24871130596428
        ],
        [
         "Money AI Empire",
         6,
         121,
         616,
         5.1,
         58.0,
         15.0,
         87.0,
         25.980762113533157
        ],
        [
         "Empire 10",
         6,
         11,
         639,
         4.0,
         51.0,
         23.0,
         76.5,
         39.837168574084174
        ],
        [
         "Empire 10",
         6,
         11,
         639,
         4.0,
         52.0,
         22.0,
         78.0,
         38.1051177665153
        ],
        [
         "Empire 10",
         6,
         11,
         639,
         4.0,
         53.0,
         23.0,
         79.5,
         39.837168574084174
        ],
        [
         "Empire 12",
         6,
         15,
         693,
         4.0,
         53.0,
         16.0,
         79.5,
         27.712812921102035
        ],
        [
         "Empire 12",
         6,
         15,
         693,
         4.0,
         54.0,
         18.0,
         81.0,
         31.17691453623979
        ],
        [
         "Empire 15",
         6,
         12,
         679,
         4.0,
         31.0,
         19.0,
         46.5,
         32.90896534380867
        ],
        [
         "Empire 13",
         6,
         4,
         627,
         4.0,
         54.0,
         16.0,
         81.0,
         27.712812921102035
        ],
        [
         "Empire 5",
         6,
         7,
         644,
         4.0,
         21.0,
         23.0,
         31.5,
         39.837168574084174
        ],
        [
         "Empire 7",
         6,
         5,
         628,
         4.0,
         39.0,
         23.0,
         58.5,
         39.837168574084174
        ],
        [
         "Empire 9",
         6,
         3,
         610,
         4.0,
         54.0,
         11.0,
         81.0,
         19.05255888325765
        ],
        [
         "Empire 5",
         6,
         7,
         644,
         4.0,
         23.0,
         25.0,
         34.5,
         43.30127018922193
        ],
        [
         "Empire 7",
         6,
         5,
         628,
         4.0,
         42.0,
         24.0,
         63.0,
         41.569219381653056
        ],
        [
         "Empire 9",
         6,
         3,
         610,
         4.0,
         56.0,
         10.0,
         84.0,
         17.32050807568877
        ],
        [
         "Empire 5",
         6,
         7,
         644,
         4.0,
         24.0,
         23.0,
         36.0,
         39.837168574084174
        ],
        [
         "Empire 3",
         6,
         4,
         621,
         4.0,
         57.0,
         16.0,
         85.5,
         27.712812921102035
        ],
        [
         "Empire 8",
         6,
         6,
         644,
         4.0,
         49.0,
         12.0,
         73.5,
         20.784609690826528
        ],
        [
         "Empire 14",
         6,
         2,
         610,
         4.0,
         5.0,
         3.0,
         7.5,
         5.196152422706632
        ],
        [
         "Empire 2",
         6,
         7,
         638,
         4.0,
         63.0,
         8.0,
         94.5,
         13.856406460551018
        ],
        [
         "Empire 6",
         6,
         9,
         652,
         4.0,
         9.0,
         17.0,
         13.5,
         29.444863728670914
        ],
        [
         "Empire 15",
         5,
         11,
         569,
         3.5,
         28.0,
         17.0,
         42.0,
         29.444863728670914
        ],
        [
         "Empire 15",
         5,
         11,
         569,
         3.5,
         29.0,
         17.0,
         43.5,
         29.444863728670914
        ],
        [
         "Empire 12",
         5,
         13,
         578,
         3.5,
         49.0,
         19.0,
         73.5,
         32.90896534380867
        ],
        [
         "Empire 12",
         5,
         13,
         578,
         3.5,
         50.0,
         17.0,
         75.0,
         29.444863728670914
        ],
        [
         "Empire 12",
         5,
         13,
         578,
         3.5,
         54.0,
         19.0,
         81.0,
         32.90896534380867
        ],
        [
         "Empire 10",
         5,
         8,
         536,
         3.5,
         52.0,
         23.0,
         78.0,
         39.837168574084174
        ],
        [
         "Empire 10",
         5,
         8,
         536,
         3.5,
         53.0,
         20.0,
         79.5,
         34.64101615137754
        ],
        [
         "Empire 11",
         5,
         7,
         546,
         3.5,
         21.0,
         27.0,
         31.5,
         46.76537180435968
        ],
        [
         "Empire 13",
         5,
         3,
         537,
         3.5,
         54.0,
         17.0,
         81.0,
         29.444863728670914
        ],
        [
         "Empire 11",
         5,
         7,
         546,
         3.5,
         22.0,
         26.0,
         33.0,
         45.033320996790806
        ],
        [
         "Empire 10",
         5,
         8,
         536,
         3.5,
         54.0,
         22.0,
         81.0,
         38.1051177665153
        ],
        [
         "Empire 10",
         5,
         8,
         536,
         3.5,
         54.0,
         23.0,
         81.0,
         39.837168574084174
        ],
        [
         "Empire 10",
         5,
         8,
         536,
         3.5,
         55.0,
         21.0,
         82.5,
         36.373066958946424
        ],
        [
         "Empire 3",
         5,
         3,
         531,
         3.5,
         56.0,
         15.0,
         84.0,
         25.980762113533157
        ],
        [
         "Empire 8",
         5,
         5,
         549,
         3.5,
         48.0,
         13.0,
         72.0,
         22.516660498395403
        ],
        [
         "Empire 16",
         5,
         2,
         525,
         3.5,
         35.0,
         7.0,
         52.5,
         12.12435565298214
        ],
        [
         "Empire 6",
         5,
         8,
         549,
         3.5,
         5.0,
         18.0,
         7.5,
         31.17691453623979
        ],
        [
         "Empire 2",
         5,
         6,
         540,
         3.5,
         62.0,
         9.0,
         93.0,
         15.588457268119894
        ],
        [
         "Empire 1",
         5,
         7,
         544,
         3.5,
         55.0,
         0.0,
         82.5,
         0.0
        ],
        [
         "Empire 1",
         5,
         7,
         544,
         3.5,
         57.0,
         0.0,
         85.5,
         0.0
        ],
        [
         "Empire 1",
         5,
         7,
         544,
         3.5,
         58.0,
         2.0,
         87.0,
         3.4641016151377544
        ],
        [
         "Empire 4",
         5,
         5,
         549,
         3.5,
         53.0,
         7.0,
         79.5,
         12.12435565298214
        ],
        [
         "Empire 6",
         5,
         8,
         549,
         3.5,
         8.0,
         20.0,
         12.0,
         34.64101615137754
        ],
        [
         "Empire 22",
         4,
         40,
         766,
         2.02,
         25.0,
         30.0,
         37.5,
         51.96152422706631
        ],
        [
         "Money AI Empire",
         4,
         2,
         440,
         3.1,
         51.0,
         13.0,
         76.5,
         22.516660498395403
        ],
        [
         "Empire 12",
         4,
         10,
         470,
         3.0,
         51.0,
         17.0,
         76.5,
         29.444863728670914
        ],
        [
         "Empire 12",
         4,
         10,
         470,
         3.0,
         53.0,
         17.0,
         79.5,
         29.444863728670914
        ],
        [
         "Empire 12",
         4,
         10,
         470,
         3.0,
         53.0,
         19.0,
         79.5,
         32.90896534380867
        ],
        [
         "Empire 15",
         4,
         9,
         464,
         3.0,
         28.0,
         18.0,
         42.0,
         31.17691453623979
        ],
        [
         "Empire 11",
         4,
         5,
         451,
         3.0,
         21.0,
         29.0,
         31.5,
         50.22947341949744
        ],
        [
         "Empire 15",
         4,
         9,
         464,
         3.0,
         30.0,
         16.0,
         45.0,
         27.712812921102035
        ],
        [
         "Empire 10",
         4,
         3,
         446,
         3.0,
         54.0,
         21.0,
         81.0,
         36.373066958946424
        ],
        [
         "Empire 15",
         4,
         9,
         464,
         3.0,
         31.0,
         18.0,
         46.5,
         31.17691453623979
        ],
        [
         "Empire 20",
         4,
         5,
         459,
         3.0,
         16.0,
         30.0,
         24.0,
         51.96152422706631
        ],
        [
         "Empire 2",
         4,
         5,
         445,
         3.0,
         62.0,
         11.0,
         93.0,
         19.05255888325765
        ],
        [
         "Empire 2",
         4,
         5,
         445,
         3.0,
         63.0,
         11.0,
         94.5,
         19.05255888325765
        ],
        [
         "Empire 6",
         4,
         6,
         451,
         3.0,
         6.0,
         17.0,
         9.0,
         29.444863728670914
        ],
        [
         "Empire 6",
         4,
         6,
         451,
         3.0,
         8.0,
         18.0,
         12.0,
         31.17691453623979
        ],
        [
         "Empire 6",
         4,
         6,
         451,
         3.0,
         8.0,
         19.0,
         12.0,
         32.90896534380867
        ],
        [
         "Empire 1",
         4,
         4,
         451,
         3.0,
         57.0,
         2.0,
         85.5,
         3.4641016151377544
        ],
        [
         "Empire 22",
         3,
         39,
         594,
         1.82,
         19.0,
         26.0,
         28.5,
         45.033320996790806
        ],
        [
         "Empire 22",
         3,
         39,
         594,
         1.82,
         24.0,
         31.0,
         36.0,
         53.693575034635195
        ],
        [
         "Empire 23",
         3,
         19,
         473,
         2.5,
         38.0,
         21.0,
         57.0,
         36.373066958946424
        ],
        [
         "Empire 23",
         3,
         19,
         473,
         2.5,
         41.0,
         20.0,
         61.5,
         34.64101615137754
        ],
        [
         "Empire 15",
         3,
         6,
         366,
         2.5,
         28.0,
         19.0,
         42.0,
         32.90896534380867
        ],
        [
         "Empire 11",
         3,
         4,
         358,
         2.5,
         22.0,
         27.0,
         33.0,
         46.76537180435968
        ],
        [
         "Empire 15",
         3,
         6,
         366,
         2.5,
         30.0,
         17.0,
         45.0,
         29.444863728670914
        ],
        [
         "Empire 11",
         3,
         4,
         358,
         2.5,
         22.0,
         29.0,
         33.0,
         50.22947341949744
        ],
        [
         "Empire 12",
         3,
         7,
         370,
         2.5,
         50.0,
         19.0,
         75.0,
         32.90896534380867
        ],
        [
         "Empire 12",
         3,
         7,
         370,
         2.5,
         53.0,
         18.0,
         79.5,
         31.17691453623979
        ],
        [
         "Empire 2",
         3,
         3,
         355,
         2.5,
         62.0,
         10.0,
         93.0,
         17.32050807568877
        ],
        [
         "Empire 5",
         3,
         4,
         365,
         2.5,
         23.0,
         23.0,
         34.5,
         39.837168574084174
        ],
        [
         "Empire 7",
         3,
         3,
         358,
         2.5,
         41.0,
         24.0,
         61.5,
         41.569219381653056
        ],
        [
         "Empire 3",
         3,
         2,
         355,
         2.5,
         57.0,
         15.0,
         85.5,
         25.980762113533157
        ],
        [
         "Empire 2",
         3,
         3,
         355,
         2.5,
         63.0,
         10.0,
         94.5,
         17.32050807568877
        ],
        [
         "Empire 8",
         3,
         4,
         363,
         2.5,
         47.0,
         12.0,
         70.5,
         20.784609690826528
        ],
        [
         "Empire 4",
         3,
         4,
         363,
         2.5,
         50.0,
         8.0,
         75.0,
         13.856406460551018
        ],
        [
         "Empire 1",
         3,
         3,
         361,
         2.5,
         56.0,
         2.0,
         84.0,
         3.4641016151377544
        ],
        [
         "Empire 6",
         3,
         3,
         361,
         2.5,
         7.0,
         19.0,
         10.5,
         32.90896534380867
        ],
        [
         "Empire 22",
         2,
         37,
         426,
         1.58,
         18.0,
         27.0,
         27.0,
         46.76537180435968
        ],
        [
         "Empire 22",
         2,
         37,
         426,
         1.58,
         18.0,
         31.0,
         27.0,
         53.693575034635195
        ],
        [
         "Empire 21",
         2,
         53,
         485,
         0.96,
         9.0,
         20.0,
         13.5,
         34.64101615137754
        ],
        [
         "Empire 21",
         2,
         53,
         485,
         0.96,
         9.0,
         14.0,
         13.5,
         24.24871130596428
        ],
        [
         "Empire 15",
         2,
         4,
         273,
         2.0,
         29.0,
         18.0,
         43.5,
         31.17691453623979
        ],
        [
         "Empire 11",
         2,
         2,
         270,
         2.0,
         22.0,
         28.0,
         33.0,
         48.49742261192856
        ],
        [
         "Empire 15",
         2,
         4,
         273,
         2.0,
         30.0,
         18.0,
         45.0,
         31.17691453623979
        ],
        [
         "Empire 10",
         2,
         2,
         270,
         2.0,
         53.0,
         22.0,
         79.5,
         38.1051177665153
        ],
        [
         "Empire 20",
         2,
         4,
         273,
         2.0,
         17.0,
         29.0,
         25.5,
         50.22947341949744
        ],
        [
         "Empire 12",
         2,
         5,
         275,
         2.0,
         51.0,
         18.0,
         76.5,
         31.17691453623979
        ],
        [
         "Empire 12",
         2,
         5,
         275,
         2.0,
         52.0,
         19.0,
         78.0,
         32.90896534380867
        ],
        [
         "Empire 20",
         2,
         4,
         273,
         2.0,
         17.0,
         31.0,
         25.5,
         53.693575034635195
        ],
        [
         "Empire 7",
         2,
         2,
         270,
         2.0,
         40.0,
         24.0,
         60.0,
         41.569219381653056
        ],
        [
         "Empire 8",
         2,
         3,
         273,
         2.0,
         48.0,
         12.0,
         72.0,
         20.784609690826528
        ],
        [
         "Empire 4",
         2,
         3,
         273,
         2.0,
         51.0,
         7.0,
         76.5,
         12.12435565298214
        ],
        [
         "Money AI Empire",
         15,
         359,
         0,
         5.0,
         57.0,
         16.0,
         85.5,
         27.712812921102035
        ],
        [
         "Money AI Empire",
         15,
         359,
         0,
         5.0,
         52.0,
         18.0,
         78.0,
         31.17691453623979
        ],
        [
         "Money AI Empire",
         15,
         359,
         0,
         5.0,
         49.0,
         12.0,
         73.5,
         20.784609690826528
        ],
        [
         "Money AI Empire",
         15,
         359,
         0,
         5.0,
         52.0,
         20.0,
         78.0,
         34.64101615137754
        ],
        [
         "Money AI Empire",
         15,
         359,
         0,
         5.0,
         52.0,
         23.0,
         78.0,
         39.837168574084174
        ],
        [
         "Money AI Empire",
         15,
         359,
         0,
         5.0,
         50.0,
         20.0,
         75.0,
         34.64101615137754
        ],
        [
         "Money AI Empire",
         15,
         359,
         0,
         5.0,
         62.0,
         10.0,
         93.0,
         17.32050807568877
        ],
        [
         "Money AI Empire",
         15,
         359,
         0,
         5.0,
         63.0,
         9.0,
         94.5,
         15.588457268119894
        ],
        [
         "Money AI Empire",
         15,
         359,
         0,
         5.0,
         51.0,
         18.0,
         76.5,
         31.17691453623979
        ],
        [
         "Money AI Empire",
         15,
         359,
         0,
         5.0,
         57.0,
         2.0,
         85.5,
         3.4641016151377544
        ],
        [
         "Money AI Empire",
         15,
         359,
         0,
         5.0,
         52.0,
         19.0,
         78.0,
         32.90896534380867
        ],
        [
         "Money AI Empire",
         15,
         359,
         0,
         5.0,
         52.0,
         21.0,
         78.0,
         36.373066958946424
        ],
        [
         "Money AI Empire",
         15,
         359,
         0,
         5.0,
         56.0,
         15.0,
         84.0,
         25.980762113533157
        ],
        [
         "Money AI Empire",
         15,
         359,
         0,
         5.0,
         53.0,
         24.0,
         79.5,
         41.569219381653056
        ],
        [
         "Money AI Empire",
         15,
         359,
         0,
         5.0,
         53.0,
         23.0,
         79.5,
         39.837168574084174
        ],
        [
         "Money AI Empire",
         15,
         359,
         0,
         5.0,
         51.0,
         17.0,
         76.5,
         29.444863728670914
        ],
        [
         "Money AI Empire",
         15,
         359,
         0,
         5.0,
         48.0,
         12.0,
         72.0,
         20.784609690826528
        ],
        [
         "Money AI Empire",
         15,
         359,
         0,
         5.0,
         56.0,
         2.0,
         84.0,
         3.4641016151377544
        ],
        [
         "Money AI Empire",
         15,
         359,
         0,
         5.0,
         53.0,
         17.0,
         79.5,
         29.444863728670914
        ],
        [
         "Money AI Empire",
         15,
         359,
         0,
         5.0,
         62.0,
         9.0,
         93.0,
         15.588457268119894
        ],
        [
         "Money AI Empire",
         15,
         359,
         0,
         5.0,
         57.0,
         15.0,
         85.5,
         25.980762113533157
        ],
        [
         "Money AI Empire",
         15,
         359,
         0,
         5.0,
         57.0,
         0.0,
         85.5,
         0.0
        ],
        [
         "Money AI Empire",
         15,
         359,
         0,
         5.0,
         56.0,
         1.0,
         84.0,
         1.7320508075688772
        ],
        [
         "Money AI Empire",
         15,
         359,
         0,
         5.0,
         54.0,
         20.0,
         81.0,
         34.64101615137754
        ],
        [
         "Money AI Empire",
         15,
         359,
         0,
         5.0,
         52.0,
         7.0,
         78.0,
         12.12435565298214
        ],
        [
         "Money AI Empire",
         15,
         359,
         0,
         5.0,
         54.0,
         21.0,
         81.0,
         36.373066958946424
        ],
        [
         "Money AI Empire",
         15,
         359,
         0,
         5.0,
         51.0,
         19.0,
         76.5,
         32.90896534380867
        ],
        [
         "Money AI Empire",
         15,
         359,
         0,
         5.0,
         53.0,
         20.0,
         79.5,
         34.64101615137754
        ],
        [
         "Money AI Empire",
         15,
         359,
         0,
         5.0,
         54.0,
         23.0,
         81.0,
         39.837168574084174
        ],
        [
         "Money AI Empire",
         15,
         359,
         0,
         5.0,
         63.0,
         11.0,
         94.5,
         19.05255888325765
        ],
        [
         "Money AI Empire",
         15,
         359,
         0,
         5.0,
         52.0,
         17.0,
         78.0,
         29.444863728670914
        ],
        [
         "Money AI Empire",
         15,
         359,
         0,
         5.0,
         55.0,
         0.0,
         82.5,
         0.0
        ],
        [
         "Money AI Empire",
         15,
         359,
         0,
         5.0,
         51.0,
         23.0,
         76.5,
         39.837168574084174
        ],
        [
         "Money AI Empire",
         15,
         359,
         0,
         5.0,
         53.0,
         22.0,
         79.5,
         38.1051177665153
        ],
        [
         "Money AI Empire",
         15,
         359,
         0,
         5.0,
         54.0,
         16.0,
         81.0,
         27.712812921102035
        ],
        [
         "Money AI Empire",
         15,
         359,
         0,
         5.0,
         51.0,
         8.0,
         76.5,
         13.856406460551018
        ],
        [
         "Money AI Empire",
         15,
         359,
         0,
         5.0,
         47.0,
         11.0,
         70.5,
         19.05255888325765
        ],
        [
         "Money AI Empire",
         15,
         359,
         0,
         5.0,
         50.0,
         8.0,
         75.0,
         13.856406460551018
        ],
        [
         "Money AI Empire",
         15,
         359,
         0,
         5.0,
         51.0,
         20.0,
         76.5,
         34.64101615137754
        ],
        [
         "Money AI Empire",
         15,
         359,
         0,
         5.0,
         54.0,
         11.0,
         81.0,
         19.05255888325765
        ],
        [
         "Money AI Empire",
         15,
         359,
         0,
         5.0,
         53.0,
         21.0,
         79.5,
         36.373066958946424
        ],
        [
         "Money AI Empire",
         15,
         359,
         0,
         5.0,
         55.0,
         21.0,
         82.5,
         36.373066958946424
        ],
        [
         "Money AI Empire",
         15,
         359,
         0,
         5.0,
         48.0,
         13.0,
         72.0,
         22.516660498395403
        ],
        [
         "Money AI Empire",
         15,
         359,
         0,
         5.0,
         56.0,
         16.0,
         84.0,
         27.712812921102035
        ],
        [
         "Money AI Empire",
         15,
         359,
         0,
         5.0,
         54.0,
         18.0,
         81.0,
         31.17691453623979
        ],
        [
         "Money AI Empire",
         15,
         359,
         0,
         5.0,
         53.0,
         19.0,
         79.5,
         32.90896534380867
        ],
        [
         "Money AI Empire",
         15,
         359,
         0,
         5.0,
         55.0,
         16.0,
         82.5,
         27.712812921102035
        ],
        [
         "Money AI Empire",
         15,
         359,
         0,
         5.0,
         56.0,
         10.0,
         84.0,
         17.32050807568877
        ],
        [
         "Money AI Empire",
         15,
         359,
         0,
         5.0,
         49.0,
         19.0,
         73.5,
         32.90896534380867
        ],
        [
         "Money AI Empire",
         15,
         359,
         0,
         5.0,
         51.0,
         22.0,
         76.5,
         38.1051177665153
        ],
        [
         "Money AI Empire",
         15,
         359,
         0,
         5.0,
         51.0,
         21.0,
         76.5,
         36.373066958946424
        ],
        [
         "Money AI Empire",
         15,
         359,
         0,
         5.0,
         51.0,
         7.0,
         76.5,
         12.12435565298214
        ],
        [
         "Money AI Empire",
         15,
         359,
         0,
         5.0,
         53.0,
         7.0,
         79.5,
         12.12435565298214
        ],
        [
         "Money AI Empire",
         15,
         359,
         0,
         5.0,
         57.0,
         1.0,
         85.5,
         1.7320508075688772
        ],
        [
         "Money AI Empire",
         15,
         359,
         0,
         5.0,
         54.0,
         22.0,
         81.0,
         38.1051177665153
        ],
        [
         "Money AI Empire",
         15,
         359,
         0,
         5.0,
         51.0,
         16.0,
         76.5,
         27.712812921102035
        ],
        [
         "Money AI Empire",
         15,
         359,
         0,
         5.0,
         50.0,
         19.0,
         75.0,
         32.90896534380867
        ],
        [
         "Money AI Empire",
         15,
         359,
         0,
         5.0,
         56.0,
         0.0,
         84.0,
         0.0
        ],
        [
         "Money AI Empire",
         15,
         359,
         0,
         5.0,
         53.0,
         18.0,
         79.5,
         31.17691453623979
        ],
        [
         "Money AI Empire",
         15,
         359,
         0,
         5.0,
         47.0,
         12.0,
         70.5,
         20.784609690826528
        ],
        [
         "Money AI Empire",
         15,
         359,
         0,
         5.0,
         52.0,
         8.0,
         78.0,
         13.856406460551018
        ],
        [
         "Money AI Empire",
         15,
         359,
         0,
         5.0,
         54.0,
         19.0,
         81.0,
         32.90896534380867
        ],
        [
         "Money AI Empire",
         15,
         359,
         0,
         5.0,
         55.0,
         15.0,
         82.5,
         25.980762113533157
        ],
        [
         "Money AI Empire",
         15,
         359,
         0,
         5.0,
         55.0,
         10.0,
         82.5,
         17.32050807568877
        ],
        [
         "Money AI Empire",
         15,
         359,
         0,
         5.0,
         53.0,
         16.0,
         79.5,
         27.712812921102035
        ],
        [
         "Money AI Empire",
         15,
         359,
         0,
         5.0,
         47.0,
         10.0,
         70.5,
         17.32050807568877
        ],
        [
         "Money AI Empire",
         15,
         359,
         0,
         5.0,
         54.0,
         17.0,
         81.0,
         29.444863728670914
        ],
        [
         "Money AI Empire",
         15,
         359,
         0,
         5.0,
         52.0,
         22.0,
         78.0,
         38.1051177665153
        ],
        [
         "Money AI Empire",
         15,
         359,
         0,
         5.0,
         63.0,
         8.0,
         94.5,
         13.856406460551018
        ],
        [
         "Money AI Empire",
         15,
         359,
         0,
         5.0,
         63.0,
         10.0,
         94.5,
         17.32050807568877
        ],
        [
         "Money AI Empire",
         15,
         359,
         0,
         5.0,
         58.0,
         2.0,
         87.0,
         3.4641016151377544
        ],
        [
         "Money AI Empire",
         15,
         359,
         0,
         5.0,
         62.0,
         11.0,
         93.0,
         19.05255888325765
        ],
        [
         "Money AI Empire",
         15,
         359,
         0,
         5.0,
         50.0,
         17.0,
         75.0,
         29.444863728670914
        ],
        [
         "Empire 6",
         12,
         38,
         1451,
         5.0,
         3.0,
         14.0,
         4.5,
         24.24871130596428
        ],
        [
         "Empire 6",
         12,
         38,
         1451,
         5.0,
         3.0,
         16.0,
         4.5,
         27.712812921102035
        ],
        [
         "Empire 11",
         12,
         26,
         1349,
         5.0,
         18.0,
         30.0,
         27.0,
         51.96152422706631
        ],
        [
         "Empire 11",
         12,
         26,
         1349,
         5.0,
         19.0,
         28.0,
         28.5,
         48.49742261192856
        ],
        [
         "Empire 5",
         12,
         23,
         1316,
         5.0,
         18.0,
         24.0,
         27.0,
         41.569219381653056
        ],
        [
         "Empire 5",
         12,
         23,
         1316,
         5.0,
         19.0,
         23.0,
         28.5,
         39.837168574084174
        ],
        [
         "Empire 11",
         12,
         26,
         1349,
         5.0,
         20.0,
         27.0,
         30.0,
         46.76537180435968
        ],
        [
         "Empire 15",
         12,
         30,
         1422,
         5.0,
         30.0,
         14.0,
         45.0,
         24.24871130596428
        ],
        [
         "Empire 15",
         12,
         30,
         1422,
         5.0,
         32.0,
         18.0,
         48.0,
         31.17691453623979
        ],
        [
         "Empire 15",
         12,
         30,
         1422,
         5.0,
         26.0,
         17.0,
         39.0,
         29.444863728670914
        ],
        [
         "Empire 15",
         12,
         30,
         1422,
         5.0,
         25.0,
         17.0,
         37.5,
         29.444863728670914
        ],
        [
         "Empire 16",
         12,
         13,
         1197,
         5.0,
         34.0,
         10.0,
         51.0,
         17.32050807568877
        ],
        [
         "Empire 15",
         12,
         30,
         1422,
         5.0,
         31.0,
         14.0,
         46.5,
         24.24871130596428
        ],
        [
         "Empire 6",
         12,
         38,
         1451,
         5.0,
         11.0,
         16.0,
         16.5,
         27.712812921102035
        ],
        [
         "Empire 5",
         12,
         23,
         1316,
         5.0,
         19.0,
         22.0,
         28.5,
         38.1051177665153
        ],
        [
         "Empire 5",
         12,
         23,
         1316,
         5.0,
         18.0,
         25.0,
         27.0,
         43.30127018922193
        ],
        [
         "Empire 5",
         12,
         23,
         1316,
         5.0,
         23.0,
         21.0,
         34.5,
         36.373066958946424
        ],
        [
         "Empire 16",
         12,
         13,
         1197,
         5.0,
         37.0,
         7.0,
         55.5,
         12.12435565298214
        ],
        [
         "Empire 16",
         12,
         13,
         1197,
         5.0,
         36.0,
         5.0,
         54.0,
         8.660254037844386
        ],
        [
         "Empire 6",
         12,
         38,
         1451,
         5.0,
         5.0,
         14.0,
         7.5,
         24.24871130596428
        ],
        [
         "Empire 14",
         12,
         14,
         1185,
         5.0,
         8.0,
         5.0,
         12.0,
         8.660254037844386
        ],
        [
         "Empire 14",
         12,
         14,
         1185,
         5.0,
         4.0,
         3.0,
         6.0,
         5.196152422706632
        ],
        [
         "Empire 14",
         12,
         14,
         1185,
         5.0,
         8.0,
         7.0,
         12.0,
         12.12435565298214
        ],
        [
         "Empire 14",
         12,
         14,
         1185,
         5.0,
         6.0,
         3.0,
         9.0,
         5.196152422706632
        ],
        [
         "Empire 11",
         11,
         23,
         1209,
         5.0,
         19.0,
         30.0,
         28.5,
         51.96152422706631
        ],
        [
         "Empire 11",
         11,
         23,
         1209,
         5.0,
         20.0,
         28.0,
         30.0,
         48.49742261192856
        ],
        [
         "Empire 15",
         11,
         25,
         1278,
         5.0,
         31.0,
         17.0,
         46.5,
         29.444863728670914
        ],
        [
         "Empire 15",
         11,
         25,
         1278,
         5.0,
         27.0,
         16.0,
         40.5,
         27.712812921102035
        ],
        [
         "Empire 15",
         11,
         25,
         1278,
         5.0,
         26.0,
         18.0,
         39.0,
         31.17691453623979
        ],
        [
         "Empire 15",
         11,
         25,
         1278,
         5.0,
         27.0,
         17.0,
         40.5,
         29.444863728670914
        ],
        [
         "Empire 5",
         11,
         18,
         1188,
         5.0,
         24.0,
         22.0,
         36.0,
         38.1051177665153
        ],
        [
         "Empire 5",
         11,
         18,
         1188,
         5.0,
         19.0,
         24.0,
         28.5,
         41.569219381653056
        ],
        [
         "Empire 6",
         11,
         34,
         1289,
         5.0,
         7.0,
         21.0,
         10.5,
         36.373066958946424
        ],
        [
         "Empire 6",
         11,
         34,
         1289,
         5.0,
         8.0,
         17.0,
         12.0,
         29.444863728670914
        ],
        [
         "Empire 6",
         11,
         34,
         1289,
         5.0,
         3.0,
         17.0,
         4.5,
         29.444863728670914
        ],
        [
         "Empire 6",
         11,
         34,
         1289,
         5.0,
         4.0,
         15.0,
         6.0,
         25.980762113533157
        ],
        [
         "Empire 15",
         11,
         25,
         1278,
         5.0,
         32.0,
         17.0,
         48.0,
         29.444863728670914
        ],
        [
         "Empire 15",
         11,
         25,
         1278,
         5.0,
         33.0,
         15.0,
         49.5,
         25.980762113533157
        ],
        [
         "Empire 12",
         11,
         18,
         1307,
         5.0,
         50.0,
         20.0,
         75.0,
         34.64101615137754
        ],
        [
         "Empire 11",
         11,
         23,
         1209,
         5.0,
         22.0,
         30.0,
         33.0,
         51.96152422706631
        ],
        [
         "Empire 11",
         11,
         23,
         1209,
         5.0,
         21.0,
         31.0,
         31.5,
         53.693575034635195
        ],
        [
         "Empire 5",
         11,
         18,
         1188,
         5.0,
         22.0,
         22.0,
         33.0,
         38.1051177665153
        ],
        [
         "Empire 5",
         11,
         18,
         1188,
         5.0,
         21.0,
         22.0,
         31.5,
         38.1051177665153
        ],
        [
         "Empire 16",
         11,
         10,
         1089,
         5.0,
         37.0,
         6.0,
         55.5,
         10.392304845413264
        ],
        [
         "Empire 16",
         11,
         10,
         1089,
         5.0,
         34.0,
         7.0,
         51.0,
         12.12435565298214
        ],
        [
         "Empire 6",
         11,
         34,
         1289,
         5.0,
         9.0,
         16.0,
         13.5,
         27.712812921102035
        ],
        [
         "Empire 14",
         11,
         10,
         1077,
         5.0,
         3.0,
         3.0,
         4.5,
         5.196152422706632
        ],
        [
         "Empire 14",
         11,
         10,
         1077,
         5.0,
         6.0,
         4.0,
         9.0,
         6.928203230275509
        ],
        [
         "Empire 14",
         11,
         10,
         1077,
         5.0,
         7.0,
         6.0,
         10.5,
         10.392304845413264
        ],
        [
         "Empire 6",
         10,
         29,
         1137,
         5.0,
         10.0,
         16.0,
         15.0,
         27.712812921102035
        ],
        [
         "Empire 6",
         10,
         29,
         1137,
         5.0,
         10.0,
         18.0,
         15.0,
         31.17691453623979
        ],
        [
         "Empire 6",
         10,
         29,
         1137,
         5.0,
         10.0,
         19.0,
         15.0,
         32.90896534380867
        ],
        [
         "Empire 10",
         10,
         16,
         1103,
         5.0,
         51.0,
         22.0,
         76.5,
         38.1051177665153
        ],
        [
         "Empire 11",
         10,
         19,
         1079,
         5.0,
         20.0,
         29.0,
         30.0,
         50.22947341949744
        ],
        [
         "Empire 10",
         10,
         16,
         1103,
         5.0,
         52.0,
         20.0,
         78.0,
         34.64101615137754
        ],
        [
         "Empire 11",
         10,
         19,
         1079,
         5.0,
         21.0,
         28.0,
         31.5,
         48.49742261192856
        ],
        [
         "Empire 15",
         10,
         19,
         1148,
         5.0,
         30.0,
         15.0,
         45.0,
         25.980762113533157
        ],
        [
         "Empire 11",
         10,
         19,
         1079,
         5.0,
         23.0,
         29.0,
         34.5,
         50.22947341949744
        ],
        [
         "Empire 11",
         10,
         19,
         1079,
         5.0,
         24.0,
         27.0,
         36.0,
         46.76537180435968
        ],
        [
         "Empire 15",
         10,
         19,
         1148,
         5.0,
         32.0,
         16.0,
         48.0,
         27.712812921102035
        ],
        [
         "Empire 12",
         10,
         17,
         1182,
         5.0,
         51.0,
         20.0,
         76.5,
         34.64101615137754
        ],
        [
         "Empire 11",
         10,
         19,
         1079,
         5.0,
         22.0,
         31.0,
         33.0,
         53.693575034635195
        ],
        [
         "Empire 15",
         10,
         19,
         1148,
         5.0,
         31.0,
         16.0,
         46.5,
         27.712812921102035
        ],
        [
         "Empire 7",
         10,
         10,
         1026,
         5.0,
         39.0,
         22.0,
         58.5,
         38.1051177665153
        ],
        [
         "Empire 5",
         10,
         14,
         1070,
         5.0,
         20.0,
         24.0,
         30.0,
         41.569219381653056
        ],
        [
         "Empire 5",
         10,
         14,
         1070,
         5.0,
         24.0,
         24.0,
         36.0,
         41.569219381653056
        ],
        [
         "Empire 6",
         10,
         29,
         1137,
         5.0,
         5.0,
         15.0,
         7.5,
         25.980762113533157
        ],
        [
         "Empire 6",
         10,
         29,
         1137,
         5.0,
         6.0,
         16.0,
         9.0,
         27.712812921102035
        ],
        [
         "Empire 6",
         10,
         29,
         1137,
         5.0,
         6.0,
         19.0,
         9.0,
         32.90896534380867
        ],
        [
         "Empire 6",
         10,
         29,
         1137,
         5.0,
         8.0,
         16.0,
         12.0,
         27.712812921102035
        ],
        [
         "Empire 1",
         10,
         8,
         1044,
         5.0,
         56.0,
         0.0,
         84.0,
         0.0
        ],
        [
         "Empire 16",
         10,
         8,
         986,
         5.0,
         37.0,
         5.0,
         55.5,
         8.660254037844386
        ],
        [
         "Empire 14",
         10,
         7,
         977,
         5.0,
         7.0,
         5.0,
         10.5,
         8.660254037844386
        ],
        [
         "Empire 22",
         1,
         35,
         262,
         1.3,
         24.0,
         27.0,
         36.0,
         46.76537180435968
        ],
        [
         "Empire 22",
         1,
         35,
         262,
         1.3,
         23.0,
         29.0,
         34.5,
         50.22947341949744
        ],
        [
         "Empire 22",
         1,
         35,
         262,
         1.3,
         24.0,
         30.0,
         36.0,
         51.96152422706631
        ],
        [
         "Empire 22",
         1,
         35,
         262,
         1.3,
         23.0,
         26.0,
         34.5,
         45.033320996790806
        ],
        [
         "Empire 22",
         1,
         35,
         262,
         1.3,
         22.0,
         29.0,
         33.0,
         50.22947341949744
        ],
        [
         "Empire 22",
         1,
         35,
         262,
         1.3,
         20.0,
         26.0,
         30.0,
         45.033320996790806
        ],
        [
         "Empire 22",
         1,
         35,
         262,
         1.3,
         22.0,
         27.0,
         33.0,
         46.76537180435968
        ],
        [
         "Empire 22",
         1,
         35,
         262,
         1.3,
         24.0,
         29.0,
         36.0,
         50.22947341949744
        ],
        [
         "Empire 22",
         1,
         35,
         262,
         1.3,
         20.0,
         29.0,
         30.0,
         50.22947341949744
        ],
        [
         "Empire 22",
         1,
         35,
         262,
         1.3,
         21.0,
         27.0,
         31.5,
         46.76537180435968
        ],
        [
         "Empire 22",
         1,
         35,
         262,
         1.3,
         20.0,
         30.0,
         30.0,
         51.96152422706631
        ],
        [
         "Empire 22",
         1,
         35,
         262,
         1.3,
         22.0,
         26.0,
         33.0,
         45.033320996790806
        ],
        [
         "Empire 22",
         1,
         35,
         262,
         1.3,
         21.0,
         28.0,
         31.5,
         48.49742261192856
        ],
        [
         "Empire 22",
         1,
         35,
         262,
         1.3,
         18.0,
         28.0,
         27.0,
         48.49742261192856
        ],
        [
         "Empire 22",
         1,
         35,
         262,
         1.3,
         22.0,
         30.0,
         33.0,
         51.96152422706631
        ],
        [
         "Empire 22",
         1,
         35,
         262,
         1.3,
         24.0,
         26.0,
         36.0,
         45.033320996790806
        ],
        [
         "Empire 22",
         1,
         35,
         262,
         1.3,
         20.0,
         27.0,
         30.0,
         46.76537180435968
        ],
        [
         "Empire 22",
         1,
         35,
         262,
         1.3,
         21.0,
         26.0,
         31.5,
         45.033320996790806
        ],
        [
         "Empire 22",
         1,
         35,
         262,
         1.3,
         22.0,
         31.0,
         33.0,
         53.693575034635195
        ],
        [
         "Empire 22",
         1,
         35,
         262,
         1.3,
         18.0,
         29.0,
         27.0,
         50.22947341949744
        ],
        [
         "Empire 22",
         1,
         35,
         262,
         1.3,
         24.0,
         25.0,
         36.0,
         43.30127018922193
        ],
        [
         "Empire 22",
         1,
         35,
         262,
         1.3,
         19.0,
         30.0,
         28.5,
         51.96152422706631
        ],
        [
         "Empire 22",
         1,
         35,
         262,
         1.3,
         21.0,
         29.0,
         31.5,
         50.22947341949744
        ],
        [
         "Empire 22",
         1,
         35,
         262,
         1.3,
         23.0,
         27.0,
         34.5,
         46.76537180435968
        ],
        [
         "Empire 22",
         1,
         35,
         262,
         1.3,
         20.0,
         28.0,
         30.0,
         48.49742261192856
        ],
        [
         "Empire 22",
         1,
         35,
         262,
         1.3,
         19.0,
         29.0,
         28.5,
         50.22947341949744
        ],
        [
         "Empire 22",
         1,
         35,
         262,
         1.3,
         23.0,
         31.0,
         34.5,
         53.693575034635195
        ],
        [
         "Empire 22",
         1,
         35,
         262,
         1.3,
         19.0,
         28.0,
         28.5,
         48.49742261192856
        ],
        [
         "Empire 22",
         1,
         35,
         262,
         1.3,
         23.0,
         28.0,
         34.5,
         48.49742261192856
        ],
        [
         "Empire 22",
         1,
         35,
         262,
         1.3,
         21.0,
         30.0,
         31.5,
         51.96152422706631
        ],
        [
         "Empire 22",
         1,
         35,
         262,
         1.3,
         24.0,
         28.0,
         36.0,
         48.49742261192856
        ],
        [
         "Empire 22",
         1,
         35,
         262,
         1.3,
         19.0,
         27.0,
         28.5,
         46.76537180435968
        ],
        [
         "Empire 22",
         1,
         35,
         262,
         1.3,
         23.0,
         30.0,
         34.5,
         51.96152422706631
        ],
        [
         "Empire 22",
         1,
         35,
         262,
         1.3,
         21.0,
         31.0,
         31.5,
         53.693575034635195
        ],
        [
         "Empire 22",
         1,
         35,
         262,
         1.3,
         22.0,
         28.0,
         33.0,
         48.49742261192856
        ],
        [
         "Empire 21",
         1,
         51,
         291,
         1.0,
         8.0,
         22.0,
         12.0,
         38.1051177665153
        ],
        [
         "Empire 21",
         1,
         51,
         291,
         1.0,
         8.0,
         20.0,
         12.0,
         34.64101615137754
        ],
        [
         "Empire 21",
         1,
         51,
         291,
         1.0,
         7.0,
         16.0,
         10.5,
         27.712812921102035
        ],
        [
         "Empire 21",
         1,
         51,
         291,
         1.0,
         9.0,
         16.0,
         13.5,
         27.712812921102035
        ],
        [
         "Empire 21",
         1,
         51,
         291,
         1.0,
         7.0,
         18.0,
         10.5,
         31.17691453623979
        ],
        [
         "Empire 21",
         1,
         51,
         291,
         1.0,
         10.0,
         20.0,
         15.0,
         34.64101615137754
        ],
        [
         "Empire 21",
         1,
         51,
         291,
         1.0,
         2.0,
         16.0,
         3.0,
         27.712812921102035
        ],
        [
         "Empire 21",
         1,
         51,
         291,
         1.0,
         11.0,
         18.0,
         16.5,
         31.17691453623979
        ],
        [
         "Empire 21",
         1,
         51,
         291,
         1.0,
         6.0,
         14.0,
         9.0,
         24.24871130596428
        ],
        [
         "Empire 21",
         1,
         51,
         291,
         1.0,
         5.0,
         15.0,
         7.5,
         25.980762113533157
        ],
        [
         "Empire 21",
         1,
         51,
         291,
         1.0,
         3.0,
         14.0,
         4.5,
         24.24871130596428
        ],
        [
         "Empire 21",
         1,
         51,
         291,
         1.0,
         10.0,
         16.0,
         15.0,
         27.712812921102035
        ],
        [
         "Empire 21",
         1,
         51,
         291,
         1.0,
         10.0,
         15.0,
         15.0,
         25.980762113533157
        ],
        [
         "Empire 21",
         1,
         51,
         291,
         1.0,
         8.0,
         21.0,
         12.0,
         36.373066958946424
        ],
        [
         "Empire 21",
         1,
         51,
         291,
         1.0,
         9.0,
         21.0,
         13.5,
         36.373066958946424
        ],
        [
         "Empire 21",
         1,
         51,
         291,
         1.0,
         8.0,
         17.0,
         12.0,
         29.444863728670914
        ],
        [
         "Empire 21",
         1,
         51,
         291,
         1.0,
         8.0,
         19.0,
         12.0,
         32.90896534380867
        ],
        [
         "Empire 21",
         1,
         51,
         291,
         1.0,
         7.0,
         20.0,
         10.5,
         34.64101615137754
        ],
        [
         "Empire 21",
         1,
         51,
         291,
         1.0,
         5.0,
         16.0,
         7.5,
         27.712812921102035
        ],
        [
         "Empire 21",
         1,
         51,
         291,
         1.0,
         8.0,
         18.0,
         12.0,
         31.17691453623979
        ],
        [
         "Empire 21",
         1,
         51,
         291,
         1.0,
         10.0,
         18.0,
         15.0,
         31.17691453623979
        ],
        [
         "Empire 21",
         1,
         51,
         291,
         1.0,
         4.0,
         18.0,
         6.0,
         31.17691453623979
        ],
        [
         "Empire 21",
         1,
         51,
         291,
         1.0,
         9.0,
         17.0,
         13.5,
         29.444863728670914
        ],
        [
         "Empire 21",
         1,
         51,
         291,
         1.0,
         5.0,
         19.0,
         7.5,
         32.90896534380867
        ],
        [
         "Empire 21",
         1,
         51,
         291,
         1.0,
         5.0,
         17.0,
         7.5,
         29.444863728670914
        ],
        [
         "Empire 21",
         1,
         51,
         291,
         1.0,
         4.0,
         17.0,
         6.0,
         29.444863728670914
        ],
        [
         "Empire 21",
         1,
         51,
         291,
         1.0,
         9.0,
         15.0,
         13.5,
         25.980762113533157
        ],
        [
         "Empire 21",
         1,
         51,
         291,
         1.0,
         11.0,
         16.0,
         16.5,
         27.712812921102035
        ],
        [
         "Empire 21",
         1,
         51,
         291,
         1.0,
         6.0,
         18.0,
         9.0,
         31.17691453623979
        ],
        [
         "Empire 21",
         1,
         51,
         291,
         1.0,
         7.0,
         19.0,
         10.5,
         32.90896534380867
        ],
        [
         "Empire 21",
         1,
         51,
         291,
         1.0,
         10.0,
         19.0,
         15.0,
         32.90896534380867
        ],
        [
         "Empire 21",
         1,
         51,
         291,
         1.0,
         3.0,
         17.0,
         4.5,
         29.444863728670914
        ],
        [
         "Empire 21",
         1,
         51,
         291,
         1.0,
         6.0,
         15.0,
         9.0,
         25.980762113533157
        ],
        [
         "Empire 21",
         1,
         51,
         291,
         1.0,
         3.0,
         16.0,
         4.5,
         27.712812921102035
        ],
        [
         "Empire 21",
         1,
         51,
         291,
         1.0,
         7.0,
         21.0,
         10.5,
         36.373066958946424
        ],
        [
         "Empire 21",
         1,
         51,
         291,
         1.0,
         8.0,
         16.0,
         12.0,
         27.712812921102035
        ],
        [
         "Empire 21",
         1,
         51,
         291,
         1.0,
         10.0,
         17.0,
         15.0,
         29.444863728670914
        ],
        [
         "Empire 21",
         1,
         51,
         291,
         1.0,
         5.0,
         18.0,
         7.5,
         31.17691453623979
        ],
        [
         "Empire 21",
         1,
         51,
         291,
         1.0,
         11.0,
         17.0,
         16.5,
         29.444863728670914
        ],
        [
         "Empire 21",
         1,
         51,
         291,
         1.0,
         7.0,
         17.0,
         10.5,
         29.444863728670914
        ],
        [
         "Empire 21",
         1,
         51,
         291,
         1.0,
         4.0,
         14.0,
         6.0,
         24.24871130596428
        ],
        [
         "Empire 21",
         1,
         51,
         291,
         1.0,
         4.0,
         15.0,
         6.0,
         25.980762113533157
        ],
        [
         "Empire 21",
         1,
         51,
         291,
         1.0,
         6.0,
         20.0,
         9.0,
         34.64101615137754
        ],
        [
         "Empire 21",
         1,
         51,
         291,
         1.0,
         9.0,
         18.0,
         13.5,
         31.17691453623979
        ],
        [
         "Empire 21",
         1,
         51,
         291,
         1.0,
         6.0,
         19.0,
         9.0,
         32.90896534380867
        ],
        [
         "Empire 21",
         1,
         51,
         291,
         1.0,
         6.0,
         16.0,
         9.0,
         27.712812921102035
        ],
        [
         "Empire 21",
         1,
         51,
         291,
         1.0,
         6.0,
         17.0,
         9.0,
         29.444863728670914
        ],
        [
         "Empire 21",
         1,
         51,
         291,
         1.0,
         8.0,
         15.0,
         12.0,
         25.980762113533157
        ],
        [
         "Empire 21",
         1,
         51,
         291,
         1.0,
         5.0,
         14.0,
         7.5,
         24.24871130596428
        ],
        [
         "Empire 21",
         1,
         51,
         291,
         1.0,
         4.0,
         16.0,
         6.0,
         27.712812921102035
        ],
        [
         "Empire 21",
         1,
         51,
         291,
         1.0,
         3.0,
         15.0,
         4.5,
         25.980762113533157
        ],
        [
         "Empire 23",
         1,
         17,
         223,
         1.5,
         39.0,
         22.0,
         58.5,
         38.1051177665153
        ],
        [
         "Empire 23",
         1,
         17,
         223,
         1.5,
         41.0,
         21.0,
         61.5,
         36.373066958946424
        ],
        [
         "Empire 23",
         1,
         17,
         223,
         1.5,
         40.0,
         22.0,
         60.0,
         38.1051177665153
        ],
        [
         "Empire 23",
         1,
         17,
         223,
         1.5,
         39.0,
         21.0,
         58.5,
         36.373066958946424
        ],
        [
         "Empire 23",
         1,
         17,
         223,
         1.5,
         42.0,
         21.0,
         63.0,
         36.373066958946424
        ],
        [
         "Empire 23",
         1,
         17,
         223,
         1.5,
         41.0,
         23.0,
         61.5,
         39.837168574084174
        ],
        [
         "Empire 23",
         1,
         17,
         223,
         1.5,
         42.0,
         23.0,
         63.0,
         39.837168574084174
        ],
        [
         "Empire 23",
         1,
         17,
         223,
         1.5,
         40.0,
         23.0,
         60.0,
         39.837168574084174
        ],
        [
         "Empire 23",
         1,
         17,
         223,
         1.5,
         42.0,
         24.0,
         63.0,
         41.569219381653056
        ],
        [
         "Empire 23",
         1,
         17,
         223,
         1.5,
         39.0,
         23.0,
         58.5,
         39.837168574084174
        ],
        [
         "Empire 23",
         1,
         17,
         223,
         1.5,
         41.0,
         22.0,
         61.5,
         38.1051177665153
        ],
        [
         "Empire 23",
         1,
         17,
         223,
         1.5,
         40.0,
         24.0,
         60.0,
         41.569219381653056
        ],
        [
         "Empire 23",
         1,
         17,
         223,
         1.5,
         38.0,
         23.0,
         57.0,
         39.837168574084174
        ],
        [
         "Empire 23",
         1,
         17,
         223,
         1.5,
         40.0,
         21.0,
         60.0,
         36.373066958946424
        ],
        [
         "Empire 23",
         1,
         17,
         223,
         1.5,
         41.0,
         24.0,
         61.5,
         41.569219381653056
        ],
        [
         "Empire 23",
         1,
         17,
         223,
         1.5,
         39.0,
         24.0,
         58.5,
         41.569219381653056
        ],
        [
         "Empire 23",
         1,
         17,
         223,
         1.5,
         42.0,
         22.0,
         63.0,
         38.1051177665153
        ],
        [
         "Money AI Empire",
         1,
         1,
         185,
         1.5,
         51.0,
         12.0,
         76.5,
         20.784609690826528
        ],
        [
         "Empire 13",
         1,
         2,
         185,
         1.5,
         55.0,
         15.0,
         82.5,
         25.980762113533157
        ],
        [
         "Empire 15",
         1,
         2,
         185,
         1.5,
         29.0,
         19.0,
         43.5,
         32.90896534380867
        ],
        [
         "Empire 15",
         1,
         2,
         185,
         1.5,
         30.0,
         19.0,
         45.0,
         32.90896534380867
        ],
        [
         "Empire 10",
         1,
         1,
         185,
         1.5,
         53.0,
         21.0,
         79.5,
         36.373066958946424
        ],
        [
         "Empire 11",
         1,
         1,
         185,
         1.5,
         23.0,
         28.0,
         34.5,
         48.49742261192856
        ],
        [
         "Empire 13",
         1,
         2,
         185,
         1.5,
         55.0,
         16.0,
         82.5,
         27.712812921102035
        ],
        [
         "Empire 20",
         1,
         2,
         185,
         1.5,
         18.0,
         30.0,
         27.0,
         51.96152422706631
        ],
        [
         "Empire 20",
         1,
         2,
         185,
         1.5,
         17.0,
         30.0,
         25.5,
         51.96152422706631
        ],
        [
         "Empire 12",
         1,
         3,
         185,
         1.5,
         51.0,
         16.0,
         76.5,
         27.712812921102035
        ],
        [
         "Empire 12",
         1,
         3,
         185,
         1.5,
         52.0,
         17.0,
         78.0,
         29.444863728670914
        ],
        [
         "Empire 12",
         1,
         3,
         185,
         1.5,
         52.0,
         18.0,
         78.0,
         31.17691453623979
        ],
        [
         "Empire 5",
         1,
         3,
         185,
         1.5,
         22.0,
         24.0,
         33.0,
         41.569219381653056
        ],
        [
         "Empire 5",
         1,
         3,
         185,
         1.5,
         22.0,
         25.0,
         33.0,
         43.30127018922193
        ],
        [
         "Empire 7",
         1,
         1,
         185,
         1.5,
         39.0,
         24.0,
         58.5,
         41.569219381653056
        ],
        [
         "Empire 18",
         1,
         1,
         185,
         1.5,
         7.0,
         15.0,
         10.5,
         25.980762113533157
        ],
        [
         "Empire 5",
         1,
         3,
         185,
         1.5,
         23.0,
         24.0,
         34.5,
         41.569219381653056
        ],
        [
         "Empire 3",
         1,
         1,
         185,
         1.5,
         56.0,
         16.0,
         84.0,
         27.712812921102035
        ],
        [
         "Empire 9",
         1,
         1,
         185,
         1.5,
         55.0,
         10.0,
         82.5,
         17.32050807568877
        ],
        [
         "Empire 19",
         1,
         1,
         185,
         1.5,
         9.0,
         19.0,
         13.5,
         32.90896534380867
        ],
        [
         "Empire 8",
         1,
         2,
         185,
         1.5,
         47.0,
         10.0,
         70.5,
         17.32050807568877
        ],
        [
         "Empire 8",
         1,
         2,
         185,
         1.5,
         47.0,
         11.0,
         70.5,
         19.05255888325765
        ],
        [
         "Empire 16",
         1,
         1,
         185,
         1.5,
         35.0,
         8.0,
         52.5,
         13.856406460551018
        ],
        [
         "Empire 4",
         1,
         2,
         185,
         1.5,
         51.0,
         8.0,
         76.5,
         13.856406460551018
        ],
        [
         "Empire 1",
         1,
         2,
         185,
         1.5,
         56.0,
         1.0,
         84.0,
         1.7320508075688772
        ],
        [
         "Empire 6",
         1,
         2,
         185,
         1.5,
         6.0,
         18.0,
         9.0,
         31.17691453623979
        ],
        [
         "Empire 1",
         1,
         2,
         185,
         1.5,
         57.0,
         1.0,
         85.5,
         1.7320508075688772
        ],
        [
         "Empire 14",
         1,
         1,
         185,
         1.5,
         5.0,
         4.0,
         7.5,
         6.928203230275509
        ],
        [
         "Empire 4",
         1,
         2,
         185,
         1.5,
         52.0,
         8.0,
         78.0,
         13.856406460551018
        ],
        [
         "Empire 2",
         1,
         1,
         185,
         1.5,
         63.0,
         9.0,
         94.5,
         15.588457268119894
        ],
        [
         "Empire 6",
         1,
         2,
         185,
         1.5,
         7.0,
         18.0,
         10.5,
         31.17691453623979
        ]
       ],
       "datasetInfos": [],
       "dbfsResultPath": null,
       "isJsonSchema": true,
       "metadata": {},
       "overflow": false,
       "plotOptions": {
        "customPlotOptions": {},
        "displayType": "table",
        "pivotAggregation": null,
        "pivotColumns": null,
        "xColumns": null,
        "yColumns": null
       },
       "removedWidgets": [],
       "schema": [
        {
         "metadata": "{}",
         "name": "empire_name",
         "type": "\"string\""
        },
        {
         "metadata": "{}",
         "name": "age",
         "type": "\"integer\""
        },
        {
         "metadata": "{}",
         "name": "territory_size",
         "type": "\"integer\""
        },
        {
         "metadata": "{}",
         "name": "economy",
         "type": "\"integer\""
        },
        {
         "metadata": "{}",
         "name": "stability",
         "type": "\"float\""
        },
        {
         "metadata": "{}",
         "name": "x",
         "type": "\"float\""
        },
        {
         "metadata": "{}",
         "name": "y",
         "type": "\"float\""
        },
        {
         "metadata": "{}",
         "name": "col",
         "type": "\"double\""
        },
        {
         "metadata": "{}",
         "name": "row",
         "type": "\"double\""
        }
       ],
       "type": "table"
      }
     },
     "output_type": "display_data"
    },
    {
     "output_type": "display_data",
     "data": {
      "text/html": [
       "<style scoped>\n",
       "  .table-result-container {\n",
       "    max-height: 300px;\n",
       "    overflow: auto;\n",
       "  }\n",
       "  table, th, td {\n",
       "    border: 1px solid black;\n",
       "    border-collapse: collapse;\n",
       "  }\n",
       "  th, td {\n",
       "    padding: 5px;\n",
       "  }\n",
       "  th {\n",
       "    text-align: left;\n",
       "  }\n",
       "</style><div class='table-result-container'><table class='table-result'><thead style='background-color: white'><tr><th>age</th><th>empire_name</th><th>territory_size</th></tr></thead><tbody><tr><td>9</td><td>Empire 11</td><td>14</td></tr><tr><td>9</td><td>Empire 11</td><td>14</td></tr><tr><td>9</td><td>Empire 6</td><td>22</td></tr><tr><td>9</td><td>Empire 5</td><td>12</td></tr><tr><td>9</td><td>Empire 6</td><td>22</td></tr><tr><td>9</td><td>Empire 5</td><td>12</td></tr><tr><td>9</td><td>Empire 6</td><td>22</td></tr><tr><td>9</td><td>Empire 6</td><td>22</td></tr><tr><td>9</td><td>Empire 7</td><td>9</td></tr><tr><td>9</td><td>Empire 7</td><td>9</td></tr><tr><td>9</td><td>Empire 16</td><td>7</td></tr><tr><td>9</td><td>Empire 16</td><td>7</td></tr><tr><td>9</td><td>Empire 14</td><td>6</td></tr><tr><td>9</td><td>Empire 14</td><td>6</td></tr><tr><td>8</td><td>Money AI Empire</td><td>286</td></tr><tr><td>8</td><td>Money AI Empire</td><td>286</td></tr><tr><td>8</td><td>Money AI Empire</td><td>286</td></tr><tr><td>8</td><td>Money AI Empire</td><td>286</td></tr><tr><td>8</td><td>Money AI Empire</td><td>286</td></tr><tr><td>8</td><td>Money AI Empire</td><td>286</td></tr><tr><td>8</td><td>Money AI Empire</td><td>286</td></tr><tr><td>8</td><td>Money AI Empire</td><td>286</td></tr><tr><td>8</td><td>Money AI Empire</td><td>286</td></tr><tr><td>8</td><td>Money AI Empire</td><td>286</td></tr><tr><td>8</td><td>Money AI Empire</td><td>286</td></tr><tr><td>8</td><td>Money AI Empire</td><td>286</td></tr><tr><td>8</td><td>Money AI Empire</td><td>286</td></tr><tr><td>8</td><td>Money AI Empire</td><td>286</td></tr><tr><td>8</td><td>Money AI Empire</td><td>286</td></tr><tr><td>8</td><td>Money AI Empire</td><td>286</td></tr><tr><td>8</td><td>Money AI Empire</td><td>286</td></tr><tr><td>8</td><td>Money AI Empire</td><td>286</td></tr><tr><td>8</td><td>Money AI Empire</td><td>286</td></tr><tr><td>8</td><td>Money AI Empire</td><td>286</td></tr><tr><td>8</td><td>Money AI Empire</td><td>286</td></tr><tr><td>8</td><td>Money AI Empire</td><td>286</td></tr><tr><td>8</td><td>Money AI Empire</td><td>286</td></tr><tr><td>8</td><td>Money AI Empire</td><td>286</td></tr><tr><td>8</td><td>Money AI Empire</td><td>286</td></tr><tr><td>8</td><td>Money AI Empire</td><td>286</td></tr><tr><td>8</td><td>Money AI Empire</td><td>286</td></tr><tr><td>8</td><td>Money AI Empire</td><td>286</td></tr><tr><td>8</td><td>Money AI Empire</td><td>286</td></tr><tr><td>8</td><td>Money AI Empire</td><td>286</td></tr><tr><td>8</td><td>Money AI Empire</td><td>286</td></tr><tr><td>8</td><td>Money AI Empire</td><td>286</td></tr><tr><td>8</td><td>Empire 6</td><td>18</td></tr><tr><td>8</td><td>Empire 6</td><td>18</td></tr><tr><td>8</td><td>Empire 11</td><td>11</td></tr><tr><td>8</td><td>Empire 15</td><td>14</td></tr><tr><td>8</td><td>Empire 11</td><td>11</td></tr><tr><td>8</td><td>Empire 5</td><td>10</td></tr><tr><td>8</td><td>Empire 6</td><td>18</td></tr><tr><td>8</td><td>Empire 6</td><td>18</td></tr><tr><td>8</td><td>Empire 6</td><td>18</td></tr><tr><td>8</td><td>Empire 7</td><td>7</td></tr><tr><td>8</td><td>Empire 16</td><td>5</td></tr><tr><td>8</td><td>Empire 16</td><td>5</td></tr><tr><td>8</td><td>Empire 14</td><td>4</td></tr><tr><td>8</td><td>Empire 14</td><td>4</td></tr><tr><td>7</td><td>Money AI Empire</td><td>254</td></tr><tr><td>7</td><td>Money AI Empire</td><td>254</td></tr><tr><td>7</td><td>Money AI Empire</td><td>254</td></tr><tr><td>7</td><td>Money AI Empire</td><td>254</td></tr><tr><td>7</td><td>Money AI Empire</td><td>254</td></tr><tr><td>7</td><td>Money AI Empire</td><td>254</td></tr><tr><td>7</td><td>Money AI Empire</td><td>254</td></tr><tr><td>7</td><td>Money AI Empire</td><td>254</td></tr><tr><td>7</td><td>Money AI Empire</td><td>254</td></tr><tr><td>7</td><td>Money AI Empire</td><td>254</td></tr><tr><td>7</td><td>Money AI Empire</td><td>254</td></tr><tr><td>7</td><td>Money AI Empire</td><td>254</td></tr><tr><td>7</td><td>Money AI Empire</td><td>254</td></tr><tr><td>7</td><td>Money AI Empire</td><td>254</td></tr><tr><td>7</td><td>Money AI Empire</td><td>254</td></tr><tr><td>7</td><td>Money AI Empire</td><td>254</td></tr><tr><td>7</td><td>Money AI Empire</td><td>254</td></tr><tr><td>7</td><td>Money AI Empire</td><td>254</td></tr><tr><td>7</td><td>Money AI Empire</td><td>254</td></tr><tr><td>7</td><td>Money AI Empire</td><td>254</td></tr><tr><td>7</td><td>Money AI Empire</td><td>254</td></tr><tr><td>7</td><td>Money AI Empire</td><td>254</td></tr><tr><td>7</td><td>Money AI Empire</td><td>254</td></tr><tr><td>7</td><td>Money AI Empire</td><td>254</td></tr><tr><td>7</td><td>Money AI Empire</td><td>254</td></tr><tr><td>7</td><td>Money AI Empire</td><td>254</td></tr><tr><td>7</td><td>Money AI Empire</td><td>254</td></tr><tr><td>7</td><td>Money AI Empire</td><td>254</td></tr><tr><td>7</td><td>Money AI Empire</td><td>254</td></tr><tr><td>7</td><td>Money AI Empire</td><td>254</td></tr><tr><td>7</td><td>Money AI Empire</td><td>254</td></tr><tr><td>7</td><td>Money AI Empire</td><td>254</td></tr><tr><td>7</td><td>Money AI Empire</td><td>254</td></tr><tr><td>7</td><td>Money AI Empire</td><td>254</td></tr><tr><td>7</td><td>Money AI Empire</td><td>254</td></tr><tr><td>7</td><td>Money AI Empire</td><td>254</td></tr><tr><td>7</td><td>Money AI Empire</td><td>254</td></tr><tr><td>7</td><td>Money AI Empire</td><td>254</td></tr><tr><td>7</td><td>Money AI Empire</td><td>254</td></tr><tr><td>7</td><td>Money AI Empire</td><td>254</td></tr><tr><td>7</td><td>Money AI Empire</td><td>254</td></tr><tr><td>7</td><td>Money AI Empire</td><td>254</td></tr><tr><td>7</td><td>Money AI Empire</td><td>254</td></tr><tr><td>7</td><td>Money AI Empire</td><td>254</td></tr><tr><td>7</td><td>Money AI Empire</td><td>254</td></tr><tr><td>7</td><td>Money AI Empire</td><td>254</td></tr><tr><td>7</td><td>Money AI Empire</td><td>254</td></tr><tr><td>7</td><td>Money AI Empire</td><td>254</td></tr><tr><td>7</td><td>Money AI Empire</td><td>254</td></tr><tr><td>7</td><td>Money AI Empire</td><td>254</td></tr><tr><td>7</td><td>Money AI Empire</td><td>254</td></tr><tr><td>7</td><td>Money AI Empire</td><td>254</td></tr><tr><td>7</td><td>Money AI Empire</td><td>254</td></tr><tr><td>7</td><td>Money AI Empire</td><td>254</td></tr><tr><td>7</td><td>Money AI Empire</td><td>254</td></tr><tr><td>7</td><td>Money AI Empire</td><td>254</td></tr><tr><td>7</td><td>Money AI Empire</td><td>254</td></tr><tr><td>7</td><td>Money AI Empire</td><td>254</td></tr><tr><td>7</td><td>Money AI Empire</td><td>254</td></tr><tr><td>7</td><td>Money AI Empire</td><td>254</td></tr><tr><td>7</td><td>Money AI Empire</td><td>254</td></tr><tr><td>7</td><td>Money AI Empire</td><td>254</td></tr><tr><td>7</td><td>Money AI Empire</td><td>254</td></tr><tr><td>7</td><td>Money AI Empire</td><td>254</td></tr><tr><td>7</td><td>Money AI Empire</td><td>254</td></tr><tr><td>7</td><td>Money AI Empire</td><td>254</td></tr><tr><td>7</td><td>Money AI Empire</td><td>254</td></tr><tr><td>7</td><td>Money AI Empire</td><td>254</td></tr><tr><td>7</td><td>Money AI Empire</td><td>254</td></tr><tr><td>7</td><td>Money AI Empire</td><td>254</td></tr><tr><td>7</td><td>Money AI Empire</td><td>254</td></tr><tr><td>7</td><td>Money AI Empire</td><td>254</td></tr><tr><td>7</td><td>Money AI Empire</td><td>254</td></tr><tr><td>7</td><td>Money AI Empire</td><td>254</td></tr><tr><td>7</td><td>Money AI Empire</td><td>254</td></tr><tr><td>7</td><td>Money AI Empire</td><td>254</td></tr><tr><td>7</td><td>Money AI Empire</td><td>254</td></tr><tr><td>7</td><td>Money AI Empire</td><td>254</td></tr><tr><td>7</td><td>Money AI Empire</td><td>254</td></tr><tr><td>7</td><td>Money AI Empire</td><td>254</td></tr><tr><td>7</td><td>Money AI Empire</td><td>254</td></tr><tr><td>7</td><td>Money AI Empire</td><td>254</td></tr><tr><td>7</td><td>Money AI Empire</td><td>254</td></tr><tr><td>7</td><td>Money AI Empire</td><td>254</td></tr><tr><td>7</td><td>Money AI Empire</td><td>254</td></tr><tr><td>7</td><td>Money AI Empire</td><td>254</td></tr><tr><td>7</td><td>Money AI Empire</td><td>254</td></tr><tr><td>7</td><td>Money AI Empire</td><td>254</td></tr><tr><td>7</td><td>Money AI Empire</td><td>254</td></tr><tr><td>7</td><td>Money AI Empire</td><td>254</td></tr><tr><td>7</td><td>Money AI Empire</td><td>254</td></tr><tr><td>7</td><td>Money AI Empire</td><td>254</td></tr><tr><td>7</td><td>Money AI Empire</td><td>254</td></tr><tr><td>7</td><td>Money AI Empire</td><td>254</td></tr><tr><td>7</td><td>Money AI Empire</td><td>254</td></tr><tr><td>7</td><td>Money AI Empire</td><td>254</td></tr><tr><td>7</td><td>Money AI Empire</td><td>254</td></tr><tr><td>7</td><td>Money AI Empire</td><td>254</td></tr><tr><td>7</td><td>Money AI Empire</td><td>254</td></tr><tr><td>7</td><td>Money AI Empire</td><td>254</td></tr><tr><td>7</td><td>Money AI Empire</td><td>254</td></tr><tr><td>7</td><td>Money AI Empire</td><td>254</td></tr><tr><td>7</td><td>Money AI Empire</td><td>254</td></tr><tr><td>7</td><td>Money AI Empire</td><td>254</td></tr><tr><td>7</td><td>Money AI Empire</td><td>254</td></tr><tr><td>7</td><td>Money AI Empire</td><td>254</td></tr><tr><td>7</td><td>Money AI Empire</td><td>254</td></tr><tr><td>7</td><td>Money AI Empire</td><td>254</td></tr><tr><td>7</td><td>Money AI Empire</td><td>254</td></tr><tr><td>7</td><td>Money AI Empire</td><td>254</td></tr><tr><td>7</td><td>Money AI Empire</td><td>254</td></tr><tr><td>7</td><td>Money AI Empire</td><td>254</td></tr><tr><td>7</td><td>Money AI Empire</td><td>254</td></tr><tr><td>7</td><td>Money AI Empire</td><td>254</td></tr><tr><td>7</td><td>Money AI Empire</td><td>254</td></tr><tr><td>7</td><td>Money AI Empire</td><td>254</td></tr><tr><td>7</td><td>Money AI Empire</td><td>254</td></tr><tr><td>7</td><td>Money AI Empire</td><td>254</td></tr><tr><td>7</td><td>Money AI Empire</td><td>254</td></tr><tr><td>7</td><td>Money AI Empire</td><td>254</td></tr><tr><td>7</td><td>Money AI Empire</td><td>254</td></tr><tr><td>7</td><td>Money AI Empire</td><td>254</td></tr><tr><td>7</td><td>Money AI Empire</td><td>254</td></tr><tr><td>7</td><td>Money AI Empire</td><td>254</td></tr><tr><td>7</td><td>Money AI Empire</td><td>254</td></tr><tr><td>7</td><td>Money AI Empire</td><td>254</td></tr><tr><td>7</td><td>Money AI Empire</td><td>254</td></tr><tr><td>7</td><td>Money AI Empire</td><td>254</td></tr><tr><td>7</td><td>Money AI Empire</td><td>254</td></tr><tr><td>7</td><td>Money AI Empire</td><td>254</td></tr><tr><td>7</td><td>Money AI Empire</td><td>254</td></tr><tr><td>7</td><td>Money AI Empire</td><td>254</td></tr><tr><td>7</td><td>Money AI Empire</td><td>254</td></tr><tr><td>7</td><td>Empire 10</td><td>14</td></tr><tr><td>7</td><td>Empire 10</td><td>14</td></tr><tr><td>7</td><td>Empire 15</td><td>13</td></tr><tr><td>7</td><td>Empire 10</td><td>14</td></tr><tr><td>7</td><td>Empire 12</td><td>16</td></tr><tr><td>7</td><td>Empire 11</td><td>9</td></tr><tr><td>7</td><td>Empire 11</td><td>9</td></tr><tr><td>7</td><td>Empire 6</td><td>13</td></tr><tr><td>7</td><td>Empire 5</td><td>9</td></tr><tr><td>7</td><td>Empire 6</td><td>13</td></tr><tr><td>7</td><td>Empire 5</td><td>9</td></tr><tr><td>7</td><td>Empire 6</td><td>13</td></tr><tr><td>7</td><td>Empire 7</td><td>6</td></tr><tr><td>7</td><td>Empire 6</td><td>13</td></tr><tr><td>7</td><td>Empire 16</td><td>3</td></tr><tr><td>7</td><td>Empire 4</td><td>6</td></tr><tr><td>6</td><td>Money AI Empire</td><td>121</td></tr><tr><td>6</td><td>Money AI Empire</td><td>121</td></tr><tr><td>6</td><td>Money AI Empire</td><td>121</td></tr><tr><td>6</td><td>Money AI Empire</td><td>121</td></tr><tr><td>6</td><td>Money AI Empire</td><td>121</td></tr><tr><td>6</td><td>Money AI Empire</td><td>121</td></tr><tr><td>6</td><td>Money AI Empire</td><td>121</td></tr><tr><td>6</td><td>Money AI Empire</td><td>121</td></tr><tr><td>6</td><td>Money AI Empire</td><td>121</td></tr><tr><td>6</td><td>Money AI Empire</td><td>121</td></tr><tr><td>6</td><td>Money AI Empire</td><td>121</td></tr><tr><td>6</td><td>Money AI Empire</td><td>121</td></tr><tr><td>6</td><td>Money AI Empire</td><td>121</td></tr><tr><td>6</td><td>Money AI Empire</td><td>121</td></tr><tr><td>6</td><td>Money AI Empire</td><td>121</td></tr><tr><td>6</td><td>Money AI Empire</td><td>121</td></tr><tr><td>6</td><td>Money AI Empire</td><td>121</td></tr><tr><td>6</td><td>Money AI Empire</td><td>121</td></tr><tr><td>6</td><td>Money AI Empire</td><td>121</td></tr><tr><td>6</td><td>Money AI Empire</td><td>121</td></tr><tr><td>6</td><td>Money AI Empire</td><td>121</td></tr><tr><td>6</td><td>Money AI Empire</td><td>121</td></tr><tr><td>6</td><td>Money AI Empire</td><td>121</td></tr><tr><td>6</td><td>Money AI Empire</td><td>121</td></tr><tr><td>6</td><td>Money AI Empire</td><td>121</td></tr><tr><td>6</td><td>Money AI Empire</td><td>121</td></tr><tr><td>6</td><td>Money AI Empire</td><td>121</td></tr><tr><td>6</td><td>Money AI Empire</td><td>121</td></tr><tr><td>6</td><td>Money AI Empire</td><td>121</td></tr><tr><td>6</td><td>Money AI Empire</td><td>121</td></tr><tr><td>6</td><td>Money AI Empire</td><td>121</td></tr><tr><td>6</td><td>Money AI Empire</td><td>121</td></tr><tr><td>6</td><td>Money AI Empire</td><td>121</td></tr><tr><td>6</td><td>Money AI Empire</td><td>121</td></tr><tr><td>6</td><td>Money AI Empire</td><td>121</td></tr><tr><td>6</td><td>Money AI Empire</td><td>121</td></tr><tr><td>6</td><td>Money AI Empire</td><td>121</td></tr><tr><td>6</td><td>Money AI Empire</td><td>121</td></tr><tr><td>6</td><td>Money AI Empire</td><td>121</td></tr><tr><td>6</td><td>Money AI Empire</td><td>121</td></tr><tr><td>6</td><td>Money AI Empire</td><td>121</td></tr><tr><td>6</td><td>Money AI Empire</td><td>121</td></tr><tr><td>6</td><td>Money AI Empire</td><td>121</td></tr><tr><td>6</td><td>Money AI Empire</td><td>121</td></tr><tr><td>6</td><td>Money AI Empire</td><td>121</td></tr><tr><td>6</td><td>Money AI Empire</td><td>121</td></tr><tr><td>6</td><td>Money AI Empire</td><td>121</td></tr><tr><td>6</td><td>Money AI Empire</td><td>121</td></tr><tr><td>6</td><td>Money AI Empire</td><td>121</td></tr><tr><td>6</td><td>Money AI Empire</td><td>121</td></tr><tr><td>6</td><td>Money AI Empire</td><td>121</td></tr><tr><td>6</td><td>Money AI Empire</td><td>121</td></tr><tr><td>6</td><td>Money AI Empire</td><td>121</td></tr><tr><td>6</td><td>Money AI Empire</td><td>121</td></tr><tr><td>6</td><td>Money AI Empire</td><td>121</td></tr><tr><td>6</td><td>Money AI Empire</td><td>121</td></tr><tr><td>6</td><td>Money AI Empire</td><td>121</td></tr><tr><td>6</td><td>Money AI Empire</td><td>121</td></tr><tr><td>6</td><td>Money AI Empire</td><td>121</td></tr><tr><td>6</td><td>Money AI Empire</td><td>121</td></tr><tr><td>6</td><td>Money AI Empire</td><td>121</td></tr><tr><td>6</td><td>Money AI Empire</td><td>121</td></tr><tr><td>6</td><td>Money AI Empire</td><td>121</td></tr><tr><td>6</td><td>Money AI Empire</td><td>121</td></tr><tr><td>6</td><td>Money AI Empire</td><td>121</td></tr><tr><td>6</td><td>Money AI Empire</td><td>121</td></tr><tr><td>6</td><td>Money AI Empire</td><td>121</td></tr><tr><td>6</td><td>Money AI Empire</td><td>121</td></tr><tr><td>6</td><td>Money AI Empire</td><td>121</td></tr><tr><td>6</td><td>Money AI Empire</td><td>121</td></tr><tr><td>6</td><td>Money AI Empire</td><td>121</td></tr><tr><td>6</td><td>Money AI Empire</td><td>121</td></tr><tr><td>6</td><td>Money AI Empire</td><td>121</td></tr><tr><td>6</td><td>Money AI Empire</td><td>121</td></tr><tr><td>6</td><td>Money AI Empire</td><td>121</td></tr><tr><td>6</td><td>Money AI Empire</td><td>121</td></tr><tr><td>6</td><td>Money AI Empire</td><td>121</td></tr><tr><td>6</td><td>Money AI Empire</td><td>121</td></tr><tr><td>6</td><td>Money AI Empire</td><td>121</td></tr><tr><td>6</td><td>Money AI Empire</td><td>121</td></tr><tr><td>6</td><td>Money AI Empire</td><td>121</td></tr><tr><td>6</td><td>Money AI Empire</td><td>121</td></tr><tr><td>6</td><td>Money AI Empire</td><td>121</td></tr><tr><td>6</td><td>Money AI Empire</td><td>121</td></tr><tr><td>6</td><td>Money AI Empire</td><td>121</td></tr><tr><td>6</td><td>Money AI Empire</td><td>121</td></tr><tr><td>6</td><td>Money AI Empire</td><td>121</td></tr><tr><td>6</td><td>Money AI Empire</td><td>121</td></tr><tr><td>6</td><td>Money AI Empire</td><td>121</td></tr><tr><td>6</td><td>Money AI Empire</td><td>121</td></tr><tr><td>6</td><td>Money AI Empire</td><td>121</td></tr><tr><td>6</td><td>Money AI Empire</td><td>121</td></tr><tr><td>6</td><td>Money AI Empire</td><td>121</td></tr><tr><td>6</td><td>Money AI Empire</td><td>121</td></tr><tr><td>6</td><td>Money AI Empire</td><td>121</td></tr><tr><td>6</td><td>Money AI Empire</td><td>121</td></tr><tr><td>6</td><td>Money AI Empire</td><td>121</td></tr><tr><td>6</td><td>Money AI Empire</td><td>121</td></tr><tr><td>6</td><td>Money AI Empire</td><td>121</td></tr><tr><td>6</td><td>Money AI Empire</td><td>121</td></tr><tr><td>6</td><td>Money AI Empire</td><td>121</td></tr><tr><td>6</td><td>Money AI Empire</td><td>121</td></tr><tr><td>6</td><td>Money AI Empire</td><td>121</td></tr><tr><td>6</td><td>Money AI Empire</td><td>121</td></tr><tr><td>6</td><td>Money AI Empire</td><td>121</td></tr><tr><td>6</td><td>Money AI Empire</td><td>121</td></tr><tr><td>6</td><td>Money AI Empire</td><td>121</td></tr><tr><td>6</td><td>Money AI Empire</td><td>121</td></tr><tr><td>6</td><td>Money AI Empire</td><td>121</td></tr><tr><td>6</td><td>Money AI Empire</td><td>121</td></tr><tr><td>6</td><td>Money AI Empire</td><td>121</td></tr><tr><td>6</td><td>Money AI Empire</td><td>121</td></tr><tr><td>6</td><td>Money AI Empire</td><td>121</td></tr><tr><td>6</td><td>Money AI Empire</td><td>121</td></tr><tr><td>6</td><td>Money AI Empire</td><td>121</td></tr><tr><td>6</td><td>Money AI Empire</td><td>121</td></tr><tr><td>6</td><td>Money AI Empire</td><td>121</td></tr><tr><td>6</td><td>Money AI Empire</td><td>121</td></tr><tr><td>6</td><td>Money AI Empire</td><td>121</td></tr><tr><td>6</td><td>Empire 10</td><td>11</td></tr><tr><td>6</td><td>Empire 10</td><td>11</td></tr><tr><td>6</td><td>Empire 10</td><td>11</td></tr><tr><td>6</td><td>Empire 12</td><td>15</td></tr><tr><td>6</td><td>Empire 12</td><td>15</td></tr><tr><td>6</td><td>Empire 15</td><td>12</td></tr><tr><td>6</td><td>Empire 13</td><td>4</td></tr><tr><td>6</td><td>Empire 5</td><td>7</td></tr><tr><td>6</td><td>Empire 7</td><td>5</td></tr><tr><td>6</td><td>Empire 9</td><td>3</td></tr><tr><td>6</td><td>Empire 5</td><td>7</td></tr><tr><td>6</td><td>Empire 7</td><td>5</td></tr><tr><td>6</td><td>Empire 9</td><td>3</td></tr><tr><td>6</td><td>Empire 5</td><td>7</td></tr><tr><td>6</td><td>Empire 3</td><td>4</td></tr><tr><td>6</td><td>Empire 8</td><td>6</td></tr><tr><td>6</td><td>Empire 14</td><td>2</td></tr><tr><td>6</td><td>Empire 2</td><td>7</td></tr><tr><td>6</td><td>Empire 6</td><td>9</td></tr><tr><td>5</td><td>Empire 15</td><td>11</td></tr><tr><td>5</td><td>Empire 15</td><td>11</td></tr><tr><td>5</td><td>Empire 12</td><td>13</td></tr><tr><td>5</td><td>Empire 12</td><td>13</td></tr><tr><td>5</td><td>Empire 12</td><td>13</td></tr><tr><td>5</td><td>Empire 10</td><td>8</td></tr><tr><td>5</td><td>Empire 10</td><td>8</td></tr><tr><td>5</td><td>Empire 11</td><td>7</td></tr><tr><td>5</td><td>Empire 13</td><td>3</td></tr><tr><td>5</td><td>Empire 11</td><td>7</td></tr><tr><td>5</td><td>Empire 10</td><td>8</td></tr><tr><td>5</td><td>Empire 10</td><td>8</td></tr><tr><td>5</td><td>Empire 10</td><td>8</td></tr><tr><td>5</td><td>Empire 3</td><td>3</td></tr><tr><td>5</td><td>Empire 8</td><td>5</td></tr><tr><td>5</td><td>Empire 16</td><td>2</td></tr><tr><td>5</td><td>Empire 6</td><td>8</td></tr><tr><td>5</td><td>Empire 2</td><td>6</td></tr><tr><td>5</td><td>Empire 1</td><td>7</td></tr><tr><td>5</td><td>Empire 1</td><td>7</td></tr><tr><td>5</td><td>Empire 1</td><td>7</td></tr><tr><td>5</td><td>Empire 4</td><td>5</td></tr><tr><td>5</td><td>Empire 6</td><td>8</td></tr><tr><td>4</td><td>Empire 22</td><td>40</td></tr><tr><td>4</td><td>Money AI Empire</td><td>2</td></tr><tr><td>4</td><td>Empire 12</td><td>10</td></tr><tr><td>4</td><td>Empire 12</td><td>10</td></tr><tr><td>4</td><td>Empire 12</td><td>10</td></tr><tr><td>4</td><td>Empire 15</td><td>9</td></tr><tr><td>4</td><td>Empire 11</td><td>5</td></tr><tr><td>4</td><td>Empire 15</td><td>9</td></tr><tr><td>4</td><td>Empire 10</td><td>3</td></tr><tr><td>4</td><td>Empire 15</td><td>9</td></tr><tr><td>4</td><td>Empire 20</td><td>5</td></tr><tr><td>4</td><td>Empire 2</td><td>5</td></tr><tr><td>4</td><td>Empire 2</td><td>5</td></tr><tr><td>4</td><td>Empire 6</td><td>6</td></tr><tr><td>4</td><td>Empire 6</td><td>6</td></tr><tr><td>4</td><td>Empire 6</td><td>6</td></tr><tr><td>4</td><td>Empire 1</td><td>4</td></tr><tr><td>3</td><td>Empire 22</td><td>39</td></tr><tr><td>3</td><td>Empire 22</td><td>39</td></tr><tr><td>3</td><td>Empire 23</td><td>19</td></tr><tr><td>3</td><td>Empire 23</td><td>19</td></tr><tr><td>3</td><td>Empire 15</td><td>6</td></tr><tr><td>3</td><td>Empire 11</td><td>4</td></tr><tr><td>3</td><td>Empire 15</td><td>6</td></tr><tr><td>3</td><td>Empire 11</td><td>4</td></tr><tr><td>3</td><td>Empire 12</td><td>7</td></tr><tr><td>3</td><td>Empire 12</td><td>7</td></tr><tr><td>3</td><td>Empire 2</td><td>3</td></tr><tr><td>3</td><td>Empire 5</td><td>4</td></tr><tr><td>3</td><td>Empire 7</td><td>3</td></tr><tr><td>3</td><td>Empire 3</td><td>2</td></tr><tr><td>3</td><td>Empire 2</td><td>3</td></tr><tr><td>3</td><td>Empire 8</td><td>4</td></tr><tr><td>3</td><td>Empire 4</td><td>4</td></tr><tr><td>3</td><td>Empire 1</td><td>3</td></tr><tr><td>3</td><td>Empire 6</td><td>3</td></tr><tr><td>2</td><td>Empire 22</td><td>37</td></tr><tr><td>2</td><td>Empire 22</td><td>37</td></tr><tr><td>2</td><td>Empire 21</td><td>53</td></tr><tr><td>2</td><td>Empire 21</td><td>53</td></tr><tr><td>2</td><td>Empire 15</td><td>4</td></tr><tr><td>2</td><td>Empire 11</td><td>2</td></tr><tr><td>2</td><td>Empire 15</td><td>4</td></tr><tr><td>2</td><td>Empire 10</td><td>2</td></tr><tr><td>2</td><td>Empire 20</td><td>4</td></tr><tr><td>2</td><td>Empire 12</td><td>5</td></tr><tr><td>2</td><td>Empire 12</td><td>5</td></tr><tr><td>2</td><td>Empire 20</td><td>4</td></tr><tr><td>2</td><td>Empire 7</td><td>2</td></tr><tr><td>2</td><td>Empire 8</td><td>3</td></tr><tr><td>2</td><td>Empire 4</td><td>3</td></tr><tr><td>15</td><td>Money AI Empire</td><td>359</td></tr><tr><td>15</td><td>Money AI Empire</td><td>359</td></tr><tr><td>15</td><td>Money AI Empire</td><td>359</td></tr><tr><td>15</td><td>Money AI Empire</td><td>359</td></tr><tr><td>15</td><td>Money AI Empire</td><td>359</td></tr><tr><td>15</td><td>Money AI Empire</td><td>359</td></tr><tr><td>15</td><td>Money AI Empire</td><td>359</td></tr><tr><td>15</td><td>Money AI Empire</td><td>359</td></tr><tr><td>15</td><td>Money AI Empire</td><td>359</td></tr><tr><td>15</td><td>Money AI Empire</td><td>359</td></tr><tr><td>15</td><td>Money AI Empire</td><td>359</td></tr><tr><td>15</td><td>Money AI Empire</td><td>359</td></tr><tr><td>15</td><td>Money AI Empire</td><td>359</td></tr><tr><td>15</td><td>Money AI Empire</td><td>359</td></tr><tr><td>15</td><td>Money AI Empire</td><td>359</td></tr><tr><td>15</td><td>Money AI Empire</td><td>359</td></tr><tr><td>15</td><td>Money AI Empire</td><td>359</td></tr><tr><td>15</td><td>Money AI Empire</td><td>359</td></tr><tr><td>15</td><td>Money AI Empire</td><td>359</td></tr><tr><td>15</td><td>Money AI Empire</td><td>359</td></tr><tr><td>15</td><td>Money AI Empire</td><td>359</td></tr><tr><td>15</td><td>Money AI Empire</td><td>359</td></tr><tr><td>15</td><td>Money AI Empire</td><td>359</td></tr><tr><td>15</td><td>Money AI Empire</td><td>359</td></tr><tr><td>15</td><td>Money AI Empire</td><td>359</td></tr><tr><td>15</td><td>Money AI Empire</td><td>359</td></tr><tr><td>15</td><td>Money AI Empire</td><td>359</td></tr><tr><td>15</td><td>Money AI Empire</td><td>359</td></tr><tr><td>15</td><td>Money AI Empire</td><td>359</td></tr><tr><td>15</td><td>Money AI Empire</td><td>359</td></tr><tr><td>15</td><td>Money AI Empire</td><td>359</td></tr><tr><td>15</td><td>Money AI Empire</td><td>359</td></tr><tr><td>15</td><td>Money AI Empire</td><td>359</td></tr><tr><td>15</td><td>Money AI Empire</td><td>359</td></tr><tr><td>15</td><td>Money AI Empire</td><td>359</td></tr><tr><td>15</td><td>Money AI Empire</td><td>359</td></tr><tr><td>15</td><td>Money AI Empire</td><td>359</td></tr><tr><td>15</td><td>Money AI Empire</td><td>359</td></tr><tr><td>15</td><td>Money AI Empire</td><td>359</td></tr><tr><td>15</td><td>Money AI Empire</td><td>359</td></tr><tr><td>15</td><td>Money AI Empire</td><td>359</td></tr><tr><td>15</td><td>Money AI Empire</td><td>359</td></tr><tr><td>15</td><td>Money AI Empire</td><td>359</td></tr><tr><td>15</td><td>Money AI Empire</td><td>359</td></tr><tr><td>15</td><td>Money AI Empire</td><td>359</td></tr><tr><td>15</td><td>Money AI Empire</td><td>359</td></tr><tr><td>15</td><td>Money AI Empire</td><td>359</td></tr><tr><td>15</td><td>Money AI Empire</td><td>359</td></tr><tr><td>15</td><td>Money AI Empire</td><td>359</td></tr><tr><td>15</td><td>Money AI Empire</td><td>359</td></tr><tr><td>15</td><td>Money AI Empire</td><td>359</td></tr><tr><td>15</td><td>Money AI Empire</td><td>359</td></tr><tr><td>15</td><td>Money AI Empire</td><td>359</td></tr><tr><td>15</td><td>Money AI Empire</td><td>359</td></tr><tr><td>15</td><td>Money AI Empire</td><td>359</td></tr><tr><td>15</td><td>Money AI Empire</td><td>359</td></tr><tr><td>15</td><td>Money AI Empire</td><td>359</td></tr><tr><td>15</td><td>Money AI Empire</td><td>359</td></tr><tr><td>15</td><td>Money AI Empire</td><td>359</td></tr><tr><td>15</td><td>Money AI Empire</td><td>359</td></tr><tr><td>15</td><td>Money AI Empire</td><td>359</td></tr><tr><td>15</td><td>Money AI Empire</td><td>359</td></tr><tr><td>15</td><td>Money AI Empire</td><td>359</td></tr><tr><td>15</td><td>Money AI Empire</td><td>359</td></tr><tr><td>15</td><td>Money AI Empire</td><td>359</td></tr><tr><td>15</td><td>Money AI Empire</td><td>359</td></tr><tr><td>15</td><td>Money AI Empire</td><td>359</td></tr><tr><td>15</td><td>Money AI Empire</td><td>359</td></tr><tr><td>15</td><td>Money AI Empire</td><td>359</td></tr><tr><td>15</td><td>Money AI Empire</td><td>359</td></tr><tr><td>15</td><td>Money AI Empire</td><td>359</td></tr><tr><td>15</td><td>Money AI Empire</td><td>359</td></tr><tr><td>15</td><td>Money AI Empire</td><td>359</td></tr><tr><td>12</td><td>Empire 6</td><td>38</td></tr><tr><td>12</td><td>Empire 6</td><td>38</td></tr><tr><td>12</td><td>Empire 11</td><td>26</td></tr><tr><td>12</td><td>Empire 11</td><td>26</td></tr><tr><td>12</td><td>Empire 5</td><td>23</td></tr><tr><td>12</td><td>Empire 5</td><td>23</td></tr><tr><td>12</td><td>Empire 11</td><td>26</td></tr><tr><td>12</td><td>Empire 15</td><td>30</td></tr><tr><td>12</td><td>Empire 15</td><td>30</td></tr><tr><td>12</td><td>Empire 15</td><td>30</td></tr><tr><td>12</td><td>Empire 15</td><td>30</td></tr><tr><td>12</td><td>Empire 16</td><td>13</td></tr><tr><td>12</td><td>Empire 15</td><td>30</td></tr><tr><td>12</td><td>Empire 6</td><td>38</td></tr><tr><td>12</td><td>Empire 5</td><td>23</td></tr><tr><td>12</td><td>Empire 5</td><td>23</td></tr><tr><td>12</td><td>Empire 5</td><td>23</td></tr><tr><td>12</td><td>Empire 16</td><td>13</td></tr><tr><td>12</td><td>Empire 16</td><td>13</td></tr><tr><td>12</td><td>Empire 6</td><td>38</td></tr><tr><td>12</td><td>Empire 14</td><td>14</td></tr><tr><td>12</td><td>Empire 14</td><td>14</td></tr><tr><td>12</td><td>Empire 14</td><td>14</td></tr><tr><td>12</td><td>Empire 14</td><td>14</td></tr><tr><td>11</td><td>Empire 11</td><td>23</td></tr><tr><td>11</td><td>Empire 11</td><td>23</td></tr><tr><td>11</td><td>Empire 15</td><td>25</td></tr><tr><td>11</td><td>Empire 15</td><td>25</td></tr><tr><td>11</td><td>Empire 15</td><td>25</td></tr><tr><td>11</td><td>Empire 15</td><td>25</td></tr><tr><td>11</td><td>Empire 5</td><td>18</td></tr><tr><td>11</td><td>Empire 5</td><td>18</td></tr><tr><td>11</td><td>Empire 6</td><td>34</td></tr><tr><td>11</td><td>Empire 6</td><td>34</td></tr><tr><td>11</td><td>Empire 6</td><td>34</td></tr><tr><td>11</td><td>Empire 6</td><td>34</td></tr><tr><td>11</td><td>Empire 15</td><td>25</td></tr><tr><td>11</td><td>Empire 15</td><td>25</td></tr><tr><td>11</td><td>Empire 12</td><td>18</td></tr><tr><td>11</td><td>Empire 11</td><td>23</td></tr><tr><td>11</td><td>Empire 11</td><td>23</td></tr><tr><td>11</td><td>Empire 5</td><td>18</td></tr><tr><td>11</td><td>Empire 5</td><td>18</td></tr><tr><td>11</td><td>Empire 16</td><td>10</td></tr><tr><td>11</td><td>Empire 16</td><td>10</td></tr><tr><td>11</td><td>Empire 6</td><td>34</td></tr><tr><td>11</td><td>Empire 14</td><td>10</td></tr><tr><td>11</td><td>Empire 14</td><td>10</td></tr><tr><td>11</td><td>Empire 14</td><td>10</td></tr><tr><td>10</td><td>Empire 6</td><td>29</td></tr><tr><td>10</td><td>Empire 6</td><td>29</td></tr><tr><td>10</td><td>Empire 6</td><td>29</td></tr><tr><td>10</td><td>Empire 10</td><td>16</td></tr><tr><td>10</td><td>Empire 11</td><td>19</td></tr><tr><td>10</td><td>Empire 10</td><td>16</td></tr><tr><td>10</td><td>Empire 11</td><td>19</td></tr><tr><td>10</td><td>Empire 15</td><td>19</td></tr><tr><td>10</td><td>Empire 11</td><td>19</td></tr><tr><td>10</td><td>Empire 11</td><td>19</td></tr><tr><td>10</td><td>Empire 15</td><td>19</td></tr><tr><td>10</td><td>Empire 12</td><td>17</td></tr><tr><td>10</td><td>Empire 11</td><td>19</td></tr><tr><td>10</td><td>Empire 15</td><td>19</td></tr><tr><td>10</td><td>Empire 7</td><td>10</td></tr><tr><td>10</td><td>Empire 5</td><td>14</td></tr><tr><td>10</td><td>Empire 5</td><td>14</td></tr><tr><td>10</td><td>Empire 6</td><td>29</td></tr><tr><td>10</td><td>Empire 6</td><td>29</td></tr><tr><td>10</td><td>Empire 6</td><td>29</td></tr><tr><td>10</td><td>Empire 6</td><td>29</td></tr><tr><td>10</td><td>Empire 1</td><td>8</td></tr><tr><td>10</td><td>Empire 16</td><td>8</td></tr><tr><td>10</td><td>Empire 14</td><td>7</td></tr><tr><td>1</td><td>Empire 22</td><td>35</td></tr><tr><td>1</td><td>Empire 22</td><td>35</td></tr><tr><td>1</td><td>Empire 22</td><td>35</td></tr><tr><td>1</td><td>Empire 22</td><td>35</td></tr><tr><td>1</td><td>Empire 22</td><td>35</td></tr><tr><td>1</td><td>Empire 22</td><td>35</td></tr><tr><td>1</td><td>Empire 22</td><td>35</td></tr><tr><td>1</td><td>Empire 22</td><td>35</td></tr><tr><td>1</td><td>Empire 22</td><td>35</td></tr><tr><td>1</td><td>Empire 22</td><td>35</td></tr><tr><td>1</td><td>Empire 22</td><td>35</td></tr><tr><td>1</td><td>Empire 22</td><td>35</td></tr><tr><td>1</td><td>Empire 22</td><td>35</td></tr><tr><td>1</td><td>Empire 22</td><td>35</td></tr><tr><td>1</td><td>Empire 22</td><td>35</td></tr><tr><td>1</td><td>Empire 22</td><td>35</td></tr><tr><td>1</td><td>Empire 22</td><td>35</td></tr><tr><td>1</td><td>Empire 22</td><td>35</td></tr><tr><td>1</td><td>Empire 22</td><td>35</td></tr><tr><td>1</td><td>Empire 22</td><td>35</td></tr><tr><td>1</td><td>Empire 22</td><td>35</td></tr><tr><td>1</td><td>Empire 22</td><td>35</td></tr><tr><td>1</td><td>Empire 22</td><td>35</td></tr><tr><td>1</td><td>Empire 22</td><td>35</td></tr><tr><td>1</td><td>Empire 22</td><td>35</td></tr><tr><td>1</td><td>Empire 22</td><td>35</td></tr><tr><td>1</td><td>Empire 22</td><td>35</td></tr><tr><td>1</td><td>Empire 22</td><td>35</td></tr><tr><td>1</td><td>Empire 22</td><td>35</td></tr><tr><td>1</td><td>Empire 22</td><td>35</td></tr><tr><td>1</td><td>Empire 22</td><td>35</td></tr><tr><td>1</td><td>Empire 22</td><td>35</td></tr><tr><td>1</td><td>Empire 22</td><td>35</td></tr><tr><td>1</td><td>Empire 22</td><td>35</td></tr><tr><td>1</td><td>Empire 22</td><td>35</td></tr><tr><td>1</td><td>Empire 21</td><td>51</td></tr><tr><td>1</td><td>Empire 21</td><td>51</td></tr><tr><td>1</td><td>Empire 21</td><td>51</td></tr><tr><td>1</td><td>Empire 21</td><td>51</td></tr><tr><td>1</td><td>Empire 21</td><td>51</td></tr><tr><td>1</td><td>Empire 21</td><td>51</td></tr><tr><td>1</td><td>Empire 21</td><td>51</td></tr><tr><td>1</td><td>Empire 21</td><td>51</td></tr><tr><td>1</td><td>Empire 21</td><td>51</td></tr><tr><td>1</td><td>Empire 21</td><td>51</td></tr><tr><td>1</td><td>Empire 21</td><td>51</td></tr><tr><td>1</td><td>Empire 21</td><td>51</td></tr><tr><td>1</td><td>Empire 21</td><td>51</td></tr><tr><td>1</td><td>Empire 21</td><td>51</td></tr><tr><td>1</td><td>Empire 21</td><td>51</td></tr><tr><td>1</td><td>Empire 21</td><td>51</td></tr><tr><td>1</td><td>Empire 21</td><td>51</td></tr><tr><td>1</td><td>Empire 21</td><td>51</td></tr><tr><td>1</td><td>Empire 21</td><td>51</td></tr><tr><td>1</td><td>Empire 21</td><td>51</td></tr><tr><td>1</td><td>Empire 21</td><td>51</td></tr><tr><td>1</td><td>Empire 21</td><td>51</td></tr><tr><td>1</td><td>Empire 21</td><td>51</td></tr><tr><td>1</td><td>Empire 21</td><td>51</td></tr><tr><td>1</td><td>Empire 21</td><td>51</td></tr><tr><td>1</td><td>Empire 21</td><td>51</td></tr><tr><td>1</td><td>Empire 21</td><td>51</td></tr><tr><td>1</td><td>Empire 21</td><td>51</td></tr><tr><td>1</td><td>Empire 21</td><td>51</td></tr><tr><td>1</td><td>Empire 21</td><td>51</td></tr><tr><td>1</td><td>Empire 21</td><td>51</td></tr><tr><td>1</td><td>Empire 21</td><td>51</td></tr><tr><td>1</td><td>Empire 21</td><td>51</td></tr><tr><td>1</td><td>Empire 21</td><td>51</td></tr><tr><td>1</td><td>Empire 21</td><td>51</td></tr><tr><td>1</td><td>Empire 21</td><td>51</td></tr><tr><td>1</td><td>Empire 21</td><td>51</td></tr><tr><td>1</td><td>Empire 21</td><td>51</td></tr><tr><td>1</td><td>Empire 21</td><td>51</td></tr><tr><td>1</td><td>Empire 21</td><td>51</td></tr><tr><td>1</td><td>Empire 21</td><td>51</td></tr><tr><td>1</td><td>Empire 21</td><td>51</td></tr><tr><td>1</td><td>Empire 21</td><td>51</td></tr><tr><td>1</td><td>Empire 21</td><td>51</td></tr><tr><td>1</td><td>Empire 21</td><td>51</td></tr><tr><td>1</td><td>Empire 21</td><td>51</td></tr><tr><td>1</td><td>Empire 21</td><td>51</td></tr><tr><td>1</td><td>Empire 21</td><td>51</td></tr><tr><td>1</td><td>Empire 21</td><td>51</td></tr><tr><td>1</td><td>Empire 21</td><td>51</td></tr><tr><td>1</td><td>Empire 21</td><td>51</td></tr><tr><td>1</td><td>Empire 23</td><td>17</td></tr><tr><td>1</td><td>Empire 23</td><td>17</td></tr><tr><td>1</td><td>Empire 23</td><td>17</td></tr><tr><td>1</td><td>Empire 23</td><td>17</td></tr><tr><td>1</td><td>Empire 23</td><td>17</td></tr><tr><td>1</td><td>Empire 23</td><td>17</td></tr><tr><td>1</td><td>Empire 23</td><td>17</td></tr><tr><td>1</td><td>Empire 23</td><td>17</td></tr><tr><td>1</td><td>Empire 23</td><td>17</td></tr><tr><td>1</td><td>Empire 23</td><td>17</td></tr><tr><td>1</td><td>Empire 23</td><td>17</td></tr><tr><td>1</td><td>Empire 23</td><td>17</td></tr><tr><td>1</td><td>Empire 23</td><td>17</td></tr><tr><td>1</td><td>Empire 23</td><td>17</td></tr><tr><td>1</td><td>Empire 23</td><td>17</td></tr><tr><td>1</td><td>Empire 23</td><td>17</td></tr><tr><td>1</td><td>Empire 23</td><td>17</td></tr><tr><td>1</td><td>Money AI Empire</td><td>1</td></tr><tr><td>1</td><td>Empire 13</td><td>2</td></tr><tr><td>1</td><td>Empire 15</td><td>2</td></tr><tr><td>1</td><td>Empire 15</td><td>2</td></tr><tr><td>1</td><td>Empire 10</td><td>1</td></tr><tr><td>1</td><td>Empire 11</td><td>1</td></tr><tr><td>1</td><td>Empire 13</td><td>2</td></tr><tr><td>1</td><td>Empire 20</td><td>2</td></tr><tr><td>1</td><td>Empire 20</td><td>2</td></tr><tr><td>1</td><td>Empire 12</td><td>3</td></tr><tr><td>1</td><td>Empire 12</td><td>3</td></tr><tr><td>1</td><td>Empire 12</td><td>3</td></tr><tr><td>1</td><td>Empire 5</td><td>3</td></tr><tr><td>1</td><td>Empire 5</td><td>3</td></tr><tr><td>1</td><td>Empire 7</td><td>1</td></tr><tr><td>1</td><td>Empire 18</td><td>1</td></tr><tr><td>1</td><td>Empire 5</td><td>3</td></tr><tr><td>1</td><td>Empire 3</td><td>1</td></tr><tr><td>1</td><td>Empire 9</td><td>1</td></tr><tr><td>1</td><td>Empire 19</td><td>1</td></tr><tr><td>1</td><td>Empire 8</td><td>2</td></tr><tr><td>1</td><td>Empire 8</td><td>2</td></tr><tr><td>1</td><td>Empire 16</td><td>1</td></tr><tr><td>1</td><td>Empire 4</td><td>2</td></tr><tr><td>1</td><td>Empire 1</td><td>2</td></tr><tr><td>1</td><td>Empire 6</td><td>2</td></tr><tr><td>1</td><td>Empire 1</td><td>2</td></tr><tr><td>1</td><td>Empire 14</td><td>1</td></tr><tr><td>1</td><td>Empire 4</td><td>2</td></tr><tr><td>1</td><td>Empire 2</td><td>1</td></tr><tr><td>1</td><td>Empire 6</td><td>2</td></tr></tbody></table></div>"
      ]
     },
     "metadata": {
      "application/vnd.databricks.v1+output": {
       "addedWidgets": {},
       "aggData": [],
       "aggError": "",
       "aggOverflow": false,
       "aggSchema": [],
       "aggSeriesLimitReached": false,
       "aggType": "",
       "arguments": {},
       "columnCustomDisplayInfos": {},
       "data": [
        [
         9,
         "Empire 11",
         14
        ],
        [
         9,
         "Empire 11",
         14
        ],
        [
         9,
         "Empire 6",
         22
        ],
        [
         9,
         "Empire 5",
         12
        ],
        [
         9,
         "Empire 6",
         22
        ],
        [
         9,
         "Empire 5",
         12
        ],
        [
         9,
         "Empire 6",
         22
        ],
        [
         9,
         "Empire 6",
         22
        ],
        [
         9,
         "Empire 7",
         9
        ],
        [
         9,
         "Empire 7",
         9
        ],
        [
         9,
         "Empire 16",
         7
        ],
        [
         9,
         "Empire 16",
         7
        ],
        [
         9,
         "Empire 14",
         6
        ],
        [
         9,
         "Empire 14",
         6
        ],
        [
         8,
         "Money AI Empire",
         286
        ],
        [
         8,
         "Money AI Empire",
         286
        ],
        [
         8,
         "Money AI Empire",
         286
        ],
        [
         8,
         "Money AI Empire",
         286
        ],
        [
         8,
         "Money AI Empire",
         286
        ],
        [
         8,
         "Money AI Empire",
         286
        ],
        [
         8,
         "Money AI Empire",
         286
        ],
        [
         8,
         "Money AI Empire",
         286
        ],
        [
         8,
         "Money AI Empire",
         286
        ],
        [
         8,
         "Money AI Empire",
         286
        ],
        [
         8,
         "Money AI Empire",
         286
        ],
        [
         8,
         "Money AI Empire",
         286
        ],
        [
         8,
         "Money AI Empire",
         286
        ],
        [
         8,
         "Money AI Empire",
         286
        ],
        [
         8,
         "Money AI Empire",
         286
        ],
        [
         8,
         "Money AI Empire",
         286
        ],
        [
         8,
         "Money AI Empire",
         286
        ],
        [
         8,
         "Money AI Empire",
         286
        ],
        [
         8,
         "Money AI Empire",
         286
        ],
        [
         8,
         "Money AI Empire",
         286
        ],
        [
         8,
         "Money AI Empire",
         286
        ],
        [
         8,
         "Money AI Empire",
         286
        ],
        [
         8,
         "Money AI Empire",
         286
        ],
        [
         8,
         "Money AI Empire",
         286
        ],
        [
         8,
         "Money AI Empire",
         286
        ],
        [
         8,
         "Money AI Empire",
         286
        ],
        [
         8,
         "Money AI Empire",
         286
        ],
        [
         8,
         "Money AI Empire",
         286
        ],
        [
         8,
         "Money AI Empire",
         286
        ],
        [
         8,
         "Money AI Empire",
         286
        ],
        [
         8,
         "Money AI Empire",
         286
        ],
        [
         8,
         "Money AI Empire",
         286
        ],
        [
         8,
         "Empire 6",
         18
        ],
        [
         8,
         "Empire 6",
         18
        ],
        [
         8,
         "Empire 11",
         11
        ],
        [
         8,
         "Empire 15",
         14
        ],
        [
         8,
         "Empire 11",
         11
        ],
        [
         8,
         "Empire 5",
         10
        ],
        [
         8,
         "Empire 6",
         18
        ],
        [
         8,
         "Empire 6",
         18
        ],
        [
         8,
         "Empire 6",
         18
        ],
        [
         8,
         "Empire 7",
         7
        ],
        [
         8,
         "Empire 16",
         5
        ],
        [
         8,
         "Empire 16",
         5
        ],
        [
         8,
         "Empire 14",
         4
        ],
        [
         8,
         "Empire 14",
         4
        ],
        [
         7,
         "Money AI Empire",
         254
        ],
        [
         7,
         "Money AI Empire",
         254
        ],
        [
         7,
         "Money AI Empire",
         254
        ],
        [
         7,
         "Money AI Empire",
         254
        ],
        [
         7,
         "Money AI Empire",
         254
        ],
        [
         7,
         "Money AI Empire",
         254
        ],
        [
         7,
         "Money AI Empire",
         254
        ],
        [
         7,
         "Money AI Empire",
         254
        ],
        [
         7,
         "Money AI Empire",
         254
        ],
        [
         7,
         "Money AI Empire",
         254
        ],
        [
         7,
         "Money AI Empire",
         254
        ],
        [
         7,
         "Money AI Empire",
         254
        ],
        [
         7,
         "Money AI Empire",
         254
        ],
        [
         7,
         "Money AI Empire",
         254
        ],
        [
         7,
         "Money AI Empire",
         254
        ],
        [
         7,
         "Money AI Empire",
         254
        ],
        [
         7,
         "Money AI Empire",
         254
        ],
        [
         7,
         "Money AI Empire",
         254
        ],
        [
         7,
         "Money AI Empire",
         254
        ],
        [
         7,
         "Money AI Empire",
         254
        ],
        [
         7,
         "Money AI Empire",
         254
        ],
        [
         7,
         "Money AI Empire",
         254
        ],
        [
         7,
         "Money AI Empire",
         254
        ],
        [
         7,
         "Money AI Empire",
         254
        ],
        [
         7,
         "Money AI Empire",
         254
        ],
        [
         7,
         "Money AI Empire",
         254
        ],
        [
         7,
         "Money AI Empire",
         254
        ],
        [
         7,
         "Money AI Empire",
         254
        ],
        [
         7,
         "Money AI Empire",
         254
        ],
        [
         7,
         "Money AI Empire",
         254
        ],
        [
         7,
         "Money AI Empire",
         254
        ],
        [
         7,
         "Money AI Empire",
         254
        ],
        [
         7,
         "Money AI Empire",
         254
        ],
        [
         7,
         "Money AI Empire",
         254
        ],
        [
         7,
         "Money AI Empire",
         254
        ],
        [
         7,
         "Money AI Empire",
         254
        ],
        [
         7,
         "Money AI Empire",
         254
        ],
        [
         7,
         "Money AI Empire",
         254
        ],
        [
         7,
         "Money AI Empire",
         254
        ],
        [
         7,
         "Money AI Empire",
         254
        ],
        [
         7,
         "Money AI Empire",
         254
        ],
        [
         7,
         "Money AI Empire",
         254
        ],
        [
         7,
         "Money AI Empire",
         254
        ],
        [
         7,
         "Money AI Empire",
         254
        ],
        [
         7,
         "Money AI Empire",
         254
        ],
        [
         7,
         "Money AI Empire",
         254
        ],
        [
         7,
         "Money AI Empire",
         254
        ],
        [
         7,
         "Money AI Empire",
         254
        ],
        [
         7,
         "Money AI Empire",
         254
        ],
        [
         7,
         "Money AI Empire",
         254
        ],
        [
         7,
         "Money AI Empire",
         254
        ],
        [
         7,
         "Money AI Empire",
         254
        ],
        [
         7,
         "Money AI Empire",
         254
        ],
        [
         7,
         "Money AI Empire",
         254
        ],
        [
         7,
         "Money AI Empire",
         254
        ],
        [
         7,
         "Money AI Empire",
         254
        ],
        [
         7,
         "Money AI Empire",
         254
        ],
        [
         7,
         "Money AI Empire",
         254
        ],
        [
         7,
         "Money AI Empire",
         254
        ],
        [
         7,
         "Money AI Empire",
         254
        ],
        [
         7,
         "Money AI Empire",
         254
        ],
        [
         7,
         "Money AI Empire",
         254
        ],
        [
         7,
         "Money AI Empire",
         254
        ],
        [
         7,
         "Money AI Empire",
         254
        ],
        [
         7,
         "Money AI Empire",
         254
        ],
        [
         7,
         "Money AI Empire",
         254
        ],
        [
         7,
         "Money AI Empire",
         254
        ],
        [
         7,
         "Money AI Empire",
         254
        ],
        [
         7,
         "Money AI Empire",
         254
        ],
        [
         7,
         "Money AI Empire",
         254
        ],
        [
         7,
         "Money AI Empire",
         254
        ],
        [
         7,
         "Money AI Empire",
         254
        ],
        [
         7,
         "Money AI Empire",
         254
        ],
        [
         7,
         "Money AI Empire",
         254
        ],
        [
         7,
         "Money AI Empire",
         254
        ],
        [
         7,
         "Money AI Empire",
         254
        ],
        [
         7,
         "Money AI Empire",
         254
        ],
        [
         7,
         "Money AI Empire",
         254
        ],
        [
         7,
         "Money AI Empire",
         254
        ],
        [
         7,
         "Money AI Empire",
         254
        ],
        [
         7,
         "Money AI Empire",
         254
        ],
        [
         7,
         "Money AI Empire",
         254
        ],
        [
         7,
         "Money AI Empire",
         254
        ],
        [
         7,
         "Money AI Empire",
         254
        ],
        [
         7,
         "Money AI Empire",
         254
        ],
        [
         7,
         "Money AI Empire",
         254
        ],
        [
         7,
         "Money AI Empire",
         254
        ],
        [
         7,
         "Money AI Empire",
         254
        ],
        [
         7,
         "Money AI Empire",
         254
        ],
        [
         7,
         "Money AI Empire",
         254
        ],
        [
         7,
         "Money AI Empire",
         254
        ],
        [
         7,
         "Money AI Empire",
         254
        ],
        [
         7,
         "Money AI Empire",
         254
        ],
        [
         7,
         "Money AI Empire",
         254
        ],
        [
         7,
         "Money AI Empire",
         254
        ],
        [
         7,
         "Money AI Empire",
         254
        ],
        [
         7,
         "Money AI Empire",
         254
        ],
        [
         7,
         "Money AI Empire",
         254
        ],
        [
         7,
         "Money AI Empire",
         254
        ],
        [
         7,
         "Money AI Empire",
         254
        ],
        [
         7,
         "Money AI Empire",
         254
        ],
        [
         7,
         "Money AI Empire",
         254
        ],
        [
         7,
         "Money AI Empire",
         254
        ],
        [
         7,
         "Money AI Empire",
         254
        ],
        [
         7,
         "Money AI Empire",
         254
        ],
        [
         7,
         "Money AI Empire",
         254
        ],
        [
         7,
         "Money AI Empire",
         254
        ],
        [
         7,
         "Money AI Empire",
         254
        ],
        [
         7,
         "Money AI Empire",
         254
        ],
        [
         7,
         "Money AI Empire",
         254
        ],
        [
         7,
         "Money AI Empire",
         254
        ],
        [
         7,
         "Money AI Empire",
         254
        ],
        [
         7,
         "Money AI Empire",
         254
        ],
        [
         7,
         "Money AI Empire",
         254
        ],
        [
         7,
         "Money AI Empire",
         254
        ],
        [
         7,
         "Money AI Empire",
         254
        ],
        [
         7,
         "Money AI Empire",
         254
        ],
        [
         7,
         "Money AI Empire",
         254
        ],
        [
         7,
         "Money AI Empire",
         254
        ],
        [
         7,
         "Money AI Empire",
         254
        ],
        [
         7,
         "Money AI Empire",
         254
        ],
        [
         7,
         "Money AI Empire",
         254
        ],
        [
         7,
         "Money AI Empire",
         254
        ],
        [
         7,
         "Money AI Empire",
         254
        ],
        [
         7,
         "Money AI Empire",
         254
        ],
        [
         7,
         "Money AI Empire",
         254
        ],
        [
         7,
         "Money AI Empire",
         254
        ],
        [
         7,
         "Money AI Empire",
         254
        ],
        [
         7,
         "Money AI Empire",
         254
        ],
        [
         7,
         "Money AI Empire",
         254
        ],
        [
         7,
         "Money AI Empire",
         254
        ],
        [
         7,
         "Money AI Empire",
         254
        ],
        [
         7,
         "Money AI Empire",
         254
        ],
        [
         7,
         "Empire 10",
         14
        ],
        [
         7,
         "Empire 10",
         14
        ],
        [
         7,
         "Empire 15",
         13
        ],
        [
         7,
         "Empire 10",
         14
        ],
        [
         7,
         "Empire 12",
         16
        ],
        [
         7,
         "Empire 11",
         9
        ],
        [
         7,
         "Empire 11",
         9
        ],
        [
         7,
         "Empire 6",
         13
        ],
        [
         7,
         "Empire 5",
         9
        ],
        [
         7,
         "Empire 6",
         13
        ],
        [
         7,
         "Empire 5",
         9
        ],
        [
         7,
         "Empire 6",
         13
        ],
        [
         7,
         "Empire 7",
         6
        ],
        [
         7,
         "Empire 6",
         13
        ],
        [
         7,
         "Empire 16",
         3
        ],
        [
         7,
         "Empire 4",
         6
        ],
        [
         6,
         "Money AI Empire",
         121
        ],
        [
         6,
         "Money AI Empire",
         121
        ],
        [
         6,
         "Money AI Empire",
         121
        ],
        [
         6,
         "Money AI Empire",
         121
        ],
        [
         6,
         "Money AI Empire",
         121
        ],
        [
         6,
         "Money AI Empire",
         121
        ],
        [
         6,
         "Money AI Empire",
         121
        ],
        [
         6,
         "Money AI Empire",
         121
        ],
        [
         6,
         "Money AI Empire",
         121
        ],
        [
         6,
         "Money AI Empire",
         121
        ],
        [
         6,
         "Money AI Empire",
         121
        ],
        [
         6,
         "Money AI Empire",
         121
        ],
        [
         6,
         "Money AI Empire",
         121
        ],
        [
         6,
         "Money AI Empire",
         121
        ],
        [
         6,
         "Money AI Empire",
         121
        ],
        [
         6,
         "Money AI Empire",
         121
        ],
        [
         6,
         "Money AI Empire",
         121
        ],
        [
         6,
         "Money AI Empire",
         121
        ],
        [
         6,
         "Money AI Empire",
         121
        ],
        [
         6,
         "Money AI Empire",
         121
        ],
        [
         6,
         "Money AI Empire",
         121
        ],
        [
         6,
         "Money AI Empire",
         121
        ],
        [
         6,
         "Money AI Empire",
         121
        ],
        [
         6,
         "Money AI Empire",
         121
        ],
        [
         6,
         "Money AI Empire",
         121
        ],
        [
         6,
         "Money AI Empire",
         121
        ],
        [
         6,
         "Money AI Empire",
         121
        ],
        [
         6,
         "Money AI Empire",
         121
        ],
        [
         6,
         "Money AI Empire",
         121
        ],
        [
         6,
         "Money AI Empire",
         121
        ],
        [
         6,
         "Money AI Empire",
         121
        ],
        [
         6,
         "Money AI Empire",
         121
        ],
        [
         6,
         "Money AI Empire",
         121
        ],
        [
         6,
         "Money AI Empire",
         121
        ],
        [
         6,
         "Money AI Empire",
         121
        ],
        [
         6,
         "Money AI Empire",
         121
        ],
        [
         6,
         "Money AI Empire",
         121
        ],
        [
         6,
         "Money AI Empire",
         121
        ],
        [
         6,
         "Money AI Empire",
         121
        ],
        [
         6,
         "Money AI Empire",
         121
        ],
        [
         6,
         "Money AI Empire",
         121
        ],
        [
         6,
         "Money AI Empire",
         121
        ],
        [
         6,
         "Money AI Empire",
         121
        ],
        [
         6,
         "Money AI Empire",
         121
        ],
        [
         6,
         "Money AI Empire",
         121
        ],
        [
         6,
         "Money AI Empire",
         121
        ],
        [
         6,
         "Money AI Empire",
         121
        ],
        [
         6,
         "Money AI Empire",
         121
        ],
        [
         6,
         "Money AI Empire",
         121
        ],
        [
         6,
         "Money AI Empire",
         121
        ],
        [
         6,
         "Money AI Empire",
         121
        ],
        [
         6,
         "Money AI Empire",
         121
        ],
        [
         6,
         "Money AI Empire",
         121
        ],
        [
         6,
         "Money AI Empire",
         121
        ],
        [
         6,
         "Money AI Empire",
         121
        ],
        [
         6,
         "Money AI Empire",
         121
        ],
        [
         6,
         "Money AI Empire",
         121
        ],
        [
         6,
         "Money AI Empire",
         121
        ],
        [
         6,
         "Money AI Empire",
         121
        ],
        [
         6,
         "Money AI Empire",
         121
        ],
        [
         6,
         "Money AI Empire",
         121
        ],
        [
         6,
         "Money AI Empire",
         121
        ],
        [
         6,
         "Money AI Empire",
         121
        ],
        [
         6,
         "Money AI Empire",
         121
        ],
        [
         6,
         "Money AI Empire",
         121
        ],
        [
         6,
         "Money AI Empire",
         121
        ],
        [
         6,
         "Money AI Empire",
         121
        ],
        [
         6,
         "Money AI Empire",
         121
        ],
        [
         6,
         "Money AI Empire",
         121
        ],
        [
         6,
         "Money AI Empire",
         121
        ],
        [
         6,
         "Money AI Empire",
         121
        ],
        [
         6,
         "Money AI Empire",
         121
        ],
        [
         6,
         "Money AI Empire",
         121
        ],
        [
         6,
         "Money AI Empire",
         121
        ],
        [
         6,
         "Money AI Empire",
         121
        ],
        [
         6,
         "Money AI Empire",
         121
        ],
        [
         6,
         "Money AI Empire",
         121
        ],
        [
         6,
         "Money AI Empire",
         121
        ],
        [
         6,
         "Money AI Empire",
         121
        ],
        [
         6,
         "Money AI Empire",
         121
        ],
        [
         6,
         "Money AI Empire",
         121
        ],
        [
         6,
         "Money AI Empire",
         121
        ],
        [
         6,
         "Money AI Empire",
         121
        ],
        [
         6,
         "Money AI Empire",
         121
        ],
        [
         6,
         "Money AI Empire",
         121
        ],
        [
         6,
         "Money AI Empire",
         121
        ],
        [
         6,
         "Money AI Empire",
         121
        ],
        [
         6,
         "Money AI Empire",
         121
        ],
        [
         6,
         "Money AI Empire",
         121
        ],
        [
         6,
         "Money AI Empire",
         121
        ],
        [
         6,
         "Money AI Empire",
         121
        ],
        [
         6,
         "Money AI Empire",
         121
        ],
        [
         6,
         "Money AI Empire",
         121
        ],
        [
         6,
         "Money AI Empire",
         121
        ],
        [
         6,
         "Money AI Empire",
         121
        ],
        [
         6,
         "Money AI Empire",
         121
        ],
        [
         6,
         "Money AI Empire",
         121
        ],
        [
         6,
         "Money AI Empire",
         121
        ],
        [
         6,
         "Money AI Empire",
         121
        ],
        [
         6,
         "Money AI Empire",
         121
        ],
        [
         6,
         "Money AI Empire",
         121
        ],
        [
         6,
         "Money AI Empire",
         121
        ],
        [
         6,
         "Money AI Empire",
         121
        ],
        [
         6,
         "Money AI Empire",
         121
        ],
        [
         6,
         "Money AI Empire",
         121
        ],
        [
         6,
         "Money AI Empire",
         121
        ],
        [
         6,
         "Money AI Empire",
         121
        ],
        [
         6,
         "Money AI Empire",
         121
        ],
        [
         6,
         "Money AI Empire",
         121
        ],
        [
         6,
         "Money AI Empire",
         121
        ],
        [
         6,
         "Money AI Empire",
         121
        ],
        [
         6,
         "Money AI Empire",
         121
        ],
        [
         6,
         "Money AI Empire",
         121
        ],
        [
         6,
         "Money AI Empire",
         121
        ],
        [
         6,
         "Money AI Empire",
         121
        ],
        [
         6,
         "Money AI Empire",
         121
        ],
        [
         6,
         "Money AI Empire",
         121
        ],
        [
         6,
         "Money AI Empire",
         121
        ],
        [
         6,
         "Money AI Empire",
         121
        ],
        [
         6,
         "Empire 10",
         11
        ],
        [
         6,
         "Empire 10",
         11
        ],
        [
         6,
         "Empire 10",
         11
        ],
        [
         6,
         "Empire 12",
         15
        ],
        [
         6,
         "Empire 12",
         15
        ],
        [
         6,
         "Empire 15",
         12
        ],
        [
         6,
         "Empire 13",
         4
        ],
        [
         6,
         "Empire 5",
         7
        ],
        [
         6,
         "Empire 7",
         5
        ],
        [
         6,
         "Empire 9",
         3
        ],
        [
         6,
         "Empire 5",
         7
        ],
        [
         6,
         "Empire 7",
         5
        ],
        [
         6,
         "Empire 9",
         3
        ],
        [
         6,
         "Empire 5",
         7
        ],
        [
         6,
         "Empire 3",
         4
        ],
        [
         6,
         "Empire 8",
         6
        ],
        [
         6,
         "Empire 14",
         2
        ],
        [
         6,
         "Empire 2",
         7
        ],
        [
         6,
         "Empire 6",
         9
        ],
        [
         5,
         "Empire 15",
         11
        ],
        [
         5,
         "Empire 15",
         11
        ],
        [
         5,
         "Empire 12",
         13
        ],
        [
         5,
         "Empire 12",
         13
        ],
        [
         5,
         "Empire 12",
         13
        ],
        [
         5,
         "Empire 10",
         8
        ],
        [
         5,
         "Empire 10",
         8
        ],
        [
         5,
         "Empire 11",
         7
        ],
        [
         5,
         "Empire 13",
         3
        ],
        [
         5,
         "Empire 11",
         7
        ],
        [
         5,
         "Empire 10",
         8
        ],
        [
         5,
         "Empire 10",
         8
        ],
        [
         5,
         "Empire 10",
         8
        ],
        [
         5,
         "Empire 3",
         3
        ],
        [
         5,
         "Empire 8",
         5
        ],
        [
         5,
         "Empire 16",
         2
        ],
        [
         5,
         "Empire 6",
         8
        ],
        [
         5,
         "Empire 2",
         6
        ],
        [
         5,
         "Empire 1",
         7
        ],
        [
         5,
         "Empire 1",
         7
        ],
        [
         5,
         "Empire 1",
         7
        ],
        [
         5,
         "Empire 4",
         5
        ],
        [
         5,
         "Empire 6",
         8
        ],
        [
         4,
         "Empire 22",
         40
        ],
        [
         4,
         "Money AI Empire",
         2
        ],
        [
         4,
         "Empire 12",
         10
        ],
        [
         4,
         "Empire 12",
         10
        ],
        [
         4,
         "Empire 12",
         10
        ],
        [
         4,
         "Empire 15",
         9
        ],
        [
         4,
         "Empire 11",
         5
        ],
        [
         4,
         "Empire 15",
         9
        ],
        [
         4,
         "Empire 10",
         3
        ],
        [
         4,
         "Empire 15",
         9
        ],
        [
         4,
         "Empire 20",
         5
        ],
        [
         4,
         "Empire 2",
         5
        ],
        [
         4,
         "Empire 2",
         5
        ],
        [
         4,
         "Empire 6",
         6
        ],
        [
         4,
         "Empire 6",
         6
        ],
        [
         4,
         "Empire 6",
         6
        ],
        [
         4,
         "Empire 1",
         4
        ],
        [
         3,
         "Empire 22",
         39
        ],
        [
         3,
         "Empire 22",
         39
        ],
        [
         3,
         "Empire 23",
         19
        ],
        [
         3,
         "Empire 23",
         19
        ],
        [
         3,
         "Empire 15",
         6
        ],
        [
         3,
         "Empire 11",
         4
        ],
        [
         3,
         "Empire 15",
         6
        ],
        [
         3,
         "Empire 11",
         4
        ],
        [
         3,
         "Empire 12",
         7
        ],
        [
         3,
         "Empire 12",
         7
        ],
        [
         3,
         "Empire 2",
         3
        ],
        [
         3,
         "Empire 5",
         4
        ],
        [
         3,
         "Empire 7",
         3
        ],
        [
         3,
         "Empire 3",
         2
        ],
        [
         3,
         "Empire 2",
         3
        ],
        [
         3,
         "Empire 8",
         4
        ],
        [
         3,
         "Empire 4",
         4
        ],
        [
         3,
         "Empire 1",
         3
        ],
        [
         3,
         "Empire 6",
         3
        ],
        [
         2,
         "Empire 22",
         37
        ],
        [
         2,
         "Empire 22",
         37
        ],
        [
         2,
         "Empire 21",
         53
        ],
        [
         2,
         "Empire 21",
         53
        ],
        [
         2,
         "Empire 15",
         4
        ],
        [
         2,
         "Empire 11",
         2
        ],
        [
         2,
         "Empire 15",
         4
        ],
        [
         2,
         "Empire 10",
         2
        ],
        [
         2,
         "Empire 20",
         4
        ],
        [
         2,
         "Empire 12",
         5
        ],
        [
         2,
         "Empire 12",
         5
        ],
        [
         2,
         "Empire 20",
         4
        ],
        [
         2,
         "Empire 7",
         2
        ],
        [
         2,
         "Empire 8",
         3
        ],
        [
         2,
         "Empire 4",
         3
        ],
        [
         15,
         "Money AI Empire",
         359
        ],
        [
         15,
         "Money AI Empire",
         359
        ],
        [
         15,
         "Money AI Empire",
         359
        ],
        [
         15,
         "Money AI Empire",
         359
        ],
        [
         15,
         "Money AI Empire",
         359
        ],
        [
         15,
         "Money AI Empire",
         359
        ],
        [
         15,
         "Money AI Empire",
         359
        ],
        [
         15,
         "Money AI Empire",
         359
        ],
        [
         15,
         "Money AI Empire",
         359
        ],
        [
         15,
         "Money AI Empire",
         359
        ],
        [
         15,
         "Money AI Empire",
         359
        ],
        [
         15,
         "Money AI Empire",
         359
        ],
        [
         15,
         "Money AI Empire",
         359
        ],
        [
         15,
         "Money AI Empire",
         359
        ],
        [
         15,
         "Money AI Empire",
         359
        ],
        [
         15,
         "Money AI Empire",
         359
        ],
        [
         15,
         "Money AI Empire",
         359
        ],
        [
         15,
         "Money AI Empire",
         359
        ],
        [
         15,
         "Money AI Empire",
         359
        ],
        [
         15,
         "Money AI Empire",
         359
        ],
        [
         15,
         "Money AI Empire",
         359
        ],
        [
         15,
         "Money AI Empire",
         359
        ],
        [
         15,
         "Money AI Empire",
         359
        ],
        [
         15,
         "Money AI Empire",
         359
        ],
        [
         15,
         "Money AI Empire",
         359
        ],
        [
         15,
         "Money AI Empire",
         359
        ],
        [
         15,
         "Money AI Empire",
         359
        ],
        [
         15,
         "Money AI Empire",
         359
        ],
        [
         15,
         "Money AI Empire",
         359
        ],
        [
         15,
         "Money AI Empire",
         359
        ],
        [
         15,
         "Money AI Empire",
         359
        ],
        [
         15,
         "Money AI Empire",
         359
        ],
        [
         15,
         "Money AI Empire",
         359
        ],
        [
         15,
         "Money AI Empire",
         359
        ],
        [
         15,
         "Money AI Empire",
         359
        ],
        [
         15,
         "Money AI Empire",
         359
        ],
        [
         15,
         "Money AI Empire",
         359
        ],
        [
         15,
         "Money AI Empire",
         359
        ],
        [
         15,
         "Money AI Empire",
         359
        ],
        [
         15,
         "Money AI Empire",
         359
        ],
        [
         15,
         "Money AI Empire",
         359
        ],
        [
         15,
         "Money AI Empire",
         359
        ],
        [
         15,
         "Money AI Empire",
         359
        ],
        [
         15,
         "Money AI Empire",
         359
        ],
        [
         15,
         "Money AI Empire",
         359
        ],
        [
         15,
         "Money AI Empire",
         359
        ],
        [
         15,
         "Money AI Empire",
         359
        ],
        [
         15,
         "Money AI Empire",
         359
        ],
        [
         15,
         "Money AI Empire",
         359
        ],
        [
         15,
         "Money AI Empire",
         359
        ],
        [
         15,
         "Money AI Empire",
         359
        ],
        [
         15,
         "Money AI Empire",
         359
        ],
        [
         15,
         "Money AI Empire",
         359
        ],
        [
         15,
         "Money AI Empire",
         359
        ],
        [
         15,
         "Money AI Empire",
         359
        ],
        [
         15,
         "Money AI Empire",
         359
        ],
        [
         15,
         "Money AI Empire",
         359
        ],
        [
         15,
         "Money AI Empire",
         359
        ],
        [
         15,
         "Money AI Empire",
         359
        ],
        [
         15,
         "Money AI Empire",
         359
        ],
        [
         15,
         "Money AI Empire",
         359
        ],
        [
         15,
         "Money AI Empire",
         359
        ],
        [
         15,
         "Money AI Empire",
         359
        ],
        [
         15,
         "Money AI Empire",
         359
        ],
        [
         15,
         "Money AI Empire",
         359
        ],
        [
         15,
         "Money AI Empire",
         359
        ],
        [
         15,
         "Money AI Empire",
         359
        ],
        [
         15,
         "Money AI Empire",
         359
        ],
        [
         15,
         "Money AI Empire",
         359
        ],
        [
         15,
         "Money AI Empire",
         359
        ],
        [
         15,
         "Money AI Empire",
         359
        ],
        [
         15,
         "Money AI Empire",
         359
        ],
        [
         15,
         "Money AI Empire",
         359
        ],
        [
         12,
         "Empire 6",
         38
        ],
        [
         12,
         "Empire 6",
         38
        ],
        [
         12,
         "Empire 11",
         26
        ],
        [
         12,
         "Empire 11",
         26
        ],
        [
         12,
         "Empire 5",
         23
        ],
        [
         12,
         "Empire 5",
         23
        ],
        [
         12,
         "Empire 11",
         26
        ],
        [
         12,
         "Empire 15",
         30
        ],
        [
         12,
         "Empire 15",
         30
        ],
        [
         12,
         "Empire 15",
         30
        ],
        [
         12,
         "Empire 15",
         30
        ],
        [
         12,
         "Empire 16",
         13
        ],
        [
         12,
         "Empire 15",
         30
        ],
        [
         12,
         "Empire 6",
         38
        ],
        [
         12,
         "Empire 5",
         23
        ],
        [
         12,
         "Empire 5",
         23
        ],
        [
         12,
         "Empire 5",
         23
        ],
        [
         12,
         "Empire 16",
         13
        ],
        [
         12,
         "Empire 16",
         13
        ],
        [
         12,
         "Empire 6",
         38
        ],
        [
         12,
         "Empire 14",
         14
        ],
        [
         12,
         "Empire 14",
         14
        ],
        [
         12,
         "Empire 14",
         14
        ],
        [
         12,
         "Empire 14",
         14
        ],
        [
         11,
         "Empire 11",
         23
        ],
        [
         11,
         "Empire 11",
         23
        ],
        [
         11,
         "Empire 15",
         25
        ],
        [
         11,
         "Empire 15",
         25
        ],
        [
         11,
         "Empire 15",
         25
        ],
        [
         11,
         "Empire 15",
         25
        ],
        [
         11,
         "Empire 5",
         18
        ],
        [
         11,
         "Empire 5",
         18
        ],
        [
         11,
         "Empire 6",
         34
        ],
        [
         11,
         "Empire 6",
         34
        ],
        [
         11,
         "Empire 6",
         34
        ],
        [
         11,
         "Empire 6",
         34
        ],
        [
         11,
         "Empire 15",
         25
        ],
        [
         11,
         "Empire 15",
         25
        ],
        [
         11,
         "Empire 12",
         18
        ],
        [
         11,
         "Empire 11",
         23
        ],
        [
         11,
         "Empire 11",
         23
        ],
        [
         11,
         "Empire 5",
         18
        ],
        [
         11,
         "Empire 5",
         18
        ],
        [
         11,
         "Empire 16",
         10
        ],
        [
         11,
         "Empire 16",
         10
        ],
        [
         11,
         "Empire 6",
         34
        ],
        [
         11,
         "Empire 14",
         10
        ],
        [
         11,
         "Empire 14",
         10
        ],
        [
         11,
         "Empire 14",
         10
        ],
        [
         10,
         "Empire 6",
         29
        ],
        [
         10,
         "Empire 6",
         29
        ],
        [
         10,
         "Empire 6",
         29
        ],
        [
         10,
         "Empire 10",
         16
        ],
        [
         10,
         "Empire 11",
         19
        ],
        [
         10,
         "Empire 10",
         16
        ],
        [
         10,
         "Empire 11",
         19
        ],
        [
         10,
         "Empire 15",
         19
        ],
        [
         10,
         "Empire 11",
         19
        ],
        [
         10,
         "Empire 11",
         19
        ],
        [
         10,
         "Empire 15",
         19
        ],
        [
         10,
         "Empire 12",
         17
        ],
        [
         10,
         "Empire 11",
         19
        ],
        [
         10,
         "Empire 15",
         19
        ],
        [
         10,
         "Empire 7",
         10
        ],
        [
         10,
         "Empire 5",
         14
        ],
        [
         10,
         "Empire 5",
         14
        ],
        [
         10,
         "Empire 6",
         29
        ],
        [
         10,
         "Empire 6",
         29
        ],
        [
         10,
         "Empire 6",
         29
        ],
        [
         10,
         "Empire 6",
         29
        ],
        [
         10,
         "Empire 1",
         8
        ],
        [
         10,
         "Empire 16",
         8
        ],
        [
         10,
         "Empire 14",
         7
        ],
        [
         1,
         "Empire 22",
         35
        ],
        [
         1,
         "Empire 22",
         35
        ],
        [
         1,
         "Empire 22",
         35
        ],
        [
         1,
         "Empire 22",
         35
        ],
        [
         1,
         "Empire 22",
         35
        ],
        [
         1,
         "Empire 22",
         35
        ],
        [
         1,
         "Empire 22",
         35
        ],
        [
         1,
         "Empire 22",
         35
        ],
        [
         1,
         "Empire 22",
         35
        ],
        [
         1,
         "Empire 22",
         35
        ],
        [
         1,
         "Empire 22",
         35
        ],
        [
         1,
         "Empire 22",
         35
        ],
        [
         1,
         "Empire 22",
         35
        ],
        [
         1,
         "Empire 22",
         35
        ],
        [
         1,
         "Empire 22",
         35
        ],
        [
         1,
         "Empire 22",
         35
        ],
        [
         1,
         "Empire 22",
         35
        ],
        [
         1,
         "Empire 22",
         35
        ],
        [
         1,
         "Empire 22",
         35
        ],
        [
         1,
         "Empire 22",
         35
        ],
        [
         1,
         "Empire 22",
         35
        ],
        [
         1,
         "Empire 22",
         35
        ],
        [
         1,
         "Empire 22",
         35
        ],
        [
         1,
         "Empire 22",
         35
        ],
        [
         1,
         "Empire 22",
         35
        ],
        [
         1,
         "Empire 22",
         35
        ],
        [
         1,
         "Empire 22",
         35
        ],
        [
         1,
         "Empire 22",
         35
        ],
        [
         1,
         "Empire 22",
         35
        ],
        [
         1,
         "Empire 22",
         35
        ],
        [
         1,
         "Empire 22",
         35
        ],
        [
         1,
         "Empire 22",
         35
        ],
        [
         1,
         "Empire 22",
         35
        ],
        [
         1,
         "Empire 22",
         35
        ],
        [
         1,
         "Empire 22",
         35
        ],
        [
         1,
         "Empire 21",
         51
        ],
        [
         1,
         "Empire 21",
         51
        ],
        [
         1,
         "Empire 21",
         51
        ],
        [
         1,
         "Empire 21",
         51
        ],
        [
         1,
         "Empire 21",
         51
        ],
        [
         1,
         "Empire 21",
         51
        ],
        [
         1,
         "Empire 21",
         51
        ],
        [
         1,
         "Empire 21",
         51
        ],
        [
         1,
         "Empire 21",
         51
        ],
        [
         1,
         "Empire 21",
         51
        ],
        [
         1,
         "Empire 21",
         51
        ],
        [
         1,
         "Empire 21",
         51
        ],
        [
         1,
         "Empire 21",
         51
        ],
        [
         1,
         "Empire 21",
         51
        ],
        [
         1,
         "Empire 21",
         51
        ],
        [
         1,
         "Empire 21",
         51
        ],
        [
         1,
         "Empire 21",
         51
        ],
        [
         1,
         "Empire 21",
         51
        ],
        [
         1,
         "Empire 21",
         51
        ],
        [
         1,
         "Empire 21",
         51
        ],
        [
         1,
         "Empire 21",
         51
        ],
        [
         1,
         "Empire 21",
         51
        ],
        [
         1,
         "Empire 21",
         51
        ],
        [
         1,
         "Empire 21",
         51
        ],
        [
         1,
         "Empire 21",
         51
        ],
        [
         1,
         "Empire 21",
         51
        ],
        [
         1,
         "Empire 21",
         51
        ],
        [
         1,
         "Empire 21",
         51
        ],
        [
         1,
         "Empire 21",
         51
        ],
        [
         1,
         "Empire 21",
         51
        ],
        [
         1,
         "Empire 21",
         51
        ],
        [
         1,
         "Empire 21",
         51
        ],
        [
         1,
         "Empire 21",
         51
        ],
        [
         1,
         "Empire 21",
         51
        ],
        [
         1,
         "Empire 21",
         51
        ],
        [
         1,
         "Empire 21",
         51
        ],
        [
         1,
         "Empire 21",
         51
        ],
        [
         1,
         "Empire 21",
         51
        ],
        [
         1,
         "Empire 21",
         51
        ],
        [
         1,
         "Empire 21",
         51
        ],
        [
         1,
         "Empire 21",
         51
        ],
        [
         1,
         "Empire 21",
         51
        ],
        [
         1,
         "Empire 21",
         51
        ],
        [
         1,
         "Empire 21",
         51
        ],
        [
         1,
         "Empire 21",
         51
        ],
        [
         1,
         "Empire 21",
         51
        ],
        [
         1,
         "Empire 21",
         51
        ],
        [
         1,
         "Empire 21",
         51
        ],
        [
         1,
         "Empire 21",
         51
        ],
        [
         1,
         "Empire 21",
         51
        ],
        [
         1,
         "Empire 21",
         51
        ],
        [
         1,
         "Empire 23",
         17
        ],
        [
         1,
         "Empire 23",
         17
        ],
        [
         1,
         "Empire 23",
         17
        ],
        [
         1,
         "Empire 23",
         17
        ],
        [
         1,
         "Empire 23",
         17
        ],
        [
         1,
         "Empire 23",
         17
        ],
        [
         1,
         "Empire 23",
         17
        ],
        [
         1,
         "Empire 23",
         17
        ],
        [
         1,
         "Empire 23",
         17
        ],
        [
         1,
         "Empire 23",
         17
        ],
        [
         1,
         "Empire 23",
         17
        ],
        [
         1,
         "Empire 23",
         17
        ],
        [
         1,
         "Empire 23",
         17
        ],
        [
         1,
         "Empire 23",
         17
        ],
        [
         1,
         "Empire 23",
         17
        ],
        [
         1,
         "Empire 23",
         17
        ],
        [
         1,
         "Empire 23",
         17
        ],
        [
         1,
         "Money AI Empire",
         1
        ],
        [
         1,
         "Empire 13",
         2
        ],
        [
         1,
         "Empire 15",
         2
        ],
        [
         1,
         "Empire 15",
         2
        ],
        [
         1,
         "Empire 10",
         1
        ],
        [
         1,
         "Empire 11",
         1
        ],
        [
         1,
         "Empire 13",
         2
        ],
        [
         1,
         "Empire 20",
         2
        ],
        [
         1,
         "Empire 20",
         2
        ],
        [
         1,
         "Empire 12",
         3
        ],
        [
         1,
         "Empire 12",
         3
        ],
        [
         1,
         "Empire 12",
         3
        ],
        [
         1,
         "Empire 5",
         3
        ],
        [
         1,
         "Empire 5",
         3
        ],
        [
         1,
         "Empire 7",
         1
        ],
        [
         1,
         "Empire 18",
         1
        ],
        [
         1,
         "Empire 5",
         3
        ],
        [
         1,
         "Empire 3",
         1
        ],
        [
         1,
         "Empire 9",
         1
        ],
        [
         1,
         "Empire 19",
         1
        ],
        [
         1,
         "Empire 8",
         2
        ],
        [
         1,
         "Empire 8",
         2
        ],
        [
         1,
         "Empire 16",
         1
        ],
        [
         1,
         "Empire 4",
         2
        ],
        [
         1,
         "Empire 1",
         2
        ],
        [
         1,
         "Empire 6",
         2
        ],
        [
         1,
         "Empire 1",
         2
        ],
        [
         1,
         "Empire 14",
         1
        ],
        [
         1,
         "Empire 4",
         2
        ],
        [
         1,
         "Empire 2",
         1
        ],
        [
         1,
         "Empire 6",
         2
        ]
       ],
       "datasetInfos": [],
       "dbfsResultPath": null,
       "isJsonSchema": true,
       "metadata": {},
       "overflow": false,
       "plotOptions": {
        "customPlotOptions": {},
        "displayType": "table",
        "pivotAggregation": null,
        "pivotColumns": null,
        "xColumns": null,
        "yColumns": null
       },
       "removedWidgets": [],
       "schema": [
        {
         "metadata": "{}",
         "name": "age",
         "type": "\"integer\""
        },
        {
         "metadata": "{}",
         "name": "empire_name",
         "type": "\"string\""
        },
        {
         "metadata": "{}",
         "name": "territory_size",
         "type": "\"integer\""
        }
       ],
       "type": "table"
      }
     },
     "output_type": "display_data"
    },
    {
     "output_type": "display_data",
     "data": {
      "text/html": [
       "<style scoped>\n",
       "  .table-result-container {\n",
       "    max-height: 300px;\n",
       "    overflow: auto;\n",
       "  }\n",
       "  table, th, td {\n",
       "    border: 1px solid black;\n",
       "    border-collapse: collapse;\n",
       "  }\n",
       "  th, td {\n",
       "    padding: 5px;\n",
       "  }\n",
       "  th {\n",
       "    text-align: left;\n",
       "  }\n",
       "</style><div class='table-result-container'><table class='table-result'><thead style='background-color: white'><tr><th>age</th><th>empire_name</th><th>economy</th></tr></thead><tbody><tr><td>9</td><td>Empire 11</td><td>961</td></tr><tr><td>9</td><td>Empire 11</td><td>961</td></tr><tr><td>9</td><td>Empire 6</td><td>1000</td></tr><tr><td>9</td><td>Empire 5</td><td>957</td></tr><tr><td>9</td><td>Empire 6</td><td>1000</td></tr><tr><td>9</td><td>Empire 5</td><td>957</td></tr><tr><td>9</td><td>Empire 6</td><td>1000</td></tr><tr><td>9</td><td>Empire 6</td><td>1000</td></tr><tr><td>9</td><td>Empire 7</td><td>921</td></tr><tr><td>9</td><td>Empire 7</td><td>921</td></tr><tr><td>9</td><td>Empire 16</td><td>886</td></tr><tr><td>9</td><td>Empire 16</td><td>886</td></tr><tr><td>9</td><td>Empire 14</td><td>879</td></tr><tr><td>9</td><td>Empire 14</td><td>879</td></tr><tr><td>8</td><td>Money AI Empire</td><td>1424</td></tr><tr><td>8</td><td>Money AI Empire</td><td>1424</td></tr><tr><td>8</td><td>Money AI Empire</td><td>1424</td></tr><tr><td>8</td><td>Money AI Empire</td><td>1424</td></tr><tr><td>8</td><td>Money AI Empire</td><td>1424</td></tr><tr><td>8</td><td>Money AI Empire</td><td>1424</td></tr><tr><td>8</td><td>Money AI Empire</td><td>1424</td></tr><tr><td>8</td><td>Money AI Empire</td><td>1424</td></tr><tr><td>8</td><td>Money AI Empire</td><td>1424</td></tr><tr><td>8</td><td>Money AI Empire</td><td>1424</td></tr><tr><td>8</td><td>Money AI Empire</td><td>1424</td></tr><tr><td>8</td><td>Money AI Empire</td><td>1424</td></tr><tr><td>8</td><td>Money AI Empire</td><td>1424</td></tr><tr><td>8</td><td>Money AI Empire</td><td>1424</td></tr><tr><td>8</td><td>Money AI Empire</td><td>1424</td></tr><tr><td>8</td><td>Money AI Empire</td><td>1424</td></tr><tr><td>8</td><td>Money AI Empire</td><td>1424</td></tr><tr><td>8</td><td>Money AI Empire</td><td>1424</td></tr><tr><td>8</td><td>Money AI Empire</td><td>1424</td></tr><tr><td>8</td><td>Money AI Empire</td><td>1424</td></tr><tr><td>8</td><td>Money AI Empire</td><td>1424</td></tr><tr><td>8</td><td>Money AI Empire</td><td>1424</td></tr><tr><td>8</td><td>Money AI Empire</td><td>1424</td></tr><tr><td>8</td><td>Money AI Empire</td><td>1424</td></tr><tr><td>8</td><td>Money AI Empire</td><td>1424</td></tr><tr><td>8</td><td>Money AI Empire</td><td>1424</td></tr><tr><td>8</td><td>Money AI Empire</td><td>1424</td></tr><tr><td>8</td><td>Money AI Empire</td><td>1424</td></tr><tr><td>8</td><td>Money AI Empire</td><td>1424</td></tr><tr><td>8</td><td>Money AI Empire</td><td>1424</td></tr><tr><td>8</td><td>Money AI Empire</td><td>1424</td></tr><tr><td>8</td><td>Money AI Empire</td><td>1424</td></tr><tr><td>8</td><td>Empire 6</td><td>872</td></tr><tr><td>8</td><td>Empire 6</td><td>872</td></tr><tr><td>8</td><td>Empire 11</td><td>851</td></tr><tr><td>8</td><td>Empire 15</td><td>907</td></tr><tr><td>8</td><td>Empire 11</td><td>851</td></tr><tr><td>8</td><td>Empire 5</td><td>849</td></tr><tr><td>8</td><td>Empire 6</td><td>872</td></tr><tr><td>8</td><td>Empire 6</td><td>872</td></tr><tr><td>8</td><td>Empire 6</td><td>872</td></tr><tr><td>8</td><td>Empire 7</td><td>821</td></tr><tr><td>8</td><td>Empire 16</td><td>791</td></tr><tr><td>8</td><td>Empire 16</td><td>791</td></tr><tr><td>8</td><td>Empire 14</td><td>786</td></tr><tr><td>8</td><td>Empire 14</td><td>786</td></tr><tr><td>7</td><td>Money AI Empire</td><td>927</td></tr><tr><td>7</td><td>Money AI Empire</td><td>927</td></tr><tr><td>7</td><td>Money AI Empire</td><td>927</td></tr><tr><td>7</td><td>Money AI Empire</td><td>927</td></tr><tr><td>7</td><td>Money AI Empire</td><td>927</td></tr><tr><td>7</td><td>Money AI Empire</td><td>927</td></tr><tr><td>7</td><td>Money AI Empire</td><td>927</td></tr><tr><td>7</td><td>Money AI Empire</td><td>927</td></tr><tr><td>7</td><td>Money AI Empire</td><td>927</td></tr><tr><td>7</td><td>Money AI Empire</td><td>927</td></tr><tr><td>7</td><td>Money AI Empire</td><td>927</td></tr><tr><td>7</td><td>Money AI Empire</td><td>927</td></tr><tr><td>7</td><td>Money AI Empire</td><td>927</td></tr><tr><td>7</td><td>Money AI Empire</td><td>927</td></tr><tr><td>7</td><td>Money AI Empire</td><td>927</td></tr><tr><td>7</td><td>Money AI Empire</td><td>927</td></tr><tr><td>7</td><td>Money AI Empire</td><td>927</td></tr><tr><td>7</td><td>Money AI Empire</td><td>927</td></tr><tr><td>7</td><td>Money AI Empire</td><td>927</td></tr><tr><td>7</td><td>Money AI Empire</td><td>927</td></tr><tr><td>7</td><td>Money AI Empire</td><td>927</td></tr><tr><td>7</td><td>Money AI Empire</td><td>927</td></tr><tr><td>7</td><td>Money AI Empire</td><td>927</td></tr><tr><td>7</td><td>Money AI Empire</td><td>927</td></tr><tr><td>7</td><td>Money AI Empire</td><td>927</td></tr><tr><td>7</td><td>Money AI Empire</td><td>927</td></tr><tr><td>7</td><td>Money AI Empire</td><td>927</td></tr><tr><td>7</td><td>Money AI Empire</td><td>927</td></tr><tr><td>7</td><td>Money AI Empire</td><td>927</td></tr><tr><td>7</td><td>Money AI Empire</td><td>927</td></tr><tr><td>7</td><td>Money AI Empire</td><td>927</td></tr><tr><td>7</td><td>Money AI Empire</td><td>927</td></tr><tr><td>7</td><td>Money AI Empire</td><td>927</td></tr><tr><td>7</td><td>Money AI Empire</td><td>927</td></tr><tr><td>7</td><td>Money AI Empire</td><td>927</td></tr><tr><td>7</td><td>Money AI Empire</td><td>927</td></tr><tr><td>7</td><td>Money AI Empire</td><td>927</td></tr><tr><td>7</td><td>Money AI Empire</td><td>927</td></tr><tr><td>7</td><td>Money AI Empire</td><td>927</td></tr><tr><td>7</td><td>Money AI Empire</td><td>927</td></tr><tr><td>7</td><td>Money AI Empire</td><td>927</td></tr><tr><td>7</td><td>Money AI Empire</td><td>927</td></tr><tr><td>7</td><td>Money AI Empire</td><td>927</td></tr><tr><td>7</td><td>Money AI Empire</td><td>927</td></tr><tr><td>7</td><td>Money AI Empire</td><td>927</td></tr><tr><td>7</td><td>Money AI Empire</td><td>927</td></tr><tr><td>7</td><td>Money AI Empire</td><td>927</td></tr><tr><td>7</td><td>Money AI Empire</td><td>927</td></tr><tr><td>7</td><td>Money AI Empire</td><td>927</td></tr><tr><td>7</td><td>Money AI Empire</td><td>927</td></tr><tr><td>7</td><td>Money AI Empire</td><td>927</td></tr><tr><td>7</td><td>Money AI Empire</td><td>927</td></tr><tr><td>7</td><td>Money AI Empire</td><td>927</td></tr><tr><td>7</td><td>Money AI Empire</td><td>927</td></tr><tr><td>7</td><td>Money AI Empire</td><td>927</td></tr><tr><td>7</td><td>Money AI Empire</td><td>927</td></tr><tr><td>7</td><td>Money AI Empire</td><td>927</td></tr><tr><td>7</td><td>Money AI Empire</td><td>927</td></tr><tr><td>7</td><td>Money AI Empire</td><td>927</td></tr><tr><td>7</td><td>Money AI Empire</td><td>927</td></tr><tr><td>7</td><td>Money AI Empire</td><td>927</td></tr><tr><td>7</td><td>Money AI Empire</td><td>927</td></tr><tr><td>7</td><td>Money AI Empire</td><td>927</td></tr><tr><td>7</td><td>Money AI Empire</td><td>927</td></tr><tr><td>7</td><td>Money AI Empire</td><td>927</td></tr><tr><td>7</td><td>Money AI Empire</td><td>927</td></tr><tr><td>7</td><td>Money AI Empire</td><td>927</td></tr><tr><td>7</td><td>Money AI Empire</td><td>927</td></tr><tr><td>7</td><td>Money AI Empire</td><td>927</td></tr><tr><td>7</td><td>Money AI Empire</td><td>927</td></tr><tr><td>7</td><td>Money AI Empire</td><td>927</td></tr><tr><td>7</td><td>Money AI Empire</td><td>927</td></tr><tr><td>7</td><td>Money AI Empire</td><td>927</td></tr><tr><td>7</td><td>Money AI Empire</td><td>927</td></tr><tr><td>7</td><td>Money AI Empire</td><td>927</td></tr><tr><td>7</td><td>Money AI Empire</td><td>927</td></tr><tr><td>7</td><td>Money AI Empire</td><td>927</td></tr><tr><td>7</td><td>Money AI Empire</td><td>927</td></tr><tr><td>7</td><td>Money AI Empire</td><td>927</td></tr><tr><td>7</td><td>Money AI Empire</td><td>927</td></tr><tr><td>7</td><td>Money AI Empire</td><td>927</td></tr><tr><td>7</td><td>Money AI Empire</td><td>927</td></tr><tr><td>7</td><td>Money AI Empire</td><td>927</td></tr><tr><td>7</td><td>Money AI Empire</td><td>927</td></tr><tr><td>7</td><td>Money AI Empire</td><td>927</td></tr><tr><td>7</td><td>Money AI Empire</td><td>927</td></tr><tr><td>7</td><td>Money AI Empire</td><td>927</td></tr><tr><td>7</td><td>Money AI Empire</td><td>927</td></tr><tr><td>7</td><td>Money AI Empire</td><td>927</td></tr><tr><td>7</td><td>Money AI Empire</td><td>927</td></tr><tr><td>7</td><td>Money AI Empire</td><td>927</td></tr><tr><td>7</td><td>Money AI Empire</td><td>927</td></tr><tr><td>7</td><td>Money AI Empire</td><td>927</td></tr><tr><td>7</td><td>Money AI Empire</td><td>927</td></tr><tr><td>7</td><td>Money AI Empire</td><td>927</td></tr><tr><td>7</td><td>Money AI Empire</td><td>927</td></tr><tr><td>7</td><td>Money AI Empire</td><td>927</td></tr><tr><td>7</td><td>Money AI Empire</td><td>927</td></tr><tr><td>7</td><td>Money AI Empire</td><td>927</td></tr><tr><td>7</td><td>Money AI Empire</td><td>927</td></tr><tr><td>7</td><td>Money AI Empire</td><td>927</td></tr><tr><td>7</td><td>Money AI Empire</td><td>927</td></tr><tr><td>7</td><td>Money AI Empire</td><td>927</td></tr><tr><td>7</td><td>Money AI Empire</td><td>927</td></tr><tr><td>7</td><td>Money AI Empire</td><td>927</td></tr><tr><td>7</td><td>Money AI Empire</td><td>927</td></tr><tr><td>7</td><td>Money AI Empire</td><td>927</td></tr><tr><td>7</td><td>Money AI Empire</td><td>927</td></tr><tr><td>7</td><td>Money AI Empire</td><td>927</td></tr><tr><td>7</td><td>Money AI Empire</td><td>927</td></tr><tr><td>7</td><td>Money AI Empire</td><td>927</td></tr><tr><td>7</td><td>Money AI Empire</td><td>927</td></tr><tr><td>7</td><td>Money AI Empire</td><td>927</td></tr><tr><td>7</td><td>Money AI Empire</td><td>927</td></tr><tr><td>7</td><td>Money AI Empire</td><td>927</td></tr><tr><td>7</td><td>Money AI Empire</td><td>927</td></tr><tr><td>7</td><td>Money AI Empire</td><td>927</td></tr><tr><td>7</td><td>Money AI Empire</td><td>927</td></tr><tr><td>7</td><td>Money AI Empire</td><td>927</td></tr><tr><td>7</td><td>Money AI Empire</td><td>927</td></tr><tr><td>7</td><td>Money AI Empire</td><td>927</td></tr><tr><td>7</td><td>Money AI Empire</td><td>927</td></tr><tr><td>7</td><td>Money AI Empire</td><td>927</td></tr><tr><td>7</td><td>Money AI Empire</td><td>927</td></tr><tr><td>7</td><td>Money AI Empire</td><td>927</td></tr><tr><td>7</td><td>Money AI Empire</td><td>927</td></tr><tr><td>7</td><td>Money AI Empire</td><td>927</td></tr><tr><td>7</td><td>Money AI Empire</td><td>927</td></tr><tr><td>7</td><td>Money AI Empire</td><td>927</td></tr><tr><td>7</td><td>Money AI Empire</td><td>927</td></tr><tr><td>7</td><td>Money AI Empire</td><td>927</td></tr><tr><td>7</td><td>Money AI Empire</td><td>927</td></tr><tr><td>7</td><td>Money AI Empire</td><td>927</td></tr><tr><td>7</td><td>Empire 10</td><td>749</td></tr><tr><td>7</td><td>Empire 10</td><td>749</td></tr><tr><td>7</td><td>Empire 15</td><td>792</td></tr><tr><td>7</td><td>Empire 10</td><td>749</td></tr><tr><td>7</td><td>Empire 12</td><td>813</td></tr><tr><td>7</td><td>Empire 11</td><td>746</td></tr><tr><td>7</td><td>Empire 11</td><td>746</td></tr><tr><td>7</td><td>Empire 6</td><td>757</td></tr><tr><td>7</td><td>Empire 5</td><td>744</td></tr><tr><td>7</td><td>Empire 6</td><td>757</td></tr><tr><td>7</td><td>Empire 5</td><td>744</td></tr><tr><td>7</td><td>Empire 6</td><td>757</td></tr><tr><td>7</td><td>Empire 7</td><td>723</td></tr><tr><td>7</td><td>Empire 6</td><td>757</td></tr><tr><td>7</td><td>Empire 16</td><td>701</td></tr><tr><td>7</td><td>Empire 4</td><td>739</td></tr><tr><td>6</td><td>Money AI Empire</td><td>616</td></tr><tr><td>6</td><td>Money AI Empire</td><td>616</td></tr><tr><td>6</td><td>Money AI Empire</td><td>616</td></tr><tr><td>6</td><td>Money AI Empire</td><td>616</td></tr><tr><td>6</td><td>Money AI Empire</td><td>616</td></tr><tr><td>6</td><td>Money AI Empire</td><td>616</td></tr><tr><td>6</td><td>Money AI Empire</td><td>616</td></tr><tr><td>6</td><td>Money AI Empire</td><td>616</td></tr><tr><td>6</td><td>Money AI Empire</td><td>616</td></tr><tr><td>6</td><td>Money AI Empire</td><td>616</td></tr><tr><td>6</td><td>Money AI Empire</td><td>616</td></tr><tr><td>6</td><td>Money AI Empire</td><td>616</td></tr><tr><td>6</td><td>Money AI Empire</td><td>616</td></tr><tr><td>6</td><td>Money AI Empire</td><td>616</td></tr><tr><td>6</td><td>Money AI Empire</td><td>616</td></tr><tr><td>6</td><td>Money AI Empire</td><td>616</td></tr><tr><td>6</td><td>Money AI Empire</td><td>616</td></tr><tr><td>6</td><td>Money AI Empire</td><td>616</td></tr><tr><td>6</td><td>Money AI Empire</td><td>616</td></tr><tr><td>6</td><td>Money AI Empire</td><td>616</td></tr><tr><td>6</td><td>Money AI Empire</td><td>616</td></tr><tr><td>6</td><td>Money AI Empire</td><td>616</td></tr><tr><td>6</td><td>Money AI Empire</td><td>616</td></tr><tr><td>6</td><td>Money AI Empire</td><td>616</td></tr><tr><td>6</td><td>Money AI Empire</td><td>616</td></tr><tr><td>6</td><td>Money AI Empire</td><td>616</td></tr><tr><td>6</td><td>Money AI Empire</td><td>616</td></tr><tr><td>6</td><td>Money AI Empire</td><td>616</td></tr><tr><td>6</td><td>Money AI Empire</td><td>616</td></tr><tr><td>6</td><td>Money AI Empire</td><td>616</td></tr><tr><td>6</td><td>Money AI Empire</td><td>616</td></tr><tr><td>6</td><td>Money AI Empire</td><td>616</td></tr><tr><td>6</td><td>Money AI Empire</td><td>616</td></tr><tr><td>6</td><td>Money AI Empire</td><td>616</td></tr><tr><td>6</td><td>Money AI Empire</td><td>616</td></tr><tr><td>6</td><td>Money AI Empire</td><td>616</td></tr><tr><td>6</td><td>Money AI Empire</td><td>616</td></tr><tr><td>6</td><td>Money AI Empire</td><td>616</td></tr><tr><td>6</td><td>Money AI Empire</td><td>616</td></tr><tr><td>6</td><td>Money AI Empire</td><td>616</td></tr><tr><td>6</td><td>Money AI Empire</td><td>616</td></tr><tr><td>6</td><td>Money AI Empire</td><td>616</td></tr><tr><td>6</td><td>Money AI Empire</td><td>616</td></tr><tr><td>6</td><td>Money AI Empire</td><td>616</td></tr><tr><td>6</td><td>Money AI Empire</td><td>616</td></tr><tr><td>6</td><td>Money AI Empire</td><td>616</td></tr><tr><td>6</td><td>Money AI Empire</td><td>616</td></tr><tr><td>6</td><td>Money AI Empire</td><td>616</td></tr><tr><td>6</td><td>Money AI Empire</td><td>616</td></tr><tr><td>6</td><td>Money AI Empire</td><td>616</td></tr><tr><td>6</td><td>Money AI Empire</td><td>616</td></tr><tr><td>6</td><td>Money AI Empire</td><td>616</td></tr><tr><td>6</td><td>Money AI Empire</td><td>616</td></tr><tr><td>6</td><td>Money AI Empire</td><td>616</td></tr><tr><td>6</td><td>Money AI Empire</td><td>616</td></tr><tr><td>6</td><td>Money AI Empire</td><td>616</td></tr><tr><td>6</td><td>Money AI Empire</td><td>616</td></tr><tr><td>6</td><td>Money AI Empire</td><td>616</td></tr><tr><td>6</td><td>Money AI Empire</td><td>616</td></tr><tr><td>6</td><td>Money AI Empire</td><td>616</td></tr><tr><td>6</td><td>Money AI Empire</td><td>616</td></tr><tr><td>6</td><td>Money AI Empire</td><td>616</td></tr><tr><td>6</td><td>Money AI Empire</td><td>616</td></tr><tr><td>6</td><td>Money AI Empire</td><td>616</td></tr><tr><td>6</td><td>Money AI Empire</td><td>616</td></tr><tr><td>6</td><td>Money AI Empire</td><td>616</td></tr><tr><td>6</td><td>Money AI Empire</td><td>616</td></tr><tr><td>6</td><td>Money AI Empire</td><td>616</td></tr><tr><td>6</td><td>Money AI Empire</td><td>616</td></tr><tr><td>6</td><td>Money AI Empire</td><td>616</td></tr><tr><td>6</td><td>Money AI Empire</td><td>616</td></tr><tr><td>6</td><td>Money AI Empire</td><td>616</td></tr><tr><td>6</td><td>Money AI Empire</td><td>616</td></tr><tr><td>6</td><td>Money AI Empire</td><td>616</td></tr><tr><td>6</td><td>Money AI Empire</td><td>616</td></tr><tr><td>6</td><td>Money AI Empire</td><td>616</td></tr><tr><td>6</td><td>Money AI Empire</td><td>616</td></tr><tr><td>6</td><td>Money AI Empire</td><td>616</td></tr><tr><td>6</td><td>Money AI Empire</td><td>616</td></tr><tr><td>6</td><td>Money AI Empire</td><td>616</td></tr><tr><td>6</td><td>Money AI Empire</td><td>616</td></tr><tr><td>6</td><td>Money AI Empire</td><td>616</td></tr><tr><td>6</td><td>Money AI Empire</td><td>616</td></tr><tr><td>6</td><td>Money AI Empire</td><td>616</td></tr><tr><td>6</td><td>Money AI Empire</td><td>616</td></tr><tr><td>6</td><td>Money AI Empire</td><td>616</td></tr><tr><td>6</td><td>Money AI Empire</td><td>616</td></tr><tr><td>6</td><td>Money AI Empire</td><td>616</td></tr><tr><td>6</td><td>Money AI Empire</td><td>616</td></tr><tr><td>6</td><td>Money AI Empire</td><td>616</td></tr><tr><td>6</td><td>Money AI Empire</td><td>616</td></tr><tr><td>6</td><td>Money AI Empire</td><td>616</td></tr><tr><td>6</td><td>Money AI Empire</td><td>616</td></tr><tr><td>6</td><td>Money AI Empire</td><td>616</td></tr><tr><td>6</td><td>Money AI Empire</td><td>616</td></tr><tr><td>6</td><td>Money AI Empire</td><td>616</td></tr><tr><td>6</td><td>Money AI Empire</td><td>616</td></tr><tr><td>6</td><td>Money AI Empire</td><td>616</td></tr><tr><td>6</td><td>Money AI Empire</td><td>616</td></tr><tr><td>6</td><td>Money AI Empire</td><td>616</td></tr><tr><td>6</td><td>Money AI Empire</td><td>616</td></tr><tr><td>6</td><td>Money AI Empire</td><td>616</td></tr><tr><td>6</td><td>Money AI Empire</td><td>616</td></tr><tr><td>6</td><td>Money AI Empire</td><td>616</td></tr><tr><td>6</td><td>Money AI Empire</td><td>616</td></tr><tr><td>6</td><td>Money AI Empire</td><td>616</td></tr><tr><td>6</td><td>Money AI Empire</td><td>616</td></tr><tr><td>6</td><td>Money AI Empire</td><td>616</td></tr><tr><td>6</td><td>Money AI Empire</td><td>616</td></tr><tr><td>6</td><td>Money AI Empire</td><td>616</td></tr><tr><td>6</td><td>Money AI Empire</td><td>616</td></tr><tr><td>6</td><td>Money AI Empire</td><td>616</td></tr><tr><td>6</td><td>Money AI Empire</td><td>616</td></tr><tr><td>6</td><td>Money AI Empire</td><td>616</td></tr><tr><td>6</td><td>Money AI Empire</td><td>616</td></tr><tr><td>6</td><td>Money AI Empire</td><td>616</td></tr><tr><td>6</td><td>Money AI Empire</td><td>616</td></tr><tr><td>6</td><td>Money AI Empire</td><td>616</td></tr><tr><td>6</td><td>Money AI Empire</td><td>616</td></tr><tr><td>6</td><td>Empire 10</td><td>639</td></tr><tr><td>6</td><td>Empire 10</td><td>639</td></tr><tr><td>6</td><td>Empire 10</td><td>639</td></tr><tr><td>6</td><td>Empire 12</td><td>693</td></tr><tr><td>6</td><td>Empire 12</td><td>693</td></tr><tr><td>6</td><td>Empire 15</td><td>679</td></tr><tr><td>6</td><td>Empire 13</td><td>627</td></tr><tr><td>6</td><td>Empire 5</td><td>644</td></tr><tr><td>6</td><td>Empire 7</td><td>628</td></tr><tr><td>6</td><td>Empire 9</td><td>610</td></tr><tr><td>6</td><td>Empire 5</td><td>644</td></tr><tr><td>6</td><td>Empire 7</td><td>628</td></tr><tr><td>6</td><td>Empire 9</td><td>610</td></tr><tr><td>6</td><td>Empire 5</td><td>644</td></tr><tr><td>6</td><td>Empire 3</td><td>621</td></tr><tr><td>6</td><td>Empire 8</td><td>644</td></tr><tr><td>6</td><td>Empire 14</td><td>610</td></tr><tr><td>6</td><td>Empire 2</td><td>638</td></tr><tr><td>6</td><td>Empire 6</td><td>652</td></tr><tr><td>5</td><td>Empire 15</td><td>569</td></tr><tr><td>5</td><td>Empire 15</td><td>569</td></tr><tr><td>5</td><td>Empire 12</td><td>578</td></tr><tr><td>5</td><td>Empire 12</td><td>578</td></tr><tr><td>5</td><td>Empire 12</td><td>578</td></tr><tr><td>5</td><td>Empire 10</td><td>536</td></tr><tr><td>5</td><td>Empire 10</td><td>536</td></tr><tr><td>5</td><td>Empire 11</td><td>546</td></tr><tr><td>5</td><td>Empire 13</td><td>537</td></tr><tr><td>5</td><td>Empire 11</td><td>546</td></tr><tr><td>5</td><td>Empire 10</td><td>536</td></tr><tr><td>5</td><td>Empire 10</td><td>536</td></tr><tr><td>5</td><td>Empire 10</td><td>536</td></tr><tr><td>5</td><td>Empire 3</td><td>531</td></tr><tr><td>5</td><td>Empire 8</td><td>549</td></tr><tr><td>5</td><td>Empire 16</td><td>525</td></tr><tr><td>5</td><td>Empire 6</td><td>549</td></tr><tr><td>5</td><td>Empire 2</td><td>540</td></tr><tr><td>5</td><td>Empire 1</td><td>544</td></tr><tr><td>5</td><td>Empire 1</td><td>544</td></tr><tr><td>5</td><td>Empire 1</td><td>544</td></tr><tr><td>5</td><td>Empire 4</td><td>549</td></tr><tr><td>5</td><td>Empire 6</td><td>549</td></tr><tr><td>4</td><td>Empire 22</td><td>766</td></tr><tr><td>4</td><td>Money AI Empire</td><td>440</td></tr><tr><td>4</td><td>Empire 12</td><td>470</td></tr><tr><td>4</td><td>Empire 12</td><td>470</td></tr><tr><td>4</td><td>Empire 12</td><td>470</td></tr><tr><td>4</td><td>Empire 15</td><td>464</td></tr><tr><td>4</td><td>Empire 11</td><td>451</td></tr><tr><td>4</td><td>Empire 15</td><td>464</td></tr><tr><td>4</td><td>Empire 10</td><td>446</td></tr><tr><td>4</td><td>Empire 15</td><td>464</td></tr><tr><td>4</td><td>Empire 20</td><td>459</td></tr><tr><td>4</td><td>Empire 2</td><td>445</td></tr><tr><td>4</td><td>Empire 2</td><td>445</td></tr><tr><td>4</td><td>Empire 6</td><td>451</td></tr><tr><td>4</td><td>Empire 6</td><td>451</td></tr><tr><td>4</td><td>Empire 6</td><td>451</td></tr><tr><td>4</td><td>Empire 1</td><td>451</td></tr><tr><td>3</td><td>Empire 22</td><td>594</td></tr><tr><td>3</td><td>Empire 22</td><td>594</td></tr><tr><td>3</td><td>Empire 23</td><td>473</td></tr><tr><td>3</td><td>Empire 23</td><td>473</td></tr><tr><td>3</td><td>Empire 15</td><td>366</td></tr><tr><td>3</td><td>Empire 11</td><td>358</td></tr><tr><td>3</td><td>Empire 15</td><td>366</td></tr><tr><td>3</td><td>Empire 11</td><td>358</td></tr><tr><td>3</td><td>Empire 12</td><td>370</td></tr><tr><td>3</td><td>Empire 12</td><td>370</td></tr><tr><td>3</td><td>Empire 2</td><td>355</td></tr><tr><td>3</td><td>Empire 5</td><td>365</td></tr><tr><td>3</td><td>Empire 7</td><td>358</td></tr><tr><td>3</td><td>Empire 3</td><td>355</td></tr><tr><td>3</td><td>Empire 2</td><td>355</td></tr><tr><td>3</td><td>Empire 8</td><td>363</td></tr><tr><td>3</td><td>Empire 4</td><td>363</td></tr><tr><td>3</td><td>Empire 1</td><td>361</td></tr><tr><td>3</td><td>Empire 6</td><td>361</td></tr><tr><td>2</td><td>Empire 22</td><td>426</td></tr><tr><td>2</td><td>Empire 22</td><td>426</td></tr><tr><td>2</td><td>Empire 21</td><td>485</td></tr><tr><td>2</td><td>Empire 21</td><td>485</td></tr><tr><td>2</td><td>Empire 15</td><td>273</td></tr><tr><td>2</td><td>Empire 11</td><td>270</td></tr><tr><td>2</td><td>Empire 15</td><td>273</td></tr><tr><td>2</td><td>Empire 10</td><td>270</td></tr><tr><td>2</td><td>Empire 20</td><td>273</td></tr><tr><td>2</td><td>Empire 12</td><td>275</td></tr><tr><td>2</td><td>Empire 12</td><td>275</td></tr><tr><td>2</td><td>Empire 20</td><td>273</td></tr><tr><td>2</td><td>Empire 7</td><td>270</td></tr><tr><td>2</td><td>Empire 8</td><td>273</td></tr><tr><td>2</td><td>Empire 4</td><td>273</td></tr><tr><td>15</td><td>Money AI Empire</td><td>0</td></tr><tr><td>15</td><td>Money AI Empire</td><td>0</td></tr><tr><td>15</td><td>Money AI Empire</td><td>0</td></tr><tr><td>15</td><td>Money AI Empire</td><td>0</td></tr><tr><td>15</td><td>Money AI Empire</td><td>0</td></tr><tr><td>15</td><td>Money AI Empire</td><td>0</td></tr><tr><td>15</td><td>Money AI Empire</td><td>0</td></tr><tr><td>15</td><td>Money AI Empire</td><td>0</td></tr><tr><td>15</td><td>Money AI Empire</td><td>0</td></tr><tr><td>15</td><td>Money AI Empire</td><td>0</td></tr><tr><td>15</td><td>Money AI Empire</td><td>0</td></tr><tr><td>15</td><td>Money AI Empire</td><td>0</td></tr><tr><td>15</td><td>Money AI Empire</td><td>0</td></tr><tr><td>15</td><td>Money AI Empire</td><td>0</td></tr><tr><td>15</td><td>Money AI Empire</td><td>0</td></tr><tr><td>15</td><td>Money AI Empire</td><td>0</td></tr><tr><td>15</td><td>Money AI Empire</td><td>0</td></tr><tr><td>15</td><td>Money AI Empire</td><td>0</td></tr><tr><td>15</td><td>Money AI Empire</td><td>0</td></tr><tr><td>15</td><td>Money AI Empire</td><td>0</td></tr><tr><td>15</td><td>Money AI Empire</td><td>0</td></tr><tr><td>15</td><td>Money AI Empire</td><td>0</td></tr><tr><td>15</td><td>Money AI Empire</td><td>0</td></tr><tr><td>15</td><td>Money AI Empire</td><td>0</td></tr><tr><td>15</td><td>Money AI Empire</td><td>0</td></tr><tr><td>15</td><td>Money AI Empire</td><td>0</td></tr><tr><td>15</td><td>Money AI Empire</td><td>0</td></tr><tr><td>15</td><td>Money AI Empire</td><td>0</td></tr><tr><td>15</td><td>Money AI Empire</td><td>0</td></tr><tr><td>15</td><td>Money AI Empire</td><td>0</td></tr><tr><td>15</td><td>Money AI Empire</td><td>0</td></tr><tr><td>15</td><td>Money AI Empire</td><td>0</td></tr><tr><td>15</td><td>Money AI Empire</td><td>0</td></tr><tr><td>15</td><td>Money AI Empire</td><td>0</td></tr><tr><td>15</td><td>Money AI Empire</td><td>0</td></tr><tr><td>15</td><td>Money AI Empire</td><td>0</td></tr><tr><td>15</td><td>Money AI Empire</td><td>0</td></tr><tr><td>15</td><td>Money AI Empire</td><td>0</td></tr><tr><td>15</td><td>Money AI Empire</td><td>0</td></tr><tr><td>15</td><td>Money AI Empire</td><td>0</td></tr><tr><td>15</td><td>Money AI Empire</td><td>0</td></tr><tr><td>15</td><td>Money AI Empire</td><td>0</td></tr><tr><td>15</td><td>Money AI Empire</td><td>0</td></tr><tr><td>15</td><td>Money AI Empire</td><td>0</td></tr><tr><td>15</td><td>Money AI Empire</td><td>0</td></tr><tr><td>15</td><td>Money AI Empire</td><td>0</td></tr><tr><td>15</td><td>Money AI Empire</td><td>0</td></tr><tr><td>15</td><td>Money AI Empire</td><td>0</td></tr><tr><td>15</td><td>Money AI Empire</td><td>0</td></tr><tr><td>15</td><td>Money AI Empire</td><td>0</td></tr><tr><td>15</td><td>Money AI Empire</td><td>0</td></tr><tr><td>15</td><td>Money AI Empire</td><td>0</td></tr><tr><td>15</td><td>Money AI Empire</td><td>0</td></tr><tr><td>15</td><td>Money AI Empire</td><td>0</td></tr><tr><td>15</td><td>Money AI Empire</td><td>0</td></tr><tr><td>15</td><td>Money AI Empire</td><td>0</td></tr><tr><td>15</td><td>Money AI Empire</td><td>0</td></tr><tr><td>15</td><td>Money AI Empire</td><td>0</td></tr><tr><td>15</td><td>Money AI Empire</td><td>0</td></tr><tr><td>15</td><td>Money AI Empire</td><td>0</td></tr><tr><td>15</td><td>Money AI Empire</td><td>0</td></tr><tr><td>15</td><td>Money AI Empire</td><td>0</td></tr><tr><td>15</td><td>Money AI Empire</td><td>0</td></tr><tr><td>15</td><td>Money AI Empire</td><td>0</td></tr><tr><td>15</td><td>Money AI Empire</td><td>0</td></tr><tr><td>15</td><td>Money AI Empire</td><td>0</td></tr><tr><td>15</td><td>Money AI Empire</td><td>0</td></tr><tr><td>15</td><td>Money AI Empire</td><td>0</td></tr><tr><td>15</td><td>Money AI Empire</td><td>0</td></tr><tr><td>15</td><td>Money AI Empire</td><td>0</td></tr><tr><td>15</td><td>Money AI Empire</td><td>0</td></tr><tr><td>15</td><td>Money AI Empire</td><td>0</td></tr><tr><td>15</td><td>Money AI Empire</td><td>0</td></tr><tr><td>12</td><td>Empire 6</td><td>1451</td></tr><tr><td>12</td><td>Empire 6</td><td>1451</td></tr><tr><td>12</td><td>Empire 11</td><td>1349</td></tr><tr><td>12</td><td>Empire 11</td><td>1349</td></tr><tr><td>12</td><td>Empire 5</td><td>1316</td></tr><tr><td>12</td><td>Empire 5</td><td>1316</td></tr><tr><td>12</td><td>Empire 11</td><td>1349</td></tr><tr><td>12</td><td>Empire 15</td><td>1422</td></tr><tr><td>12</td><td>Empire 15</td><td>1422</td></tr><tr><td>12</td><td>Empire 15</td><td>1422</td></tr><tr><td>12</td><td>Empire 15</td><td>1422</td></tr><tr><td>12</td><td>Empire 16</td><td>1197</td></tr><tr><td>12</td><td>Empire 15</td><td>1422</td></tr><tr><td>12</td><td>Empire 6</td><td>1451</td></tr><tr><td>12</td><td>Empire 5</td><td>1316</td></tr><tr><td>12</td><td>Empire 5</td><td>1316</td></tr><tr><td>12</td><td>Empire 5</td><td>1316</td></tr><tr><td>12</td><td>Empire 16</td><td>1197</td></tr><tr><td>12</td><td>Empire 16</td><td>1197</td></tr><tr><td>12</td><td>Empire 6</td><td>1451</td></tr><tr><td>12</td><td>Empire 14</td><td>1185</td></tr><tr><td>12</td><td>Empire 14</td><td>1185</td></tr><tr><td>12</td><td>Empire 14</td><td>1185</td></tr><tr><td>12</td><td>Empire 14</td><td>1185</td></tr><tr><td>11</td><td>Empire 11</td><td>1209</td></tr><tr><td>11</td><td>Empire 11</td><td>1209</td></tr><tr><td>11</td><td>Empire 15</td><td>1278</td></tr><tr><td>11</td><td>Empire 15</td><td>1278</td></tr><tr><td>11</td><td>Empire 15</td><td>1278</td></tr><tr><td>11</td><td>Empire 15</td><td>1278</td></tr><tr><td>11</td><td>Empire 5</td><td>1188</td></tr><tr><td>11</td><td>Empire 5</td><td>1188</td></tr><tr><td>11</td><td>Empire 6</td><td>1289</td></tr><tr><td>11</td><td>Empire 6</td><td>1289</td></tr><tr><td>11</td><td>Empire 6</td><td>1289</td></tr><tr><td>11</td><td>Empire 6</td><td>1289</td></tr><tr><td>11</td><td>Empire 15</td><td>1278</td></tr><tr><td>11</td><td>Empire 15</td><td>1278</td></tr><tr><td>11</td><td>Empire 12</td><td>1307</td></tr><tr><td>11</td><td>Empire 11</td><td>1209</td></tr><tr><td>11</td><td>Empire 11</td><td>1209</td></tr><tr><td>11</td><td>Empire 5</td><td>1188</td></tr><tr><td>11</td><td>Empire 5</td><td>1188</td></tr><tr><td>11</td><td>Empire 16</td><td>1089</td></tr><tr><td>11</td><td>Empire 16</td><td>1089</td></tr><tr><td>11</td><td>Empire 6</td><td>1289</td></tr><tr><td>11</td><td>Empire 14</td><td>1077</td></tr><tr><td>11</td><td>Empire 14</td><td>1077</td></tr><tr><td>11</td><td>Empire 14</td><td>1077</td></tr><tr><td>10</td><td>Empire 6</td><td>1137</td></tr><tr><td>10</td><td>Empire 6</td><td>1137</td></tr><tr><td>10</td><td>Empire 6</td><td>1137</td></tr><tr><td>10</td><td>Empire 10</td><td>1103</td></tr><tr><td>10</td><td>Empire 11</td><td>1079</td></tr><tr><td>10</td><td>Empire 10</td><td>1103</td></tr><tr><td>10</td><td>Empire 11</td><td>1079</td></tr><tr><td>10</td><td>Empire 15</td><td>1148</td></tr><tr><td>10</td><td>Empire 11</td><td>1079</td></tr><tr><td>10</td><td>Empire 11</td><td>1079</td></tr><tr><td>10</td><td>Empire 15</td><td>1148</td></tr><tr><td>10</td><td>Empire 12</td><td>1182</td></tr><tr><td>10</td><td>Empire 11</td><td>1079</td></tr><tr><td>10</td><td>Empire 15</td><td>1148</td></tr><tr><td>10</td><td>Empire 7</td><td>1026</td></tr><tr><td>10</td><td>Empire 5</td><td>1070</td></tr><tr><td>10</td><td>Empire 5</td><td>1070</td></tr><tr><td>10</td><td>Empire 6</td><td>1137</td></tr><tr><td>10</td><td>Empire 6</td><td>1137</td></tr><tr><td>10</td><td>Empire 6</td><td>1137</td></tr><tr><td>10</td><td>Empire 6</td><td>1137</td></tr><tr><td>10</td><td>Empire 1</td><td>1044</td></tr><tr><td>10</td><td>Empire 16</td><td>986</td></tr><tr><td>10</td><td>Empire 14</td><td>977</td></tr><tr><td>1</td><td>Empire 22</td><td>262</td></tr><tr><td>1</td><td>Empire 22</td><td>262</td></tr><tr><td>1</td><td>Empire 22</td><td>262</td></tr><tr><td>1</td><td>Empire 22</td><td>262</td></tr><tr><td>1</td><td>Empire 22</td><td>262</td></tr><tr><td>1</td><td>Empire 22</td><td>262</td></tr><tr><td>1</td><td>Empire 22</td><td>262</td></tr><tr><td>1</td><td>Empire 22</td><td>262</td></tr><tr><td>1</td><td>Empire 22</td><td>262</td></tr><tr><td>1</td><td>Empire 22</td><td>262</td></tr><tr><td>1</td><td>Empire 22</td><td>262</td></tr><tr><td>1</td><td>Empire 22</td><td>262</td></tr><tr><td>1</td><td>Empire 22</td><td>262</td></tr><tr><td>1</td><td>Empire 22</td><td>262</td></tr><tr><td>1</td><td>Empire 22</td><td>262</td></tr><tr><td>1</td><td>Empire 22</td><td>262</td></tr><tr><td>1</td><td>Empire 22</td><td>262</td></tr><tr><td>1</td><td>Empire 22</td><td>262</td></tr><tr><td>1</td><td>Empire 22</td><td>262</td></tr><tr><td>1</td><td>Empire 22</td><td>262</td></tr><tr><td>1</td><td>Empire 22</td><td>262</td></tr><tr><td>1</td><td>Empire 22</td><td>262</td></tr><tr><td>1</td><td>Empire 22</td><td>262</td></tr><tr><td>1</td><td>Empire 22</td><td>262</td></tr><tr><td>1</td><td>Empire 22</td><td>262</td></tr><tr><td>1</td><td>Empire 22</td><td>262</td></tr><tr><td>1</td><td>Empire 22</td><td>262</td></tr><tr><td>1</td><td>Empire 22</td><td>262</td></tr><tr><td>1</td><td>Empire 22</td><td>262</td></tr><tr><td>1</td><td>Empire 22</td><td>262</td></tr><tr><td>1</td><td>Empire 22</td><td>262</td></tr><tr><td>1</td><td>Empire 22</td><td>262</td></tr><tr><td>1</td><td>Empire 22</td><td>262</td></tr><tr><td>1</td><td>Empire 22</td><td>262</td></tr><tr><td>1</td><td>Empire 22</td><td>262</td></tr><tr><td>1</td><td>Empire 21</td><td>291</td></tr><tr><td>1</td><td>Empire 21</td><td>291</td></tr><tr><td>1</td><td>Empire 21</td><td>291</td></tr><tr><td>1</td><td>Empire 21</td><td>291</td></tr><tr><td>1</td><td>Empire 21</td><td>291</td></tr><tr><td>1</td><td>Empire 21</td><td>291</td></tr><tr><td>1</td><td>Empire 21</td><td>291</td></tr><tr><td>1</td><td>Empire 21</td><td>291</td></tr><tr><td>1</td><td>Empire 21</td><td>291</td></tr><tr><td>1</td><td>Empire 21</td><td>291</td></tr><tr><td>1</td><td>Empire 21</td><td>291</td></tr><tr><td>1</td><td>Empire 21</td><td>291</td></tr><tr><td>1</td><td>Empire 21</td><td>291</td></tr><tr><td>1</td><td>Empire 21</td><td>291</td></tr><tr><td>1</td><td>Empire 21</td><td>291</td></tr><tr><td>1</td><td>Empire 21</td><td>291</td></tr><tr><td>1</td><td>Empire 21</td><td>291</td></tr><tr><td>1</td><td>Empire 21</td><td>291</td></tr><tr><td>1</td><td>Empire 21</td><td>291</td></tr><tr><td>1</td><td>Empire 21</td><td>291</td></tr><tr><td>1</td><td>Empire 21</td><td>291</td></tr><tr><td>1</td><td>Empire 21</td><td>291</td></tr><tr><td>1</td><td>Empire 21</td><td>291</td></tr><tr><td>1</td><td>Empire 21</td><td>291</td></tr><tr><td>1</td><td>Empire 21</td><td>291</td></tr><tr><td>1</td><td>Empire 21</td><td>291</td></tr><tr><td>1</td><td>Empire 21</td><td>291</td></tr><tr><td>1</td><td>Empire 21</td><td>291</td></tr><tr><td>1</td><td>Empire 21</td><td>291</td></tr><tr><td>1</td><td>Empire 21</td><td>291</td></tr><tr><td>1</td><td>Empire 21</td><td>291</td></tr><tr><td>1</td><td>Empire 21</td><td>291</td></tr><tr><td>1</td><td>Empire 21</td><td>291</td></tr><tr><td>1</td><td>Empire 21</td><td>291</td></tr><tr><td>1</td><td>Empire 21</td><td>291</td></tr><tr><td>1</td><td>Empire 21</td><td>291</td></tr><tr><td>1</td><td>Empire 21</td><td>291</td></tr><tr><td>1</td><td>Empire 21</td><td>291</td></tr><tr><td>1</td><td>Empire 21</td><td>291</td></tr><tr><td>1</td><td>Empire 21</td><td>291</td></tr><tr><td>1</td><td>Empire 21</td><td>291</td></tr><tr><td>1</td><td>Empire 21</td><td>291</td></tr><tr><td>1</td><td>Empire 21</td><td>291</td></tr><tr><td>1</td><td>Empire 21</td><td>291</td></tr><tr><td>1</td><td>Empire 21</td><td>291</td></tr><tr><td>1</td><td>Empire 21</td><td>291</td></tr><tr><td>1</td><td>Empire 21</td><td>291</td></tr><tr><td>1</td><td>Empire 21</td><td>291</td></tr><tr><td>1</td><td>Empire 21</td><td>291</td></tr><tr><td>1</td><td>Empire 21</td><td>291</td></tr><tr><td>1</td><td>Empire 21</td><td>291</td></tr><tr><td>1</td><td>Empire 23</td><td>223</td></tr><tr><td>1</td><td>Empire 23</td><td>223</td></tr><tr><td>1</td><td>Empire 23</td><td>223</td></tr><tr><td>1</td><td>Empire 23</td><td>223</td></tr><tr><td>1</td><td>Empire 23</td><td>223</td></tr><tr><td>1</td><td>Empire 23</td><td>223</td></tr><tr><td>1</td><td>Empire 23</td><td>223</td></tr><tr><td>1</td><td>Empire 23</td><td>223</td></tr><tr><td>1</td><td>Empire 23</td><td>223</td></tr><tr><td>1</td><td>Empire 23</td><td>223</td></tr><tr><td>1</td><td>Empire 23</td><td>223</td></tr><tr><td>1</td><td>Empire 23</td><td>223</td></tr><tr><td>1</td><td>Empire 23</td><td>223</td></tr><tr><td>1</td><td>Empire 23</td><td>223</td></tr><tr><td>1</td><td>Empire 23</td><td>223</td></tr><tr><td>1</td><td>Empire 23</td><td>223</td></tr><tr><td>1</td><td>Empire 23</td><td>223</td></tr><tr><td>1</td><td>Money AI Empire</td><td>185</td></tr><tr><td>1</td><td>Empire 13</td><td>185</td></tr><tr><td>1</td><td>Empire 15</td><td>185</td></tr><tr><td>1</td><td>Empire 15</td><td>185</td></tr><tr><td>1</td><td>Empire 10</td><td>185</td></tr><tr><td>1</td><td>Empire 11</td><td>185</td></tr><tr><td>1</td><td>Empire 13</td><td>185</td></tr><tr><td>1</td><td>Empire 20</td><td>185</td></tr><tr><td>1</td><td>Empire 20</td><td>185</td></tr><tr><td>1</td><td>Empire 12</td><td>185</td></tr><tr><td>1</td><td>Empire 12</td><td>185</td></tr><tr><td>1</td><td>Empire 12</td><td>185</td></tr><tr><td>1</td><td>Empire 5</td><td>185</td></tr><tr><td>1</td><td>Empire 5</td><td>185</td></tr><tr><td>1</td><td>Empire 7</td><td>185</td></tr><tr><td>1</td><td>Empire 18</td><td>185</td></tr><tr><td>1</td><td>Empire 5</td><td>185</td></tr><tr><td>1</td><td>Empire 3</td><td>185</td></tr><tr><td>1</td><td>Empire 9</td><td>185</td></tr><tr><td>1</td><td>Empire 19</td><td>185</td></tr><tr><td>1</td><td>Empire 8</td><td>185</td></tr><tr><td>1</td><td>Empire 8</td><td>185</td></tr><tr><td>1</td><td>Empire 16</td><td>185</td></tr><tr><td>1</td><td>Empire 4</td><td>185</td></tr><tr><td>1</td><td>Empire 1</td><td>185</td></tr><tr><td>1</td><td>Empire 6</td><td>185</td></tr><tr><td>1</td><td>Empire 1</td><td>185</td></tr><tr><td>1</td><td>Empire 14</td><td>185</td></tr><tr><td>1</td><td>Empire 4</td><td>185</td></tr><tr><td>1</td><td>Empire 2</td><td>185</td></tr><tr><td>1</td><td>Empire 6</td><td>185</td></tr></tbody></table></div>"
      ]
     },
     "metadata": {
      "application/vnd.databricks.v1+output": {
       "addedWidgets": {},
       "aggData": [],
       "aggError": "",
       "aggOverflow": false,
       "aggSchema": [],
       "aggSeriesLimitReached": false,
       "aggType": "",
       "arguments": {},
       "columnCustomDisplayInfos": {},
       "data": [
        [
         9,
         "Empire 11",
         961
        ],
        [
         9,
         "Empire 11",
         961
        ],
        [
         9,
         "Empire 6",
         1000
        ],
        [
         9,
         "Empire 5",
         957
        ],
        [
         9,
         "Empire 6",
         1000
        ],
        [
         9,
         "Empire 5",
         957
        ],
        [
         9,
         "Empire 6",
         1000
        ],
        [
         9,
         "Empire 6",
         1000
        ],
        [
         9,
         "Empire 7",
         921
        ],
        [
         9,
         "Empire 7",
         921
        ],
        [
         9,
         "Empire 16",
         886
        ],
        [
         9,
         "Empire 16",
         886
        ],
        [
         9,
         "Empire 14",
         879
        ],
        [
         9,
         "Empire 14",
         879
        ],
        [
         8,
         "Money AI Empire",
         1424
        ],
        [
         8,
         "Money AI Empire",
         1424
        ],
        [
         8,
         "Money AI Empire",
         1424
        ],
        [
         8,
         "Money AI Empire",
         1424
        ],
        [
         8,
         "Money AI Empire",
         1424
        ],
        [
         8,
         "Money AI Empire",
         1424
        ],
        [
         8,
         "Money AI Empire",
         1424
        ],
        [
         8,
         "Money AI Empire",
         1424
        ],
        [
         8,
         "Money AI Empire",
         1424
        ],
        [
         8,
         "Money AI Empire",
         1424
        ],
        [
         8,
         "Money AI Empire",
         1424
        ],
        [
         8,
         "Money AI Empire",
         1424
        ],
        [
         8,
         "Money AI Empire",
         1424
        ],
        [
         8,
         "Money AI Empire",
         1424
        ],
        [
         8,
         "Money AI Empire",
         1424
        ],
        [
         8,
         "Money AI Empire",
         1424
        ],
        [
         8,
         "Money AI Empire",
         1424
        ],
        [
         8,
         "Money AI Empire",
         1424
        ],
        [
         8,
         "Money AI Empire",
         1424
        ],
        [
         8,
         "Money AI Empire",
         1424
        ],
        [
         8,
         "Money AI Empire",
         1424
        ],
        [
         8,
         "Money AI Empire",
         1424
        ],
        [
         8,
         "Money AI Empire",
         1424
        ],
        [
         8,
         "Money AI Empire",
         1424
        ],
        [
         8,
         "Money AI Empire",
         1424
        ],
        [
         8,
         "Money AI Empire",
         1424
        ],
        [
         8,
         "Money AI Empire",
         1424
        ],
        [
         8,
         "Money AI Empire",
         1424
        ],
        [
         8,
         "Money AI Empire",
         1424
        ],
        [
         8,
         "Money AI Empire",
         1424
        ],
        [
         8,
         "Money AI Empire",
         1424
        ],
        [
         8,
         "Money AI Empire",
         1424
        ],
        [
         8,
         "Empire 6",
         872
        ],
        [
         8,
         "Empire 6",
         872
        ],
        [
         8,
         "Empire 11",
         851
        ],
        [
         8,
         "Empire 15",
         907
        ],
        [
         8,
         "Empire 11",
         851
        ],
        [
         8,
         "Empire 5",
         849
        ],
        [
         8,
         "Empire 6",
         872
        ],
        [
         8,
         "Empire 6",
         872
        ],
        [
         8,
         "Empire 6",
         872
        ],
        [
         8,
         "Empire 7",
         821
        ],
        [
         8,
         "Empire 16",
         791
        ],
        [
         8,
         "Empire 16",
         791
        ],
        [
         8,
         "Empire 14",
         786
        ],
        [
         8,
         "Empire 14",
         786
        ],
        [
         7,
         "Money AI Empire",
         927
        ],
        [
         7,
         "Money AI Empire",
         927
        ],
        [
         7,
         "Money AI Empire",
         927
        ],
        [
         7,
         "Money AI Empire",
         927
        ],
        [
         7,
         "Money AI Empire",
         927
        ],
        [
         7,
         "Money AI Empire",
         927
        ],
        [
         7,
         "Money AI Empire",
         927
        ],
        [
         7,
         "Money AI Empire",
         927
        ],
        [
         7,
         "Money AI Empire",
         927
        ],
        [
         7,
         "Money AI Empire",
         927
        ],
        [
         7,
         "Money AI Empire",
         927
        ],
        [
         7,
         "Money AI Empire",
         927
        ],
        [
         7,
         "Money AI Empire",
         927
        ],
        [
         7,
         "Money AI Empire",
         927
        ],
        [
         7,
         "Money AI Empire",
         927
        ],
        [
         7,
         "Money AI Empire",
         927
        ],
        [
         7,
         "Money AI Empire",
         927
        ],
        [
         7,
         "Money AI Empire",
         927
        ],
        [
         7,
         "Money AI Empire",
         927
        ],
        [
         7,
         "Money AI Empire",
         927
        ],
        [
         7,
         "Money AI Empire",
         927
        ],
        [
         7,
         "Money AI Empire",
         927
        ],
        [
         7,
         "Money AI Empire",
         927
        ],
        [
         7,
         "Money AI Empire",
         927
        ],
        [
         7,
         "Money AI Empire",
         927
        ],
        [
         7,
         "Money AI Empire",
         927
        ],
        [
         7,
         "Money AI Empire",
         927
        ],
        [
         7,
         "Money AI Empire",
         927
        ],
        [
         7,
         "Money AI Empire",
         927
        ],
        [
         7,
         "Money AI Empire",
         927
        ],
        [
         7,
         "Money AI Empire",
         927
        ],
        [
         7,
         "Money AI Empire",
         927
        ],
        [
         7,
         "Money AI Empire",
         927
        ],
        [
         7,
         "Money AI Empire",
         927
        ],
        [
         7,
         "Money AI Empire",
         927
        ],
        [
         7,
         "Money AI Empire",
         927
        ],
        [
         7,
         "Money AI Empire",
         927
        ],
        [
         7,
         "Money AI Empire",
         927
        ],
        [
         7,
         "Money AI Empire",
         927
        ],
        [
         7,
         "Money AI Empire",
         927
        ],
        [
         7,
         "Money AI Empire",
         927
        ],
        [
         7,
         "Money AI Empire",
         927
        ],
        [
         7,
         "Money AI Empire",
         927
        ],
        [
         7,
         "Money AI Empire",
         927
        ],
        [
         7,
         "Money AI Empire",
         927
        ],
        [
         7,
         "Money AI Empire",
         927
        ],
        [
         7,
         "Money AI Empire",
         927
        ],
        [
         7,
         "Money AI Empire",
         927
        ],
        [
         7,
         "Money AI Empire",
         927
        ],
        [
         7,
         "Money AI Empire",
         927
        ],
        [
         7,
         "Money AI Empire",
         927
        ],
        [
         7,
         "Money AI Empire",
         927
        ],
        [
         7,
         "Money AI Empire",
         927
        ],
        [
         7,
         "Money AI Empire",
         927
        ],
        [
         7,
         "Money AI Empire",
         927
        ],
        [
         7,
         "Money AI Empire",
         927
        ],
        [
         7,
         "Money AI Empire",
         927
        ],
        [
         7,
         "Money AI Empire",
         927
        ],
        [
         7,
         "Money AI Empire",
         927
        ],
        [
         7,
         "Money AI Empire",
         927
        ],
        [
         7,
         "Money AI Empire",
         927
        ],
        [
         7,
         "Money AI Empire",
         927
        ],
        [
         7,
         "Money AI Empire",
         927
        ],
        [
         7,
         "Money AI Empire",
         927
        ],
        [
         7,
         "Money AI Empire",
         927
        ],
        [
         7,
         "Money AI Empire",
         927
        ],
        [
         7,
         "Money AI Empire",
         927
        ],
        [
         7,
         "Money AI Empire",
         927
        ],
        [
         7,
         "Money AI Empire",
         927
        ],
        [
         7,
         "Money AI Empire",
         927
        ],
        [
         7,
         "Money AI Empire",
         927
        ],
        [
         7,
         "Money AI Empire",
         927
        ],
        [
         7,
         "Money AI Empire",
         927
        ],
        [
         7,
         "Money AI Empire",
         927
        ],
        [
         7,
         "Money AI Empire",
         927
        ],
        [
         7,
         "Money AI Empire",
         927
        ],
        [
         7,
         "Money AI Empire",
         927
        ],
        [
         7,
         "Money AI Empire",
         927
        ],
        [
         7,
         "Money AI Empire",
         927
        ],
        [
         7,
         "Money AI Empire",
         927
        ],
        [
         7,
         "Money AI Empire",
         927
        ],
        [
         7,
         "Money AI Empire",
         927
        ],
        [
         7,
         "Money AI Empire",
         927
        ],
        [
         7,
         "Money AI Empire",
         927
        ],
        [
         7,
         "Money AI Empire",
         927
        ],
        [
         7,
         "Money AI Empire",
         927
        ],
        [
         7,
         "Money AI Empire",
         927
        ],
        [
         7,
         "Money AI Empire",
         927
        ],
        [
         7,
         "Money AI Empire",
         927
        ],
        [
         7,
         "Money AI Empire",
         927
        ],
        [
         7,
         "Money AI Empire",
         927
        ],
        [
         7,
         "Money AI Empire",
         927
        ],
        [
         7,
         "Money AI Empire",
         927
        ],
        [
         7,
         "Money AI Empire",
         927
        ],
        [
         7,
         "Money AI Empire",
         927
        ],
        [
         7,
         "Money AI Empire",
         927
        ],
        [
         7,
         "Money AI Empire",
         927
        ],
        [
         7,
         "Money AI Empire",
         927
        ],
        [
         7,
         "Money AI Empire",
         927
        ],
        [
         7,
         "Money AI Empire",
         927
        ],
        [
         7,
         "Money AI Empire",
         927
        ],
        [
         7,
         "Money AI Empire",
         927
        ],
        [
         7,
         "Money AI Empire",
         927
        ],
        [
         7,
         "Money AI Empire",
         927
        ],
        [
         7,
         "Money AI Empire",
         927
        ],
        [
         7,
         "Money AI Empire",
         927
        ],
        [
         7,
         "Money AI Empire",
         927
        ],
        [
         7,
         "Money AI Empire",
         927
        ],
        [
         7,
         "Money AI Empire",
         927
        ],
        [
         7,
         "Money AI Empire",
         927
        ],
        [
         7,
         "Money AI Empire",
         927
        ],
        [
         7,
         "Money AI Empire",
         927
        ],
        [
         7,
         "Money AI Empire",
         927
        ],
        [
         7,
         "Money AI Empire",
         927
        ],
        [
         7,
         "Money AI Empire",
         927
        ],
        [
         7,
         "Money AI Empire",
         927
        ],
        [
         7,
         "Money AI Empire",
         927
        ],
        [
         7,
         "Money AI Empire",
         927
        ],
        [
         7,
         "Money AI Empire",
         927
        ],
        [
         7,
         "Money AI Empire",
         927
        ],
        [
         7,
         "Money AI Empire",
         927
        ],
        [
         7,
         "Money AI Empire",
         927
        ],
        [
         7,
         "Money AI Empire",
         927
        ],
        [
         7,
         "Money AI Empire",
         927
        ],
        [
         7,
         "Money AI Empire",
         927
        ],
        [
         7,
         "Money AI Empire",
         927
        ],
        [
         7,
         "Money AI Empire",
         927
        ],
        [
         7,
         "Money AI Empire",
         927
        ],
        [
         7,
         "Money AI Empire",
         927
        ],
        [
         7,
         "Money AI Empire",
         927
        ],
        [
         7,
         "Money AI Empire",
         927
        ],
        [
         7,
         "Money AI Empire",
         927
        ],
        [
         7,
         "Money AI Empire",
         927
        ],
        [
         7,
         "Empire 10",
         749
        ],
        [
         7,
         "Empire 10",
         749
        ],
        [
         7,
         "Empire 15",
         792
        ],
        [
         7,
         "Empire 10",
         749
        ],
        [
         7,
         "Empire 12",
         813
        ],
        [
         7,
         "Empire 11",
         746
        ],
        [
         7,
         "Empire 11",
         746
        ],
        [
         7,
         "Empire 6",
         757
        ],
        [
         7,
         "Empire 5",
         744
        ],
        [
         7,
         "Empire 6",
         757
        ],
        [
         7,
         "Empire 5",
         744
        ],
        [
         7,
         "Empire 6",
         757
        ],
        [
         7,
         "Empire 7",
         723
        ],
        [
         7,
         "Empire 6",
         757
        ],
        [
         7,
         "Empire 16",
         701
        ],
        [
         7,
         "Empire 4",
         739
        ],
        [
         6,
         "Money AI Empire",
         616
        ],
        [
         6,
         "Money AI Empire",
         616
        ],
        [
         6,
         "Money AI Empire",
         616
        ],
        [
         6,
         "Money AI Empire",
         616
        ],
        [
         6,
         "Money AI Empire",
         616
        ],
        [
         6,
         "Money AI Empire",
         616
        ],
        [
         6,
         "Money AI Empire",
         616
        ],
        [
         6,
         "Money AI Empire",
         616
        ],
        [
         6,
         "Money AI Empire",
         616
        ],
        [
         6,
         "Money AI Empire",
         616
        ],
        [
         6,
         "Money AI Empire",
         616
        ],
        [
         6,
         "Money AI Empire",
         616
        ],
        [
         6,
         "Money AI Empire",
         616
        ],
        [
         6,
         "Money AI Empire",
         616
        ],
        [
         6,
         "Money AI Empire",
         616
        ],
        [
         6,
         "Money AI Empire",
         616
        ],
        [
         6,
         "Money AI Empire",
         616
        ],
        [
         6,
         "Money AI Empire",
         616
        ],
        [
         6,
         "Money AI Empire",
         616
        ],
        [
         6,
         "Money AI Empire",
         616
        ],
        [
         6,
         "Money AI Empire",
         616
        ],
        [
         6,
         "Money AI Empire",
         616
        ],
        [
         6,
         "Money AI Empire",
         616
        ],
        [
         6,
         "Money AI Empire",
         616
        ],
        [
         6,
         "Money AI Empire",
         616
        ],
        [
         6,
         "Money AI Empire",
         616
        ],
        [
         6,
         "Money AI Empire",
         616
        ],
        [
         6,
         "Money AI Empire",
         616
        ],
        [
         6,
         "Money AI Empire",
         616
        ],
        [
         6,
         "Money AI Empire",
         616
        ],
        [
         6,
         "Money AI Empire",
         616
        ],
        [
         6,
         "Money AI Empire",
         616
        ],
        [
         6,
         "Money AI Empire",
         616
        ],
        [
         6,
         "Money AI Empire",
         616
        ],
        [
         6,
         "Money AI Empire",
         616
        ],
        [
         6,
         "Money AI Empire",
         616
        ],
        [
         6,
         "Money AI Empire",
         616
        ],
        [
         6,
         "Money AI Empire",
         616
        ],
        [
         6,
         "Money AI Empire",
         616
        ],
        [
         6,
         "Money AI Empire",
         616
        ],
        [
         6,
         "Money AI Empire",
         616
        ],
        [
         6,
         "Money AI Empire",
         616
        ],
        [
         6,
         "Money AI Empire",
         616
        ],
        [
         6,
         "Money AI Empire",
         616
        ],
        [
         6,
         "Money AI Empire",
         616
        ],
        [
         6,
         "Money AI Empire",
         616
        ],
        [
         6,
         "Money AI Empire",
         616
        ],
        [
         6,
         "Money AI Empire",
         616
        ],
        [
         6,
         "Money AI Empire",
         616
        ],
        [
         6,
         "Money AI Empire",
         616
        ],
        [
         6,
         "Money AI Empire",
         616
        ],
        [
         6,
         "Money AI Empire",
         616
        ],
        [
         6,
         "Money AI Empire",
         616
        ],
        [
         6,
         "Money AI Empire",
         616
        ],
        [
         6,
         "Money AI Empire",
         616
        ],
        [
         6,
         "Money AI Empire",
         616
        ],
        [
         6,
         "Money AI Empire",
         616
        ],
        [
         6,
         "Money AI Empire",
         616
        ],
        [
         6,
         "Money AI Empire",
         616
        ],
        [
         6,
         "Money AI Empire",
         616
        ],
        [
         6,
         "Money AI Empire",
         616
        ],
        [
         6,
         "Money AI Empire",
         616
        ],
        [
         6,
         "Money AI Empire",
         616
        ],
        [
         6,
         "Money AI Empire",
         616
        ],
        [
         6,
         "Money AI Empire",
         616
        ],
        [
         6,
         "Money AI Empire",
         616
        ],
        [
         6,
         "Money AI Empire",
         616
        ],
        [
         6,
         "Money AI Empire",
         616
        ],
        [
         6,
         "Money AI Empire",
         616
        ],
        [
         6,
         "Money AI Empire",
         616
        ],
        [
         6,
         "Money AI Empire",
         616
        ],
        [
         6,
         "Money AI Empire",
         616
        ],
        [
         6,
         "Money AI Empire",
         616
        ],
        [
         6,
         "Money AI Empire",
         616
        ],
        [
         6,
         "Money AI Empire",
         616
        ],
        [
         6,
         "Money AI Empire",
         616
        ],
        [
         6,
         "Money AI Empire",
         616
        ],
        [
         6,
         "Money AI Empire",
         616
        ],
        [
         6,
         "Money AI Empire",
         616
        ],
        [
         6,
         "Money AI Empire",
         616
        ],
        [
         6,
         "Money AI Empire",
         616
        ],
        [
         6,
         "Money AI Empire",
         616
        ],
        [
         6,
         "Money AI Empire",
         616
        ],
        [
         6,
         "Money AI Empire",
         616
        ],
        [
         6,
         "Money AI Empire",
         616
        ],
        [
         6,
         "Money AI Empire",
         616
        ],
        [
         6,
         "Money AI Empire",
         616
        ],
        [
         6,
         "Money AI Empire",
         616
        ],
        [
         6,
         "Money AI Empire",
         616
        ],
        [
         6,
         "Money AI Empire",
         616
        ],
        [
         6,
         "Money AI Empire",
         616
        ],
        [
         6,
         "Money AI Empire",
         616
        ],
        [
         6,
         "Money AI Empire",
         616
        ],
        [
         6,
         "Money AI Empire",
         616
        ],
        [
         6,
         "Money AI Empire",
         616
        ],
        [
         6,
         "Money AI Empire",
         616
        ],
        [
         6,
         "Money AI Empire",
         616
        ],
        [
         6,
         "Money AI Empire",
         616
        ],
        [
         6,
         "Money AI Empire",
         616
        ],
        [
         6,
         "Money AI Empire",
         616
        ],
        [
         6,
         "Money AI Empire",
         616
        ],
        [
         6,
         "Money AI Empire",
         616
        ],
        [
         6,
         "Money AI Empire",
         616
        ],
        [
         6,
         "Money AI Empire",
         616
        ],
        [
         6,
         "Money AI Empire",
         616
        ],
        [
         6,
         "Money AI Empire",
         616
        ],
        [
         6,
         "Money AI Empire",
         616
        ],
        [
         6,
         "Money AI Empire",
         616
        ],
        [
         6,
         "Money AI Empire",
         616
        ],
        [
         6,
         "Money AI Empire",
         616
        ],
        [
         6,
         "Money AI Empire",
         616
        ],
        [
         6,
         "Money AI Empire",
         616
        ],
        [
         6,
         "Money AI Empire",
         616
        ],
        [
         6,
         "Money AI Empire",
         616
        ],
        [
         6,
         "Money AI Empire",
         616
        ],
        [
         6,
         "Money AI Empire",
         616
        ],
        [
         6,
         "Money AI Empire",
         616
        ],
        [
         6,
         "Money AI Empire",
         616
        ],
        [
         6,
         "Money AI Empire",
         616
        ],
        [
         6,
         "Empire 10",
         639
        ],
        [
         6,
         "Empire 10",
         639
        ],
        [
         6,
         "Empire 10",
         639
        ],
        [
         6,
         "Empire 12",
         693
        ],
        [
         6,
         "Empire 12",
         693
        ],
        [
         6,
         "Empire 15",
         679
        ],
        [
         6,
         "Empire 13",
         627
        ],
        [
         6,
         "Empire 5",
         644
        ],
        [
         6,
         "Empire 7",
         628
        ],
        [
         6,
         "Empire 9",
         610
        ],
        [
         6,
         "Empire 5",
         644
        ],
        [
         6,
         "Empire 7",
         628
        ],
        [
         6,
         "Empire 9",
         610
        ],
        [
         6,
         "Empire 5",
         644
        ],
        [
         6,
         "Empire 3",
         621
        ],
        [
         6,
         "Empire 8",
         644
        ],
        [
         6,
         "Empire 14",
         610
        ],
        [
         6,
         "Empire 2",
         638
        ],
        [
         6,
         "Empire 6",
         652
        ],
        [
         5,
         "Empire 15",
         569
        ],
        [
         5,
         "Empire 15",
         569
        ],
        [
         5,
         "Empire 12",
         578
        ],
        [
         5,
         "Empire 12",
         578
        ],
        [
         5,
         "Empire 12",
         578
        ],
        [
         5,
         "Empire 10",
         536
        ],
        [
         5,
         "Empire 10",
         536
        ],
        [
         5,
         "Empire 11",
         546
        ],
        [
         5,
         "Empire 13",
         537
        ],
        [
         5,
         "Empire 11",
         546
        ],
        [
         5,
         "Empire 10",
         536
        ],
        [
         5,
         "Empire 10",
         536
        ],
        [
         5,
         "Empire 10",
         536
        ],
        [
         5,
         "Empire 3",
         531
        ],
        [
         5,
         "Empire 8",
         549
        ],
        [
         5,
         "Empire 16",
         525
        ],
        [
         5,
         "Empire 6",
         549
        ],
        [
         5,
         "Empire 2",
         540
        ],
        [
         5,
         "Empire 1",
         544
        ],
        [
         5,
         "Empire 1",
         544
        ],
        [
         5,
         "Empire 1",
         544
        ],
        [
         5,
         "Empire 4",
         549
        ],
        [
         5,
         "Empire 6",
         549
        ],
        [
         4,
         "Empire 22",
         766
        ],
        [
         4,
         "Money AI Empire",
         440
        ],
        [
         4,
         "Empire 12",
         470
        ],
        [
         4,
         "Empire 12",
         470
        ],
        [
         4,
         "Empire 12",
         470
        ],
        [
         4,
         "Empire 15",
         464
        ],
        [
         4,
         "Empire 11",
         451
        ],
        [
         4,
         "Empire 15",
         464
        ],
        [
         4,
         "Empire 10",
         446
        ],
        [
         4,
         "Empire 15",
         464
        ],
        [
         4,
         "Empire 20",
         459
        ],
        [
         4,
         "Empire 2",
         445
        ],
        [
         4,
         "Empire 2",
         445
        ],
        [
         4,
         "Empire 6",
         451
        ],
        [
         4,
         "Empire 6",
         451
        ],
        [
         4,
         "Empire 6",
         451
        ],
        [
         4,
         "Empire 1",
         451
        ],
        [
         3,
         "Empire 22",
         594
        ],
        [
         3,
         "Empire 22",
         594
        ],
        [
         3,
         "Empire 23",
         473
        ],
        [
         3,
         "Empire 23",
         473
        ],
        [
         3,
         "Empire 15",
         366
        ],
        [
         3,
         "Empire 11",
         358
        ],
        [
         3,
         "Empire 15",
         366
        ],
        [
         3,
         "Empire 11",
         358
        ],
        [
         3,
         "Empire 12",
         370
        ],
        [
         3,
         "Empire 12",
         370
        ],
        [
         3,
         "Empire 2",
         355
        ],
        [
         3,
         "Empire 5",
         365
        ],
        [
         3,
         "Empire 7",
         358
        ],
        [
         3,
         "Empire 3",
         355
        ],
        [
         3,
         "Empire 2",
         355
        ],
        [
         3,
         "Empire 8",
         363
        ],
        [
         3,
         "Empire 4",
         363
        ],
        [
         3,
         "Empire 1",
         361
        ],
        [
         3,
         "Empire 6",
         361
        ],
        [
         2,
         "Empire 22",
         426
        ],
        [
         2,
         "Empire 22",
         426
        ],
        [
         2,
         "Empire 21",
         485
        ],
        [
         2,
         "Empire 21",
         485
        ],
        [
         2,
         "Empire 15",
         273
        ],
        [
         2,
         "Empire 11",
         270
        ],
        [
         2,
         "Empire 15",
         273
        ],
        [
         2,
         "Empire 10",
         270
        ],
        [
         2,
         "Empire 20",
         273
        ],
        [
         2,
         "Empire 12",
         275
        ],
        [
         2,
         "Empire 12",
         275
        ],
        [
         2,
         "Empire 20",
         273
        ],
        [
         2,
         "Empire 7",
         270
        ],
        [
         2,
         "Empire 8",
         273
        ],
        [
         2,
         "Empire 4",
         273
        ],
        [
         15,
         "Money AI Empire",
         0
        ],
        [
         15,
         "Money AI Empire",
         0
        ],
        [
         15,
         "Money AI Empire",
         0
        ],
        [
         15,
         "Money AI Empire",
         0
        ],
        [
         15,
         "Money AI Empire",
         0
        ],
        [
         15,
         "Money AI Empire",
         0
        ],
        [
         15,
         "Money AI Empire",
         0
        ],
        [
         15,
         "Money AI Empire",
         0
        ],
        [
         15,
         "Money AI Empire",
         0
        ],
        [
         15,
         "Money AI Empire",
         0
        ],
        [
         15,
         "Money AI Empire",
         0
        ],
        [
         15,
         "Money AI Empire",
         0
        ],
        [
         15,
         "Money AI Empire",
         0
        ],
        [
         15,
         "Money AI Empire",
         0
        ],
        [
         15,
         "Money AI Empire",
         0
        ],
        [
         15,
         "Money AI Empire",
         0
        ],
        [
         15,
         "Money AI Empire",
         0
        ],
        [
         15,
         "Money AI Empire",
         0
        ],
        [
         15,
         "Money AI Empire",
         0
        ],
        [
         15,
         "Money AI Empire",
         0
        ],
        [
         15,
         "Money AI Empire",
         0
        ],
        [
         15,
         "Money AI Empire",
         0
        ],
        [
         15,
         "Money AI Empire",
         0
        ],
        [
         15,
         "Money AI Empire",
         0
        ],
        [
         15,
         "Money AI Empire",
         0
        ],
        [
         15,
         "Money AI Empire",
         0
        ],
        [
         15,
         "Money AI Empire",
         0
        ],
        [
         15,
         "Money AI Empire",
         0
        ],
        [
         15,
         "Money AI Empire",
         0
        ],
        [
         15,
         "Money AI Empire",
         0
        ],
        [
         15,
         "Money AI Empire",
         0
        ],
        [
         15,
         "Money AI Empire",
         0
        ],
        [
         15,
         "Money AI Empire",
         0
        ],
        [
         15,
         "Money AI Empire",
         0
        ],
        [
         15,
         "Money AI Empire",
         0
        ],
        [
         15,
         "Money AI Empire",
         0
        ],
        [
         15,
         "Money AI Empire",
         0
        ],
        [
         15,
         "Money AI Empire",
         0
        ],
        [
         15,
         "Money AI Empire",
         0
        ],
        [
         15,
         "Money AI Empire",
         0
        ],
        [
         15,
         "Money AI Empire",
         0
        ],
        [
         15,
         "Money AI Empire",
         0
        ],
        [
         15,
         "Money AI Empire",
         0
        ],
        [
         15,
         "Money AI Empire",
         0
        ],
        [
         15,
         "Money AI Empire",
         0
        ],
        [
         15,
         "Money AI Empire",
         0
        ],
        [
         15,
         "Money AI Empire",
         0
        ],
        [
         15,
         "Money AI Empire",
         0
        ],
        [
         15,
         "Money AI Empire",
         0
        ],
        [
         15,
         "Money AI Empire",
         0
        ],
        [
         15,
         "Money AI Empire",
         0
        ],
        [
         15,
         "Money AI Empire",
         0
        ],
        [
         15,
         "Money AI Empire",
         0
        ],
        [
         15,
         "Money AI Empire",
         0
        ],
        [
         15,
         "Money AI Empire",
         0
        ],
        [
         15,
         "Money AI Empire",
         0
        ],
        [
         15,
         "Money AI Empire",
         0
        ],
        [
         15,
         "Money AI Empire",
         0
        ],
        [
         15,
         "Money AI Empire",
         0
        ],
        [
         15,
         "Money AI Empire",
         0
        ],
        [
         15,
         "Money AI Empire",
         0
        ],
        [
         15,
         "Money AI Empire",
         0
        ],
        [
         15,
         "Money AI Empire",
         0
        ],
        [
         15,
         "Money AI Empire",
         0
        ],
        [
         15,
         "Money AI Empire",
         0
        ],
        [
         15,
         "Money AI Empire",
         0
        ],
        [
         15,
         "Money AI Empire",
         0
        ],
        [
         15,
         "Money AI Empire",
         0
        ],
        [
         15,
         "Money AI Empire",
         0
        ],
        [
         15,
         "Money AI Empire",
         0
        ],
        [
         15,
         "Money AI Empire",
         0
        ],
        [
         15,
         "Money AI Empire",
         0
        ],
        [
         15,
         "Money AI Empire",
         0
        ],
        [
         12,
         "Empire 6",
         1451
        ],
        [
         12,
         "Empire 6",
         1451
        ],
        [
         12,
         "Empire 11",
         1349
        ],
        [
         12,
         "Empire 11",
         1349
        ],
        [
         12,
         "Empire 5",
         1316
        ],
        [
         12,
         "Empire 5",
         1316
        ],
        [
         12,
         "Empire 11",
         1349
        ],
        [
         12,
         "Empire 15",
         1422
        ],
        [
         12,
         "Empire 15",
         1422
        ],
        [
         12,
         "Empire 15",
         1422
        ],
        [
         12,
         "Empire 15",
         1422
        ],
        [
         12,
         "Empire 16",
         1197
        ],
        [
         12,
         "Empire 15",
         1422
        ],
        [
         12,
         "Empire 6",
         1451
        ],
        [
         12,
         "Empire 5",
         1316
        ],
        [
         12,
         "Empire 5",
         1316
        ],
        [
         12,
         "Empire 5",
         1316
        ],
        [
         12,
         "Empire 16",
         1197
        ],
        [
         12,
         "Empire 16",
         1197
        ],
        [
         12,
         "Empire 6",
         1451
        ],
        [
         12,
         "Empire 14",
         1185
        ],
        [
         12,
         "Empire 14",
         1185
        ],
        [
         12,
         "Empire 14",
         1185
        ],
        [
         12,
         "Empire 14",
         1185
        ],
        [
         11,
         "Empire 11",
         1209
        ],
        [
         11,
         "Empire 11",
         1209
        ],
        [
         11,
         "Empire 15",
         1278
        ],
        [
         11,
         "Empire 15",
         1278
        ],
        [
         11,
         "Empire 15",
         1278
        ],
        [
         11,
         "Empire 15",
         1278
        ],
        [
         11,
         "Empire 5",
         1188
        ],
        [
         11,
         "Empire 5",
         1188
        ],
        [
         11,
         "Empire 6",
         1289
        ],
        [
         11,
         "Empire 6",
         1289
        ],
        [
         11,
         "Empire 6",
         1289
        ],
        [
         11,
         "Empire 6",
         1289
        ],
        [
         11,
         "Empire 15",
         1278
        ],
        [
         11,
         "Empire 15",
         1278
        ],
        [
         11,
         "Empire 12",
         1307
        ],
        [
         11,
         "Empire 11",
         1209
        ],
        [
         11,
         "Empire 11",
         1209
        ],
        [
         11,
         "Empire 5",
         1188
        ],
        [
         11,
         "Empire 5",
         1188
        ],
        [
         11,
         "Empire 16",
         1089
        ],
        [
         11,
         "Empire 16",
         1089
        ],
        [
         11,
         "Empire 6",
         1289
        ],
        [
         11,
         "Empire 14",
         1077
        ],
        [
         11,
         "Empire 14",
         1077
        ],
        [
         11,
         "Empire 14",
         1077
        ],
        [
         10,
         "Empire 6",
         1137
        ],
        [
         10,
         "Empire 6",
         1137
        ],
        [
         10,
         "Empire 6",
         1137
        ],
        [
         10,
         "Empire 10",
         1103
        ],
        [
         10,
         "Empire 11",
         1079
        ],
        [
         10,
         "Empire 10",
         1103
        ],
        [
         10,
         "Empire 11",
         1079
        ],
        [
         10,
         "Empire 15",
         1148
        ],
        [
         10,
         "Empire 11",
         1079
        ],
        [
         10,
         "Empire 11",
         1079
        ],
        [
         10,
         "Empire 15",
         1148
        ],
        [
         10,
         "Empire 12",
         1182
        ],
        [
         10,
         "Empire 11",
         1079
        ],
        [
         10,
         "Empire 15",
         1148
        ],
        [
         10,
         "Empire 7",
         1026
        ],
        [
         10,
         "Empire 5",
         1070
        ],
        [
         10,
         "Empire 5",
         1070
        ],
        [
         10,
         "Empire 6",
         1137
        ],
        [
         10,
         "Empire 6",
         1137
        ],
        [
         10,
         "Empire 6",
         1137
        ],
        [
         10,
         "Empire 6",
         1137
        ],
        [
         10,
         "Empire 1",
         1044
        ],
        [
         10,
         "Empire 16",
         986
        ],
        [
         10,
         "Empire 14",
         977
        ],
        [
         1,
         "Empire 22",
         262
        ],
        [
         1,
         "Empire 22",
         262
        ],
        [
         1,
         "Empire 22",
         262
        ],
        [
         1,
         "Empire 22",
         262
        ],
        [
         1,
         "Empire 22",
         262
        ],
        [
         1,
         "Empire 22",
         262
        ],
        [
         1,
         "Empire 22",
         262
        ],
        [
         1,
         "Empire 22",
         262
        ],
        [
         1,
         "Empire 22",
         262
        ],
        [
         1,
         "Empire 22",
         262
        ],
        [
         1,
         "Empire 22",
         262
        ],
        [
         1,
         "Empire 22",
         262
        ],
        [
         1,
         "Empire 22",
         262
        ],
        [
         1,
         "Empire 22",
         262
        ],
        [
         1,
         "Empire 22",
         262
        ],
        [
         1,
         "Empire 22",
         262
        ],
        [
         1,
         "Empire 22",
         262
        ],
        [
         1,
         "Empire 22",
         262
        ],
        [
         1,
         "Empire 22",
         262
        ],
        [
         1,
         "Empire 22",
         262
        ],
        [
         1,
         "Empire 22",
         262
        ],
        [
         1,
         "Empire 22",
         262
        ],
        [
         1,
         "Empire 22",
         262
        ],
        [
         1,
         "Empire 22",
         262
        ],
        [
         1,
         "Empire 22",
         262
        ],
        [
         1,
         "Empire 22",
         262
        ],
        [
         1,
         "Empire 22",
         262
        ],
        [
         1,
         "Empire 22",
         262
        ],
        [
         1,
         "Empire 22",
         262
        ],
        [
         1,
         "Empire 22",
         262
        ],
        [
         1,
         "Empire 22",
         262
        ],
        [
         1,
         "Empire 22",
         262
        ],
        [
         1,
         "Empire 22",
         262
        ],
        [
         1,
         "Empire 22",
         262
        ],
        [
         1,
         "Empire 22",
         262
        ],
        [
         1,
         "Empire 21",
         291
        ],
        [
         1,
         "Empire 21",
         291
        ],
        [
         1,
         "Empire 21",
         291
        ],
        [
         1,
         "Empire 21",
         291
        ],
        [
         1,
         "Empire 21",
         291
        ],
        [
         1,
         "Empire 21",
         291
        ],
        [
         1,
         "Empire 21",
         291
        ],
        [
         1,
         "Empire 21",
         291
        ],
        [
         1,
         "Empire 21",
         291
        ],
        [
         1,
         "Empire 21",
         291
        ],
        [
         1,
         "Empire 21",
         291
        ],
        [
         1,
         "Empire 21",
         291
        ],
        [
         1,
         "Empire 21",
         291
        ],
        [
         1,
         "Empire 21",
         291
        ],
        [
         1,
         "Empire 21",
         291
        ],
        [
         1,
         "Empire 21",
         291
        ],
        [
         1,
         "Empire 21",
         291
        ],
        [
         1,
         "Empire 21",
         291
        ],
        [
         1,
         "Empire 21",
         291
        ],
        [
         1,
         "Empire 21",
         291
        ],
        [
         1,
         "Empire 21",
         291
        ],
        [
         1,
         "Empire 21",
         291
        ],
        [
         1,
         "Empire 21",
         291
        ],
        [
         1,
         "Empire 21",
         291
        ],
        [
         1,
         "Empire 21",
         291
        ],
        [
         1,
         "Empire 21",
         291
        ],
        [
         1,
         "Empire 21",
         291
        ],
        [
         1,
         "Empire 21",
         291
        ],
        [
         1,
         "Empire 21",
         291
        ],
        [
         1,
         "Empire 21",
         291
        ],
        [
         1,
         "Empire 21",
         291
        ],
        [
         1,
         "Empire 21",
         291
        ],
        [
         1,
         "Empire 21",
         291
        ],
        [
         1,
         "Empire 21",
         291
        ],
        [
         1,
         "Empire 21",
         291
        ],
        [
         1,
         "Empire 21",
         291
        ],
        [
         1,
         "Empire 21",
         291
        ],
        [
         1,
         "Empire 21",
         291
        ],
        [
         1,
         "Empire 21",
         291
        ],
        [
         1,
         "Empire 21",
         291
        ],
        [
         1,
         "Empire 21",
         291
        ],
        [
         1,
         "Empire 21",
         291
        ],
        [
         1,
         "Empire 21",
         291
        ],
        [
         1,
         "Empire 21",
         291
        ],
        [
         1,
         "Empire 21",
         291
        ],
        [
         1,
         "Empire 21",
         291
        ],
        [
         1,
         "Empire 21",
         291
        ],
        [
         1,
         "Empire 21",
         291
        ],
        [
         1,
         "Empire 21",
         291
        ],
        [
         1,
         "Empire 21",
         291
        ],
        [
         1,
         "Empire 21",
         291
        ],
        [
         1,
         "Empire 23",
         223
        ],
        [
         1,
         "Empire 23",
         223
        ],
        [
         1,
         "Empire 23",
         223
        ],
        [
         1,
         "Empire 23",
         223
        ],
        [
         1,
         "Empire 23",
         223
        ],
        [
         1,
         "Empire 23",
         223
        ],
        [
         1,
         "Empire 23",
         223
        ],
        [
         1,
         "Empire 23",
         223
        ],
        [
         1,
         "Empire 23",
         223
        ],
        [
         1,
         "Empire 23",
         223
        ],
        [
         1,
         "Empire 23",
         223
        ],
        [
         1,
         "Empire 23",
         223
        ],
        [
         1,
         "Empire 23",
         223
        ],
        [
         1,
         "Empire 23",
         223
        ],
        [
         1,
         "Empire 23",
         223
        ],
        [
         1,
         "Empire 23",
         223
        ],
        [
         1,
         "Empire 23",
         223
        ],
        [
         1,
         "Money AI Empire",
         185
        ],
        [
         1,
         "Empire 13",
         185
        ],
        [
         1,
         "Empire 15",
         185
        ],
        [
         1,
         "Empire 15",
         185
        ],
        [
         1,
         "Empire 10",
         185
        ],
        [
         1,
         "Empire 11",
         185
        ],
        [
         1,
         "Empire 13",
         185
        ],
        [
         1,
         "Empire 20",
         185
        ],
        [
         1,
         "Empire 20",
         185
        ],
        [
         1,
         "Empire 12",
         185
        ],
        [
         1,
         "Empire 12",
         185
        ],
        [
         1,
         "Empire 12",
         185
        ],
        [
         1,
         "Empire 5",
         185
        ],
        [
         1,
         "Empire 5",
         185
        ],
        [
         1,
         "Empire 7",
         185
        ],
        [
         1,
         "Empire 18",
         185
        ],
        [
         1,
         "Empire 5",
         185
        ],
        [
         1,
         "Empire 3",
         185
        ],
        [
         1,
         "Empire 9",
         185
        ],
        [
         1,
         "Empire 19",
         185
        ],
        [
         1,
         "Empire 8",
         185
        ],
        [
         1,
         "Empire 8",
         185
        ],
        [
         1,
         "Empire 16",
         185
        ],
        [
         1,
         "Empire 4",
         185
        ],
        [
         1,
         "Empire 1",
         185
        ],
        [
         1,
         "Empire 6",
         185
        ],
        [
         1,
         "Empire 1",
         185
        ],
        [
         1,
         "Empire 14",
         185
        ],
        [
         1,
         "Empire 4",
         185
        ],
        [
         1,
         "Empire 2",
         185
        ],
        [
         1,
         "Empire 6",
         185
        ]
       ],
       "datasetInfos": [],
       "dbfsResultPath": null,
       "isJsonSchema": true,
       "metadata": {},
       "overflow": false,
       "plotOptions": {
        "customPlotOptions": {},
        "displayType": "table",
        "pivotAggregation": null,
        "pivotColumns": null,
        "xColumns": null,
        "yColumns": null
       },
       "removedWidgets": [],
       "schema": [
        {
         "metadata": "{}",
         "name": "age",
         "type": "\"integer\""
        },
        {
         "metadata": "{}",
         "name": "empire_name",
         "type": "\"string\""
        },
        {
         "metadata": "{}",
         "name": "economy",
         "type": "\"integer\""
        }
       ],
       "type": "table"
      }
     },
     "output_type": "display_data"
    },
    {
     "output_type": "display_data",
     "data": {
      "text/html": [
       "<style scoped>\n",
       "  .table-result-container {\n",
       "    max-height: 300px;\n",
       "    overflow: auto;\n",
       "  }\n",
       "  table, th, td {\n",
       "    border: 1px solid black;\n",
       "    border-collapse: collapse;\n",
       "  }\n",
       "  th, td {\n",
       "    padding: 5px;\n",
       "  }\n",
       "  th {\n",
       "    text-align: left;\n",
       "  }\n",
       "</style><div class='table-result-container'><table class='table-result'><thead style='background-color: white'><tr><th>age</th><th>empire_name</th><th>stability</th></tr></thead><tbody><tr><td>9</td><td>Empire 11</td><td>5.0</td></tr><tr><td>9</td><td>Empire 11</td><td>5.0</td></tr><tr><td>9</td><td>Empire 6</td><td>5.0</td></tr><tr><td>9</td><td>Empire 5</td><td>5.0</td></tr><tr><td>9</td><td>Empire 6</td><td>5.0</td></tr><tr><td>9</td><td>Empire 5</td><td>5.0</td></tr><tr><td>9</td><td>Empire 6</td><td>5.0</td></tr><tr><td>9</td><td>Empire 6</td><td>5.0</td></tr><tr><td>9</td><td>Empire 7</td><td>5.0</td></tr><tr><td>9</td><td>Empire 7</td><td>5.0</td></tr><tr><td>9</td><td>Empire 16</td><td>5.0</td></tr><tr><td>9</td><td>Empire 16</td><td>5.0</td></tr><tr><td>9</td><td>Empire 14</td><td>5.0</td></tr><tr><td>9</td><td>Empire 14</td><td>5.0</td></tr><tr><td>8</td><td>Money AI Empire</td><td>5.0</td></tr><tr><td>8</td><td>Money AI Empire</td><td>5.0</td></tr><tr><td>8</td><td>Money AI Empire</td><td>5.0</td></tr><tr><td>8</td><td>Money AI Empire</td><td>5.0</td></tr><tr><td>8</td><td>Money AI Empire</td><td>5.0</td></tr><tr><td>8</td><td>Money AI Empire</td><td>5.0</td></tr><tr><td>8</td><td>Money AI Empire</td><td>5.0</td></tr><tr><td>8</td><td>Money AI Empire</td><td>5.0</td></tr><tr><td>8</td><td>Money AI Empire</td><td>5.0</td></tr><tr><td>8</td><td>Money AI Empire</td><td>5.0</td></tr><tr><td>8</td><td>Money AI Empire</td><td>5.0</td></tr><tr><td>8</td><td>Money AI Empire</td><td>5.0</td></tr><tr><td>8</td><td>Money AI Empire</td><td>5.0</td></tr><tr><td>8</td><td>Money AI Empire</td><td>5.0</td></tr><tr><td>8</td><td>Money AI Empire</td><td>5.0</td></tr><tr><td>8</td><td>Money AI Empire</td><td>5.0</td></tr><tr><td>8</td><td>Money AI Empire</td><td>5.0</td></tr><tr><td>8</td><td>Money AI Empire</td><td>5.0</td></tr><tr><td>8</td><td>Money AI Empire</td><td>5.0</td></tr><tr><td>8</td><td>Money AI Empire</td><td>5.0</td></tr><tr><td>8</td><td>Money AI Empire</td><td>5.0</td></tr><tr><td>8</td><td>Money AI Empire</td><td>5.0</td></tr><tr><td>8</td><td>Money AI Empire</td><td>5.0</td></tr><tr><td>8</td><td>Money AI Empire</td><td>5.0</td></tr><tr><td>8</td><td>Money AI Empire</td><td>5.0</td></tr><tr><td>8</td><td>Money AI Empire</td><td>5.0</td></tr><tr><td>8</td><td>Money AI Empire</td><td>5.0</td></tr><tr><td>8</td><td>Money AI Empire</td><td>5.0</td></tr><tr><td>8</td><td>Money AI Empire</td><td>5.0</td></tr><tr><td>8</td><td>Money AI Empire</td><td>5.0</td></tr><tr><td>8</td><td>Money AI Empire</td><td>5.0</td></tr><tr><td>8</td><td>Money AI Empire</td><td>5.0</td></tr><tr><td>8</td><td>Empire 6</td><td>5.0</td></tr><tr><td>8</td><td>Empire 6</td><td>5.0</td></tr><tr><td>8</td><td>Empire 11</td><td>5.0</td></tr><tr><td>8</td><td>Empire 15</td><td>5.0</td></tr><tr><td>8</td><td>Empire 11</td><td>5.0</td></tr><tr><td>8</td><td>Empire 5</td><td>5.0</td></tr><tr><td>8</td><td>Empire 6</td><td>5.0</td></tr><tr><td>8</td><td>Empire 6</td><td>5.0</td></tr><tr><td>8</td><td>Empire 6</td><td>5.0</td></tr><tr><td>8</td><td>Empire 7</td><td>5.0</td></tr><tr><td>8</td><td>Empire 16</td><td>5.0</td></tr><tr><td>8</td><td>Empire 16</td><td>5.0</td></tr><tr><td>8</td><td>Empire 14</td><td>5.0</td></tr><tr><td>8</td><td>Empire 14</td><td>5.0</td></tr><tr><td>7</td><td>Money AI Empire</td><td>5.0</td></tr><tr><td>7</td><td>Money AI Empire</td><td>5.0</td></tr><tr><td>7</td><td>Money AI Empire</td><td>5.0</td></tr><tr><td>7</td><td>Money AI Empire</td><td>5.0</td></tr><tr><td>7</td><td>Money AI Empire</td><td>5.0</td></tr><tr><td>7</td><td>Money AI Empire</td><td>5.0</td></tr><tr><td>7</td><td>Money AI Empire</td><td>5.0</td></tr><tr><td>7</td><td>Money AI Empire</td><td>5.0</td></tr><tr><td>7</td><td>Money AI Empire</td><td>5.0</td></tr><tr><td>7</td><td>Money AI Empire</td><td>5.0</td></tr><tr><td>7</td><td>Money AI Empire</td><td>5.0</td></tr><tr><td>7</td><td>Money AI Empire</td><td>5.0</td></tr><tr><td>7</td><td>Money AI Empire</td><td>5.0</td></tr><tr><td>7</td><td>Money AI Empire</td><td>5.0</td></tr><tr><td>7</td><td>Money AI Empire</td><td>5.0</td></tr><tr><td>7</td><td>Money AI Empire</td><td>5.0</td></tr><tr><td>7</td><td>Money AI Empire</td><td>5.0</td></tr><tr><td>7</td><td>Money AI Empire</td><td>5.0</td></tr><tr><td>7</td><td>Money AI Empire</td><td>5.0</td></tr><tr><td>7</td><td>Money AI Empire</td><td>5.0</td></tr><tr><td>7</td><td>Money AI Empire</td><td>5.0</td></tr><tr><td>7</td><td>Money AI Empire</td><td>5.0</td></tr><tr><td>7</td><td>Money AI Empire</td><td>5.0</td></tr><tr><td>7</td><td>Money AI Empire</td><td>5.0</td></tr><tr><td>7</td><td>Money AI Empire</td><td>5.0</td></tr><tr><td>7</td><td>Money AI Empire</td><td>5.0</td></tr><tr><td>7</td><td>Money AI Empire</td><td>5.0</td></tr><tr><td>7</td><td>Money AI Empire</td><td>5.0</td></tr><tr><td>7</td><td>Money AI Empire</td><td>5.0</td></tr><tr><td>7</td><td>Money AI Empire</td><td>5.0</td></tr><tr><td>7</td><td>Money AI Empire</td><td>5.0</td></tr><tr><td>7</td><td>Money AI Empire</td><td>5.0</td></tr><tr><td>7</td><td>Money AI Empire</td><td>5.0</td></tr><tr><td>7</td><td>Money AI Empire</td><td>5.0</td></tr><tr><td>7</td><td>Money AI Empire</td><td>5.0</td></tr><tr><td>7</td><td>Money AI Empire</td><td>5.0</td></tr><tr><td>7</td><td>Money AI Empire</td><td>5.0</td></tr><tr><td>7</td><td>Money AI Empire</td><td>5.0</td></tr><tr><td>7</td><td>Money AI Empire</td><td>5.0</td></tr><tr><td>7</td><td>Money AI Empire</td><td>5.0</td></tr><tr><td>7</td><td>Money AI Empire</td><td>5.0</td></tr><tr><td>7</td><td>Money AI Empire</td><td>5.0</td></tr><tr><td>7</td><td>Money AI Empire</td><td>5.0</td></tr><tr><td>7</td><td>Money AI Empire</td><td>5.0</td></tr><tr><td>7</td><td>Money AI Empire</td><td>5.0</td></tr><tr><td>7</td><td>Money AI Empire</td><td>5.0</td></tr><tr><td>7</td><td>Money AI Empire</td><td>5.0</td></tr><tr><td>7</td><td>Money AI Empire</td><td>5.0</td></tr><tr><td>7</td><td>Money AI Empire</td><td>5.0</td></tr><tr><td>7</td><td>Money AI Empire</td><td>5.0</td></tr><tr><td>7</td><td>Money AI Empire</td><td>5.0</td></tr><tr><td>7</td><td>Money AI Empire</td><td>5.0</td></tr><tr><td>7</td><td>Money AI Empire</td><td>5.0</td></tr><tr><td>7</td><td>Money AI Empire</td><td>5.0</td></tr><tr><td>7</td><td>Money AI Empire</td><td>5.0</td></tr><tr><td>7</td><td>Money AI Empire</td><td>5.0</td></tr><tr><td>7</td><td>Money AI Empire</td><td>5.0</td></tr><tr><td>7</td><td>Money AI Empire</td><td>5.0</td></tr><tr><td>7</td><td>Money AI Empire</td><td>5.0</td></tr><tr><td>7</td><td>Money AI Empire</td><td>5.0</td></tr><tr><td>7</td><td>Money AI Empire</td><td>5.0</td></tr><tr><td>7</td><td>Money AI Empire</td><td>5.0</td></tr><tr><td>7</td><td>Money AI Empire</td><td>5.0</td></tr><tr><td>7</td><td>Money AI Empire</td><td>5.0</td></tr><tr><td>7</td><td>Money AI Empire</td><td>5.0</td></tr><tr><td>7</td><td>Money AI Empire</td><td>5.0</td></tr><tr><td>7</td><td>Money AI Empire</td><td>5.0</td></tr><tr><td>7</td><td>Money AI Empire</td><td>5.0</td></tr><tr><td>7</td><td>Money AI Empire</td><td>5.0</td></tr><tr><td>7</td><td>Money AI Empire</td><td>5.0</td></tr><tr><td>7</td><td>Money AI Empire</td><td>5.0</td></tr><tr><td>7</td><td>Money AI Empire</td><td>5.0</td></tr><tr><td>7</td><td>Money AI Empire</td><td>5.0</td></tr><tr><td>7</td><td>Money AI Empire</td><td>5.0</td></tr><tr><td>7</td><td>Money AI Empire</td><td>5.0</td></tr><tr><td>7</td><td>Money AI Empire</td><td>5.0</td></tr><tr><td>7</td><td>Money AI Empire</td><td>5.0</td></tr><tr><td>7</td><td>Money AI Empire</td><td>5.0</td></tr><tr><td>7</td><td>Money AI Empire</td><td>5.0</td></tr><tr><td>7</td><td>Money AI Empire</td><td>5.0</td></tr><tr><td>7</td><td>Money AI Empire</td><td>5.0</td></tr><tr><td>7</td><td>Money AI Empire</td><td>5.0</td></tr><tr><td>7</td><td>Money AI Empire</td><td>5.0</td></tr><tr><td>7</td><td>Money AI Empire</td><td>5.0</td></tr><tr><td>7</td><td>Money AI Empire</td><td>5.0</td></tr><tr><td>7</td><td>Money AI Empire</td><td>5.0</td></tr><tr><td>7</td><td>Money AI Empire</td><td>5.0</td></tr><tr><td>7</td><td>Money AI Empire</td><td>5.0</td></tr><tr><td>7</td><td>Money AI Empire</td><td>5.0</td></tr><tr><td>7</td><td>Money AI Empire</td><td>5.0</td></tr><tr><td>7</td><td>Money AI Empire</td><td>5.0</td></tr><tr><td>7</td><td>Money AI Empire</td><td>5.0</td></tr><tr><td>7</td><td>Money AI Empire</td><td>5.0</td></tr><tr><td>7</td><td>Money AI Empire</td><td>5.0</td></tr><tr><td>7</td><td>Money AI Empire</td><td>5.0</td></tr><tr><td>7</td><td>Money AI Empire</td><td>5.0</td></tr><tr><td>7</td><td>Money AI Empire</td><td>5.0</td></tr><tr><td>7</td><td>Money AI Empire</td><td>5.0</td></tr><tr><td>7</td><td>Money AI Empire</td><td>5.0</td></tr><tr><td>7</td><td>Money AI Empire</td><td>5.0</td></tr><tr><td>7</td><td>Money AI Empire</td><td>5.0</td></tr><tr><td>7</td><td>Money AI Empire</td><td>5.0</td></tr><tr><td>7</td><td>Money AI Empire</td><td>5.0</td></tr><tr><td>7</td><td>Money AI Empire</td><td>5.0</td></tr><tr><td>7</td><td>Money AI Empire</td><td>5.0</td></tr><tr><td>7</td><td>Money AI Empire</td><td>5.0</td></tr><tr><td>7</td><td>Money AI Empire</td><td>5.0</td></tr><tr><td>7</td><td>Money AI Empire</td><td>5.0</td></tr><tr><td>7</td><td>Money AI Empire</td><td>5.0</td></tr><tr><td>7</td><td>Money AI Empire</td><td>5.0</td></tr><tr><td>7</td><td>Money AI Empire</td><td>5.0</td></tr><tr><td>7</td><td>Money AI Empire</td><td>5.0</td></tr><tr><td>7</td><td>Money AI Empire</td><td>5.0</td></tr><tr><td>7</td><td>Money AI Empire</td><td>5.0</td></tr><tr><td>7</td><td>Money AI Empire</td><td>5.0</td></tr><tr><td>7</td><td>Money AI Empire</td><td>5.0</td></tr><tr><td>7</td><td>Money AI Empire</td><td>5.0</td></tr><tr><td>7</td><td>Money AI Empire</td><td>5.0</td></tr><tr><td>7</td><td>Money AI Empire</td><td>5.0</td></tr><tr><td>7</td><td>Money AI Empire</td><td>5.0</td></tr><tr><td>7</td><td>Money AI Empire</td><td>5.0</td></tr><tr><td>7</td><td>Money AI Empire</td><td>5.0</td></tr><tr><td>7</td><td>Money AI Empire</td><td>5.0</td></tr><tr><td>7</td><td>Money AI Empire</td><td>5.0</td></tr><tr><td>7</td><td>Money AI Empire</td><td>5.0</td></tr><tr><td>7</td><td>Money AI Empire</td><td>5.0</td></tr><tr><td>7</td><td>Money AI Empire</td><td>5.0</td></tr><tr><td>7</td><td>Money AI Empire</td><td>5.0</td></tr><tr><td>7</td><td>Money AI Empire</td><td>5.0</td></tr><tr><td>7</td><td>Money AI Empire</td><td>5.0</td></tr><tr><td>7</td><td>Money AI Empire</td><td>5.0</td></tr><tr><td>7</td><td>Money AI Empire</td><td>5.0</td></tr><tr><td>7</td><td>Money AI Empire</td><td>5.0</td></tr><tr><td>7</td><td>Empire 10</td><td>4.5</td></tr><tr><td>7</td><td>Empire 10</td><td>4.5</td></tr><tr><td>7</td><td>Empire 15</td><td>4.5</td></tr><tr><td>7</td><td>Empire 10</td><td>4.5</td></tr><tr><td>7</td><td>Empire 12</td><td>4.5</td></tr><tr><td>7</td><td>Empire 11</td><td>4.5</td></tr><tr><td>7</td><td>Empire 11</td><td>4.5</td></tr><tr><td>7</td><td>Empire 6</td><td>4.5</td></tr><tr><td>7</td><td>Empire 5</td><td>4.5</td></tr><tr><td>7</td><td>Empire 6</td><td>4.5</td></tr><tr><td>7</td><td>Empire 5</td><td>4.5</td></tr><tr><td>7</td><td>Empire 6</td><td>4.5</td></tr><tr><td>7</td><td>Empire 7</td><td>4.5</td></tr><tr><td>7</td><td>Empire 6</td><td>4.5</td></tr><tr><td>7</td><td>Empire 16</td><td>4.5</td></tr><tr><td>7</td><td>Empire 4</td><td>4.5</td></tr><tr><td>6</td><td>Money AI Empire</td><td>5.1</td></tr><tr><td>6</td><td>Money AI Empire</td><td>5.1</td></tr><tr><td>6</td><td>Money AI Empire</td><td>5.1</td></tr><tr><td>6</td><td>Money AI Empire</td><td>5.1</td></tr><tr><td>6</td><td>Money AI Empire</td><td>5.1</td></tr><tr><td>6</td><td>Money AI Empire</td><td>5.1</td></tr><tr><td>6</td><td>Money AI Empire</td><td>5.1</td></tr><tr><td>6</td><td>Money AI Empire</td><td>5.1</td></tr><tr><td>6</td><td>Money AI Empire</td><td>5.1</td></tr><tr><td>6</td><td>Money AI Empire</td><td>5.1</td></tr><tr><td>6</td><td>Money AI Empire</td><td>5.1</td></tr><tr><td>6</td><td>Money AI Empire</td><td>5.1</td></tr><tr><td>6</td><td>Money AI Empire</td><td>5.1</td></tr><tr><td>6</td><td>Money AI Empire</td><td>5.1</td></tr><tr><td>6</td><td>Money AI Empire</td><td>5.1</td></tr><tr><td>6</td><td>Money AI Empire</td><td>5.1</td></tr><tr><td>6</td><td>Money AI Empire</td><td>5.1</td></tr><tr><td>6</td><td>Money AI Empire</td><td>5.1</td></tr><tr><td>6</td><td>Money AI Empire</td><td>5.1</td></tr><tr><td>6</td><td>Money AI Empire</td><td>5.1</td></tr><tr><td>6</td><td>Money AI Empire</td><td>5.1</td></tr><tr><td>6</td><td>Money AI Empire</td><td>5.1</td></tr><tr><td>6</td><td>Money AI Empire</td><td>5.1</td></tr><tr><td>6</td><td>Money AI Empire</td><td>5.1</td></tr><tr><td>6</td><td>Money AI Empire</td><td>5.1</td></tr><tr><td>6</td><td>Money AI Empire</td><td>5.1</td></tr><tr><td>6</td><td>Money AI Empire</td><td>5.1</td></tr><tr><td>6</td><td>Money AI Empire</td><td>5.1</td></tr><tr><td>6</td><td>Money AI Empire</td><td>5.1</td></tr><tr><td>6</td><td>Money AI Empire</td><td>5.1</td></tr><tr><td>6</td><td>Money AI Empire</td><td>5.1</td></tr><tr><td>6</td><td>Money AI Empire</td><td>5.1</td></tr><tr><td>6</td><td>Money AI Empire</td><td>5.1</td></tr><tr><td>6</td><td>Money AI Empire</td><td>5.1</td></tr><tr><td>6</td><td>Money AI Empire</td><td>5.1</td></tr><tr><td>6</td><td>Money AI Empire</td><td>5.1</td></tr><tr><td>6</td><td>Money AI Empire</td><td>5.1</td></tr><tr><td>6</td><td>Money AI Empire</td><td>5.1</td></tr><tr><td>6</td><td>Money AI Empire</td><td>5.1</td></tr><tr><td>6</td><td>Money AI Empire</td><td>5.1</td></tr><tr><td>6</td><td>Money AI Empire</td><td>5.1</td></tr><tr><td>6</td><td>Money AI Empire</td><td>5.1</td></tr><tr><td>6</td><td>Money AI Empire</td><td>5.1</td></tr><tr><td>6</td><td>Money AI Empire</td><td>5.1</td></tr><tr><td>6</td><td>Money AI Empire</td><td>5.1</td></tr><tr><td>6</td><td>Money AI Empire</td><td>5.1</td></tr><tr><td>6</td><td>Money AI Empire</td><td>5.1</td></tr><tr><td>6</td><td>Money AI Empire</td><td>5.1</td></tr><tr><td>6</td><td>Money AI Empire</td><td>5.1</td></tr><tr><td>6</td><td>Money AI Empire</td><td>5.1</td></tr><tr><td>6</td><td>Money AI Empire</td><td>5.1</td></tr><tr><td>6</td><td>Money AI Empire</td><td>5.1</td></tr><tr><td>6</td><td>Money AI Empire</td><td>5.1</td></tr><tr><td>6</td><td>Money AI Empire</td><td>5.1</td></tr><tr><td>6</td><td>Money AI Empire</td><td>5.1</td></tr><tr><td>6</td><td>Money AI Empire</td><td>5.1</td></tr><tr><td>6</td><td>Money AI Empire</td><td>5.1</td></tr><tr><td>6</td><td>Money AI Empire</td><td>5.1</td></tr><tr><td>6</td><td>Money AI Empire</td><td>5.1</td></tr><tr><td>6</td><td>Money AI Empire</td><td>5.1</td></tr><tr><td>6</td><td>Money AI Empire</td><td>5.1</td></tr><tr><td>6</td><td>Money AI Empire</td><td>5.1</td></tr><tr><td>6</td><td>Money AI Empire</td><td>5.1</td></tr><tr><td>6</td><td>Money AI Empire</td><td>5.1</td></tr><tr><td>6</td><td>Money AI Empire</td><td>5.1</td></tr><tr><td>6</td><td>Money AI Empire</td><td>5.1</td></tr><tr><td>6</td><td>Money AI Empire</td><td>5.1</td></tr><tr><td>6</td><td>Money AI Empire</td><td>5.1</td></tr><tr><td>6</td><td>Money AI Empire</td><td>5.1</td></tr><tr><td>6</td><td>Money AI Empire</td><td>5.1</td></tr><tr><td>6</td><td>Money AI Empire</td><td>5.1</td></tr><tr><td>6</td><td>Money AI Empire</td><td>5.1</td></tr><tr><td>6</td><td>Money AI Empire</td><td>5.1</td></tr><tr><td>6</td><td>Money AI Empire</td><td>5.1</td></tr><tr><td>6</td><td>Money AI Empire</td><td>5.1</td></tr><tr><td>6</td><td>Money AI Empire</td><td>5.1</td></tr><tr><td>6</td><td>Money AI Empire</td><td>5.1</td></tr><tr><td>6</td><td>Money AI Empire</td><td>5.1</td></tr><tr><td>6</td><td>Money AI Empire</td><td>5.1</td></tr><tr><td>6</td><td>Money AI Empire</td><td>5.1</td></tr><tr><td>6</td><td>Money AI Empire</td><td>5.1</td></tr><tr><td>6</td><td>Money AI Empire</td><td>5.1</td></tr><tr><td>6</td><td>Money AI Empire</td><td>5.1</td></tr><tr><td>6</td><td>Money AI Empire</td><td>5.1</td></tr><tr><td>6</td><td>Money AI Empire</td><td>5.1</td></tr><tr><td>6</td><td>Money AI Empire</td><td>5.1</td></tr><tr><td>6</td><td>Money AI Empire</td><td>5.1</td></tr><tr><td>6</td><td>Money AI Empire</td><td>5.1</td></tr><tr><td>6</td><td>Money AI Empire</td><td>5.1</td></tr><tr><td>6</td><td>Money AI Empire</td><td>5.1</td></tr><tr><td>6</td><td>Money AI Empire</td><td>5.1</td></tr><tr><td>6</td><td>Money AI Empire</td><td>5.1</td></tr><tr><td>6</td><td>Money AI Empire</td><td>5.1</td></tr><tr><td>6</td><td>Money AI Empire</td><td>5.1</td></tr><tr><td>6</td><td>Money AI Empire</td><td>5.1</td></tr><tr><td>6</td><td>Money AI Empire</td><td>5.1</td></tr><tr><td>6</td><td>Money AI Empire</td><td>5.1</td></tr><tr><td>6</td><td>Money AI Empire</td><td>5.1</td></tr><tr><td>6</td><td>Money AI Empire</td><td>5.1</td></tr><tr><td>6</td><td>Money AI Empire</td><td>5.1</td></tr><tr><td>6</td><td>Money AI Empire</td><td>5.1</td></tr><tr><td>6</td><td>Money AI Empire</td><td>5.1</td></tr><tr><td>6</td><td>Money AI Empire</td><td>5.1</td></tr><tr><td>6</td><td>Money AI Empire</td><td>5.1</td></tr><tr><td>6</td><td>Money AI Empire</td><td>5.1</td></tr><tr><td>6</td><td>Money AI Empire</td><td>5.1</td></tr><tr><td>6</td><td>Money AI Empire</td><td>5.1</td></tr><tr><td>6</td><td>Money AI Empire</td><td>5.1</td></tr><tr><td>6</td><td>Money AI Empire</td><td>5.1</td></tr><tr><td>6</td><td>Money AI Empire</td><td>5.1</td></tr><tr><td>6</td><td>Money AI Empire</td><td>5.1</td></tr><tr><td>6</td><td>Money AI Empire</td><td>5.1</td></tr><tr><td>6</td><td>Money AI Empire</td><td>5.1</td></tr><tr><td>6</td><td>Money AI Empire</td><td>5.1</td></tr><tr><td>6</td><td>Money AI Empire</td><td>5.1</td></tr><tr><td>6</td><td>Money AI Empire</td><td>5.1</td></tr><tr><td>6</td><td>Money AI Empire</td><td>5.1</td></tr><tr><td>6</td><td>Money AI Empire</td><td>5.1</td></tr><tr><td>6</td><td>Money AI Empire</td><td>5.1</td></tr><tr><td>6</td><td>Empire 10</td><td>4.0</td></tr><tr><td>6</td><td>Empire 10</td><td>4.0</td></tr><tr><td>6</td><td>Empire 10</td><td>4.0</td></tr><tr><td>6</td><td>Empire 12</td><td>4.0</td></tr><tr><td>6</td><td>Empire 12</td><td>4.0</td></tr><tr><td>6</td><td>Empire 15</td><td>4.0</td></tr><tr><td>6</td><td>Empire 13</td><td>4.0</td></tr><tr><td>6</td><td>Empire 5</td><td>4.0</td></tr><tr><td>6</td><td>Empire 7</td><td>4.0</td></tr><tr><td>6</td><td>Empire 9</td><td>4.0</td></tr><tr><td>6</td><td>Empire 5</td><td>4.0</td></tr><tr><td>6</td><td>Empire 7</td><td>4.0</td></tr><tr><td>6</td><td>Empire 9</td><td>4.0</td></tr><tr><td>6</td><td>Empire 5</td><td>4.0</td></tr><tr><td>6</td><td>Empire 3</td><td>4.0</td></tr><tr><td>6</td><td>Empire 8</td><td>4.0</td></tr><tr><td>6</td><td>Empire 14</td><td>4.0</td></tr><tr><td>6</td><td>Empire 2</td><td>4.0</td></tr><tr><td>6</td><td>Empire 6</td><td>4.0</td></tr><tr><td>5</td><td>Empire 15</td><td>3.5</td></tr><tr><td>5</td><td>Empire 15</td><td>3.5</td></tr><tr><td>5</td><td>Empire 12</td><td>3.5</td></tr><tr><td>5</td><td>Empire 12</td><td>3.5</td></tr><tr><td>5</td><td>Empire 12</td><td>3.5</td></tr><tr><td>5</td><td>Empire 10</td><td>3.5</td></tr><tr><td>5</td><td>Empire 10</td><td>3.5</td></tr><tr><td>5</td><td>Empire 11</td><td>3.5</td></tr><tr><td>5</td><td>Empire 13</td><td>3.5</td></tr><tr><td>5</td><td>Empire 11</td><td>3.5</td></tr><tr><td>5</td><td>Empire 10</td><td>3.5</td></tr><tr><td>5</td><td>Empire 10</td><td>3.5</td></tr><tr><td>5</td><td>Empire 10</td><td>3.5</td></tr><tr><td>5</td><td>Empire 3</td><td>3.5</td></tr><tr><td>5</td><td>Empire 8</td><td>3.5</td></tr><tr><td>5</td><td>Empire 16</td><td>3.5</td></tr><tr><td>5</td><td>Empire 6</td><td>3.5</td></tr><tr><td>5</td><td>Empire 2</td><td>3.5</td></tr><tr><td>5</td><td>Empire 1</td><td>3.5</td></tr><tr><td>5</td><td>Empire 1</td><td>3.5</td></tr><tr><td>5</td><td>Empire 1</td><td>3.5</td></tr><tr><td>5</td><td>Empire 4</td><td>3.5</td></tr><tr><td>5</td><td>Empire 6</td><td>3.5</td></tr><tr><td>4</td><td>Empire 22</td><td>2.02</td></tr><tr><td>4</td><td>Money AI Empire</td><td>3.1</td></tr><tr><td>4</td><td>Empire 12</td><td>3.0</td></tr><tr><td>4</td><td>Empire 12</td><td>3.0</td></tr><tr><td>4</td><td>Empire 12</td><td>3.0</td></tr><tr><td>4</td><td>Empire 15</td><td>3.0</td></tr><tr><td>4</td><td>Empire 11</td><td>3.0</td></tr><tr><td>4</td><td>Empire 15</td><td>3.0</td></tr><tr><td>4</td><td>Empire 10</td><td>3.0</td></tr><tr><td>4</td><td>Empire 15</td><td>3.0</td></tr><tr><td>4</td><td>Empire 20</td><td>3.0</td></tr><tr><td>4</td><td>Empire 2</td><td>3.0</td></tr><tr><td>4</td><td>Empire 2</td><td>3.0</td></tr><tr><td>4</td><td>Empire 6</td><td>3.0</td></tr><tr><td>4</td><td>Empire 6</td><td>3.0</td></tr><tr><td>4</td><td>Empire 6</td><td>3.0</td></tr><tr><td>4</td><td>Empire 1</td><td>3.0</td></tr><tr><td>3</td><td>Empire 22</td><td>1.82</td></tr><tr><td>3</td><td>Empire 22</td><td>1.82</td></tr><tr><td>3</td><td>Empire 23</td><td>2.5</td></tr><tr><td>3</td><td>Empire 23</td><td>2.5</td></tr><tr><td>3</td><td>Empire 15</td><td>2.5</td></tr><tr><td>3</td><td>Empire 11</td><td>2.5</td></tr><tr><td>3</td><td>Empire 15</td><td>2.5</td></tr><tr><td>3</td><td>Empire 11</td><td>2.5</td></tr><tr><td>3</td><td>Empire 12</td><td>2.5</td></tr><tr><td>3</td><td>Empire 12</td><td>2.5</td></tr><tr><td>3</td><td>Empire 2</td><td>2.5</td></tr><tr><td>3</td><td>Empire 5</td><td>2.5</td></tr><tr><td>3</td><td>Empire 7</td><td>2.5</td></tr><tr><td>3</td><td>Empire 3</td><td>2.5</td></tr><tr><td>3</td><td>Empire 2</td><td>2.5</td></tr><tr><td>3</td><td>Empire 8</td><td>2.5</td></tr><tr><td>3</td><td>Empire 4</td><td>2.5</td></tr><tr><td>3</td><td>Empire 1</td><td>2.5</td></tr><tr><td>3</td><td>Empire 6</td><td>2.5</td></tr><tr><td>2</td><td>Empire 22</td><td>1.58</td></tr><tr><td>2</td><td>Empire 22</td><td>1.58</td></tr><tr><td>2</td><td>Empire 21</td><td>0.96</td></tr><tr><td>2</td><td>Empire 21</td><td>0.96</td></tr><tr><td>2</td><td>Empire 15</td><td>2.0</td></tr><tr><td>2</td><td>Empire 11</td><td>2.0</td></tr><tr><td>2</td><td>Empire 15</td><td>2.0</td></tr><tr><td>2</td><td>Empire 10</td><td>2.0</td></tr><tr><td>2</td><td>Empire 20</td><td>2.0</td></tr><tr><td>2</td><td>Empire 12</td><td>2.0</td></tr><tr><td>2</td><td>Empire 12</td><td>2.0</td></tr><tr><td>2</td><td>Empire 20</td><td>2.0</td></tr><tr><td>2</td><td>Empire 7</td><td>2.0</td></tr><tr><td>2</td><td>Empire 8</td><td>2.0</td></tr><tr><td>2</td><td>Empire 4</td><td>2.0</td></tr><tr><td>15</td><td>Money AI Empire</td><td>5.0</td></tr><tr><td>15</td><td>Money AI Empire</td><td>5.0</td></tr><tr><td>15</td><td>Money AI Empire</td><td>5.0</td></tr><tr><td>15</td><td>Money AI Empire</td><td>5.0</td></tr><tr><td>15</td><td>Money AI Empire</td><td>5.0</td></tr><tr><td>15</td><td>Money AI Empire</td><td>5.0</td></tr><tr><td>15</td><td>Money AI Empire</td><td>5.0</td></tr><tr><td>15</td><td>Money AI Empire</td><td>5.0</td></tr><tr><td>15</td><td>Money AI Empire</td><td>5.0</td></tr><tr><td>15</td><td>Money AI Empire</td><td>5.0</td></tr><tr><td>15</td><td>Money AI Empire</td><td>5.0</td></tr><tr><td>15</td><td>Money AI Empire</td><td>5.0</td></tr><tr><td>15</td><td>Money AI Empire</td><td>5.0</td></tr><tr><td>15</td><td>Money AI Empire</td><td>5.0</td></tr><tr><td>15</td><td>Money AI Empire</td><td>5.0</td></tr><tr><td>15</td><td>Money AI Empire</td><td>5.0</td></tr><tr><td>15</td><td>Money AI Empire</td><td>5.0</td></tr><tr><td>15</td><td>Money AI Empire</td><td>5.0</td></tr><tr><td>15</td><td>Money AI Empire</td><td>5.0</td></tr><tr><td>15</td><td>Money AI Empire</td><td>5.0</td></tr><tr><td>15</td><td>Money AI Empire</td><td>5.0</td></tr><tr><td>15</td><td>Money AI Empire</td><td>5.0</td></tr><tr><td>15</td><td>Money AI Empire</td><td>5.0</td></tr><tr><td>15</td><td>Money AI Empire</td><td>5.0</td></tr><tr><td>15</td><td>Money AI Empire</td><td>5.0</td></tr><tr><td>15</td><td>Money AI Empire</td><td>5.0</td></tr><tr><td>15</td><td>Money AI Empire</td><td>5.0</td></tr><tr><td>15</td><td>Money AI Empire</td><td>5.0</td></tr><tr><td>15</td><td>Money AI Empire</td><td>5.0</td></tr><tr><td>15</td><td>Money AI Empire</td><td>5.0</td></tr><tr><td>15</td><td>Money AI Empire</td><td>5.0</td></tr><tr><td>15</td><td>Money AI Empire</td><td>5.0</td></tr><tr><td>15</td><td>Money AI Empire</td><td>5.0</td></tr><tr><td>15</td><td>Money AI Empire</td><td>5.0</td></tr><tr><td>15</td><td>Money AI Empire</td><td>5.0</td></tr><tr><td>15</td><td>Money AI Empire</td><td>5.0</td></tr><tr><td>15</td><td>Money AI Empire</td><td>5.0</td></tr><tr><td>15</td><td>Money AI Empire</td><td>5.0</td></tr><tr><td>15</td><td>Money AI Empire</td><td>5.0</td></tr><tr><td>15</td><td>Money AI Empire</td><td>5.0</td></tr><tr><td>15</td><td>Money AI Empire</td><td>5.0</td></tr><tr><td>15</td><td>Money AI Empire</td><td>5.0</td></tr><tr><td>15</td><td>Money AI Empire</td><td>5.0</td></tr><tr><td>15</td><td>Money AI Empire</td><td>5.0</td></tr><tr><td>15</td><td>Money AI Empire</td><td>5.0</td></tr><tr><td>15</td><td>Money AI Empire</td><td>5.0</td></tr><tr><td>15</td><td>Money AI Empire</td><td>5.0</td></tr><tr><td>15</td><td>Money AI Empire</td><td>5.0</td></tr><tr><td>15</td><td>Money AI Empire</td><td>5.0</td></tr><tr><td>15</td><td>Money AI Empire</td><td>5.0</td></tr><tr><td>15</td><td>Money AI Empire</td><td>5.0</td></tr><tr><td>15</td><td>Money AI Empire</td><td>5.0</td></tr><tr><td>15</td><td>Money AI Empire</td><td>5.0</td></tr><tr><td>15</td><td>Money AI Empire</td><td>5.0</td></tr><tr><td>15</td><td>Money AI Empire</td><td>5.0</td></tr><tr><td>15</td><td>Money AI Empire</td><td>5.0</td></tr><tr><td>15</td><td>Money AI Empire</td><td>5.0</td></tr><tr><td>15</td><td>Money AI Empire</td><td>5.0</td></tr><tr><td>15</td><td>Money AI Empire</td><td>5.0</td></tr><tr><td>15</td><td>Money AI Empire</td><td>5.0</td></tr><tr><td>15</td><td>Money AI Empire</td><td>5.0</td></tr><tr><td>15</td><td>Money AI Empire</td><td>5.0</td></tr><tr><td>15</td><td>Money AI Empire</td><td>5.0</td></tr><tr><td>15</td><td>Money AI Empire</td><td>5.0</td></tr><tr><td>15</td><td>Money AI Empire</td><td>5.0</td></tr><tr><td>15</td><td>Money AI Empire</td><td>5.0</td></tr><tr><td>15</td><td>Money AI Empire</td><td>5.0</td></tr><tr><td>15</td><td>Money AI Empire</td><td>5.0</td></tr><tr><td>15</td><td>Money AI Empire</td><td>5.0</td></tr><tr><td>15</td><td>Money AI Empire</td><td>5.0</td></tr><tr><td>15</td><td>Money AI Empire</td><td>5.0</td></tr><tr><td>15</td><td>Money AI Empire</td><td>5.0</td></tr><tr><td>15</td><td>Money AI Empire</td><td>5.0</td></tr><tr><td>12</td><td>Empire 6</td><td>5.0</td></tr><tr><td>12</td><td>Empire 6</td><td>5.0</td></tr><tr><td>12</td><td>Empire 11</td><td>5.0</td></tr><tr><td>12</td><td>Empire 11</td><td>5.0</td></tr><tr><td>12</td><td>Empire 5</td><td>5.0</td></tr><tr><td>12</td><td>Empire 5</td><td>5.0</td></tr><tr><td>12</td><td>Empire 11</td><td>5.0</td></tr><tr><td>12</td><td>Empire 15</td><td>5.0</td></tr><tr><td>12</td><td>Empire 15</td><td>5.0</td></tr><tr><td>12</td><td>Empire 15</td><td>5.0</td></tr><tr><td>12</td><td>Empire 15</td><td>5.0</td></tr><tr><td>12</td><td>Empire 16</td><td>5.0</td></tr><tr><td>12</td><td>Empire 15</td><td>5.0</td></tr><tr><td>12</td><td>Empire 6</td><td>5.0</td></tr><tr><td>12</td><td>Empire 5</td><td>5.0</td></tr><tr><td>12</td><td>Empire 5</td><td>5.0</td></tr><tr><td>12</td><td>Empire 5</td><td>5.0</td></tr><tr><td>12</td><td>Empire 16</td><td>5.0</td></tr><tr><td>12</td><td>Empire 16</td><td>5.0</td></tr><tr><td>12</td><td>Empire 6</td><td>5.0</td></tr><tr><td>12</td><td>Empire 14</td><td>5.0</td></tr><tr><td>12</td><td>Empire 14</td><td>5.0</td></tr><tr><td>12</td><td>Empire 14</td><td>5.0</td></tr><tr><td>12</td><td>Empire 14</td><td>5.0</td></tr><tr><td>11</td><td>Empire 11</td><td>5.0</td></tr><tr><td>11</td><td>Empire 11</td><td>5.0</td></tr><tr><td>11</td><td>Empire 15</td><td>5.0</td></tr><tr><td>11</td><td>Empire 15</td><td>5.0</td></tr><tr><td>11</td><td>Empire 15</td><td>5.0</td></tr><tr><td>11</td><td>Empire 15</td><td>5.0</td></tr><tr><td>11</td><td>Empire 5</td><td>5.0</td></tr><tr><td>11</td><td>Empire 5</td><td>5.0</td></tr><tr><td>11</td><td>Empire 6</td><td>5.0</td></tr><tr><td>11</td><td>Empire 6</td><td>5.0</td></tr><tr><td>11</td><td>Empire 6</td><td>5.0</td></tr><tr><td>11</td><td>Empire 6</td><td>5.0</td></tr><tr><td>11</td><td>Empire 15</td><td>5.0</td></tr><tr><td>11</td><td>Empire 15</td><td>5.0</td></tr><tr><td>11</td><td>Empire 12</td><td>5.0</td></tr><tr><td>11</td><td>Empire 11</td><td>5.0</td></tr><tr><td>11</td><td>Empire 11</td><td>5.0</td></tr><tr><td>11</td><td>Empire 5</td><td>5.0</td></tr><tr><td>11</td><td>Empire 5</td><td>5.0</td></tr><tr><td>11</td><td>Empire 16</td><td>5.0</td></tr><tr><td>11</td><td>Empire 16</td><td>5.0</td></tr><tr><td>11</td><td>Empire 6</td><td>5.0</td></tr><tr><td>11</td><td>Empire 14</td><td>5.0</td></tr><tr><td>11</td><td>Empire 14</td><td>5.0</td></tr><tr><td>11</td><td>Empire 14</td><td>5.0</td></tr><tr><td>10</td><td>Empire 6</td><td>5.0</td></tr><tr><td>10</td><td>Empire 6</td><td>5.0</td></tr><tr><td>10</td><td>Empire 6</td><td>5.0</td></tr><tr><td>10</td><td>Empire 10</td><td>5.0</td></tr><tr><td>10</td><td>Empire 11</td><td>5.0</td></tr><tr><td>10</td><td>Empire 10</td><td>5.0</td></tr><tr><td>10</td><td>Empire 11</td><td>5.0</td></tr><tr><td>10</td><td>Empire 15</td><td>5.0</td></tr><tr><td>10</td><td>Empire 11</td><td>5.0</td></tr><tr><td>10</td><td>Empire 11</td><td>5.0</td></tr><tr><td>10</td><td>Empire 15</td><td>5.0</td></tr><tr><td>10</td><td>Empire 12</td><td>5.0</td></tr><tr><td>10</td><td>Empire 11</td><td>5.0</td></tr><tr><td>10</td><td>Empire 15</td><td>5.0</td></tr><tr><td>10</td><td>Empire 7</td><td>5.0</td></tr><tr><td>10</td><td>Empire 5</td><td>5.0</td></tr><tr><td>10</td><td>Empire 5</td><td>5.0</td></tr><tr><td>10</td><td>Empire 6</td><td>5.0</td></tr><tr><td>10</td><td>Empire 6</td><td>5.0</td></tr><tr><td>10</td><td>Empire 6</td><td>5.0</td></tr><tr><td>10</td><td>Empire 6</td><td>5.0</td></tr><tr><td>10</td><td>Empire 1</td><td>5.0</td></tr><tr><td>10</td><td>Empire 16</td><td>5.0</td></tr><tr><td>10</td><td>Empire 14</td><td>5.0</td></tr><tr><td>1</td><td>Empire 22</td><td>1.3</td></tr><tr><td>1</td><td>Empire 22</td><td>1.3</td></tr><tr><td>1</td><td>Empire 22</td><td>1.3</td></tr><tr><td>1</td><td>Empire 22</td><td>1.3</td></tr><tr><td>1</td><td>Empire 22</td><td>1.3</td></tr><tr><td>1</td><td>Empire 22</td><td>1.3</td></tr><tr><td>1</td><td>Empire 22</td><td>1.3</td></tr><tr><td>1</td><td>Empire 22</td><td>1.3</td></tr><tr><td>1</td><td>Empire 22</td><td>1.3</td></tr><tr><td>1</td><td>Empire 22</td><td>1.3</td></tr><tr><td>1</td><td>Empire 22</td><td>1.3</td></tr><tr><td>1</td><td>Empire 22</td><td>1.3</td></tr><tr><td>1</td><td>Empire 22</td><td>1.3</td></tr><tr><td>1</td><td>Empire 22</td><td>1.3</td></tr><tr><td>1</td><td>Empire 22</td><td>1.3</td></tr><tr><td>1</td><td>Empire 22</td><td>1.3</td></tr><tr><td>1</td><td>Empire 22</td><td>1.3</td></tr><tr><td>1</td><td>Empire 22</td><td>1.3</td></tr><tr><td>1</td><td>Empire 22</td><td>1.3</td></tr><tr><td>1</td><td>Empire 22</td><td>1.3</td></tr><tr><td>1</td><td>Empire 22</td><td>1.3</td></tr><tr><td>1</td><td>Empire 22</td><td>1.3</td></tr><tr><td>1</td><td>Empire 22</td><td>1.3</td></tr><tr><td>1</td><td>Empire 22</td><td>1.3</td></tr><tr><td>1</td><td>Empire 22</td><td>1.3</td></tr><tr><td>1</td><td>Empire 22</td><td>1.3</td></tr><tr><td>1</td><td>Empire 22</td><td>1.3</td></tr><tr><td>1</td><td>Empire 22</td><td>1.3</td></tr><tr><td>1</td><td>Empire 22</td><td>1.3</td></tr><tr><td>1</td><td>Empire 22</td><td>1.3</td></tr><tr><td>1</td><td>Empire 22</td><td>1.3</td></tr><tr><td>1</td><td>Empire 22</td><td>1.3</td></tr><tr><td>1</td><td>Empire 22</td><td>1.3</td></tr><tr><td>1</td><td>Empire 22</td><td>1.3</td></tr><tr><td>1</td><td>Empire 22</td><td>1.3</td></tr><tr><td>1</td><td>Empire 21</td><td>1.0</td></tr><tr><td>1</td><td>Empire 21</td><td>1.0</td></tr><tr><td>1</td><td>Empire 21</td><td>1.0</td></tr><tr><td>1</td><td>Empire 21</td><td>1.0</td></tr><tr><td>1</td><td>Empire 21</td><td>1.0</td></tr><tr><td>1</td><td>Empire 21</td><td>1.0</td></tr><tr><td>1</td><td>Empire 21</td><td>1.0</td></tr><tr><td>1</td><td>Empire 21</td><td>1.0</td></tr><tr><td>1</td><td>Empire 21</td><td>1.0</td></tr><tr><td>1</td><td>Empire 21</td><td>1.0</td></tr><tr><td>1</td><td>Empire 21</td><td>1.0</td></tr><tr><td>1</td><td>Empire 21</td><td>1.0</td></tr><tr><td>1</td><td>Empire 21</td><td>1.0</td></tr><tr><td>1</td><td>Empire 21</td><td>1.0</td></tr><tr><td>1</td><td>Empire 21</td><td>1.0</td></tr><tr><td>1</td><td>Empire 21</td><td>1.0</td></tr><tr><td>1</td><td>Empire 21</td><td>1.0</td></tr><tr><td>1</td><td>Empire 21</td><td>1.0</td></tr><tr><td>1</td><td>Empire 21</td><td>1.0</td></tr><tr><td>1</td><td>Empire 21</td><td>1.0</td></tr><tr><td>1</td><td>Empire 21</td><td>1.0</td></tr><tr><td>1</td><td>Empire 21</td><td>1.0</td></tr><tr><td>1</td><td>Empire 21</td><td>1.0</td></tr><tr><td>1</td><td>Empire 21</td><td>1.0</td></tr><tr><td>1</td><td>Empire 21</td><td>1.0</td></tr><tr><td>1</td><td>Empire 21</td><td>1.0</td></tr><tr><td>1</td><td>Empire 21</td><td>1.0</td></tr><tr><td>1</td><td>Empire 21</td><td>1.0</td></tr><tr><td>1</td><td>Empire 21</td><td>1.0</td></tr><tr><td>1</td><td>Empire 21</td><td>1.0</td></tr><tr><td>1</td><td>Empire 21</td><td>1.0</td></tr><tr><td>1</td><td>Empire 21</td><td>1.0</td></tr><tr><td>1</td><td>Empire 21</td><td>1.0</td></tr><tr><td>1</td><td>Empire 21</td><td>1.0</td></tr><tr><td>1</td><td>Empire 21</td><td>1.0</td></tr><tr><td>1</td><td>Empire 21</td><td>1.0</td></tr><tr><td>1</td><td>Empire 21</td><td>1.0</td></tr><tr><td>1</td><td>Empire 21</td><td>1.0</td></tr><tr><td>1</td><td>Empire 21</td><td>1.0</td></tr><tr><td>1</td><td>Empire 21</td><td>1.0</td></tr><tr><td>1</td><td>Empire 21</td><td>1.0</td></tr><tr><td>1</td><td>Empire 21</td><td>1.0</td></tr><tr><td>1</td><td>Empire 21</td><td>1.0</td></tr><tr><td>1</td><td>Empire 21</td><td>1.0</td></tr><tr><td>1</td><td>Empire 21</td><td>1.0</td></tr><tr><td>1</td><td>Empire 21</td><td>1.0</td></tr><tr><td>1</td><td>Empire 21</td><td>1.0</td></tr><tr><td>1</td><td>Empire 21</td><td>1.0</td></tr><tr><td>1</td><td>Empire 21</td><td>1.0</td></tr><tr><td>1</td><td>Empire 21</td><td>1.0</td></tr><tr><td>1</td><td>Empire 21</td><td>1.0</td></tr><tr><td>1</td><td>Empire 23</td><td>1.5</td></tr><tr><td>1</td><td>Empire 23</td><td>1.5</td></tr><tr><td>1</td><td>Empire 23</td><td>1.5</td></tr><tr><td>1</td><td>Empire 23</td><td>1.5</td></tr><tr><td>1</td><td>Empire 23</td><td>1.5</td></tr><tr><td>1</td><td>Empire 23</td><td>1.5</td></tr><tr><td>1</td><td>Empire 23</td><td>1.5</td></tr><tr><td>1</td><td>Empire 23</td><td>1.5</td></tr><tr><td>1</td><td>Empire 23</td><td>1.5</td></tr><tr><td>1</td><td>Empire 23</td><td>1.5</td></tr><tr><td>1</td><td>Empire 23</td><td>1.5</td></tr><tr><td>1</td><td>Empire 23</td><td>1.5</td></tr><tr><td>1</td><td>Empire 23</td><td>1.5</td></tr><tr><td>1</td><td>Empire 23</td><td>1.5</td></tr><tr><td>1</td><td>Empire 23</td><td>1.5</td></tr><tr><td>1</td><td>Empire 23</td><td>1.5</td></tr><tr><td>1</td><td>Empire 23</td><td>1.5</td></tr><tr><td>1</td><td>Money AI Empire</td><td>1.5</td></tr><tr><td>1</td><td>Empire 13</td><td>1.5</td></tr><tr><td>1</td><td>Empire 15</td><td>1.5</td></tr><tr><td>1</td><td>Empire 15</td><td>1.5</td></tr><tr><td>1</td><td>Empire 10</td><td>1.5</td></tr><tr><td>1</td><td>Empire 11</td><td>1.5</td></tr><tr><td>1</td><td>Empire 13</td><td>1.5</td></tr><tr><td>1</td><td>Empire 20</td><td>1.5</td></tr><tr><td>1</td><td>Empire 20</td><td>1.5</td></tr><tr><td>1</td><td>Empire 12</td><td>1.5</td></tr><tr><td>1</td><td>Empire 12</td><td>1.5</td></tr><tr><td>1</td><td>Empire 12</td><td>1.5</td></tr><tr><td>1</td><td>Empire 5</td><td>1.5</td></tr><tr><td>1</td><td>Empire 5</td><td>1.5</td></tr><tr><td>1</td><td>Empire 7</td><td>1.5</td></tr><tr><td>1</td><td>Empire 18</td><td>1.5</td></tr><tr><td>1</td><td>Empire 5</td><td>1.5</td></tr><tr><td>1</td><td>Empire 3</td><td>1.5</td></tr><tr><td>1</td><td>Empire 9</td><td>1.5</td></tr><tr><td>1</td><td>Empire 19</td><td>1.5</td></tr><tr><td>1</td><td>Empire 8</td><td>1.5</td></tr><tr><td>1</td><td>Empire 8</td><td>1.5</td></tr><tr><td>1</td><td>Empire 16</td><td>1.5</td></tr><tr><td>1</td><td>Empire 4</td><td>1.5</td></tr><tr><td>1</td><td>Empire 1</td><td>1.5</td></tr><tr><td>1</td><td>Empire 6</td><td>1.5</td></tr><tr><td>1</td><td>Empire 1</td><td>1.5</td></tr><tr><td>1</td><td>Empire 14</td><td>1.5</td></tr><tr><td>1</td><td>Empire 4</td><td>1.5</td></tr><tr><td>1</td><td>Empire 2</td><td>1.5</td></tr><tr><td>1</td><td>Empire 6</td><td>1.5</td></tr></tbody></table></div>"
      ]
     },
     "metadata": {
      "application/vnd.databricks.v1+output": {
       "addedWidgets": {},
       "aggData": [],
       "aggError": "",
       "aggOverflow": false,
       "aggSchema": [],
       "aggSeriesLimitReached": false,
       "aggType": "",
       "arguments": {},
       "columnCustomDisplayInfos": {},
       "data": [
        [
         9,
         "Empire 11",
         5.0
        ],
        [
         9,
         "Empire 11",
         5.0
        ],
        [
         9,
         "Empire 6",
         5.0
        ],
        [
         9,
         "Empire 5",
         5.0
        ],
        [
         9,
         "Empire 6",
         5.0
        ],
        [
         9,
         "Empire 5",
         5.0
        ],
        [
         9,
         "Empire 6",
         5.0
        ],
        [
         9,
         "Empire 6",
         5.0
        ],
        [
         9,
         "Empire 7",
         5.0
        ],
        [
         9,
         "Empire 7",
         5.0
        ],
        [
         9,
         "Empire 16",
         5.0
        ],
        [
         9,
         "Empire 16",
         5.0
        ],
        [
         9,
         "Empire 14",
         5.0
        ],
        [
         9,
         "Empire 14",
         5.0
        ],
        [
         8,
         "Money AI Empire",
         5.0
        ],
        [
         8,
         "Money AI Empire",
         5.0
        ],
        [
         8,
         "Money AI Empire",
         5.0
        ],
        [
         8,
         "Money AI Empire",
         5.0
        ],
        [
         8,
         "Money AI Empire",
         5.0
        ],
        [
         8,
         "Money AI Empire",
         5.0
        ],
        [
         8,
         "Money AI Empire",
         5.0
        ],
        [
         8,
         "Money AI Empire",
         5.0
        ],
        [
         8,
         "Money AI Empire",
         5.0
        ],
        [
         8,
         "Money AI Empire",
         5.0
        ],
        [
         8,
         "Money AI Empire",
         5.0
        ],
        [
         8,
         "Money AI Empire",
         5.0
        ],
        [
         8,
         "Money AI Empire",
         5.0
        ],
        [
         8,
         "Money AI Empire",
         5.0
        ],
        [
         8,
         "Money AI Empire",
         5.0
        ],
        [
         8,
         "Money AI Empire",
         5.0
        ],
        [
         8,
         "Money AI Empire",
         5.0
        ],
        [
         8,
         "Money AI Empire",
         5.0
        ],
        [
         8,
         "Money AI Empire",
         5.0
        ],
        [
         8,
         "Money AI Empire",
         5.0
        ],
        [
         8,
         "Money AI Empire",
         5.0
        ],
        [
         8,
         "Money AI Empire",
         5.0
        ],
        [
         8,
         "Money AI Empire",
         5.0
        ],
        [
         8,
         "Money AI Empire",
         5.0
        ],
        [
         8,
         "Money AI Empire",
         5.0
        ],
        [
         8,
         "Money AI Empire",
         5.0
        ],
        [
         8,
         "Money AI Empire",
         5.0
        ],
        [
         8,
         "Money AI Empire",
         5.0
        ],
        [
         8,
         "Money AI Empire",
         5.0
        ],
        [
         8,
         "Money AI Empire",
         5.0
        ],
        [
         8,
         "Money AI Empire",
         5.0
        ],
        [
         8,
         "Money AI Empire",
         5.0
        ],
        [
         8,
         "Empire 6",
         5.0
        ],
        [
         8,
         "Empire 6",
         5.0
        ],
        [
         8,
         "Empire 11",
         5.0
        ],
        [
         8,
         "Empire 15",
         5.0
        ],
        [
         8,
         "Empire 11",
         5.0
        ],
        [
         8,
         "Empire 5",
         5.0
        ],
        [
         8,
         "Empire 6",
         5.0
        ],
        [
         8,
         "Empire 6",
         5.0
        ],
        [
         8,
         "Empire 6",
         5.0
        ],
        [
         8,
         "Empire 7",
         5.0
        ],
        [
         8,
         "Empire 16",
         5.0
        ],
        [
         8,
         "Empire 16",
         5.0
        ],
        [
         8,
         "Empire 14",
         5.0
        ],
        [
         8,
         "Empire 14",
         5.0
        ],
        [
         7,
         "Money AI Empire",
         5.0
        ],
        [
         7,
         "Money AI Empire",
         5.0
        ],
        [
         7,
         "Money AI Empire",
         5.0
        ],
        [
         7,
         "Money AI Empire",
         5.0
        ],
        [
         7,
         "Money AI Empire",
         5.0
        ],
        [
         7,
         "Money AI Empire",
         5.0
        ],
        [
         7,
         "Money AI Empire",
         5.0
        ],
        [
         7,
         "Money AI Empire",
         5.0
        ],
        [
         7,
         "Money AI Empire",
         5.0
        ],
        [
         7,
         "Money AI Empire",
         5.0
        ],
        [
         7,
         "Money AI Empire",
         5.0
        ],
        [
         7,
         "Money AI Empire",
         5.0
        ],
        [
         7,
         "Money AI Empire",
         5.0
        ],
        [
         7,
         "Money AI Empire",
         5.0
        ],
        [
         7,
         "Money AI Empire",
         5.0
        ],
        [
         7,
         "Money AI Empire",
         5.0
        ],
        [
         7,
         "Money AI Empire",
         5.0
        ],
        [
         7,
         "Money AI Empire",
         5.0
        ],
        [
         7,
         "Money AI Empire",
         5.0
        ],
        [
         7,
         "Money AI Empire",
         5.0
        ],
        [
         7,
         "Money AI Empire",
         5.0
        ],
        [
         7,
         "Money AI Empire",
         5.0
        ],
        [
         7,
         "Money AI Empire",
         5.0
        ],
        [
         7,
         "Money AI Empire",
         5.0
        ],
        [
         7,
         "Money AI Empire",
         5.0
        ],
        [
         7,
         "Money AI Empire",
         5.0
        ],
        [
         7,
         "Money AI Empire",
         5.0
        ],
        [
         7,
         "Money AI Empire",
         5.0
        ],
        [
         7,
         "Money AI Empire",
         5.0
        ],
        [
         7,
         "Money AI Empire",
         5.0
        ],
        [
         7,
         "Money AI Empire",
         5.0
        ],
        [
         7,
         "Money AI Empire",
         5.0
        ],
        [
         7,
         "Money AI Empire",
         5.0
        ],
        [
         7,
         "Money AI Empire",
         5.0
        ],
        [
         7,
         "Money AI Empire",
         5.0
        ],
        [
         7,
         "Money AI Empire",
         5.0
        ],
        [
         7,
         "Money AI Empire",
         5.0
        ],
        [
         7,
         "Money AI Empire",
         5.0
        ],
        [
         7,
         "Money AI Empire",
         5.0
        ],
        [
         7,
         "Money AI Empire",
         5.0
        ],
        [
         7,
         "Money AI Empire",
         5.0
        ],
        [
         7,
         "Money AI Empire",
         5.0
        ],
        [
         7,
         "Money AI Empire",
         5.0
        ],
        [
         7,
         "Money AI Empire",
         5.0
        ],
        [
         7,
         "Money AI Empire",
         5.0
        ],
        [
         7,
         "Money AI Empire",
         5.0
        ],
        [
         7,
         "Money AI Empire",
         5.0
        ],
        [
         7,
         "Money AI Empire",
         5.0
        ],
        [
         7,
         "Money AI Empire",
         5.0
        ],
        [
         7,
         "Money AI Empire",
         5.0
        ],
        [
         7,
         "Money AI Empire",
         5.0
        ],
        [
         7,
         "Money AI Empire",
         5.0
        ],
        [
         7,
         "Money AI Empire",
         5.0
        ],
        [
         7,
         "Money AI Empire",
         5.0
        ],
        [
         7,
         "Money AI Empire",
         5.0
        ],
        [
         7,
         "Money AI Empire",
         5.0
        ],
        [
         7,
         "Money AI Empire",
         5.0
        ],
        [
         7,
         "Money AI Empire",
         5.0
        ],
        [
         7,
         "Money AI Empire",
         5.0
        ],
        [
         7,
         "Money AI Empire",
         5.0
        ],
        [
         7,
         "Money AI Empire",
         5.0
        ],
        [
         7,
         "Money AI Empire",
         5.0
        ],
        [
         7,
         "Money AI Empire",
         5.0
        ],
        [
         7,
         "Money AI Empire",
         5.0
        ],
        [
         7,
         "Money AI Empire",
         5.0
        ],
        [
         7,
         "Money AI Empire",
         5.0
        ],
        [
         7,
         "Money AI Empire",
         5.0
        ],
        [
         7,
         "Money AI Empire",
         5.0
        ],
        [
         7,
         "Money AI Empire",
         5.0
        ],
        [
         7,
         "Money AI Empire",
         5.0
        ],
        [
         7,
         "Money AI Empire",
         5.0
        ],
        [
         7,
         "Money AI Empire",
         5.0
        ],
        [
         7,
         "Money AI Empire",
         5.0
        ],
        [
         7,
         "Money AI Empire",
         5.0
        ],
        [
         7,
         "Money AI Empire",
         5.0
        ],
        [
         7,
         "Money AI Empire",
         5.0
        ],
        [
         7,
         "Money AI Empire",
         5.0
        ],
        [
         7,
         "Money AI Empire",
         5.0
        ],
        [
         7,
         "Money AI Empire",
         5.0
        ],
        [
         7,
         "Money AI Empire",
         5.0
        ],
        [
         7,
         "Money AI Empire",
         5.0
        ],
        [
         7,
         "Money AI Empire",
         5.0
        ],
        [
         7,
         "Money AI Empire",
         5.0
        ],
        [
         7,
         "Money AI Empire",
         5.0
        ],
        [
         7,
         "Money AI Empire",
         5.0
        ],
        [
         7,
         "Money AI Empire",
         5.0
        ],
        [
         7,
         "Money AI Empire",
         5.0
        ],
        [
         7,
         "Money AI Empire",
         5.0
        ],
        [
         7,
         "Money AI Empire",
         5.0
        ],
        [
         7,
         "Money AI Empire",
         5.0
        ],
        [
         7,
         "Money AI Empire",
         5.0
        ],
        [
         7,
         "Money AI Empire",
         5.0
        ],
        [
         7,
         "Money AI Empire",
         5.0
        ],
        [
         7,
         "Money AI Empire",
         5.0
        ],
        [
         7,
         "Money AI Empire",
         5.0
        ],
        [
         7,
         "Money AI Empire",
         5.0
        ],
        [
         7,
         "Money AI Empire",
         5.0
        ],
        [
         7,
         "Money AI Empire",
         5.0
        ],
        [
         7,
         "Money AI Empire",
         5.0
        ],
        [
         7,
         "Money AI Empire",
         5.0
        ],
        [
         7,
         "Money AI Empire",
         5.0
        ],
        [
         7,
         "Money AI Empire",
         5.0
        ],
        [
         7,
         "Money AI Empire",
         5.0
        ],
        [
         7,
         "Money AI Empire",
         5.0
        ],
        [
         7,
         "Money AI Empire",
         5.0
        ],
        [
         7,
         "Money AI Empire",
         5.0
        ],
        [
         7,
         "Money AI Empire",
         5.0
        ],
        [
         7,
         "Money AI Empire",
         5.0
        ],
        [
         7,
         "Money AI Empire",
         5.0
        ],
        [
         7,
         "Money AI Empire",
         5.0
        ],
        [
         7,
         "Money AI Empire",
         5.0
        ],
        [
         7,
         "Money AI Empire",
         5.0
        ],
        [
         7,
         "Money AI Empire",
         5.0
        ],
        [
         7,
         "Money AI Empire",
         5.0
        ],
        [
         7,
         "Money AI Empire",
         5.0
        ],
        [
         7,
         "Money AI Empire",
         5.0
        ],
        [
         7,
         "Money AI Empire",
         5.0
        ],
        [
         7,
         "Money AI Empire",
         5.0
        ],
        [
         7,
         "Money AI Empire",
         5.0
        ],
        [
         7,
         "Money AI Empire",
         5.0
        ],
        [
         7,
         "Money AI Empire",
         5.0
        ],
        [
         7,
         "Money AI Empire",
         5.0
        ],
        [
         7,
         "Money AI Empire",
         5.0
        ],
        [
         7,
         "Money AI Empire",
         5.0
        ],
        [
         7,
         "Money AI Empire",
         5.0
        ],
        [
         7,
         "Money AI Empire",
         5.0
        ],
        [
         7,
         "Money AI Empire",
         5.0
        ],
        [
         7,
         "Money AI Empire",
         5.0
        ],
        [
         7,
         "Money AI Empire",
         5.0
        ],
        [
         7,
         "Money AI Empire",
         5.0
        ],
        [
         7,
         "Money AI Empire",
         5.0
        ],
        [
         7,
         "Money AI Empire",
         5.0
        ],
        [
         7,
         "Money AI Empire",
         5.0
        ],
        [
         7,
         "Empire 10",
         4.5
        ],
        [
         7,
         "Empire 10",
         4.5
        ],
        [
         7,
         "Empire 15",
         4.5
        ],
        [
         7,
         "Empire 10",
         4.5
        ],
        [
         7,
         "Empire 12",
         4.5
        ],
        [
         7,
         "Empire 11",
         4.5
        ],
        [
         7,
         "Empire 11",
         4.5
        ],
        [
         7,
         "Empire 6",
         4.5
        ],
        [
         7,
         "Empire 5",
         4.5
        ],
        [
         7,
         "Empire 6",
         4.5
        ],
        [
         7,
         "Empire 5",
         4.5
        ],
        [
         7,
         "Empire 6",
         4.5
        ],
        [
         7,
         "Empire 7",
         4.5
        ],
        [
         7,
         "Empire 6",
         4.5
        ],
        [
         7,
         "Empire 16",
         4.5
        ],
        [
         7,
         "Empire 4",
         4.5
        ],
        [
         6,
         "Money AI Empire",
         5.1
        ],
        [
         6,
         "Money AI Empire",
         5.1
        ],
        [
         6,
         "Money AI Empire",
         5.1
        ],
        [
         6,
         "Money AI Empire",
         5.1
        ],
        [
         6,
         "Money AI Empire",
         5.1
        ],
        [
         6,
         "Money AI Empire",
         5.1
        ],
        [
         6,
         "Money AI Empire",
         5.1
        ],
        [
         6,
         "Money AI Empire",
         5.1
        ],
        [
         6,
         "Money AI Empire",
         5.1
        ],
        [
         6,
         "Money AI Empire",
         5.1
        ],
        [
         6,
         "Money AI Empire",
         5.1
        ],
        [
         6,
         "Money AI Empire",
         5.1
        ],
        [
         6,
         "Money AI Empire",
         5.1
        ],
        [
         6,
         "Money AI Empire",
         5.1
        ],
        [
         6,
         "Money AI Empire",
         5.1
        ],
        [
         6,
         "Money AI Empire",
         5.1
        ],
        [
         6,
         "Money AI Empire",
         5.1
        ],
        [
         6,
         "Money AI Empire",
         5.1
        ],
        [
         6,
         "Money AI Empire",
         5.1
        ],
        [
         6,
         "Money AI Empire",
         5.1
        ],
        [
         6,
         "Money AI Empire",
         5.1
        ],
        [
         6,
         "Money AI Empire",
         5.1
        ],
        [
         6,
         "Money AI Empire",
         5.1
        ],
        [
         6,
         "Money AI Empire",
         5.1
        ],
        [
         6,
         "Money AI Empire",
         5.1
        ],
        [
         6,
         "Money AI Empire",
         5.1
        ],
        [
         6,
         "Money AI Empire",
         5.1
        ],
        [
         6,
         "Money AI Empire",
         5.1
        ],
        [
         6,
         "Money AI Empire",
         5.1
        ],
        [
         6,
         "Money AI Empire",
         5.1
        ],
        [
         6,
         "Money AI Empire",
         5.1
        ],
        [
         6,
         "Money AI Empire",
         5.1
        ],
        [
         6,
         "Money AI Empire",
         5.1
        ],
        [
         6,
         "Money AI Empire",
         5.1
        ],
        [
         6,
         "Money AI Empire",
         5.1
        ],
        [
         6,
         "Money AI Empire",
         5.1
        ],
        [
         6,
         "Money AI Empire",
         5.1
        ],
        [
         6,
         "Money AI Empire",
         5.1
        ],
        [
         6,
         "Money AI Empire",
         5.1
        ],
        [
         6,
         "Money AI Empire",
         5.1
        ],
        [
         6,
         "Money AI Empire",
         5.1
        ],
        [
         6,
         "Money AI Empire",
         5.1
        ],
        [
         6,
         "Money AI Empire",
         5.1
        ],
        [
         6,
         "Money AI Empire",
         5.1
        ],
        [
         6,
         "Money AI Empire",
         5.1
        ],
        [
         6,
         "Money AI Empire",
         5.1
        ],
        [
         6,
         "Money AI Empire",
         5.1
        ],
        [
         6,
         "Money AI Empire",
         5.1
        ],
        [
         6,
         "Money AI Empire",
         5.1
        ],
        [
         6,
         "Money AI Empire",
         5.1
        ],
        [
         6,
         "Money AI Empire",
         5.1
        ],
        [
         6,
         "Money AI Empire",
         5.1
        ],
        [
         6,
         "Money AI Empire",
         5.1
        ],
        [
         6,
         "Money AI Empire",
         5.1
        ],
        [
         6,
         "Money AI Empire",
         5.1
        ],
        [
         6,
         "Money AI Empire",
         5.1
        ],
        [
         6,
         "Money AI Empire",
         5.1
        ],
        [
         6,
         "Money AI Empire",
         5.1
        ],
        [
         6,
         "Money AI Empire",
         5.1
        ],
        [
         6,
         "Money AI Empire",
         5.1
        ],
        [
         6,
         "Money AI Empire",
         5.1
        ],
        [
         6,
         "Money AI Empire",
         5.1
        ],
        [
         6,
         "Money AI Empire",
         5.1
        ],
        [
         6,
         "Money AI Empire",
         5.1
        ],
        [
         6,
         "Money AI Empire",
         5.1
        ],
        [
         6,
         "Money AI Empire",
         5.1
        ],
        [
         6,
         "Money AI Empire",
         5.1
        ],
        [
         6,
         "Money AI Empire",
         5.1
        ],
        [
         6,
         "Money AI Empire",
         5.1
        ],
        [
         6,
         "Money AI Empire",
         5.1
        ],
        [
         6,
         "Money AI Empire",
         5.1
        ],
        [
         6,
         "Money AI Empire",
         5.1
        ],
        [
         6,
         "Money AI Empire",
         5.1
        ],
        [
         6,
         "Money AI Empire",
         5.1
        ],
        [
         6,
         "Money AI Empire",
         5.1
        ],
        [
         6,
         "Money AI Empire",
         5.1
        ],
        [
         6,
         "Money AI Empire",
         5.1
        ],
        [
         6,
         "Money AI Empire",
         5.1
        ],
        [
         6,
         "Money AI Empire",
         5.1
        ],
        [
         6,
         "Money AI Empire",
         5.1
        ],
        [
         6,
         "Money AI Empire",
         5.1
        ],
        [
         6,
         "Money AI Empire",
         5.1
        ],
        [
         6,
         "Money AI Empire",
         5.1
        ],
        [
         6,
         "Money AI Empire",
         5.1
        ],
        [
         6,
         "Money AI Empire",
         5.1
        ],
        [
         6,
         "Money AI Empire",
         5.1
        ],
        [
         6,
         "Money AI Empire",
         5.1
        ],
        [
         6,
         "Money AI Empire",
         5.1
        ],
        [
         6,
         "Money AI Empire",
         5.1
        ],
        [
         6,
         "Money AI Empire",
         5.1
        ],
        [
         6,
         "Money AI Empire",
         5.1
        ],
        [
         6,
         "Money AI Empire",
         5.1
        ],
        [
         6,
         "Money AI Empire",
         5.1
        ],
        [
         6,
         "Money AI Empire",
         5.1
        ],
        [
         6,
         "Money AI Empire",
         5.1
        ],
        [
         6,
         "Money AI Empire",
         5.1
        ],
        [
         6,
         "Money AI Empire",
         5.1
        ],
        [
         6,
         "Money AI Empire",
         5.1
        ],
        [
         6,
         "Money AI Empire",
         5.1
        ],
        [
         6,
         "Money AI Empire",
         5.1
        ],
        [
         6,
         "Money AI Empire",
         5.1
        ],
        [
         6,
         "Money AI Empire",
         5.1
        ],
        [
         6,
         "Money AI Empire",
         5.1
        ],
        [
         6,
         "Money AI Empire",
         5.1
        ],
        [
         6,
         "Money AI Empire",
         5.1
        ],
        [
         6,
         "Money AI Empire",
         5.1
        ],
        [
         6,
         "Money AI Empire",
         5.1
        ],
        [
         6,
         "Money AI Empire",
         5.1
        ],
        [
         6,
         "Money AI Empire",
         5.1
        ],
        [
         6,
         "Money AI Empire",
         5.1
        ],
        [
         6,
         "Money AI Empire",
         5.1
        ],
        [
         6,
         "Money AI Empire",
         5.1
        ],
        [
         6,
         "Money AI Empire",
         5.1
        ],
        [
         6,
         "Money AI Empire",
         5.1
        ],
        [
         6,
         "Money AI Empire",
         5.1
        ],
        [
         6,
         "Money AI Empire",
         5.1
        ],
        [
         6,
         "Money AI Empire",
         5.1
        ],
        [
         6,
         "Money AI Empire",
         5.1
        ],
        [
         6,
         "Money AI Empire",
         5.1
        ],
        [
         6,
         "Empire 10",
         4.0
        ],
        [
         6,
         "Empire 10",
         4.0
        ],
        [
         6,
         "Empire 10",
         4.0
        ],
        [
         6,
         "Empire 12",
         4.0
        ],
        [
         6,
         "Empire 12",
         4.0
        ],
        [
         6,
         "Empire 15",
         4.0
        ],
        [
         6,
         "Empire 13",
         4.0
        ],
        [
         6,
         "Empire 5",
         4.0
        ],
        [
         6,
         "Empire 7",
         4.0
        ],
        [
         6,
         "Empire 9",
         4.0
        ],
        [
         6,
         "Empire 5",
         4.0
        ],
        [
         6,
         "Empire 7",
         4.0
        ],
        [
         6,
         "Empire 9",
         4.0
        ],
        [
         6,
         "Empire 5",
         4.0
        ],
        [
         6,
         "Empire 3",
         4.0
        ],
        [
         6,
         "Empire 8",
         4.0
        ],
        [
         6,
         "Empire 14",
         4.0
        ],
        [
         6,
         "Empire 2",
         4.0
        ],
        [
         6,
         "Empire 6",
         4.0
        ],
        [
         5,
         "Empire 15",
         3.5
        ],
        [
         5,
         "Empire 15",
         3.5
        ],
        [
         5,
         "Empire 12",
         3.5
        ],
        [
         5,
         "Empire 12",
         3.5
        ],
        [
         5,
         "Empire 12",
         3.5
        ],
        [
         5,
         "Empire 10",
         3.5
        ],
        [
         5,
         "Empire 10",
         3.5
        ],
        [
         5,
         "Empire 11",
         3.5
        ],
        [
         5,
         "Empire 13",
         3.5
        ],
        [
         5,
         "Empire 11",
         3.5
        ],
        [
         5,
         "Empire 10",
         3.5
        ],
        [
         5,
         "Empire 10",
         3.5
        ],
        [
         5,
         "Empire 10",
         3.5
        ],
        [
         5,
         "Empire 3",
         3.5
        ],
        [
         5,
         "Empire 8",
         3.5
        ],
        [
         5,
         "Empire 16",
         3.5
        ],
        [
         5,
         "Empire 6",
         3.5
        ],
        [
         5,
         "Empire 2",
         3.5
        ],
        [
         5,
         "Empire 1",
         3.5
        ],
        [
         5,
         "Empire 1",
         3.5
        ],
        [
         5,
         "Empire 1",
         3.5
        ],
        [
         5,
         "Empire 4",
         3.5
        ],
        [
         5,
         "Empire 6",
         3.5
        ],
        [
         4,
         "Empire 22",
         2.02
        ],
        [
         4,
         "Money AI Empire",
         3.1
        ],
        [
         4,
         "Empire 12",
         3.0
        ],
        [
         4,
         "Empire 12",
         3.0
        ],
        [
         4,
         "Empire 12",
         3.0
        ],
        [
         4,
         "Empire 15",
         3.0
        ],
        [
         4,
         "Empire 11",
         3.0
        ],
        [
         4,
         "Empire 15",
         3.0
        ],
        [
         4,
         "Empire 10",
         3.0
        ],
        [
         4,
         "Empire 15",
         3.0
        ],
        [
         4,
         "Empire 20",
         3.0
        ],
        [
         4,
         "Empire 2",
         3.0
        ],
        [
         4,
         "Empire 2",
         3.0
        ],
        [
         4,
         "Empire 6",
         3.0
        ],
        [
         4,
         "Empire 6",
         3.0
        ],
        [
         4,
         "Empire 6",
         3.0
        ],
        [
         4,
         "Empire 1",
         3.0
        ],
        [
         3,
         "Empire 22",
         1.82
        ],
        [
         3,
         "Empire 22",
         1.82
        ],
        [
         3,
         "Empire 23",
         2.5
        ],
        [
         3,
         "Empire 23",
         2.5
        ],
        [
         3,
         "Empire 15",
         2.5
        ],
        [
         3,
         "Empire 11",
         2.5
        ],
        [
         3,
         "Empire 15",
         2.5
        ],
        [
         3,
         "Empire 11",
         2.5
        ],
        [
         3,
         "Empire 12",
         2.5
        ],
        [
         3,
         "Empire 12",
         2.5
        ],
        [
         3,
         "Empire 2",
         2.5
        ],
        [
         3,
         "Empire 5",
         2.5
        ],
        [
         3,
         "Empire 7",
         2.5
        ],
        [
         3,
         "Empire 3",
         2.5
        ],
        [
         3,
         "Empire 2",
         2.5
        ],
        [
         3,
         "Empire 8",
         2.5
        ],
        [
         3,
         "Empire 4",
         2.5
        ],
        [
         3,
         "Empire 1",
         2.5
        ],
        [
         3,
         "Empire 6",
         2.5
        ],
        [
         2,
         "Empire 22",
         1.58
        ],
        [
         2,
         "Empire 22",
         1.58
        ],
        [
         2,
         "Empire 21",
         0.96
        ],
        [
         2,
         "Empire 21",
         0.96
        ],
        [
         2,
         "Empire 15",
         2.0
        ],
        [
         2,
         "Empire 11",
         2.0
        ],
        [
         2,
         "Empire 15",
         2.0
        ],
        [
         2,
         "Empire 10",
         2.0
        ],
        [
         2,
         "Empire 20",
         2.0
        ],
        [
         2,
         "Empire 12",
         2.0
        ],
        [
         2,
         "Empire 12",
         2.0
        ],
        [
         2,
         "Empire 20",
         2.0
        ],
        [
         2,
         "Empire 7",
         2.0
        ],
        [
         2,
         "Empire 8",
         2.0
        ],
        [
         2,
         "Empire 4",
         2.0
        ],
        [
         15,
         "Money AI Empire",
         5.0
        ],
        [
         15,
         "Money AI Empire",
         5.0
        ],
        [
         15,
         "Money AI Empire",
         5.0
        ],
        [
         15,
         "Money AI Empire",
         5.0
        ],
        [
         15,
         "Money AI Empire",
         5.0
        ],
        [
         15,
         "Money AI Empire",
         5.0
        ],
        [
         15,
         "Money AI Empire",
         5.0
        ],
        [
         15,
         "Money AI Empire",
         5.0
        ],
        [
         15,
         "Money AI Empire",
         5.0
        ],
        [
         15,
         "Money AI Empire",
         5.0
        ],
        [
         15,
         "Money AI Empire",
         5.0
        ],
        [
         15,
         "Money AI Empire",
         5.0
        ],
        [
         15,
         "Money AI Empire",
         5.0
        ],
        [
         15,
         "Money AI Empire",
         5.0
        ],
        [
         15,
         "Money AI Empire",
         5.0
        ],
        [
         15,
         "Money AI Empire",
         5.0
        ],
        [
         15,
         "Money AI Empire",
         5.0
        ],
        [
         15,
         "Money AI Empire",
         5.0
        ],
        [
         15,
         "Money AI Empire",
         5.0
        ],
        [
         15,
         "Money AI Empire",
         5.0
        ],
        [
         15,
         "Money AI Empire",
         5.0
        ],
        [
         15,
         "Money AI Empire",
         5.0
        ],
        [
         15,
         "Money AI Empire",
         5.0
        ],
        [
         15,
         "Money AI Empire",
         5.0
        ],
        [
         15,
         "Money AI Empire",
         5.0
        ],
        [
         15,
         "Money AI Empire",
         5.0
        ],
        [
         15,
         "Money AI Empire",
         5.0
        ],
        [
         15,
         "Money AI Empire",
         5.0
        ],
        [
         15,
         "Money AI Empire",
         5.0
        ],
        [
         15,
         "Money AI Empire",
         5.0
        ],
        [
         15,
         "Money AI Empire",
         5.0
        ],
        [
         15,
         "Money AI Empire",
         5.0
        ],
        [
         15,
         "Money AI Empire",
         5.0
        ],
        [
         15,
         "Money AI Empire",
         5.0
        ],
        [
         15,
         "Money AI Empire",
         5.0
        ],
        [
         15,
         "Money AI Empire",
         5.0
        ],
        [
         15,
         "Money AI Empire",
         5.0
        ],
        [
         15,
         "Money AI Empire",
         5.0
        ],
        [
         15,
         "Money AI Empire",
         5.0
        ],
        [
         15,
         "Money AI Empire",
         5.0
        ],
        [
         15,
         "Money AI Empire",
         5.0
        ],
        [
         15,
         "Money AI Empire",
         5.0
        ],
        [
         15,
         "Money AI Empire",
         5.0
        ],
        [
         15,
         "Money AI Empire",
         5.0
        ],
        [
         15,
         "Money AI Empire",
         5.0
        ],
        [
         15,
         "Money AI Empire",
         5.0
        ],
        [
         15,
         "Money AI Empire",
         5.0
        ],
        [
         15,
         "Money AI Empire",
         5.0
        ],
        [
         15,
         "Money AI Empire",
         5.0
        ],
        [
         15,
         "Money AI Empire",
         5.0
        ],
        [
         15,
         "Money AI Empire",
         5.0
        ],
        [
         15,
         "Money AI Empire",
         5.0
        ],
        [
         15,
         "Money AI Empire",
         5.0
        ],
        [
         15,
         "Money AI Empire",
         5.0
        ],
        [
         15,
         "Money AI Empire",
         5.0
        ],
        [
         15,
         "Money AI Empire",
         5.0
        ],
        [
         15,
         "Money AI Empire",
         5.0
        ],
        [
         15,
         "Money AI Empire",
         5.0
        ],
        [
         15,
         "Money AI Empire",
         5.0
        ],
        [
         15,
         "Money AI Empire",
         5.0
        ],
        [
         15,
         "Money AI Empire",
         5.0
        ],
        [
         15,
         "Money AI Empire",
         5.0
        ],
        [
         15,
         "Money AI Empire",
         5.0
        ],
        [
         15,
         "Money AI Empire",
         5.0
        ],
        [
         15,
         "Money AI Empire",
         5.0
        ],
        [
         15,
         "Money AI Empire",
         5.0
        ],
        [
         15,
         "Money AI Empire",
         5.0
        ],
        [
         15,
         "Money AI Empire",
         5.0
        ],
        [
         15,
         "Money AI Empire",
         5.0
        ],
        [
         15,
         "Money AI Empire",
         5.0
        ],
        [
         15,
         "Money AI Empire",
         5.0
        ],
        [
         15,
         "Money AI Empire",
         5.0
        ],
        [
         15,
         "Money AI Empire",
         5.0
        ],
        [
         12,
         "Empire 6",
         5.0
        ],
        [
         12,
         "Empire 6",
         5.0
        ],
        [
         12,
         "Empire 11",
         5.0
        ],
        [
         12,
         "Empire 11",
         5.0
        ],
        [
         12,
         "Empire 5",
         5.0
        ],
        [
         12,
         "Empire 5",
         5.0
        ],
        [
         12,
         "Empire 11",
         5.0
        ],
        [
         12,
         "Empire 15",
         5.0
        ],
        [
         12,
         "Empire 15",
         5.0
        ],
        [
         12,
         "Empire 15",
         5.0
        ],
        [
         12,
         "Empire 15",
         5.0
        ],
        [
         12,
         "Empire 16",
         5.0
        ],
        [
         12,
         "Empire 15",
         5.0
        ],
        [
         12,
         "Empire 6",
         5.0
        ],
        [
         12,
         "Empire 5",
         5.0
        ],
        [
         12,
         "Empire 5",
         5.0
        ],
        [
         12,
         "Empire 5",
         5.0
        ],
        [
         12,
         "Empire 16",
         5.0
        ],
        [
         12,
         "Empire 16",
         5.0
        ],
        [
         12,
         "Empire 6",
         5.0
        ],
        [
         12,
         "Empire 14",
         5.0
        ],
        [
         12,
         "Empire 14",
         5.0
        ],
        [
         12,
         "Empire 14",
         5.0
        ],
        [
         12,
         "Empire 14",
         5.0
        ],
        [
         11,
         "Empire 11",
         5.0
        ],
        [
         11,
         "Empire 11",
         5.0
        ],
        [
         11,
         "Empire 15",
         5.0
        ],
        [
         11,
         "Empire 15",
         5.0
        ],
        [
         11,
         "Empire 15",
         5.0
        ],
        [
         11,
         "Empire 15",
         5.0
        ],
        [
         11,
         "Empire 5",
         5.0
        ],
        [
         11,
         "Empire 5",
         5.0
        ],
        [
         11,
         "Empire 6",
         5.0
        ],
        [
         11,
         "Empire 6",
         5.0
        ],
        [
         11,
         "Empire 6",
         5.0
        ],
        [
         11,
         "Empire 6",
         5.0
        ],
        [
         11,
         "Empire 15",
         5.0
        ],
        [
         11,
         "Empire 15",
         5.0
        ],
        [
         11,
         "Empire 12",
         5.0
        ],
        [
         11,
         "Empire 11",
         5.0
        ],
        [
         11,
         "Empire 11",
         5.0
        ],
        [
         11,
         "Empire 5",
         5.0
        ],
        [
         11,
         "Empire 5",
         5.0
        ],
        [
         11,
         "Empire 16",
         5.0
        ],
        [
         11,
         "Empire 16",
         5.0
        ],
        [
         11,
         "Empire 6",
         5.0
        ],
        [
         11,
         "Empire 14",
         5.0
        ],
        [
         11,
         "Empire 14",
         5.0
        ],
        [
         11,
         "Empire 14",
         5.0
        ],
        [
         10,
         "Empire 6",
         5.0
        ],
        [
         10,
         "Empire 6",
         5.0
        ],
        [
         10,
         "Empire 6",
         5.0
        ],
        [
         10,
         "Empire 10",
         5.0
        ],
        [
         10,
         "Empire 11",
         5.0
        ],
        [
         10,
         "Empire 10",
         5.0
        ],
        [
         10,
         "Empire 11",
         5.0
        ],
        [
         10,
         "Empire 15",
         5.0
        ],
        [
         10,
         "Empire 11",
         5.0
        ],
        [
         10,
         "Empire 11",
         5.0
        ],
        [
         10,
         "Empire 15",
         5.0
        ],
        [
         10,
         "Empire 12",
         5.0
        ],
        [
         10,
         "Empire 11",
         5.0
        ],
        [
         10,
         "Empire 15",
         5.0
        ],
        [
         10,
         "Empire 7",
         5.0
        ],
        [
         10,
         "Empire 5",
         5.0
        ],
        [
         10,
         "Empire 5",
         5.0
        ],
        [
         10,
         "Empire 6",
         5.0
        ],
        [
         10,
         "Empire 6",
         5.0
        ],
        [
         10,
         "Empire 6",
         5.0
        ],
        [
         10,
         "Empire 6",
         5.0
        ],
        [
         10,
         "Empire 1",
         5.0
        ],
        [
         10,
         "Empire 16",
         5.0
        ],
        [
         10,
         "Empire 14",
         5.0
        ],
        [
         1,
         "Empire 22",
         1.3
        ],
        [
         1,
         "Empire 22",
         1.3
        ],
        [
         1,
         "Empire 22",
         1.3
        ],
        [
         1,
         "Empire 22",
         1.3
        ],
        [
         1,
         "Empire 22",
         1.3
        ],
        [
         1,
         "Empire 22",
         1.3
        ],
        [
         1,
         "Empire 22",
         1.3
        ],
        [
         1,
         "Empire 22",
         1.3
        ],
        [
         1,
         "Empire 22",
         1.3
        ],
        [
         1,
         "Empire 22",
         1.3
        ],
        [
         1,
         "Empire 22",
         1.3
        ],
        [
         1,
         "Empire 22",
         1.3
        ],
        [
         1,
         "Empire 22",
         1.3
        ],
        [
         1,
         "Empire 22",
         1.3
        ],
        [
         1,
         "Empire 22",
         1.3
        ],
        [
         1,
         "Empire 22",
         1.3
        ],
        [
         1,
         "Empire 22",
         1.3
        ],
        [
         1,
         "Empire 22",
         1.3
        ],
        [
         1,
         "Empire 22",
         1.3
        ],
        [
         1,
         "Empire 22",
         1.3
        ],
        [
         1,
         "Empire 22",
         1.3
        ],
        [
         1,
         "Empire 22",
         1.3
        ],
        [
         1,
         "Empire 22",
         1.3
        ],
        [
         1,
         "Empire 22",
         1.3
        ],
        [
         1,
         "Empire 22",
         1.3
        ],
        [
         1,
         "Empire 22",
         1.3
        ],
        [
         1,
         "Empire 22",
         1.3
        ],
        [
         1,
         "Empire 22",
         1.3
        ],
        [
         1,
         "Empire 22",
         1.3
        ],
        [
         1,
         "Empire 22",
         1.3
        ],
        [
         1,
         "Empire 22",
         1.3
        ],
        [
         1,
         "Empire 22",
         1.3
        ],
        [
         1,
         "Empire 22",
         1.3
        ],
        [
         1,
         "Empire 22",
         1.3
        ],
        [
         1,
         "Empire 22",
         1.3
        ],
        [
         1,
         "Empire 21",
         1.0
        ],
        [
         1,
         "Empire 21",
         1.0
        ],
        [
         1,
         "Empire 21",
         1.0
        ],
        [
         1,
         "Empire 21",
         1.0
        ],
        [
         1,
         "Empire 21",
         1.0
        ],
        [
         1,
         "Empire 21",
         1.0
        ],
        [
         1,
         "Empire 21",
         1.0
        ],
        [
         1,
         "Empire 21",
         1.0
        ],
        [
         1,
         "Empire 21",
         1.0
        ],
        [
         1,
         "Empire 21",
         1.0
        ],
        [
         1,
         "Empire 21",
         1.0
        ],
        [
         1,
         "Empire 21",
         1.0
        ],
        [
         1,
         "Empire 21",
         1.0
        ],
        [
         1,
         "Empire 21",
         1.0
        ],
        [
         1,
         "Empire 21",
         1.0
        ],
        [
         1,
         "Empire 21",
         1.0
        ],
        [
         1,
         "Empire 21",
         1.0
        ],
        [
         1,
         "Empire 21",
         1.0
        ],
        [
         1,
         "Empire 21",
         1.0
        ],
        [
         1,
         "Empire 21",
         1.0
        ],
        [
         1,
         "Empire 21",
         1.0
        ],
        [
         1,
         "Empire 21",
         1.0
        ],
        [
         1,
         "Empire 21",
         1.0
        ],
        [
         1,
         "Empire 21",
         1.0
        ],
        [
         1,
         "Empire 21",
         1.0
        ],
        [
         1,
         "Empire 21",
         1.0
        ],
        [
         1,
         "Empire 21",
         1.0
        ],
        [
         1,
         "Empire 21",
         1.0
        ],
        [
         1,
         "Empire 21",
         1.0
        ],
        [
         1,
         "Empire 21",
         1.0
        ],
        [
         1,
         "Empire 21",
         1.0
        ],
        [
         1,
         "Empire 21",
         1.0
        ],
        [
         1,
         "Empire 21",
         1.0
        ],
        [
         1,
         "Empire 21",
         1.0
        ],
        [
         1,
         "Empire 21",
         1.0
        ],
        [
         1,
         "Empire 21",
         1.0
        ],
        [
         1,
         "Empire 21",
         1.0
        ],
        [
         1,
         "Empire 21",
         1.0
        ],
        [
         1,
         "Empire 21",
         1.0
        ],
        [
         1,
         "Empire 21",
         1.0
        ],
        [
         1,
         "Empire 21",
         1.0
        ],
        [
         1,
         "Empire 21",
         1.0
        ],
        [
         1,
         "Empire 21",
         1.0
        ],
        [
         1,
         "Empire 21",
         1.0
        ],
        [
         1,
         "Empire 21",
         1.0
        ],
        [
         1,
         "Empire 21",
         1.0
        ],
        [
         1,
         "Empire 21",
         1.0
        ],
        [
         1,
         "Empire 21",
         1.0
        ],
        [
         1,
         "Empire 21",
         1.0
        ],
        [
         1,
         "Empire 21",
         1.0
        ],
        [
         1,
         "Empire 21",
         1.0
        ],
        [
         1,
         "Empire 23",
         1.5
        ],
        [
         1,
         "Empire 23",
         1.5
        ],
        [
         1,
         "Empire 23",
         1.5
        ],
        [
         1,
         "Empire 23",
         1.5
        ],
        [
         1,
         "Empire 23",
         1.5
        ],
        [
         1,
         "Empire 23",
         1.5
        ],
        [
         1,
         "Empire 23",
         1.5
        ],
        [
         1,
         "Empire 23",
         1.5
        ],
        [
         1,
         "Empire 23",
         1.5
        ],
        [
         1,
         "Empire 23",
         1.5
        ],
        [
         1,
         "Empire 23",
         1.5
        ],
        [
         1,
         "Empire 23",
         1.5
        ],
        [
         1,
         "Empire 23",
         1.5
        ],
        [
         1,
         "Empire 23",
         1.5
        ],
        [
         1,
         "Empire 23",
         1.5
        ],
        [
         1,
         "Empire 23",
         1.5
        ],
        [
         1,
         "Empire 23",
         1.5
        ],
        [
         1,
         "Money AI Empire",
         1.5
        ],
        [
         1,
         "Empire 13",
         1.5
        ],
        [
         1,
         "Empire 15",
         1.5
        ],
        [
         1,
         "Empire 15",
         1.5
        ],
        [
         1,
         "Empire 10",
         1.5
        ],
        [
         1,
         "Empire 11",
         1.5
        ],
        [
         1,
         "Empire 13",
         1.5
        ],
        [
         1,
         "Empire 20",
         1.5
        ],
        [
         1,
         "Empire 20",
         1.5
        ],
        [
         1,
         "Empire 12",
         1.5
        ],
        [
         1,
         "Empire 12",
         1.5
        ],
        [
         1,
         "Empire 12",
         1.5
        ],
        [
         1,
         "Empire 5",
         1.5
        ],
        [
         1,
         "Empire 5",
         1.5
        ],
        [
         1,
         "Empire 7",
         1.5
        ],
        [
         1,
         "Empire 18",
         1.5
        ],
        [
         1,
         "Empire 5",
         1.5
        ],
        [
         1,
         "Empire 3",
         1.5
        ],
        [
         1,
         "Empire 9",
         1.5
        ],
        [
         1,
         "Empire 19",
         1.5
        ],
        [
         1,
         "Empire 8",
         1.5
        ],
        [
         1,
         "Empire 8",
         1.5
        ],
        [
         1,
         "Empire 16",
         1.5
        ],
        [
         1,
         "Empire 4",
         1.5
        ],
        [
         1,
         "Empire 1",
         1.5
        ],
        [
         1,
         "Empire 6",
         1.5
        ],
        [
         1,
         "Empire 1",
         1.5
        ],
        [
         1,
         "Empire 14",
         1.5
        ],
        [
         1,
         "Empire 4",
         1.5
        ],
        [
         1,
         "Empire 2",
         1.5
        ],
        [
         1,
         "Empire 6",
         1.5
        ]
       ],
       "datasetInfos": [],
       "dbfsResultPath": null,
       "isJsonSchema": true,
       "metadata": {},
       "overflow": false,
       "plotOptions": {
        "customPlotOptions": {},
        "displayType": "table",
        "pivotAggregation": null,
        "pivotColumns": null,
        "xColumns": null,
        "yColumns": null
       },
       "removedWidgets": [],
       "schema": [
        {
         "metadata": "{}",
         "name": "age",
         "type": "\"integer\""
        },
        {
         "metadata": "{}",
         "name": "empire_name",
         "type": "\"string\""
        },
        {
         "metadata": "{}",
         "name": "stability",
         "type": "\"float\""
        }
       ],
       "type": "table"
      }
     },
     "output_type": "display_data"
    }
   ],
   "source": [
    "from pyspark.sql.functions import monotonically_increasing_id\n",
    "from pyspark.sql.types import IntegerType, FloatType\n",
    "# Load Delta Lake table for comparison\n",
    "delta_table_path = \"/dbfs/empire_data/newmoneymetrics1\"\n",
    "#delta_lake_path = \"/dbfs/empire_data/metrics\"  # Databricks file path for Delta table\n",
    "delta_lake_path = delta_table_path\n",
    "#metrics_df = spark.read.option(\"header\", \"true\").format(\"delta\").load(delta_lake_path)\n",
    "# Add an index column\n",
    "indexed_df = metrics_df.withColumn(\"row_index\", monotonically_increasing_id())\n",
    "\n",
    "# Filter out the first row (row_index == 0)\n",
    "metrics_df = indexed_df.filter(\"row_index != 0\").drop(\"row_index\")\n",
    "metrics_df = metrics_df.withColumn(\"age\", metrics_df[\"age\"].cast(IntegerType()))\n",
    "metrics_df = metrics_df.withColumn(\"territory_size\", metrics_df[\"territory_size\"].cast(IntegerType()))\n",
    "metrics_df = metrics_df.withColumn(\"economy\", metrics_df[\"economy\"].cast(IntegerType()))\n",
    "metrics_df = metrics_df.withColumn(\"stability\", metrics_df[\"stability\"].cast(FloatType()))\n",
    "metrics_df = metrics_df.withColumn(\"x\", metrics_df[\"x\"].cast(FloatType()))\n",
    "metrics_df = metrics_df.withColumn(\"y\", metrics_df[\"y\"].cast(FloatType()))\n",
    "# Display data table for review\n",
    "display(metrics_df)\n",
    "\n",
    "# Example visualization - territory size comparison over time\n",
    "territory_comparison_df = metrics_df.select(\"age\", \"empire_name\", \"territory_size\")\n",
    "display(territory_comparison_df)\n",
    "\n",
    "# Example visualization - economy comparison over time\n",
    "economy_comparison_df = metrics_df.select(\"age\", \"empire_name\", \"economy\")\n",
    "display(economy_comparison_df)\n",
    "\n",
    "# Example visualization - stability comparison over time\n",
    "stability_comparison_df = metrics_df.select(\"age\", \"empire_name\", \"stability\")\n",
    "display(stability_comparison_df)\n"
   ]
  },
  {
   "cell_type": "code",
   "execution_count": 0,
   "metadata": {
    "application/vnd.databricks.v1+cell": {
     "cellMetadata": {
      "byteLimit": 2048000,
      "rowLimit": 10000
     },
     "inputWidgets": {},
     "nuid": "53af5ddf-99c5-44b3-b964-4f642cd36524",
     "showTitle": false,
     "tableResultSettingsMap": {},
     "title": ""
    }
   },
   "outputs": [
    {
     "output_type": "display_data",
     "data": {
      "text/plain": [
       "\u001B[0;31m---------------------------------------------------------------------------\u001B[0m\n",
       "\u001B[0;31mNameError\u001B[0m                                 Traceback (most recent call last)\n",
       "File \u001B[0;32m<command-46078387421222>, line 1925\u001B[0m\n",
       "\u001B[1;32m   1906\u001B[0m             \u001B[38;5;66;03m# Optionally log game tick or other information\u001B[39;00m\n",
       "\u001B[1;32m   1907\u001B[0m             \u001B[38;5;66;03m# print(f\"Game tick: {game_tick}\", file=f)\u001B[39;00m\n",
       "\u001B[1;32m   1908\u001B[0m     \u001B[38;5;66;03m# finally:\u001B[39;00m\n",
       "\u001B[0;32m   (...)\u001B[0m\n",
       "\u001B[1;32m   1920\u001B[0m \n",
       "\u001B[1;32m   1921\u001B[0m     \u001B[38;5;66;03m#     pygame.display.update()\u001B[39;00m\n",
       "\u001B[1;32m   1924\u001B[0m \u001B[38;5;28;01mif\u001B[39;00m \u001B[38;5;18m__name__\u001B[39m \u001B[38;5;241m==\u001B[39m \u001B[38;5;124m\"\u001B[39m\u001B[38;5;124m__main__\u001B[39m\u001B[38;5;124m\"\u001B[39m:\n",
       "\u001B[0;32m-> 1925\u001B[0m     main()\n",
       "\n",
       "File \u001B[0;32m<command-46078387421222>, line 1894\u001B[0m, in \u001B[0;36mmain\u001B[0;34m()\u001B[0m\n",
       "\u001B[1;32m   1892\u001B[0m     turn \u001B[38;5;241m+\u001B[39m\u001B[38;5;241m=\u001B[39m \u001B[38;5;241m1\u001B[39m\n",
       "\u001B[1;32m   1893\u001B[0m     \u001B[38;5;66;03m#log_metrics_to_delta_lake(emp, path=delta_lake_path)\u001B[39;00m\n",
       "\u001B[0;32m-> 1894\u001B[0m     log_and_save_metrics(emp)\n",
       "\u001B[1;32m   1895\u001B[0m     \u001B[38;5;66;03m# Check if data was written by loading and displaying contents\u001B[39;00m\n",
       "\u001B[1;32m   1896\u001B[0m     \u001B[38;5;66;03m# metrics_snapshot = spark.read.format(\"delta\").load(delta_lake_path)\u001B[39;00m\n",
       "\u001B[1;32m   1897\u001B[0m     \u001B[38;5;66;03m# metrics_snapshot.show()\u001B[39;00m\n",
       "\u001B[1;32m   1898\u001B[0m     \u001B[38;5;66;03m# f.flush()\u001B[39;00m\n",
       "\u001B[1;32m   1900\u001B[0m game_tick \u001B[38;5;241m+\u001B[39m\u001B[38;5;241m=\u001B[39m \u001B[38;5;241m1\u001B[39m\n",
       "\n",
       "File \u001B[0;32m<command-46078387421222>, line 97\u001B[0m, in \u001B[0;36mlog_and_save_metrics\u001B[0;34m(empire)\u001B[0m\n",
       "\u001B[1;32m     92\u001B[0m mlflow\u001B[38;5;241m.\u001B[39mlog_metric(\u001B[38;5;124mf\u001B[39m\u001B[38;5;124m\"\u001B[39m\u001B[38;5;132;01m{\u001B[39;00mmetrics[\u001B[38;5;241m0\u001B[39m][\u001B[38;5;241m1\u001B[39m]\u001B[38;5;132;01m}\u001B[39;00m\u001B[38;5;124m_stability\u001B[39m\u001B[38;5;124m\"\u001B[39m, metrics[\u001B[38;5;241m4\u001B[39m][\u001B[38;5;241m1\u001B[39m])\n",
       "\u001B[1;32m     94\u001B[0m   \u001B[38;5;66;03m# Include individual tile coordinates\u001B[39;00m\n",
       "\u001B[1;32m     95\u001B[0m tile_data \u001B[38;5;241m=\u001B[39m [\n",
       "\u001B[1;32m     96\u001B[0m     (empire\u001B[38;5;241m.\u001B[39mname, empire\u001B[38;5;241m.\u001B[39mage, empire\u001B[38;5;241m.\u001B[39meconomy, empire\u001B[38;5;241m.\u001B[39mstability, tile\u001B[38;5;241m.\u001B[39mx, tile\u001B[38;5;241m.\u001B[39my)\n",
       "\u001B[0;32m---> 97\u001B[0m     \u001B[38;5;28;01mfor\u001B[39;00m tile \u001B[38;5;129;01min\u001B[39;00m territory_tiles\n",
       "\u001B[1;32m     98\u001B[0m ]\n",
       "\u001B[1;32m    100\u001B[0m \u001B[38;5;66;03m# Define columns for the DataFrame\u001B[39;00m\n",
       "\u001B[1;32m    101\u001B[0m columns \u001B[38;5;241m=\u001B[39m [\n",
       "\u001B[1;32m    102\u001B[0m     \u001B[38;5;124m\"\u001B[39m\u001B[38;5;124mempire_name\u001B[39m\u001B[38;5;124m\"\u001B[39m, \u001B[38;5;124m\"\u001B[39m\u001B[38;5;124mage\u001B[39m\u001B[38;5;124m\"\u001B[39m, \u001B[38;5;124m\"\u001B[39m\u001B[38;5;124meconomy\u001B[39m\u001B[38;5;124m\"\u001B[39m, \u001B[38;5;124m\"\u001B[39m\u001B[38;5;124mstability\u001B[39m\u001B[38;5;124m\"\u001B[39m, \u001B[38;5;124m\"\u001B[39m\u001B[38;5;124mx\u001B[39m\u001B[38;5;124m\"\u001B[39m, \u001B[38;5;124m\"\u001B[39m\u001B[38;5;124my\u001B[39m\u001B[38;5;124m\"\u001B[39m\n",
       "\u001B[1;32m    103\u001B[0m ]\n",
       "\n",
       "\u001B[0;31mNameError\u001B[0m: name 'territory_tiles' is not defined"
      ]
     },
     "metadata": {
      "application/vnd.databricks.v1+output": {
       "addedWidgets": {},
       "arguments": {},
       "datasetInfos": [],
       "jupyterProps": {
        "ename": "NameError",
        "evalue": "name 'territory_tiles' is not defined"
       },
       "metadata": {
        "errorSummary": "Command skipped"
       },
       "removedWidgets": [],
       "sqlProps": null,
       "stackFrames": [
        "\u001B[0;31m---------------------------------------------------------------------------\u001B[0m",
        "\u001B[0;31mNameError\u001B[0m                                 Traceback (most recent call last)",
        "File \u001B[0;32m<command-46078387421222>, line 1925\u001B[0m\n\u001B[1;32m   1906\u001B[0m             \u001B[38;5;66;03m# Optionally log game tick or other information\u001B[39;00m\n\u001B[1;32m   1907\u001B[0m             \u001B[38;5;66;03m# print(f\"Game tick: {game_tick}\", file=f)\u001B[39;00m\n\u001B[1;32m   1908\u001B[0m     \u001B[38;5;66;03m# finally:\u001B[39;00m\n\u001B[0;32m   (...)\u001B[0m\n\u001B[1;32m   1920\u001B[0m \n\u001B[1;32m   1921\u001B[0m     \u001B[38;5;66;03m#     pygame.display.update()\u001B[39;00m\n\u001B[1;32m   1924\u001B[0m \u001B[38;5;28;01mif\u001B[39;00m \u001B[38;5;18m__name__\u001B[39m \u001B[38;5;241m==\u001B[39m \u001B[38;5;124m\"\u001B[39m\u001B[38;5;124m__main__\u001B[39m\u001B[38;5;124m\"\u001B[39m:\n\u001B[0;32m-> 1925\u001B[0m     main()\n",
        "File \u001B[0;32m<command-46078387421222>, line 1894\u001B[0m, in \u001B[0;36mmain\u001B[0;34m()\u001B[0m\n\u001B[1;32m   1892\u001B[0m     turn \u001B[38;5;241m+\u001B[39m\u001B[38;5;241m=\u001B[39m \u001B[38;5;241m1\u001B[39m\n\u001B[1;32m   1893\u001B[0m     \u001B[38;5;66;03m#log_metrics_to_delta_lake(emp, path=delta_lake_path)\u001B[39;00m\n\u001B[0;32m-> 1894\u001B[0m     log_and_save_metrics(emp)\n\u001B[1;32m   1895\u001B[0m     \u001B[38;5;66;03m# Check if data was written by loading and displaying contents\u001B[39;00m\n\u001B[1;32m   1896\u001B[0m     \u001B[38;5;66;03m# metrics_snapshot = spark.read.format(\"delta\").load(delta_lake_path)\u001B[39;00m\n\u001B[1;32m   1897\u001B[0m     \u001B[38;5;66;03m# metrics_snapshot.show()\u001B[39;00m\n\u001B[1;32m   1898\u001B[0m     \u001B[38;5;66;03m# f.flush()\u001B[39;00m\n\u001B[1;32m   1900\u001B[0m game_tick \u001B[38;5;241m+\u001B[39m\u001B[38;5;241m=\u001B[39m \u001B[38;5;241m1\u001B[39m\n",
        "File \u001B[0;32m<command-46078387421222>, line 97\u001B[0m, in \u001B[0;36mlog_and_save_metrics\u001B[0;34m(empire)\u001B[0m\n\u001B[1;32m     92\u001B[0m mlflow\u001B[38;5;241m.\u001B[39mlog_metric(\u001B[38;5;124mf\u001B[39m\u001B[38;5;124m\"\u001B[39m\u001B[38;5;132;01m{\u001B[39;00mmetrics[\u001B[38;5;241m0\u001B[39m][\u001B[38;5;241m1\u001B[39m]\u001B[38;5;132;01m}\u001B[39;00m\u001B[38;5;124m_stability\u001B[39m\u001B[38;5;124m\"\u001B[39m, metrics[\u001B[38;5;241m4\u001B[39m][\u001B[38;5;241m1\u001B[39m])\n\u001B[1;32m     94\u001B[0m   \u001B[38;5;66;03m# Include individual tile coordinates\u001B[39;00m\n\u001B[1;32m     95\u001B[0m tile_data \u001B[38;5;241m=\u001B[39m [\n\u001B[1;32m     96\u001B[0m     (empire\u001B[38;5;241m.\u001B[39mname, empire\u001B[38;5;241m.\u001B[39mage, empire\u001B[38;5;241m.\u001B[39meconomy, empire\u001B[38;5;241m.\u001B[39mstability, tile\u001B[38;5;241m.\u001B[39mx, tile\u001B[38;5;241m.\u001B[39my)\n\u001B[0;32m---> 97\u001B[0m     \u001B[38;5;28;01mfor\u001B[39;00m tile \u001B[38;5;129;01min\u001B[39;00m territory_tiles\n\u001B[1;32m     98\u001B[0m ]\n\u001B[1;32m    100\u001B[0m \u001B[38;5;66;03m# Define columns for the DataFrame\u001B[39;00m\n\u001B[1;32m    101\u001B[0m columns \u001B[38;5;241m=\u001B[39m [\n\u001B[1;32m    102\u001B[0m     \u001B[38;5;124m\"\u001B[39m\u001B[38;5;124mempire_name\u001B[39m\u001B[38;5;124m\"\u001B[39m, \u001B[38;5;124m\"\u001B[39m\u001B[38;5;124mage\u001B[39m\u001B[38;5;124m\"\u001B[39m, \u001B[38;5;124m\"\u001B[39m\u001B[38;5;124meconomy\u001B[39m\u001B[38;5;124m\"\u001B[39m, \u001B[38;5;124m\"\u001B[39m\u001B[38;5;124mstability\u001B[39m\u001B[38;5;124m\"\u001B[39m, \u001B[38;5;124m\"\u001B[39m\u001B[38;5;124mx\u001B[39m\u001B[38;5;124m\"\u001B[39m, \u001B[38;5;124m\"\u001B[39m\u001B[38;5;124my\u001B[39m\u001B[38;5;124m\"\u001B[39m\n\u001B[1;32m    103\u001B[0m ]\n",
        "\u001B[0;31mNameError\u001B[0m: name 'territory_tiles' is not defined"
       ],
       "type": "baseError"
      }
     },
     "output_type": "display_data"
    }
   ],
   "source": [
    "%pip install org "
   ]
  },
  {
   "cell_type": "code",
   "execution_count": 0,
   "metadata": {
    "application/vnd.databricks.v1+cell": {
     "cellMetadata": {
      "byteLimit": 2048000,
      "rowLimit": 10000
     },
     "inputWidgets": {},
     "nuid": "6ed86f07-c462-4da4-8a6a-82944fa9e082",
     "showTitle": false,
     "tableResultSettingsMap": {},
     "title": ""
    }
   },
   "outputs": [
    {
     "output_type": "display_data",
     "data": {
      "text/plain": [
       "\u001B[0;31m---------------------------------------------------------------------------\u001B[0m\n",
       "\u001B[0;31mNameError\u001B[0m                                 Traceback (most recent call last)\n",
       "File \u001B[0;32m<command-46078387421222>, line 1925\u001B[0m\n",
       "\u001B[1;32m   1906\u001B[0m             \u001B[38;5;66;03m# Optionally log game tick or other information\u001B[39;00m\n",
       "\u001B[1;32m   1907\u001B[0m             \u001B[38;5;66;03m# print(f\"Game tick: {game_tick}\", file=f)\u001B[39;00m\n",
       "\u001B[1;32m   1908\u001B[0m     \u001B[38;5;66;03m# finally:\u001B[39;00m\n",
       "\u001B[0;32m   (...)\u001B[0m\n",
       "\u001B[1;32m   1920\u001B[0m \n",
       "\u001B[1;32m   1921\u001B[0m     \u001B[38;5;66;03m#     pygame.display.update()\u001B[39;00m\n",
       "\u001B[1;32m   1924\u001B[0m \u001B[38;5;28;01mif\u001B[39;00m \u001B[38;5;18m__name__\u001B[39m \u001B[38;5;241m==\u001B[39m \u001B[38;5;124m\"\u001B[39m\u001B[38;5;124m__main__\u001B[39m\u001B[38;5;124m\"\u001B[39m:\n",
       "\u001B[0;32m-> 1925\u001B[0m     main()\n",
       "\n",
       "File \u001B[0;32m<command-46078387421222>, line 1894\u001B[0m, in \u001B[0;36mmain\u001B[0;34m()\u001B[0m\n",
       "\u001B[1;32m   1892\u001B[0m     turn \u001B[38;5;241m+\u001B[39m\u001B[38;5;241m=\u001B[39m \u001B[38;5;241m1\u001B[39m\n",
       "\u001B[1;32m   1893\u001B[0m     \u001B[38;5;66;03m#log_metrics_to_delta_lake(emp, path=delta_lake_path)\u001B[39;00m\n",
       "\u001B[0;32m-> 1894\u001B[0m     log_and_save_metrics(emp)\n",
       "\u001B[1;32m   1895\u001B[0m     \u001B[38;5;66;03m# Check if data was written by loading and displaying contents\u001B[39;00m\n",
       "\u001B[1;32m   1896\u001B[0m     \u001B[38;5;66;03m# metrics_snapshot = spark.read.format(\"delta\").load(delta_lake_path)\u001B[39;00m\n",
       "\u001B[1;32m   1897\u001B[0m     \u001B[38;5;66;03m# metrics_snapshot.show()\u001B[39;00m\n",
       "\u001B[1;32m   1898\u001B[0m     \u001B[38;5;66;03m# f.flush()\u001B[39;00m\n",
       "\u001B[1;32m   1900\u001B[0m game_tick \u001B[38;5;241m+\u001B[39m\u001B[38;5;241m=\u001B[39m \u001B[38;5;241m1\u001B[39m\n",
       "\n",
       "File \u001B[0;32m<command-46078387421222>, line 97\u001B[0m, in \u001B[0;36mlog_and_save_metrics\u001B[0;34m(empire)\u001B[0m\n",
       "\u001B[1;32m     92\u001B[0m mlflow\u001B[38;5;241m.\u001B[39mlog_metric(\u001B[38;5;124mf\u001B[39m\u001B[38;5;124m\"\u001B[39m\u001B[38;5;132;01m{\u001B[39;00mmetrics[\u001B[38;5;241m0\u001B[39m][\u001B[38;5;241m1\u001B[39m]\u001B[38;5;132;01m}\u001B[39;00m\u001B[38;5;124m_stability\u001B[39m\u001B[38;5;124m\"\u001B[39m, metrics[\u001B[38;5;241m4\u001B[39m][\u001B[38;5;241m1\u001B[39m])\n",
       "\u001B[1;32m     94\u001B[0m   \u001B[38;5;66;03m# Include individual tile coordinates\u001B[39;00m\n",
       "\u001B[1;32m     95\u001B[0m tile_data \u001B[38;5;241m=\u001B[39m [\n",
       "\u001B[1;32m     96\u001B[0m     (empire\u001B[38;5;241m.\u001B[39mname, empire\u001B[38;5;241m.\u001B[39mage, empire\u001B[38;5;241m.\u001B[39meconomy, empire\u001B[38;5;241m.\u001B[39mstability, tile\u001B[38;5;241m.\u001B[39mx, tile\u001B[38;5;241m.\u001B[39my)\n",
       "\u001B[0;32m---> 97\u001B[0m     \u001B[38;5;28;01mfor\u001B[39;00m tile \u001B[38;5;129;01min\u001B[39;00m territory_tiles\n",
       "\u001B[1;32m     98\u001B[0m ]\n",
       "\u001B[1;32m    100\u001B[0m \u001B[38;5;66;03m# Define columns for the DataFrame\u001B[39;00m\n",
       "\u001B[1;32m    101\u001B[0m columns \u001B[38;5;241m=\u001B[39m [\n",
       "\u001B[1;32m    102\u001B[0m     \u001B[38;5;124m\"\u001B[39m\u001B[38;5;124mempire_name\u001B[39m\u001B[38;5;124m\"\u001B[39m, \u001B[38;5;124m\"\u001B[39m\u001B[38;5;124mage\u001B[39m\u001B[38;5;124m\"\u001B[39m, \u001B[38;5;124m\"\u001B[39m\u001B[38;5;124meconomy\u001B[39m\u001B[38;5;124m\"\u001B[39m, \u001B[38;5;124m\"\u001B[39m\u001B[38;5;124mstability\u001B[39m\u001B[38;5;124m\"\u001B[39m, \u001B[38;5;124m\"\u001B[39m\u001B[38;5;124mx\u001B[39m\u001B[38;5;124m\"\u001B[39m, \u001B[38;5;124m\"\u001B[39m\u001B[38;5;124my\u001B[39m\u001B[38;5;124m\"\u001B[39m\n",
       "\u001B[1;32m    103\u001B[0m ]\n",
       "\n",
       "\u001B[0;31mNameError\u001B[0m: name 'territory_tiles' is not defined"
      ]
     },
     "metadata": {
      "application/vnd.databricks.v1+output": {
       "addedWidgets": {},
       "arguments": {},
       "datasetInfos": [],
       "jupyterProps": {
        "ename": "NameError",
        "evalue": "name 'territory_tiles' is not defined"
       },
       "metadata": {
        "errorSummary": "Command skipped"
       },
       "removedWidgets": [],
       "sqlProps": null,
       "stackFrames": [
        "\u001B[0;31m---------------------------------------------------------------------------\u001B[0m",
        "\u001B[0;31mNameError\u001B[0m                                 Traceback (most recent call last)",
        "File \u001B[0;32m<command-46078387421222>, line 1925\u001B[0m\n\u001B[1;32m   1906\u001B[0m             \u001B[38;5;66;03m# Optionally log game tick or other information\u001B[39;00m\n\u001B[1;32m   1907\u001B[0m             \u001B[38;5;66;03m# print(f\"Game tick: {game_tick}\", file=f)\u001B[39;00m\n\u001B[1;32m   1908\u001B[0m     \u001B[38;5;66;03m# finally:\u001B[39;00m\n\u001B[0;32m   (...)\u001B[0m\n\u001B[1;32m   1920\u001B[0m \n\u001B[1;32m   1921\u001B[0m     \u001B[38;5;66;03m#     pygame.display.update()\u001B[39;00m\n\u001B[1;32m   1924\u001B[0m \u001B[38;5;28;01mif\u001B[39;00m \u001B[38;5;18m__name__\u001B[39m \u001B[38;5;241m==\u001B[39m \u001B[38;5;124m\"\u001B[39m\u001B[38;5;124m__main__\u001B[39m\u001B[38;5;124m\"\u001B[39m:\n\u001B[0;32m-> 1925\u001B[0m     main()\n",
        "File \u001B[0;32m<command-46078387421222>, line 1894\u001B[0m, in \u001B[0;36mmain\u001B[0;34m()\u001B[0m\n\u001B[1;32m   1892\u001B[0m     turn \u001B[38;5;241m+\u001B[39m\u001B[38;5;241m=\u001B[39m \u001B[38;5;241m1\u001B[39m\n\u001B[1;32m   1893\u001B[0m     \u001B[38;5;66;03m#log_metrics_to_delta_lake(emp, path=delta_lake_path)\u001B[39;00m\n\u001B[0;32m-> 1894\u001B[0m     log_and_save_metrics(emp)\n\u001B[1;32m   1895\u001B[0m     \u001B[38;5;66;03m# Check if data was written by loading and displaying contents\u001B[39;00m\n\u001B[1;32m   1896\u001B[0m     \u001B[38;5;66;03m# metrics_snapshot = spark.read.format(\"delta\").load(delta_lake_path)\u001B[39;00m\n\u001B[1;32m   1897\u001B[0m     \u001B[38;5;66;03m# metrics_snapshot.show()\u001B[39;00m\n\u001B[1;32m   1898\u001B[0m     \u001B[38;5;66;03m# f.flush()\u001B[39;00m\n\u001B[1;32m   1900\u001B[0m game_tick \u001B[38;5;241m+\u001B[39m\u001B[38;5;241m=\u001B[39m \u001B[38;5;241m1\u001B[39m\n",
        "File \u001B[0;32m<command-46078387421222>, line 97\u001B[0m, in \u001B[0;36mlog_and_save_metrics\u001B[0;34m(empire)\u001B[0m\n\u001B[1;32m     92\u001B[0m mlflow\u001B[38;5;241m.\u001B[39mlog_metric(\u001B[38;5;124mf\u001B[39m\u001B[38;5;124m\"\u001B[39m\u001B[38;5;132;01m{\u001B[39;00mmetrics[\u001B[38;5;241m0\u001B[39m][\u001B[38;5;241m1\u001B[39m]\u001B[38;5;132;01m}\u001B[39;00m\u001B[38;5;124m_stability\u001B[39m\u001B[38;5;124m\"\u001B[39m, metrics[\u001B[38;5;241m4\u001B[39m][\u001B[38;5;241m1\u001B[39m])\n\u001B[1;32m     94\u001B[0m   \u001B[38;5;66;03m# Include individual tile coordinates\u001B[39;00m\n\u001B[1;32m     95\u001B[0m tile_data \u001B[38;5;241m=\u001B[39m [\n\u001B[1;32m     96\u001B[0m     (empire\u001B[38;5;241m.\u001B[39mname, empire\u001B[38;5;241m.\u001B[39mage, empire\u001B[38;5;241m.\u001B[39meconomy, empire\u001B[38;5;241m.\u001B[39mstability, tile\u001B[38;5;241m.\u001B[39mx, tile\u001B[38;5;241m.\u001B[39my)\n\u001B[0;32m---> 97\u001B[0m     \u001B[38;5;28;01mfor\u001B[39;00m tile \u001B[38;5;129;01min\u001B[39;00m territory_tiles\n\u001B[1;32m     98\u001B[0m ]\n\u001B[1;32m    100\u001B[0m \u001B[38;5;66;03m# Define columns for the DataFrame\u001B[39;00m\n\u001B[1;32m    101\u001B[0m columns \u001B[38;5;241m=\u001B[39m [\n\u001B[1;32m    102\u001B[0m     \u001B[38;5;124m\"\u001B[39m\u001B[38;5;124mempire_name\u001B[39m\u001B[38;5;124m\"\u001B[39m, \u001B[38;5;124m\"\u001B[39m\u001B[38;5;124mage\u001B[39m\u001B[38;5;124m\"\u001B[39m, \u001B[38;5;124m\"\u001B[39m\u001B[38;5;124meconomy\u001B[39m\u001B[38;5;124m\"\u001B[39m, \u001B[38;5;124m\"\u001B[39m\u001B[38;5;124mstability\u001B[39m\u001B[38;5;124m\"\u001B[39m, \u001B[38;5;124m\"\u001B[39m\u001B[38;5;124mx\u001B[39m\u001B[38;5;124m\"\u001B[39m, \u001B[38;5;124m\"\u001B[39m\u001B[38;5;124my\u001B[39m\u001B[38;5;124m\"\u001B[39m\n\u001B[1;32m    103\u001B[0m ]\n",
        "\u001B[0;31mNameError\u001B[0m: name 'territory_tiles' is not defined"
       ],
       "type": "baseError"
      }
     },
     "output_type": "display_data"
    }
   ],
   "source": [
    "#metrics_df = spark.read.format(\"delta\").option(\"header\", \"true\").load(delta_lake_path)\n",
    "from pyspark.sql.functions import col, desc\n",
    "import plotly.express as px\n",
    "# Sort the DataFrame in descending order by a specific column\n",
    "age_df = metrics_df.orderBy(desc(\"age\"))\n",
    "# Territory Size over Time for Each Empire\n",
    "fig_territory = px.line(age_df.toPandas(), x=\"age\", y=\"territory_size\", color=\"empire_name\",\n",
    "                        title=\"Territory Size Over Time\",\n",
    "                        labels={\"age\": \"Age\", \"territory_size\": \"Territory Size\"})\n",
    "fig_territory.update_layout(\n",
    "    yaxis=dict(\n",
    "        type=\"linear\",  # Ensure the y-axis is treated as a continuous scale\n",
    "        rangemode=\"tozero\"  # Optionally set the axis to start at 0\n",
    "    )\n",
    ")\n",
    "fig_territory.show()\n",
    "\n",
    "# Economy over Time for Each Empire\n",
    "fig_economy = px.line(age_df.toPandas(), x=\"age\", y=\"economy\", color=\"empire_name\",\n",
    "                      title=\"Economy Over Time\",\n",
    "                      labels={\"age\": \"Age\", \"economy\": \"Economy\"})\n",
    "fig_economy.update_layout(\n",
    "    yaxis=dict(\n",
    "        type=\"linear\",  # Ensure the y-axis is treated as a continuous scale\n",
    "        rangemode=\"tozero\"  # Optionally set the axis to start at 0\n",
    "    )\n",
    ")\n",
    "fig_economy.show()\n",
    "\n",
    "# Stability over Time for Each Empire\n",
    "fig_stability = px.line(age_df.toPandas(), x=\"age\", y=\"stability\", color=\"empire_name\",\n",
    "                        title=\"Stability Over Time\",\n",
    "                        labels={\"age\": \"Age\", \"stability\": \"Stability\"})\n",
    "fig_stability.update_layout(\n",
    "    yaxis=dict(\n",
    "        type=\"linear\",  # Ensure the y-axis is treated as a continuous scale\n",
    "        rangemode=\"tozero\"  # Optionally set the axis to start at 0\n",
    "    )\n",
    ")                       \n",
    "fig_stability.show()\n"
   ]
  },
  {
   "cell_type": "code",
   "execution_count": 0,
   "metadata": {
    "application/vnd.databricks.v1+cell": {
     "cellMetadata": {
      "byteLimit": 2048000,
      "rowLimit": 10000
     },
     "inputWidgets": {},
     "nuid": "0131fdf7-3bb6-474d-a04b-8e608b6175bb",
     "showTitle": false,
     "tableResultSettingsMap": {},
     "title": ""
    }
   },
   "outputs": [
    {
     "output_type": "display_data",
     "data": {
      "text/plain": [
       "\u001B[0;31m---------------------------------------------------------------------------\u001B[0m\n",
       "\u001B[0;31mNameError\u001B[0m                                 Traceback (most recent call last)\n",
       "File \u001B[0;32m<command-46078387421222>, line 1925\u001B[0m\n",
       "\u001B[1;32m   1906\u001B[0m             \u001B[38;5;66;03m# Optionally log game tick or other information\u001B[39;00m\n",
       "\u001B[1;32m   1907\u001B[0m             \u001B[38;5;66;03m# print(f\"Game tick: {game_tick}\", file=f)\u001B[39;00m\n",
       "\u001B[1;32m   1908\u001B[0m     \u001B[38;5;66;03m# finally:\u001B[39;00m\n",
       "\u001B[0;32m   (...)\u001B[0m\n",
       "\u001B[1;32m   1920\u001B[0m \n",
       "\u001B[1;32m   1921\u001B[0m     \u001B[38;5;66;03m#     pygame.display.update()\u001B[39;00m\n",
       "\u001B[1;32m   1924\u001B[0m \u001B[38;5;28;01mif\u001B[39;00m \u001B[38;5;18m__name__\u001B[39m \u001B[38;5;241m==\u001B[39m \u001B[38;5;124m\"\u001B[39m\u001B[38;5;124m__main__\u001B[39m\u001B[38;5;124m\"\u001B[39m:\n",
       "\u001B[0;32m-> 1925\u001B[0m     main()\n",
       "\n",
       "File \u001B[0;32m<command-46078387421222>, line 1894\u001B[0m, in \u001B[0;36mmain\u001B[0;34m()\u001B[0m\n",
       "\u001B[1;32m   1892\u001B[0m     turn \u001B[38;5;241m+\u001B[39m\u001B[38;5;241m=\u001B[39m \u001B[38;5;241m1\u001B[39m\n",
       "\u001B[1;32m   1893\u001B[0m     \u001B[38;5;66;03m#log_metrics_to_delta_lake(emp, path=delta_lake_path)\u001B[39;00m\n",
       "\u001B[0;32m-> 1894\u001B[0m     log_and_save_metrics(emp)\n",
       "\u001B[1;32m   1895\u001B[0m     \u001B[38;5;66;03m# Check if data was written by loading and displaying contents\u001B[39;00m\n",
       "\u001B[1;32m   1896\u001B[0m     \u001B[38;5;66;03m# metrics_snapshot = spark.read.format(\"delta\").load(delta_lake_path)\u001B[39;00m\n",
       "\u001B[1;32m   1897\u001B[0m     \u001B[38;5;66;03m# metrics_snapshot.show()\u001B[39;00m\n",
       "\u001B[1;32m   1898\u001B[0m     \u001B[38;5;66;03m# f.flush()\u001B[39;00m\n",
       "\u001B[1;32m   1900\u001B[0m game_tick \u001B[38;5;241m+\u001B[39m\u001B[38;5;241m=\u001B[39m \u001B[38;5;241m1\u001B[39m\n",
       "\n",
       "File \u001B[0;32m<command-46078387421222>, line 97\u001B[0m, in \u001B[0;36mlog_and_save_metrics\u001B[0;34m(empire)\u001B[0m\n",
       "\u001B[1;32m     92\u001B[0m mlflow\u001B[38;5;241m.\u001B[39mlog_metric(\u001B[38;5;124mf\u001B[39m\u001B[38;5;124m\"\u001B[39m\u001B[38;5;132;01m{\u001B[39;00mmetrics[\u001B[38;5;241m0\u001B[39m][\u001B[38;5;241m1\u001B[39m]\u001B[38;5;132;01m}\u001B[39;00m\u001B[38;5;124m_stability\u001B[39m\u001B[38;5;124m\"\u001B[39m, metrics[\u001B[38;5;241m4\u001B[39m][\u001B[38;5;241m1\u001B[39m])\n",
       "\u001B[1;32m     94\u001B[0m   \u001B[38;5;66;03m# Include individual tile coordinates\u001B[39;00m\n",
       "\u001B[1;32m     95\u001B[0m tile_data \u001B[38;5;241m=\u001B[39m [\n",
       "\u001B[1;32m     96\u001B[0m     (empire\u001B[38;5;241m.\u001B[39mname, empire\u001B[38;5;241m.\u001B[39mage, empire\u001B[38;5;241m.\u001B[39meconomy, empire\u001B[38;5;241m.\u001B[39mstability, tile\u001B[38;5;241m.\u001B[39mx, tile\u001B[38;5;241m.\u001B[39my)\n",
       "\u001B[0;32m---> 97\u001B[0m     \u001B[38;5;28;01mfor\u001B[39;00m tile \u001B[38;5;129;01min\u001B[39;00m territory_tiles\n",
       "\u001B[1;32m     98\u001B[0m ]\n",
       "\u001B[1;32m    100\u001B[0m \u001B[38;5;66;03m# Define columns for the DataFrame\u001B[39;00m\n",
       "\u001B[1;32m    101\u001B[0m columns \u001B[38;5;241m=\u001B[39m [\n",
       "\u001B[1;32m    102\u001B[0m     \u001B[38;5;124m\"\u001B[39m\u001B[38;5;124mempire_name\u001B[39m\u001B[38;5;124m\"\u001B[39m, \u001B[38;5;124m\"\u001B[39m\u001B[38;5;124mage\u001B[39m\u001B[38;5;124m\"\u001B[39m, \u001B[38;5;124m\"\u001B[39m\u001B[38;5;124meconomy\u001B[39m\u001B[38;5;124m\"\u001B[39m, \u001B[38;5;124m\"\u001B[39m\u001B[38;5;124mstability\u001B[39m\u001B[38;5;124m\"\u001B[39m, \u001B[38;5;124m\"\u001B[39m\u001B[38;5;124mx\u001B[39m\u001B[38;5;124m\"\u001B[39m, \u001B[38;5;124m\"\u001B[39m\u001B[38;5;124my\u001B[39m\u001B[38;5;124m\"\u001B[39m\n",
       "\u001B[1;32m    103\u001B[0m ]\n",
       "\n",
       "\u001B[0;31mNameError\u001B[0m: name 'territory_tiles' is not defined"
      ]
     },
     "metadata": {
      "application/vnd.databricks.v1+output": {
       "addedWidgets": {},
       "arguments": {},
       "datasetInfos": [],
       "jupyterProps": {
        "ename": "NameError",
        "evalue": "name 'territory_tiles' is not defined"
       },
       "metadata": {
        "errorSummary": "Command skipped"
       },
       "removedWidgets": [],
       "sqlProps": null,
       "stackFrames": [
        "\u001B[0;31m---------------------------------------------------------------------------\u001B[0m",
        "\u001B[0;31mNameError\u001B[0m                                 Traceback (most recent call last)",
        "File \u001B[0;32m<command-46078387421222>, line 1925\u001B[0m\n\u001B[1;32m   1906\u001B[0m             \u001B[38;5;66;03m# Optionally log game tick or other information\u001B[39;00m\n\u001B[1;32m   1907\u001B[0m             \u001B[38;5;66;03m# print(f\"Game tick: {game_tick}\", file=f)\u001B[39;00m\n\u001B[1;32m   1908\u001B[0m     \u001B[38;5;66;03m# finally:\u001B[39;00m\n\u001B[0;32m   (...)\u001B[0m\n\u001B[1;32m   1920\u001B[0m \n\u001B[1;32m   1921\u001B[0m     \u001B[38;5;66;03m#     pygame.display.update()\u001B[39;00m\n\u001B[1;32m   1924\u001B[0m \u001B[38;5;28;01mif\u001B[39;00m \u001B[38;5;18m__name__\u001B[39m \u001B[38;5;241m==\u001B[39m \u001B[38;5;124m\"\u001B[39m\u001B[38;5;124m__main__\u001B[39m\u001B[38;5;124m\"\u001B[39m:\n\u001B[0;32m-> 1925\u001B[0m     main()\n",
        "File \u001B[0;32m<command-46078387421222>, line 1894\u001B[0m, in \u001B[0;36mmain\u001B[0;34m()\u001B[0m\n\u001B[1;32m   1892\u001B[0m     turn \u001B[38;5;241m+\u001B[39m\u001B[38;5;241m=\u001B[39m \u001B[38;5;241m1\u001B[39m\n\u001B[1;32m   1893\u001B[0m     \u001B[38;5;66;03m#log_metrics_to_delta_lake(emp, path=delta_lake_path)\u001B[39;00m\n\u001B[0;32m-> 1894\u001B[0m     log_and_save_metrics(emp)\n\u001B[1;32m   1895\u001B[0m     \u001B[38;5;66;03m# Check if data was written by loading and displaying contents\u001B[39;00m\n\u001B[1;32m   1896\u001B[0m     \u001B[38;5;66;03m# metrics_snapshot = spark.read.format(\"delta\").load(delta_lake_path)\u001B[39;00m\n\u001B[1;32m   1897\u001B[0m     \u001B[38;5;66;03m# metrics_snapshot.show()\u001B[39;00m\n\u001B[1;32m   1898\u001B[0m     \u001B[38;5;66;03m# f.flush()\u001B[39;00m\n\u001B[1;32m   1900\u001B[0m game_tick \u001B[38;5;241m+\u001B[39m\u001B[38;5;241m=\u001B[39m \u001B[38;5;241m1\u001B[39m\n",
        "File \u001B[0;32m<command-46078387421222>, line 97\u001B[0m, in \u001B[0;36mlog_and_save_metrics\u001B[0;34m(empire)\u001B[0m\n\u001B[1;32m     92\u001B[0m mlflow\u001B[38;5;241m.\u001B[39mlog_metric(\u001B[38;5;124mf\u001B[39m\u001B[38;5;124m\"\u001B[39m\u001B[38;5;132;01m{\u001B[39;00mmetrics[\u001B[38;5;241m0\u001B[39m][\u001B[38;5;241m1\u001B[39m]\u001B[38;5;132;01m}\u001B[39;00m\u001B[38;5;124m_stability\u001B[39m\u001B[38;5;124m\"\u001B[39m, metrics[\u001B[38;5;241m4\u001B[39m][\u001B[38;5;241m1\u001B[39m])\n\u001B[1;32m     94\u001B[0m   \u001B[38;5;66;03m# Include individual tile coordinates\u001B[39;00m\n\u001B[1;32m     95\u001B[0m tile_data \u001B[38;5;241m=\u001B[39m [\n\u001B[1;32m     96\u001B[0m     (empire\u001B[38;5;241m.\u001B[39mname, empire\u001B[38;5;241m.\u001B[39mage, empire\u001B[38;5;241m.\u001B[39meconomy, empire\u001B[38;5;241m.\u001B[39mstability, tile\u001B[38;5;241m.\u001B[39mx, tile\u001B[38;5;241m.\u001B[39my)\n\u001B[0;32m---> 97\u001B[0m     \u001B[38;5;28;01mfor\u001B[39;00m tile \u001B[38;5;129;01min\u001B[39;00m territory_tiles\n\u001B[1;32m     98\u001B[0m ]\n\u001B[1;32m    100\u001B[0m \u001B[38;5;66;03m# Define columns for the DataFrame\u001B[39;00m\n\u001B[1;32m    101\u001B[0m columns \u001B[38;5;241m=\u001B[39m [\n\u001B[1;32m    102\u001B[0m     \u001B[38;5;124m\"\u001B[39m\u001B[38;5;124mempire_name\u001B[39m\u001B[38;5;124m\"\u001B[39m, \u001B[38;5;124m\"\u001B[39m\u001B[38;5;124mage\u001B[39m\u001B[38;5;124m\"\u001B[39m, \u001B[38;5;124m\"\u001B[39m\u001B[38;5;124meconomy\u001B[39m\u001B[38;5;124m\"\u001B[39m, \u001B[38;5;124m\"\u001B[39m\u001B[38;5;124mstability\u001B[39m\u001B[38;5;124m\"\u001B[39m, \u001B[38;5;124m\"\u001B[39m\u001B[38;5;124mx\u001B[39m\u001B[38;5;124m\"\u001B[39m, \u001B[38;5;124m\"\u001B[39m\u001B[38;5;124my\u001B[39m\u001B[38;5;124m\"\u001B[39m\n\u001B[1;32m    103\u001B[0m ]\n",
        "\u001B[0;31mNameError\u001B[0m: name 'territory_tiles' is not defined"
       ],
       "type": "baseError"
      }
     },
     "output_type": "display_data"
    }
   ],
   "source": [
    "age_df = metrics_df.sort(\"age\")\n",
    "\n",
    "\n",
    "fig_animated = px.scatter(age_df.toPandas(), x=\"territory_size\", y=\"economy\", animation_frame=\"age\",\n",
    "                          size=\"stability\", color=\"empire_name\", hover_name=\"empire_name\",\n",
    "                          title=\"Empire Growth Over Time\",\n",
    "                          labels={\"territory_size\": \"Territory Size\", \"economy\": \"Economy\", \"age\": \"Age\"})\n",
    "fig_animated.show()\n",
    "\n",
    "# metrics_pd = metrics_df.toPandas()\n",
    "# # Sort DataFrame by 'age' in ascending order\n",
    "# metrics_pd = metrics_pd.sort_values(by=\"age\").reset_index(drop=True)\n",
    "\n",
    "# # 1. Animated Plot (sorted by age)\n",
    "# fig_anim = px.scatter(\n",
    "#     metrics_pd,\n",
    "#     x=\"territory_size\",\n",
    "#     y=\"economy\",\n",
    "#     animation_frame=\"age\",\n",
    "#     size=\"stability\",\n",
    "#     color=\"empire_name\",\n",
    "#     title=\"Animated Plot of Territory Size vs Economy over Time (sorted by age)\",\n",
    "#     labels={\"territory_size\": \"Territory Size\", \"economy\": \"Economy\"},\n",
    "# )\n",
    "# fig_anim.update_layout(xaxis_title=\"Territory Size\", yaxis_title=\"Economy\")\n",
    "# fig_anim.show()\n",
    "\n"
   ]
  },
  {
   "cell_type": "code",
   "execution_count": 0,
   "metadata": {
    "application/vnd.databricks.v1+cell": {
     "cellMetadata": {
      "byteLimit": 2048000,
      "rowLimit": 10000
     },
     "inputWidgets": {},
     "nuid": "9f2ffe95-bf6e-4f5e-bb2f-c9c616c6aefe",
     "showTitle": false,
     "tableResultSettingsMap": {},
     "title": ""
    }
   },
   "outputs": [
    {
     "output_type": "display_data",
     "data": {
      "text/plain": [
       "\u001B[0;31m---------------------------------------------------------------------------\u001B[0m\n",
       "\u001B[0;31mNameError\u001B[0m                                 Traceback (most recent call last)\n",
       "File \u001B[0;32m<command-46078387421222>, line 1925\u001B[0m\n",
       "\u001B[1;32m   1906\u001B[0m             \u001B[38;5;66;03m# Optionally log game tick or other information\u001B[39;00m\n",
       "\u001B[1;32m   1907\u001B[0m             \u001B[38;5;66;03m# print(f\"Game tick: {game_tick}\", file=f)\u001B[39;00m\n",
       "\u001B[1;32m   1908\u001B[0m     \u001B[38;5;66;03m# finally:\u001B[39;00m\n",
       "\u001B[0;32m   (...)\u001B[0m\n",
       "\u001B[1;32m   1920\u001B[0m \n",
       "\u001B[1;32m   1921\u001B[0m     \u001B[38;5;66;03m#     pygame.display.update()\u001B[39;00m\n",
       "\u001B[1;32m   1924\u001B[0m \u001B[38;5;28;01mif\u001B[39;00m \u001B[38;5;18m__name__\u001B[39m \u001B[38;5;241m==\u001B[39m \u001B[38;5;124m\"\u001B[39m\u001B[38;5;124m__main__\u001B[39m\u001B[38;5;124m\"\u001B[39m:\n",
       "\u001B[0;32m-> 1925\u001B[0m     main()\n",
       "\n",
       "File \u001B[0;32m<command-46078387421222>, line 1894\u001B[0m, in \u001B[0;36mmain\u001B[0;34m()\u001B[0m\n",
       "\u001B[1;32m   1892\u001B[0m     turn \u001B[38;5;241m+\u001B[39m\u001B[38;5;241m=\u001B[39m \u001B[38;5;241m1\u001B[39m\n",
       "\u001B[1;32m   1893\u001B[0m     \u001B[38;5;66;03m#log_metrics_to_delta_lake(emp, path=delta_lake_path)\u001B[39;00m\n",
       "\u001B[0;32m-> 1894\u001B[0m     log_and_save_metrics(emp)\n",
       "\u001B[1;32m   1895\u001B[0m     \u001B[38;5;66;03m# Check if data was written by loading and displaying contents\u001B[39;00m\n",
       "\u001B[1;32m   1896\u001B[0m     \u001B[38;5;66;03m# metrics_snapshot = spark.read.format(\"delta\").load(delta_lake_path)\u001B[39;00m\n",
       "\u001B[1;32m   1897\u001B[0m     \u001B[38;5;66;03m# metrics_snapshot.show()\u001B[39;00m\n",
       "\u001B[1;32m   1898\u001B[0m     \u001B[38;5;66;03m# f.flush()\u001B[39;00m\n",
       "\u001B[1;32m   1900\u001B[0m game_tick \u001B[38;5;241m+\u001B[39m\u001B[38;5;241m=\u001B[39m \u001B[38;5;241m1\u001B[39m\n",
       "\n",
       "File \u001B[0;32m<command-46078387421222>, line 97\u001B[0m, in \u001B[0;36mlog_and_save_metrics\u001B[0;34m(empire)\u001B[0m\n",
       "\u001B[1;32m     92\u001B[0m mlflow\u001B[38;5;241m.\u001B[39mlog_metric(\u001B[38;5;124mf\u001B[39m\u001B[38;5;124m\"\u001B[39m\u001B[38;5;132;01m{\u001B[39;00mmetrics[\u001B[38;5;241m0\u001B[39m][\u001B[38;5;241m1\u001B[39m]\u001B[38;5;132;01m}\u001B[39;00m\u001B[38;5;124m_stability\u001B[39m\u001B[38;5;124m\"\u001B[39m, metrics[\u001B[38;5;241m4\u001B[39m][\u001B[38;5;241m1\u001B[39m])\n",
       "\u001B[1;32m     94\u001B[0m   \u001B[38;5;66;03m# Include individual tile coordinates\u001B[39;00m\n",
       "\u001B[1;32m     95\u001B[0m tile_data \u001B[38;5;241m=\u001B[39m [\n",
       "\u001B[1;32m     96\u001B[0m     (empire\u001B[38;5;241m.\u001B[39mname, empire\u001B[38;5;241m.\u001B[39mage, empire\u001B[38;5;241m.\u001B[39meconomy, empire\u001B[38;5;241m.\u001B[39mstability, tile\u001B[38;5;241m.\u001B[39mx, tile\u001B[38;5;241m.\u001B[39my)\n",
       "\u001B[0;32m---> 97\u001B[0m     \u001B[38;5;28;01mfor\u001B[39;00m tile \u001B[38;5;129;01min\u001B[39;00m territory_tiles\n",
       "\u001B[1;32m     98\u001B[0m ]\n",
       "\u001B[1;32m    100\u001B[0m \u001B[38;5;66;03m# Define columns for the DataFrame\u001B[39;00m\n",
       "\u001B[1;32m    101\u001B[0m columns \u001B[38;5;241m=\u001B[39m [\n",
       "\u001B[1;32m    102\u001B[0m     \u001B[38;5;124m\"\u001B[39m\u001B[38;5;124mempire_name\u001B[39m\u001B[38;5;124m\"\u001B[39m, \u001B[38;5;124m\"\u001B[39m\u001B[38;5;124mage\u001B[39m\u001B[38;5;124m\"\u001B[39m, \u001B[38;5;124m\"\u001B[39m\u001B[38;5;124meconomy\u001B[39m\u001B[38;5;124m\"\u001B[39m, \u001B[38;5;124m\"\u001B[39m\u001B[38;5;124mstability\u001B[39m\u001B[38;5;124m\"\u001B[39m, \u001B[38;5;124m\"\u001B[39m\u001B[38;5;124mx\u001B[39m\u001B[38;5;124m\"\u001B[39m, \u001B[38;5;124m\"\u001B[39m\u001B[38;5;124my\u001B[39m\u001B[38;5;124m\"\u001B[39m\n",
       "\u001B[1;32m    103\u001B[0m ]\n",
       "\n",
       "\u001B[0;31mNameError\u001B[0m: name 'territory_tiles' is not defined"
      ]
     },
     "metadata": {
      "application/vnd.databricks.v1+output": {
       "addedWidgets": {},
       "arguments": {},
       "datasetInfos": [],
       "jupyterProps": {
        "ename": "NameError",
        "evalue": "name 'territory_tiles' is not defined"
       },
       "metadata": {
        "errorSummary": "Command skipped"
       },
       "removedWidgets": [],
       "sqlProps": null,
       "stackFrames": [
        "\u001B[0;31m---------------------------------------------------------------------------\u001B[0m",
        "\u001B[0;31mNameError\u001B[0m                                 Traceback (most recent call last)",
        "File \u001B[0;32m<command-46078387421222>, line 1925\u001B[0m\n\u001B[1;32m   1906\u001B[0m             \u001B[38;5;66;03m# Optionally log game tick or other information\u001B[39;00m\n\u001B[1;32m   1907\u001B[0m             \u001B[38;5;66;03m# print(f\"Game tick: {game_tick}\", file=f)\u001B[39;00m\n\u001B[1;32m   1908\u001B[0m     \u001B[38;5;66;03m# finally:\u001B[39;00m\n\u001B[0;32m   (...)\u001B[0m\n\u001B[1;32m   1920\u001B[0m \n\u001B[1;32m   1921\u001B[0m     \u001B[38;5;66;03m#     pygame.display.update()\u001B[39;00m\n\u001B[1;32m   1924\u001B[0m \u001B[38;5;28;01mif\u001B[39;00m \u001B[38;5;18m__name__\u001B[39m \u001B[38;5;241m==\u001B[39m \u001B[38;5;124m\"\u001B[39m\u001B[38;5;124m__main__\u001B[39m\u001B[38;5;124m\"\u001B[39m:\n\u001B[0;32m-> 1925\u001B[0m     main()\n",
        "File \u001B[0;32m<command-46078387421222>, line 1894\u001B[0m, in \u001B[0;36mmain\u001B[0;34m()\u001B[0m\n\u001B[1;32m   1892\u001B[0m     turn \u001B[38;5;241m+\u001B[39m\u001B[38;5;241m=\u001B[39m \u001B[38;5;241m1\u001B[39m\n\u001B[1;32m   1893\u001B[0m     \u001B[38;5;66;03m#log_metrics_to_delta_lake(emp, path=delta_lake_path)\u001B[39;00m\n\u001B[0;32m-> 1894\u001B[0m     log_and_save_metrics(emp)\n\u001B[1;32m   1895\u001B[0m     \u001B[38;5;66;03m# Check if data was written by loading and displaying contents\u001B[39;00m\n\u001B[1;32m   1896\u001B[0m     \u001B[38;5;66;03m# metrics_snapshot = spark.read.format(\"delta\").load(delta_lake_path)\u001B[39;00m\n\u001B[1;32m   1897\u001B[0m     \u001B[38;5;66;03m# metrics_snapshot.show()\u001B[39;00m\n\u001B[1;32m   1898\u001B[0m     \u001B[38;5;66;03m# f.flush()\u001B[39;00m\n\u001B[1;32m   1900\u001B[0m game_tick \u001B[38;5;241m+\u001B[39m\u001B[38;5;241m=\u001B[39m \u001B[38;5;241m1\u001B[39m\n",
        "File \u001B[0;32m<command-46078387421222>, line 97\u001B[0m, in \u001B[0;36mlog_and_save_metrics\u001B[0;34m(empire)\u001B[0m\n\u001B[1;32m     92\u001B[0m mlflow\u001B[38;5;241m.\u001B[39mlog_metric(\u001B[38;5;124mf\u001B[39m\u001B[38;5;124m\"\u001B[39m\u001B[38;5;132;01m{\u001B[39;00mmetrics[\u001B[38;5;241m0\u001B[39m][\u001B[38;5;241m1\u001B[39m]\u001B[38;5;132;01m}\u001B[39;00m\u001B[38;5;124m_stability\u001B[39m\u001B[38;5;124m\"\u001B[39m, metrics[\u001B[38;5;241m4\u001B[39m][\u001B[38;5;241m1\u001B[39m])\n\u001B[1;32m     94\u001B[0m   \u001B[38;5;66;03m# Include individual tile coordinates\u001B[39;00m\n\u001B[1;32m     95\u001B[0m tile_data \u001B[38;5;241m=\u001B[39m [\n\u001B[1;32m     96\u001B[0m     (empire\u001B[38;5;241m.\u001B[39mname, empire\u001B[38;5;241m.\u001B[39mage, empire\u001B[38;5;241m.\u001B[39meconomy, empire\u001B[38;5;241m.\u001B[39mstability, tile\u001B[38;5;241m.\u001B[39mx, tile\u001B[38;5;241m.\u001B[39my)\n\u001B[0;32m---> 97\u001B[0m     \u001B[38;5;28;01mfor\u001B[39;00m tile \u001B[38;5;129;01min\u001B[39;00m territory_tiles\n\u001B[1;32m     98\u001B[0m ]\n\u001B[1;32m    100\u001B[0m \u001B[38;5;66;03m# Define columns for the DataFrame\u001B[39;00m\n\u001B[1;32m    101\u001B[0m columns \u001B[38;5;241m=\u001B[39m [\n\u001B[1;32m    102\u001B[0m     \u001B[38;5;124m\"\u001B[39m\u001B[38;5;124mempire_name\u001B[39m\u001B[38;5;124m\"\u001B[39m, \u001B[38;5;124m\"\u001B[39m\u001B[38;5;124mage\u001B[39m\u001B[38;5;124m\"\u001B[39m, \u001B[38;5;124m\"\u001B[39m\u001B[38;5;124meconomy\u001B[39m\u001B[38;5;124m\"\u001B[39m, \u001B[38;5;124m\"\u001B[39m\u001B[38;5;124mstability\u001B[39m\u001B[38;5;124m\"\u001B[39m, \u001B[38;5;124m\"\u001B[39m\u001B[38;5;124mx\u001B[39m\u001B[38;5;124m\"\u001B[39m, \u001B[38;5;124m\"\u001B[39m\u001B[38;5;124my\u001B[39m\u001B[38;5;124m\"\u001B[39m\n\u001B[1;32m    103\u001B[0m ]\n",
        "\u001B[0;31mNameError\u001B[0m: name 'territory_tiles' is not defined"
       ],
       "type": "baseError"
      }
     },
     "output_type": "display_data"
    }
   ],
   "source": [
    "metrics_df = metrics_df.fillna(0)\n",
    "fig_bubble = px.scatter(metrics_df.toPandas(), x=\"economy\", y=\"territory_size\", size=\"stability\", \n",
    "                        color=\"empire_name\", hover_name=\"empire_name\", \n",
    "                        title=\"Economy vs Territory Size by Stability\",\n",
    "                        labels={\"economy\": \"Economy\", \"territory_size\": \"Territory Size\"})\n",
    "fig_bubble.show()\n"
   ]
  },
  {
   "cell_type": "code",
   "execution_count": 0,
   "metadata": {
    "application/vnd.databricks.v1+cell": {
     "cellMetadata": {
      "byteLimit": 2048000,
      "rowLimit": 10000
     },
     "inputWidgets": {},
     "nuid": "4e39b6d1-77e3-4ae4-ab05-1b6b0f49df3f",
     "showTitle": false,
     "tableResultSettingsMap": {},
     "title": ""
    }
   },
   "outputs": [
    {
     "output_type": "display_data",
     "data": {
      "text/plain": [
       "\u001B[0;31m---------------------------------------------------------------------------\u001B[0m\n",
       "\u001B[0;31mNameError\u001B[0m                                 Traceback (most recent call last)\n",
       "File \u001B[0;32m<command-46078387421222>, line 1925\u001B[0m\n",
       "\u001B[1;32m   1906\u001B[0m             \u001B[38;5;66;03m# Optionally log game tick or other information\u001B[39;00m\n",
       "\u001B[1;32m   1907\u001B[0m             \u001B[38;5;66;03m# print(f\"Game tick: {game_tick}\", file=f)\u001B[39;00m\n",
       "\u001B[1;32m   1908\u001B[0m     \u001B[38;5;66;03m# finally:\u001B[39;00m\n",
       "\u001B[0;32m   (...)\u001B[0m\n",
       "\u001B[1;32m   1920\u001B[0m \n",
       "\u001B[1;32m   1921\u001B[0m     \u001B[38;5;66;03m#     pygame.display.update()\u001B[39;00m\n",
       "\u001B[1;32m   1924\u001B[0m \u001B[38;5;28;01mif\u001B[39;00m \u001B[38;5;18m__name__\u001B[39m \u001B[38;5;241m==\u001B[39m \u001B[38;5;124m\"\u001B[39m\u001B[38;5;124m__main__\u001B[39m\u001B[38;5;124m\"\u001B[39m:\n",
       "\u001B[0;32m-> 1925\u001B[0m     main()\n",
       "\n",
       "File \u001B[0;32m<command-46078387421222>, line 1894\u001B[0m, in \u001B[0;36mmain\u001B[0;34m()\u001B[0m\n",
       "\u001B[1;32m   1892\u001B[0m     turn \u001B[38;5;241m+\u001B[39m\u001B[38;5;241m=\u001B[39m \u001B[38;5;241m1\u001B[39m\n",
       "\u001B[1;32m   1893\u001B[0m     \u001B[38;5;66;03m#log_metrics_to_delta_lake(emp, path=delta_lake_path)\u001B[39;00m\n",
       "\u001B[0;32m-> 1894\u001B[0m     log_and_save_metrics(emp)\n",
       "\u001B[1;32m   1895\u001B[0m     \u001B[38;5;66;03m# Check if data was written by loading and displaying contents\u001B[39;00m\n",
       "\u001B[1;32m   1896\u001B[0m     \u001B[38;5;66;03m# metrics_snapshot = spark.read.format(\"delta\").load(delta_lake_path)\u001B[39;00m\n",
       "\u001B[1;32m   1897\u001B[0m     \u001B[38;5;66;03m# metrics_snapshot.show()\u001B[39;00m\n",
       "\u001B[1;32m   1898\u001B[0m     \u001B[38;5;66;03m# f.flush()\u001B[39;00m\n",
       "\u001B[1;32m   1900\u001B[0m game_tick \u001B[38;5;241m+\u001B[39m\u001B[38;5;241m=\u001B[39m \u001B[38;5;241m1\u001B[39m\n",
       "\n",
       "File \u001B[0;32m<command-46078387421222>, line 97\u001B[0m, in \u001B[0;36mlog_and_save_metrics\u001B[0;34m(empire)\u001B[0m\n",
       "\u001B[1;32m     92\u001B[0m mlflow\u001B[38;5;241m.\u001B[39mlog_metric(\u001B[38;5;124mf\u001B[39m\u001B[38;5;124m\"\u001B[39m\u001B[38;5;132;01m{\u001B[39;00mmetrics[\u001B[38;5;241m0\u001B[39m][\u001B[38;5;241m1\u001B[39m]\u001B[38;5;132;01m}\u001B[39;00m\u001B[38;5;124m_stability\u001B[39m\u001B[38;5;124m\"\u001B[39m, metrics[\u001B[38;5;241m4\u001B[39m][\u001B[38;5;241m1\u001B[39m])\n",
       "\u001B[1;32m     94\u001B[0m   \u001B[38;5;66;03m# Include individual tile coordinates\u001B[39;00m\n",
       "\u001B[1;32m     95\u001B[0m tile_data \u001B[38;5;241m=\u001B[39m [\n",
       "\u001B[1;32m     96\u001B[0m     (empire\u001B[38;5;241m.\u001B[39mname, empire\u001B[38;5;241m.\u001B[39mage, empire\u001B[38;5;241m.\u001B[39meconomy, empire\u001B[38;5;241m.\u001B[39mstability, tile\u001B[38;5;241m.\u001B[39mx, tile\u001B[38;5;241m.\u001B[39my)\n",
       "\u001B[0;32m---> 97\u001B[0m     \u001B[38;5;28;01mfor\u001B[39;00m tile \u001B[38;5;129;01min\u001B[39;00m territory_tiles\n",
       "\u001B[1;32m     98\u001B[0m ]\n",
       "\u001B[1;32m    100\u001B[0m \u001B[38;5;66;03m# Define columns for the DataFrame\u001B[39;00m\n",
       "\u001B[1;32m    101\u001B[0m columns \u001B[38;5;241m=\u001B[39m [\n",
       "\u001B[1;32m    102\u001B[0m     \u001B[38;5;124m\"\u001B[39m\u001B[38;5;124mempire_name\u001B[39m\u001B[38;5;124m\"\u001B[39m, \u001B[38;5;124m\"\u001B[39m\u001B[38;5;124mage\u001B[39m\u001B[38;5;124m\"\u001B[39m, \u001B[38;5;124m\"\u001B[39m\u001B[38;5;124meconomy\u001B[39m\u001B[38;5;124m\"\u001B[39m, \u001B[38;5;124m\"\u001B[39m\u001B[38;5;124mstability\u001B[39m\u001B[38;5;124m\"\u001B[39m, \u001B[38;5;124m\"\u001B[39m\u001B[38;5;124mx\u001B[39m\u001B[38;5;124m\"\u001B[39m, \u001B[38;5;124m\"\u001B[39m\u001B[38;5;124my\u001B[39m\u001B[38;5;124m\"\u001B[39m\n",
       "\u001B[1;32m    103\u001B[0m ]\n",
       "\n",
       "\u001B[0;31mNameError\u001B[0m: name 'territory_tiles' is not defined"
      ]
     },
     "metadata": {
      "application/vnd.databricks.v1+output": {
       "addedWidgets": {},
       "arguments": {},
       "datasetInfos": [],
       "jupyterProps": {
        "ename": "NameError",
        "evalue": "name 'territory_tiles' is not defined"
       },
       "metadata": {
        "errorSummary": "Command skipped"
       },
       "removedWidgets": [],
       "sqlProps": null,
       "stackFrames": [
        "\u001B[0;31m---------------------------------------------------------------------------\u001B[0m",
        "\u001B[0;31mNameError\u001B[0m                                 Traceback (most recent call last)",
        "File \u001B[0;32m<command-46078387421222>, line 1925\u001B[0m\n\u001B[1;32m   1906\u001B[0m             \u001B[38;5;66;03m# Optionally log game tick or other information\u001B[39;00m\n\u001B[1;32m   1907\u001B[0m             \u001B[38;5;66;03m# print(f\"Game tick: {game_tick}\", file=f)\u001B[39;00m\n\u001B[1;32m   1908\u001B[0m     \u001B[38;5;66;03m# finally:\u001B[39;00m\n\u001B[0;32m   (...)\u001B[0m\n\u001B[1;32m   1920\u001B[0m \n\u001B[1;32m   1921\u001B[0m     \u001B[38;5;66;03m#     pygame.display.update()\u001B[39;00m\n\u001B[1;32m   1924\u001B[0m \u001B[38;5;28;01mif\u001B[39;00m \u001B[38;5;18m__name__\u001B[39m \u001B[38;5;241m==\u001B[39m \u001B[38;5;124m\"\u001B[39m\u001B[38;5;124m__main__\u001B[39m\u001B[38;5;124m\"\u001B[39m:\n\u001B[0;32m-> 1925\u001B[0m     main()\n",
        "File \u001B[0;32m<command-46078387421222>, line 1894\u001B[0m, in \u001B[0;36mmain\u001B[0;34m()\u001B[0m\n\u001B[1;32m   1892\u001B[0m     turn \u001B[38;5;241m+\u001B[39m\u001B[38;5;241m=\u001B[39m \u001B[38;5;241m1\u001B[39m\n\u001B[1;32m   1893\u001B[0m     \u001B[38;5;66;03m#log_metrics_to_delta_lake(emp, path=delta_lake_path)\u001B[39;00m\n\u001B[0;32m-> 1894\u001B[0m     log_and_save_metrics(emp)\n\u001B[1;32m   1895\u001B[0m     \u001B[38;5;66;03m# Check if data was written by loading and displaying contents\u001B[39;00m\n\u001B[1;32m   1896\u001B[0m     \u001B[38;5;66;03m# metrics_snapshot = spark.read.format(\"delta\").load(delta_lake_path)\u001B[39;00m\n\u001B[1;32m   1897\u001B[0m     \u001B[38;5;66;03m# metrics_snapshot.show()\u001B[39;00m\n\u001B[1;32m   1898\u001B[0m     \u001B[38;5;66;03m# f.flush()\u001B[39;00m\n\u001B[1;32m   1900\u001B[0m game_tick \u001B[38;5;241m+\u001B[39m\u001B[38;5;241m=\u001B[39m \u001B[38;5;241m1\u001B[39m\n",
        "File \u001B[0;32m<command-46078387421222>, line 97\u001B[0m, in \u001B[0;36mlog_and_save_metrics\u001B[0;34m(empire)\u001B[0m\n\u001B[1;32m     92\u001B[0m mlflow\u001B[38;5;241m.\u001B[39mlog_metric(\u001B[38;5;124mf\u001B[39m\u001B[38;5;124m\"\u001B[39m\u001B[38;5;132;01m{\u001B[39;00mmetrics[\u001B[38;5;241m0\u001B[39m][\u001B[38;5;241m1\u001B[39m]\u001B[38;5;132;01m}\u001B[39;00m\u001B[38;5;124m_stability\u001B[39m\u001B[38;5;124m\"\u001B[39m, metrics[\u001B[38;5;241m4\u001B[39m][\u001B[38;5;241m1\u001B[39m])\n\u001B[1;32m     94\u001B[0m   \u001B[38;5;66;03m# Include individual tile coordinates\u001B[39;00m\n\u001B[1;32m     95\u001B[0m tile_data \u001B[38;5;241m=\u001B[39m [\n\u001B[1;32m     96\u001B[0m     (empire\u001B[38;5;241m.\u001B[39mname, empire\u001B[38;5;241m.\u001B[39mage, empire\u001B[38;5;241m.\u001B[39meconomy, empire\u001B[38;5;241m.\u001B[39mstability, tile\u001B[38;5;241m.\u001B[39mx, tile\u001B[38;5;241m.\u001B[39my)\n\u001B[0;32m---> 97\u001B[0m     \u001B[38;5;28;01mfor\u001B[39;00m tile \u001B[38;5;129;01min\u001B[39;00m territory_tiles\n\u001B[1;32m     98\u001B[0m ]\n\u001B[1;32m    100\u001B[0m \u001B[38;5;66;03m# Define columns for the DataFrame\u001B[39;00m\n\u001B[1;32m    101\u001B[0m columns \u001B[38;5;241m=\u001B[39m [\n\u001B[1;32m    102\u001B[0m     \u001B[38;5;124m\"\u001B[39m\u001B[38;5;124mempire_name\u001B[39m\u001B[38;5;124m\"\u001B[39m, \u001B[38;5;124m\"\u001B[39m\u001B[38;5;124mage\u001B[39m\u001B[38;5;124m\"\u001B[39m, \u001B[38;5;124m\"\u001B[39m\u001B[38;5;124meconomy\u001B[39m\u001B[38;5;124m\"\u001B[39m, \u001B[38;5;124m\"\u001B[39m\u001B[38;5;124mstability\u001B[39m\u001B[38;5;124m\"\u001B[39m, \u001B[38;5;124m\"\u001B[39m\u001B[38;5;124mx\u001B[39m\u001B[38;5;124m\"\u001B[39m, \u001B[38;5;124m\"\u001B[39m\u001B[38;5;124my\u001B[39m\u001B[38;5;124m\"\u001B[39m\n\u001B[1;32m    103\u001B[0m ]\n",
        "\u001B[0;31mNameError\u001B[0m: name 'territory_tiles' is not defined"
       ],
       "type": "baseError"
      }
     },
     "output_type": "display_data"
    }
   ],
   "source": [
    "import seaborn as sns\n",
    "import matplotlib.pyplot as plt\n",
    "#metrics_df = spark.read.format(\"delta\").load(delta_lake_path)\n",
    "# Convert to Pandas for Seaborn compatibility\n",
    "df = metrics_df.toPandas()\n",
    "\n",
    "# Correlation heatmap\n",
    "plt.figure(figsize=(10, 6))\n",
    "sns.heatmap(df.corr(), annot=True, cmap=\"YlGnBu\")\n",
    "plt.title(\"Correlation Heatmap of Empire Attributes\")\n",
    "plt.show()\n"
   ]
  },
  {
   "cell_type": "code",
   "execution_count": 0,
   "metadata": {
    "application/vnd.databricks.v1+cell": {
     "cellMetadata": {
      "byteLimit": 2048000,
      "rowLimit": 10000
     },
     "inputWidgets": {},
     "nuid": "9a0ee5d6-c5f8-4ec5-baf3-388b6f72c7f6",
     "showTitle": false,
     "tableResultSettingsMap": {},
     "title": ""
    }
   },
   "outputs": [
    {
     "output_type": "display_data",
     "data": {
      "text/html": [
       "<html>\n",
       "<head><meta charset=\"utf-8\" /></head>\n",
       "<body>\n",
       "    <div>            <script src=\"https://cdnjs.cloudflare.com/ajax/libs/mathjax/2.7.5/MathJax.js?config=TeX-AMS-MML_SVG\"></script><script type=\"text/javascript\">if (window.MathJax && window.MathJax.Hub && window.MathJax.Hub.Config) {window.MathJax.Hub.Config({SVG: {font: \"STIX-Web\"}});}</script>                <script type=\"text/javascript\">window.PlotlyConfig = {MathJaxConfig: 'local'};</script>\n",
       "        <script src=\"https://cdn.plot.ly/plotly-2.12.1.min.js\"></script>                <div id=\"a316a627-b94a-40f4-a610-1fb422ff19ed\" class=\"plotly-graph-div\" style=\"height:100%; width:100%;\"></div>            <script type=\"text/javascript\">                                    window.PLOTLYENV=window.PLOTLYENV || {};                                    if (document.getElementById(\"a316a627-b94a-40f4-a610-1fb422ff19ed\")) {                    Plotly.newPlot(                        \"a316a627-b94a-40f4-a610-1fb422ff19ed\",                        [{\"customdata\":[[\"1424\",\"8\"],[\"1424\",\"8\"],[\"1424\",\"8\"],[\"1424\",\"8\"],[\"1424\",\"8\"],[\"1424\",\"8\"],[\"1424\",\"8\"],[\"1424\",\"8\"],[\"1424\",\"8\"],[\"1424\",\"8\"],[\"1424\",\"8\"],[\"1424\",\"8\"],[\"1424\",\"8\"],[\"1424\",\"8\"],[\"1424\",\"8\"],[\"1424\",\"8\"],[\"1424\",\"8\"],[\"1424\",\"8\"],[\"1424\",\"8\"],[\"1424\",\"8\"],[\"1424\",\"8\"],[\"1424\",\"8\"],[\"1424\",\"8\"],[\"1424\",\"8\"],[\"1424\",\"8\"],[\"1424\",\"8\"],[\"1424\",\"8\"],[\"1424\",\"8\"],[\"1424\",\"8\"],[\"1424\",\"8\"],[\"1424\",\"8\"],[\"1424\",\"8\"],[\"927\",\"7\"],[\"927\",\"7\"],[\"927\",\"7\"],[\"927\",\"7\"],[\"927\",\"7\"],[\"927\",\"7\"],[\"927\",\"7\"],[\"927\",\"7\"],[\"927\",\"7\"],[\"927\",\"7\"],[\"927\",\"7\"],[\"927\",\"7\"],[\"927\",\"7\"],[\"927\",\"7\"],[\"927\",\"7\"],[\"927\",\"7\"],[\"927\",\"7\"],[\"927\",\"7\"],[\"927\",\"7\"],[\"927\",\"7\"],[\"927\",\"7\"],[\"927\",\"7\"],[\"927\",\"7\"],[\"927\",\"7\"],[\"927\",\"7\"],[\"927\",\"7\"],[\"927\",\"7\"],[\"927\",\"7\"],[\"927\",\"7\"],[\"927\",\"7\"],[\"927\",\"7\"],[\"927\",\"7\"],[\"927\",\"7\"],[\"927\",\"7\"],[\"927\",\"7\"],[\"927\",\"7\"],[\"927\",\"7\"],[\"927\",\"7\"],[\"927\",\"7\"],[\"927\",\"7\"],[\"927\",\"7\"],[\"927\",\"7\"],[\"927\",\"7\"],[\"927\",\"7\"],[\"927\",\"7\"],[\"927\",\"7\"],[\"927\",\"7\"],[\"927\",\"7\"],[\"927\",\"7\"],[\"927\",\"7\"],[\"927\",\"7\"],[\"927\",\"7\"],[\"927\",\"7\"],[\"927\",\"7\"],[\"927\",\"7\"],[\"927\",\"7\"],[\"927\",\"7\"],[\"927\",\"7\"],[\"927\",\"7\"],[\"927\",\"7\"],[\"927\",\"7\"],[\"927\",\"7\"],[\"927\",\"7\"],[\"927\",\"7\"],[\"927\",\"7\"],[\"927\",\"7\"],[\"927\",\"7\"],[\"927\",\"7\"],[\"927\",\"7\"],[\"927\",\"7\"],[\"927\",\"7\"],[\"927\",\"7\"],[\"927\",\"7\"],[\"927\",\"7\"],[\"927\",\"7\"],[\"927\",\"7\"],[\"927\",\"7\"],[\"927\",\"7\"],[\"927\",\"7\"],[\"927\",\"7\"],[\"927\",\"7\"],[\"927\",\"7\"],[\"927\",\"7\"],[\"927\",\"7\"],[\"927\",\"7\"],[\"927\",\"7\"],[\"927\",\"7\"],[\"927\",\"7\"],[\"927\",\"7\"],[\"927\",\"7\"],[\"927\",\"7\"],[\"927\",\"7\"],[\"927\",\"7\"],[\"927\",\"7\"],[\"927\",\"7\"],[\"927\",\"7\"],[\"927\",\"7\"],[\"927\",\"7\"],[\"927\",\"7\"],[\"927\",\"7\"],[\"927\",\"7\"],[\"927\",\"7\"],[\"927\",\"7\"],[\"927\",\"7\"],[\"927\",\"7\"],[\"927\",\"7\"],[\"927\",\"7\"],[\"927\",\"7\"],[\"927\",\"7\"],[\"927\",\"7\"],[\"927\",\"7\"],[\"927\",\"7\"],[\"927\",\"7\"],[\"927\",\"7\"],[\"927\",\"7\"],[\"927\",\"7\"],[\"927\",\"7\"],[\"927\",\"7\"],[\"927\",\"7\"],[\"927\",\"7\"],[\"927\",\"7\"],[\"927\",\"7\"],[\"927\",\"7\"],[\"927\",\"7\"],[\"927\",\"7\"],[\"927\",\"7\"],[\"927\",\"7\"],[\"927\",\"7\"],[\"927\",\"7\"],[\"927\",\"7\"],[\"927\",\"7\"],[\"927\",\"7\"],[\"927\",\"7\"],[\"0\",\"15\"],[\"0\",\"15\"],[\"0\",\"15\"],[\"0\",\"15\"],[\"0\",\"15\"],[\"0\",\"15\"],[\"0\",\"15\"],[\"0\",\"15\"],[\"0\",\"15\"],[\"0\",\"15\"],[\"0\",\"15\"],[\"0\",\"15\"],[\"0\",\"15\"],[\"0\",\"15\"],[\"0\",\"15\"],[\"0\",\"15\"],[\"0\",\"15\"],[\"0\",\"15\"],[\"0\",\"15\"],[\"0\",\"15\"],[\"0\",\"15\"],[\"0\",\"15\"],[\"0\",\"15\"],[\"0\",\"15\"],[\"0\",\"15\"],[\"0\",\"15\"],[\"0\",\"15\"],[\"0\",\"15\"],[\"0\",\"15\"],[\"0\",\"15\"],[\"0\",\"15\"],[\"0\",\"15\"],[\"0\",\"15\"],[\"0\",\"15\"],[\"0\",\"15\"],[\"0\",\"15\"],[\"0\",\"15\"],[\"0\",\"15\"],[\"0\",\"15\"],[\"0\",\"15\"],[\"0\",\"15\"],[\"0\",\"15\"],[\"0\",\"15\"],[\"0\",\"15\"],[\"0\",\"15\"],[\"0\",\"15\"],[\"0\",\"15\"],[\"0\",\"15\"],[\"0\",\"15\"],[\"0\",\"15\"],[\"0\",\"15\"],[\"0\",\"15\"],[\"0\",\"15\"],[\"0\",\"15\"],[\"0\",\"15\"],[\"0\",\"15\"],[\"0\",\"15\"],[\"0\",\"15\"],[\"0\",\"15\"],[\"0\",\"15\"],[\"0\",\"15\"],[\"0\",\"15\"],[\"0\",\"15\"],[\"0\",\"15\"],[\"0\",\"15\"],[\"0\",\"15\"],[\"0\",\"15\"],[\"0\",\"15\"],[\"0\",\"15\"],[\"0\",\"15\"],[\"0\",\"15\"],[\"0\",\"15\"],[\"0\",\"15\"]],\"hovertemplate\":\"Stability=5.0<br>x=%{x}<br>y=%{y}<br>economy=%{customdata[0]}<br>age=%{customdata[1]}<extra></extra>\",\"legendgroup\":\"5.0\",\"marker\":{\"color\":\"#636efa\",\"symbol\":\"hexagon\",\"size\":15},\"mode\":\"markers\",\"name\":\"5.0\",\"orientation\":\"v\",\"showlegend\":true,\"x\":[\"45\",\"45\",\"45\",\"45\",\"46\",\"46\",\"46\",\"46\",\"46\",\"46\",\"47\",\"47\",\"47\",\"47\",\"47\",\"47\",\"48\",\"48\",\"48\",\"48\",\"48\",\"48\",\"49\",\"49\",\"49\",\"49\",\"49\",\"49\",\"49\",\"50\",\"50\",\"50\",\"60\",\"60\",\"60\",\"60\",\"61\",\"61\",\"61\",\"61\",\"61\",\"61\",\"61\",\"61\",\"61\",\"61\",\"61\",\"61\",\"61\",\"62\",\"62\",\"62\",\"62\",\"62\",\"62\",\"62\",\"62\",\"62\",\"62\",\"62\",\"63\",\"63\",\"55\",\"55\",\"56\",\"56\",\"56\",\"56\",\"56\",\"56\",\"56\",\"56\",\"56\",\"56\",\"56\",\"56\",\"56\",\"57\",\"57\",\"57\",\"57\",\"58\",\"58\",\"58\",\"58\",\"59\",\"59\",\"59\",\"59\",\"59\",\"59\",\"59\",\"59\",\"59\",\"59\",\"59\",\"59\",\"59\",\"60\",\"60\",\"60\",\"60\",\"60\",\"60\",\"60\",\"53\",\"54\",\"54\",\"54\",\"54\",\"54\",\"54\",\"55\",\"55\",\"55\",\"55\",\"55\",\"55\",\"55\",\"55\",\"55\",\"51\",\"52\",\"52\",\"52\",\"52\",\"52\",\"52\",\"52\",\"52\",\"53\",\"53\",\"53\",\"53\",\"53\",\"53\",\"57\",\"57\",\"57\",\"57\",\"57\",\"57\",\"57\",\"57\",\"57\",\"58\",\"58\",\"58\",\"58\",\"58\",\"58\",\"58\",\"58\",\"50\",\"50\",\"50\",\"50\",\"50\",\"51\",\"51\",\"51\",\"51\",\"51\",\"51\",\"51\",\"57\",\"52\",\"49\",\"52\",\"52\",\"50\",\"62\",\"63\",\"51\",\"57\",\"52\",\"52\",\"56\",\"53\",\"53\",\"51\",\"48\",\"56\",\"53\",\"62\",\"57\",\"57\",\"56\",\"54\",\"52\",\"54\",\"51\",\"53\",\"54\",\"63\",\"52\",\"55\",\"51\",\"53\",\"54\",\"51\",\"47\",\"50\",\"51\",\"54\",\"53\",\"55\",\"48\",\"56\",\"54\",\"53\",\"55\",\"56\",\"49\",\"51\",\"51\",\"51\",\"53\",\"57\",\"54\",\"51\",\"50\",\"56\",\"53\",\"47\",\"52\",\"54\",\"55\",\"55\",\"53\",\"47\",\"54\",\"52\",\"63\",\"63\",\"58\",\"62\",\"50\"],\"xaxis\":\"x\",\"y\":[\"28\",\"29\",\"30\",\"31\",\"26\",\"27\",\"28\",\"29\",\"30\",\"31\",\"26\",\"27\",\"28\",\"29\",\"30\",\"31\",\"26\",\"27\",\"28\",\"29\",\"30\",\"31\",\"25\",\"26\",\"27\",\"28\",\"29\",\"30\",\"31\",\"29\",\"30\",\"31\",\"7\",\"8\",\"9\",\"10\",\"0\",\"1\",\"2\",\"3\",\"4\",\"5\",\"6\",\"7\",\"8\",\"9\",\"10\",\"11\",\"14\",\"0\",\"1\",\"2\",\"3\",\"4\",\"5\",\"6\",\"7\",\"8\",\"12\",\"13\",\"0\",\"12\",\"27\",\"28\",\"3\",\"5\",\"17\",\"18\",\"19\",\"20\",\"21\",\"22\",\"23\",\"24\",\"25\",\"26\",\"27\",\"3\",\"4\",\"5\",\"6\",\"22\",\"23\",\"24\",\"25\",\"0\",\"1\",\"2\",\"3\",\"4\",\"5\",\"6\",\"7\",\"8\",\"16\",\"22\",\"23\",\"24\",\"0\",\"1\",\"2\",\"3\",\"4\",\"5\",\"6\",\"31\",\"24\",\"25\",\"26\",\"27\",\"28\",\"29\",\"17\",\"18\",\"19\",\"20\",\"22\",\"23\",\"24\",\"25\",\"26\",\"31\",\"24\",\"25\",\"26\",\"27\",\"28\",\"29\",\"30\",\"31\",\"25\",\"26\",\"27\",\"28\",\"29\",\"30\",\"17\",\"18\",\"20\",\"21\",\"22\",\"23\",\"24\",\"25\",\"26\",\"0\",\"1\",\"3\",\"4\",\"5\",\"6\",\"7\",\"21\",\"24\",\"25\",\"26\",\"27\",\"28\",\"24\",\"25\",\"26\",\"27\",\"28\",\"29\",\"30\",\"16\",\"18\",\"12\",\"20\",\"23\",\"20\",\"10\",\"9\",\"18\",\"2\",\"19\",\"21\",\"15\",\"24\",\"23\",\"17\",\"12\",\"2\",\"17\",\"9\",\"15\",\"0\",\"1\",\"20\",\"7\",\"21\",\"19\",\"20\",\"23\",\"11\",\"17\",\"0\",\"23\",\"22\",\"16\",\"8\",\"11\",\"8\",\"20\",\"11\",\"21\",\"21\",\"13\",\"16\",\"18\",\"19\",\"16\",\"10\",\"19\",\"22\",\"21\",\"7\",\"7\",\"1\",\"22\",\"16\",\"19\",\"0\",\"18\",\"12\",\"8\",\"19\",\"15\",\"10\",\"16\",\"10\",\"17\",\"22\",\"8\",\"10\",\"2\",\"11\",\"17\"],\"yaxis\":\"y\",\"type\":\"scatter\"},{\"customdata\":[[\"616\",\"6\"],[\"616\",\"6\"],[\"616\",\"6\"],[\"616\",\"6\"],[\"616\",\"6\"],[\"616\",\"6\"],[\"616\",\"6\"],[\"616\",\"6\"],[\"616\",\"6\"],[\"616\",\"6\"],[\"616\",\"6\"],[\"616\",\"6\"],[\"616\",\"6\"],[\"616\",\"6\"],[\"616\",\"6\"],[\"616\",\"6\"],[\"616\",\"6\"],[\"616\",\"6\"],[\"616\",\"6\"],[\"616\",\"6\"],[\"616\",\"6\"],[\"616\",\"6\"],[\"616\",\"6\"],[\"616\",\"6\"],[\"616\",\"6\"],[\"616\",\"6\"],[\"616\",\"6\"],[\"616\",\"6\"],[\"616\",\"6\"],[\"616\",\"6\"],[\"616\",\"6\"],[\"616\",\"6\"],[\"616\",\"6\"],[\"616\",\"6\"],[\"616\",\"6\"],[\"616\",\"6\"],[\"616\",\"6\"],[\"616\",\"6\"],[\"616\",\"6\"],[\"616\",\"6\"],[\"616\",\"6\"],[\"616\",\"6\"],[\"616\",\"6\"],[\"616\",\"6\"],[\"616\",\"6\"],[\"616\",\"6\"],[\"616\",\"6\"],[\"616\",\"6\"],[\"616\",\"6\"],[\"616\",\"6\"],[\"616\",\"6\"],[\"616\",\"6\"],[\"616\",\"6\"],[\"616\",\"6\"],[\"616\",\"6\"],[\"616\",\"6\"],[\"616\",\"6\"],[\"616\",\"6\"],[\"616\",\"6\"],[\"616\",\"6\"],[\"616\",\"6\"],[\"616\",\"6\"],[\"616\",\"6\"],[\"616\",\"6\"],[\"616\",\"6\"],[\"616\",\"6\"],[\"616\",\"6\"],[\"616\",\"6\"],[\"616\",\"6\"],[\"616\",\"6\"],[\"616\",\"6\"],[\"616\",\"6\"],[\"616\",\"6\"],[\"616\",\"6\"],[\"616\",\"6\"],[\"616\",\"6\"],[\"616\",\"6\"],[\"616\",\"6\"],[\"616\",\"6\"],[\"616\",\"6\"],[\"616\",\"6\"],[\"616\",\"6\"],[\"616\",\"6\"],[\"616\",\"6\"],[\"616\",\"6\"],[\"616\",\"6\"],[\"616\",\"6\"],[\"616\",\"6\"],[\"616\",\"6\"],[\"616\",\"6\"],[\"616\",\"6\"],[\"616\",\"6\"],[\"616\",\"6\"],[\"616\",\"6\"],[\"616\",\"6\"],[\"616\",\"6\"],[\"616\",\"6\"],[\"616\",\"6\"],[\"616\",\"6\"],[\"616\",\"6\"],[\"616\",\"6\"],[\"616\",\"6\"],[\"616\",\"6\"],[\"616\",\"6\"],[\"616\",\"6\"],[\"616\",\"6\"],[\"616\",\"6\"],[\"616\",\"6\"],[\"616\",\"6\"],[\"616\",\"6\"],[\"616\",\"6\"],[\"616\",\"6\"],[\"616\",\"6\"],[\"616\",\"6\"],[\"616\",\"6\"],[\"616\",\"6\"],[\"616\",\"6\"],[\"616\",\"6\"],[\"616\",\"6\"]],\"hovertemplate\":\"Stability=5.099999999999996<br>x=%{x}<br>y=%{y}<br>economy=%{customdata[0]}<br>age=%{customdata[1]}<extra></extra>\",\"legendgroup\":\"5.099999999999996\",\"marker\":{\"color\":\"#EF553B\",\"symbol\":\"hexagon\",\"size\":15},\"mode\":\"markers\",\"name\":\"5.099999999999996\",\"orientation\":\"v\",\"showlegend\":true,\"x\":[\"49\",\"49\",\"49\",\"50\",\"50\",\"50\",\"50\",\"50\",\"50\",\"50\",\"50\",\"50\",\"50\",\"51\",\"51\",\"58\",\"58\",\"59\",\"59\",\"59\",\"59\",\"59\",\"59\",\"59\",\"60\",\"60\",\"60\",\"60\",\"60\",\"61\",\"61\",\"48\",\"48\",\"48\",\"48\",\"48\",\"48\",\"48\",\"49\",\"49\",\"49\",\"49\",\"49\",\"49\",\"49\",\"49\",\"51\",\"51\",\"51\",\"52\",\"52\",\"52\",\"52\",\"52\",\"52\",\"52\",\"52\",\"53\",\"53\",\"46\",\"46\",\"46\",\"46\",\"46\",\"47\",\"47\",\"47\",\"47\",\"47\",\"47\",\"47\",\"48\",\"48\",\"48\",\"53\",\"53\",\"53\",\"53\",\"53\",\"53\",\"54\",\"54\",\"54\",\"54\",\"54\",\"54\",\"54\",\"54\",\"55\",\"55\",\"55\",\"55\",\"55\",\"55\",\"55\",\"56\",\"56\",\"56\",\"56\",\"56\",\"56\",\"56\",\"56\",\"57\",\"57\",\"57\",\"57\",\"57\",\"57\",\"57\",\"57\",\"58\",\"58\",\"58\",\"58\",\"58\",\"58\",\"58\",\"58\"],\"xaxis\":\"x\",\"y\":[\"16\",\"17\",\"18\",\"7\",\"9\",\"10\",\"11\",\"12\",\"13\",\"14\",\"15\",\"16\",\"18\",\"9\",\"10\",\"16\",\"17\",\"9\",\"10\",\"11\",\"12\",\"13\",\"14\",\"15\",\"11\",\"12\",\"13\",\"14\",\"15\",\"12\",\"13\",\"10\",\"11\",\"14\",\"15\",\"16\",\"17\",\"18\",\"7\",\"8\",\"9\",\"10\",\"11\",\"13\",\"14\",\"15\",\"11\",\"14\",\"15\",\"9\",\"10\",\"11\",\"12\",\"13\",\"14\",\"15\",\"16\",\"8\",\"9\",\"12\",\"13\",\"14\",\"15\",\"16\",\"8\",\"9\",\"13\",\"14\",\"15\",\"16\",\"17\",\"7\",\"8\",\"9\",\"10\",\"11\",\"12\",\"13\",\"14\",\"15\",\"7\",\"8\",\"9\",\"10\",\"12\",\"13\",\"14\",\"15\",\"7\",\"8\",\"9\",\"11\",\"12\",\"13\",\"14\",\"6\",\"7\",\"8\",\"9\",\"11\",\"12\",\"13\",\"14\",\"7\",\"8\",\"9\",\"10\",\"11\",\"12\",\"13\",\"14\",\"8\",\"9\",\"10\",\"11\",\"12\",\"13\",\"14\",\"15\"],\"yaxis\":\"y\",\"type\":\"scatter\"},{\"customdata\":[[\"440\",\"4\"]],\"hovertemplate\":\"Stability=3.1<br>x=%{x}<br>y=%{y}<br>economy=%{customdata[0]}<br>age=%{customdata[1]}<extra></extra>\",\"legendgroup\":\"3.1\",\"marker\":{\"color\":\"#00cc96\",\"symbol\":\"hexagon\",\"size\":15},\"mode\":\"markers\",\"name\":\"3.1\",\"orientation\":\"v\",\"showlegend\":true,\"x\":[\"51\"],\"xaxis\":\"x\",\"y\":[\"13\"],\"yaxis\":\"y\",\"type\":\"scatter\"},{\"customdata\":[[\"185\",\"1\"]],\"hovertemplate\":\"Stability=1.5<br>x=%{x}<br>y=%{y}<br>economy=%{customdata[0]}<br>age=%{customdata[1]}<extra></extra>\",\"legendgroup\":\"1.5\",\"marker\":{\"color\":\"#ab63fa\",\"symbol\":\"hexagon\",\"size\":15},\"mode\":\"markers\",\"name\":\"1.5\",\"orientation\":\"v\",\"showlegend\":true,\"x\":[\"51\"],\"xaxis\":\"x\",\"y\":[\"12\"],\"yaxis\":\"y\",\"type\":\"scatter\"}],                        {\"template\":{\"data\":{\"histogram2dcontour\":[{\"type\":\"histogram2dcontour\",\"colorbar\":{\"outlinewidth\":0,\"ticks\":\"\"},\"colorscale\":[[0.0,\"#0d0887\"],[0.1111111111111111,\"#46039f\"],[0.2222222222222222,\"#7201a8\"],[0.3333333333333333,\"#9c179e\"],[0.4444444444444444,\"#bd3786\"],[0.5555555555555556,\"#d8576b\"],[0.6666666666666666,\"#ed7953\"],[0.7777777777777778,\"#fb9f3a\"],[0.8888888888888888,\"#fdca26\"],[1.0,\"#f0f921\"]]}],\"choropleth\":[{\"type\":\"choropleth\",\"colorbar\":{\"outlinewidth\":0,\"ticks\":\"\"}}],\"histogram2d\":[{\"type\":\"histogram2d\",\"colorbar\":{\"outlinewidth\":0,\"ticks\":\"\"},\"colorscale\":[[0.0,\"#0d0887\"],[0.1111111111111111,\"#46039f\"],[0.2222222222222222,\"#7201a8\"],[0.3333333333333333,\"#9c179e\"],[0.4444444444444444,\"#bd3786\"],[0.5555555555555556,\"#d8576b\"],[0.6666666666666666,\"#ed7953\"],[0.7777777777777778,\"#fb9f3a\"],[0.8888888888888888,\"#fdca26\"],[1.0,\"#f0f921\"]]}],\"heatmap\":[{\"type\":\"heatmap\",\"colorbar\":{\"outlinewidth\":0,\"ticks\":\"\"},\"colorscale\":[[0.0,\"#0d0887\"],[0.1111111111111111,\"#46039f\"],[0.2222222222222222,\"#7201a8\"],[0.3333333333333333,\"#9c179e\"],[0.4444444444444444,\"#bd3786\"],[0.5555555555555556,\"#d8576b\"],[0.6666666666666666,\"#ed7953\"],[0.7777777777777778,\"#fb9f3a\"],[0.8888888888888888,\"#fdca26\"],[1.0,\"#f0f921\"]]}],\"heatmapgl\":[{\"type\":\"heatmapgl\",\"colorbar\":{\"outlinewidth\":0,\"ticks\":\"\"},\"colorscale\":[[0.0,\"#0d0887\"],[0.1111111111111111,\"#46039f\"],[0.2222222222222222,\"#7201a8\"],[0.3333333333333333,\"#9c179e\"],[0.4444444444444444,\"#bd3786\"],[0.5555555555555556,\"#d8576b\"],[0.6666666666666666,\"#ed7953\"],[0.7777777777777778,\"#fb9f3a\"],[0.8888888888888888,\"#fdca26\"],[1.0,\"#f0f921\"]]}],\"contourcarpet\":[{\"type\":\"contourcarpet\",\"colorbar\":{\"outlinewidth\":0,\"ticks\":\"\"}}],\"contour\":[{\"type\":\"contour\",\"colorbar\":{\"outlinewidth\":0,\"ticks\":\"\"},\"colorscale\":[[0.0,\"#0d0887\"],[0.1111111111111111,\"#46039f\"],[0.2222222222222222,\"#7201a8\"],[0.3333333333333333,\"#9c179e\"],[0.4444444444444444,\"#bd3786\"],[0.5555555555555556,\"#d8576b\"],[0.6666666666666666,\"#ed7953\"],[0.7777777777777778,\"#fb9f3a\"],[0.8888888888888888,\"#fdca26\"],[1.0,\"#f0f921\"]]}],\"surface\":[{\"type\":\"surface\",\"colorbar\":{\"outlinewidth\":0,\"ticks\":\"\"},\"colorscale\":[[0.0,\"#0d0887\"],[0.1111111111111111,\"#46039f\"],[0.2222222222222222,\"#7201a8\"],[0.3333333333333333,\"#9c179e\"],[0.4444444444444444,\"#bd3786\"],[0.5555555555555556,\"#d8576b\"],[0.6666666666666666,\"#ed7953\"],[0.7777777777777778,\"#fb9f3a\"],[0.8888888888888888,\"#fdca26\"],[1.0,\"#f0f921\"]]}],\"mesh3d\":[{\"type\":\"mesh3d\",\"colorbar\":{\"outlinewidth\":0,\"ticks\":\"\"}}],\"scatter\":[{\"fillpattern\":{\"fillmode\":\"overlay\",\"size\":10,\"solidity\":0.2},\"type\":\"scatter\"}],\"parcoords\":[{\"type\":\"parcoords\",\"line\":{\"colorbar\":{\"outlinewidth\":0,\"ticks\":\"\"}}}],\"scatterpolargl\":[{\"type\":\"scatterpolargl\",\"marker\":{\"colorbar\":{\"outlinewidth\":0,\"ticks\":\"\"}}}],\"bar\":[{\"error_x\":{\"color\":\"#2a3f5f\"},\"error_y\":{\"color\":\"#2a3f5f\"},\"marker\":{\"line\":{\"color\":\"#E5ECF6\",\"width\":0.5},\"pattern\":{\"fillmode\":\"overlay\",\"size\":10,\"solidity\":0.2}},\"type\":\"bar\"}],\"scattergeo\":[{\"type\":\"scattergeo\",\"marker\":{\"colorbar\":{\"outlinewidth\":0,\"ticks\":\"\"}}}],\"scatterpolar\":[{\"type\":\"scatterpolar\",\"marker\":{\"colorbar\":{\"outlinewidth\":0,\"ticks\":\"\"}}}],\"histogram\":[{\"marker\":{\"pattern\":{\"fillmode\":\"overlay\",\"size\":10,\"solidity\":0.2}},\"type\":\"histogram\"}],\"scattergl\":[{\"type\":\"scattergl\",\"marker\":{\"colorbar\":{\"outlinewidth\":0,\"ticks\":\"\"}}}],\"scatter3d\":[{\"type\":\"scatter3d\",\"line\":{\"colorbar\":{\"outlinewidth\":0,\"ticks\":\"\"}},\"marker\":{\"colorbar\":{\"outlinewidth\":0,\"ticks\":\"\"}}}],\"scattermapbox\":[{\"type\":\"scattermapbox\",\"marker\":{\"colorbar\":{\"outlinewidth\":0,\"ticks\":\"\"}}}],\"scatterternary\":[{\"type\":\"scatterternary\",\"marker\":{\"colorbar\":{\"outlinewidth\":0,\"ticks\":\"\"}}}],\"scattercarpet\":[{\"type\":\"scattercarpet\",\"marker\":{\"colorbar\":{\"outlinewidth\":0,\"ticks\":\"\"}}}],\"carpet\":[{\"aaxis\":{\"endlinecolor\":\"#2a3f5f\",\"gridcolor\":\"white\",\"linecolor\":\"white\",\"minorgridcolor\":\"white\",\"startlinecolor\":\"#2a3f5f\"},\"baxis\":{\"endlinecolor\":\"#2a3f5f\",\"gridcolor\":\"white\",\"linecolor\":\"white\",\"minorgridcolor\":\"white\",\"startlinecolor\":\"#2a3f5f\"},\"type\":\"carpet\"}],\"table\":[{\"cells\":{\"fill\":{\"color\":\"#EBF0F8\"},\"line\":{\"color\":\"white\"}},\"header\":{\"fill\":{\"color\":\"#C8D4E3\"},\"line\":{\"color\":\"white\"}},\"type\":\"table\"}],\"barpolar\":[{\"marker\":{\"line\":{\"color\":\"#E5ECF6\",\"width\":0.5},\"pattern\":{\"fillmode\":\"overlay\",\"size\":10,\"solidity\":0.2}},\"type\":\"barpolar\"}],\"pie\":[{\"automargin\":true,\"type\":\"pie\"}]},\"layout\":{\"autotypenumbers\":\"strict\",\"colorway\":[\"#636efa\",\"#EF553B\",\"#00cc96\",\"#ab63fa\",\"#FFA15A\",\"#19d3f3\",\"#FF6692\",\"#B6E880\",\"#FF97FF\",\"#FECB52\"],\"font\":{\"color\":\"#2a3f5f\"},\"hovermode\":\"closest\",\"hoverlabel\":{\"align\":\"left\"},\"paper_bgcolor\":\"white\",\"plot_bgcolor\":\"#E5ECF6\",\"polar\":{\"bgcolor\":\"#E5ECF6\",\"angularaxis\":{\"gridcolor\":\"white\",\"linecolor\":\"white\",\"ticks\":\"\"},\"radialaxis\":{\"gridcolor\":\"white\",\"linecolor\":\"white\",\"ticks\":\"\"}},\"ternary\":{\"bgcolor\":\"#E5ECF6\",\"aaxis\":{\"gridcolor\":\"white\",\"linecolor\":\"white\",\"ticks\":\"\"},\"baxis\":{\"gridcolor\":\"white\",\"linecolor\":\"white\",\"ticks\":\"\"},\"caxis\":{\"gridcolor\":\"white\",\"linecolor\":\"white\",\"ticks\":\"\"}},\"coloraxis\":{\"colorbar\":{\"outlinewidth\":0,\"ticks\":\"\"}},\"colorscale\":{\"sequential\":[[0.0,\"#0d0887\"],[0.1111111111111111,\"#46039f\"],[0.2222222222222222,\"#7201a8\"],[0.3333333333333333,\"#9c179e\"],[0.4444444444444444,\"#bd3786\"],[0.5555555555555556,\"#d8576b\"],[0.6666666666666666,\"#ed7953\"],[0.7777777777777778,\"#fb9f3a\"],[0.8888888888888888,\"#fdca26\"],[1.0,\"#f0f921\"]],\"sequentialminus\":[[0.0,\"#0d0887\"],[0.1111111111111111,\"#46039f\"],[0.2222222222222222,\"#7201a8\"],[0.3333333333333333,\"#9c179e\"],[0.4444444444444444,\"#bd3786\"],[0.5555555555555556,\"#d8576b\"],[0.6666666666666666,\"#ed7953\"],[0.7777777777777778,\"#fb9f3a\"],[0.8888888888888888,\"#fdca26\"],[1.0,\"#f0f921\"]],\"diverging\":[[0,\"#8e0152\"],[0.1,\"#c51b7d\"],[0.2,\"#de77ae\"],[0.3,\"#f1b6da\"],[0.4,\"#fde0ef\"],[0.5,\"#f7f7f7\"],[0.6,\"#e6f5d0\"],[0.7,\"#b8e186\"],[0.8,\"#7fbc41\"],[0.9,\"#4d9221\"],[1,\"#276419\"]]},\"xaxis\":{\"gridcolor\":\"white\",\"linecolor\":\"white\",\"ticks\":\"\",\"title\":{\"standoff\":15},\"zerolinecolor\":\"white\",\"automargin\":true,\"zerolinewidth\":2},\"yaxis\":{\"gridcolor\":\"white\",\"linecolor\":\"white\",\"ticks\":\"\",\"title\":{\"standoff\":15},\"zerolinecolor\":\"white\",\"automargin\":true,\"zerolinewidth\":2},\"scene\":{\"xaxis\":{\"backgroundcolor\":\"#E5ECF6\",\"gridcolor\":\"white\",\"linecolor\":\"white\",\"showbackground\":true,\"ticks\":\"\",\"zerolinecolor\":\"white\",\"gridwidth\":2},\"yaxis\":{\"backgroundcolor\":\"#E5ECF6\",\"gridcolor\":\"white\",\"linecolor\":\"white\",\"showbackground\":true,\"ticks\":\"\",\"zerolinecolor\":\"white\",\"gridwidth\":2},\"zaxis\":{\"backgroundcolor\":\"#E5ECF6\",\"gridcolor\":\"white\",\"linecolor\":\"white\",\"showbackground\":true,\"ticks\":\"\",\"zerolinecolor\":\"white\",\"gridwidth\":2}},\"shapedefaults\":{\"line\":{\"color\":\"#2a3f5f\"}},\"annotationdefaults\":{\"arrowcolor\":\"#2a3f5f\",\"arrowhead\":0,\"arrowwidth\":1},\"geo\":{\"bgcolor\":\"white\",\"landcolor\":\"#E5ECF6\",\"subunitcolor\":\"white\",\"showland\":true,\"showlakes\":true,\"lakecolor\":\"white\"},\"title\":{\"x\":0.05},\"mapbox\":{\"style\":\"light\"}}},\"xaxis\":{\"anchor\":\"y\",\"domain\":[0.0,1.0],\"title\":{\"text\":\"X Coordinate\"}},\"yaxis\":{\"anchor\":\"x\",\"domain\":[0.0,1.0],\"title\":{\"text\":\"Y Coordinate\"}},\"legend\":{\"title\":{\"text\":\"Stability\"},\"tracegroupgap\":0},\"title\":{\"text\":\"Territory of Money AI Empire\"},\"showlegend\":true,\"plot_bgcolor\":\"white\"},                        {\"responsive\": true}                    )                };                            </script>        </div>\n",
       "</body>\n",
       "</html>"
      ]
     },
     "metadata": {},
     "output_type": "display_data"
    }
   ],
   "source": [
    "from pyspark.sql.functions import col, desc\n",
    "import plotly.express as px\n",
    "\n",
    "# Query Delta table for visualization\n",
    "metrics_df = spark.read.format(\"delta\").load(delta_table_path).orderBy(desc(\"Age\"))\n",
    "\n",
    "# Filter for a specific empire (optional)\n",
    "empire_name = \"Money AI Empire\"\n",
    "empire_data = metrics_df.filter(col(\"empire_name\") == empire_name).toPandas()\n",
    "\n",
    "# Create a scatter plot of the empire's tiles\n",
    "fig = px.scatter(\n",
    "    empire_data,\n",
    "    x=\"x\",\n",
    "    y=\"y\",\n",
    "    color=\"stability\",\n",
    "    title=f\"Territory of {empire_name}\",\n",
    "    labels={\"stability\": \"Stability\"},\n",
    "    hover_data=[\"economy\", \"age\"]\n",
    ")\n",
    "fig.update_traces(marker=dict(symbol=\"hexagon\", size=15))\n",
    "fig.update_layout(\n",
    "    xaxis=dict(title=\"X Coordinate\"),\n",
    "    yaxis=dict(title=\"Y Coordinate\"),\n",
    "    showlegend=True,\n",
    "    plot_bgcolor=\"white\",\n",
    ")\n",
    "fig.show()\n"
   ]
  },
  {
   "cell_type": "code",
   "execution_count": 0,
   "metadata": {
    "application/vnd.databricks.v1+cell": {
     "cellMetadata": {
      "byteLimit": 2048000,
      "rowLimit": 10000
     },
     "inputWidgets": {},
     "nuid": "ce5d03c8-9060-4fae-919a-dfe284d3634c",
     "showTitle": false,
     "tableResultSettingsMap": {},
     "title": ""
    }
   },
   "outputs": [
    {
     "output_type": "display_data",
     "data": {
      "text/html": [
       "<html>\n",
       "<head><meta charset=\"utf-8\" /></head>\n",
       "<body>\n",
       "    <div>            <script src=\"https://cdnjs.cloudflare.com/ajax/libs/mathjax/2.7.5/MathJax.js?config=TeX-AMS-MML_SVG\"></script><script type=\"text/javascript\">if (window.MathJax && window.MathJax.Hub && window.MathJax.Hub.Config) {window.MathJax.Hub.Config({SVG: {font: \"STIX-Web\"}});}</script>                <script type=\"text/javascript\">window.PlotlyConfig = {MathJaxConfig: 'local'};</script>\n",
       "        <script src=\"https://cdn.plot.ly/plotly-2.12.1.min.js\"></script>                <div id=\"f35167e8-ee4b-4c1d-bcff-83c3c9256627\" class=\"plotly-graph-div\" style=\"height:100%; width:100%;\"></div>            <script type=\"text/javascript\">                                    window.PLOTLYENV=window.PLOTLYENV || {};                                    if (document.getElementById(\"f35167e8-ee4b-4c1d-bcff-83c3c9256627\")) {                    Plotly.newPlot(                        \"f35167e8-ee4b-4c1d-bcff-83c3c9256627\",                        [{\"customdata\":[[5.0,961.0],[5.0,961.0],[5.0,851.0],[5.0,851.0],[4.5,746.0],[4.5,746.0],[3.5,546.0],[3.5,546.0],[3.0,451.0],[2.5,358.0],[2.5,358.0],[2.0,270.0],[5.0,1349.0],[5.0,1349.0],[5.0,1349.0],[5.0,1209.0],[5.0,1209.0],[5.0,1209.0],[5.0,1209.0],[5.0,1079.0],[5.0,1079.0],[5.0,1079.0],[5.0,1079.0],[5.0,1079.0],[1.5,185.0]],\"hovertemplate\":\"empire_name=Empire 11<br>col=%{x}<br>row=%{y}<br>economy=%{customdata[1]}<br>stability=%{customdata[0]}<extra></extra>\",\"legendgroup\":\"Empire 11\",\"marker\":{\"color\":\"#636efa\",\"size\":[961,961,851,851,746,746,546,546,451,358,358,270,1349,1349,1349,1209,1209,1209,1209,1079,1079,1079,1079,1079,185],\"sizemode\":\"area\",\"sizeref\":3.6275,\"symbol\":\"hexagon\"},\"mode\":\"markers\",\"name\":\"Empire 11\",\"orientation\":\"v\",\"showlegend\":true,\"x\":[31.5,36.0,34.5,36.0,34.5,36.0,31.5,33.0,31.5,33.0,33.0,33.0,27.0,28.5,30.0,28.5,30.0,33.0,31.5,30.0,31.5,34.5,36.0,33.0,34.5],\"xaxis\":\"x\",\"y\":[51.96152422706631,45.033320996790806,45.033320996790806,50.22947341949744,46.76537180435968,48.49742261192856,46.76537180435968,45.033320996790806,50.22947341949744,46.76537180435968,50.22947341949744,48.49742261192856,51.96152422706631,48.49742261192856,46.76537180435968,51.96152422706631,48.49742261192856,51.96152422706631,53.693575034635195,50.22947341949744,48.49742261192856,50.22947341949744,46.76537180435968,53.693575034635195,48.49742261192856],\"yaxis\":\"y\",\"type\":\"scatter\"},{\"customdata\":[[5.0,1000.0],[5.0,1000.0],[5.0,1000.0],[5.0,1000.0],[5.0,872.0],[5.0,872.0],[5.0,872.0],[5.0,872.0],[5.0,872.0],[4.5,757.0],[4.5,757.0],[4.5,757.0],[4.5,757.0],[4.0,652.0],[3.5,549.0],[3.5,549.0],[3.0,451.0],[3.0,451.0],[3.0,451.0],[2.5,361.0],[5.0,1451.0],[5.0,1451.0],[5.0,1451.0],[5.0,1451.0],[5.0,1289.0],[5.0,1289.0],[5.0,1289.0],[5.0,1289.0],[5.0,1289.0],[5.0,1137.0],[5.0,1137.0],[5.0,1137.0],[5.0,1137.0],[5.0,1137.0],[5.0,1137.0],[5.0,1137.0],[1.5,185.0],[1.5,185.0]],\"hovertemplate\":\"empire_name=Empire 6<br>col=%{x}<br>row=%{y}<br>economy=%{customdata[1]}<br>stability=%{customdata[0]}<extra></extra>\",\"legendgroup\":\"Empire 6\",\"marker\":{\"color\":\"#EF553B\",\"size\":[1000,1000,1000,1000,872,872,872,872,872,757,757,757,757,652,549,549,451,451,451,361,1451,1451,1451,1451,1289,1289,1289,1289,1289,1137,1137,1137,1137,1137,1137,1137,185,185],\"sizemode\":\"area\",\"sizeref\":3.6275,\"symbol\":\"hexagon\"},\"mode\":\"markers\",\"name\":\"Empire 6\",\"orientation\":\"v\",\"showlegend\":true,\"x\":[6.0,10.5,10.5,13.5,6.0,6.0,15.0,9.0,10.5,7.5,7.5,10.5,13.5,13.5,7.5,12.0,9.0,12.0,12.0,10.5,4.5,4.5,16.5,7.5,10.5,12.0,4.5,6.0,13.5,15.0,15.0,15.0,7.5,9.0,9.0,12.0,9.0,10.5],\"xaxis\":\"x\",\"y\":[27.712812921102035,25.980762113533157,34.64101615137754,31.17691453623979,29.444863728670914,31.17691453623979,29.444863728670914,34.64101615137754,29.444863728670914,27.712812921102035,29.444863728670914,27.712812921102035,32.90896534380867,29.444863728670914,31.17691453623979,34.64101615137754,29.444863728670914,31.17691453623979,32.90896534380867,32.90896534380867,24.24871130596428,27.712812921102035,27.712812921102035,24.24871130596428,36.373066958946424,29.444863728670914,29.444863728670914,25.980762113533157,27.712812921102035,27.712812921102035,31.17691453623979,32.90896534380867,25.980762113533157,27.712812921102035,32.90896534380867,27.712812921102035,31.17691453623979,31.17691453623979],\"yaxis\":\"y\",\"type\":\"scatter\"},{\"customdata\":[[5.0,957.0],[5.0,957.0],[5.0,849.0],[4.5,744.0],[4.5,744.0],[4.0,644.0],[4.0,644.0],[4.0,644.0],[2.5,365.0],[5.0,1316.0],[5.0,1316.0],[5.0,1316.0],[5.0,1316.0],[5.0,1316.0],[5.0,1188.0],[5.0,1188.0],[5.0,1188.0],[5.0,1188.0],[5.0,1070.0],[5.0,1070.0],[1.5,185.0],[1.5,185.0],[1.5,185.0]],\"hovertemplate\":\"empire_name=Empire 5<br>col=%{x}<br>row=%{y}<br>economy=%{customdata[1]}<br>stability=%{customdata[0]}<extra></extra>\",\"legendgroup\":\"Empire 5\",\"marker\":{\"color\":\"#00cc96\",\"size\":[957,957,849,744,744,644,644,644,365,1316,1316,1316,1316,1316,1188,1188,1188,1188,1070,1070,185,185,185],\"sizemode\":\"area\",\"sizeref\":3.6275,\"symbol\":\"hexagon\"},\"mode\":\"markers\",\"name\":\"Empire 5\",\"orientation\":\"v\",\"showlegend\":true,\"x\":[31.5,34.5,30.0,31.5,33.0,31.5,34.5,36.0,34.5,27.0,28.5,28.5,27.0,34.5,36.0,28.5,33.0,31.5,30.0,36.0,33.0,33.0,34.5],\"xaxis\":\"x\",\"y\":[43.30127018922193,38.1051177665153,39.837168574084174,41.569219381653056,39.837168574084174,39.837168574084174,43.30127018922193,39.837168574084174,39.837168574084174,41.569219381653056,39.837168574084174,38.1051177665153,43.30127018922193,36.373066958946424,38.1051177665153,41.569219381653056,38.1051177665153,38.1051177665153,41.569219381653056,41.569219381653056,41.569219381653056,43.30127018922193,41.569219381653056],\"yaxis\":\"y\",\"type\":\"scatter\"},{\"customdata\":[[5.0,921.0],[5.0,921.0],[5.0,821.0],[4.5,723.0],[4.0,628.0],[4.0,628.0],[2.5,358.0],[2.0,270.0],[5.0,1026.0],[1.5,185.0]],\"hovertemplate\":\"empire_name=Empire 7<br>col=%{x}<br>row=%{y}<br>economy=%{customdata[1]}<br>stability=%{customdata[0]}<extra></extra>\",\"legendgroup\":\"Empire 7\",\"marker\":{\"color\":\"#ab63fa\",\"size\":[921,921,821,723,628,628,358,270,1026,185],\"sizemode\":\"area\",\"sizeref\":3.6275,\"symbol\":\"hexagon\"},\"mode\":\"markers\",\"name\":\"Empire 7\",\"orientation\":\"v\",\"showlegend\":true,\"x\":[60.0,63.0,61.5,61.5,58.5,63.0,61.5,60.0,58.5,58.5],\"xaxis\":\"x\",\"y\":[39.837168574084174,39.837168574084174,38.1051177665153,39.837168574084174,39.837168574084174,41.569219381653056,41.569219381653056,41.569219381653056,38.1051177665153,41.569219381653056],\"yaxis\":\"y\",\"type\":\"scatter\"},{\"customdata\":[[5.0,886.0],[5.0,886.0],[5.0,791.0],[5.0,791.0],[4.5,701.0],[3.5,525.0],[5.0,1197.0],[5.0,1197.0],[5.0,1197.0],[5.0,1089.0],[5.0,1089.0],[5.0,986.0],[1.5,185.0]],\"hovertemplate\":\"empire_name=Empire 16<br>col=%{x}<br>row=%{y}<br>economy=%{customdata[1]}<br>stability=%{customdata[0]}<extra></extra>\",\"legendgroup\":\"Empire 16\",\"marker\":{\"color\":\"#FFA15A\",\"size\":[886,886,791,791,701,525,1197,1197,1197,1089,1089,986,185],\"sizemode\":\"area\",\"sizeref\":3.6275,\"symbol\":\"hexagon\"},\"mode\":\"markers\",\"name\":\"Empire 16\",\"orientation\":\"v\",\"showlegend\":true,\"x\":[54.0,52.5,51.0,52.5,51.0,52.5,51.0,55.5,54.0,55.5,51.0,55.5,52.5],\"xaxis\":\"x\",\"y\":[10.392304845413264,15.588457268119894,13.856406460551018,10.392304845413264,15.588457268119894,12.12435565298214,17.32050807568877,12.12435565298214,8.660254037844386,10.392304845413264,12.12435565298214,8.660254037844386,13.856406460551018],\"yaxis\":\"y\",\"type\":\"scatter\"},{\"customdata\":[[5.0,879.0],[5.0,879.0],[5.0,786.0],[5.0,786.0],[4.0,610.0],[5.0,1185.0],[5.0,1185.0],[5.0,1185.0],[5.0,1185.0],[5.0,1077.0],[5.0,1077.0],[5.0,1077.0],[5.0,977.0],[1.5,185.0]],\"hovertemplate\":\"empire_name=Empire 14<br>col=%{x}<br>row=%{y}<br>economy=%{customdata[1]}<br>stability=%{customdata[0]}<extra></extra>\",\"legendgroup\":\"Empire 14\",\"marker\":{\"color\":\"#19d3f3\",\"size\":[879,879,786,786,610,1185,1185,1185,1185,1077,1077,1077,977,185],\"sizemode\":\"area\",\"sizeref\":3.6275,\"symbol\":\"hexagon\"},\"mode\":\"markers\",\"name\":\"Empire 14\",\"orientation\":\"v\",\"showlegend\":true,\"x\":[6.0,9.0,7.5,9.0,7.5,12.0,6.0,12.0,9.0,4.5,9.0,10.5,10.5,7.5],\"xaxis\":\"x\",\"y\":[6.928203230275509,10.392304845413264,8.660254037844386,8.660254037844386,5.196152422706632,8.660254037844386,5.196152422706632,12.12435565298214,5.196152422706632,5.196152422706632,6.928203230275509,10.392304845413264,8.660254037844386,6.928203230275509],\"yaxis\":\"y\",\"type\":\"scatter\"},{\"customdata\":[[5.0,1424.0],[5.0,1424.0],[5.0,1424.0],[5.0,1424.0],[5.0,1424.0],[5.0,1424.0],[5.0,1424.0],[5.0,1424.0],[5.0,1424.0],[5.0,1424.0],[5.0,1424.0],[5.0,1424.0],[5.0,1424.0],[5.0,1424.0],[5.0,1424.0],[5.0,1424.0],[5.0,1424.0],[5.0,1424.0],[5.0,1424.0],[5.0,1424.0],[5.0,1424.0],[5.0,1424.0],[5.0,1424.0],[5.0,1424.0],[5.0,1424.0],[5.0,1424.0],[5.0,1424.0],[5.0,1424.0],[5.0,1424.0],[5.0,1424.0],[5.0,1424.0],[5.0,1424.0],[5.0,927.0],[5.0,927.0],[5.0,927.0],[5.0,927.0],[5.0,927.0],[5.0,927.0],[5.0,927.0],[5.0,927.0],[5.0,927.0],[5.0,927.0],[5.0,927.0],[5.0,927.0],[5.0,927.0],[5.0,927.0],[5.0,927.0],[5.0,927.0],[5.0,927.0],[5.0,927.0],[5.0,927.0],[5.0,927.0],[5.0,927.0],[5.0,927.0],[5.0,927.0],[5.0,927.0],[5.0,927.0],[5.0,927.0],[5.0,927.0],[5.0,927.0],[5.0,927.0],[5.0,927.0],[5.0,927.0],[5.0,927.0],[5.0,927.0],[5.0,927.0],[5.0,927.0],[5.0,927.0],[5.0,927.0],[5.0,927.0],[5.0,927.0],[5.0,927.0],[5.0,927.0],[5.0,927.0],[5.0,927.0],[5.0,927.0],[5.0,927.0],[5.0,927.0],[5.0,927.0],[5.0,927.0],[5.0,927.0],[5.0,927.0],[5.0,927.0],[5.0,927.0],[5.0,927.0],[5.0,927.0],[5.0,927.0],[5.0,927.0],[5.0,927.0],[5.0,927.0],[5.0,927.0],[5.0,927.0],[5.0,927.0],[5.0,927.0],[5.0,927.0],[5.0,927.0],[5.0,927.0],[5.0,927.0],[5.0,927.0],[5.0,927.0],[5.0,927.0],[5.0,927.0],[5.0,927.0],[5.0,927.0],[5.0,927.0],[5.0,927.0],[5.0,927.0],[5.0,927.0],[5.0,927.0],[5.0,927.0],[5.0,927.0],[5.0,927.0],[5.0,927.0],[5.0,927.0],[5.0,927.0],[5.0,927.0],[5.0,927.0],[5.0,927.0],[5.0,927.0],[5.0,927.0],[5.0,927.0],[5.0,927.0],[5.0,927.0],[5.0,927.0],[5.0,927.0],[5.0,927.0],[5.0,927.0],[5.0,927.0],[5.0,927.0],[5.0,927.0],[5.0,927.0],[5.0,927.0],[5.0,927.0],[5.0,927.0],[5.0,927.0],[5.0,927.0],[5.0,927.0],[5.0,927.0],[5.0,927.0],[5.0,927.0],[5.0,927.0],[5.0,927.0],[5.0,927.0],[5.0,927.0],[5.0,927.0],[5.0,927.0],[5.0,927.0],[5.0,927.0],[5.0,927.0],[5.0,927.0],[5.0,927.0],[5.0,927.0],[5.0,927.0],[5.0,927.0],[5.0,927.0],[5.0,927.0],[5.0,927.0],[5.0,927.0],[5.0,927.0],[5.0,927.0],[5.0,927.0],[5.0,927.0],[5.0,927.0],[5.0,927.0],[5.0,927.0],[5.099999904632568,616.0],[5.099999904632568,616.0],[5.099999904632568,616.0],[5.099999904632568,616.0],[5.099999904632568,616.0],[5.099999904632568,616.0],[5.099999904632568,616.0],[5.099999904632568,616.0],[5.099999904632568,616.0],[5.099999904632568,616.0],[5.099999904632568,616.0],[5.099999904632568,616.0],[5.099999904632568,616.0],[5.099999904632568,616.0],[5.099999904632568,616.0],[5.099999904632568,616.0],[5.099999904632568,616.0],[5.099999904632568,616.0],[5.099999904632568,616.0],[5.099999904632568,616.0],[5.099999904632568,616.0],[5.099999904632568,616.0],[5.099999904632568,616.0],[5.099999904632568,616.0],[5.099999904632568,616.0],[5.099999904632568,616.0],[5.099999904632568,616.0],[5.099999904632568,616.0],[5.099999904632568,616.0],[5.099999904632568,616.0],[5.099999904632568,616.0],[5.099999904632568,616.0],[5.099999904632568,616.0],[5.099999904632568,616.0],[5.099999904632568,616.0],[5.099999904632568,616.0],[5.099999904632568,616.0],[5.099999904632568,616.0],[5.099999904632568,616.0],[5.099999904632568,616.0],[5.099999904632568,616.0],[5.099999904632568,616.0],[5.099999904632568,616.0],[5.099999904632568,616.0],[5.099999904632568,616.0],[5.099999904632568,616.0],[5.099999904632568,616.0],[5.099999904632568,616.0],[5.099999904632568,616.0],[5.099999904632568,616.0],[5.099999904632568,616.0],[5.099999904632568,616.0],[5.099999904632568,616.0],[5.099999904632568,616.0],[5.099999904632568,616.0],[5.099999904632568,616.0],[5.099999904632568,616.0],[5.099999904632568,616.0],[5.099999904632568,616.0],[5.099999904632568,616.0],[5.099999904632568,616.0],[5.099999904632568,616.0],[5.099999904632568,616.0],[5.099999904632568,616.0],[5.099999904632568,616.0],[5.099999904632568,616.0],[5.099999904632568,616.0],[5.099999904632568,616.0],[5.099999904632568,616.0],[5.099999904632568,616.0],[5.099999904632568,616.0],[5.099999904632568,616.0],[5.099999904632568,616.0],[5.099999904632568,616.0],[5.099999904632568,616.0],[5.099999904632568,616.0],[5.099999904632568,616.0],[5.099999904632568,616.0],[5.099999904632568,616.0],[5.099999904632568,616.0],[5.099999904632568,616.0],[5.099999904632568,616.0],[5.099999904632568,616.0],[5.099999904632568,616.0],[5.099999904632568,616.0],[5.099999904632568,616.0],[5.099999904632568,616.0],[5.099999904632568,616.0],[5.099999904632568,616.0],[5.099999904632568,616.0],[5.099999904632568,616.0],[5.099999904632568,616.0],[5.099999904632568,616.0],[5.099999904632568,616.0],[5.099999904632568,616.0],[5.099999904632568,616.0],[5.099999904632568,616.0],[5.099999904632568,616.0],[5.099999904632568,616.0],[5.099999904632568,616.0],[5.099999904632568,616.0],[5.099999904632568,616.0],[5.099999904632568,616.0],[5.099999904632568,616.0],[5.099999904632568,616.0],[5.099999904632568,616.0],[5.099999904632568,616.0],[5.099999904632568,616.0],[5.099999904632568,616.0],[5.099999904632568,616.0],[5.099999904632568,616.0],[5.099999904632568,616.0],[5.099999904632568,616.0],[5.099999904632568,616.0],[5.099999904632568,616.0],[5.099999904632568,616.0],[5.099999904632568,616.0],[5.099999904632568,616.0],[5.099999904632568,616.0],[3.0999999046325684,440.0],[5.0,0.0],[5.0,0.0],[5.0,0.0],[5.0,0.0],[5.0,0.0],[5.0,0.0],[5.0,0.0],[5.0,0.0],[5.0,0.0],[5.0,0.0],[5.0,0.0],[5.0,0.0],[5.0,0.0],[5.0,0.0],[5.0,0.0],[5.0,0.0],[5.0,0.0],[5.0,0.0],[5.0,0.0],[5.0,0.0],[5.0,0.0],[5.0,0.0],[5.0,0.0],[5.0,0.0],[5.0,0.0],[5.0,0.0],[5.0,0.0],[5.0,0.0],[5.0,0.0],[5.0,0.0],[5.0,0.0],[5.0,0.0],[5.0,0.0],[5.0,0.0],[5.0,0.0],[5.0,0.0],[5.0,0.0],[5.0,0.0],[5.0,0.0],[5.0,0.0],[5.0,0.0],[5.0,0.0],[5.0,0.0],[5.0,0.0],[5.0,0.0],[5.0,0.0],[5.0,0.0],[5.0,0.0],[5.0,0.0],[5.0,0.0],[5.0,0.0],[5.0,0.0],[5.0,0.0],[5.0,0.0],[5.0,0.0],[5.0,0.0],[5.0,0.0],[5.0,0.0],[5.0,0.0],[5.0,0.0],[5.0,0.0],[5.0,0.0],[5.0,0.0],[5.0,0.0],[5.0,0.0],[5.0,0.0],[5.0,0.0],[5.0,0.0],[5.0,0.0],[5.0,0.0],[5.0,0.0],[5.0,0.0],[5.0,0.0],[1.5,185.0]],\"hovertemplate\":\"empire_name=Money AI Empire<br>col=%{x}<br>row=%{y}<br>economy=%{customdata[1]}<br>stability=%{customdata[0]}<extra></extra>\",\"legendgroup\":\"Money AI Empire\",\"marker\":{\"color\":\"#FF6692\",\"size\":[1424,1424,1424,1424,1424,1424,1424,1424,1424,1424,1424,1424,1424,1424,1424,1424,1424,1424,1424,1424,1424,1424,1424,1424,1424,1424,1424,1424,1424,1424,1424,1424,927,927,927,927,927,927,927,927,927,927,927,927,927,927,927,927,927,927,927,927,927,927,927,927,927,927,927,927,927,927,927,927,927,927,927,927,927,927,927,927,927,927,927,927,927,927,927,927,927,927,927,927,927,927,927,927,927,927,927,927,927,927,927,927,927,927,927,927,927,927,927,927,927,927,927,927,927,927,927,927,927,927,927,927,927,927,927,927,927,927,927,927,927,927,927,927,927,927,927,927,927,927,927,927,927,927,927,927,927,927,927,927,927,927,927,927,927,927,927,927,927,927,927,927,927,927,927,927,927,927,927,927,927,616,616,616,616,616,616,616,616,616,616,616,616,616,616,616,616,616,616,616,616,616,616,616,616,616,616,616,616,616,616,616,616,616,616,616,616,616,616,616,616,616,616,616,616,616,616,616,616,616,616,616,616,616,616,616,616,616,616,616,616,616,616,616,616,616,616,616,616,616,616,616,616,616,616,616,616,616,616,616,616,616,616,616,616,616,616,616,616,616,616,616,616,616,616,616,616,616,616,616,616,616,616,616,616,616,616,616,616,616,616,616,616,616,616,616,616,616,616,616,440,0,0,0,0,0,0,0,0,0,0,0,0,0,0,0,0,0,0,0,0,0,0,0,0,0,0,0,0,0,0,0,0,0,0,0,0,0,0,0,0,0,0,0,0,0,0,0,0,0,0,0,0,0,0,0,0,0,0,0,0,0,0,0,0,0,0,0,0,0,0,0,0,0,185],\"sizemode\":\"area\",\"sizeref\":3.6275,\"symbol\":\"hexagon\"},\"mode\":\"markers\",\"name\":\"Money AI Empire\",\"orientation\":\"v\",\"showlegend\":true,\"x\":[67.5,67.5,67.5,67.5,69.0,69.0,69.0,69.0,69.0,69.0,70.5,70.5,70.5,70.5,70.5,70.5,72.0,72.0,72.0,72.0,72.0,72.0,73.5,73.5,73.5,73.5,73.5,73.5,73.5,75.0,75.0,75.0,90.0,90.0,90.0,90.0,91.5,91.5,91.5,91.5,91.5,91.5,91.5,91.5,91.5,91.5,91.5,91.5,91.5,93.0,93.0,93.0,93.0,93.0,93.0,93.0,93.0,93.0,93.0,93.0,94.5,94.5,82.5,82.5,84.0,84.0,84.0,84.0,84.0,84.0,84.0,84.0,84.0,84.0,84.0,84.0,84.0,85.5,85.5,85.5,85.5,87.0,87.0,87.0,87.0,88.5,88.5,88.5,88.5,88.5,88.5,88.5,88.5,88.5,88.5,88.5,88.5,88.5,90.0,90.0,90.0,90.0,90.0,90.0,90.0,79.5,81.0,81.0,81.0,81.0,81.0,81.0,82.5,82.5,82.5,82.5,82.5,82.5,82.5,82.5,82.5,76.5,78.0,78.0,78.0,78.0,78.0,78.0,78.0,78.0,79.5,79.5,79.5,79.5,79.5,79.5,85.5,85.5,85.5,85.5,85.5,85.5,85.5,85.5,85.5,87.0,87.0,87.0,87.0,87.0,87.0,87.0,87.0,75.0,75.0,75.0,75.0,75.0,76.5,76.5,76.5,76.5,76.5,76.5,76.5,73.5,73.5,73.5,75.0,75.0,75.0,75.0,75.0,75.0,75.0,75.0,75.0,75.0,76.5,76.5,87.0,87.0,88.5,88.5,88.5,88.5,88.5,88.5,88.5,90.0,90.0,90.0,90.0,90.0,91.5,91.5,72.0,72.0,72.0,72.0,72.0,72.0,72.0,73.5,73.5,73.5,73.5,73.5,73.5,73.5,73.5,76.5,76.5,76.5,78.0,78.0,78.0,78.0,78.0,78.0,78.0,78.0,79.5,79.5,69.0,69.0,69.0,69.0,69.0,70.5,70.5,70.5,70.5,70.5,70.5,70.5,72.0,72.0,72.0,79.5,79.5,79.5,79.5,79.5,79.5,81.0,81.0,81.0,81.0,81.0,81.0,81.0,81.0,82.5,82.5,82.5,82.5,82.5,82.5,82.5,84.0,84.0,84.0,84.0,84.0,84.0,84.0,84.0,85.5,85.5,85.5,85.5,85.5,85.5,85.5,85.5,87.0,87.0,87.0,87.0,87.0,87.0,87.0,87.0,76.5,85.5,78.0,73.5,78.0,78.0,75.0,93.0,94.5,76.5,85.5,78.0,78.0,84.0,79.5,79.5,76.5,72.0,84.0,79.5,93.0,85.5,85.5,84.0,81.0,78.0,81.0,76.5,79.5,81.0,94.5,78.0,82.5,76.5,79.5,81.0,76.5,70.5,75.0,76.5,81.0,79.5,82.5,72.0,84.0,81.0,79.5,82.5,84.0,73.5,76.5,76.5,76.5,79.5,85.5,81.0,76.5,75.0,84.0,79.5,70.5,78.0,81.0,82.5,82.5,79.5,70.5,81.0,78.0,94.5,94.5,87.0,93.0,75.0,76.5],\"xaxis\":\"x\",\"y\":[48.49742261192856,50.22947341949744,51.96152422706631,53.693575034635195,45.033320996790806,46.76537180435968,48.49742261192856,50.22947341949744,51.96152422706631,53.693575034635195,45.033320996790806,46.76537180435968,48.49742261192856,50.22947341949744,51.96152422706631,53.693575034635195,45.033320996790806,46.76537180435968,48.49742261192856,50.22947341949744,51.96152422706631,53.693575034635195,43.30127018922193,45.033320996790806,46.76537180435968,48.49742261192856,50.22947341949744,51.96152422706631,53.693575034635195,50.22947341949744,51.96152422706631,53.693575034635195,12.12435565298214,13.856406460551018,15.588457268119894,17.32050807568877,0.0,1.7320508075688772,3.4641016151377544,5.196152422706632,6.928203230275509,8.660254037844386,10.392304845413264,12.12435565298214,13.856406460551018,15.588457268119894,17.32050807568877,19.05255888325765,24.24871130596428,0.0,1.7320508075688772,3.4641016151377544,5.196152422706632,6.928203230275509,8.660254037844386,10.392304845413264,12.12435565298214,13.856406460551018,20.784609690826528,22.516660498395403,0.0,20.784609690826528,46.76537180435968,48.49742261192856,5.196152422706632,8.660254037844386,29.444863728670914,31.17691453623979,32.90896534380867,34.64101615137754,36.373066958946424,38.1051177665153,39.837168574084174,41.569219381653056,43.30127018922193,45.033320996790806,46.76537180435968,5.196152422706632,6.928203230275509,8.660254037844386,10.392304845413264,38.1051177665153,39.837168574084174,41.569219381653056,43.30127018922193,0.0,1.7320508075688772,3.4641016151377544,5.196152422706632,6.928203230275509,8.660254037844386,10.392304845413264,12.12435565298214,13.856406460551018,27.712812921102035,38.1051177665153,39.837168574084174,41.569219381653056,0.0,1.7320508075688772,3.4641016151377544,5.196152422706632,6.928203230275509,8.660254037844386,10.392304845413264,53.693575034635195,41.569219381653056,43.30127018922193,45.033320996790806,46.76537180435968,48.49742261192856,50.22947341949744,29.444863728670914,31.17691453623979,32.90896534380867,34.64101615137754,38.1051177665153,39.837168574084174,41.569219381653056,43.30127018922193,45.033320996790806,53.693575034635195,41.569219381653056,43.30127018922193,45.033320996790806,46.76537180435968,48.49742261192856,50.22947341949744,51.96152422706631,53.693575034635195,43.30127018922193,45.033320996790806,46.76537180435968,48.49742261192856,50.22947341949744,51.96152422706631,29.444863728670914,31.17691453623979,34.64101615137754,36.373066958946424,38.1051177665153,39.837168574084174,41.569219381653056,43.30127018922193,45.033320996790806,0.0,1.7320508075688772,5.196152422706632,6.928203230275509,8.660254037844386,10.392304845413264,12.12435565298214,36.373066958946424,41.569219381653056,43.30127018922193,45.033320996790806,46.76537180435968,48.49742261192856,41.569219381653056,43.30127018922193,45.033320996790806,46.76537180435968,48.49742261192856,50.22947341949744,51.96152422706631,27.712812921102035,29.444863728670914,31.17691453623979,12.12435565298214,15.588457268119894,17.32050807568877,19.05255888325765,20.784609690826528,22.516660498395403,24.24871130596428,25.980762113533157,27.712812921102035,31.17691453623979,15.588457268119894,17.32050807568877,27.712812921102035,29.444863728670914,15.588457268119894,17.32050807568877,19.05255888325765,20.784609690826528,22.516660498395403,24.24871130596428,25.980762113533157,19.05255888325765,20.784609690826528,22.516660498395403,24.24871130596428,25.980762113533157,20.784609690826528,22.516660498395403,17.32050807568877,19.05255888325765,24.24871130596428,25.980762113533157,27.712812921102035,29.444863728670914,31.17691453623979,12.12435565298214,13.856406460551018,15.588457268119894,17.32050807568877,19.05255888325765,22.516660498395403,24.24871130596428,25.980762113533157,19.05255888325765,24.24871130596428,25.980762113533157,15.588457268119894,17.32050807568877,19.05255888325765,20.784609690826528,22.516660498395403,24.24871130596428,25.980762113533157,27.712812921102035,13.856406460551018,15.588457268119894,20.784609690826528,22.516660498395403,24.24871130596428,25.980762113533157,27.712812921102035,13.856406460551018,15.588457268119894,22.516660498395403,24.24871130596428,25.980762113533157,27.712812921102035,29.444863728670914,12.12435565298214,13.856406460551018,15.588457268119894,17.32050807568877,19.05255888325765,20.784609690826528,22.516660498395403,24.24871130596428,25.980762113533157,12.12435565298214,13.856406460551018,15.588457268119894,17.32050807568877,20.784609690826528,22.516660498395403,24.24871130596428,25.980762113533157,12.12435565298214,13.856406460551018,15.588457268119894,19.05255888325765,20.784609690826528,22.516660498395403,24.24871130596428,10.392304845413264,12.12435565298214,13.856406460551018,15.588457268119894,19.05255888325765,20.784609690826528,22.516660498395403,24.24871130596428,12.12435565298214,13.856406460551018,15.588457268119894,17.32050807568877,19.05255888325765,20.784609690826528,22.516660498395403,24.24871130596428,13.856406460551018,15.588457268119894,17.32050807568877,19.05255888325765,20.784609690826528,22.516660498395403,24.24871130596428,25.980762113533157,22.516660498395403,27.712812921102035,31.17691453623979,20.784609690826528,34.64101615137754,39.837168574084174,34.64101615137754,17.32050807568877,15.588457268119894,31.17691453623979,3.4641016151377544,32.90896534380867,36.373066958946424,25.980762113533157,41.569219381653056,39.837168574084174,29.444863728670914,20.784609690826528,3.4641016151377544,29.444863728670914,15.588457268119894,25.980762113533157,0.0,1.7320508075688772,34.64101615137754,12.12435565298214,36.373066958946424,32.90896534380867,34.64101615137754,39.837168574084174,19.05255888325765,29.444863728670914,0.0,39.837168574084174,38.1051177665153,27.712812921102035,13.856406460551018,19.05255888325765,13.856406460551018,34.64101615137754,19.05255888325765,36.373066958946424,36.373066958946424,22.516660498395403,27.712812921102035,31.17691453623979,32.90896534380867,27.712812921102035,17.32050807568877,32.90896534380867,38.1051177665153,36.373066958946424,12.12435565298214,12.12435565298214,1.7320508075688772,38.1051177665153,27.712812921102035,32.90896534380867,0.0,31.17691453623979,20.784609690826528,13.856406460551018,32.90896534380867,25.980762113533157,17.32050807568877,27.712812921102035,17.32050807568877,29.444863728670914,38.1051177665153,13.856406460551018,17.32050807568877,3.4641016151377544,19.05255888325765,29.444863728670914,20.784609690826528],\"yaxis\":\"y\",\"type\":\"scatter\"},{\"customdata\":[[5.0,907.0],[4.5,792.0],[4.0,679.0],[3.5,569.0],[3.5,569.0],[3.0,464.0],[3.0,464.0],[3.0,464.0],[2.5,366.0],[2.5,366.0],[2.0,273.0],[2.0,273.0],[5.0,1422.0],[5.0,1422.0],[5.0,1422.0],[5.0,1422.0],[5.0,1422.0],[5.0,1278.0],[5.0,1278.0],[5.0,1278.0],[5.0,1278.0],[5.0,1278.0],[5.0,1278.0],[5.0,1148.0],[5.0,1148.0],[5.0,1148.0],[1.5,185.0],[1.5,185.0]],\"hovertemplate\":\"empire_name=Empire 15<br>col=%{x}<br>row=%{y}<br>economy=%{customdata[1]}<br>stability=%{customdata[0]}<extra></extra>\",\"legendgroup\":\"Empire 15\",\"marker\":{\"color\":\"#B6E880\",\"size\":[907,792,679,569,569,464,464,464,366,366,273,273,1422,1422,1422,1422,1422,1278,1278,1278,1278,1278,1278,1148,1148,1148,185,185],\"sizemode\":\"area\",\"sizeref\":3.6275,\"symbol\":\"hexagon\"},\"mode\":\"markers\",\"name\":\"Empire 15\",\"orientation\":\"v\",\"showlegend\":true,\"x\":[46.5,42.0,46.5,42.0,43.5,42.0,45.0,46.5,42.0,45.0,43.5,45.0,45.0,48.0,39.0,37.5,46.5,46.5,40.5,39.0,40.5,48.0,49.5,45.0,48.0,46.5,43.5,45.0],\"xaxis\":\"x\",\"y\":[25.980762113533157,27.712812921102035,32.90896534380867,29.444863728670914,29.444863728670914,31.17691453623979,27.712812921102035,31.17691453623979,32.90896534380867,29.444863728670914,31.17691453623979,31.17691453623979,24.24871130596428,31.17691453623979,29.444863728670914,29.444863728670914,24.24871130596428,29.444863728670914,27.712812921102035,31.17691453623979,29.444863728670914,29.444863728670914,25.980762113533157,25.980762113533157,27.712812921102035,27.712812921102035,32.90896534380867,32.90896534380867],\"yaxis\":\"y\",\"type\":\"scatter\"},{\"customdata\":[[4.5,749.0],[4.5,749.0],[4.5,749.0],[4.0,639.0],[4.0,639.0],[4.0,639.0],[3.5,536.0],[3.5,536.0],[3.5,536.0],[3.5,536.0],[3.5,536.0],[3.0,446.0],[2.0,270.0],[5.0,1103.0],[5.0,1103.0],[1.5,185.0]],\"hovertemplate\":\"empire_name=Empire 10<br>col=%{x}<br>row=%{y}<br>economy=%{customdata[1]}<br>stability=%{customdata[0]}<extra></extra>\",\"legendgroup\":\"Empire 10\",\"marker\":{\"color\":\"#FF97FF\",\"size\":[749,749,749,639,639,639,536,536,536,536,536,446,270,1103,1103,185],\"sizemode\":\"area\",\"sizeref\":3.6275,\"symbol\":\"hexagon\"},\"mode\":\"markers\",\"name\":\"Empire 10\",\"orientation\":\"v\",\"showlegend\":true,\"x\":[79.5,81.0,78.0,76.5,78.0,79.5,78.0,79.5,81.0,81.0,82.5,81.0,79.5,76.5,78.0,79.5],\"xaxis\":\"x\",\"y\":[41.569219381653056,34.64101615137754,36.373066958946424,39.837168574084174,38.1051177665153,39.837168574084174,39.837168574084174,34.64101615137754,38.1051177665153,39.837168574084174,36.373066958946424,36.373066958946424,38.1051177665153,38.1051177665153,34.64101615137754,36.373066958946424],\"yaxis\":\"y\",\"type\":\"scatter\"},{\"customdata\":[[4.5,813.0],[4.0,693.0],[4.0,693.0],[3.5,578.0],[3.5,578.0],[3.5,578.0],[3.0,470.0],[3.0,470.0],[3.0,470.0],[2.5,370.0],[2.5,370.0],[2.0,275.0],[2.0,275.0],[5.0,1307.0],[5.0,1182.0],[1.5,185.0],[1.5,185.0],[1.5,185.0]],\"hovertemplate\":\"empire_name=Empire 12<br>col=%{x}<br>row=%{y}<br>economy=%{customdata[1]}<br>stability=%{customdata[0]}<extra></extra>\",\"legendgroup\":\"Empire 12\",\"marker\":{\"color\":\"#FECB52\",\"size\":[813,693,693,578,578,578,470,470,470,370,370,275,275,1307,1182,185,185,185],\"sizemode\":\"area\",\"sizeref\":3.6275,\"symbol\":\"hexagon\"},\"mode\":\"markers\",\"name\":\"Empire 12\",\"orientation\":\"v\",\"showlegend\":true,\"x\":[76.5,79.5,81.0,73.5,75.0,81.0,76.5,79.5,79.5,75.0,79.5,76.5,78.0,75.0,76.5,76.5,78.0,78.0],\"xaxis\":\"x\",\"y\":[32.90896534380867,27.712812921102035,31.17691453623979,32.90896534380867,29.444863728670914,32.90896534380867,29.444863728670914,29.444863728670914,32.90896534380867,32.90896534380867,31.17691453623979,31.17691453623979,32.90896534380867,34.64101615137754,34.64101615137754,27.712812921102035,29.444863728670914,31.17691453623979],\"yaxis\":\"y\",\"type\":\"scatter\"},{\"customdata\":[[4.5,739.0],[3.5,549.0],[2.5,363.0],[2.0,273.0],[1.5,185.0],[1.5,185.0]],\"hovertemplate\":\"empire_name=Empire 4<br>col=%{x}<br>row=%{y}<br>economy=%{customdata[1]}<br>stability=%{customdata[0]}<extra></extra>\",\"legendgroup\":\"Empire 4\",\"marker\":{\"color\":\"#636efa\",\"size\":[739,549,363,273,185,185],\"sizemode\":\"area\",\"sizeref\":3.6275,\"symbol\":\"hexagon\"},\"mode\":\"markers\",\"name\":\"Empire 4\",\"orientation\":\"v\",\"showlegend\":true,\"x\":[78.0,79.5,75.0,76.5,76.5,78.0],\"xaxis\":\"x\",\"y\":[12.12435565298214,12.12435565298214,13.856406460551018,12.12435565298214,13.856406460551018,13.856406460551018],\"yaxis\":\"y\",\"type\":\"scatter\"},{\"customdata\":[[4.0,627.0],[3.5,537.0],[1.5,185.0],[1.5,185.0]],\"hovertemplate\":\"empire_name=Empire 13<br>col=%{x}<br>row=%{y}<br>economy=%{customdata[1]}<br>stability=%{customdata[0]}<extra></extra>\",\"legendgroup\":\"Empire 13\",\"marker\":{\"color\":\"#EF553B\",\"size\":[627,537,185,185],\"sizemode\":\"area\",\"sizeref\":3.6275,\"symbol\":\"hexagon\"},\"mode\":\"markers\",\"name\":\"Empire 13\",\"orientation\":\"v\",\"showlegend\":true,\"x\":[81.0,81.0,82.5,82.5],\"xaxis\":\"x\",\"y\":[27.712812921102035,29.444863728670914,25.980762113533157,27.712812921102035],\"yaxis\":\"y\",\"type\":\"scatter\"},{\"customdata\":[[4.0,610.0],[4.0,610.0],[1.5,185.0]],\"hovertemplate\":\"empire_name=Empire 9<br>col=%{x}<br>row=%{y}<br>economy=%{customdata[1]}<br>stability=%{customdata[0]}<extra></extra>\",\"legendgroup\":\"Empire 9\",\"marker\":{\"color\":\"#00cc96\",\"size\":[610,610,185],\"sizemode\":\"area\",\"sizeref\":3.6275,\"symbol\":\"hexagon\"},\"mode\":\"markers\",\"name\":\"Empire 9\",\"orientation\":\"v\",\"showlegend\":true,\"x\":[81.0,84.0,82.5],\"xaxis\":\"x\",\"y\":[19.05255888325765,17.32050807568877,17.32050807568877],\"yaxis\":\"y\",\"type\":\"scatter\"},{\"customdata\":[[4.0,621.0],[3.5,531.0],[2.5,355.0],[1.5,185.0]],\"hovertemplate\":\"empire_name=Empire 3<br>col=%{x}<br>row=%{y}<br>economy=%{customdata[1]}<br>stability=%{customdata[0]}<extra></extra>\",\"legendgroup\":\"Empire 3\",\"marker\":{\"color\":\"#ab63fa\",\"size\":[621,531,355,185],\"sizemode\":\"area\",\"sizeref\":3.6275,\"symbol\":\"hexagon\"},\"mode\":\"markers\",\"name\":\"Empire 3\",\"orientation\":\"v\",\"showlegend\":true,\"x\":[85.5,84.0,85.5,84.0],\"xaxis\":\"x\",\"y\":[27.712812921102035,25.980762113533157,25.980762113533157,27.712812921102035],\"yaxis\":\"y\",\"type\":\"scatter\"},{\"customdata\":[[4.0,644.0],[3.5,549.0],[2.5,363.0],[2.0,273.0],[1.5,185.0],[1.5,185.0]],\"hovertemplate\":\"empire_name=Empire 8<br>col=%{x}<br>row=%{y}<br>economy=%{customdata[1]}<br>stability=%{customdata[0]}<extra></extra>\",\"legendgroup\":\"Empire 8\",\"marker\":{\"color\":\"#FFA15A\",\"size\":[644,549,363,273,185,185],\"sizemode\":\"area\",\"sizeref\":3.6275,\"symbol\":\"hexagon\"},\"mode\":\"markers\",\"name\":\"Empire 8\",\"orientation\":\"v\",\"showlegend\":true,\"x\":[73.5,72.0,70.5,72.0,70.5,70.5],\"xaxis\":\"x\",\"y\":[20.784609690826528,22.516660498395403,20.784609690826528,20.784609690826528,17.32050807568877,19.05255888325765],\"yaxis\":\"y\",\"type\":\"scatter\"},{\"customdata\":[[4.0,638.0],[3.5,540.0],[3.0,445.0],[3.0,445.0],[2.5,355.0],[2.5,355.0],[1.5,185.0]],\"hovertemplate\":\"empire_name=Empire 2<br>col=%{x}<br>row=%{y}<br>economy=%{customdata[1]}<br>stability=%{customdata[0]}<extra></extra>\",\"legendgroup\":\"Empire 2\",\"marker\":{\"color\":\"#19d3f3\",\"size\":[638,540,445,445,355,355,185],\"sizemode\":\"area\",\"sizeref\":3.6275,\"symbol\":\"hexagon\"},\"mode\":\"markers\",\"name\":\"Empire 2\",\"orientation\":\"v\",\"showlegend\":true,\"x\":[94.5,93.0,93.0,94.5,93.0,94.5,94.5],\"xaxis\":\"x\",\"y\":[13.856406460551018,15.588457268119894,19.05255888325765,19.05255888325765,17.32050807568877,17.32050807568877,15.588457268119894],\"yaxis\":\"y\",\"type\":\"scatter\"},{\"customdata\":[[3.5,544.0],[3.5,544.0],[3.5,544.0],[3.0,451.0],[2.5,361.0],[5.0,1044.0],[1.5,185.0],[1.5,185.0]],\"hovertemplate\":\"empire_name=Empire 1<br>col=%{x}<br>row=%{y}<br>economy=%{customdata[1]}<br>stability=%{customdata[0]}<extra></extra>\",\"legendgroup\":\"Empire 1\",\"marker\":{\"color\":\"#FF6692\",\"size\":[544,544,544,451,361,1044,185,185],\"sizemode\":\"area\",\"sizeref\":3.6275,\"symbol\":\"hexagon\"},\"mode\":\"markers\",\"name\":\"Empire 1\",\"orientation\":\"v\",\"showlegend\":true,\"x\":[82.5,85.5,87.0,85.5,84.0,84.0,84.0,85.5],\"xaxis\":\"x\",\"y\":[0.0,0.0,3.4641016151377544,3.4641016151377544,3.4641016151377544,0.0,1.7320508075688772,1.7320508075688772],\"yaxis\":\"y\",\"type\":\"scatter\"},{\"customdata\":[[2.0199999809265137,766.0],[1.8200000524520874,594.0],[1.8200000524520874,594.0],[1.5800000429153442,426.0],[1.5800000429153442,426.0],[1.2999999523162842,262.0],[1.2999999523162842,262.0],[1.2999999523162842,262.0],[1.2999999523162842,262.0],[1.2999999523162842,262.0],[1.2999999523162842,262.0],[1.2999999523162842,262.0],[1.2999999523162842,262.0],[1.2999999523162842,262.0],[1.2999999523162842,262.0],[1.2999999523162842,262.0],[1.2999999523162842,262.0],[1.2999999523162842,262.0],[1.2999999523162842,262.0],[1.2999999523162842,262.0],[1.2999999523162842,262.0],[1.2999999523162842,262.0],[1.2999999523162842,262.0],[1.2999999523162842,262.0],[1.2999999523162842,262.0],[1.2999999523162842,262.0],[1.2999999523162842,262.0],[1.2999999523162842,262.0],[1.2999999523162842,262.0],[1.2999999523162842,262.0],[1.2999999523162842,262.0],[1.2999999523162842,262.0],[1.2999999523162842,262.0],[1.2999999523162842,262.0],[1.2999999523162842,262.0],[1.2999999523162842,262.0],[1.2999999523162842,262.0],[1.2999999523162842,262.0],[1.2999999523162842,262.0],[1.2999999523162842,262.0]],\"hovertemplate\":\"empire_name=Empire 22<br>col=%{x}<br>row=%{y}<br>economy=%{customdata[1]}<br>stability=%{customdata[0]}<extra></extra>\",\"legendgroup\":\"Empire 22\",\"marker\":{\"color\":\"#B6E880\",\"size\":[766,594,594,426,426,262,262,262,262,262,262,262,262,262,262,262,262,262,262,262,262,262,262,262,262,262,262,262,262,262,262,262,262,262,262,262,262,262,262,262],\"sizemode\":\"area\",\"sizeref\":3.6275,\"symbol\":\"hexagon\"},\"mode\":\"markers\",\"name\":\"Empire 22\",\"orientation\":\"v\",\"showlegend\":true,\"x\":[37.5,28.5,36.0,27.0,27.0,36.0,34.5,36.0,34.5,33.0,30.0,33.0,36.0,30.0,31.5,30.0,33.0,31.5,27.0,33.0,36.0,30.0,31.5,33.0,27.0,36.0,28.5,31.5,34.5,30.0,28.5,34.5,28.5,34.5,31.5,36.0,28.5,34.5,31.5,33.0],\"xaxis\":\"x\",\"y\":[51.96152422706631,45.033320996790806,53.693575034635195,46.76537180435968,53.693575034635195,46.76537180435968,50.22947341949744,51.96152422706631,45.033320996790806,50.22947341949744,45.033320996790806,46.76537180435968,50.22947341949744,50.22947341949744,46.76537180435968,51.96152422706631,45.033320996790806,48.49742261192856,48.49742261192856,51.96152422706631,45.033320996790806,46.76537180435968,45.033320996790806,53.693575034635195,50.22947341949744,43.30127018922193,51.96152422706631,50.22947341949744,46.76537180435968,48.49742261192856,50.22947341949744,53.693575034635195,48.49742261192856,48.49742261192856,51.96152422706631,48.49742261192856,46.76537180435968,51.96152422706631,53.693575034635195,48.49742261192856],\"yaxis\":\"y\",\"type\":\"scatter\"},{\"customdata\":[[3.0,459.0],[2.0,273.0],[2.0,273.0],[1.5,185.0],[1.5,185.0]],\"hovertemplate\":\"empire_name=Empire 20<br>col=%{x}<br>row=%{y}<br>economy=%{customdata[1]}<br>stability=%{customdata[0]}<extra></extra>\",\"legendgroup\":\"Empire 20\",\"marker\":{\"color\":\"#FF97FF\",\"size\":[459,273,273,185,185],\"sizemode\":\"area\",\"sizeref\":3.6275,\"symbol\":\"hexagon\"},\"mode\":\"markers\",\"name\":\"Empire 20\",\"orientation\":\"v\",\"showlegend\":true,\"x\":[24.0,25.5,25.5,27.0,25.5],\"xaxis\":\"x\",\"y\":[51.96152422706631,50.22947341949744,53.693575034635195,51.96152422706631,51.96152422706631],\"yaxis\":\"y\",\"type\":\"scatter\"},{\"customdata\":[[2.5,473.0],[2.5,473.0],[1.5,223.0],[1.5,223.0],[1.5,223.0],[1.5,223.0],[1.5,223.0],[1.5,223.0],[1.5,223.0],[1.5,223.0],[1.5,223.0],[1.5,223.0],[1.5,223.0],[1.5,223.0],[1.5,223.0],[1.5,223.0],[1.5,223.0],[1.5,223.0],[1.5,223.0]],\"hovertemplate\":\"empire_name=Empire 23<br>col=%{x}<br>row=%{y}<br>economy=%{customdata[1]}<br>stability=%{customdata[0]}<extra></extra>\",\"legendgroup\":\"Empire 23\",\"marker\":{\"color\":\"#FECB52\",\"size\":[473,473,223,223,223,223,223,223,223,223,223,223,223,223,223,223,223,223,223],\"sizemode\":\"area\",\"sizeref\":3.6275,\"symbol\":\"hexagon\"},\"mode\":\"markers\",\"name\":\"Empire 23\",\"orientation\":\"v\",\"showlegend\":true,\"x\":[57.0,61.5,58.5,61.5,60.0,58.5,63.0,61.5,63.0,60.0,63.0,58.5,61.5,60.0,57.0,60.0,61.5,58.5,63.0],\"xaxis\":\"x\",\"y\":[36.373066958946424,34.64101615137754,38.1051177665153,36.373066958946424,38.1051177665153,36.373066958946424,36.373066958946424,39.837168574084174,39.837168574084174,39.837168574084174,41.569219381653056,39.837168574084174,38.1051177665153,41.569219381653056,39.837168574084174,36.373066958946424,41.569219381653056,41.569219381653056,38.1051177665153],\"yaxis\":\"y\",\"type\":\"scatter\"},{\"customdata\":[[0.9599999785423279,485.0],[0.9599999785423279,485.0],[1.0,291.0],[1.0,291.0],[1.0,291.0],[1.0,291.0],[1.0,291.0],[1.0,291.0],[1.0,291.0],[1.0,291.0],[1.0,291.0],[1.0,291.0],[1.0,291.0],[1.0,291.0],[1.0,291.0],[1.0,291.0],[1.0,291.0],[1.0,291.0],[1.0,291.0],[1.0,291.0],[1.0,291.0],[1.0,291.0],[1.0,291.0],[1.0,291.0],[1.0,291.0],[1.0,291.0],[1.0,291.0],[1.0,291.0],[1.0,291.0],[1.0,291.0],[1.0,291.0],[1.0,291.0],[1.0,291.0],[1.0,291.0],[1.0,291.0],[1.0,291.0],[1.0,291.0],[1.0,291.0],[1.0,291.0],[1.0,291.0],[1.0,291.0],[1.0,291.0],[1.0,291.0],[1.0,291.0],[1.0,291.0],[1.0,291.0],[1.0,291.0],[1.0,291.0],[1.0,291.0],[1.0,291.0],[1.0,291.0],[1.0,291.0],[1.0,291.0]],\"hovertemplate\":\"empire_name=Empire 21<br>col=%{x}<br>row=%{y}<br>economy=%{customdata[1]}<br>stability=%{customdata[0]}<extra></extra>\",\"legendgroup\":\"Empire 21\",\"marker\":{\"color\":\"#636efa\",\"size\":[485,485,291,291,291,291,291,291,291,291,291,291,291,291,291,291,291,291,291,291,291,291,291,291,291,291,291,291,291,291,291,291,291,291,291,291,291,291,291,291,291,291,291,291,291,291,291,291,291,291,291,291,291],\"sizemode\":\"area\",\"sizeref\":3.6275,\"symbol\":\"hexagon\"},\"mode\":\"markers\",\"name\":\"Empire 21\",\"orientation\":\"v\",\"showlegend\":true,\"x\":[13.5,13.5,12.0,12.0,10.5,13.5,10.5,15.0,3.0,16.5,9.0,7.5,4.5,15.0,15.0,12.0,13.5,12.0,12.0,10.5,7.5,12.0,15.0,6.0,13.5,7.5,7.5,6.0,13.5,16.5,9.0,10.5,15.0,4.5,9.0,4.5,10.5,12.0,15.0,7.5,16.5,10.5,6.0,6.0,9.0,13.5,9.0,9.0,9.0,12.0,7.5,6.0,4.5],\"xaxis\":\"x\",\"y\":[34.64101615137754,24.24871130596428,38.1051177665153,34.64101615137754,27.712812921102035,27.712812921102035,31.17691453623979,34.64101615137754,27.712812921102035,31.17691453623979,24.24871130596428,25.980762113533157,24.24871130596428,27.712812921102035,25.980762113533157,36.373066958946424,36.373066958946424,29.444863728670914,32.90896534380867,34.64101615137754,27.712812921102035,31.17691453623979,31.17691453623979,31.17691453623979,29.444863728670914,32.90896534380867,29.444863728670914,29.444863728670914,25.980762113533157,27.712812921102035,31.17691453623979,32.90896534380867,32.90896534380867,29.444863728670914,25.980762113533157,27.712812921102035,36.373066958946424,27.712812921102035,29.444863728670914,31.17691453623979,29.444863728670914,29.444863728670914,24.24871130596428,25.980762113533157,34.64101615137754,31.17691453623979,32.90896534380867,27.712812921102035,29.444863728670914,25.980762113533157,24.24871130596428,27.712812921102035,25.980762113533157],\"yaxis\":\"y\",\"type\":\"scatter\"},{\"customdata\":[[1.5,185.0]],\"hovertemplate\":\"empire_name=Empire 18<br>col=%{x}<br>row=%{y}<br>economy=%{customdata[1]}<br>stability=%{customdata[0]}<extra></extra>\",\"legendgroup\":\"Empire 18\",\"marker\":{\"color\":\"#EF553B\",\"size\":[185],\"sizemode\":\"area\",\"sizeref\":3.6275,\"symbol\":\"hexagon\"},\"mode\":\"markers\",\"name\":\"Empire 18\",\"orientation\":\"v\",\"showlegend\":true,\"x\":[10.5],\"xaxis\":\"x\",\"y\":[25.980762113533157],\"yaxis\":\"y\",\"type\":\"scatter\"},{\"customdata\":[[1.5,185.0]],\"hovertemplate\":\"empire_name=Empire 19<br>col=%{x}<br>row=%{y}<br>economy=%{customdata[1]}<br>stability=%{customdata[0]}<extra></extra>\",\"legendgroup\":\"Empire 19\",\"marker\":{\"color\":\"#00cc96\",\"size\":[185],\"sizemode\":\"area\",\"sizeref\":3.6275,\"symbol\":\"hexagon\"},\"mode\":\"markers\",\"name\":\"Empire 19\",\"orientation\":\"v\",\"showlegend\":true,\"x\":[13.5],\"xaxis\":\"x\",\"y\":[32.90896534380867],\"yaxis\":\"y\",\"type\":\"scatter\"}],                        {\"template\":{\"data\":{\"histogram2dcontour\":[{\"type\":\"histogram2dcontour\",\"colorbar\":{\"outlinewidth\":0,\"ticks\":\"\"},\"colorscale\":[[0.0,\"#0d0887\"],[0.1111111111111111,\"#46039f\"],[0.2222222222222222,\"#7201a8\"],[0.3333333333333333,\"#9c179e\"],[0.4444444444444444,\"#bd3786\"],[0.5555555555555556,\"#d8576b\"],[0.6666666666666666,\"#ed7953\"],[0.7777777777777778,\"#fb9f3a\"],[0.8888888888888888,\"#fdca26\"],[1.0,\"#f0f921\"]]}],\"choropleth\":[{\"type\":\"choropleth\",\"colorbar\":{\"outlinewidth\":0,\"ticks\":\"\"}}],\"histogram2d\":[{\"type\":\"histogram2d\",\"colorbar\":{\"outlinewidth\":0,\"ticks\":\"\"},\"colorscale\":[[0.0,\"#0d0887\"],[0.1111111111111111,\"#46039f\"],[0.2222222222222222,\"#7201a8\"],[0.3333333333333333,\"#9c179e\"],[0.4444444444444444,\"#bd3786\"],[0.5555555555555556,\"#d8576b\"],[0.6666666666666666,\"#ed7953\"],[0.7777777777777778,\"#fb9f3a\"],[0.8888888888888888,\"#fdca26\"],[1.0,\"#f0f921\"]]}],\"heatmap\":[{\"type\":\"heatmap\",\"colorbar\":{\"outlinewidth\":0,\"ticks\":\"\"},\"colorscale\":[[0.0,\"#0d0887\"],[0.1111111111111111,\"#46039f\"],[0.2222222222222222,\"#7201a8\"],[0.3333333333333333,\"#9c179e\"],[0.4444444444444444,\"#bd3786\"],[0.5555555555555556,\"#d8576b\"],[0.6666666666666666,\"#ed7953\"],[0.7777777777777778,\"#fb9f3a\"],[0.8888888888888888,\"#fdca26\"],[1.0,\"#f0f921\"]]}],\"heatmapgl\":[{\"type\":\"heatmapgl\",\"colorbar\":{\"outlinewidth\":0,\"ticks\":\"\"},\"colorscale\":[[0.0,\"#0d0887\"],[0.1111111111111111,\"#46039f\"],[0.2222222222222222,\"#7201a8\"],[0.3333333333333333,\"#9c179e\"],[0.4444444444444444,\"#bd3786\"],[0.5555555555555556,\"#d8576b\"],[0.6666666666666666,\"#ed7953\"],[0.7777777777777778,\"#fb9f3a\"],[0.8888888888888888,\"#fdca26\"],[1.0,\"#f0f921\"]]}],\"contourcarpet\":[{\"type\":\"contourcarpet\",\"colorbar\":{\"outlinewidth\":0,\"ticks\":\"\"}}],\"contour\":[{\"type\":\"contour\",\"colorbar\":{\"outlinewidth\":0,\"ticks\":\"\"},\"colorscale\":[[0.0,\"#0d0887\"],[0.1111111111111111,\"#46039f\"],[0.2222222222222222,\"#7201a8\"],[0.3333333333333333,\"#9c179e\"],[0.4444444444444444,\"#bd3786\"],[0.5555555555555556,\"#d8576b\"],[0.6666666666666666,\"#ed7953\"],[0.7777777777777778,\"#fb9f3a\"],[0.8888888888888888,\"#fdca26\"],[1.0,\"#f0f921\"]]}],\"surface\":[{\"type\":\"surface\",\"colorbar\":{\"outlinewidth\":0,\"ticks\":\"\"},\"colorscale\":[[0.0,\"#0d0887\"],[0.1111111111111111,\"#46039f\"],[0.2222222222222222,\"#7201a8\"],[0.3333333333333333,\"#9c179e\"],[0.4444444444444444,\"#bd3786\"],[0.5555555555555556,\"#d8576b\"],[0.6666666666666666,\"#ed7953\"],[0.7777777777777778,\"#fb9f3a\"],[0.8888888888888888,\"#fdca26\"],[1.0,\"#f0f921\"]]}],\"mesh3d\":[{\"type\":\"mesh3d\",\"colorbar\":{\"outlinewidth\":0,\"ticks\":\"\"}}],\"scatter\":[{\"fillpattern\":{\"fillmode\":\"overlay\",\"size\":10,\"solidity\":0.2},\"type\":\"scatter\"}],\"parcoords\":[{\"type\":\"parcoords\",\"line\":{\"colorbar\":{\"outlinewidth\":0,\"ticks\":\"\"}}}],\"scatterpolargl\":[{\"type\":\"scatterpolargl\",\"marker\":{\"colorbar\":{\"outlinewidth\":0,\"ticks\":\"\"}}}],\"bar\":[{\"error_x\":{\"color\":\"#2a3f5f\"},\"error_y\":{\"color\":\"#2a3f5f\"},\"marker\":{\"line\":{\"color\":\"#E5ECF6\",\"width\":0.5},\"pattern\":{\"fillmode\":\"overlay\",\"size\":10,\"solidity\":0.2}},\"type\":\"bar\"}],\"scattergeo\":[{\"type\":\"scattergeo\",\"marker\":{\"colorbar\":{\"outlinewidth\":0,\"ticks\":\"\"}}}],\"scatterpolar\":[{\"type\":\"scatterpolar\",\"marker\":{\"colorbar\":{\"outlinewidth\":0,\"ticks\":\"\"}}}],\"histogram\":[{\"marker\":{\"pattern\":{\"fillmode\":\"overlay\",\"size\":10,\"solidity\":0.2}},\"type\":\"histogram\"}],\"scattergl\":[{\"type\":\"scattergl\",\"marker\":{\"colorbar\":{\"outlinewidth\":0,\"ticks\":\"\"}}}],\"scatter3d\":[{\"type\":\"scatter3d\",\"line\":{\"colorbar\":{\"outlinewidth\":0,\"ticks\":\"\"}},\"marker\":{\"colorbar\":{\"outlinewidth\":0,\"ticks\":\"\"}}}],\"scattermapbox\":[{\"type\":\"scattermapbox\",\"marker\":{\"colorbar\":{\"outlinewidth\":0,\"ticks\":\"\"}}}],\"scatterternary\":[{\"type\":\"scatterternary\",\"marker\":{\"colorbar\":{\"outlinewidth\":0,\"ticks\":\"\"}}}],\"scattercarpet\":[{\"type\":\"scattercarpet\",\"marker\":{\"colorbar\":{\"outlinewidth\":0,\"ticks\":\"\"}}}],\"carpet\":[{\"aaxis\":{\"endlinecolor\":\"#2a3f5f\",\"gridcolor\":\"white\",\"linecolor\":\"white\",\"minorgridcolor\":\"white\",\"startlinecolor\":\"#2a3f5f\"},\"baxis\":{\"endlinecolor\":\"#2a3f5f\",\"gridcolor\":\"white\",\"linecolor\":\"white\",\"minorgridcolor\":\"white\",\"startlinecolor\":\"#2a3f5f\"},\"type\":\"carpet\"}],\"table\":[{\"cells\":{\"fill\":{\"color\":\"#EBF0F8\"},\"line\":{\"color\":\"white\"}},\"header\":{\"fill\":{\"color\":\"#C8D4E3\"},\"line\":{\"color\":\"white\"}},\"type\":\"table\"}],\"barpolar\":[{\"marker\":{\"line\":{\"color\":\"#E5ECF6\",\"width\":0.5},\"pattern\":{\"fillmode\":\"overlay\",\"size\":10,\"solidity\":0.2}},\"type\":\"barpolar\"}],\"pie\":[{\"automargin\":true,\"type\":\"pie\"}]},\"layout\":{\"autotypenumbers\":\"strict\",\"colorway\":[\"#636efa\",\"#EF553B\",\"#00cc96\",\"#ab63fa\",\"#FFA15A\",\"#19d3f3\",\"#FF6692\",\"#B6E880\",\"#FF97FF\",\"#FECB52\"],\"font\":{\"color\":\"#2a3f5f\"},\"hovermode\":\"closest\",\"hoverlabel\":{\"align\":\"left\"},\"paper_bgcolor\":\"white\",\"plot_bgcolor\":\"#E5ECF6\",\"polar\":{\"bgcolor\":\"#E5ECF6\",\"angularaxis\":{\"gridcolor\":\"white\",\"linecolor\":\"white\",\"ticks\":\"\"},\"radialaxis\":{\"gridcolor\":\"white\",\"linecolor\":\"white\",\"ticks\":\"\"}},\"ternary\":{\"bgcolor\":\"#E5ECF6\",\"aaxis\":{\"gridcolor\":\"white\",\"linecolor\":\"white\",\"ticks\":\"\"},\"baxis\":{\"gridcolor\":\"white\",\"linecolor\":\"white\",\"ticks\":\"\"},\"caxis\":{\"gridcolor\":\"white\",\"linecolor\":\"white\",\"ticks\":\"\"}},\"coloraxis\":{\"colorbar\":{\"outlinewidth\":0,\"ticks\":\"\"}},\"colorscale\":{\"sequential\":[[0.0,\"#0d0887\"],[0.1111111111111111,\"#46039f\"],[0.2222222222222222,\"#7201a8\"],[0.3333333333333333,\"#9c179e\"],[0.4444444444444444,\"#bd3786\"],[0.5555555555555556,\"#d8576b\"],[0.6666666666666666,\"#ed7953\"],[0.7777777777777778,\"#fb9f3a\"],[0.8888888888888888,\"#fdca26\"],[1.0,\"#f0f921\"]],\"sequentialminus\":[[0.0,\"#0d0887\"],[0.1111111111111111,\"#46039f\"],[0.2222222222222222,\"#7201a8\"],[0.3333333333333333,\"#9c179e\"],[0.4444444444444444,\"#bd3786\"],[0.5555555555555556,\"#d8576b\"],[0.6666666666666666,\"#ed7953\"],[0.7777777777777778,\"#fb9f3a\"],[0.8888888888888888,\"#fdca26\"],[1.0,\"#f0f921\"]],\"diverging\":[[0,\"#8e0152\"],[0.1,\"#c51b7d\"],[0.2,\"#de77ae\"],[0.3,\"#f1b6da\"],[0.4,\"#fde0ef\"],[0.5,\"#f7f7f7\"],[0.6,\"#e6f5d0\"],[0.7,\"#b8e186\"],[0.8,\"#7fbc41\"],[0.9,\"#4d9221\"],[1,\"#276419\"]]},\"xaxis\":{\"gridcolor\":\"white\",\"linecolor\":\"white\",\"ticks\":\"\",\"title\":{\"standoff\":15},\"zerolinecolor\":\"white\",\"automargin\":true,\"zerolinewidth\":2},\"yaxis\":{\"gridcolor\":\"white\",\"linecolor\":\"white\",\"ticks\":\"\",\"title\":{\"standoff\":15},\"zerolinecolor\":\"white\",\"automargin\":true,\"zerolinewidth\":2},\"scene\":{\"xaxis\":{\"backgroundcolor\":\"#E5ECF6\",\"gridcolor\":\"white\",\"linecolor\":\"white\",\"showbackground\":true,\"ticks\":\"\",\"zerolinecolor\":\"white\",\"gridwidth\":2},\"yaxis\":{\"backgroundcolor\":\"#E5ECF6\",\"gridcolor\":\"white\",\"linecolor\":\"white\",\"showbackground\":true,\"ticks\":\"\",\"zerolinecolor\":\"white\",\"gridwidth\":2},\"zaxis\":{\"backgroundcolor\":\"#E5ECF6\",\"gridcolor\":\"white\",\"linecolor\":\"white\",\"showbackground\":true,\"ticks\":\"\",\"zerolinecolor\":\"white\",\"gridwidth\":2}},\"shapedefaults\":{\"line\":{\"color\":\"#2a3f5f\"}},\"annotationdefaults\":{\"arrowcolor\":\"#2a3f5f\",\"arrowhead\":0,\"arrowwidth\":1},\"geo\":{\"bgcolor\":\"white\",\"landcolor\":\"#E5ECF6\",\"subunitcolor\":\"white\",\"showland\":true,\"showlakes\":true,\"lakecolor\":\"white\"},\"title\":{\"x\":0.05},\"mapbox\":{\"style\":\"light\"}}},\"xaxis\":{\"anchor\":\"y\",\"domain\":[0.0,1.0],\"title\":{\"text\":\"Map Columns\"},\"visible\":false},\"yaxis\":{\"anchor\":\"x\",\"domain\":[0.0,1.0],\"title\":{\"text\":\"Map Rows\"},\"visible\":false},\"legend\":{\"title\":{\"text\":\"empire_name\"},\"tracegroupgap\":0,\"itemsizing\":\"constant\"},\"title\":{\"text\":\"Civilization Map Visualization\"},\"showlegend\":true},                        {\"responsive\": true}                    )                };                            </script>        </div>\n",
       "</body>\n",
       "</html>"
      ]
     },
     "metadata": {},
     "output_type": "display_data"
    }
   ],
   "source": [
    "# Add hexagonal positions to the DataFrame\n",
    "metrics_df = metrics_df.withColumn(\"col\", col(\"x\") * 1.5)  # Adjust spacing\n",
    "metrics_df = metrics_df.withColumn(\"row\", col(\"y\") * (3 ** 0.5))  # Vertical spacing based on hex geometry\n",
    "\n",
    "# Create a Plotly scatter plot with hexagonal shapes\n",
    "fig = px.scatter(\n",
    "    metrics_df.toPandas(),\n",
    "    x=\"col\",\n",
    "    y=\"row\",\n",
    "    color=\"empire_name\",\n",
    "    size=\"economy\",  # Bubble size for economy\n",
    "    hover_data=[\"stability\", \"economy\"],  # Add tooltips\n",
    "    title=\"Civilization Map Visualization\"\n",
    ")\n",
    "\n",
    "# Update layout to mimic a hexagonal map\n",
    "fig.update_traces(marker=dict(symbol=\"hexagon\"))\n",
    "fig.update_layout(\n",
    "    xaxis=dict(title=\"Map Columns\", visible=False),\n",
    "    yaxis=dict(title=\"Map Rows\", visible=False),\n",
    "    showlegend=True\n",
    ")\n",
    "\n",
    "fig.show()"
   ]
  },
  {
   "cell_type": "code",
   "execution_count": 0,
   "metadata": {
    "application/vnd.databricks.v1+cell": {
     "cellMetadata": {
      "byteLimit": 2048000,
      "rowLimit": 10000
     },
     "inputWidgets": {},
     "nuid": "7ce601b9-2914-4b11-a672-a082cfc61ffa",
     "showTitle": false,
     "tableResultSettingsMap": {},
     "title": ""
    }
   },
   "outputs": [
    {
     "output_type": "display_data",
     "data": {
      "text/plain": [
       "\u001B[0;31m---------------------------------------------------------------------------\u001B[0m\n",
       "\u001B[0;31mNameError\u001B[0m                                 Traceback (most recent call last)\n",
       "File \u001B[0;32m<command-46078387421222>, line 1925\u001B[0m\n",
       "\u001B[1;32m   1906\u001B[0m             \u001B[38;5;66;03m# Optionally log game tick or other information\u001B[39;00m\n",
       "\u001B[1;32m   1907\u001B[0m             \u001B[38;5;66;03m# print(f\"Game tick: {game_tick}\", file=f)\u001B[39;00m\n",
       "\u001B[1;32m   1908\u001B[0m     \u001B[38;5;66;03m# finally:\u001B[39;00m\n",
       "\u001B[0;32m   (...)\u001B[0m\n",
       "\u001B[1;32m   1920\u001B[0m \n",
       "\u001B[1;32m   1921\u001B[0m     \u001B[38;5;66;03m#     pygame.display.update()\u001B[39;00m\n",
       "\u001B[1;32m   1924\u001B[0m \u001B[38;5;28;01mif\u001B[39;00m \u001B[38;5;18m__name__\u001B[39m \u001B[38;5;241m==\u001B[39m \u001B[38;5;124m\"\u001B[39m\u001B[38;5;124m__main__\u001B[39m\u001B[38;5;124m\"\u001B[39m:\n",
       "\u001B[0;32m-> 1925\u001B[0m     main()\n",
       "\n",
       "File \u001B[0;32m<command-46078387421222>, line 1894\u001B[0m, in \u001B[0;36mmain\u001B[0;34m()\u001B[0m\n",
       "\u001B[1;32m   1892\u001B[0m     turn \u001B[38;5;241m+\u001B[39m\u001B[38;5;241m=\u001B[39m \u001B[38;5;241m1\u001B[39m\n",
       "\u001B[1;32m   1893\u001B[0m     \u001B[38;5;66;03m#log_metrics_to_delta_lake(emp, path=delta_lake_path)\u001B[39;00m\n",
       "\u001B[0;32m-> 1894\u001B[0m     log_and_save_metrics(emp)\n",
       "\u001B[1;32m   1895\u001B[0m     \u001B[38;5;66;03m# Check if data was written by loading and displaying contents\u001B[39;00m\n",
       "\u001B[1;32m   1896\u001B[0m     \u001B[38;5;66;03m# metrics_snapshot = spark.read.format(\"delta\").load(delta_lake_path)\u001B[39;00m\n",
       "\u001B[1;32m   1897\u001B[0m     \u001B[38;5;66;03m# metrics_snapshot.show()\u001B[39;00m\n",
       "\u001B[1;32m   1898\u001B[0m     \u001B[38;5;66;03m# f.flush()\u001B[39;00m\n",
       "\u001B[1;32m   1900\u001B[0m game_tick \u001B[38;5;241m+\u001B[39m\u001B[38;5;241m=\u001B[39m \u001B[38;5;241m1\u001B[39m\n",
       "\n",
       "File \u001B[0;32m<command-46078387421222>, line 97\u001B[0m, in \u001B[0;36mlog_and_save_metrics\u001B[0;34m(empire)\u001B[0m\n",
       "\u001B[1;32m     92\u001B[0m mlflow\u001B[38;5;241m.\u001B[39mlog_metric(\u001B[38;5;124mf\u001B[39m\u001B[38;5;124m\"\u001B[39m\u001B[38;5;132;01m{\u001B[39;00mmetrics[\u001B[38;5;241m0\u001B[39m][\u001B[38;5;241m1\u001B[39m]\u001B[38;5;132;01m}\u001B[39;00m\u001B[38;5;124m_stability\u001B[39m\u001B[38;5;124m\"\u001B[39m, metrics[\u001B[38;5;241m4\u001B[39m][\u001B[38;5;241m1\u001B[39m])\n",
       "\u001B[1;32m     94\u001B[0m   \u001B[38;5;66;03m# Include individual tile coordinates\u001B[39;00m\n",
       "\u001B[1;32m     95\u001B[0m tile_data \u001B[38;5;241m=\u001B[39m [\n",
       "\u001B[1;32m     96\u001B[0m     (empire\u001B[38;5;241m.\u001B[39mname, empire\u001B[38;5;241m.\u001B[39mage, empire\u001B[38;5;241m.\u001B[39meconomy, empire\u001B[38;5;241m.\u001B[39mstability, tile\u001B[38;5;241m.\u001B[39mx, tile\u001B[38;5;241m.\u001B[39my)\n",
       "\u001B[0;32m---> 97\u001B[0m     \u001B[38;5;28;01mfor\u001B[39;00m tile \u001B[38;5;129;01min\u001B[39;00m territory_tiles\n",
       "\u001B[1;32m     98\u001B[0m ]\n",
       "\u001B[1;32m    100\u001B[0m \u001B[38;5;66;03m# Define columns for the DataFrame\u001B[39;00m\n",
       "\u001B[1;32m    101\u001B[0m columns \u001B[38;5;241m=\u001B[39m [\n",
       "\u001B[1;32m    102\u001B[0m     \u001B[38;5;124m\"\u001B[39m\u001B[38;5;124mempire_name\u001B[39m\u001B[38;5;124m\"\u001B[39m, \u001B[38;5;124m\"\u001B[39m\u001B[38;5;124mage\u001B[39m\u001B[38;5;124m\"\u001B[39m, \u001B[38;5;124m\"\u001B[39m\u001B[38;5;124meconomy\u001B[39m\u001B[38;5;124m\"\u001B[39m, \u001B[38;5;124m\"\u001B[39m\u001B[38;5;124mstability\u001B[39m\u001B[38;5;124m\"\u001B[39m, \u001B[38;5;124m\"\u001B[39m\u001B[38;5;124mx\u001B[39m\u001B[38;5;124m\"\u001B[39m, \u001B[38;5;124m\"\u001B[39m\u001B[38;5;124my\u001B[39m\u001B[38;5;124m\"\u001B[39m\n",
       "\u001B[1;32m    103\u001B[0m ]\n",
       "\n",
       "\u001B[0;31mNameError\u001B[0m: name 'territory_tiles' is not defined"
      ]
     },
     "metadata": {
      "application/vnd.databricks.v1+output": {
       "addedWidgets": {},
       "arguments": {},
       "datasetInfos": [],
       "jupyterProps": {
        "ename": "NameError",
        "evalue": "name 'territory_tiles' is not defined"
       },
       "metadata": {
        "errorSummary": "Command skipped"
       },
       "removedWidgets": [],
       "sqlProps": null,
       "stackFrames": [
        "\u001B[0;31m---------------------------------------------------------------------------\u001B[0m",
        "\u001B[0;31mNameError\u001B[0m                                 Traceback (most recent call last)",
        "File \u001B[0;32m<command-46078387421222>, line 1925\u001B[0m\n\u001B[1;32m   1906\u001B[0m             \u001B[38;5;66;03m# Optionally log game tick or other information\u001B[39;00m\n\u001B[1;32m   1907\u001B[0m             \u001B[38;5;66;03m# print(f\"Game tick: {game_tick}\", file=f)\u001B[39;00m\n\u001B[1;32m   1908\u001B[0m     \u001B[38;5;66;03m# finally:\u001B[39;00m\n\u001B[0;32m   (...)\u001B[0m\n\u001B[1;32m   1920\u001B[0m \n\u001B[1;32m   1921\u001B[0m     \u001B[38;5;66;03m#     pygame.display.update()\u001B[39;00m\n\u001B[1;32m   1924\u001B[0m \u001B[38;5;28;01mif\u001B[39;00m \u001B[38;5;18m__name__\u001B[39m \u001B[38;5;241m==\u001B[39m \u001B[38;5;124m\"\u001B[39m\u001B[38;5;124m__main__\u001B[39m\u001B[38;5;124m\"\u001B[39m:\n\u001B[0;32m-> 1925\u001B[0m     main()\n",
        "File \u001B[0;32m<command-46078387421222>, line 1894\u001B[0m, in \u001B[0;36mmain\u001B[0;34m()\u001B[0m\n\u001B[1;32m   1892\u001B[0m     turn \u001B[38;5;241m+\u001B[39m\u001B[38;5;241m=\u001B[39m \u001B[38;5;241m1\u001B[39m\n\u001B[1;32m   1893\u001B[0m     \u001B[38;5;66;03m#log_metrics_to_delta_lake(emp, path=delta_lake_path)\u001B[39;00m\n\u001B[0;32m-> 1894\u001B[0m     log_and_save_metrics(emp)\n\u001B[1;32m   1895\u001B[0m     \u001B[38;5;66;03m# Check if data was written by loading and displaying contents\u001B[39;00m\n\u001B[1;32m   1896\u001B[0m     \u001B[38;5;66;03m# metrics_snapshot = spark.read.format(\"delta\").load(delta_lake_path)\u001B[39;00m\n\u001B[1;32m   1897\u001B[0m     \u001B[38;5;66;03m# metrics_snapshot.show()\u001B[39;00m\n\u001B[1;32m   1898\u001B[0m     \u001B[38;5;66;03m# f.flush()\u001B[39;00m\n\u001B[1;32m   1900\u001B[0m game_tick \u001B[38;5;241m+\u001B[39m\u001B[38;5;241m=\u001B[39m \u001B[38;5;241m1\u001B[39m\n",
        "File \u001B[0;32m<command-46078387421222>, line 97\u001B[0m, in \u001B[0;36mlog_and_save_metrics\u001B[0;34m(empire)\u001B[0m\n\u001B[1;32m     92\u001B[0m mlflow\u001B[38;5;241m.\u001B[39mlog_metric(\u001B[38;5;124mf\u001B[39m\u001B[38;5;124m\"\u001B[39m\u001B[38;5;132;01m{\u001B[39;00mmetrics[\u001B[38;5;241m0\u001B[39m][\u001B[38;5;241m1\u001B[39m]\u001B[38;5;132;01m}\u001B[39;00m\u001B[38;5;124m_stability\u001B[39m\u001B[38;5;124m\"\u001B[39m, metrics[\u001B[38;5;241m4\u001B[39m][\u001B[38;5;241m1\u001B[39m])\n\u001B[1;32m     94\u001B[0m   \u001B[38;5;66;03m# Include individual tile coordinates\u001B[39;00m\n\u001B[1;32m     95\u001B[0m tile_data \u001B[38;5;241m=\u001B[39m [\n\u001B[1;32m     96\u001B[0m     (empire\u001B[38;5;241m.\u001B[39mname, empire\u001B[38;5;241m.\u001B[39mage, empire\u001B[38;5;241m.\u001B[39meconomy, empire\u001B[38;5;241m.\u001B[39mstability, tile\u001B[38;5;241m.\u001B[39mx, tile\u001B[38;5;241m.\u001B[39my)\n\u001B[0;32m---> 97\u001B[0m     \u001B[38;5;28;01mfor\u001B[39;00m tile \u001B[38;5;129;01min\u001B[39;00m territory_tiles\n\u001B[1;32m     98\u001B[0m ]\n\u001B[1;32m    100\u001B[0m \u001B[38;5;66;03m# Define columns for the DataFrame\u001B[39;00m\n\u001B[1;32m    101\u001B[0m columns \u001B[38;5;241m=\u001B[39m [\n\u001B[1;32m    102\u001B[0m     \u001B[38;5;124m\"\u001B[39m\u001B[38;5;124mempire_name\u001B[39m\u001B[38;5;124m\"\u001B[39m, \u001B[38;5;124m\"\u001B[39m\u001B[38;5;124mage\u001B[39m\u001B[38;5;124m\"\u001B[39m, \u001B[38;5;124m\"\u001B[39m\u001B[38;5;124meconomy\u001B[39m\u001B[38;5;124m\"\u001B[39m, \u001B[38;5;124m\"\u001B[39m\u001B[38;5;124mstability\u001B[39m\u001B[38;5;124m\"\u001B[39m, \u001B[38;5;124m\"\u001B[39m\u001B[38;5;124mx\u001B[39m\u001B[38;5;124m\"\u001B[39m, \u001B[38;5;124m\"\u001B[39m\u001B[38;5;124my\u001B[39m\u001B[38;5;124m\"\u001B[39m\n\u001B[1;32m    103\u001B[0m ]\n",
        "\u001B[0;31mNameError\u001B[0m: name 'territory_tiles' is not defined"
       ],
       "type": "baseError"
      }
     },
     "output_type": "display_data"
    }
   ],
   "source": [
    "\n",
    "# import mosaicml as mosaic\n",
    "# empire_df = metrics_df.select(\"territory_size\", \"stability\", \"economy\", \"empire_name\", \"age\")\n",
    "# map_view = mosaic.create_map(empire_df, latitude_col=\"lat\", longitude_col=\"long\", region_col=\"empire_name\")\n",
    "# map_view.display()"
   ]
  },
  {
   "cell_type": "code",
   "execution_count": 0,
   "metadata": {
    "application/vnd.databricks.v1+cell": {
     "cellMetadata": {
      "byteLimit": 2048000,
      "rowLimit": 10000
     },
     "inputWidgets": {},
     "nuid": "696dfba6-9750-4a88-a621-a3b38c166936",
     "showTitle": false,
     "tableResultSettingsMap": {},
     "title": ""
    }
   },
   "outputs": [
    {
     "output_type": "display_data",
     "data": {
      "text/plain": [
       "\u001B[0;31m---------------------------------------------------------------------------\u001B[0m\n",
       "\u001B[0;31mNameError\u001B[0m                                 Traceback (most recent call last)\n",
       "File \u001B[0;32m<command-46078387421222>, line 1925\u001B[0m\n",
       "\u001B[1;32m   1906\u001B[0m             \u001B[38;5;66;03m# Optionally log game tick or other information\u001B[39;00m\n",
       "\u001B[1;32m   1907\u001B[0m             \u001B[38;5;66;03m# print(f\"Game tick: {game_tick}\", file=f)\u001B[39;00m\n",
       "\u001B[1;32m   1908\u001B[0m     \u001B[38;5;66;03m# finally:\u001B[39;00m\n",
       "\u001B[0;32m   (...)\u001B[0m\n",
       "\u001B[1;32m   1920\u001B[0m \n",
       "\u001B[1;32m   1921\u001B[0m     \u001B[38;5;66;03m#     pygame.display.update()\u001B[39;00m\n",
       "\u001B[1;32m   1924\u001B[0m \u001B[38;5;28;01mif\u001B[39;00m \u001B[38;5;18m__name__\u001B[39m \u001B[38;5;241m==\u001B[39m \u001B[38;5;124m\"\u001B[39m\u001B[38;5;124m__main__\u001B[39m\u001B[38;5;124m\"\u001B[39m:\n",
       "\u001B[0;32m-> 1925\u001B[0m     main()\n",
       "\n",
       "File \u001B[0;32m<command-46078387421222>, line 1894\u001B[0m, in \u001B[0;36mmain\u001B[0;34m()\u001B[0m\n",
       "\u001B[1;32m   1892\u001B[0m     turn \u001B[38;5;241m+\u001B[39m\u001B[38;5;241m=\u001B[39m \u001B[38;5;241m1\u001B[39m\n",
       "\u001B[1;32m   1893\u001B[0m     \u001B[38;5;66;03m#log_metrics_to_delta_lake(emp, path=delta_lake_path)\u001B[39;00m\n",
       "\u001B[0;32m-> 1894\u001B[0m     log_and_save_metrics(emp)\n",
       "\u001B[1;32m   1895\u001B[0m     \u001B[38;5;66;03m# Check if data was written by loading and displaying contents\u001B[39;00m\n",
       "\u001B[1;32m   1896\u001B[0m     \u001B[38;5;66;03m# metrics_snapshot = spark.read.format(\"delta\").load(delta_lake_path)\u001B[39;00m\n",
       "\u001B[1;32m   1897\u001B[0m     \u001B[38;5;66;03m# metrics_snapshot.show()\u001B[39;00m\n",
       "\u001B[1;32m   1898\u001B[0m     \u001B[38;5;66;03m# f.flush()\u001B[39;00m\n",
       "\u001B[1;32m   1900\u001B[0m game_tick \u001B[38;5;241m+\u001B[39m\u001B[38;5;241m=\u001B[39m \u001B[38;5;241m1\u001B[39m\n",
       "\n",
       "File \u001B[0;32m<command-46078387421222>, line 97\u001B[0m, in \u001B[0;36mlog_and_save_metrics\u001B[0;34m(empire)\u001B[0m\n",
       "\u001B[1;32m     92\u001B[0m mlflow\u001B[38;5;241m.\u001B[39mlog_metric(\u001B[38;5;124mf\u001B[39m\u001B[38;5;124m\"\u001B[39m\u001B[38;5;132;01m{\u001B[39;00mmetrics[\u001B[38;5;241m0\u001B[39m][\u001B[38;5;241m1\u001B[39m]\u001B[38;5;132;01m}\u001B[39;00m\u001B[38;5;124m_stability\u001B[39m\u001B[38;5;124m\"\u001B[39m, metrics[\u001B[38;5;241m4\u001B[39m][\u001B[38;5;241m1\u001B[39m])\n",
       "\u001B[1;32m     94\u001B[0m   \u001B[38;5;66;03m# Include individual tile coordinates\u001B[39;00m\n",
       "\u001B[1;32m     95\u001B[0m tile_data \u001B[38;5;241m=\u001B[39m [\n",
       "\u001B[1;32m     96\u001B[0m     (empire\u001B[38;5;241m.\u001B[39mname, empire\u001B[38;5;241m.\u001B[39mage, empire\u001B[38;5;241m.\u001B[39meconomy, empire\u001B[38;5;241m.\u001B[39mstability, tile\u001B[38;5;241m.\u001B[39mx, tile\u001B[38;5;241m.\u001B[39my)\n",
       "\u001B[0;32m---> 97\u001B[0m     \u001B[38;5;28;01mfor\u001B[39;00m tile \u001B[38;5;129;01min\u001B[39;00m territory_tiles\n",
       "\u001B[1;32m     98\u001B[0m ]\n",
       "\u001B[1;32m    100\u001B[0m \u001B[38;5;66;03m# Define columns for the DataFrame\u001B[39;00m\n",
       "\u001B[1;32m    101\u001B[0m columns \u001B[38;5;241m=\u001B[39m [\n",
       "\u001B[1;32m    102\u001B[0m     \u001B[38;5;124m\"\u001B[39m\u001B[38;5;124mempire_name\u001B[39m\u001B[38;5;124m\"\u001B[39m, \u001B[38;5;124m\"\u001B[39m\u001B[38;5;124mage\u001B[39m\u001B[38;5;124m\"\u001B[39m, \u001B[38;5;124m\"\u001B[39m\u001B[38;5;124meconomy\u001B[39m\u001B[38;5;124m\"\u001B[39m, \u001B[38;5;124m\"\u001B[39m\u001B[38;5;124mstability\u001B[39m\u001B[38;5;124m\"\u001B[39m, \u001B[38;5;124m\"\u001B[39m\u001B[38;5;124mx\u001B[39m\u001B[38;5;124m\"\u001B[39m, \u001B[38;5;124m\"\u001B[39m\u001B[38;5;124my\u001B[39m\u001B[38;5;124m\"\u001B[39m\n",
       "\u001B[1;32m    103\u001B[0m ]\n",
       "\n",
       "\u001B[0;31mNameError\u001B[0m: name 'territory_tiles' is not defined"
      ]
     },
     "metadata": {
      "application/vnd.databricks.v1+output": {
       "addedWidgets": {},
       "arguments": {},
       "datasetInfos": [],
       "jupyterProps": {
        "ename": "NameError",
        "evalue": "name 'territory_tiles' is not defined"
       },
       "metadata": {
        "errorSummary": "Command skipped"
       },
       "removedWidgets": [],
       "sqlProps": null,
       "stackFrames": [
        "\u001B[0;31m---------------------------------------------------------------------------\u001B[0m",
        "\u001B[0;31mNameError\u001B[0m                                 Traceback (most recent call last)",
        "File \u001B[0;32m<command-46078387421222>, line 1925\u001B[0m\n\u001B[1;32m   1906\u001B[0m             \u001B[38;5;66;03m# Optionally log game tick or other information\u001B[39;00m\n\u001B[1;32m   1907\u001B[0m             \u001B[38;5;66;03m# print(f\"Game tick: {game_tick}\", file=f)\u001B[39;00m\n\u001B[1;32m   1908\u001B[0m     \u001B[38;5;66;03m# finally:\u001B[39;00m\n\u001B[0;32m   (...)\u001B[0m\n\u001B[1;32m   1920\u001B[0m \n\u001B[1;32m   1921\u001B[0m     \u001B[38;5;66;03m#     pygame.display.update()\u001B[39;00m\n\u001B[1;32m   1924\u001B[0m \u001B[38;5;28;01mif\u001B[39;00m \u001B[38;5;18m__name__\u001B[39m \u001B[38;5;241m==\u001B[39m \u001B[38;5;124m\"\u001B[39m\u001B[38;5;124m__main__\u001B[39m\u001B[38;5;124m\"\u001B[39m:\n\u001B[0;32m-> 1925\u001B[0m     main()\n",
        "File \u001B[0;32m<command-46078387421222>, line 1894\u001B[0m, in \u001B[0;36mmain\u001B[0;34m()\u001B[0m\n\u001B[1;32m   1892\u001B[0m     turn \u001B[38;5;241m+\u001B[39m\u001B[38;5;241m=\u001B[39m \u001B[38;5;241m1\u001B[39m\n\u001B[1;32m   1893\u001B[0m     \u001B[38;5;66;03m#log_metrics_to_delta_lake(emp, path=delta_lake_path)\u001B[39;00m\n\u001B[0;32m-> 1894\u001B[0m     log_and_save_metrics(emp)\n\u001B[1;32m   1895\u001B[0m     \u001B[38;5;66;03m# Check if data was written by loading and displaying contents\u001B[39;00m\n\u001B[1;32m   1896\u001B[0m     \u001B[38;5;66;03m# metrics_snapshot = spark.read.format(\"delta\").load(delta_lake_path)\u001B[39;00m\n\u001B[1;32m   1897\u001B[0m     \u001B[38;5;66;03m# metrics_snapshot.show()\u001B[39;00m\n\u001B[1;32m   1898\u001B[0m     \u001B[38;5;66;03m# f.flush()\u001B[39;00m\n\u001B[1;32m   1900\u001B[0m game_tick \u001B[38;5;241m+\u001B[39m\u001B[38;5;241m=\u001B[39m \u001B[38;5;241m1\u001B[39m\n",
        "File \u001B[0;32m<command-46078387421222>, line 97\u001B[0m, in \u001B[0;36mlog_and_save_metrics\u001B[0;34m(empire)\u001B[0m\n\u001B[1;32m     92\u001B[0m mlflow\u001B[38;5;241m.\u001B[39mlog_metric(\u001B[38;5;124mf\u001B[39m\u001B[38;5;124m\"\u001B[39m\u001B[38;5;132;01m{\u001B[39;00mmetrics[\u001B[38;5;241m0\u001B[39m][\u001B[38;5;241m1\u001B[39m]\u001B[38;5;132;01m}\u001B[39;00m\u001B[38;5;124m_stability\u001B[39m\u001B[38;5;124m\"\u001B[39m, metrics[\u001B[38;5;241m4\u001B[39m][\u001B[38;5;241m1\u001B[39m])\n\u001B[1;32m     94\u001B[0m   \u001B[38;5;66;03m# Include individual tile coordinates\u001B[39;00m\n\u001B[1;32m     95\u001B[0m tile_data \u001B[38;5;241m=\u001B[39m [\n\u001B[1;32m     96\u001B[0m     (empire\u001B[38;5;241m.\u001B[39mname, empire\u001B[38;5;241m.\u001B[39mage, empire\u001B[38;5;241m.\u001B[39meconomy, empire\u001B[38;5;241m.\u001B[39mstability, tile\u001B[38;5;241m.\u001B[39mx, tile\u001B[38;5;241m.\u001B[39my)\n\u001B[0;32m---> 97\u001B[0m     \u001B[38;5;28;01mfor\u001B[39;00m tile \u001B[38;5;129;01min\u001B[39;00m territory_tiles\n\u001B[1;32m     98\u001B[0m ]\n\u001B[1;32m    100\u001B[0m \u001B[38;5;66;03m# Define columns for the DataFrame\u001B[39;00m\n\u001B[1;32m    101\u001B[0m columns \u001B[38;5;241m=\u001B[39m [\n\u001B[1;32m    102\u001B[0m     \u001B[38;5;124m\"\u001B[39m\u001B[38;5;124mempire_name\u001B[39m\u001B[38;5;124m\"\u001B[39m, \u001B[38;5;124m\"\u001B[39m\u001B[38;5;124mage\u001B[39m\u001B[38;5;124m\"\u001B[39m, \u001B[38;5;124m\"\u001B[39m\u001B[38;5;124meconomy\u001B[39m\u001B[38;5;124m\"\u001B[39m, \u001B[38;5;124m\"\u001B[39m\u001B[38;5;124mstability\u001B[39m\u001B[38;5;124m\"\u001B[39m, \u001B[38;5;124m\"\u001B[39m\u001B[38;5;124mx\u001B[39m\u001B[38;5;124m\"\u001B[39m, \u001B[38;5;124m\"\u001B[39m\u001B[38;5;124my\u001B[39m\u001B[38;5;124m\"\u001B[39m\n\u001B[1;32m    103\u001B[0m ]\n",
        "\u001B[0;31mNameError\u001B[0m: name 'territory_tiles' is not defined"
       ],
       "type": "baseError"
      }
     },
     "output_type": "display_data"
    }
   ],
   "source": [
    "# metrics_df = spark.read.format(\"delta\").option(\"versionAsOf\", 1).load(delta_lake_path)\n",
    "# territory_size_chart = metrics_df.select(\"age\", \"empire_name\", \"territory_size\")\n",
    "# territory_size_chart.display()"
   ]
  }
 ],
 "metadata": {
  "application/vnd.databricks.v1+notebook": {
   "dashboards": [],
   "environmentMetadata": null,
   "language": "python",
   "notebookMetadata": {
    "pythonIndentUnit": 2
   },
   "notebookName": "money civ",
   "widgets": {}
  }
 },
 "nbformat": 4,
 "nbformat_minor": 0
}
