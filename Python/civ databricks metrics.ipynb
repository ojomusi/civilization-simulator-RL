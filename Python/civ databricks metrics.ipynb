{
 "cells": [
  {
   "cell_type": "code",
   "execution_count": 0,
   "metadata": {
    "application/vnd.databricks.v1+cell": {
     "cellMetadata": {
      "byteLimit": 2048000,
      "rowLimit": 10000
     },
     "inputWidgets": {},
     "nuid": "95f910d9-8725-4864-a1fe-f4d8f00cee88",
     "showTitle": false,
     "tableResultSettingsMap": {},
     "title": ""
    }
   },
   "outputs": [],
   "source": [
    "#!pip install pygame pandas matplotlib noise deltalake\n",
    "#%pip install pyarrow==16  # Or use a compatible version like 11.0.0\n",
    "%pip install pyspark==2.1.2\n",
    "dbutils.library.restartPython()\n",
    "#%pip install deltalake==0.9.2  # Ensure `deltalake` is compatible with `pyarrow`\n"
   ]
  },
  {
   "cell_type": "code",
   "execution_count": 0,
   "metadata": {
    "application/vnd.databricks.v1+cell": {
     "cellMetadata": {
      "byteLimit": 2048000,
      "rowLimit": 10000
     },
     "inputWidgets": {},
     "nuid": "df7a8133-669e-490b-a2ee-83a62a812747",
     "showTitle": false,
     "tableResultSettingsMap": {},
     "title": ""
    }
   },
   "outputs": [],
   "source": [
    "\"\"\"\n",
    "MIT License\n",
    "\n",
    "Copyright (c) 2020 Ben Plate \n",
    "\n",
    "Permission is hereby granted, free of charge, to any person obtaining a copy\n",
    "of this software and associated documentation files (the \"Software\"), to deal\n",
    "in the Software without restriction, including without limitation the rights\n",
    "to use, copy, modify, merge, publish, distribute, sublicense, and/or sell\n",
    "copies of the Software, and to permit persons to whom the Software is\n",
    "furnished to do so, subject to the following conditions:\n",
    "\n",
    "The above copyright notice and this permission notice shall be included in all\n",
    "copies or substantial portions of the Software.\n",
    "\n",
    "THE SOFTWARE IS PROVIDED \"AS IS\", WITHOUT WARRANTY OF ANY KIND, EXPRESS OR\n",
    "IMPLIED, INCLUDING BUT NOT LIMITED TO THE WARRANTIES OF MERCHANTABILITY,\n",
    "FITNESS FOR A PARTICULAR PURPOSE AND NONINFRINGEMENT. IN NO EVENT SHALL THE\n",
    "AUTHORS OR COPYRIGHT HOLDERS BE LIABLE FOR ANY CLAIM, DAMAGES OR OTHER\n",
    "LIABILITY, WHETHER IN AN ACTION OF CONTRACT, TORT OR OTHERWISE, ARISING FROM,\n",
    "OUT OF OR IN CONNECTION WITH THE SOFTWARE OR THE USE OR OTHER DEALINGS IN THE\n",
    "SOFTWARE.\n",
    "\n",
    "\"\"\"\n",
    "\n",
    "import os\n",
    "os.environ[\"SDL_VIDEODRIVER\"] = \"dummy\"  # Run pygame without opening a display window\n",
    "import sys\n",
    "\n",
    "import pygame\n",
    "import pygame.gfxdraw\n",
    "import math\n",
    "import noise\n",
    "\n",
    "import random\n",
    "import pandas as pd\n",
    "from datetime import datetime\n",
    "\n",
    "import numpy as np\n",
    "from pyspark.sql import SparkSession\n",
    "#import mlflow\n",
    "from delta.tables import DeltaTable\n",
    "from deltalake.writer import write_deltalake  # use delta-rs or similar lightweight Delta Lake\n",
    "\n",
    "\n",
    "# Define Delta Lake Table for Empire Metrics\n",
    "delta_lake_path = \"/dbfs/empire_data/metrics\"  # Databricks file path for Delta table\n",
    "\n",
    "# Function to log and save metrics for each empire\n",
    "def log_metrics_to_delta_lake(empire, path=delta_lake_path):\n",
    "    # Convert metrics to a DataFrame or dictionary\n",
    "    metrics_data = pd.DataFrame([{\n",
    "        \"empire_name\": empire.name,\n",
    "        \"age\": empire.age,\n",
    "        \"territory_size\": len(get_empire_tiles(empire)),\n",
    "        \"economy\": empire.economy,\n",
    "        \"stability\": empire.stability\n",
    "    }])\n",
    "    # Write to Delta Lake path\n",
    "    write_deltalake(path, metrics_data, mode=\"append\")  # No Spark session needed\n",
    "seed_value = int(datetime.now().timestamp())  # Get the current time as a float\n",
    "random.seed(seed_value)\n",
    "# random.seed(datetime.now())\n",
    "\n",
    "rand_val = random.randint(0, 100000)\n",
    "\n",
    "SQRT_3 = 1.732\n",
    "WINDOW_BOUND = [1366, 700]\n",
    "GAME_BOUND = [\n",
    "    round(WINDOW_BOUND[0] * 1 / 64),\n",
    "    round(WINDOW_BOUND[1] * 1 / 64),\n",
    "    round(WINDOW_BOUND[0] * 31 / 32),\n",
    "    round(WINDOW_BOUND[1] * 31 / 32),\n",
    "]\n",
    "HEX_WIDTH = 12  # 12\n",
    "DIMENSIONS = [64, 32]  # 64, 32\n",
    "CONTINENT_ROUGHNESS = 0.9  # 0.9\n",
    "OCEAN_WORLD = 5\n",
    "INITIAL_EMPIRES = 16  # 16\n",
    "PEACE_DURATION = 15\n",
    "ECONOMIC_ADVANTAGE = 2\n",
    "ENABLE_MULTITHREADING = True\n",
    "\n",
    "NUM_CORES = 1\n",
    "\n",
    "if ENABLE_MULTITHREADING:\n",
    "    if sys.platform.startswith(\"linux\"):\n",
    "        stream = os.popen(\"grep -c ^processor /proc/cpuinfo\")\n",
    "    elif sys.platform.startswith(\"win\"):\n",
    "        stream = os.popen(\"echo %NUMBER_OF_PROCESSORS%\")\n",
    "    elif sys.platform.startswith(\"cygwin\"):\n",
    "        stream = os.popen(\"echo %NUMBER_OF_PROCESSORS%\")\n",
    "    elif sys.platform.startswith(\"msys\"):\n",
    "        stream = os.popen(\"echo %NUMBER_OF_PROCESSORS%\")\n",
    "    elif sys.platform.startswith(\"darwin\"):\n",
    "        stream = os.popen(\"sysctl -n hw.ncpu\")\n",
    "\n",
    "    output = stream.read()\n",
    "    NUM_CORES = int(output[: len(output) - 1])\n",
    "\n",
    "global emp_count, game_tick, turn\n",
    "\n",
    "noise_vals = []\n",
    "emp_arr = []\n",
    "hex_arr = []\n",
    "emp_count = 1\n",
    "game_tick = 1\n",
    "turn = 1\n",
    "\n",
    "\n",
    "class Empire:\n",
    "    def __init__(self, name, capital, color, economy=100):\n",
    "        global emp_count\n",
    "\n",
    "        self.name = name\n",
    "        self.capital = capital\n",
    "        self.color = verify_color(color)\n",
    "        self.expanding = True\n",
    "        self.economy = economy\n",
    "        self.stability = 1.0\n",
    "        self.war_targets = []\n",
    "        self.peace_deals = []\n",
    "        self.border_emps = []\n",
    "        self.border_count = 0\n",
    "        self.age = 0\n",
    "\n",
    "        emp_count += 1\n",
    "        annex_tile(self, capital)\n",
    "        # self.capital.set_color((0, 0, 0))\n",
    "        self.capital.make_capital()\n",
    "        emp_arr.append(self)\n",
    "\n",
    "        recalc_border_emps(self)\n",
    "\n",
    "        for border_emp in self.border_emps:\n",
    "            recalc_border_emps(border_emp)\n",
    "\n",
    "\n",
    "class AIEmpire(Empire):\n",
    "    def __init__(self, name, capital, color, economy=100, ai_agent=None):\n",
    "        super().__init__(name, capital, color, economy)\n",
    "        self.ai_agent = ai_agent  # Reinforcement learning agent\n",
    "\n",
    "        self.reward = 0\n",
    "        self.state = self.get_state()\n",
    "        self.next_state = None\n",
    "        self.expanding = True\n",
    "        annex_tile(self, capital)\n",
    "        self.capital.make_capital()\n",
    "        # emp_arr.append(self)\n",
    "\n",
    "        recalc_border_emps(self)\n",
    "\n",
    "        for border_emp in self.border_emps:\n",
    "            recalc_border_emps(border_emp)\n",
    "     \n",
    "\n",
    "    def get_state(self):\n",
    "        \"\"\"Define the state representation for the AI agent.\"\"\"\n",
    "        return {\n",
    "            \"economy\": self.economy,\n",
    "            \"stability\": self.stability,\n",
    "            \"territory_size\": len(get_empire_tiles(self)),\n",
    "            \"border_empires\": len(self.border_emps),\n",
    "            \"age\": self.age,\n",
    "        }\n",
    "\n",
    "    def update_reward(self):\n",
    "        \"\"\"Update the reward based on the empire's performance.\"\"\"\n",
    "        territory_growth = len(get_empire_tiles(self)) - self.state[\"territory_size\"]\n",
    "        self.reward = (\n",
    "            territory_growth * 10  # Reward for each tile acquired\n",
    "            + (self.economy - self.state[\"economy\"]) * 0.1  # Reward for economy growth\n",
    "            - (5 - self.stability) * 5  # Penalty for low stability\n",
    "        )\n",
    "\n",
    "    def take_action(self):\n",
    "        \"\"\"Allow the AI agent to choose an action based on the current state.\"\"\"\n",
    "        self.state = self.get_state()\n",
    "        action = self.ai_agent.select_action(self.state, self.next_state, self.reward)[\n",
    "            0\n",
    "        ]\n",
    "        q_value = self.ai_agent.select_action(self.state, self.next_state, self.reward)[\n",
    "            1\n",
    "        ]\n",
    "\n",
    "        if action == \"expand\":\n",
    "            self.expand_territory()\n",
    "        elif action == \"declare_war\":\n",
    "            self.declare_war_on_neighbor()\n",
    "        elif action == \"stabilize\":\n",
    "            self.improve_stability()\n",
    "        elif action == \"peace\":\n",
    "            self.make_peace_with_neighbor()\n",
    "        elif action == \"sea_invade\":\n",
    "            self.sea_invade()\n",
    "        self.next_state = self.get_state()  # update next_state for simulation\n",
    "        self.update_reward()  # Update the reward after taking action\n",
    "     \n",
    "    def process_turn(self):\n",
    "        tiles = get_empire_tiles(self)\n",
    "\n",
    "        # print(self.economy)\n",
    "\n",
    "        # border_selfs = []\n",
    "        deltaE = math.floor(\n",
    "            (\n",
    "                2.5 * len(tiles)\n",
    "                + (\n",
    "                    len(tiles) < 20\n",
    "                    and 250\n",
    "                    or (250 + -0.55 * ((len(tiles) - 20) ** 1.3))\n",
    "                )\n",
    "                / 3\n",
    "            )\n",
    "            / (len(self.war_targets) + 1)\n",
    "        )\n",
    "        deltaS = 1.0 - (len(tiles) + 1) * 0.02\n",
    "        if deltaE > 750:\n",
    "            deltaE = 750\n",
    "        if deltaS > 0.5:\n",
    "            deltaS = 0.5\n",
    "        if deltaS < -0.5:\n",
    "            deltaS = -0.5\n",
    "        self.economy += deltaE\n",
    "        self.stability += deltaS\n",
    "        if self.economy > 500000:\n",
    "            self.economy = 500000\n",
    "        if self.economy < 0:\n",
    "            self.economy = 0\n",
    "        if self.stability > 5:\n",
    "            self.stability = 5\n",
    "        if self.stability < 0:\n",
    "            self.stability = 0\n",
    "\n",
    "        if len(tiles) == 1:\n",
    "            surrounded = True\n",
    "            surroundings = get_surroundings(self.capital)\n",
    "            if len(surroundings) == 0:\n",
    "                dissolve_empire(self)\n",
    "            else:\n",
    "                surrounding_emp = surroundings[0].empire\n",
    "                for surr_hex in surroundings:\n",
    "                    if surr_hex.empire != surrounding_emp:\n",
    "                        surrounded = False\n",
    "                        break\n",
    "                if surrounded == True:\n",
    "                    if surrounding_emp is not None:\n",
    "                        partition_empire(self, surrounding_emp)\n",
    "                    else:\n",
    "                        print(\n",
    "                            f\"Warning: Cannot partition {self.name} as there is no surrounding empire.\"\n",
    "                        )\n",
    "        if (\n",
    "            random.randint(\n",
    "                min(round(self.border_count / (1 + len(tiles))) * 200, 1000), 2000\n",
    "            )\n",
    "            == 2000\n",
    "        ):\n",
    "            print(\"%s collapsed!\" % (self.name))\n",
    "            dissolve_empire(self)\n",
    "        # Tile occupation and bordering empire checks\n",
    "        # Recalculate borders, etc.\n",
    "        # Rebellion chance based on distance and stability\n",
    "        if len(self.war_targets) == 0:\n",
    "            for i in range(0, 3):\n",
    "                rand_hex = hex_arr[random.randint(0, len(hex_arr) - 1)]\n",
    "                if (\n",
    "                    rand_hex.empire == self\n",
    "                    and rand_hex.occupier is None\n",
    "                    and random.randint(math.floor(min(self.stability, 0.9) * 10), 10)\n",
    "                    < 5\n",
    "                    and distance_from_tiles(self.capital, rand_hex) > 8\n",
    "                    and random.randint(\n",
    "                        0, 25 + math.floor(distance_from_tiles(self.capital, rand_hex))\n",
    "                    )\n",
    "                    > 25\n",
    "                ):\n",
    "                    print(\"A nation has rebelled against %s! (2)\" % (self.name))\n",
    "                    rebel(self, rand_hex)\n",
    "                    self.stability *= 0.5\n",
    "                    if random.randint(0, 2) == 0 and len(tiles) > 30:\n",
    "                        the_tiles = get_empire_tiles(self)\n",
    "                        rand_hex = the_tiles[random.randint(0, len(the_tiles) - 1)]\n",
    "                        for i in range(0, random.randint(1, 3)):\n",
    "                            rebel(self, rand_hex)\n",
    "                        self.stability *= 0.5\n",
    "                        print(\"%s has broken out into civil war!\" % (self.name))\n",
    "                    break\n",
    "        self.age += 1\n",
    "\n",
    "    def expand_territory(self):\n",
    "        \"\"\"Try to expand territory if possible.\"\"\"\n",
    "        action_taken = False\n",
    "        for hexagon in get_empire_tiles(self):\n",
    "            surroundings = get_surroundings(hexagon)\n",
    "            for surr_hex in surroundings:\n",
    "                if surr_hex.empire is None and surr_hex.occupier is None:\n",
    "                    annex_tile(self, surr_hex)\n",
    "                    recalc_border_emps(self)\n",
    "                    action_taken = True\n",
    "                    break\n",
    "        for hexagon in get_controlled_tiles(self):\n",
    "            surroundings = get_surroundings(hexagon)\n",
    "            for surr_hex in surroundings:\n",
    "                if not is_in_control(self, surr_hex):\n",
    "                    for target in self.war_targets:\n",
    "                        if (\n",
    "                            target.type == 0\n",
    "                            and is_in_control(target.target, surr_hex)\n",
    "                            and (\n",
    "                                surr_hex.empire == target.target\n",
    "                                or surr_hex.empire == self\n",
    "                            )\n",
    "                        ):\n",
    "                            econ_advantage = min(\n",
    "                                round(self.economy / (target.target.economy + 1)), 9\n",
    "                            )\n",
    "                            helpers = 0\n",
    "                            destroyed_empire = False\n",
    "                            for pot_helper in get_surroundings(surr_hex):\n",
    "                                if is_in_control(self, pot_helper):\n",
    "                                    helpers += 1\n",
    "                            if (\n",
    "                                target.rebel is None\n",
    "                                and random.randint(0, helpers + 1) > 1\n",
    "                                and random.randint(\n",
    "                                    0, econ_advantage * ECONOMIC_ADVANTAGE + 1\n",
    "                                )\n",
    "                                > 1\n",
    "                            ):\n",
    "                                if surr_hex.empire == self:\n",
    "                                    unoccupy_tile(surr_hex)\n",
    "                                else:\n",
    "                                    destroyed_empire = occupy_tile(\n",
    "                                        self, surr_hex, target\n",
    "                                    )\n",
    "                                    action_taken = True\n",
    "                            elif (\n",
    "                                target.rebel == True\n",
    "                                and random.randint(0, helpers + 1) > 1\n",
    "                                and random.randint(0, 3) == 0\n",
    "                            ):\n",
    "                                if surr_hex.empire == self:\n",
    "                                    unoccupy_tile(surr_hex)\n",
    "                                else:\n",
    "                                    destroyed_empire = occupy_tile(\n",
    "                                        self, surr_hex, target\n",
    "                                    )\n",
    "                                    action_taken = True\n",
    "                            elif (\n",
    "                                target.rebel == False\n",
    "                                and random.randint(0, helpers + 1) > 1\n",
    "                                and random.randint(0, 10) == 0\n",
    "                            ):\n",
    "                                if surr_hex.empire == self:\n",
    "                                    unoccupy_tile(surr_hex)\n",
    "                                else:\n",
    "                                    destroyed_empire = occupy_tile(\n",
    "                                        self, surr_hex, target\n",
    "                                    )\n",
    "                                    action_taken = True\n",
    "                            if (\n",
    "                                destroyed_empire == True\n",
    "                                and target.special == 0\n",
    "                                and random.randint(0, 1) == 0\n",
    "                            ):\n",
    "                                recalc_border_emps(self)\n",
    "                                print(\n",
    "                                    \"All neighboring nations have declared war on %s after a partition!\"\n",
    "                                    % (self.name)\n",
    "                                )\n",
    "                                action_taken = True\n",
    "        return action_taken\n",
    "\n",
    "    def declare_war_on_neighbor(self):\n",
    "        \"\"\"Declare war on a weighted neighboring empire based on their economy.\"\"\"\n",
    "        if not self.border_emps:\n",
    "            return False  # No neighbors to declare war on\n",
    "\n",
    "        for border_emp in self.border_emps:\n",
    "            if (\n",
    "                self.age > 30\n",
    "                and self.economy > 1000\n",
    "                and random.randint(0, 20 * len(emp_arr)) == 0\n",
    "                and self.economy >= border_emp.economy\n",
    "            ):\n",
    "                can_war = True\n",
    "                for diplo in concat_table(self.war_targets, self.peace_deals):\n",
    "                    if diplo.target == border_emp:\n",
    "                        can_war = False\n",
    "                if can_war:\n",
    "                    # Sort border empires by their economy in descending order\n",
    "                    ordered_econ_list = sorted(\n",
    "                        self.border_emps, key=lambda x: x.economy, reverse=True\n",
    "                    )\n",
    "\n",
    "                    # Calculate weights based on sorted position (stronger economies get higher weights)\n",
    "                    weights = [\n",
    "                        i / len(ordered_econ_list)\n",
    "                        for i in range(1, len(ordered_econ_list) + 1)\n",
    "                    ]\n",
    "\n",
    "                    # Select a target empire based on the calculated weights\n",
    "                    target = random.choices(ordered_econ_list, weights=weights, k=1)[0]\n",
    "\n",
    "                    # Declare war on the chosen target\n",
    "                    declare_war(self, target)\n",
    "                    print(\"%s has declared war on %s\" % (self.name, target.name))\n",
    "                    return True\n",
    "        for hexagon in get_controlled_tiles(self):\n",
    "            surroundings = get_surroundings(hexagon)\n",
    "            for surr_hex in surroundings:\n",
    "                if not is_in_control(self, surr_hex):\n",
    "                    for target in self.war_targets:\n",
    "                        if is_in_control(target.target, surr_hex):\n",
    "                            # Occupy tiles based on economic and helper conditions\n",
    "                            destroyed_empire = occupy_tile(self, surr_hex, target)\n",
    "                            if destroyed_empire:\n",
    "                                recalc_border_emps(self)\n",
    "                                print(\n",
    "                                    f\"{self.name} has caused neighboring nations to declare war after partition.\"\n",
    "                                )\n",
    "                                for border_emp in self.border_emps:\n",
    "                                    if self.economy * 0.7 < border_emp.economy:\n",
    "                                        already_at_war = False\n",
    "                                        for target in border_emp.war_targets:\n",
    "                                            if target.target == self:\n",
    "                                                already_at_war = True\n",
    "                                                target.special = 1\n",
    "                                                target.aggressor = self\n",
    "                                        if not already_at_war:\n",
    "                                            declare_war(border_emp, self, 1, self)\n",
    "                                            return True\n",
    "        return False\n",
    "\n",
    "    def improve_stability(self):\n",
    "        \"\"\"Increase stability as an action.\"\"\"\n",
    "        if self.stability >= 5:\n",
    "            self.stability = 5\n",
    "            return False\n",
    "        else:\n",
    "            self.stability += 0.1\n",
    "            return True\n",
    "\n",
    "    def make_peace_with_neighbor(self):\n",
    "        \"\"\"Make peace with a neighboring empire.\"\"\"\n",
    "        # Handle peace with war targets after sufficient time\n",
    "        action_taken = False\n",
    "        if self.war_targets:\n",
    "            for war in self.war_targets:\n",
    "                if random.randint(0, game_tick - war.tick) > 25:\n",
    "                    print(f\"{self.name} has made peace with {war.target.name}\")\n",
    "                    make_peace(self, war.target)\n",
    "                    action_taken = True\n",
    "                    break\n",
    "        if self.border_emps:\n",
    "            target = random.choice(self.border_emps)\n",
    "            target_deals = [x.target for x in self.peace_deals]\n",
    "            if target in target_deals:\n",
    "                action_taken = False\n",
    "            else:\n",
    "                print(f\"{self.name} has made peace with {target.name}\")\n",
    "                make_peace(self, target)\n",
    "        for i in reversed(range(len(self.peace_deals))):\n",
    "            if game_tick - self.peace_deals[i].tick >= PEACE_DURATION:\n",
    "                print(\n",
    "                    \"Peace deal between %s and %s has expired\"\n",
    "                    % (self.name, self.peace_deals[i].target.name)\n",
    "                )\n",
    "                self.peace_deals.pop(i)\n",
    "        return action_taken\n",
    "\n",
    "    def sea_invade(self):\n",
    "        \"\"\"Sea invade a neighboring empire.\"\"\"\n",
    "        action_taken = False\n",
    "        for target in shuffle_table(emp_arr):\n",
    "            if self.economy >= 5000 and self.economy > target.economy * 1.25:\n",
    "                # print(\"Sea invasion happening by %s on %s!\" % (self.name, target.name))\n",
    "                sea_invasion(self, target)\n",
    "                action_taken = True\n",
    "        return action_taken\n",
    "\n",
    "\n",
    "class Agent:\n",
    "    def __init__(\n",
    "        self,\n",
    "        empire,\n",
    "        replay_memory_size=1000,\n",
    "        batch_size=10,\n",
    "        gamma=0.99,\n",
    "        learning_rate=0.001,\n",
    "    ):\n",
    "        self.replay_memory = []\n",
    "        self.replay_memory_size = replay_memory_size\n",
    "        self.batch_size = batch_size\n",
    "        self.gamma = gamma  # Discount factor\n",
    "        self.learning_rate = learning_rate\n",
    "        self.q_network = {}  # Initialize a Q-network or dictionary for Q-values\n",
    "        self.actions = [\"expand\", \"declare_war\", \"stabilize\", \"peace\", \"sea_invade\"]\n",
    "        self.empire = empire\n",
    "\n",
    "    def select_action(self, state, next_state, reward):\n",
    "        \"\"\"Select an action based on the current policy or randomly.\"\"\"\n",
    "        if next_state is None:\n",
    "            self.past_action = random.choice(self.actions)\n",
    "            return self.past_action if state[\"territory_size\"] < 50 else \"stabilize\"\n",
    "        else:\n",
    "            self.update_policy(state, self.past_action, reward, next_state)\n",
    "            if not self.q_network:\n",
    "                # Random action if q_network is empty\n",
    "                self.past_action = (\n",
    "                    random.choice(self.actions)\n",
    "                    if state[\"territory_size\"] < 50\n",
    "                    else \"stabilize\"\n",
    "                )\n",
    "                return self.past_action, None\n",
    "\n",
    "            # Find the best action based on the highest Q-value\n",
    "            best_action = None\n",
    "            best_q = float(\"-inf\")\n",
    "\n",
    "            # Iterate through the q_network to find the best Q-value for the current state\n",
    "            for (stored_state, action), q_value in self.q_network.items():\n",
    "                # Check if the stored state matches the current state\n",
    "                if stored_state == tuple(state.items()):\n",
    "                    if q_value > best_q:\n",
    "                        best_q = q_value\n",
    "                        best_action = action\n",
    "\n",
    "            # If we found a suitable action with a Q-value >= 1, we use it\n",
    "            if best_q >= 1:\n",
    "                self.past_action = best_action\n",
    "                return self.past_action, best_q\n",
    "            else:\n",
    "                # Otherwise, use random actions or the highest Q-value action if available\n",
    "                if best_action:\n",
    "                    # Remove the action with the lowest Q-value if all Q-values are negative\n",
    "                    policy_copy = {\n",
    "                        (st, act): qv\n",
    "                        for (st, act), qv in self.q_network.items()\n",
    "                        if st == tuple(state.items()) and qv >= 0\n",
    "                    }\n",
    "\n",
    "                    if policy_copy:\n",
    "                        # Choose the best Q-value action from the modified policy\n",
    "                        best_q_action = max(policy_copy, key=policy_copy.get)\n",
    "                        self.past_action = best_q_action[\n",
    "                            1\n",
    "                        ]  # Get the action part of the tuple\n",
    "                        return self.past_action\n",
    "                    else:\n",
    "                        # If no non-negative actions left, choose randomly\n",
    "                        self.past_action = random.choice(self.actions)\n",
    "                        return self.past_action, best_q\n",
    "                else:\n",
    "                    # Fallback to random if no valid action was found\n",
    "                    self.past_action = random.choice(self.actions)\n",
    "                    return self.past_action, best_q\n",
    "\n",
    "    def update_policy(self, state, action, reward, next_state):\n",
    "        \"\"\"Update policy based on observed state, action, and reward using Deep Q-Learning.\"\"\"\n",
    "        # Add experience to replay memory\n",
    "        self.push_to_memory(state, action, reward, next_state)\n",
    "\n",
    "        # Sample a batch from replay memory if it's sufficiently populated\n",
    "        if len(self.replay_memory) >= self.batch_size:\n",
    "            batch = self.sample_from_memory(self.batch_size)\n",
    "\n",
    "            # Perform Q-learning update on each sampled experience\n",
    "            for (\n",
    "                sampled_state,\n",
    "                sampled_action,\n",
    "                sampled_reward,\n",
    "                sampled_next_state,\n",
    "            ) in batch:\n",
    "\n",
    "                # Get the current Q-value for the state-action pair\n",
    "                # Convert state and action to tuples to make them hashable\n",
    "                state_key = tuple((k, v) for k, v in sampled_state.items())\n",
    "                action_key = (\n",
    "                    tuple((k, v) for k, v in sampled_action.items())\n",
    "                    if isinstance(sampled_action, dict)\n",
    "                    else sampled_action\n",
    "                )\n",
    "\n",
    "                current_q = self.q_network.get((state_key, action_key), 0.0)\n",
    "\n",
    "                # Calculate the target Q-value\n",
    "                if sampled_next_state is None:  # If it's a terminal state\n",
    "                    target_q = sampled_reward\n",
    "                else:\n",
    "                    # Find max Q-value for the next state\n",
    "                    next_state_key = tuple(\n",
    "                        (k, v) for k, v in sampled_next_state.items()\n",
    "                    )\n",
    "                    next_q_values = [\n",
    "                        self.q_network.get((next_state_key, a), 0.0)\n",
    "                        for a in self.get_possible_actions(sampled_next_state)\n",
    "                    ]\n",
    "                    max_next_q = max(next_q_values) if next_q_values else 0.0\n",
    "                    target_q = sampled_reward + self.gamma * max_next_q\n",
    "\n",
    "                # Update Q-value with gradient descent (simplified as a manual update for clarity)\n",
    "                updated_q = current_q + self.learning_rate * (target_q - current_q)\n",
    "                self.q_network[(state_key, action_key)] = updated_q\n",
    "\n",
    "    def push_to_memory(self, state, action, reward, next_state):\n",
    "        \"\"\"Push a new experience into replay memory.\"\"\"\n",
    "        if len(self.replay_memory) >= self.replay_memory_size:\n",
    "            self.replay_memory.pop(0)\n",
    "        self.replay_memory.append((state, action, reward, next_state))\n",
    "\n",
    "    def sample_from_memory(self, batch_size):\n",
    "        \"\"\"Sample a batch of experiences from replay memory.\"\"\"\n",
    "        return random.sample(self.replay_memory, batch_size)\n",
    "\n",
    "    def get_possible_actions(self, state):\n",
    "        possible_actions = []\n",
    "\n",
    "        if self.empire.expand_territory():\n",
    "            possible_actions.append(\"expand_territory\")\n",
    "        if self.empire.declare_war_on_neighbor():\n",
    "            possible_actions.append(\"declare_war_on_neighbor\")\n",
    "        if self.empire.improve_stability():\n",
    "            possible_actions.append(\"improve_stability\")\n",
    "        if self.empire.make_peace_with_neighbor():\n",
    "            possible_actions.append(\"make_peace_with_neighbor\")\n",
    "        if self.empire.sea_invade():\n",
    "            possible_actions.append(\"sea_invade\")\n",
    "\n",
    "        return possible_actions\n",
    "\n",
    "\n",
    "class Hex:\n",
    "    def __init__(self, win, x, y):\n",
    "        self.win = win\n",
    "        self.x = x\n",
    "        self.y = y\n",
    "        self.empire = None\n",
    "        self.occupier = None\n",
    "        self.new_empire = None\n",
    "        self.new_occupier = None\n",
    "        self.change_color = False\n",
    "        self.color = (255, 255, 255)\n",
    "        draw_hex_at_coord(self.win, self.x, self.y, self.color)\n",
    "\n",
    "    def set_color(self, color):\n",
    "        self.color = color\n",
    "        draw_hex_at_coord(self.win, self.x, self.y, self.color)\n",
    "\n",
    "    def make_capital(self):\n",
    "        pygame.draw.circle(\n",
    "            self.win,\n",
    "            (0, 0, 0),\n",
    "            (\n",
    "                GAME_BOUND[0] + self.x * math.floor(1.5 * HEX_WIDTH),\n",
    "                GAME_BOUND[1]\n",
    "                + self.y * math.floor(SQRT_3 * HEX_WIDTH)\n",
    "                + (self.x % 2) * math.floor(SQRT_3 / 2 * HEX_WIDTH),\n",
    "            ),\n",
    "            math.ceil(HEX_WIDTH * 0.5),\n",
    "        )\n",
    "\n",
    "\n",
    "class DiploObject:\n",
    "    def __init__(self, target, kind, rebel=None, special=0, aggressor=None):\n",
    "        self.target = target\n",
    "        self.type = kind  # 0 is a war declartion, 1 is a peace deal\n",
    "        self.tick = game_tick\n",
    "        self.rebel = rebel\n",
    "        self.special = special  # 0 is not special, 1 is retribution conflict\n",
    "        self.aggressor = aggressor\n",
    "\n",
    "\n",
    "def draw_hex(screen, color, x, y, sWidth=10, width=0):\n",
    "    factor_1 = math.floor(SQRT_3 * sWidth / 2)\n",
    "    factor_2 = math.floor(sWidth * 0.5)\n",
    "\n",
    "\n",
    "\n",
    "def draw_hex_at_coord(screen, x, y, color=(255, 255, 255)):\n",
    "    factor_1 = math.floor(1.5 * HEX_WIDTH)\n",
    "    factor_2 = math.floor(SQRT_3 * HEX_WIDTH)\n",
    "    factor_3 = math.floor(SQRT_3 / 2 * HEX_WIDTH)\n",
    "    draw_hex(\n",
    "        screen,\n",
    "        color,\n",
    "        GAME_BOUND[0] + x * factor_1,\n",
    "        GAME_BOUND[1] + y * factor_2 + (x % 2) * factor_3,\n",
    "        HEX_WIDTH,\n",
    "    )\n",
    "    draw_hex(\n",
    "        screen,\n",
    "        (0, 0, 0),\n",
    "        GAME_BOUND[0] + x * factor_1,\n",
    "        GAME_BOUND[1] + y * factor_2 + (x % 2) * factor_3,\n",
    "        HEX_WIDTH,\n",
    "        1,\n",
    "    )\n",
    "\n",
    "\n",
    "def get_key_from_value(tab, value):\n",
    "    i = 0\n",
    "    for val in tab:\n",
    "        if val == value:\n",
    "            return i\n",
    "        i += 1\n",
    "    return -1\n",
    "\n",
    "\n",
    "def index_at_greatest(tab):\n",
    "    val = -math.inf\n",
    "    index = -1\n",
    "\n",
    "    for i in range(len(tab)):\n",
    "        if tab[i] > val:\n",
    "            val = tab[i]\n",
    "            index = i\n",
    "\n",
    "    return i\n",
    "\n",
    "\n",
    "def concat_table(tab1, tab2):\n",
    "    tab3 = []\n",
    "    for i in tab1:\n",
    "        tab3.append(i)\n",
    "    for i in tab2:\n",
    "        tab3.append(i)\n",
    "    return tab3\n",
    "\n",
    "\n",
    "def cpft(a, b, c):\n",
    "    for v in a:\n",
    "        if v[0] == b and v[1] == c:\n",
    "            return True\n",
    "    return False\n",
    "\n",
    "\n",
    "def verify_color(color, level=0):\n",
    "    if level > 100:\n",
    "        return color\n",
    "    for emp in emp_arr:\n",
    "        diff = (\n",
    "            ((emp.color[0] - color[0]) ** 2)\n",
    "            + ((emp.color[1] - color[1]) ** 2)\n",
    "            + ((emp.color[2] - color[2]) ** 2)\n",
    "        )\n",
    "        if diff < 500:\n",
    "            return verify_color(\n",
    "                (\n",
    "                    random.randint(15, 85),\n",
    "                    random.randint(15, 85),\n",
    "                    random.randint(15, 85),\n",
    "                ),\n",
    "                level + 1,\n",
    "            )\n",
    "\n",
    "    return color\n",
    "\n",
    "\n",
    "def tiles_connected(tile1, tile2, l=None, i=None):\n",
    "    if l == None:\n",
    "        if (tile2.empire != tile2.empire) or (\n",
    "            tile1.empire is None or tile2.empire is None\n",
    "        ):\n",
    "            return False\n",
    "        l = [[tile2.x, tile2.y, 0]]\n",
    "    if i == None:\n",
    "        i = 0\n",
    "    for v in get_surroundings(tile2):\n",
    "        if v == tile1:\n",
    "            return True\n",
    "        coords = [v.x, v.y]\n",
    "        orig = hex_exists(l[0][0], l[0][1])\n",
    "        if not (cpft(l, coords[0], coords[1])) and (\n",
    "            is_in_control(tile1.empire, v) or is_in_control(orig.empire, v)\n",
    "        ):\n",
    "            l.append([coords[0], coords[1], i])\n",
    "    if len(l) <= i:\n",
    "        return False\n",
    "\n",
    "    return tiles_connected(tile1, hex_exists(l[i][0], l[i][1]), l, i + 1)\n",
    "\n",
    "\n",
    "def hex_exists(x, y):\n",
    "    for hexagon in hex_arr:\n",
    "        if hexagon.x == x and hexagon.y == y:\n",
    "            return hexagon\n",
    "    return None\n",
    "\n",
    "\n",
    "def get_surroundings(tile):\n",
    "    out = []\n",
    "    out.append(hex_exists(tile.x, tile.y + 1))\n",
    "    out.append(hex_exists(tile.x, tile.y - 1))\n",
    "    out.append(hex_exists(tile.x + 1, tile.y))\n",
    "    out.append(hex_exists(tile.x - 1, tile.y))\n",
    "    if tile.x % 2 == 1:\n",
    "        out.append(hex_exists(tile.x - 1, tile.y + 1))\n",
    "        out.append(hex_exists(tile.x + 1, tile.y + 1))\n",
    "    else:\n",
    "        out.append(hex_exists(tile.x + 1, tile.y - 1))\n",
    "        out.append(hex_exists(tile.x - 1, tile.y - 1))\n",
    "\n",
    "    for i in range(len(out) - 1, -1, -1):\n",
    "        if out[i] is None:\n",
    "            out.pop(i)\n",
    "    return out\n",
    "\n",
    "\n",
    "def get_cluster(tile, max_size=0, l=None, orig_tile=None):\n",
    "    if orig_tile is None:\n",
    "        orig_tile = tile\n",
    "    if l is None:\n",
    "        l = [tile]\n",
    "    if max_size != 0 and len(l) > max_size:\n",
    "        return l\n",
    "    for v in get_surroundings(tile):\n",
    "        if is_same_tile_type(orig_tile, v) and get_key_from_value(l, v) == -1:\n",
    "            l.append(v)\n",
    "            l = get_cluster(v, max_size, l, orig_tile)\n",
    "    return l\n",
    "\n",
    "\n",
    "def distance_from_tiles(t0, t1):\n",
    "    return math.sqrt((t0.x - t1.x) ** 2 + (t0.y - t1.y) ** 2)\n",
    "\n",
    "\n",
    "def is_in_control(emp, tile):\n",
    "    return (tile.empire == emp and tile.occupier is None) or tile.occupier == emp\n",
    "\n",
    "\n",
    "def is_same_tile_type(tile1, tile2):\n",
    "    if not (tile1.occupier is None):\n",
    "        if not (tile2.occupier is None):\n",
    "            return tile1.empire == tile2.empire and tile1.occupier == tile2.occupier\n",
    "        else:\n",
    "            return is_in_control(tile1.occupier, tile2)\n",
    "    elif tile1.occupier is None:\n",
    "        if not (tile2.occupier is None):\n",
    "            return is_in_control(tile2.occupier, tile1)\n",
    "        else:\n",
    "            return tile1.empire == tile2.empire\n",
    "\n",
    "\n",
    "def recalc_border_emps(emp):\n",
    "    emp.border_emps = []\n",
    "    emp.border_count = 0\n",
    "    for hexagon in get_empire_tiles(emp):\n",
    "        surroundings = get_surroundings(hexagon)\n",
    "        for surr_hex in surroundings:\n",
    "            if (\n",
    "                not (surr_hex.empire is None)\n",
    "                and not (surr_hex.empire.name == emp.name)\n",
    "                and get_key_from_value(emp.border_emps, surr_hex.empire) == -1\n",
    "            ):\n",
    "                emp.border_emps.append(surr_hex.empire)\n",
    "                emp.border_count += 1\n",
    "                if get_key_from_value(surr_hex.empire.border_emps, emp) == -1:\n",
    "                    surr_hex.empire.border_emps.append(emp)\n",
    "            elif surr_hex.empire is None and surr_hex.occupier is None:\n",
    "                emp.expanding = True\n",
    "\n",
    "\n",
    "def fragment_empire(emp, conqueror):\n",
    "    print(\n",
    "        \"The capital of %s has been captured and %s will liberate its occupations!\"\n",
    "        % (emp.name, conqueror.name)\n",
    "    )\n",
    "    tiles = get_empire_tiles(emp)\n",
    "\n",
    "    for hexagon in tiles:\n",
    "        unoccupy_tile(hexagon)\n",
    "\n",
    "    while len(tiles) > 0:\n",
    "        rand_loc = random.randint(0, len(tiles) - 1)\n",
    "        rand_hex = tiles[rand_loc]\n",
    "        tiles.pop(rand_loc)\n",
    "\n",
    "        new_empires = []\n",
    "\n",
    "        rand_hexes = get_surroundings(rand_hex)\n",
    "        for rand in rand_hexes:\n",
    "            if get_key_from_value(tiles, rand) != -1:\n",
    "                if len(rand_hexes) < 30:\n",
    "                    rand_hexes_rand_hexes = get_surroundings(rand)\n",
    "\n",
    "                    for rand_rand in reversed(rand_hexes_rand_hexes):\n",
    "                        if (\n",
    "                            random.randint(0, 1) == 0\n",
    "                            and len(rand_hexes) < 30\n",
    "                            and get_key_from_value(tiles, rand_rand) != -1\n",
    "                            and get_key_from_value(rand_hexes, rand_rand) == -1\n",
    "                        ):\n",
    "                            rand_hexes.append(rand_rand)\n",
    "                            tiles.pop(get_key_from_value(tiles, rand_rand))\n",
    "\n",
    "                    tiles.pop(get_key_from_value(tiles, rand))\n",
    "            elif get_key_from_value(rand_hexes, rand) == -1:\n",
    "                rand_hexes.pop(get_key_from_value(rand_hexes, rand))\n",
    "\n",
    "        if len(rand_hexes) > 9 or len(get_empire_tiles(emp)) < 10:\n",
    "            new_empire = Empire(\n",
    "                \"Empire %d\" % (emp_count),\n",
    "                rand_hex,\n",
    "                (\n",
    "                    random.randint(15, 85),\n",
    "                    random.randint(15, 85),\n",
    "                    random.randint(15, 85),\n",
    "                ),\n",
    "            )\n",
    "\n",
    "            new_empires.append(new_empire)\n",
    "            for rand in rand_hexes:\n",
    "                annex_tile(new_empire, rand)\n",
    "\n",
    "    dissolve_empire(emp)\n",
    "\n",
    "    recalc_border_emps(conqueror)\n",
    "    for empire in emp.border_emps:\n",
    "        recalc_border_emps(empire)\n",
    "\n",
    "    for empire in new_empires:\n",
    "        empire.economy = math.floor((emp.economy / len(new_empires)) * 0.8)\n",
    "        peace1 = DiploObject(empire, 1)\n",
    "        peace2 = DiploObject(conqueror, 1)\n",
    "        conqueror.peace_deals.append(peace1)\n",
    "        emp.peace_deals.append(peace2)\n",
    "        recalc_border_emps(empire)\n",
    "\n",
    "\n",
    "def partition_empire(emp, conqueror):\n",
    "    print(\n",
    "        \"The capital of %s has been captured by %s and will be partitioned!\"\n",
    "        % (emp.name, conqueror.name)\n",
    "    )\n",
    "    main_land = get_cluster(emp.capital)\n",
    "    for hexagon in main_land:\n",
    "        annex_tile(conqueror, hexagon)\n",
    "    for hexagon in shuffle_table(hex_arr):\n",
    "        if hexagon.empire == emp:\n",
    "            if hexagon.occupier is None:\n",
    "                tiles = get_cluster(hexagon)\n",
    "                new_emp = Empire(\n",
    "                    \"Empire %d\" % (emp_count),\n",
    "                    hexagon,\n",
    "                    (\n",
    "                        random.randint(15, 85),\n",
    "                        random.randint(15, 85),\n",
    "                        random.randint(15, 85),\n",
    "                    ),\n",
    "                )\n",
    "                for tile in tiles:\n",
    "                    if tile != new_emp.capital:\n",
    "                        annex_tile(new_emp, tile)\n",
    "            else:\n",
    "                annex_tile(hexagon.occupier, hexagon)\n",
    "        elif hexagon.occupier == emp:\n",
    "            unoccupy_tile(hexagon)\n",
    "    for emp_i in emp_arr:\n",
    "        for i in reversed(range(len(emp_i.war_targets))):\n",
    "            if emp_i.war_targets[i].target == emp:\n",
    "                emp_i.war_targets.pop(i)\n",
    "    rebel = False\n",
    "    for war in emp.war_targets:\n",
    "        if not (war.rebel is None) and war.rebel == True:\n",
    "            war.target.stability += 5\n",
    "            rebel = True\n",
    "    if rebel:\n",
    "        emp.stability *= 3\n",
    "    else:\n",
    "        conqueror.economy = round(conqueror.economy * 0.8)\n",
    "\n",
    "    recalc_border_emps(conqueror)\n",
    "    for empire in emp.border_emps:\n",
    "        recalc_border_emps(empire)\n",
    "    emp_arr.pop(get_key_from_value(emp_arr, emp))\n",
    "\n",
    "\n",
    "def annex_tile(emp, tile):\n",
    "    tile.empire = emp\n",
    "    tile.new_empire = emp\n",
    "    tile.occupier = None\n",
    "    tile.new_occupier = None\n",
    "    tile.change_color = True\n",
    "    tile.set_color((emp.color[0] + 140, emp.color[1] + 140, emp.color[2] + 140))\n",
    "\n",
    "\n",
    "def delayed_annex_tile(emp, tile):\n",
    "    tile.new_empire = emp\n",
    "    tile.new_occupier = None\n",
    "    tile.set_color(emp.color)\n",
    "\n",
    "\n",
    "def unoccupy_tile(tile):\n",
    "    tile.occupier = None\n",
    "    tile.new_occupier = None\n",
    "    tile.change_color = True\n",
    "    tile.set_color(\n",
    "        (\n",
    "            tile.empire.color[0] + 140,\n",
    "            tile.empire.color[1] + 140,\n",
    "            tile.empire.color[2] + 140,\n",
    "        )\n",
    "    )\n",
    "\n",
    "\n",
    "def delayed_unoccupy_tile(tile):\n",
    "    tile.new_occupier = None\n",
    "    tile.set_color(tile.empire.color)\n",
    "\n",
    "\n",
    "def is_delayed(tile):\n",
    "    return tile.new_occupier != tile.occupier or tile.new_empire != tile.empire\n",
    "\n",
    "\n",
    "def correct_delayed():\n",
    "    for hexagon in hex_arr:\n",
    "        if is_delayed(hexagon):\n",
    "            hexagon.occupier = hexagon.new_occupier\n",
    "            hexagon.empire = hexagon.new_empire\n",
    "\n",
    "\n",
    "def occupy_tile(emp, tile, causus):\n",
    "    if tile.empire.capital == tile:\n",
    "        if not (causus is None) and (\n",
    "            (causus.special == 1 and causus.aggressor != emp)\n",
    "            or (not (causus.rebel is None))\n",
    "            and random.randint(0, 1) == 0\n",
    "        ):\n",
    "            fragment_empire(tile.empire, emp)\n",
    "            # print(\"woah\")\n",
    "        else:\n",
    "            partition_empire(tile.empire, emp)\n",
    "        emp.economy -= 500\n",
    "        if emp.economy < 0:\n",
    "            emp.economy = 0\n",
    "        return True\n",
    "    else:\n",
    "        tile.occupier = emp\n",
    "        tile.new_occupier = emp\n",
    "        tile.change_color = True\n",
    "        tile.set_color((emp.color[0] + 140, emp.color[1] + 140, emp.color[2] + 140))\n",
    "        emp.economy -= 10\n",
    "        tile.empire.economy -= 10\n",
    "        if emp.economy < 0:\n",
    "            emp.economy = 0\n",
    "        if tile.empire.economy < 0:\n",
    "            tile.empire.economy = 0\n",
    "        return False\n",
    "\n",
    "\n",
    "def declare_war(initiator, target, special=0, aggressor=None):\n",
    "    init_war_dec = DiploObject(target, 0, None, special, aggressor)\n",
    "    initiator.war_targets.append(init_war_dec)\n",
    "\n",
    "    target_war_dec = DiploObject(initiator, 0, None, special, aggressor)\n",
    "    target.war_targets.append(target_war_dec)\n",
    "\n",
    "\n",
    "def rebel(emp, tile):\n",
    "    rebel_emp = Empire(\n",
    "        \"Empire %d\" % (emp_count),\n",
    "        tile,\n",
    "        (random.randint(15, 85), random.randint(15, 85), random.randint(15, 85)),\n",
    "        round(emp.economy * 0.6),\n",
    "    )\n",
    "\n",
    "    for surr_hex in get_surroundings(tile):\n",
    "        if surr_hex.color[0] != 0 or surr_hex.color[1] != 0 or surr_hex.color[2] != 0:\n",
    "            annex_tile(rebel_emp, surr_hex)\n",
    "\n",
    "    war1 = DiploObject(emp, 0, True)\n",
    "    war2 = DiploObject(rebel_emp, 0, False)\n",
    "\n",
    "    emp.economy = emp.economy * 0.6\n",
    "    rebel_emp.economy = emp.economy * 0.2\n",
    "\n",
    "    emp.war_targets.append(war2)\n",
    "    rebel_emp.war_targets.append(war1)\n",
    "\n",
    "\n",
    "def make_peace(emp1, emp2):\n",
    "    c1 = get_cluster(emp1.capital)\n",
    "    for hexagon in c1:\n",
    "        if hexagon.occupier == emp1 and hexagon != emp1.capital:\n",
    "            delayed_annex_tile(emp1, hexagon)\n",
    "\n",
    "    c2 = get_cluster(emp2.capital)\n",
    "    for hexagon in c2:\n",
    "        if hexagon.occupier == emp2 and hexagon != emp2.capital:\n",
    "            delayed_annex_tile(emp2, hexagon)\n",
    "\n",
    "    for hexagon in hex_arr:\n",
    "        if (\n",
    "            hexagon.empire == emp1\n",
    "            and hexagon.occupier == emp2\n",
    "            and not is_delayed(hexagon)\n",
    "        ):\n",
    "            c3 = get_cluster(hexagon)\n",
    "            for tile in c3:\n",
    "                delayed_unoccupy_tile(tile)\n",
    "        elif (\n",
    "            hexagon.empire == emp2\n",
    "            and hexagon.occupier == emp1\n",
    "            and not is_delayed(hexagon)\n",
    "        ):\n",
    "            c3 = get_cluster(hexagon)\n",
    "            for tile in c3:\n",
    "                delayed_unoccupy_tile(tile)\n",
    "        elif (\n",
    "            hexagon.empire == emp1\n",
    "            and hexagon.occupier is None\n",
    "            and get_key_from_value(c1, hexagon) == -1\n",
    "            and not is_delayed(hexagon)\n",
    "        ):\n",
    "            c3 = get_cluster(hexagon)\n",
    "            if len(c3) > 10 and not tiles_connected(hexagon, emp1.capital):\n",
    "                new_emp = Empire(\n",
    "                    \"Empire %d\" % (emp_count),\n",
    "                    hexagon,\n",
    "                    (\n",
    "                        random.randint(15, 85),\n",
    "                        random.randint(15, 85),\n",
    "                        random.randint(15, 85),\n",
    "                    ),\n",
    "                )\n",
    "                for tile in c3:\n",
    "                    if tile != new_emp.capital:\n",
    "                        delayed_annex_tile(new_emp, tile)\n",
    "                for surr_hex in get_surroundings(hexagon):\n",
    "                    if surr_hex.color[0] != 0:\n",
    "                        delayed_annex_tile(new_emp, surr_hex)\n",
    "            else:\n",
    "                for tile in c3:\n",
    "                    if tile.color[0] == 0:\n",
    "                        print(\n",
    "                            \"There's been a screw up; Hex info: (%d, %d) E: (%s) O: (%s) P:(%s, %s) (1)\"\n",
    "                            % (\n",
    "                                hexagon.x,\n",
    "                                hexagon.y,\n",
    "                                hexagon.empire.name,\n",
    "                                hexagon.occupier,\n",
    "                                emp1.name,\n",
    "                                emp2.name,\n",
    "                            )\n",
    "                        )\n",
    "                    elif tile.occupier is None and tile.empire == emp1:\n",
    "                        delayed_annex_tile(emp2, tile)\n",
    "        elif (\n",
    "            hexagon.empire == emp2\n",
    "            and hexagon.occupier is None\n",
    "            and get_key_from_value(c2, hexagon) == -1\n",
    "            and not is_delayed(hexagon)\n",
    "        ):\n",
    "            c3 = get_cluster(hexagon)\n",
    "            if len(c3) > 10 and not tiles_connected(hexagon, emp2.capital):\n",
    "                new_emp = Empire(\n",
    "                    \"Empire %d\" % (emp_count),\n",
    "                    hexagon,\n",
    "                    (\n",
    "                        random.randint(15, 85),\n",
    "                        random.randint(15, 85),\n",
    "                        random.randint(15, 85),\n",
    "                    ),\n",
    "                )\n",
    "                for tile in c3:\n",
    "                    if tile != new_emp.capital:\n",
    "                        delayed_annex_tile(new_emp, tile)\n",
    "                for surr_hex in get_surroundings(hexagon):\n",
    "                    if surr_hex.color[0] != 0:\n",
    "                        delayed_annex_tile(new_emp, surr_hex)\n",
    "            else:\n",
    "                for tile in c3:\n",
    "                    if tile.color[0] == 0:\n",
    "                        print(\n",
    "                            \"There's been a screw up; Hex info: (%d, %d) E: (%s) O: (%s) P:(%s, %s) (2)\"\n",
    "                            % (\n",
    "                                hexagon.x,\n",
    "                                hexagon.y,\n",
    "                                hexagon.empire.name,\n",
    "                                hexagon.occupier,\n",
    "                                emp1.name,\n",
    "                                emp2.name,\n",
    "                            )\n",
    "                        )\n",
    "                    elif tile.occupier is None and tile.empire == emp2:\n",
    "                        delayed_annex_tile(emp1, tile)\n",
    "\n",
    "    correct_delayed()\n",
    "\n",
    "    checked_emps = [emp1, emp2]\n",
    "\n",
    "    recalc_border_emps(emp1)\n",
    "    for empire in emp1.border_emps:\n",
    "        recalc_border_emps(empire)\n",
    "        checked_emps.append(empire)\n",
    "\n",
    "    recalc_border_emps(emp2)\n",
    "    for empire in emp2.border_emps:\n",
    "        if get_key_from_value(checked_emps, empire) != -1:\n",
    "            recalc_border_emps(empire)\n",
    "            checked_emps.append(empire)\n",
    "\n",
    "    for i in reversed(range(len(emp1.war_targets))):\n",
    "        if emp1.war_targets[i].target == emp2:\n",
    "            emp1.war_targets.pop(i)\n",
    "\n",
    "    for i in reversed(range(len(emp2.war_targets))):\n",
    "        if emp2.war_targets[i].target == emp1:\n",
    "            emp2.war_targets.pop(i)\n",
    "\n",
    "    peace1 = DiploObject(emp2, 1)\n",
    "    peace2 = DiploObject(emp1, 1)\n",
    "    emp1.peace_deals.append(peace1)\n",
    "    emp2.peace_deals.append(peace2)\n",
    "\n",
    "\n",
    "def dissolve_empire(emp):\n",
    "    for i in reversed(range(len(emp.war_targets))):\n",
    "        for j in reversed(range(len(emp.war_targets[i].target.war_targets))):\n",
    "            if emp.war_targets[i].target.war_targets[j].target == emp:\n",
    "                emp.war_targets[i].target.war_targets.pop(j)\n",
    "        emp.war_targets.pop(i)\n",
    "\n",
    "    for hexagon in hex_arr:\n",
    "        if hexagon.empire == emp and hexagon.occupier is None:\n",
    "            hexagon.empire = None\n",
    "            hexagon.new_empire = None\n",
    "            hexagon.occupier = None\n",
    "            hexagon.new_occupier = None\n",
    "            hexagon.set_color((255, 255, 255))\n",
    "        elif hexagon.empire == emp:\n",
    "            annex_tile(hexagon.occupier, hexagon)\n",
    "        elif hexagon.occupier == emp:\n",
    "            unoccupy_tile(hexagon)\n",
    "\n",
    "    for empire in emp_arr:\n",
    "        for i in reversed(range(len(empire.border_emps))):\n",
    "            try:\n",
    "                if empire.border_emps[i] == emp:\n",
    "                    empire.border_emps.pop(i)\n",
    "                    recalc_border_emps(empire)\n",
    "            except:\n",
    "                print(empire.name)\n",
    "                print(len(empire.border_emps))\n",
    "                print(i)\n",
    "                for border_emp in empire.border_emps:\n",
    "                    print(border_emp)\n",
    "                print(i)\n",
    "                Exception(\"rip\")\n",
    "\n",
    "    index = get_key_from_value(emp_arr, emp)\n",
    "    emp_arr.pop(get_key_from_value(emp_arr, emp))\n",
    "\n",
    "\n",
    "def sea_invasion(emp, target):\n",
    "    target_tiles = shuffle_table(get_empire_tiles(target))\n",
    "\n",
    "    # print(\"[s] 1\")\n",
    "\n",
    "    invasions = random.randint(1, 3)\n",
    "    invaded = False\n",
    "    for hexagon in target_tiles:\n",
    "        surroundings = get_surroundings(hexagon)\n",
    "        if (\n",
    "            hexagon.occupier is None\n",
    "            and hexagon.empire == target\n",
    "            and len(get_surroundings(hexagon)) < 6\n",
    "            and distance_from_tiles(hexagon, target.capital) > 3\n",
    "        ):\n",
    "            # print(\"[s] 2\")\n",
    "            occupy_tile(emp, hexagon, None)\n",
    "\n",
    "            for surr_hex in surroundings:\n",
    "                if surr_hex.color[0] != 0 and not (surr_hex.empire is None):\n",
    "                    occupy_tile(emp, surr_hex, None)\n",
    "\n",
    "            invasions -= 1\n",
    "            invaded = True\n",
    "\n",
    "            if invasions == 0:\n",
    "                break\n",
    "\n",
    "    # print(\"[s] 3\")\n",
    "    if invaded:\n",
    "        # print(\"[s] 4\")\n",
    "        declare_war(emp, target)\n",
    "\n",
    "\n",
    "def shuffle_table(tab):\n",
    "    out = []\n",
    "    for i in range(len(tab)):\n",
    "        j = random.randint(i, len(tab) - 1)\n",
    "        temp = tab[i]\n",
    "        tab[i] = tab[j]\n",
    "        tab[j] = temp\n",
    "        out.append(tab[i])\n",
    "    return out\n",
    "\n",
    "\n",
    "def get_empire_tiles(emp):\n",
    "    out = []\n",
    "    for hexagon in hex_arr:\n",
    "        if hexagon.empire == emp:\n",
    "            out.append(hexagon)\n",
    "    return out\n",
    "\n",
    "\n",
    "def get_controlled_tiles(emp):\n",
    "    out = []\n",
    "    for hexagon in hex_arr:\n",
    "        if is_in_control(emp, hexagon):\n",
    "            out.append(hexagon)\n",
    "    return out\n",
    "\n",
    "\n",
    "def for_each_empire(emp):\n",
    "    tiles = get_empire_tiles(emp)\n",
    "\n",
    "    # print(emp.economy)\n",
    "\n",
    "    # border_emps = []\n",
    "    deltaE = math.floor(\n",
    "        (\n",
    "            2.5 * len(tiles)\n",
    "            + (len(tiles) < 20 and 250 or (250 + -0.55 * ((len(tiles) - 20) ** 1.3)))\n",
    "            / 3\n",
    "        )\n",
    "        / (len(emp.war_targets) + 1)\n",
    "    )\n",
    "    deltaS = 1.0 - (len(tiles) + 1) * 0.02\n",
    "    if deltaE > 750:\n",
    "        deltaE = 750\n",
    "    if deltaS > 0.5:\n",
    "        deltaS = 0.5\n",
    "    if deltaS < -0.5:\n",
    "        deltaS = -0.5\n",
    "    emp.economy += deltaE\n",
    "    emp.stability += deltaS\n",
    "    if emp.economy > 500000:\n",
    "        emp.economy = 500000\n",
    "    if emp.economy < 0:\n",
    "        emp.economy = 0\n",
    "    if emp.stability > 5:\n",
    "        emp.stability = 5\n",
    "    if emp.stability < 0:\n",
    "        emp.stability = 0\n",
    "\n",
    "    if emp.expanding:\n",
    "        if len(emp.war_targets) == 0:\n",
    "            expanded = False\n",
    "            for hexagon in reversed(tiles):\n",
    "                surroundings = get_surroundings(hexagon)\n",
    "                # print(emp.economy)\n",
    "                for surr_hex in surroundings:\n",
    "                    if (\n",
    "                        surr_hex.empire is None\n",
    "                        and surr_hex.occupier is None\n",
    "                        and random.randint(0, 10) < math.log10(emp.economy) - 2\n",
    "                    ):\n",
    "                        annex_tile(emp, surr_hex)\n",
    "                        tiles.append(hexagon)\n",
    "                        expanded = True\n",
    "            if not expanded:\n",
    "                emp.expanding = False\n",
    "            recalc_border_emps(emp)\n",
    "    else:\n",
    "        # recalc_border_emps(emp)\n",
    "        if len(tiles) == 1:\n",
    "            surrounded = True\n",
    "            surroundings = get_surroundings(emp.capital)\n",
    "            if len(surroundings) == 0:\n",
    "                dissolve_empire(emp)\n",
    "            else:\n",
    "                surrounding_emp = surroundings[0].empire\n",
    "                for surr_hex in surroundings:\n",
    "                    if surr_hex.empire != surrounding_emp:\n",
    "                        surrounded = False\n",
    "                        break\n",
    "                if surrounded == True:\n",
    "                    partition_empire(emp, surrounding_emp)\n",
    "        if (\n",
    "            random.randint(\n",
    "                min(round(emp.border_count / (1 + len(tiles))) * 200, 1000), 2000\n",
    "            )\n",
    "            == 2000\n",
    "        ):\n",
    "            print(\"%s collapsed!\" % (emp.name))\n",
    "            dissolve_empire(emp)\n",
    "\n",
    "    for border_emp in emp.border_emps:\n",
    "        if (\n",
    "            emp.age > 30\n",
    "            and emp.economy > 1000\n",
    "            and random.randint(0, 20 * len(emp_arr)) == 0\n",
    "            and emp.economy >= border_emp.economy\n",
    "        ):\n",
    "            can_war = True\n",
    "            for diplo in concat_table(emp.war_targets, emp.peace_deals):\n",
    "                if diplo.target == border_emp:\n",
    "                    can_war = False\n",
    "            if can_war:\n",
    "                declare_war(emp, border_emp)\n",
    "                print(\"%s has declared war on %s\" % (emp.name, border_emp.name))\n",
    "                break\n",
    "\n",
    "    if len(emp.war_targets) != 0:\n",
    "        for war in emp.war_targets:\n",
    "            if random.randint(0, game_tick - war.tick) > 25:\n",
    "                print(\"%s has made peace with %s\" % (emp.name, war.target.name))\n",
    "                make_peace(emp, war.target)\n",
    "                break\n",
    "\n",
    "        for hexagon in get_controlled_tiles(emp):\n",
    "            surroundings = get_surroundings(hexagon)\n",
    "            for surr_hex in surroundings:\n",
    "                if not is_in_control(emp, surr_hex):\n",
    "                    for target in emp.war_targets:\n",
    "                        if (\n",
    "                            target.type == 0\n",
    "                            and is_in_control(target.target, surr_hex)\n",
    "                            and (\n",
    "                                surr_hex.empire == target.target\n",
    "                                or surr_hex.empire == emp\n",
    "                            )\n",
    "                        ):\n",
    "                            econ_advantage = min(\n",
    "                                round(emp.economy / (target.target.economy + 1)), 9\n",
    "                            )\n",
    "                            helpers = 0\n",
    "                            destroyed_empire = False\n",
    "                            for pot_helper in get_surroundings(surr_hex):\n",
    "                                if is_in_control(emp, pot_helper):\n",
    "                                    helpers += 1\n",
    "                            if (\n",
    "                                target.rebel is None\n",
    "                                and random.randint(0, helpers + 1) > 1\n",
    "                                and random.randint(\n",
    "                                    0, econ_advantage * ECONOMIC_ADVANTAGE + 1\n",
    "                                )\n",
    "                                > 1\n",
    "                            ):\n",
    "                                if surr_hex.empire == emp:\n",
    "                                    unoccupy_tile(surr_hex)\n",
    "                                else:\n",
    "                                    destroyed_empire = occupy_tile(\n",
    "                                        emp, surr_hex, target\n",
    "                                    )\n",
    "                            elif (\n",
    "                                target.rebel == True\n",
    "                                and random.randint(0, helpers + 1) > 1\n",
    "                                and random.randint(0, 3) == 0\n",
    "                            ):\n",
    "                                if surr_hex.empire == emp:\n",
    "                                    unoccupy_tile(surr_hex)\n",
    "                                else:\n",
    "                                    destroyed_empire = occupy_tile(\n",
    "                                        emp, surr_hex, target\n",
    "                                    )\n",
    "                            elif (\n",
    "                                target.rebel == False\n",
    "                                and random.randint(0, helpers + 1) > 1\n",
    "                                and random.randint(0, 10) == 0\n",
    "                            ):\n",
    "                                if surr_hex.empire == emp:\n",
    "                                    unoccupy_tile(surr_hex)\n",
    "                                else:\n",
    "                                    destroyed_empire = occupy_tile(\n",
    "                                        emp, surr_hex, target\n",
    "                                    )\n",
    "                            # break\n",
    "\n",
    "                            if (\n",
    "                                destroyed_empire == True\n",
    "                                and target.special == 0\n",
    "                                and random.randint(0, 1) == 0\n",
    "                            ):\n",
    "                                recalc_border_emps(emp)\n",
    "                                print(\n",
    "                                    \"All neighboring nations have declared war on %s after a partition!\"\n",
    "                                    % (emp.name)\n",
    "                                )\n",
    "                                for border_emp in emp.border_emps:\n",
    "                                    if emp.economy * 0.7 < border_emp.economy:\n",
    "                                        already_at_war = False\n",
    "                                        for target in border_emp.war_targets:\n",
    "                                            if target.target == emp:\n",
    "                                                already_at_war = True\n",
    "                                                target.special = 1\n",
    "                                                target.aggressor = emp\n",
    "                                        if not already_at_war:\n",
    "                                            declare_war(border_emp, emp, 1, emp)\n",
    "\n",
    "    else:\n",
    "        \"\"\"\n",
    "        for hexagon in tiles:\n",
    "                if random.randint(0, 1500) == 0 and random.randint(math.floor(min(emp.stability, 0.9) * 10), 10) < 5 and distance_from_tiles(emp.capital, hexagon) > 8:\n",
    "                        print(\"A nation has rebelled against %s! (1)\" % (emp.name))\n",
    "                        rebel(emp, hexagon)\n",
    "                        emp.stability *= 0.5\n",
    "        \"\"\"\n",
    "        for i in range(0, 3):\n",
    "            rand_hex = hex_arr[random.randint(0, len(hex_arr) - 1)]\n",
    "            if (\n",
    "                rand_hex.empire == emp\n",
    "                and rand_hex.occupier is None\n",
    "                and random.randint(math.floor(min(emp.stability, 0.9) * 10), 10) < 5\n",
    "                and distance_from_tiles(emp.capital, rand_hex) > 8\n",
    "                and random.randint(\n",
    "                    0, 25 + math.floor(distance_from_tiles(emp.capital, rand_hex))\n",
    "                )\n",
    "                > 25\n",
    "            ):\n",
    "                print(\"A nation has rebelled against %s! (2)\" % (emp.name))\n",
    "                rebel(emp, rand_hex)\n",
    "                emp.stability *= 0.5\n",
    "                if random.randint(0, 2) == 0 and len(tiles) > 30:\n",
    "                    the_tiles = get_empire_tiles(emp)\n",
    "                    rand_hex = the_tiles[random.randint(0, len(the_tiles) - 1)]\n",
    "                    for i in range(0, random.randint(1, 3)):\n",
    "                        rebel(emp, rand_hex)\n",
    "                    emp.stability *= 0.5\n",
    "                    print(\"%s has broken out into civil war!\" % (emp.name))\n",
    "                break\n",
    "\n",
    "        if random.randint(0, 750) == 0:\n",
    "            for target in shuffle_table(emp_arr):\n",
    "                if emp.economy >= 5000 and emp.economy > target.economy * 1.25:\n",
    "                    print(\n",
    "                        \"Sea invasion happening by %s on %s!\" % (emp.name, target.name)\n",
    "                    )\n",
    "                    sea_invasion(emp, target)\n",
    "                    break\n",
    "\n",
    "    for i in reversed(range(len(emp.peace_deals))):\n",
    "        if game_tick - emp.peace_deals[i].tick >= PEACE_DURATION:\n",
    "            print(\n",
    "                \"Peace deal between %s and %s has expired\"\n",
    "                % (emp.name, emp.peace_deals[i].target.name)\n",
    "            )\n",
    "            emp.peace_deals.pop(i)\n",
    "\n",
    "    # if random.randint(0, 1000) == 0:\n",
    "    # \tprint(\"%s collapsed!\" % (emp.name))\n",
    "    # \tdissolve_empire(emp)\n",
    "\n",
    "    emp.age += 1\n",
    "\n",
    "def fix_things():\n",
    "    for hexagon in hex_arr:\n",
    "        if not (hexagon.empire is None) and hexagon.empire == hexagon.occupier:\n",
    "            hexagon.occupier = None\n",
    "            hexagon.new_occupier = None\n",
    "            hexagon.set_color(hexagon.empire.color)\n",
    "        elif (\n",
    "            not (hexagon.empire is None)\n",
    "            and not (hexagon.occupier is None)\n",
    "            and len(hexagon.empire.war_targets) == 0\n",
    "        ):\n",
    "            print(\"THIS just happened\")\n",
    "            print(hexagon.empire.name)\n",
    "            print(hexagon.occupier.name)\n",
    "            print(get_key_from_value(hexagon.empire.war_targets, hexagon.occupier))\n",
    "            print(get_key_from_value(hexagon.occupier.war_targets, hexagon.empire))\n",
    "            hexagon.occupier = None\n",
    "            hexagon.new_occupier = None\n",
    "            hexagon.set_color(hexagon.empire.color)\n",
    "    for emp in emp_arr:\n",
    "        if len(get_empire_tiles(emp)) == 0:\n",
    "            print(\"FOR some reason, %s wasn't deleted... deleting now\" % (emp.name))\n",
    "            emp_arr.pop(get_key_from_value(emp_arr, emp))\n",
    "\n",
    "\n",
    "def tick(win):\n",
    "    global game_tick\n",
    "\n",
    "    for hexagon in hex_arr:\n",
    "        if hexagon.change_color and not (hexagon.empire is None):\n",
    "            if not (hexagon.occupier is None) and not (\n",
    "                hexagon.empire == hexagon.occupier\n",
    "            ):\n",
    "                hexagon.set_color(\n",
    "                    (\n",
    "                        hexagon.occupier.color[0] + 70,\n",
    "                        hexagon.occupier.color[1] + 70,\n",
    "                        hexagon.occupier.color[2] + 70,\n",
    "                    )\n",
    "                )\n",
    "                hexagon.change_color = False\n",
    "            elif hexagon.occupier is None:\n",
    "                hexagon.set_color(\n",
    "                    (\n",
    "                        hexagon.empire.color[0],\n",
    "                        hexagon.empire.color[1],\n",
    "                        hexagon.empire.color[2],\n",
    "                    )\n",
    "                )\n",
    "                hexagon.change_color = False\n",
    "                if hexagon.empire.capital == hexagon:\n",
    "                    # hexagon.set_color((0, 0, 0))\n",
    "                    hexagon.make_capital()\n",
    "        elif hexagon.change_color:\n",
    "            hexagon.change_color = False\n",
    "            hexagon.set_color((255, 255, 255))\n",
    "\n",
    "    for emp in emp_arr:\n",
    "        result = for_each_empire(emp)\n",
    "        if result == False:\n",
    "            return False\n",
    "\n",
    "    if game_tick % 10 == 0:\n",
    "        fix_things()\n",
    "        rand_x = random.randint(0, DIMENSIONS[0])\n",
    "        rand_y = random.randint(0, DIMENSIONS[1])\n",
    "        rand_hex = hex_exists(rand_x, rand_y)\n",
    "        if not (rand_hex is None) and rand_hex.empire is None:\n",
    "            print(\"Empire %d has spawned randomly!\" % (emp_count))\n",
    "            Empire(\n",
    "                \"Empire %d\" % (emp_count),\n",
    "                rand_hex,\n",
    "                (\n",
    "                    random.randint(15, 85),\n",
    "                    random.randint(15, 85),\n",
    "                    random.randint(15, 85),\n",
    "                ),\n",
    "            )\n",
    "\n",
    "\n",
    "def startup(win):\n",
    "    global emp_count\n",
    "\n",
    "    for i in range(0, DIMENSIONS[0]):\n",
    "        noise_vals.append([])\n",
    "        for j in range(0, DIMENSIONS[0]):\n",
    "            noise_vals[i].append(\n",
    "                noise.snoise2(\n",
    "                    rand_val + i * 0.075 * CONTINENT_ROUGHNESS,\n",
    "                    rand_val + j * 0.075 * CONTINENT_ROUGHNESS,\n",
    "                )\n",
    "            )\n",
    "\n",
    "    for i in range(0, DIMENSIONS[0]):\n",
    "        for j in range(0, DIMENSIONS[1]):\n",
    "            if noise_vals[i][j] >= -1 + OCEAN_WORLD * 0.2:\n",
    "                hex_arr.append(Hex(win, i, j))\n",
    "\n",
    "    for i in range(0, INITIAL_EMPIRES):\n",
    "        while True:\n",
    "            rand_x = random.randint(0, DIMENSIONS[0])\n",
    "            rand_y = random.randint(0, DIMENSIONS[1])\n",
    "            rand_hex = hex_exists(rand_x, rand_y)\n",
    "            if not (rand_hex is None):\n",
    "                Empire(\n",
    "                    \"Empire %d\" % (emp_count),\n",
    "                    rand_hex,\n",
    "                    (\n",
    "                        random.randint(15, 85),\n",
    "                        random.randint(15, 85),\n",
    "                        random.randint(15, 85),\n",
    "                    ),\n",
    "                )\n",
    "                break\n",
    "\n",
    "\n",
    "def main():\n",
    "    # Create a timestamp for the filename\n",
    "\n",
    "    timestamp = datetime.now().strftime(\"%Y%m%d_%H%M%S\")\n",
    "    timestamp = 1\n",
    "    # filename = (\n",
    "    #     f\"saves/output_{timestamp}.txt\"\n",
    "    # )\n",
    "    original_stdout = sys.stdout  # Save a reference to the original standard output\n",
    "   \n",
    "  \n",
    "    print(\"Starting the game...\")\n",
    "   # print(\"Starting the game...\", file=f)\n",
    "    if (\n",
    "        GAME_BOUND[0] + GAME_BOUND[2] > WINDOW_BOUND[0]\n",
    "        or GAME_BOUND[1] + GAME_BOUND[3] > WINDOW_BOUND[1]\n",
    "    ):\n",
    "        raise Exception(\n",
    "            \"Game Error: Game bounding box is bigger than window bounding box\"\n",
    "        )\n",
    "\n",
    "   # pygame.init()\n",
    "    win = pygame.display.set_mode((WINDOW_BOUND[0], WINDOW_BOUND[1]))\n",
    "    #pygame.display.set_caption(\"hello\")\n",
    "    win.fill((0, 15, 55))\n",
    "\n",
    "   # clock = pygame.time.Clock()\n",
    "\n",
    "    global game_tick\n",
    "    global emp_count\n",
    "    global turn\n",
    "    turn = 1\n",
    "\n",
    "    startup(win)\n",
    "\n",
    "    result = True\n",
    "    # Initialize the AI empire, passing a placeholder for the agent\n",
    "    ai_empire = AIEmpire(\n",
    "        \"AI Empire\",\n",
    "        random.choice(hex_arr),\n",
    "        (\n",
    "            random.randint(15, 85),\n",
    "            random.randint(15, 85),\n",
    "            random.randint(15, 85),\n",
    "        ),\n",
    "        ai_agent=None,  # Temporary placeholder; we'll assign the agent after creation\n",
    "    )\n",
    "\n",
    "    # Now create the Agent instance, passing the ai_empire instance to it\n",
    "    ai_agent = Agent(ai_empire)\n",
    "\n",
    "    # Set the ai_agent attribute of ai_empire to the created Agent instance\n",
    "    ai_empire.ai_agent = ai_agent\n",
    "\n",
    "    while True:\n",
    "        for emp in emp_arr:\n",
    "            if isinstance(emp, AIEmpire):\n",
    "                emp.process_turn()\n",
    "                emp.take_action()\n",
    "            # f.flush()\n",
    "            else:\n",
    "                for_each_empire(emp)\n",
    "            # print(emp.name + \" bread: \", emp.economy, \"turn = \", turn)\n",
    "            turn += 1\n",
    "            log_metrics_to_delta_lake(emp, path=delta_lake_path)\n",
    "            # Check if data was written by loading and displaying contents\n",
    "            metrics_snapshot = spark.read.format(\"delta\").load(delta_lake_path)\n",
    "            metrics_snapshot.show()\n",
    "            # f.flush()\n",
    "\n",
    "        game_tick += 1\n",
    "       # pygame.display.update()\n",
    "        if(turn >= 200):\n",
    "            #mlflow.end_run()\n",
    "           # pygame.quit()\n",
    "            return False\n",
    "\n",
    "\n",
    "if __name__ == \"__main__\":\n",
    "    main()\n",
    "    #pygame.quit()"
   ]
  },
  {
   "cell_type": "code",
   "execution_count": 0,
   "metadata": {
    "application/vnd.databricks.v1+cell": {
     "cellMetadata": {
      "byteLimit": 2048000,
      "rowLimit": 10000
     },
     "inputWidgets": {},
     "nuid": "51f3a536-3755-45b5-aa9b-45b8eb248ed8",
     "showTitle": false,
     "tableResultSettingsMap": {},
     "title": ""
    }
   },
   "outputs": [
    {
     "data": {
      "text/html": [
       "<style scoped>\n",
       "  .table-result-container {\n",
       "    max-height: 300px;\n",
       "    overflow: auto;\n",
       "  }\n",
       "  table, th, td {\n",
       "    border: 1px solid black;\n",
       "    border-collapse: collapse;\n",
       "  }\n",
       "  th, td {\n",
       "    padding: 5px;\n",
       "  }\n",
       "  th {\n",
       "    text-align: left;\n",
       "  }\n",
       "</style><div class='table-result-container'><table class='table-result'><thead style='background-color: white'><tr><th>empire_name</th><th>age</th><th>territory_size</th><th>economy</th><th>stability</th></tr></thead><tbody><tr><td>empire_name</td><td>age</td><td>territory_size</td><td>economy</td><td>stability</td></tr><tr><td>Empire 18</td><td>2</td><td>70</td><td>548</td><td>0.2599999999999998</td></tr><tr><td>Empire 23</td><td>3</td><td>34</td><td>580</td><td>1.9599999999999995</td></tr><tr><td>Empire 22</td><td>2</td><td>61</td><td>516</td><td>0.6200000000000001</td></tr><tr><td>Empire 24</td><td>1</td><td>54</td><td>298</td><td>0.9199999999999999</td></tr><tr><td>Empire 21</td><td>3</td><td>53</td><td>694</td><td>0.7599999999999998</td></tr><tr><td>Empire 24</td><td>2</td><td>54</td><td>498</td><td>0.8199999999999998</td></tr><tr><td>Empire 23</td><td>2</td><td>33</td><td>420</td><td>1.6399999999999997</td></tr><tr><td>Empire 23</td><td>4</td><td>34</td><td>742</td><td>2.2599999999999993</td></tr><tr><td>Empire 24</td><td>3</td><td>56</td><td>698</td><td>0.7199999999999998</td></tr><tr><td>Empire 21</td><td>1</td><td>53</td><td>298</td><td>0.9199999999999999</td></tr><tr><td>Empire 21</td><td>2</td><td>53</td><td>496</td><td>0.8399999999999999</td></tr><tr><td>Empire 22</td><td>1</td><td>59</td><td>307</td><td>0.8200000000000001</td></tr><tr><td>Empire 21</td><td>4</td><td>53</td><td>892</td><td>0.6799999999999997</td></tr><tr><td>Empire 23</td><td>1</td><td>33</td><td>260</td><td>1.3199999999999998</td></tr><tr><td>AI Empire</td><td>6</td><td>35</td><td>610</td><td>4.9999999999999964</td></tr><tr><td>Empire 18</td><td>1</td><td>68</td><td>323</td><td>0.6399999999999999</td></tr><tr><td>AI Empire</td><td>11</td><td>282</td><td>2886</td><td>5</td></tr><tr><td>AI Empire</td><td>12</td><td>282</td><td>3419</td><td>5</td></tr><tr><td>AI Empire</td><td>10</td><td>282</td><td>2353</td><td>5</td></tr><tr><td>AI Empire</td><td>14</td><td>282</td><td>4485</td><td>5</td></tr><tr><td>AI Empire</td><td>16</td><td>282</td><td>3871</td><td>5</td></tr><tr><td>AI Empire</td><td>13</td><td>282</td><td>3952</td><td>5</td></tr><tr><td>AI Empire</td><td>15</td><td>282</td><td>3338</td><td>5</td></tr><tr><td>AI Empire</td><td>17</td><td>282</td><td>4404</td><td>5</td></tr><tr><td>AI Empire</td><td>18</td><td>282</td><td>4937</td><td>5</td></tr><tr><td>AI Empire</td><td>23</td><td>322</td><td>1160</td><td>5</td></tr><tr><td>AI Empire</td><td>24</td><td>322</td><td>1450</td><td>5</td></tr><tr><td>AI Empire</td><td>8</td><td>282</td><td>1287</td><td>5</td></tr><tr><td>AI Empire</td><td>9</td><td>282</td><td>1820</td><td>5</td></tr><tr><td>Empire 10</td><td>10</td><td>11</td><td>1040</td><td>5</td></tr><tr><td>Empire 13</td><td>13</td><td>13</td><td>1295</td><td>5</td></tr><tr><td>Empire 13</td><td>12</td><td>12</td><td>1182</td><td>5</td></tr><tr><td>Empire 10</td><td>12</td><td>17</td><td>1270</td><td>5</td></tr><tr><td>Empire 10</td><td>13</td><td>20</td><td>1395</td><td>5</td></tr><tr><td>AI Empire</td><td>20</td><td>322</td><td>290</td><td>5</td></tr><tr><td>AI Empire</td><td>21</td><td>322</td><td>580</td><td>5</td></tr><tr><td>Empire 19</td><td>1</td><td>14</td><td>213</td><td>1.5</td></tr><tr><td>Empire 13</td><td>14</td><td>15</td><td>1410</td><td>5</td></tr><tr><td>Empire 19</td><td>3</td><td>21</td><td>454</td><td>2.5</td></tr><tr><td>AI Empire</td><td>22</td><td>322</td><td>870</td><td>5</td></tr><tr><td>Empire 19</td><td>4</td><td>21</td><td>589</td><td>3.0</td></tr><tr><td>Empire 10</td><td>14</td><td>22</td><td>1528</td><td>5</td></tr><tr><td>Empire 19</td><td>2</td><td>16</td><td>331</td><td>2.0</td></tr><tr><td>Empire 12</td><td>8</td><td>15</td><td>859</td><td>5.0</td></tr><tr><td>Empire 12</td><td>7</td><td>11</td><td>749</td><td>4.5</td></tr><tr><td>Empire 12</td><td>11</td><td>29</td><td>1242</td><td>5</td></tr><tr><td>Empire 10</td><td>11</td><td>15</td><td>1150</td><td>5</td></tr><tr><td>Empire 12</td><td>10</td><td>23</td><td>1102</td><td>5</td></tr><tr><td>Empire 16</td><td>14</td><td>17</td><td>1426</td><td>5</td></tr><tr><td>Empire 16</td><td>13</td><td>14</td><td>1308</td><td>5</td></tr><tr><td>Empire 16</td><td>15</td><td>20</td><td>1551</td><td>5</td></tr><tr><td>Empire 16</td><td>12</td><td>12</td><td>1195</td><td>5</td></tr><tr><td>Empire 16</td><td>16</td><td>22</td><td>1684</td><td>5</td></tr><tr><td>Empire 12</td><td>12</td><td>34</td><td>1394</td><td>5</td></tr><tr><td>Empire 3</td><td>11</td><td>22</td><td>1155</td><td>5</td></tr><tr><td>Empire 10</td><td>8</td><td>7</td><td>832</td><td>5.0</td></tr><tr><td>AI Empire</td><td>3</td><td>1</td><td>355</td><td>2.5</td></tr><tr><td>Empire 11</td><td>10</td><td>4</td><td>1008</td><td>5</td></tr><tr><td>Empire 11</td><td>8</td><td>4</td><td>822</td><td>5.0</td></tr><tr><td>Empire 13</td><td>2</td><td>1</td><td>270</td><td>2.0</td></tr><tr><td>Empire 10</td><td>2</td><td>3</td><td>273</td><td>2.0</td></tr><tr><td>AI Empire</td><td>4</td><td>1</td><td>440</td><td>3.0</td></tr><tr><td>Empire 15</td><td>3</td><td>1</td><td>355</td><td>2.5</td></tr><tr><td>Empire 13</td><td>7</td><td>3</td><td>703</td><td>4.5</td></tr><tr><td>Empire 1</td><td>10</td><td>10</td><td>1031</td><td>5</td></tr><tr><td>Empire 13</td><td>3</td><td>1</td><td>355</td><td>2.5</td></tr><tr><td>AI Empire</td><td>2</td><td>1</td><td>270</td><td>2.0</td></tr><tr><td>AI Empire</td><td>7</td><td>266</td><td>774</td><td>5</td></tr><tr><td>AI Empire</td><td>5</td><td>1</td><td>525</td><td>3.5</td></tr><tr><td>Empire 11</td><td>4</td><td>3</td><td>453</td><td>3.0</td></tr><tr><td>Empire 11</td><td>6</td><td>4</td><td>636</td><td>4.0</td></tr><tr><td>Empire 5</td><td>7</td><td>10</td><td>736</td><td>4.5</td></tr><tr><td>Empire 13</td><td>6</td><td>3</td><td>613</td><td>4.0</td></tr><tr><td>Empire 15</td><td>5</td><td>1</td><td>525</td><td>3.5</td></tr><tr><td>Empire 15</td><td>6</td><td>1</td><td>610</td><td>4.0</td></tr><tr><td>Empire 15</td><td>4</td><td>1</td><td>440</td><td>3.0</td></tr><tr><td>Empire 11</td><td>7</td><td>4</td><td>729</td><td>4.5</td></tr><tr><td>Empire 14</td><td>10</td><td>4</td><td>1003</td><td>5</td></tr><tr><td>Empire 14</td><td>2</td><td>2</td><td>270</td><td>2.0</td></tr><tr><td>Empire 15</td><td>7</td><td>1</td><td>695</td><td>4.5</td></tr><tr><td>Empire 5</td><td>8</td><td>10</td><td>844</td><td>5.0</td></tr><tr><td>Empire 10</td><td>3</td><td>3</td><td>363</td><td>2.5</td></tr><tr><td>Empire 10</td><td>5</td><td>4</td><td>546</td><td>3.5</td></tr><tr><td>Empire 14</td><td>1</td><td>1</td><td>185</td><td>1.5</td></tr><tr><td>Empire 4</td><td>8</td><td>12</td><td>880</td><td>5.0</td></tr><tr><td>Empire 15</td><td>2</td><td>1</td><td>270</td><td>2.0</td></tr><tr><td>Empire 14</td><td>5</td><td>4</td><td>538</td><td>3.5</td></tr><tr><td>Empire 14</td><td>4</td><td>3</td><td>448</td><td>3.0</td></tr><tr><td>Empire 10</td><td>1</td><td>2</td><td>185</td><td>1.5</td></tr><tr><td>Empire 5</td><td>10</td><td>16</td><td>1065</td><td>5</td></tr><tr><td>Empire 11</td><td>3</td><td>3</td><td>363</td><td>2.5</td></tr><tr><td>Empire 11</td><td>1</td><td>2</td><td>185</td><td>1.5</td></tr><tr><td>Empire 11</td><td>2</td><td>3</td><td>273</td><td>2.0</td></tr><tr><td>Empire 3</td><td>10</td><td>15</td><td>1035</td><td>5</td></tr><tr><td>Empire 14</td><td>7</td><td>4</td><td>724</td><td>4.5</td></tr><tr><td>Empire 10</td><td>6</td><td>5</td><td>639</td><td>4.0</td></tr><tr><td>Empire 1</td><td>11</td><td>13</td><td>1139</td><td>5</td></tr><tr><td>Empire 10</td><td>7</td><td>6</td><td>734</td><td>4.5</td></tr><tr><td>Empire 14</td><td>8</td><td>4</td><td>817</td><td>5.0</td></tr><tr><td>Empire 13</td><td>5</td><td>2</td><td>525</td><td>3.5</td></tr><tr><td>Empire 14</td><td>6</td><td>4</td><td>631</td><td>4.0</td></tr><tr><td>Empire 15</td><td>1</td><td>1</td><td>185</td><td>1.5</td></tr><tr><td>AI Empire</td><td>1</td><td>1</td><td>185</td><td>1.5</td></tr><tr><td>Empire 13</td><td>1</td><td>1</td><td>185</td><td>1.5</td></tr><tr><td>Empire 10</td><td>4</td><td>4</td><td>453</td><td>3.0</td></tr><tr><td>Empire 13</td><td>8</td><td>4</td><td>793</td><td>5.0</td></tr><tr><td>Empire 14</td><td>3</td><td>3</td><td>358</td><td>2.5</td></tr><tr><td>Empire 13</td><td>4</td><td>1</td><td>440</td><td>3.0</td></tr><tr><td>Empire 4</td><td>7</td><td>10</td><td>772</td><td>4.5</td></tr><tr><td>Empire 3</td><td>13</td><td>32</td><td>1442</td><td>5</td></tr><tr><td>Empire 4</td><td>13</td><td>12</td><td>1445</td><td>5</td></tr><tr><td>Empire 13</td><td>11</td><td>8</td><td>1079</td><td>5</td></tr><tr><td>Empire 1</td><td>13</td><td>24</td><td>1387</td><td>5</td></tr><tr><td>Empire 4</td><td>10</td><td>12</td><td>1106</td><td>5</td></tr><tr><td>Empire 1</td><td>15</td><td>30</td><td>1671</td><td>5</td></tr><tr><td>Empire 1</td><td>14</td><td>30</td><td>1529</td><td>5</td></tr><tr><td>Empire 5</td><td>11</td><td>17</td><td>1188</td><td>5</td></tr><tr><td>Empire 15</td><td>11</td><td>1</td><td>1035</td><td>5</td></tr><tr><td>Empire 14</td><td>11</td><td>4</td><td>1096</td><td>5</td></tr><tr><td>Empire 3</td><td>12</td><td>28</td><td>1292</td><td>5</td></tr><tr><td>Empire 11</td><td>11</td><td>4</td><td>1101</td><td>5</td></tr><tr><td>Empire 5</td><td>14</td><td>26</td><td>1595</td><td>5</td></tr><tr><td>Empire 4</td><td>12</td><td>12</td><td>1332</td><td>5</td></tr><tr><td>Empire 4</td><td>11</td><td>12</td><td>1219</td><td>5</td></tr><tr><td>Empire 5</td><td>13</td><td>24</td><td>1453</td><td>5</td></tr><tr><td>Empire 15</td><td>8</td><td>1</td><td>780</td><td>5.0</td></tr><tr><td>Empire 5</td><td>15</td><td>30</td><td>1741</td><td>5</td></tr><tr><td>Empire 1</td><td>16</td><td>32</td><td>1825</td><td>5</td></tr><tr><td>Empire 5</td><td>18</td><td>28</td><td>1995</td><td>5</td></tr><tr><td>Empire 18</td><td>4</td><td>75</td><td>1006</td><td>0</td></tr><tr><td>Empire 18</td><td>6</td><td>80</td><td>1483</td><td>0</td></tr><tr><td>Empire 18</td><td>5</td><td>77</td><td>1243</td><td>0</td></tr><tr><td>Empire 1</td><td>17</td><td>34</td><td>1983</td><td>5</td></tr><tr><td>Empire 1</td><td>18</td><td>36</td><td>2145</td><td>5</td></tr><tr><td>Empire 5</td><td>16</td><td>33</td><td>1895</td><td>5</td></tr><tr><td>Empire 11</td><td>12</td><td>4</td><td>1194</td><td>5</td></tr><tr><td>Empire 5</td><td>17</td><td>28</td><td>1920</td><td>5</td></tr><tr><td>Empire 14</td><td>12</td><td>4</td><td>1189</td><td>5</td></tr><tr><td>Empire 8</td><td>7</td><td>11</td><td>744</td><td>4.5</td></tr><tr><td>Empire 1</td><td>12</td><td>20</td><td>1254</td><td>5</td></tr><tr><td>Empire 12</td><td>2</td><td>2</td><td>270</td><td>2.0</td></tr><tr><td>Empire 12</td><td>3</td><td>2</td><td>358</td><td>2.5</td></tr><tr><td>Empire 11</td><td>5</td><td>4</td><td>543</td><td>3.5</td></tr><tr><td>Empire 16</td><td>7</td><td>4</td><td>706</td><td>4.5</td></tr><tr><td>Empire 8</td><td>10</td><td>19</td><td>1089</td><td>5</td></tr><tr><td>Empire 8</td><td>11</td><td>20</td><td>1219</td><td>5</td></tr><tr><td>Empire 12</td><td>4</td><td>5</td><td>446</td><td>3.0</td></tr><tr><td>Empire 8</td><td>8</td><td>13</td><td>854</td><td>5.0</td></tr><tr><td>Empire 16</td><td>6</td><td>3</td><td>616</td><td>4.0</td></tr><tr><td>Empire 12</td><td>1</td><td>1</td><td>185</td><td>1.5</td></tr><tr><td>Empire 12</td><td>5</td><td>8</td><td>541</td><td>3.5</td></tr><tr><td>Empire 16</td><td>2</td><td>1</td><td>270</td><td>2.0</td></tr><tr><td>Empire 16</td><td>3</td><td>1</td><td>355</td><td>2.5</td></tr><tr><td>Empire 16</td><td>1</td><td>1</td><td>185</td><td>1.5</td></tr><tr><td>Empire 16</td><td>5</td><td>2</td><td>528</td><td>3.5</td></tr><tr><td>Empire 16</td><td>8</td><td>4</td><td>799</td><td>5.0</td></tr><tr><td>Empire 16</td><td>4</td><td>2</td><td>440</td><td>3.0</td></tr><tr><td>Empire 12</td><td>6</td><td>9</td><td>644</td><td>4.0</td></tr><tr><td>Empire 8</td><td>13</td><td>34</td><td>1502</td><td>5</td></tr><tr><td>Empire 16</td><td>11</td><td>9</td><td>1090</td><td>5</td></tr><tr><td>Empire 8</td><td>12</td><td>28</td><td>1352</td><td>5</td></tr><tr><td>Empire 5</td><td>12</td><td>23</td><td>1313</td><td>5</td></tr><tr><td>Empire 8</td><td>14</td><td>39</td><td>1664</td><td>5</td></tr><tr><td>Empire 2</td><td>6</td><td>0</td><td>598</td><td>4.0</td></tr><tr><td>Empire 6</td><td>7</td><td>7</td><td>755</td><td>4.5</td></tr><tr><td>Empire 5</td><td>1</td><td>1</td><td>185</td><td>1.5</td></tr><tr><td>Empire 5</td><td>2</td><td>2</td><td>270</td><td>2.0</td></tr><tr><td>Empire 2</td><td>1</td><td>0</td><td>183</td><td>1.5</td></tr><tr><td>Empire 1</td><td>4</td><td>5</td><td>448</td><td>3.0</td></tr><tr><td>Empire 9</td><td>1</td><td>1</td><td>185</td><td>1.5</td></tr><tr><td>Empire 9</td><td>2</td><td>3</td><td>270</td><td>2.0</td></tr><tr><td>Empire 6</td><td>3</td><td>5</td><td>366</td><td>2.5</td></tr><tr><td>Empire 6</td><td>4</td><td>6</td><td>461</td><td>3.0</td></tr><tr><td>Empire 6</td><td>2</td><td>4</td><td>273</td><td>2.0</td></tr><tr><td>Empire 7</td><td>3</td><td>1</td><td>355</td><td>2.5</td></tr><tr><td>Empire 3</td><td>4</td><td>4</td><td>451</td><td>3.0</td></tr><tr><td>Empire 6</td><td>10</td><td>7</td><td>1055</td><td>5</td></tr><tr><td>Empire 3</td><td>6</td><td>5</td><td>637</td><td>4.0</td></tr><tr><td>Empire 4</td><td>1</td><td>2</td><td>185</td><td>1.5</td></tr><tr><td>Empire 7</td><td>4</td><td>1</td><td>440</td><td>3.0</td></tr><tr><td>Empire 2</td><td>2</td><td>0</td><td>266</td><td>2.0</td></tr><tr><td>Empire 6</td><td>11</td><td>7</td><td>1155</td><td>5</td></tr><tr><td>Empire 5</td><td>6</td><td>7</td><td>636</td><td>4.0</td></tr><tr><td>Empire 5</td><td>5</td><td>6</td><td>538</td><td>3.5</td></tr><tr><td>Empire 5</td><td>3</td><td>3</td><td>358</td><td>2.5</td></tr><tr><td>Empire 5</td><td>4</td><td>3</td><td>448</td><td>3.0</td></tr><tr><td>Empire 3</td><td>8</td><td>7</td><td>830</td><td>5.0</td></tr><tr><td>Empire 6</td><td>1</td><td>2</td><td>185</td><td>1.5</td></tr><tr><td>Empire 9</td><td>3</td><td>3</td><td>360</td><td>2.5</td></tr><tr><td>Empire 1</td><td>1</td><td>1</td><td>185</td><td>1.5</td></tr><tr><td>Empire 9</td><td>4</td><td>4</td><td>450</td><td>3.0</td></tr><tr><td>Empire 6</td><td>6</td><td>6</td><td>657</td><td>4.0</td></tr><tr><td>Empire 7</td><td>1</td><td>1</td><td>185</td><td>1.5</td></tr><tr><td>Empire 1</td><td>8</td><td>7</td><td>831</td><td>5.0</td></tr><tr><td>Empire 2</td><td>4</td><td>0</td><td>432</td><td>3.0</td></tr><tr><td>Empire 2</td><td>7</td><td>0</td><td>681</td><td>4.5</td></tr><tr><td>Empire 1</td><td>6</td><td>5</td><td>638</td><td>4.0</td></tr><tr><td>Empire 2</td><td>8</td><td>0</td><td>764</td><td>5.0</td></tr><tr><td>Empire 7</td><td>2</td><td>1</td><td>270</td><td>2.0</td></tr><tr><td>Empire 3</td><td>1</td><td>1</td><td>185</td><td>1.5</td></tr><tr><td>Empire 3</td><td>5</td><td>4</td><td>544</td><td>3.5</td></tr><tr><td>Empire 4</td><td>3</td><td>6</td><td>363</td><td>2.5</td></tr><tr><td>Empire 3</td><td>7</td><td>6</td><td>732</td><td>4.5</td></tr><tr><td>Empire 9</td><td>6</td><td>5</td><td>636</td><td>4.0</td></tr><tr><td>Empire 1</td><td>2</td><td>2</td><td>270</td><td>2.0</td></tr><tr><td>Empire 4</td><td>2</td><td>3</td><td>273</td><td>2.0</td></tr><tr><td>Empire 2</td><td>3</td><td>0</td><td>349</td><td>2.5</td></tr><tr><td>Empire 13</td><td>10</td><td>6</td><td>981</td><td>5</td></tr><tr><td>Empire 1</td><td>3</td><td>3</td><td>358</td><td>2.5</td></tr><tr><td>Empire 7</td><td>5</td><td>2</td><td>525</td><td>3.5</td></tr><tr><td>Empire 9</td><td>8</td><td>5</td><td>826</td><td>5.0</td></tr><tr><td>Empire 4</td><td>5</td><td>8</td><td>564</td><td>3.5</td></tr><tr><td>Empire 1</td><td>7</td><td>6</td><td>733</td><td>4.5</td></tr><tr><td>Empire 4</td><td>6</td><td>9</td><td>667</td><td>4.0</td></tr><tr><td>Empire 2</td><td>5</td><td>0</td><td>515</td><td>3.5</td></tr><tr><td>Empire 7</td><td>6</td><td>5</td><td>613</td><td>4.0</td></tr><tr><td>Empire 7</td><td>10</td><td>8</td><td>1014</td><td>5</td></tr><tr><td>Empire 3</td><td>3</td><td>4</td><td>358</td><td>2.5</td></tr><tr><td>Empire 7</td><td>7</td><td>7</td><td>708</td><td>4.5</td></tr><tr><td>Empire 9</td><td>7</td><td>5</td><td>731</td><td>4.5</td></tr><tr><td>Empire 4</td><td>4</td><td>8</td><td>461</td><td>3.0</td></tr><tr><td>Empire 10</td><td>9</td><td>10</td><td>932</td><td>5</td></tr><tr><td>Empire 3</td><td>2</td><td>2</td><td>270</td><td>2.0</td></tr><tr><td>Empire 9</td><td>10</td><td>5</td><td>1016</td><td>5</td></tr><tr><td>Empire 9</td><td>11</td><td>5</td><td>1111</td><td>5</td></tr><tr><td>Empire 9</td><td>12</td><td>5</td><td>1206</td><td>5</td></tr><tr><td>Empire 7</td><td>12</td><td>8</td><td>1220</td><td>5</td></tr><tr><td>Empire 6</td><td>14</td><td>7</td><td>1455</td><td>5</td></tr><tr><td>Empire 6</td><td>13</td><td>7</td><td>1355</td><td>5</td></tr><tr><td>Empire 6</td><td>12</td><td>7</td><td>1255</td><td>5</td></tr><tr><td>Empire 2</td><td>12</td><td>0</td><td>1096</td><td>5</td></tr><tr><td>Empire 15</td><td>10</td><td>1</td><td>950</td><td>5</td></tr><tr><td>Empire 7</td><td>13</td><td>8</td><td>1323</td><td>5</td></tr><tr><td>Empire 2</td><td>13</td><td>0</td><td>1179</td><td>5</td></tr><tr><td>AI Empire</td><td>19</td><td>322</td><td>0</td><td>5</td></tr><tr><td>Empire 2</td><td>15</td><td>0</td><td>1345</td><td>5</td></tr><tr><td>Empire 18</td><td>3</td><td>71</td><td>776</td><td>0</td></tr><tr><td>Empire 2</td><td>14</td><td>0</td><td>1262</td><td>5</td></tr><tr><td>Empire 2</td><td>16</td><td>0</td><td>1428</td><td>5</td></tr><tr><td>Empire 8</td><td>4</td><td>4</td><td>448</td><td>3.0</td></tr><tr><td>Empire 6</td><td>5</td><td>6</td><td>559</td><td>3.5</td></tr><tr><td>Empire 6</td><td>8</td><td>7</td><td>855</td><td>5.0</td></tr><tr><td>Empire 8</td><td>3</td><td>3</td><td>358</td><td>2.5</td></tr><tr><td>Empire 7</td><td>8</td><td>8</td><td>808</td><td>5.0</td></tr><tr><td>Empire 8</td><td>5</td><td>6</td><td>541</td><td>3.5</td></tr><tr><td>Empire 9</td><td>5</td><td>4</td><td>543</td><td>3.5</td></tr><tr><td>Empire 1</td><td>5</td><td>5</td><td>543</td><td>3.5</td></tr><tr><td>Empire 8</td><td>6</td><td>9</td><td>639</td><td>4.0</td></tr><tr><td>Empire 8</td><td>1</td><td>1</td><td>185</td><td>1.5</td></tr><tr><td>Empire 8</td><td>2</td><td>2</td><td>270</td><td>2.0</td></tr><tr><td>Empire 12</td><td>9</td><td>16</td><td>979</td><td>5</td></tr><tr><td>Empire 2</td><td>11</td><td>0</td><td>1013</td><td>5</td></tr><tr><td>Empire 16</td><td>10</td><td>7</td><td>990</td><td>5</td></tr><tr><td>Empire 7</td><td>11</td><td>8</td><td>1117</td><td>5</td></tr><tr><td>Empire 11</td><td>9</td><td>4</td><td>915</td><td>5</td></tr><tr><td>Empire 14</td><td>9</td><td>4</td><td>910</td><td>5</td></tr><tr><td>Empire 4</td><td>9</td><td>12</td><td>993</td><td>5</td></tr><tr><td>Empire 13</td><td>9</td><td>5</td><td>886</td><td>5</td></tr><tr><td>Empire 5</td><td>9</td><td>12</td><td>952</td><td>5</td></tr><tr><td>Empire 15</td><td>9</td><td>1</td><td>865</td><td>5</td></tr><tr><td>Empire 2</td><td>10</td><td>0</td><td>930</td><td>5</td></tr><tr><td>Empire 16</td><td>9</td><td>6</td><td>892</td><td>5</td></tr><tr><td>Empire 8</td><td>9</td><td>15</td><td>969</td><td>5</td></tr><tr><td>Empire 3</td><td>9</td><td>9</td><td>930</td><td>5</td></tr><tr><td>Empire 2</td><td>9</td><td>0</td><td>847</td><td>5</td></tr><tr><td>Empire 1</td><td>9</td><td>7</td><td>931</td><td>5</td></tr><tr><td>Empire 9</td><td>9</td><td>5</td><td>921</td><td>5</td></tr><tr><td>Empire 7</td><td>9</td><td>8</td><td>911</td><td>5</td></tr><tr><td>Empire 6</td><td>9</td><td>7</td><td>955</td><td>5</td></tr></tbody></table></div>"
      ]
     },
     "metadata": {
      "application/vnd.databricks.v1+output": {
       "addedWidgets": {},
       "aggData": [],
       "aggError": "",
       "aggOverflow": false,
       "aggSchema": [],
       "aggSeriesLimitReached": false,
       "aggType": "",
       "arguments": {},
       "columnCustomDisplayInfos": {},
       "data": [
        [
         "empire_name",
         "age",
         "territory_size",
         "economy",
         "stability"
        ],
        [
         "Empire 18",
         "2",
         "70",
         "548",
         "0.2599999999999998"
        ],
        [
         "Empire 23",
         "3",
         "34",
         "580",
         "1.9599999999999995"
        ],
        [
         "Empire 22",
         "2",
         "61",
         "516",
         "0.6200000000000001"
        ],
        [
         "Empire 24",
         "1",
         "54",
         "298",
         "0.9199999999999999"
        ],
        [
         "Empire 21",
         "3",
         "53",
         "694",
         "0.7599999999999998"
        ],
        [
         "Empire 24",
         "2",
         "54",
         "498",
         "0.8199999999999998"
        ],
        [
         "Empire 23",
         "2",
         "33",
         "420",
         "1.6399999999999997"
        ],
        [
         "Empire 23",
         "4",
         "34",
         "742",
         "2.2599999999999993"
        ],
        [
         "Empire 24",
         "3",
         "56",
         "698",
         "0.7199999999999998"
        ],
        [
         "Empire 21",
         "1",
         "53",
         "298",
         "0.9199999999999999"
        ],
        [
         "Empire 21",
         "2",
         "53",
         "496",
         "0.8399999999999999"
        ],
        [
         "Empire 22",
         "1",
         "59",
         "307",
         "0.8200000000000001"
        ],
        [
         "Empire 21",
         "4",
         "53",
         "892",
         "0.6799999999999997"
        ],
        [
         "Empire 23",
         "1",
         "33",
         "260",
         "1.3199999999999998"
        ],
        [
         "AI Empire",
         "6",
         "35",
         "610",
         "4.9999999999999964"
        ],
        [
         "Empire 18",
         "1",
         "68",
         "323",
         "0.6399999999999999"
        ],
        [
         "AI Empire",
         "11",
         "282",
         "2886",
         "5"
        ],
        [
         "AI Empire",
         "12",
         "282",
         "3419",
         "5"
        ],
        [
         "AI Empire",
         "10",
         "282",
         "2353",
         "5"
        ],
        [
         "AI Empire",
         "14",
         "282",
         "4485",
         "5"
        ],
        [
         "AI Empire",
         "16",
         "282",
         "3871",
         "5"
        ],
        [
         "AI Empire",
         "13",
         "282",
         "3952",
         "5"
        ],
        [
         "AI Empire",
         "15",
         "282",
         "3338",
         "5"
        ],
        [
         "AI Empire",
         "17",
         "282",
         "4404",
         "5"
        ],
        [
         "AI Empire",
         "18",
         "282",
         "4937",
         "5"
        ],
        [
         "AI Empire",
         "23",
         "322",
         "1160",
         "5"
        ],
        [
         "AI Empire",
         "24",
         "322",
         "1450",
         "5"
        ],
        [
         "AI Empire",
         "8",
         "282",
         "1287",
         "5"
        ],
        [
         "AI Empire",
         "9",
         "282",
         "1820",
         "5"
        ],
        [
         "Empire 10",
         "10",
         "11",
         "1040",
         "5"
        ],
        [
         "Empire 13",
         "13",
         "13",
         "1295",
         "5"
        ],
        [
         "Empire 13",
         "12",
         "12",
         "1182",
         "5"
        ],
        [
         "Empire 10",
         "12",
         "17",
         "1270",
         "5"
        ],
        [
         "Empire 10",
         "13",
         "20",
         "1395",
         "5"
        ],
        [
         "AI Empire",
         "20",
         "322",
         "290",
         "5"
        ],
        [
         "AI Empire",
         "21",
         "322",
         "580",
         "5"
        ],
        [
         "Empire 19",
         "1",
         "14",
         "213",
         "1.5"
        ],
        [
         "Empire 13",
         "14",
         "15",
         "1410",
         "5"
        ],
        [
         "Empire 19",
         "3",
         "21",
         "454",
         "2.5"
        ],
        [
         "AI Empire",
         "22",
         "322",
         "870",
         "5"
        ],
        [
         "Empire 19",
         "4",
         "21",
         "589",
         "3.0"
        ],
        [
         "Empire 10",
         "14",
         "22",
         "1528",
         "5"
        ],
        [
         "Empire 19",
         "2",
         "16",
         "331",
         "2.0"
        ],
        [
         "Empire 12",
         "8",
         "15",
         "859",
         "5.0"
        ],
        [
         "Empire 12",
         "7",
         "11",
         "749",
         "4.5"
        ],
        [
         "Empire 12",
         "11",
         "29",
         "1242",
         "5"
        ],
        [
         "Empire 10",
         "11",
         "15",
         "1150",
         "5"
        ],
        [
         "Empire 12",
         "10",
         "23",
         "1102",
         "5"
        ],
        [
         "Empire 16",
         "14",
         "17",
         "1426",
         "5"
        ],
        [
         "Empire 16",
         "13",
         "14",
         "1308",
         "5"
        ],
        [
         "Empire 16",
         "15",
         "20",
         "1551",
         "5"
        ],
        [
         "Empire 16",
         "12",
         "12",
         "1195",
         "5"
        ],
        [
         "Empire 16",
         "16",
         "22",
         "1684",
         "5"
        ],
        [
         "Empire 12",
         "12",
         "34",
         "1394",
         "5"
        ],
        [
         "Empire 3",
         "11",
         "22",
         "1155",
         "5"
        ],
        [
         "Empire 10",
         "8",
         "7",
         "832",
         "5.0"
        ],
        [
         "AI Empire",
         "3",
         "1",
         "355",
         "2.5"
        ],
        [
         "Empire 11",
         "10",
         "4",
         "1008",
         "5"
        ],
        [
         "Empire 11",
         "8",
         "4",
         "822",
         "5.0"
        ],
        [
         "Empire 13",
         "2",
         "1",
         "270",
         "2.0"
        ],
        [
         "Empire 10",
         "2",
         "3",
         "273",
         "2.0"
        ],
        [
         "AI Empire",
         "4",
         "1",
         "440",
         "3.0"
        ],
        [
         "Empire 15",
         "3",
         "1",
         "355",
         "2.5"
        ],
        [
         "Empire 13",
         "7",
         "3",
         "703",
         "4.5"
        ],
        [
         "Empire 1",
         "10",
         "10",
         "1031",
         "5"
        ],
        [
         "Empire 13",
         "3",
         "1",
         "355",
         "2.5"
        ],
        [
         "AI Empire",
         "2",
         "1",
         "270",
         "2.0"
        ],
        [
         "AI Empire",
         "7",
         "266",
         "774",
         "5"
        ],
        [
         "AI Empire",
         "5",
         "1",
         "525",
         "3.5"
        ],
        [
         "Empire 11",
         "4",
         "3",
         "453",
         "3.0"
        ],
        [
         "Empire 11",
         "6",
         "4",
         "636",
         "4.0"
        ],
        [
         "Empire 5",
         "7",
         "10",
         "736",
         "4.5"
        ],
        [
         "Empire 13",
         "6",
         "3",
         "613",
         "4.0"
        ],
        [
         "Empire 15",
         "5",
         "1",
         "525",
         "3.5"
        ],
        [
         "Empire 15",
         "6",
         "1",
         "610",
         "4.0"
        ],
        [
         "Empire 15",
         "4",
         "1",
         "440",
         "3.0"
        ],
        [
         "Empire 11",
         "7",
         "4",
         "729",
         "4.5"
        ],
        [
         "Empire 14",
         "10",
         "4",
         "1003",
         "5"
        ],
        [
         "Empire 14",
         "2",
         "2",
         "270",
         "2.0"
        ],
        [
         "Empire 15",
         "7",
         "1",
         "695",
         "4.5"
        ],
        [
         "Empire 5",
         "8",
         "10",
         "844",
         "5.0"
        ],
        [
         "Empire 10",
         "3",
         "3",
         "363",
         "2.5"
        ],
        [
         "Empire 10",
         "5",
         "4",
         "546",
         "3.5"
        ],
        [
         "Empire 14",
         "1",
         "1",
         "185",
         "1.5"
        ],
        [
         "Empire 4",
         "8",
         "12",
         "880",
         "5.0"
        ],
        [
         "Empire 15",
         "2",
         "1",
         "270",
         "2.0"
        ],
        [
         "Empire 14",
         "5",
         "4",
         "538",
         "3.5"
        ],
        [
         "Empire 14",
         "4",
         "3",
         "448",
         "3.0"
        ],
        [
         "Empire 10",
         "1",
         "2",
         "185",
         "1.5"
        ],
        [
         "Empire 5",
         "10",
         "16",
         "1065",
         "5"
        ],
        [
         "Empire 11",
         "3",
         "3",
         "363",
         "2.5"
        ],
        [
         "Empire 11",
         "1",
         "2",
         "185",
         "1.5"
        ],
        [
         "Empire 11",
         "2",
         "3",
         "273",
         "2.0"
        ],
        [
         "Empire 3",
         "10",
         "15",
         "1035",
         "5"
        ],
        [
         "Empire 14",
         "7",
         "4",
         "724",
         "4.5"
        ],
        [
         "Empire 10",
         "6",
         "5",
         "639",
         "4.0"
        ],
        [
         "Empire 1",
         "11",
         "13",
         "1139",
         "5"
        ],
        [
         "Empire 10",
         "7",
         "6",
         "734",
         "4.5"
        ],
        [
         "Empire 14",
         "8",
         "4",
         "817",
         "5.0"
        ],
        [
         "Empire 13",
         "5",
         "2",
         "525",
         "3.5"
        ],
        [
         "Empire 14",
         "6",
         "4",
         "631",
         "4.0"
        ],
        [
         "Empire 15",
         "1",
         "1",
         "185",
         "1.5"
        ],
        [
         "AI Empire",
         "1",
         "1",
         "185",
         "1.5"
        ],
        [
         "Empire 13",
         "1",
         "1",
         "185",
         "1.5"
        ],
        [
         "Empire 10",
         "4",
         "4",
         "453",
         "3.0"
        ],
        [
         "Empire 13",
         "8",
         "4",
         "793",
         "5.0"
        ],
        [
         "Empire 14",
         "3",
         "3",
         "358",
         "2.5"
        ],
        [
         "Empire 13",
         "4",
         "1",
         "440",
         "3.0"
        ],
        [
         "Empire 4",
         "7",
         "10",
         "772",
         "4.5"
        ],
        [
         "Empire 3",
         "13",
         "32",
         "1442",
         "5"
        ],
        [
         "Empire 4",
         "13",
         "12",
         "1445",
         "5"
        ],
        [
         "Empire 13",
         "11",
         "8",
         "1079",
         "5"
        ],
        [
         "Empire 1",
         "13",
         "24",
         "1387",
         "5"
        ],
        [
         "Empire 4",
         "10",
         "12",
         "1106",
         "5"
        ],
        [
         "Empire 1",
         "15",
         "30",
         "1671",
         "5"
        ],
        [
         "Empire 1",
         "14",
         "30",
         "1529",
         "5"
        ],
        [
         "Empire 5",
         "11",
         "17",
         "1188",
         "5"
        ],
        [
         "Empire 15",
         "11",
         "1",
         "1035",
         "5"
        ],
        [
         "Empire 14",
         "11",
         "4",
         "1096",
         "5"
        ],
        [
         "Empire 3",
         "12",
         "28",
         "1292",
         "5"
        ],
        [
         "Empire 11",
         "11",
         "4",
         "1101",
         "5"
        ],
        [
         "Empire 5",
         "14",
         "26",
         "1595",
         "5"
        ],
        [
         "Empire 4",
         "12",
         "12",
         "1332",
         "5"
        ],
        [
         "Empire 4",
         "11",
         "12",
         "1219",
         "5"
        ],
        [
         "Empire 5",
         "13",
         "24",
         "1453",
         "5"
        ],
        [
         "Empire 15",
         "8",
         "1",
         "780",
         "5.0"
        ],
        [
         "Empire 5",
         "15",
         "30",
         "1741",
         "5"
        ],
        [
         "Empire 1",
         "16",
         "32",
         "1825",
         "5"
        ],
        [
         "Empire 5",
         "18",
         "28",
         "1995",
         "5"
        ],
        [
         "Empire 18",
         "4",
         "75",
         "1006",
         "0"
        ],
        [
         "Empire 18",
         "6",
         "80",
         "1483",
         "0"
        ],
        [
         "Empire 18",
         "5",
         "77",
         "1243",
         "0"
        ],
        [
         "Empire 1",
         "17",
         "34",
         "1983",
         "5"
        ],
        [
         "Empire 1",
         "18",
         "36",
         "2145",
         "5"
        ],
        [
         "Empire 5",
         "16",
         "33",
         "1895",
         "5"
        ],
        [
         "Empire 11",
         "12",
         "4",
         "1194",
         "5"
        ],
        [
         "Empire 5",
         "17",
         "28",
         "1920",
         "5"
        ],
        [
         "Empire 14",
         "12",
         "4",
         "1189",
         "5"
        ],
        [
         "Empire 8",
         "7",
         "11",
         "744",
         "4.5"
        ],
        [
         "Empire 1",
         "12",
         "20",
         "1254",
         "5"
        ],
        [
         "Empire 12",
         "2",
         "2",
         "270",
         "2.0"
        ],
        [
         "Empire 12",
         "3",
         "2",
         "358",
         "2.5"
        ],
        [
         "Empire 11",
         "5",
         "4",
         "543",
         "3.5"
        ],
        [
         "Empire 16",
         "7",
         "4",
         "706",
         "4.5"
        ],
        [
         "Empire 8",
         "10",
         "19",
         "1089",
         "5"
        ],
        [
         "Empire 8",
         "11",
         "20",
         "1219",
         "5"
        ],
        [
         "Empire 12",
         "4",
         "5",
         "446",
         "3.0"
        ],
        [
         "Empire 8",
         "8",
         "13",
         "854",
         "5.0"
        ],
        [
         "Empire 16",
         "6",
         "3",
         "616",
         "4.0"
        ],
        [
         "Empire 12",
         "1",
         "1",
         "185",
         "1.5"
        ],
        [
         "Empire 12",
         "5",
         "8",
         "541",
         "3.5"
        ],
        [
         "Empire 16",
         "2",
         "1",
         "270",
         "2.0"
        ],
        [
         "Empire 16",
         "3",
         "1",
         "355",
         "2.5"
        ],
        [
         "Empire 16",
         "1",
         "1",
         "185",
         "1.5"
        ],
        [
         "Empire 16",
         "5",
         "2",
         "528",
         "3.5"
        ],
        [
         "Empire 16",
         "8",
         "4",
         "799",
         "5.0"
        ],
        [
         "Empire 16",
         "4",
         "2",
         "440",
         "3.0"
        ],
        [
         "Empire 12",
         "6",
         "9",
         "644",
         "4.0"
        ],
        [
         "Empire 8",
         "13",
         "34",
         "1502",
         "5"
        ],
        [
         "Empire 16",
         "11",
         "9",
         "1090",
         "5"
        ],
        [
         "Empire 8",
         "12",
         "28",
         "1352",
         "5"
        ],
        [
         "Empire 5",
         "12",
         "23",
         "1313",
         "5"
        ],
        [
         "Empire 8",
         "14",
         "39",
         "1664",
         "5"
        ],
        [
         "Empire 2",
         "6",
         "0",
         "598",
         "4.0"
        ],
        [
         "Empire 6",
         "7",
         "7",
         "755",
         "4.5"
        ],
        [
         "Empire 5",
         "1",
         "1",
         "185",
         "1.5"
        ],
        [
         "Empire 5",
         "2",
         "2",
         "270",
         "2.0"
        ],
        [
         "Empire 2",
         "1",
         "0",
         "183",
         "1.5"
        ],
        [
         "Empire 1",
         "4",
         "5",
         "448",
         "3.0"
        ],
        [
         "Empire 9",
         "1",
         "1",
         "185",
         "1.5"
        ],
        [
         "Empire 9",
         "2",
         "3",
         "270",
         "2.0"
        ],
        [
         "Empire 6",
         "3",
         "5",
         "366",
         "2.5"
        ],
        [
         "Empire 6",
         "4",
         "6",
         "461",
         "3.0"
        ],
        [
         "Empire 6",
         "2",
         "4",
         "273",
         "2.0"
        ],
        [
         "Empire 7",
         "3",
         "1",
         "355",
         "2.5"
        ],
        [
         "Empire 3",
         "4",
         "4",
         "451",
         "3.0"
        ],
        [
         "Empire 6",
         "10",
         "7",
         "1055",
         "5"
        ],
        [
         "Empire 3",
         "6",
         "5",
         "637",
         "4.0"
        ],
        [
         "Empire 4",
         "1",
         "2",
         "185",
         "1.5"
        ],
        [
         "Empire 7",
         "4",
         "1",
         "440",
         "3.0"
        ],
        [
         "Empire 2",
         "2",
         "0",
         "266",
         "2.0"
        ],
        [
         "Empire 6",
         "11",
         "7",
         "1155",
         "5"
        ],
        [
         "Empire 5",
         "6",
         "7",
         "636",
         "4.0"
        ],
        [
         "Empire 5",
         "5",
         "6",
         "538",
         "3.5"
        ],
        [
         "Empire 5",
         "3",
         "3",
         "358",
         "2.5"
        ],
        [
         "Empire 5",
         "4",
         "3",
         "448",
         "3.0"
        ],
        [
         "Empire 3",
         "8",
         "7",
         "830",
         "5.0"
        ],
        [
         "Empire 6",
         "1",
         "2",
         "185",
         "1.5"
        ],
        [
         "Empire 9",
         "3",
         "3",
         "360",
         "2.5"
        ],
        [
         "Empire 1",
         "1",
         "1",
         "185",
         "1.5"
        ],
        [
         "Empire 9",
         "4",
         "4",
         "450",
         "3.0"
        ],
        [
         "Empire 6",
         "6",
         "6",
         "657",
         "4.0"
        ],
        [
         "Empire 7",
         "1",
         "1",
         "185",
         "1.5"
        ],
        [
         "Empire 1",
         "8",
         "7",
         "831",
         "5.0"
        ],
        [
         "Empire 2",
         "4",
         "0",
         "432",
         "3.0"
        ],
        [
         "Empire 2",
         "7",
         "0",
         "681",
         "4.5"
        ],
        [
         "Empire 1",
         "6",
         "5",
         "638",
         "4.0"
        ],
        [
         "Empire 2",
         "8",
         "0",
         "764",
         "5.0"
        ],
        [
         "Empire 7",
         "2",
         "1",
         "270",
         "2.0"
        ],
        [
         "Empire 3",
         "1",
         "1",
         "185",
         "1.5"
        ],
        [
         "Empire 3",
         "5",
         "4",
         "544",
         "3.5"
        ],
        [
         "Empire 4",
         "3",
         "6",
         "363",
         "2.5"
        ],
        [
         "Empire 3",
         "7",
         "6",
         "732",
         "4.5"
        ],
        [
         "Empire 9",
         "6",
         "5",
         "636",
         "4.0"
        ],
        [
         "Empire 1",
         "2",
         "2",
         "270",
         "2.0"
        ],
        [
         "Empire 4",
         "2",
         "3",
         "273",
         "2.0"
        ],
        [
         "Empire 2",
         "3",
         "0",
         "349",
         "2.5"
        ],
        [
         "Empire 13",
         "10",
         "6",
         "981",
         "5"
        ],
        [
         "Empire 1",
         "3",
         "3",
         "358",
         "2.5"
        ],
        [
         "Empire 7",
         "5",
         "2",
         "525",
         "3.5"
        ],
        [
         "Empire 9",
         "8",
         "5",
         "826",
         "5.0"
        ],
        [
         "Empire 4",
         "5",
         "8",
         "564",
         "3.5"
        ],
        [
         "Empire 1",
         "7",
         "6",
         "733",
         "4.5"
        ],
        [
         "Empire 4",
         "6",
         "9",
         "667",
         "4.0"
        ],
        [
         "Empire 2",
         "5",
         "0",
         "515",
         "3.5"
        ],
        [
         "Empire 7",
         "6",
         "5",
         "613",
         "4.0"
        ],
        [
         "Empire 7",
         "10",
         "8",
         "1014",
         "5"
        ],
        [
         "Empire 3",
         "3",
         "4",
         "358",
         "2.5"
        ],
        [
         "Empire 7",
         "7",
         "7",
         "708",
         "4.5"
        ],
        [
         "Empire 9",
         "7",
         "5",
         "731",
         "4.5"
        ],
        [
         "Empire 4",
         "4",
         "8",
         "461",
         "3.0"
        ],
        [
         "Empire 10",
         "9",
         "10",
         "932",
         "5"
        ],
        [
         "Empire 3",
         "2",
         "2",
         "270",
         "2.0"
        ],
        [
         "Empire 9",
         "10",
         "5",
         "1016",
         "5"
        ],
        [
         "Empire 9",
         "11",
         "5",
         "1111",
         "5"
        ],
        [
         "Empire 9",
         "12",
         "5",
         "1206",
         "5"
        ],
        [
         "Empire 7",
         "12",
         "8",
         "1220",
         "5"
        ],
        [
         "Empire 6",
         "14",
         "7",
         "1455",
         "5"
        ],
        [
         "Empire 6",
         "13",
         "7",
         "1355",
         "5"
        ],
        [
         "Empire 6",
         "12",
         "7",
         "1255",
         "5"
        ],
        [
         "Empire 2",
         "12",
         "0",
         "1096",
         "5"
        ],
        [
         "Empire 15",
         "10",
         "1",
         "950",
         "5"
        ],
        [
         "Empire 7",
         "13",
         "8",
         "1323",
         "5"
        ],
        [
         "Empire 2",
         "13",
         "0",
         "1179",
         "5"
        ],
        [
         "AI Empire",
         "19",
         "322",
         "0",
         "5"
        ],
        [
         "Empire 2",
         "15",
         "0",
         "1345",
         "5"
        ],
        [
         "Empire 18",
         "3",
         "71",
         "776",
         "0"
        ],
        [
         "Empire 2",
         "14",
         "0",
         "1262",
         "5"
        ],
        [
         "Empire 2",
         "16",
         "0",
         "1428",
         "5"
        ],
        [
         "Empire 8",
         "4",
         "4",
         "448",
         "3.0"
        ],
        [
         "Empire 6",
         "5",
         "6",
         "559",
         "3.5"
        ],
        [
         "Empire 6",
         "8",
         "7",
         "855",
         "5.0"
        ],
        [
         "Empire 8",
         "3",
         "3",
         "358",
         "2.5"
        ],
        [
         "Empire 7",
         "8",
         "8",
         "808",
         "5.0"
        ],
        [
         "Empire 8",
         "5",
         "6",
         "541",
         "3.5"
        ],
        [
         "Empire 9",
         "5",
         "4",
         "543",
         "3.5"
        ],
        [
         "Empire 1",
         "5",
         "5",
         "543",
         "3.5"
        ],
        [
         "Empire 8",
         "6",
         "9",
         "639",
         "4.0"
        ],
        [
         "Empire 8",
         "1",
         "1",
         "185",
         "1.5"
        ],
        [
         "Empire 8",
         "2",
         "2",
         "270",
         "2.0"
        ],
        [
         "Empire 12",
         "9",
         "16",
         "979",
         "5"
        ],
        [
         "Empire 2",
         "11",
         "0",
         "1013",
         "5"
        ],
        [
         "Empire 16",
         "10",
         "7",
         "990",
         "5"
        ],
        [
         "Empire 7",
         "11",
         "8",
         "1117",
         "5"
        ],
        [
         "Empire 11",
         "9",
         "4",
         "915",
         "5"
        ],
        [
         "Empire 14",
         "9",
         "4",
         "910",
         "5"
        ],
        [
         "Empire 4",
         "9",
         "12",
         "993",
         "5"
        ],
        [
         "Empire 13",
         "9",
         "5",
         "886",
         "5"
        ],
        [
         "Empire 5",
         "9",
         "12",
         "952",
         "5"
        ],
        [
         "Empire 15",
         "9",
         "1",
         "865",
         "5"
        ],
        [
         "Empire 2",
         "10",
         "0",
         "930",
         "5"
        ],
        [
         "Empire 16",
         "9",
         "6",
         "892",
         "5"
        ],
        [
         "Empire 8",
         "9",
         "15",
         "969",
         "5"
        ],
        [
         "Empire 3",
         "9",
         "9",
         "930",
         "5"
        ],
        [
         "Empire 2",
         "9",
         "0",
         "847",
         "5"
        ],
        [
         "Empire 1",
         "9",
         "7",
         "931",
         "5"
        ],
        [
         "Empire 9",
         "9",
         "5",
         "921",
         "5"
        ],
        [
         "Empire 7",
         "9",
         "8",
         "911",
         "5"
        ],
        [
         "Empire 6",
         "9",
         "7",
         "955",
         "5"
        ]
       ],
       "datasetInfos": [],
       "dbfsResultPath": null,
       "isJsonSchema": true,
       "metadata": {},
       "overflow": false,
       "plotOptions": {
        "customPlotOptions": {},
        "displayType": "table",
        "pivotAggregation": null,
        "pivotColumns": null,
        "xColumns": null,
        "yColumns": null
       },
       "removedWidgets": [],
       "schema": [
        {
         "metadata": "{}",
         "name": "empire_name",
         "type": "\"string\""
        },
        {
         "metadata": "{}",
         "name": "age",
         "type": "\"string\""
        },
        {
         "metadata": "{}",
         "name": "territory_size",
         "type": "\"string\""
        },
        {
         "metadata": "{}",
         "name": "economy",
         "type": "\"string\""
        },
        {
         "metadata": "{}",
         "name": "stability",
         "type": "\"string\""
        }
       ],
       "type": "table"
      }
     },
     "output_type": "display_data"
    },
    {
     "data": {
      "text/html": [
       "<style scoped>\n",
       "  .table-result-container {\n",
       "    max-height: 300px;\n",
       "    overflow: auto;\n",
       "  }\n",
       "  table, th, td {\n",
       "    border: 1px solid black;\n",
       "    border-collapse: collapse;\n",
       "  }\n",
       "  th, td {\n",
       "    padding: 5px;\n",
       "  }\n",
       "  th {\n",
       "    text-align: left;\n",
       "  }\n",
       "</style><div class='table-result-container'><table class='table-result'><thead style='background-color: white'><tr><th>age</th><th>empire_name</th><th>territory_size</th></tr></thead><tbody><tr><td>age</td><td>empire_name</td><td>territory_size</td></tr><tr><td>2</td><td>Empire 18</td><td>70</td></tr><tr><td>3</td><td>Empire 23</td><td>34</td></tr><tr><td>2</td><td>Empire 22</td><td>61</td></tr><tr><td>1</td><td>Empire 24</td><td>54</td></tr><tr><td>3</td><td>Empire 21</td><td>53</td></tr><tr><td>2</td><td>Empire 24</td><td>54</td></tr><tr><td>2</td><td>Empire 23</td><td>33</td></tr><tr><td>4</td><td>Empire 23</td><td>34</td></tr><tr><td>3</td><td>Empire 24</td><td>56</td></tr><tr><td>1</td><td>Empire 21</td><td>53</td></tr><tr><td>2</td><td>Empire 21</td><td>53</td></tr><tr><td>1</td><td>Empire 22</td><td>59</td></tr><tr><td>4</td><td>Empire 21</td><td>53</td></tr><tr><td>1</td><td>Empire 23</td><td>33</td></tr><tr><td>6</td><td>AI Empire</td><td>35</td></tr><tr><td>1</td><td>Empire 18</td><td>68</td></tr><tr><td>11</td><td>AI Empire</td><td>282</td></tr><tr><td>12</td><td>AI Empire</td><td>282</td></tr><tr><td>10</td><td>AI Empire</td><td>282</td></tr><tr><td>14</td><td>AI Empire</td><td>282</td></tr><tr><td>16</td><td>AI Empire</td><td>282</td></tr><tr><td>13</td><td>AI Empire</td><td>282</td></tr><tr><td>15</td><td>AI Empire</td><td>282</td></tr><tr><td>17</td><td>AI Empire</td><td>282</td></tr><tr><td>18</td><td>AI Empire</td><td>282</td></tr><tr><td>23</td><td>AI Empire</td><td>322</td></tr><tr><td>24</td><td>AI Empire</td><td>322</td></tr><tr><td>8</td><td>AI Empire</td><td>282</td></tr><tr><td>9</td><td>AI Empire</td><td>282</td></tr><tr><td>10</td><td>Empire 10</td><td>11</td></tr><tr><td>13</td><td>Empire 13</td><td>13</td></tr><tr><td>12</td><td>Empire 13</td><td>12</td></tr><tr><td>12</td><td>Empire 10</td><td>17</td></tr><tr><td>13</td><td>Empire 10</td><td>20</td></tr><tr><td>20</td><td>AI Empire</td><td>322</td></tr><tr><td>21</td><td>AI Empire</td><td>322</td></tr><tr><td>1</td><td>Empire 19</td><td>14</td></tr><tr><td>14</td><td>Empire 13</td><td>15</td></tr><tr><td>3</td><td>Empire 19</td><td>21</td></tr><tr><td>22</td><td>AI Empire</td><td>322</td></tr><tr><td>4</td><td>Empire 19</td><td>21</td></tr><tr><td>14</td><td>Empire 10</td><td>22</td></tr><tr><td>2</td><td>Empire 19</td><td>16</td></tr><tr><td>8</td><td>Empire 12</td><td>15</td></tr><tr><td>7</td><td>Empire 12</td><td>11</td></tr><tr><td>11</td><td>Empire 12</td><td>29</td></tr><tr><td>11</td><td>Empire 10</td><td>15</td></tr><tr><td>10</td><td>Empire 12</td><td>23</td></tr><tr><td>14</td><td>Empire 16</td><td>17</td></tr><tr><td>13</td><td>Empire 16</td><td>14</td></tr><tr><td>15</td><td>Empire 16</td><td>20</td></tr><tr><td>12</td><td>Empire 16</td><td>12</td></tr><tr><td>16</td><td>Empire 16</td><td>22</td></tr><tr><td>12</td><td>Empire 12</td><td>34</td></tr><tr><td>11</td><td>Empire 3</td><td>22</td></tr><tr><td>8</td><td>Empire 10</td><td>7</td></tr><tr><td>3</td><td>AI Empire</td><td>1</td></tr><tr><td>10</td><td>Empire 11</td><td>4</td></tr><tr><td>8</td><td>Empire 11</td><td>4</td></tr><tr><td>2</td><td>Empire 13</td><td>1</td></tr><tr><td>2</td><td>Empire 10</td><td>3</td></tr><tr><td>4</td><td>AI Empire</td><td>1</td></tr><tr><td>3</td><td>Empire 15</td><td>1</td></tr><tr><td>7</td><td>Empire 13</td><td>3</td></tr><tr><td>10</td><td>Empire 1</td><td>10</td></tr><tr><td>3</td><td>Empire 13</td><td>1</td></tr><tr><td>2</td><td>AI Empire</td><td>1</td></tr><tr><td>7</td><td>AI Empire</td><td>266</td></tr><tr><td>5</td><td>AI Empire</td><td>1</td></tr><tr><td>4</td><td>Empire 11</td><td>3</td></tr><tr><td>6</td><td>Empire 11</td><td>4</td></tr><tr><td>7</td><td>Empire 5</td><td>10</td></tr><tr><td>6</td><td>Empire 13</td><td>3</td></tr><tr><td>5</td><td>Empire 15</td><td>1</td></tr><tr><td>6</td><td>Empire 15</td><td>1</td></tr><tr><td>4</td><td>Empire 15</td><td>1</td></tr><tr><td>7</td><td>Empire 11</td><td>4</td></tr><tr><td>10</td><td>Empire 14</td><td>4</td></tr><tr><td>2</td><td>Empire 14</td><td>2</td></tr><tr><td>7</td><td>Empire 15</td><td>1</td></tr><tr><td>8</td><td>Empire 5</td><td>10</td></tr><tr><td>3</td><td>Empire 10</td><td>3</td></tr><tr><td>5</td><td>Empire 10</td><td>4</td></tr><tr><td>1</td><td>Empire 14</td><td>1</td></tr><tr><td>8</td><td>Empire 4</td><td>12</td></tr><tr><td>2</td><td>Empire 15</td><td>1</td></tr><tr><td>5</td><td>Empire 14</td><td>4</td></tr><tr><td>4</td><td>Empire 14</td><td>3</td></tr><tr><td>1</td><td>Empire 10</td><td>2</td></tr><tr><td>10</td><td>Empire 5</td><td>16</td></tr><tr><td>3</td><td>Empire 11</td><td>3</td></tr><tr><td>1</td><td>Empire 11</td><td>2</td></tr><tr><td>2</td><td>Empire 11</td><td>3</td></tr><tr><td>10</td><td>Empire 3</td><td>15</td></tr><tr><td>7</td><td>Empire 14</td><td>4</td></tr><tr><td>6</td><td>Empire 10</td><td>5</td></tr><tr><td>11</td><td>Empire 1</td><td>13</td></tr><tr><td>7</td><td>Empire 10</td><td>6</td></tr><tr><td>8</td><td>Empire 14</td><td>4</td></tr><tr><td>5</td><td>Empire 13</td><td>2</td></tr><tr><td>6</td><td>Empire 14</td><td>4</td></tr><tr><td>1</td><td>Empire 15</td><td>1</td></tr><tr><td>1</td><td>AI Empire</td><td>1</td></tr><tr><td>1</td><td>Empire 13</td><td>1</td></tr><tr><td>4</td><td>Empire 10</td><td>4</td></tr><tr><td>8</td><td>Empire 13</td><td>4</td></tr><tr><td>3</td><td>Empire 14</td><td>3</td></tr><tr><td>4</td><td>Empire 13</td><td>1</td></tr><tr><td>7</td><td>Empire 4</td><td>10</td></tr><tr><td>13</td><td>Empire 3</td><td>32</td></tr><tr><td>13</td><td>Empire 4</td><td>12</td></tr><tr><td>11</td><td>Empire 13</td><td>8</td></tr><tr><td>13</td><td>Empire 1</td><td>24</td></tr><tr><td>10</td><td>Empire 4</td><td>12</td></tr><tr><td>15</td><td>Empire 1</td><td>30</td></tr><tr><td>14</td><td>Empire 1</td><td>30</td></tr><tr><td>11</td><td>Empire 5</td><td>17</td></tr><tr><td>11</td><td>Empire 15</td><td>1</td></tr><tr><td>11</td><td>Empire 14</td><td>4</td></tr><tr><td>12</td><td>Empire 3</td><td>28</td></tr><tr><td>11</td><td>Empire 11</td><td>4</td></tr><tr><td>14</td><td>Empire 5</td><td>26</td></tr><tr><td>12</td><td>Empire 4</td><td>12</td></tr><tr><td>11</td><td>Empire 4</td><td>12</td></tr><tr><td>13</td><td>Empire 5</td><td>24</td></tr><tr><td>8</td><td>Empire 15</td><td>1</td></tr><tr><td>15</td><td>Empire 5</td><td>30</td></tr><tr><td>16</td><td>Empire 1</td><td>32</td></tr><tr><td>18</td><td>Empire 5</td><td>28</td></tr><tr><td>4</td><td>Empire 18</td><td>75</td></tr><tr><td>6</td><td>Empire 18</td><td>80</td></tr><tr><td>5</td><td>Empire 18</td><td>77</td></tr><tr><td>17</td><td>Empire 1</td><td>34</td></tr><tr><td>18</td><td>Empire 1</td><td>36</td></tr><tr><td>16</td><td>Empire 5</td><td>33</td></tr><tr><td>12</td><td>Empire 11</td><td>4</td></tr><tr><td>17</td><td>Empire 5</td><td>28</td></tr><tr><td>12</td><td>Empire 14</td><td>4</td></tr><tr><td>7</td><td>Empire 8</td><td>11</td></tr><tr><td>12</td><td>Empire 1</td><td>20</td></tr><tr><td>2</td><td>Empire 12</td><td>2</td></tr><tr><td>3</td><td>Empire 12</td><td>2</td></tr><tr><td>5</td><td>Empire 11</td><td>4</td></tr><tr><td>7</td><td>Empire 16</td><td>4</td></tr><tr><td>10</td><td>Empire 8</td><td>19</td></tr><tr><td>11</td><td>Empire 8</td><td>20</td></tr><tr><td>4</td><td>Empire 12</td><td>5</td></tr><tr><td>8</td><td>Empire 8</td><td>13</td></tr><tr><td>6</td><td>Empire 16</td><td>3</td></tr><tr><td>1</td><td>Empire 12</td><td>1</td></tr><tr><td>5</td><td>Empire 12</td><td>8</td></tr><tr><td>2</td><td>Empire 16</td><td>1</td></tr><tr><td>3</td><td>Empire 16</td><td>1</td></tr><tr><td>1</td><td>Empire 16</td><td>1</td></tr><tr><td>5</td><td>Empire 16</td><td>2</td></tr><tr><td>8</td><td>Empire 16</td><td>4</td></tr><tr><td>4</td><td>Empire 16</td><td>2</td></tr><tr><td>6</td><td>Empire 12</td><td>9</td></tr><tr><td>13</td><td>Empire 8</td><td>34</td></tr><tr><td>11</td><td>Empire 16</td><td>9</td></tr><tr><td>12</td><td>Empire 8</td><td>28</td></tr><tr><td>12</td><td>Empire 5</td><td>23</td></tr><tr><td>14</td><td>Empire 8</td><td>39</td></tr><tr><td>6</td><td>Empire 2</td><td>0</td></tr><tr><td>7</td><td>Empire 6</td><td>7</td></tr><tr><td>1</td><td>Empire 5</td><td>1</td></tr><tr><td>2</td><td>Empire 5</td><td>2</td></tr><tr><td>1</td><td>Empire 2</td><td>0</td></tr><tr><td>4</td><td>Empire 1</td><td>5</td></tr><tr><td>1</td><td>Empire 9</td><td>1</td></tr><tr><td>2</td><td>Empire 9</td><td>3</td></tr><tr><td>3</td><td>Empire 6</td><td>5</td></tr><tr><td>4</td><td>Empire 6</td><td>6</td></tr><tr><td>2</td><td>Empire 6</td><td>4</td></tr><tr><td>3</td><td>Empire 7</td><td>1</td></tr><tr><td>4</td><td>Empire 3</td><td>4</td></tr><tr><td>10</td><td>Empire 6</td><td>7</td></tr><tr><td>6</td><td>Empire 3</td><td>5</td></tr><tr><td>1</td><td>Empire 4</td><td>2</td></tr><tr><td>4</td><td>Empire 7</td><td>1</td></tr><tr><td>2</td><td>Empire 2</td><td>0</td></tr><tr><td>11</td><td>Empire 6</td><td>7</td></tr><tr><td>6</td><td>Empire 5</td><td>7</td></tr><tr><td>5</td><td>Empire 5</td><td>6</td></tr><tr><td>3</td><td>Empire 5</td><td>3</td></tr><tr><td>4</td><td>Empire 5</td><td>3</td></tr><tr><td>8</td><td>Empire 3</td><td>7</td></tr><tr><td>1</td><td>Empire 6</td><td>2</td></tr><tr><td>3</td><td>Empire 9</td><td>3</td></tr><tr><td>1</td><td>Empire 1</td><td>1</td></tr><tr><td>4</td><td>Empire 9</td><td>4</td></tr><tr><td>6</td><td>Empire 6</td><td>6</td></tr><tr><td>1</td><td>Empire 7</td><td>1</td></tr><tr><td>8</td><td>Empire 1</td><td>7</td></tr><tr><td>4</td><td>Empire 2</td><td>0</td></tr><tr><td>7</td><td>Empire 2</td><td>0</td></tr><tr><td>6</td><td>Empire 1</td><td>5</td></tr><tr><td>8</td><td>Empire 2</td><td>0</td></tr><tr><td>2</td><td>Empire 7</td><td>1</td></tr><tr><td>1</td><td>Empire 3</td><td>1</td></tr><tr><td>5</td><td>Empire 3</td><td>4</td></tr><tr><td>3</td><td>Empire 4</td><td>6</td></tr><tr><td>7</td><td>Empire 3</td><td>6</td></tr><tr><td>6</td><td>Empire 9</td><td>5</td></tr><tr><td>2</td><td>Empire 1</td><td>2</td></tr><tr><td>2</td><td>Empire 4</td><td>3</td></tr><tr><td>3</td><td>Empire 2</td><td>0</td></tr><tr><td>10</td><td>Empire 13</td><td>6</td></tr><tr><td>3</td><td>Empire 1</td><td>3</td></tr><tr><td>5</td><td>Empire 7</td><td>2</td></tr><tr><td>8</td><td>Empire 9</td><td>5</td></tr><tr><td>5</td><td>Empire 4</td><td>8</td></tr><tr><td>7</td><td>Empire 1</td><td>6</td></tr><tr><td>6</td><td>Empire 4</td><td>9</td></tr><tr><td>5</td><td>Empire 2</td><td>0</td></tr><tr><td>6</td><td>Empire 7</td><td>5</td></tr><tr><td>10</td><td>Empire 7</td><td>8</td></tr><tr><td>3</td><td>Empire 3</td><td>4</td></tr><tr><td>7</td><td>Empire 7</td><td>7</td></tr><tr><td>7</td><td>Empire 9</td><td>5</td></tr><tr><td>4</td><td>Empire 4</td><td>8</td></tr><tr><td>9</td><td>Empire 10</td><td>10</td></tr><tr><td>2</td><td>Empire 3</td><td>2</td></tr><tr><td>10</td><td>Empire 9</td><td>5</td></tr><tr><td>11</td><td>Empire 9</td><td>5</td></tr><tr><td>12</td><td>Empire 9</td><td>5</td></tr><tr><td>12</td><td>Empire 7</td><td>8</td></tr><tr><td>14</td><td>Empire 6</td><td>7</td></tr><tr><td>13</td><td>Empire 6</td><td>7</td></tr><tr><td>12</td><td>Empire 6</td><td>7</td></tr><tr><td>12</td><td>Empire 2</td><td>0</td></tr><tr><td>10</td><td>Empire 15</td><td>1</td></tr><tr><td>13</td><td>Empire 7</td><td>8</td></tr><tr><td>13</td><td>Empire 2</td><td>0</td></tr><tr><td>19</td><td>AI Empire</td><td>322</td></tr><tr><td>15</td><td>Empire 2</td><td>0</td></tr><tr><td>3</td><td>Empire 18</td><td>71</td></tr><tr><td>14</td><td>Empire 2</td><td>0</td></tr><tr><td>16</td><td>Empire 2</td><td>0</td></tr><tr><td>4</td><td>Empire 8</td><td>4</td></tr><tr><td>5</td><td>Empire 6</td><td>6</td></tr><tr><td>8</td><td>Empire 6</td><td>7</td></tr><tr><td>3</td><td>Empire 8</td><td>3</td></tr><tr><td>8</td><td>Empire 7</td><td>8</td></tr><tr><td>5</td><td>Empire 8</td><td>6</td></tr><tr><td>5</td><td>Empire 9</td><td>4</td></tr><tr><td>5</td><td>Empire 1</td><td>5</td></tr><tr><td>6</td><td>Empire 8</td><td>9</td></tr><tr><td>1</td><td>Empire 8</td><td>1</td></tr><tr><td>2</td><td>Empire 8</td><td>2</td></tr><tr><td>9</td><td>Empire 12</td><td>16</td></tr><tr><td>11</td><td>Empire 2</td><td>0</td></tr><tr><td>10</td><td>Empire 16</td><td>7</td></tr><tr><td>11</td><td>Empire 7</td><td>8</td></tr><tr><td>9</td><td>Empire 11</td><td>4</td></tr><tr><td>9</td><td>Empire 14</td><td>4</td></tr><tr><td>9</td><td>Empire 4</td><td>12</td></tr><tr><td>9</td><td>Empire 13</td><td>5</td></tr><tr><td>9</td><td>Empire 5</td><td>12</td></tr><tr><td>9</td><td>Empire 15</td><td>1</td></tr><tr><td>10</td><td>Empire 2</td><td>0</td></tr><tr><td>9</td><td>Empire 16</td><td>6</td></tr><tr><td>9</td><td>Empire 8</td><td>15</td></tr><tr><td>9</td><td>Empire 3</td><td>9</td></tr><tr><td>9</td><td>Empire 2</td><td>0</td></tr><tr><td>9</td><td>Empire 1</td><td>7</td></tr><tr><td>9</td><td>Empire 9</td><td>5</td></tr><tr><td>9</td><td>Empire 7</td><td>8</td></tr><tr><td>9</td><td>Empire 6</td><td>7</td></tr></tbody></table></div>"
      ]
     },
     "metadata": {
      "application/vnd.databricks.v1+output": {
       "addedWidgets": {},
       "aggData": [],
       "aggError": "",
       "aggOverflow": false,
       "aggSchema": [],
       "aggSeriesLimitReached": false,
       "aggType": "",
       "arguments": {},
       "columnCustomDisplayInfos": {},
       "data": [
        [
         "age",
         "empire_name",
         "territory_size"
        ],
        [
         "2",
         "Empire 18",
         "70"
        ],
        [
         "3",
         "Empire 23",
         "34"
        ],
        [
         "2",
         "Empire 22",
         "61"
        ],
        [
         "1",
         "Empire 24",
         "54"
        ],
        [
         "3",
         "Empire 21",
         "53"
        ],
        [
         "2",
         "Empire 24",
         "54"
        ],
        [
         "2",
         "Empire 23",
         "33"
        ],
        [
         "4",
         "Empire 23",
         "34"
        ],
        [
         "3",
         "Empire 24",
         "56"
        ],
        [
         "1",
         "Empire 21",
         "53"
        ],
        [
         "2",
         "Empire 21",
         "53"
        ],
        [
         "1",
         "Empire 22",
         "59"
        ],
        [
         "4",
         "Empire 21",
         "53"
        ],
        [
         "1",
         "Empire 23",
         "33"
        ],
        [
         "6",
         "AI Empire",
         "35"
        ],
        [
         "1",
         "Empire 18",
         "68"
        ],
        [
         "11",
         "AI Empire",
         "282"
        ],
        [
         "12",
         "AI Empire",
         "282"
        ],
        [
         "10",
         "AI Empire",
         "282"
        ],
        [
         "14",
         "AI Empire",
         "282"
        ],
        [
         "16",
         "AI Empire",
         "282"
        ],
        [
         "13",
         "AI Empire",
         "282"
        ],
        [
         "15",
         "AI Empire",
         "282"
        ],
        [
         "17",
         "AI Empire",
         "282"
        ],
        [
         "18",
         "AI Empire",
         "282"
        ],
        [
         "23",
         "AI Empire",
         "322"
        ],
        [
         "24",
         "AI Empire",
         "322"
        ],
        [
         "8",
         "AI Empire",
         "282"
        ],
        [
         "9",
         "AI Empire",
         "282"
        ],
        [
         "10",
         "Empire 10",
         "11"
        ],
        [
         "13",
         "Empire 13",
         "13"
        ],
        [
         "12",
         "Empire 13",
         "12"
        ],
        [
         "12",
         "Empire 10",
         "17"
        ],
        [
         "13",
         "Empire 10",
         "20"
        ],
        [
         "20",
         "AI Empire",
         "322"
        ],
        [
         "21",
         "AI Empire",
         "322"
        ],
        [
         "1",
         "Empire 19",
         "14"
        ],
        [
         "14",
         "Empire 13",
         "15"
        ],
        [
         "3",
         "Empire 19",
         "21"
        ],
        [
         "22",
         "AI Empire",
         "322"
        ],
        [
         "4",
         "Empire 19",
         "21"
        ],
        [
         "14",
         "Empire 10",
         "22"
        ],
        [
         "2",
         "Empire 19",
         "16"
        ],
        [
         "8",
         "Empire 12",
         "15"
        ],
        [
         "7",
         "Empire 12",
         "11"
        ],
        [
         "11",
         "Empire 12",
         "29"
        ],
        [
         "11",
         "Empire 10",
         "15"
        ],
        [
         "10",
         "Empire 12",
         "23"
        ],
        [
         "14",
         "Empire 16",
         "17"
        ],
        [
         "13",
         "Empire 16",
         "14"
        ],
        [
         "15",
         "Empire 16",
         "20"
        ],
        [
         "12",
         "Empire 16",
         "12"
        ],
        [
         "16",
         "Empire 16",
         "22"
        ],
        [
         "12",
         "Empire 12",
         "34"
        ],
        [
         "11",
         "Empire 3",
         "22"
        ],
        [
         "8",
         "Empire 10",
         "7"
        ],
        [
         "3",
         "AI Empire",
         "1"
        ],
        [
         "10",
         "Empire 11",
         "4"
        ],
        [
         "8",
         "Empire 11",
         "4"
        ],
        [
         "2",
         "Empire 13",
         "1"
        ],
        [
         "2",
         "Empire 10",
         "3"
        ],
        [
         "4",
         "AI Empire",
         "1"
        ],
        [
         "3",
         "Empire 15",
         "1"
        ],
        [
         "7",
         "Empire 13",
         "3"
        ],
        [
         "10",
         "Empire 1",
         "10"
        ],
        [
         "3",
         "Empire 13",
         "1"
        ],
        [
         "2",
         "AI Empire",
         "1"
        ],
        [
         "7",
         "AI Empire",
         "266"
        ],
        [
         "5",
         "AI Empire",
         "1"
        ],
        [
         "4",
         "Empire 11",
         "3"
        ],
        [
         "6",
         "Empire 11",
         "4"
        ],
        [
         "7",
         "Empire 5",
         "10"
        ],
        [
         "6",
         "Empire 13",
         "3"
        ],
        [
         "5",
         "Empire 15",
         "1"
        ],
        [
         "6",
         "Empire 15",
         "1"
        ],
        [
         "4",
         "Empire 15",
         "1"
        ],
        [
         "7",
         "Empire 11",
         "4"
        ],
        [
         "10",
         "Empire 14",
         "4"
        ],
        [
         "2",
         "Empire 14",
         "2"
        ],
        [
         "7",
         "Empire 15",
         "1"
        ],
        [
         "8",
         "Empire 5",
         "10"
        ],
        [
         "3",
         "Empire 10",
         "3"
        ],
        [
         "5",
         "Empire 10",
         "4"
        ],
        [
         "1",
         "Empire 14",
         "1"
        ],
        [
         "8",
         "Empire 4",
         "12"
        ],
        [
         "2",
         "Empire 15",
         "1"
        ],
        [
         "5",
         "Empire 14",
         "4"
        ],
        [
         "4",
         "Empire 14",
         "3"
        ],
        [
         "1",
         "Empire 10",
         "2"
        ],
        [
         "10",
         "Empire 5",
         "16"
        ],
        [
         "3",
         "Empire 11",
         "3"
        ],
        [
         "1",
         "Empire 11",
         "2"
        ],
        [
         "2",
         "Empire 11",
         "3"
        ],
        [
         "10",
         "Empire 3",
         "15"
        ],
        [
         "7",
         "Empire 14",
         "4"
        ],
        [
         "6",
         "Empire 10",
         "5"
        ],
        [
         "11",
         "Empire 1",
         "13"
        ],
        [
         "7",
         "Empire 10",
         "6"
        ],
        [
         "8",
         "Empire 14",
         "4"
        ],
        [
         "5",
         "Empire 13",
         "2"
        ],
        [
         "6",
         "Empire 14",
         "4"
        ],
        [
         "1",
         "Empire 15",
         "1"
        ],
        [
         "1",
         "AI Empire",
         "1"
        ],
        [
         "1",
         "Empire 13",
         "1"
        ],
        [
         "4",
         "Empire 10",
         "4"
        ],
        [
         "8",
         "Empire 13",
         "4"
        ],
        [
         "3",
         "Empire 14",
         "3"
        ],
        [
         "4",
         "Empire 13",
         "1"
        ],
        [
         "7",
         "Empire 4",
         "10"
        ],
        [
         "13",
         "Empire 3",
         "32"
        ],
        [
         "13",
         "Empire 4",
         "12"
        ],
        [
         "11",
         "Empire 13",
         "8"
        ],
        [
         "13",
         "Empire 1",
         "24"
        ],
        [
         "10",
         "Empire 4",
         "12"
        ],
        [
         "15",
         "Empire 1",
         "30"
        ],
        [
         "14",
         "Empire 1",
         "30"
        ],
        [
         "11",
         "Empire 5",
         "17"
        ],
        [
         "11",
         "Empire 15",
         "1"
        ],
        [
         "11",
         "Empire 14",
         "4"
        ],
        [
         "12",
         "Empire 3",
         "28"
        ],
        [
         "11",
         "Empire 11",
         "4"
        ],
        [
         "14",
         "Empire 5",
         "26"
        ],
        [
         "12",
         "Empire 4",
         "12"
        ],
        [
         "11",
         "Empire 4",
         "12"
        ],
        [
         "13",
         "Empire 5",
         "24"
        ],
        [
         "8",
         "Empire 15",
         "1"
        ],
        [
         "15",
         "Empire 5",
         "30"
        ],
        [
         "16",
         "Empire 1",
         "32"
        ],
        [
         "18",
         "Empire 5",
         "28"
        ],
        [
         "4",
         "Empire 18",
         "75"
        ],
        [
         "6",
         "Empire 18",
         "80"
        ],
        [
         "5",
         "Empire 18",
         "77"
        ],
        [
         "17",
         "Empire 1",
         "34"
        ],
        [
         "18",
         "Empire 1",
         "36"
        ],
        [
         "16",
         "Empire 5",
         "33"
        ],
        [
         "12",
         "Empire 11",
         "4"
        ],
        [
         "17",
         "Empire 5",
         "28"
        ],
        [
         "12",
         "Empire 14",
         "4"
        ],
        [
         "7",
         "Empire 8",
         "11"
        ],
        [
         "12",
         "Empire 1",
         "20"
        ],
        [
         "2",
         "Empire 12",
         "2"
        ],
        [
         "3",
         "Empire 12",
         "2"
        ],
        [
         "5",
         "Empire 11",
         "4"
        ],
        [
         "7",
         "Empire 16",
         "4"
        ],
        [
         "10",
         "Empire 8",
         "19"
        ],
        [
         "11",
         "Empire 8",
         "20"
        ],
        [
         "4",
         "Empire 12",
         "5"
        ],
        [
         "8",
         "Empire 8",
         "13"
        ],
        [
         "6",
         "Empire 16",
         "3"
        ],
        [
         "1",
         "Empire 12",
         "1"
        ],
        [
         "5",
         "Empire 12",
         "8"
        ],
        [
         "2",
         "Empire 16",
         "1"
        ],
        [
         "3",
         "Empire 16",
         "1"
        ],
        [
         "1",
         "Empire 16",
         "1"
        ],
        [
         "5",
         "Empire 16",
         "2"
        ],
        [
         "8",
         "Empire 16",
         "4"
        ],
        [
         "4",
         "Empire 16",
         "2"
        ],
        [
         "6",
         "Empire 12",
         "9"
        ],
        [
         "13",
         "Empire 8",
         "34"
        ],
        [
         "11",
         "Empire 16",
         "9"
        ],
        [
         "12",
         "Empire 8",
         "28"
        ],
        [
         "12",
         "Empire 5",
         "23"
        ],
        [
         "14",
         "Empire 8",
         "39"
        ],
        [
         "6",
         "Empire 2",
         "0"
        ],
        [
         "7",
         "Empire 6",
         "7"
        ],
        [
         "1",
         "Empire 5",
         "1"
        ],
        [
         "2",
         "Empire 5",
         "2"
        ],
        [
         "1",
         "Empire 2",
         "0"
        ],
        [
         "4",
         "Empire 1",
         "5"
        ],
        [
         "1",
         "Empire 9",
         "1"
        ],
        [
         "2",
         "Empire 9",
         "3"
        ],
        [
         "3",
         "Empire 6",
         "5"
        ],
        [
         "4",
         "Empire 6",
         "6"
        ],
        [
         "2",
         "Empire 6",
         "4"
        ],
        [
         "3",
         "Empire 7",
         "1"
        ],
        [
         "4",
         "Empire 3",
         "4"
        ],
        [
         "10",
         "Empire 6",
         "7"
        ],
        [
         "6",
         "Empire 3",
         "5"
        ],
        [
         "1",
         "Empire 4",
         "2"
        ],
        [
         "4",
         "Empire 7",
         "1"
        ],
        [
         "2",
         "Empire 2",
         "0"
        ],
        [
         "11",
         "Empire 6",
         "7"
        ],
        [
         "6",
         "Empire 5",
         "7"
        ],
        [
         "5",
         "Empire 5",
         "6"
        ],
        [
         "3",
         "Empire 5",
         "3"
        ],
        [
         "4",
         "Empire 5",
         "3"
        ],
        [
         "8",
         "Empire 3",
         "7"
        ],
        [
         "1",
         "Empire 6",
         "2"
        ],
        [
         "3",
         "Empire 9",
         "3"
        ],
        [
         "1",
         "Empire 1",
         "1"
        ],
        [
         "4",
         "Empire 9",
         "4"
        ],
        [
         "6",
         "Empire 6",
         "6"
        ],
        [
         "1",
         "Empire 7",
         "1"
        ],
        [
         "8",
         "Empire 1",
         "7"
        ],
        [
         "4",
         "Empire 2",
         "0"
        ],
        [
         "7",
         "Empire 2",
         "0"
        ],
        [
         "6",
         "Empire 1",
         "5"
        ],
        [
         "8",
         "Empire 2",
         "0"
        ],
        [
         "2",
         "Empire 7",
         "1"
        ],
        [
         "1",
         "Empire 3",
         "1"
        ],
        [
         "5",
         "Empire 3",
         "4"
        ],
        [
         "3",
         "Empire 4",
         "6"
        ],
        [
         "7",
         "Empire 3",
         "6"
        ],
        [
         "6",
         "Empire 9",
         "5"
        ],
        [
         "2",
         "Empire 1",
         "2"
        ],
        [
         "2",
         "Empire 4",
         "3"
        ],
        [
         "3",
         "Empire 2",
         "0"
        ],
        [
         "10",
         "Empire 13",
         "6"
        ],
        [
         "3",
         "Empire 1",
         "3"
        ],
        [
         "5",
         "Empire 7",
         "2"
        ],
        [
         "8",
         "Empire 9",
         "5"
        ],
        [
         "5",
         "Empire 4",
         "8"
        ],
        [
         "7",
         "Empire 1",
         "6"
        ],
        [
         "6",
         "Empire 4",
         "9"
        ],
        [
         "5",
         "Empire 2",
         "0"
        ],
        [
         "6",
         "Empire 7",
         "5"
        ],
        [
         "10",
         "Empire 7",
         "8"
        ],
        [
         "3",
         "Empire 3",
         "4"
        ],
        [
         "7",
         "Empire 7",
         "7"
        ],
        [
         "7",
         "Empire 9",
         "5"
        ],
        [
         "4",
         "Empire 4",
         "8"
        ],
        [
         "9",
         "Empire 10",
         "10"
        ],
        [
         "2",
         "Empire 3",
         "2"
        ],
        [
         "10",
         "Empire 9",
         "5"
        ],
        [
         "11",
         "Empire 9",
         "5"
        ],
        [
         "12",
         "Empire 9",
         "5"
        ],
        [
         "12",
         "Empire 7",
         "8"
        ],
        [
         "14",
         "Empire 6",
         "7"
        ],
        [
         "13",
         "Empire 6",
         "7"
        ],
        [
         "12",
         "Empire 6",
         "7"
        ],
        [
         "12",
         "Empire 2",
         "0"
        ],
        [
         "10",
         "Empire 15",
         "1"
        ],
        [
         "13",
         "Empire 7",
         "8"
        ],
        [
         "13",
         "Empire 2",
         "0"
        ],
        [
         "19",
         "AI Empire",
         "322"
        ],
        [
         "15",
         "Empire 2",
         "0"
        ],
        [
         "3",
         "Empire 18",
         "71"
        ],
        [
         "14",
         "Empire 2",
         "0"
        ],
        [
         "16",
         "Empire 2",
         "0"
        ],
        [
         "4",
         "Empire 8",
         "4"
        ],
        [
         "5",
         "Empire 6",
         "6"
        ],
        [
         "8",
         "Empire 6",
         "7"
        ],
        [
         "3",
         "Empire 8",
         "3"
        ],
        [
         "8",
         "Empire 7",
         "8"
        ],
        [
         "5",
         "Empire 8",
         "6"
        ],
        [
         "5",
         "Empire 9",
         "4"
        ],
        [
         "5",
         "Empire 1",
         "5"
        ],
        [
         "6",
         "Empire 8",
         "9"
        ],
        [
         "1",
         "Empire 8",
         "1"
        ],
        [
         "2",
         "Empire 8",
         "2"
        ],
        [
         "9",
         "Empire 12",
         "16"
        ],
        [
         "11",
         "Empire 2",
         "0"
        ],
        [
         "10",
         "Empire 16",
         "7"
        ],
        [
         "11",
         "Empire 7",
         "8"
        ],
        [
         "9",
         "Empire 11",
         "4"
        ],
        [
         "9",
         "Empire 14",
         "4"
        ],
        [
         "9",
         "Empire 4",
         "12"
        ],
        [
         "9",
         "Empire 13",
         "5"
        ],
        [
         "9",
         "Empire 5",
         "12"
        ],
        [
         "9",
         "Empire 15",
         "1"
        ],
        [
         "10",
         "Empire 2",
         "0"
        ],
        [
         "9",
         "Empire 16",
         "6"
        ],
        [
         "9",
         "Empire 8",
         "15"
        ],
        [
         "9",
         "Empire 3",
         "9"
        ],
        [
         "9",
         "Empire 2",
         "0"
        ],
        [
         "9",
         "Empire 1",
         "7"
        ],
        [
         "9",
         "Empire 9",
         "5"
        ],
        [
         "9",
         "Empire 7",
         "8"
        ],
        [
         "9",
         "Empire 6",
         "7"
        ]
       ],
       "datasetInfos": [],
       "dbfsResultPath": null,
       "isJsonSchema": true,
       "metadata": {},
       "overflow": false,
       "plotOptions": {
        "customPlotOptions": {},
        "displayType": "table",
        "pivotAggregation": null,
        "pivotColumns": null,
        "xColumns": null,
        "yColumns": null
       },
       "removedWidgets": [],
       "schema": [
        {
         "metadata": "{}",
         "name": "age",
         "type": "\"string\""
        },
        {
         "metadata": "{}",
         "name": "empire_name",
         "type": "\"string\""
        },
        {
         "metadata": "{}",
         "name": "territory_size",
         "type": "\"string\""
        }
       ],
       "type": "table"
      }
     },
     "output_type": "display_data"
    },
    {
     "data": {
      "text/html": [
       "<style scoped>\n",
       "  .table-result-container {\n",
       "    max-height: 300px;\n",
       "    overflow: auto;\n",
       "  }\n",
       "  table, th, td {\n",
       "    border: 1px solid black;\n",
       "    border-collapse: collapse;\n",
       "  }\n",
       "  th, td {\n",
       "    padding: 5px;\n",
       "  }\n",
       "  th {\n",
       "    text-align: left;\n",
       "  }\n",
       "</style><div class='table-result-container'><table class='table-result'><thead style='background-color: white'><tr><th>age</th><th>empire_name</th><th>economy</th></tr></thead><tbody><tr><td>age</td><td>empire_name</td><td>economy</td></tr><tr><td>2</td><td>Empire 18</td><td>548</td></tr><tr><td>3</td><td>Empire 23</td><td>580</td></tr><tr><td>2</td><td>Empire 22</td><td>516</td></tr><tr><td>1</td><td>Empire 24</td><td>298</td></tr><tr><td>3</td><td>Empire 21</td><td>694</td></tr><tr><td>2</td><td>Empire 24</td><td>498</td></tr><tr><td>2</td><td>Empire 23</td><td>420</td></tr><tr><td>4</td><td>Empire 23</td><td>742</td></tr><tr><td>3</td><td>Empire 24</td><td>698</td></tr><tr><td>1</td><td>Empire 21</td><td>298</td></tr><tr><td>2</td><td>Empire 21</td><td>496</td></tr><tr><td>1</td><td>Empire 22</td><td>307</td></tr><tr><td>4</td><td>Empire 21</td><td>892</td></tr><tr><td>1</td><td>Empire 23</td><td>260</td></tr><tr><td>6</td><td>AI Empire</td><td>610</td></tr><tr><td>1</td><td>Empire 18</td><td>323</td></tr><tr><td>11</td><td>AI Empire</td><td>2886</td></tr><tr><td>12</td><td>AI Empire</td><td>3419</td></tr><tr><td>10</td><td>AI Empire</td><td>2353</td></tr><tr><td>14</td><td>AI Empire</td><td>4485</td></tr><tr><td>16</td><td>AI Empire</td><td>3871</td></tr><tr><td>13</td><td>AI Empire</td><td>3952</td></tr><tr><td>15</td><td>AI Empire</td><td>3338</td></tr><tr><td>17</td><td>AI Empire</td><td>4404</td></tr><tr><td>18</td><td>AI Empire</td><td>4937</td></tr><tr><td>23</td><td>AI Empire</td><td>1160</td></tr><tr><td>24</td><td>AI Empire</td><td>1450</td></tr><tr><td>8</td><td>AI Empire</td><td>1287</td></tr><tr><td>9</td><td>AI Empire</td><td>1820</td></tr><tr><td>10</td><td>Empire 10</td><td>1040</td></tr><tr><td>13</td><td>Empire 13</td><td>1295</td></tr><tr><td>12</td><td>Empire 13</td><td>1182</td></tr><tr><td>12</td><td>Empire 10</td><td>1270</td></tr><tr><td>13</td><td>Empire 10</td><td>1395</td></tr><tr><td>20</td><td>AI Empire</td><td>290</td></tr><tr><td>21</td><td>AI Empire</td><td>580</td></tr><tr><td>1</td><td>Empire 19</td><td>213</td></tr><tr><td>14</td><td>Empire 13</td><td>1410</td></tr><tr><td>3</td><td>Empire 19</td><td>454</td></tr><tr><td>22</td><td>AI Empire</td><td>870</td></tr><tr><td>4</td><td>Empire 19</td><td>589</td></tr><tr><td>14</td><td>Empire 10</td><td>1528</td></tr><tr><td>2</td><td>Empire 19</td><td>331</td></tr><tr><td>8</td><td>Empire 12</td><td>859</td></tr><tr><td>7</td><td>Empire 12</td><td>749</td></tr><tr><td>11</td><td>Empire 12</td><td>1242</td></tr><tr><td>11</td><td>Empire 10</td><td>1150</td></tr><tr><td>10</td><td>Empire 12</td><td>1102</td></tr><tr><td>14</td><td>Empire 16</td><td>1426</td></tr><tr><td>13</td><td>Empire 16</td><td>1308</td></tr><tr><td>15</td><td>Empire 16</td><td>1551</td></tr><tr><td>12</td><td>Empire 16</td><td>1195</td></tr><tr><td>16</td><td>Empire 16</td><td>1684</td></tr><tr><td>12</td><td>Empire 12</td><td>1394</td></tr><tr><td>11</td><td>Empire 3</td><td>1155</td></tr><tr><td>8</td><td>Empire 10</td><td>832</td></tr><tr><td>3</td><td>AI Empire</td><td>355</td></tr><tr><td>10</td><td>Empire 11</td><td>1008</td></tr><tr><td>8</td><td>Empire 11</td><td>822</td></tr><tr><td>2</td><td>Empire 13</td><td>270</td></tr><tr><td>2</td><td>Empire 10</td><td>273</td></tr><tr><td>4</td><td>AI Empire</td><td>440</td></tr><tr><td>3</td><td>Empire 15</td><td>355</td></tr><tr><td>7</td><td>Empire 13</td><td>703</td></tr><tr><td>10</td><td>Empire 1</td><td>1031</td></tr><tr><td>3</td><td>Empire 13</td><td>355</td></tr><tr><td>2</td><td>AI Empire</td><td>270</td></tr><tr><td>7</td><td>AI Empire</td><td>774</td></tr><tr><td>5</td><td>AI Empire</td><td>525</td></tr><tr><td>4</td><td>Empire 11</td><td>453</td></tr><tr><td>6</td><td>Empire 11</td><td>636</td></tr><tr><td>7</td><td>Empire 5</td><td>736</td></tr><tr><td>6</td><td>Empire 13</td><td>613</td></tr><tr><td>5</td><td>Empire 15</td><td>525</td></tr><tr><td>6</td><td>Empire 15</td><td>610</td></tr><tr><td>4</td><td>Empire 15</td><td>440</td></tr><tr><td>7</td><td>Empire 11</td><td>729</td></tr><tr><td>10</td><td>Empire 14</td><td>1003</td></tr><tr><td>2</td><td>Empire 14</td><td>270</td></tr><tr><td>7</td><td>Empire 15</td><td>695</td></tr><tr><td>8</td><td>Empire 5</td><td>844</td></tr><tr><td>3</td><td>Empire 10</td><td>363</td></tr><tr><td>5</td><td>Empire 10</td><td>546</td></tr><tr><td>1</td><td>Empire 14</td><td>185</td></tr><tr><td>8</td><td>Empire 4</td><td>880</td></tr><tr><td>2</td><td>Empire 15</td><td>270</td></tr><tr><td>5</td><td>Empire 14</td><td>538</td></tr><tr><td>4</td><td>Empire 14</td><td>448</td></tr><tr><td>1</td><td>Empire 10</td><td>185</td></tr><tr><td>10</td><td>Empire 5</td><td>1065</td></tr><tr><td>3</td><td>Empire 11</td><td>363</td></tr><tr><td>1</td><td>Empire 11</td><td>185</td></tr><tr><td>2</td><td>Empire 11</td><td>273</td></tr><tr><td>10</td><td>Empire 3</td><td>1035</td></tr><tr><td>7</td><td>Empire 14</td><td>724</td></tr><tr><td>6</td><td>Empire 10</td><td>639</td></tr><tr><td>11</td><td>Empire 1</td><td>1139</td></tr><tr><td>7</td><td>Empire 10</td><td>734</td></tr><tr><td>8</td><td>Empire 14</td><td>817</td></tr><tr><td>5</td><td>Empire 13</td><td>525</td></tr><tr><td>6</td><td>Empire 14</td><td>631</td></tr><tr><td>1</td><td>Empire 15</td><td>185</td></tr><tr><td>1</td><td>AI Empire</td><td>185</td></tr><tr><td>1</td><td>Empire 13</td><td>185</td></tr><tr><td>4</td><td>Empire 10</td><td>453</td></tr><tr><td>8</td><td>Empire 13</td><td>793</td></tr><tr><td>3</td><td>Empire 14</td><td>358</td></tr><tr><td>4</td><td>Empire 13</td><td>440</td></tr><tr><td>7</td><td>Empire 4</td><td>772</td></tr><tr><td>13</td><td>Empire 3</td><td>1442</td></tr><tr><td>13</td><td>Empire 4</td><td>1445</td></tr><tr><td>11</td><td>Empire 13</td><td>1079</td></tr><tr><td>13</td><td>Empire 1</td><td>1387</td></tr><tr><td>10</td><td>Empire 4</td><td>1106</td></tr><tr><td>15</td><td>Empire 1</td><td>1671</td></tr><tr><td>14</td><td>Empire 1</td><td>1529</td></tr><tr><td>11</td><td>Empire 5</td><td>1188</td></tr><tr><td>11</td><td>Empire 15</td><td>1035</td></tr><tr><td>11</td><td>Empire 14</td><td>1096</td></tr><tr><td>12</td><td>Empire 3</td><td>1292</td></tr><tr><td>11</td><td>Empire 11</td><td>1101</td></tr><tr><td>14</td><td>Empire 5</td><td>1595</td></tr><tr><td>12</td><td>Empire 4</td><td>1332</td></tr><tr><td>11</td><td>Empire 4</td><td>1219</td></tr><tr><td>13</td><td>Empire 5</td><td>1453</td></tr><tr><td>8</td><td>Empire 15</td><td>780</td></tr><tr><td>15</td><td>Empire 5</td><td>1741</td></tr><tr><td>16</td><td>Empire 1</td><td>1825</td></tr><tr><td>18</td><td>Empire 5</td><td>1995</td></tr><tr><td>4</td><td>Empire 18</td><td>1006</td></tr><tr><td>6</td><td>Empire 18</td><td>1483</td></tr><tr><td>5</td><td>Empire 18</td><td>1243</td></tr><tr><td>17</td><td>Empire 1</td><td>1983</td></tr><tr><td>18</td><td>Empire 1</td><td>2145</td></tr><tr><td>16</td><td>Empire 5</td><td>1895</td></tr><tr><td>12</td><td>Empire 11</td><td>1194</td></tr><tr><td>17</td><td>Empire 5</td><td>1920</td></tr><tr><td>12</td><td>Empire 14</td><td>1189</td></tr><tr><td>7</td><td>Empire 8</td><td>744</td></tr><tr><td>12</td><td>Empire 1</td><td>1254</td></tr><tr><td>2</td><td>Empire 12</td><td>270</td></tr><tr><td>3</td><td>Empire 12</td><td>358</td></tr><tr><td>5</td><td>Empire 11</td><td>543</td></tr><tr><td>7</td><td>Empire 16</td><td>706</td></tr><tr><td>10</td><td>Empire 8</td><td>1089</td></tr><tr><td>11</td><td>Empire 8</td><td>1219</td></tr><tr><td>4</td><td>Empire 12</td><td>446</td></tr><tr><td>8</td><td>Empire 8</td><td>854</td></tr><tr><td>6</td><td>Empire 16</td><td>616</td></tr><tr><td>1</td><td>Empire 12</td><td>185</td></tr><tr><td>5</td><td>Empire 12</td><td>541</td></tr><tr><td>2</td><td>Empire 16</td><td>270</td></tr><tr><td>3</td><td>Empire 16</td><td>355</td></tr><tr><td>1</td><td>Empire 16</td><td>185</td></tr><tr><td>5</td><td>Empire 16</td><td>528</td></tr><tr><td>8</td><td>Empire 16</td><td>799</td></tr><tr><td>4</td><td>Empire 16</td><td>440</td></tr><tr><td>6</td><td>Empire 12</td><td>644</td></tr><tr><td>13</td><td>Empire 8</td><td>1502</td></tr><tr><td>11</td><td>Empire 16</td><td>1090</td></tr><tr><td>12</td><td>Empire 8</td><td>1352</td></tr><tr><td>12</td><td>Empire 5</td><td>1313</td></tr><tr><td>14</td><td>Empire 8</td><td>1664</td></tr><tr><td>6</td><td>Empire 2</td><td>598</td></tr><tr><td>7</td><td>Empire 6</td><td>755</td></tr><tr><td>1</td><td>Empire 5</td><td>185</td></tr><tr><td>2</td><td>Empire 5</td><td>270</td></tr><tr><td>1</td><td>Empire 2</td><td>183</td></tr><tr><td>4</td><td>Empire 1</td><td>448</td></tr><tr><td>1</td><td>Empire 9</td><td>185</td></tr><tr><td>2</td><td>Empire 9</td><td>270</td></tr><tr><td>3</td><td>Empire 6</td><td>366</td></tr><tr><td>4</td><td>Empire 6</td><td>461</td></tr><tr><td>2</td><td>Empire 6</td><td>273</td></tr><tr><td>3</td><td>Empire 7</td><td>355</td></tr><tr><td>4</td><td>Empire 3</td><td>451</td></tr><tr><td>10</td><td>Empire 6</td><td>1055</td></tr><tr><td>6</td><td>Empire 3</td><td>637</td></tr><tr><td>1</td><td>Empire 4</td><td>185</td></tr><tr><td>4</td><td>Empire 7</td><td>440</td></tr><tr><td>2</td><td>Empire 2</td><td>266</td></tr><tr><td>11</td><td>Empire 6</td><td>1155</td></tr><tr><td>6</td><td>Empire 5</td><td>636</td></tr><tr><td>5</td><td>Empire 5</td><td>538</td></tr><tr><td>3</td><td>Empire 5</td><td>358</td></tr><tr><td>4</td><td>Empire 5</td><td>448</td></tr><tr><td>8</td><td>Empire 3</td><td>830</td></tr><tr><td>1</td><td>Empire 6</td><td>185</td></tr><tr><td>3</td><td>Empire 9</td><td>360</td></tr><tr><td>1</td><td>Empire 1</td><td>185</td></tr><tr><td>4</td><td>Empire 9</td><td>450</td></tr><tr><td>6</td><td>Empire 6</td><td>657</td></tr><tr><td>1</td><td>Empire 7</td><td>185</td></tr><tr><td>8</td><td>Empire 1</td><td>831</td></tr><tr><td>4</td><td>Empire 2</td><td>432</td></tr><tr><td>7</td><td>Empire 2</td><td>681</td></tr><tr><td>6</td><td>Empire 1</td><td>638</td></tr><tr><td>8</td><td>Empire 2</td><td>764</td></tr><tr><td>2</td><td>Empire 7</td><td>270</td></tr><tr><td>1</td><td>Empire 3</td><td>185</td></tr><tr><td>5</td><td>Empire 3</td><td>544</td></tr><tr><td>3</td><td>Empire 4</td><td>363</td></tr><tr><td>7</td><td>Empire 3</td><td>732</td></tr><tr><td>6</td><td>Empire 9</td><td>636</td></tr><tr><td>2</td><td>Empire 1</td><td>270</td></tr><tr><td>2</td><td>Empire 4</td><td>273</td></tr><tr><td>3</td><td>Empire 2</td><td>349</td></tr><tr><td>10</td><td>Empire 13</td><td>981</td></tr><tr><td>3</td><td>Empire 1</td><td>358</td></tr><tr><td>5</td><td>Empire 7</td><td>525</td></tr><tr><td>8</td><td>Empire 9</td><td>826</td></tr><tr><td>5</td><td>Empire 4</td><td>564</td></tr><tr><td>7</td><td>Empire 1</td><td>733</td></tr><tr><td>6</td><td>Empire 4</td><td>667</td></tr><tr><td>5</td><td>Empire 2</td><td>515</td></tr><tr><td>6</td><td>Empire 7</td><td>613</td></tr><tr><td>10</td><td>Empire 7</td><td>1014</td></tr><tr><td>3</td><td>Empire 3</td><td>358</td></tr><tr><td>7</td><td>Empire 7</td><td>708</td></tr><tr><td>7</td><td>Empire 9</td><td>731</td></tr><tr><td>4</td><td>Empire 4</td><td>461</td></tr><tr><td>9</td><td>Empire 10</td><td>932</td></tr><tr><td>2</td><td>Empire 3</td><td>270</td></tr><tr><td>10</td><td>Empire 9</td><td>1016</td></tr><tr><td>11</td><td>Empire 9</td><td>1111</td></tr><tr><td>12</td><td>Empire 9</td><td>1206</td></tr><tr><td>12</td><td>Empire 7</td><td>1220</td></tr><tr><td>14</td><td>Empire 6</td><td>1455</td></tr><tr><td>13</td><td>Empire 6</td><td>1355</td></tr><tr><td>12</td><td>Empire 6</td><td>1255</td></tr><tr><td>12</td><td>Empire 2</td><td>1096</td></tr><tr><td>10</td><td>Empire 15</td><td>950</td></tr><tr><td>13</td><td>Empire 7</td><td>1323</td></tr><tr><td>13</td><td>Empire 2</td><td>1179</td></tr><tr><td>19</td><td>AI Empire</td><td>0</td></tr><tr><td>15</td><td>Empire 2</td><td>1345</td></tr><tr><td>3</td><td>Empire 18</td><td>776</td></tr><tr><td>14</td><td>Empire 2</td><td>1262</td></tr><tr><td>16</td><td>Empire 2</td><td>1428</td></tr><tr><td>4</td><td>Empire 8</td><td>448</td></tr><tr><td>5</td><td>Empire 6</td><td>559</td></tr><tr><td>8</td><td>Empire 6</td><td>855</td></tr><tr><td>3</td><td>Empire 8</td><td>358</td></tr><tr><td>8</td><td>Empire 7</td><td>808</td></tr><tr><td>5</td><td>Empire 8</td><td>541</td></tr><tr><td>5</td><td>Empire 9</td><td>543</td></tr><tr><td>5</td><td>Empire 1</td><td>543</td></tr><tr><td>6</td><td>Empire 8</td><td>639</td></tr><tr><td>1</td><td>Empire 8</td><td>185</td></tr><tr><td>2</td><td>Empire 8</td><td>270</td></tr><tr><td>9</td><td>Empire 12</td><td>979</td></tr><tr><td>11</td><td>Empire 2</td><td>1013</td></tr><tr><td>10</td><td>Empire 16</td><td>990</td></tr><tr><td>11</td><td>Empire 7</td><td>1117</td></tr><tr><td>9</td><td>Empire 11</td><td>915</td></tr><tr><td>9</td><td>Empire 14</td><td>910</td></tr><tr><td>9</td><td>Empire 4</td><td>993</td></tr><tr><td>9</td><td>Empire 13</td><td>886</td></tr><tr><td>9</td><td>Empire 5</td><td>952</td></tr><tr><td>9</td><td>Empire 15</td><td>865</td></tr><tr><td>10</td><td>Empire 2</td><td>930</td></tr><tr><td>9</td><td>Empire 16</td><td>892</td></tr><tr><td>9</td><td>Empire 8</td><td>969</td></tr><tr><td>9</td><td>Empire 3</td><td>930</td></tr><tr><td>9</td><td>Empire 2</td><td>847</td></tr><tr><td>9</td><td>Empire 1</td><td>931</td></tr><tr><td>9</td><td>Empire 9</td><td>921</td></tr><tr><td>9</td><td>Empire 7</td><td>911</td></tr><tr><td>9</td><td>Empire 6</td><td>955</td></tr></tbody></table></div>"
      ]
     },
     "metadata": {
      "application/vnd.databricks.v1+output": {
       "addedWidgets": {},
       "aggData": [],
       "aggError": "",
       "aggOverflow": false,
       "aggSchema": [],
       "aggSeriesLimitReached": false,
       "aggType": "",
       "arguments": {},
       "columnCustomDisplayInfos": {},
       "data": [
        [
         "age",
         "empire_name",
         "economy"
        ],
        [
         "2",
         "Empire 18",
         "548"
        ],
        [
         "3",
         "Empire 23",
         "580"
        ],
        [
         "2",
         "Empire 22",
         "516"
        ],
        [
         "1",
         "Empire 24",
         "298"
        ],
        [
         "3",
         "Empire 21",
         "694"
        ],
        [
         "2",
         "Empire 24",
         "498"
        ],
        [
         "2",
         "Empire 23",
         "420"
        ],
        [
         "4",
         "Empire 23",
         "742"
        ],
        [
         "3",
         "Empire 24",
         "698"
        ],
        [
         "1",
         "Empire 21",
         "298"
        ],
        [
         "2",
         "Empire 21",
         "496"
        ],
        [
         "1",
         "Empire 22",
         "307"
        ],
        [
         "4",
         "Empire 21",
         "892"
        ],
        [
         "1",
         "Empire 23",
         "260"
        ],
        [
         "6",
         "AI Empire",
         "610"
        ],
        [
         "1",
         "Empire 18",
         "323"
        ],
        [
         "11",
         "AI Empire",
         "2886"
        ],
        [
         "12",
         "AI Empire",
         "3419"
        ],
        [
         "10",
         "AI Empire",
         "2353"
        ],
        [
         "14",
         "AI Empire",
         "4485"
        ],
        [
         "16",
         "AI Empire",
         "3871"
        ],
        [
         "13",
         "AI Empire",
         "3952"
        ],
        [
         "15",
         "AI Empire",
         "3338"
        ],
        [
         "17",
         "AI Empire",
         "4404"
        ],
        [
         "18",
         "AI Empire",
         "4937"
        ],
        [
         "23",
         "AI Empire",
         "1160"
        ],
        [
         "24",
         "AI Empire",
         "1450"
        ],
        [
         "8",
         "AI Empire",
         "1287"
        ],
        [
         "9",
         "AI Empire",
         "1820"
        ],
        [
         "10",
         "Empire 10",
         "1040"
        ],
        [
         "13",
         "Empire 13",
         "1295"
        ],
        [
         "12",
         "Empire 13",
         "1182"
        ],
        [
         "12",
         "Empire 10",
         "1270"
        ],
        [
         "13",
         "Empire 10",
         "1395"
        ],
        [
         "20",
         "AI Empire",
         "290"
        ],
        [
         "21",
         "AI Empire",
         "580"
        ],
        [
         "1",
         "Empire 19",
         "213"
        ],
        [
         "14",
         "Empire 13",
         "1410"
        ],
        [
         "3",
         "Empire 19",
         "454"
        ],
        [
         "22",
         "AI Empire",
         "870"
        ],
        [
         "4",
         "Empire 19",
         "589"
        ],
        [
         "14",
         "Empire 10",
         "1528"
        ],
        [
         "2",
         "Empire 19",
         "331"
        ],
        [
         "8",
         "Empire 12",
         "859"
        ],
        [
         "7",
         "Empire 12",
         "749"
        ],
        [
         "11",
         "Empire 12",
         "1242"
        ],
        [
         "11",
         "Empire 10",
         "1150"
        ],
        [
         "10",
         "Empire 12",
         "1102"
        ],
        [
         "14",
         "Empire 16",
         "1426"
        ],
        [
         "13",
         "Empire 16",
         "1308"
        ],
        [
         "15",
         "Empire 16",
         "1551"
        ],
        [
         "12",
         "Empire 16",
         "1195"
        ],
        [
         "16",
         "Empire 16",
         "1684"
        ],
        [
         "12",
         "Empire 12",
         "1394"
        ],
        [
         "11",
         "Empire 3",
         "1155"
        ],
        [
         "8",
         "Empire 10",
         "832"
        ],
        [
         "3",
         "AI Empire",
         "355"
        ],
        [
         "10",
         "Empire 11",
         "1008"
        ],
        [
         "8",
         "Empire 11",
         "822"
        ],
        [
         "2",
         "Empire 13",
         "270"
        ],
        [
         "2",
         "Empire 10",
         "273"
        ],
        [
         "4",
         "AI Empire",
         "440"
        ],
        [
         "3",
         "Empire 15",
         "355"
        ],
        [
         "7",
         "Empire 13",
         "703"
        ],
        [
         "10",
         "Empire 1",
         "1031"
        ],
        [
         "3",
         "Empire 13",
         "355"
        ],
        [
         "2",
         "AI Empire",
         "270"
        ],
        [
         "7",
         "AI Empire",
         "774"
        ],
        [
         "5",
         "AI Empire",
         "525"
        ],
        [
         "4",
         "Empire 11",
         "453"
        ],
        [
         "6",
         "Empire 11",
         "636"
        ],
        [
         "7",
         "Empire 5",
         "736"
        ],
        [
         "6",
         "Empire 13",
         "613"
        ],
        [
         "5",
         "Empire 15",
         "525"
        ],
        [
         "6",
         "Empire 15",
         "610"
        ],
        [
         "4",
         "Empire 15",
         "440"
        ],
        [
         "7",
         "Empire 11",
         "729"
        ],
        [
         "10",
         "Empire 14",
         "1003"
        ],
        [
         "2",
         "Empire 14",
         "270"
        ],
        [
         "7",
         "Empire 15",
         "695"
        ],
        [
         "8",
         "Empire 5",
         "844"
        ],
        [
         "3",
         "Empire 10",
         "363"
        ],
        [
         "5",
         "Empire 10",
         "546"
        ],
        [
         "1",
         "Empire 14",
         "185"
        ],
        [
         "8",
         "Empire 4",
         "880"
        ],
        [
         "2",
         "Empire 15",
         "270"
        ],
        [
         "5",
         "Empire 14",
         "538"
        ],
        [
         "4",
         "Empire 14",
         "448"
        ],
        [
         "1",
         "Empire 10",
         "185"
        ],
        [
         "10",
         "Empire 5",
         "1065"
        ],
        [
         "3",
         "Empire 11",
         "363"
        ],
        [
         "1",
         "Empire 11",
         "185"
        ],
        [
         "2",
         "Empire 11",
         "273"
        ],
        [
         "10",
         "Empire 3",
         "1035"
        ],
        [
         "7",
         "Empire 14",
         "724"
        ],
        [
         "6",
         "Empire 10",
         "639"
        ],
        [
         "11",
         "Empire 1",
         "1139"
        ],
        [
         "7",
         "Empire 10",
         "734"
        ],
        [
         "8",
         "Empire 14",
         "817"
        ],
        [
         "5",
         "Empire 13",
         "525"
        ],
        [
         "6",
         "Empire 14",
         "631"
        ],
        [
         "1",
         "Empire 15",
         "185"
        ],
        [
         "1",
         "AI Empire",
         "185"
        ],
        [
         "1",
         "Empire 13",
         "185"
        ],
        [
         "4",
         "Empire 10",
         "453"
        ],
        [
         "8",
         "Empire 13",
         "793"
        ],
        [
         "3",
         "Empire 14",
         "358"
        ],
        [
         "4",
         "Empire 13",
         "440"
        ],
        [
         "7",
         "Empire 4",
         "772"
        ],
        [
         "13",
         "Empire 3",
         "1442"
        ],
        [
         "13",
         "Empire 4",
         "1445"
        ],
        [
         "11",
         "Empire 13",
         "1079"
        ],
        [
         "13",
         "Empire 1",
         "1387"
        ],
        [
         "10",
         "Empire 4",
         "1106"
        ],
        [
         "15",
         "Empire 1",
         "1671"
        ],
        [
         "14",
         "Empire 1",
         "1529"
        ],
        [
         "11",
         "Empire 5",
         "1188"
        ],
        [
         "11",
         "Empire 15",
         "1035"
        ],
        [
         "11",
         "Empire 14",
         "1096"
        ],
        [
         "12",
         "Empire 3",
         "1292"
        ],
        [
         "11",
         "Empire 11",
         "1101"
        ],
        [
         "14",
         "Empire 5",
         "1595"
        ],
        [
         "12",
         "Empire 4",
         "1332"
        ],
        [
         "11",
         "Empire 4",
         "1219"
        ],
        [
         "13",
         "Empire 5",
         "1453"
        ],
        [
         "8",
         "Empire 15",
         "780"
        ],
        [
         "15",
         "Empire 5",
         "1741"
        ],
        [
         "16",
         "Empire 1",
         "1825"
        ],
        [
         "18",
         "Empire 5",
         "1995"
        ],
        [
         "4",
         "Empire 18",
         "1006"
        ],
        [
         "6",
         "Empire 18",
         "1483"
        ],
        [
         "5",
         "Empire 18",
         "1243"
        ],
        [
         "17",
         "Empire 1",
         "1983"
        ],
        [
         "18",
         "Empire 1",
         "2145"
        ],
        [
         "16",
         "Empire 5",
         "1895"
        ],
        [
         "12",
         "Empire 11",
         "1194"
        ],
        [
         "17",
         "Empire 5",
         "1920"
        ],
        [
         "12",
         "Empire 14",
         "1189"
        ],
        [
         "7",
         "Empire 8",
         "744"
        ],
        [
         "12",
         "Empire 1",
         "1254"
        ],
        [
         "2",
         "Empire 12",
         "270"
        ],
        [
         "3",
         "Empire 12",
         "358"
        ],
        [
         "5",
         "Empire 11",
         "543"
        ],
        [
         "7",
         "Empire 16",
         "706"
        ],
        [
         "10",
         "Empire 8",
         "1089"
        ],
        [
         "11",
         "Empire 8",
         "1219"
        ],
        [
         "4",
         "Empire 12",
         "446"
        ],
        [
         "8",
         "Empire 8",
         "854"
        ],
        [
         "6",
         "Empire 16",
         "616"
        ],
        [
         "1",
         "Empire 12",
         "185"
        ],
        [
         "5",
         "Empire 12",
         "541"
        ],
        [
         "2",
         "Empire 16",
         "270"
        ],
        [
         "3",
         "Empire 16",
         "355"
        ],
        [
         "1",
         "Empire 16",
         "185"
        ],
        [
         "5",
         "Empire 16",
         "528"
        ],
        [
         "8",
         "Empire 16",
         "799"
        ],
        [
         "4",
         "Empire 16",
         "440"
        ],
        [
         "6",
         "Empire 12",
         "644"
        ],
        [
         "13",
         "Empire 8",
         "1502"
        ],
        [
         "11",
         "Empire 16",
         "1090"
        ],
        [
         "12",
         "Empire 8",
         "1352"
        ],
        [
         "12",
         "Empire 5",
         "1313"
        ],
        [
         "14",
         "Empire 8",
         "1664"
        ],
        [
         "6",
         "Empire 2",
         "598"
        ],
        [
         "7",
         "Empire 6",
         "755"
        ],
        [
         "1",
         "Empire 5",
         "185"
        ],
        [
         "2",
         "Empire 5",
         "270"
        ],
        [
         "1",
         "Empire 2",
         "183"
        ],
        [
         "4",
         "Empire 1",
         "448"
        ],
        [
         "1",
         "Empire 9",
         "185"
        ],
        [
         "2",
         "Empire 9",
         "270"
        ],
        [
         "3",
         "Empire 6",
         "366"
        ],
        [
         "4",
         "Empire 6",
         "461"
        ],
        [
         "2",
         "Empire 6",
         "273"
        ],
        [
         "3",
         "Empire 7",
         "355"
        ],
        [
         "4",
         "Empire 3",
         "451"
        ],
        [
         "10",
         "Empire 6",
         "1055"
        ],
        [
         "6",
         "Empire 3",
         "637"
        ],
        [
         "1",
         "Empire 4",
         "185"
        ],
        [
         "4",
         "Empire 7",
         "440"
        ],
        [
         "2",
         "Empire 2",
         "266"
        ],
        [
         "11",
         "Empire 6",
         "1155"
        ],
        [
         "6",
         "Empire 5",
         "636"
        ],
        [
         "5",
         "Empire 5",
         "538"
        ],
        [
         "3",
         "Empire 5",
         "358"
        ],
        [
         "4",
         "Empire 5",
         "448"
        ],
        [
         "8",
         "Empire 3",
         "830"
        ],
        [
         "1",
         "Empire 6",
         "185"
        ],
        [
         "3",
         "Empire 9",
         "360"
        ],
        [
         "1",
         "Empire 1",
         "185"
        ],
        [
         "4",
         "Empire 9",
         "450"
        ],
        [
         "6",
         "Empire 6",
         "657"
        ],
        [
         "1",
         "Empire 7",
         "185"
        ],
        [
         "8",
         "Empire 1",
         "831"
        ],
        [
         "4",
         "Empire 2",
         "432"
        ],
        [
         "7",
         "Empire 2",
         "681"
        ],
        [
         "6",
         "Empire 1",
         "638"
        ],
        [
         "8",
         "Empire 2",
         "764"
        ],
        [
         "2",
         "Empire 7",
         "270"
        ],
        [
         "1",
         "Empire 3",
         "185"
        ],
        [
         "5",
         "Empire 3",
         "544"
        ],
        [
         "3",
         "Empire 4",
         "363"
        ],
        [
         "7",
         "Empire 3",
         "732"
        ],
        [
         "6",
         "Empire 9",
         "636"
        ],
        [
         "2",
         "Empire 1",
         "270"
        ],
        [
         "2",
         "Empire 4",
         "273"
        ],
        [
         "3",
         "Empire 2",
         "349"
        ],
        [
         "10",
         "Empire 13",
         "981"
        ],
        [
         "3",
         "Empire 1",
         "358"
        ],
        [
         "5",
         "Empire 7",
         "525"
        ],
        [
         "8",
         "Empire 9",
         "826"
        ],
        [
         "5",
         "Empire 4",
         "564"
        ],
        [
         "7",
         "Empire 1",
         "733"
        ],
        [
         "6",
         "Empire 4",
         "667"
        ],
        [
         "5",
         "Empire 2",
         "515"
        ],
        [
         "6",
         "Empire 7",
         "613"
        ],
        [
         "10",
         "Empire 7",
         "1014"
        ],
        [
         "3",
         "Empire 3",
         "358"
        ],
        [
         "7",
         "Empire 7",
         "708"
        ],
        [
         "7",
         "Empire 9",
         "731"
        ],
        [
         "4",
         "Empire 4",
         "461"
        ],
        [
         "9",
         "Empire 10",
         "932"
        ],
        [
         "2",
         "Empire 3",
         "270"
        ],
        [
         "10",
         "Empire 9",
         "1016"
        ],
        [
         "11",
         "Empire 9",
         "1111"
        ],
        [
         "12",
         "Empire 9",
         "1206"
        ],
        [
         "12",
         "Empire 7",
         "1220"
        ],
        [
         "14",
         "Empire 6",
         "1455"
        ],
        [
         "13",
         "Empire 6",
         "1355"
        ],
        [
         "12",
         "Empire 6",
         "1255"
        ],
        [
         "12",
         "Empire 2",
         "1096"
        ],
        [
         "10",
         "Empire 15",
         "950"
        ],
        [
         "13",
         "Empire 7",
         "1323"
        ],
        [
         "13",
         "Empire 2",
         "1179"
        ],
        [
         "19",
         "AI Empire",
         "0"
        ],
        [
         "15",
         "Empire 2",
         "1345"
        ],
        [
         "3",
         "Empire 18",
         "776"
        ],
        [
         "14",
         "Empire 2",
         "1262"
        ],
        [
         "16",
         "Empire 2",
         "1428"
        ],
        [
         "4",
         "Empire 8",
         "448"
        ],
        [
         "5",
         "Empire 6",
         "559"
        ],
        [
         "8",
         "Empire 6",
         "855"
        ],
        [
         "3",
         "Empire 8",
         "358"
        ],
        [
         "8",
         "Empire 7",
         "808"
        ],
        [
         "5",
         "Empire 8",
         "541"
        ],
        [
         "5",
         "Empire 9",
         "543"
        ],
        [
         "5",
         "Empire 1",
         "543"
        ],
        [
         "6",
         "Empire 8",
         "639"
        ],
        [
         "1",
         "Empire 8",
         "185"
        ],
        [
         "2",
         "Empire 8",
         "270"
        ],
        [
         "9",
         "Empire 12",
         "979"
        ],
        [
         "11",
         "Empire 2",
         "1013"
        ],
        [
         "10",
         "Empire 16",
         "990"
        ],
        [
         "11",
         "Empire 7",
         "1117"
        ],
        [
         "9",
         "Empire 11",
         "915"
        ],
        [
         "9",
         "Empire 14",
         "910"
        ],
        [
         "9",
         "Empire 4",
         "993"
        ],
        [
         "9",
         "Empire 13",
         "886"
        ],
        [
         "9",
         "Empire 5",
         "952"
        ],
        [
         "9",
         "Empire 15",
         "865"
        ],
        [
         "10",
         "Empire 2",
         "930"
        ],
        [
         "9",
         "Empire 16",
         "892"
        ],
        [
         "9",
         "Empire 8",
         "969"
        ],
        [
         "9",
         "Empire 3",
         "930"
        ],
        [
         "9",
         "Empire 2",
         "847"
        ],
        [
         "9",
         "Empire 1",
         "931"
        ],
        [
         "9",
         "Empire 9",
         "921"
        ],
        [
         "9",
         "Empire 7",
         "911"
        ],
        [
         "9",
         "Empire 6",
         "955"
        ]
       ],
       "datasetInfos": [],
       "dbfsResultPath": null,
       "isJsonSchema": true,
       "metadata": {},
       "overflow": false,
       "plotOptions": {
        "customPlotOptions": {},
        "displayType": "table",
        "pivotAggregation": null,
        "pivotColumns": null,
        "xColumns": null,
        "yColumns": null
       },
       "removedWidgets": [],
       "schema": [
        {
         "metadata": "{}",
         "name": "age",
         "type": "\"string\""
        },
        {
         "metadata": "{}",
         "name": "empire_name",
         "type": "\"string\""
        },
        {
         "metadata": "{}",
         "name": "economy",
         "type": "\"string\""
        }
       ],
       "type": "table"
      }
     },
     "output_type": "display_data"
    },
    {
     "data": {
      "text/html": [
       "<style scoped>\n",
       "  .table-result-container {\n",
       "    max-height: 300px;\n",
       "    overflow: auto;\n",
       "  }\n",
       "  table, th, td {\n",
       "    border: 1px solid black;\n",
       "    border-collapse: collapse;\n",
       "  }\n",
       "  th, td {\n",
       "    padding: 5px;\n",
       "  }\n",
       "  th {\n",
       "    text-align: left;\n",
       "  }\n",
       "</style><div class='table-result-container'><table class='table-result'><thead style='background-color: white'><tr><th>age</th><th>empire_name</th><th>stability</th></tr></thead><tbody><tr><td>age</td><td>empire_name</td><td>stability</td></tr><tr><td>2</td><td>Empire 18</td><td>0.2599999999999998</td></tr><tr><td>3</td><td>Empire 23</td><td>1.9599999999999995</td></tr><tr><td>2</td><td>Empire 22</td><td>0.6200000000000001</td></tr><tr><td>1</td><td>Empire 24</td><td>0.9199999999999999</td></tr><tr><td>3</td><td>Empire 21</td><td>0.7599999999999998</td></tr><tr><td>2</td><td>Empire 24</td><td>0.8199999999999998</td></tr><tr><td>2</td><td>Empire 23</td><td>1.6399999999999997</td></tr><tr><td>4</td><td>Empire 23</td><td>2.2599999999999993</td></tr><tr><td>3</td><td>Empire 24</td><td>0.7199999999999998</td></tr><tr><td>1</td><td>Empire 21</td><td>0.9199999999999999</td></tr><tr><td>2</td><td>Empire 21</td><td>0.8399999999999999</td></tr><tr><td>1</td><td>Empire 22</td><td>0.8200000000000001</td></tr><tr><td>4</td><td>Empire 21</td><td>0.6799999999999997</td></tr><tr><td>1</td><td>Empire 23</td><td>1.3199999999999998</td></tr><tr><td>6</td><td>AI Empire</td><td>4.9999999999999964</td></tr><tr><td>1</td><td>Empire 18</td><td>0.6399999999999999</td></tr><tr><td>11</td><td>AI Empire</td><td>5</td></tr><tr><td>12</td><td>AI Empire</td><td>5</td></tr><tr><td>10</td><td>AI Empire</td><td>5</td></tr><tr><td>14</td><td>AI Empire</td><td>5</td></tr><tr><td>16</td><td>AI Empire</td><td>5</td></tr><tr><td>13</td><td>AI Empire</td><td>5</td></tr><tr><td>15</td><td>AI Empire</td><td>5</td></tr><tr><td>17</td><td>AI Empire</td><td>5</td></tr><tr><td>18</td><td>AI Empire</td><td>5</td></tr><tr><td>23</td><td>AI Empire</td><td>5</td></tr><tr><td>24</td><td>AI Empire</td><td>5</td></tr><tr><td>8</td><td>AI Empire</td><td>5</td></tr><tr><td>9</td><td>AI Empire</td><td>5</td></tr><tr><td>10</td><td>Empire 10</td><td>5</td></tr><tr><td>13</td><td>Empire 13</td><td>5</td></tr><tr><td>12</td><td>Empire 13</td><td>5</td></tr><tr><td>12</td><td>Empire 10</td><td>5</td></tr><tr><td>13</td><td>Empire 10</td><td>5</td></tr><tr><td>20</td><td>AI Empire</td><td>5</td></tr><tr><td>21</td><td>AI Empire</td><td>5</td></tr><tr><td>1</td><td>Empire 19</td><td>1.5</td></tr><tr><td>14</td><td>Empire 13</td><td>5</td></tr><tr><td>3</td><td>Empire 19</td><td>2.5</td></tr><tr><td>22</td><td>AI Empire</td><td>5</td></tr><tr><td>4</td><td>Empire 19</td><td>3.0</td></tr><tr><td>14</td><td>Empire 10</td><td>5</td></tr><tr><td>2</td><td>Empire 19</td><td>2.0</td></tr><tr><td>8</td><td>Empire 12</td><td>5.0</td></tr><tr><td>7</td><td>Empire 12</td><td>4.5</td></tr><tr><td>11</td><td>Empire 12</td><td>5</td></tr><tr><td>11</td><td>Empire 10</td><td>5</td></tr><tr><td>10</td><td>Empire 12</td><td>5</td></tr><tr><td>14</td><td>Empire 16</td><td>5</td></tr><tr><td>13</td><td>Empire 16</td><td>5</td></tr><tr><td>15</td><td>Empire 16</td><td>5</td></tr><tr><td>12</td><td>Empire 16</td><td>5</td></tr><tr><td>16</td><td>Empire 16</td><td>5</td></tr><tr><td>12</td><td>Empire 12</td><td>5</td></tr><tr><td>11</td><td>Empire 3</td><td>5</td></tr><tr><td>8</td><td>Empire 10</td><td>5.0</td></tr><tr><td>3</td><td>AI Empire</td><td>2.5</td></tr><tr><td>10</td><td>Empire 11</td><td>5</td></tr><tr><td>8</td><td>Empire 11</td><td>5.0</td></tr><tr><td>2</td><td>Empire 13</td><td>2.0</td></tr><tr><td>2</td><td>Empire 10</td><td>2.0</td></tr><tr><td>4</td><td>AI Empire</td><td>3.0</td></tr><tr><td>3</td><td>Empire 15</td><td>2.5</td></tr><tr><td>7</td><td>Empire 13</td><td>4.5</td></tr><tr><td>10</td><td>Empire 1</td><td>5</td></tr><tr><td>3</td><td>Empire 13</td><td>2.5</td></tr><tr><td>2</td><td>AI Empire</td><td>2.0</td></tr><tr><td>7</td><td>AI Empire</td><td>5</td></tr><tr><td>5</td><td>AI Empire</td><td>3.5</td></tr><tr><td>4</td><td>Empire 11</td><td>3.0</td></tr><tr><td>6</td><td>Empire 11</td><td>4.0</td></tr><tr><td>7</td><td>Empire 5</td><td>4.5</td></tr><tr><td>6</td><td>Empire 13</td><td>4.0</td></tr><tr><td>5</td><td>Empire 15</td><td>3.5</td></tr><tr><td>6</td><td>Empire 15</td><td>4.0</td></tr><tr><td>4</td><td>Empire 15</td><td>3.0</td></tr><tr><td>7</td><td>Empire 11</td><td>4.5</td></tr><tr><td>10</td><td>Empire 14</td><td>5</td></tr><tr><td>2</td><td>Empire 14</td><td>2.0</td></tr><tr><td>7</td><td>Empire 15</td><td>4.5</td></tr><tr><td>8</td><td>Empire 5</td><td>5.0</td></tr><tr><td>3</td><td>Empire 10</td><td>2.5</td></tr><tr><td>5</td><td>Empire 10</td><td>3.5</td></tr><tr><td>1</td><td>Empire 14</td><td>1.5</td></tr><tr><td>8</td><td>Empire 4</td><td>5.0</td></tr><tr><td>2</td><td>Empire 15</td><td>2.0</td></tr><tr><td>5</td><td>Empire 14</td><td>3.5</td></tr><tr><td>4</td><td>Empire 14</td><td>3.0</td></tr><tr><td>1</td><td>Empire 10</td><td>1.5</td></tr><tr><td>10</td><td>Empire 5</td><td>5</td></tr><tr><td>3</td><td>Empire 11</td><td>2.5</td></tr><tr><td>1</td><td>Empire 11</td><td>1.5</td></tr><tr><td>2</td><td>Empire 11</td><td>2.0</td></tr><tr><td>10</td><td>Empire 3</td><td>5</td></tr><tr><td>7</td><td>Empire 14</td><td>4.5</td></tr><tr><td>6</td><td>Empire 10</td><td>4.0</td></tr><tr><td>11</td><td>Empire 1</td><td>5</td></tr><tr><td>7</td><td>Empire 10</td><td>4.5</td></tr><tr><td>8</td><td>Empire 14</td><td>5.0</td></tr><tr><td>5</td><td>Empire 13</td><td>3.5</td></tr><tr><td>6</td><td>Empire 14</td><td>4.0</td></tr><tr><td>1</td><td>Empire 15</td><td>1.5</td></tr><tr><td>1</td><td>AI Empire</td><td>1.5</td></tr><tr><td>1</td><td>Empire 13</td><td>1.5</td></tr><tr><td>4</td><td>Empire 10</td><td>3.0</td></tr><tr><td>8</td><td>Empire 13</td><td>5.0</td></tr><tr><td>3</td><td>Empire 14</td><td>2.5</td></tr><tr><td>4</td><td>Empire 13</td><td>3.0</td></tr><tr><td>7</td><td>Empire 4</td><td>4.5</td></tr><tr><td>13</td><td>Empire 3</td><td>5</td></tr><tr><td>13</td><td>Empire 4</td><td>5</td></tr><tr><td>11</td><td>Empire 13</td><td>5</td></tr><tr><td>13</td><td>Empire 1</td><td>5</td></tr><tr><td>10</td><td>Empire 4</td><td>5</td></tr><tr><td>15</td><td>Empire 1</td><td>5</td></tr><tr><td>14</td><td>Empire 1</td><td>5</td></tr><tr><td>11</td><td>Empire 5</td><td>5</td></tr><tr><td>11</td><td>Empire 15</td><td>5</td></tr><tr><td>11</td><td>Empire 14</td><td>5</td></tr><tr><td>12</td><td>Empire 3</td><td>5</td></tr><tr><td>11</td><td>Empire 11</td><td>5</td></tr><tr><td>14</td><td>Empire 5</td><td>5</td></tr><tr><td>12</td><td>Empire 4</td><td>5</td></tr><tr><td>11</td><td>Empire 4</td><td>5</td></tr><tr><td>13</td><td>Empire 5</td><td>5</td></tr><tr><td>8</td><td>Empire 15</td><td>5.0</td></tr><tr><td>15</td><td>Empire 5</td><td>5</td></tr><tr><td>16</td><td>Empire 1</td><td>5</td></tr><tr><td>18</td><td>Empire 5</td><td>5</td></tr><tr><td>4</td><td>Empire 18</td><td>0</td></tr><tr><td>6</td><td>Empire 18</td><td>0</td></tr><tr><td>5</td><td>Empire 18</td><td>0</td></tr><tr><td>17</td><td>Empire 1</td><td>5</td></tr><tr><td>18</td><td>Empire 1</td><td>5</td></tr><tr><td>16</td><td>Empire 5</td><td>5</td></tr><tr><td>12</td><td>Empire 11</td><td>5</td></tr><tr><td>17</td><td>Empire 5</td><td>5</td></tr><tr><td>12</td><td>Empire 14</td><td>5</td></tr><tr><td>7</td><td>Empire 8</td><td>4.5</td></tr><tr><td>12</td><td>Empire 1</td><td>5</td></tr><tr><td>2</td><td>Empire 12</td><td>2.0</td></tr><tr><td>3</td><td>Empire 12</td><td>2.5</td></tr><tr><td>5</td><td>Empire 11</td><td>3.5</td></tr><tr><td>7</td><td>Empire 16</td><td>4.5</td></tr><tr><td>10</td><td>Empire 8</td><td>5</td></tr><tr><td>11</td><td>Empire 8</td><td>5</td></tr><tr><td>4</td><td>Empire 12</td><td>3.0</td></tr><tr><td>8</td><td>Empire 8</td><td>5.0</td></tr><tr><td>6</td><td>Empire 16</td><td>4.0</td></tr><tr><td>1</td><td>Empire 12</td><td>1.5</td></tr><tr><td>5</td><td>Empire 12</td><td>3.5</td></tr><tr><td>2</td><td>Empire 16</td><td>2.0</td></tr><tr><td>3</td><td>Empire 16</td><td>2.5</td></tr><tr><td>1</td><td>Empire 16</td><td>1.5</td></tr><tr><td>5</td><td>Empire 16</td><td>3.5</td></tr><tr><td>8</td><td>Empire 16</td><td>5.0</td></tr><tr><td>4</td><td>Empire 16</td><td>3.0</td></tr><tr><td>6</td><td>Empire 12</td><td>4.0</td></tr><tr><td>13</td><td>Empire 8</td><td>5</td></tr><tr><td>11</td><td>Empire 16</td><td>5</td></tr><tr><td>12</td><td>Empire 8</td><td>5</td></tr><tr><td>12</td><td>Empire 5</td><td>5</td></tr><tr><td>14</td><td>Empire 8</td><td>5</td></tr><tr><td>6</td><td>Empire 2</td><td>4.0</td></tr><tr><td>7</td><td>Empire 6</td><td>4.5</td></tr><tr><td>1</td><td>Empire 5</td><td>1.5</td></tr><tr><td>2</td><td>Empire 5</td><td>2.0</td></tr><tr><td>1</td><td>Empire 2</td><td>1.5</td></tr><tr><td>4</td><td>Empire 1</td><td>3.0</td></tr><tr><td>1</td><td>Empire 9</td><td>1.5</td></tr><tr><td>2</td><td>Empire 9</td><td>2.0</td></tr><tr><td>3</td><td>Empire 6</td><td>2.5</td></tr><tr><td>4</td><td>Empire 6</td><td>3.0</td></tr><tr><td>2</td><td>Empire 6</td><td>2.0</td></tr><tr><td>3</td><td>Empire 7</td><td>2.5</td></tr><tr><td>4</td><td>Empire 3</td><td>3.0</td></tr><tr><td>10</td><td>Empire 6</td><td>5</td></tr><tr><td>6</td><td>Empire 3</td><td>4.0</td></tr><tr><td>1</td><td>Empire 4</td><td>1.5</td></tr><tr><td>4</td><td>Empire 7</td><td>3.0</td></tr><tr><td>2</td><td>Empire 2</td><td>2.0</td></tr><tr><td>11</td><td>Empire 6</td><td>5</td></tr><tr><td>6</td><td>Empire 5</td><td>4.0</td></tr><tr><td>5</td><td>Empire 5</td><td>3.5</td></tr><tr><td>3</td><td>Empire 5</td><td>2.5</td></tr><tr><td>4</td><td>Empire 5</td><td>3.0</td></tr><tr><td>8</td><td>Empire 3</td><td>5.0</td></tr><tr><td>1</td><td>Empire 6</td><td>1.5</td></tr><tr><td>3</td><td>Empire 9</td><td>2.5</td></tr><tr><td>1</td><td>Empire 1</td><td>1.5</td></tr><tr><td>4</td><td>Empire 9</td><td>3.0</td></tr><tr><td>6</td><td>Empire 6</td><td>4.0</td></tr><tr><td>1</td><td>Empire 7</td><td>1.5</td></tr><tr><td>8</td><td>Empire 1</td><td>5.0</td></tr><tr><td>4</td><td>Empire 2</td><td>3.0</td></tr><tr><td>7</td><td>Empire 2</td><td>4.5</td></tr><tr><td>6</td><td>Empire 1</td><td>4.0</td></tr><tr><td>8</td><td>Empire 2</td><td>5.0</td></tr><tr><td>2</td><td>Empire 7</td><td>2.0</td></tr><tr><td>1</td><td>Empire 3</td><td>1.5</td></tr><tr><td>5</td><td>Empire 3</td><td>3.5</td></tr><tr><td>3</td><td>Empire 4</td><td>2.5</td></tr><tr><td>7</td><td>Empire 3</td><td>4.5</td></tr><tr><td>6</td><td>Empire 9</td><td>4.0</td></tr><tr><td>2</td><td>Empire 1</td><td>2.0</td></tr><tr><td>2</td><td>Empire 4</td><td>2.0</td></tr><tr><td>3</td><td>Empire 2</td><td>2.5</td></tr><tr><td>10</td><td>Empire 13</td><td>5</td></tr><tr><td>3</td><td>Empire 1</td><td>2.5</td></tr><tr><td>5</td><td>Empire 7</td><td>3.5</td></tr><tr><td>8</td><td>Empire 9</td><td>5.0</td></tr><tr><td>5</td><td>Empire 4</td><td>3.5</td></tr><tr><td>7</td><td>Empire 1</td><td>4.5</td></tr><tr><td>6</td><td>Empire 4</td><td>4.0</td></tr><tr><td>5</td><td>Empire 2</td><td>3.5</td></tr><tr><td>6</td><td>Empire 7</td><td>4.0</td></tr><tr><td>10</td><td>Empire 7</td><td>5</td></tr><tr><td>3</td><td>Empire 3</td><td>2.5</td></tr><tr><td>7</td><td>Empire 7</td><td>4.5</td></tr><tr><td>7</td><td>Empire 9</td><td>4.5</td></tr><tr><td>4</td><td>Empire 4</td><td>3.0</td></tr><tr><td>9</td><td>Empire 10</td><td>5</td></tr><tr><td>2</td><td>Empire 3</td><td>2.0</td></tr><tr><td>10</td><td>Empire 9</td><td>5</td></tr><tr><td>11</td><td>Empire 9</td><td>5</td></tr><tr><td>12</td><td>Empire 9</td><td>5</td></tr><tr><td>12</td><td>Empire 7</td><td>5</td></tr><tr><td>14</td><td>Empire 6</td><td>5</td></tr><tr><td>13</td><td>Empire 6</td><td>5</td></tr><tr><td>12</td><td>Empire 6</td><td>5</td></tr><tr><td>12</td><td>Empire 2</td><td>5</td></tr><tr><td>10</td><td>Empire 15</td><td>5</td></tr><tr><td>13</td><td>Empire 7</td><td>5</td></tr><tr><td>13</td><td>Empire 2</td><td>5</td></tr><tr><td>19</td><td>AI Empire</td><td>5</td></tr><tr><td>15</td><td>Empire 2</td><td>5</td></tr><tr><td>3</td><td>Empire 18</td><td>0</td></tr><tr><td>14</td><td>Empire 2</td><td>5</td></tr><tr><td>16</td><td>Empire 2</td><td>5</td></tr><tr><td>4</td><td>Empire 8</td><td>3.0</td></tr><tr><td>5</td><td>Empire 6</td><td>3.5</td></tr><tr><td>8</td><td>Empire 6</td><td>5.0</td></tr><tr><td>3</td><td>Empire 8</td><td>2.5</td></tr><tr><td>8</td><td>Empire 7</td><td>5.0</td></tr><tr><td>5</td><td>Empire 8</td><td>3.5</td></tr><tr><td>5</td><td>Empire 9</td><td>3.5</td></tr><tr><td>5</td><td>Empire 1</td><td>3.5</td></tr><tr><td>6</td><td>Empire 8</td><td>4.0</td></tr><tr><td>1</td><td>Empire 8</td><td>1.5</td></tr><tr><td>2</td><td>Empire 8</td><td>2.0</td></tr><tr><td>9</td><td>Empire 12</td><td>5</td></tr><tr><td>11</td><td>Empire 2</td><td>5</td></tr><tr><td>10</td><td>Empire 16</td><td>5</td></tr><tr><td>11</td><td>Empire 7</td><td>5</td></tr><tr><td>9</td><td>Empire 11</td><td>5</td></tr><tr><td>9</td><td>Empire 14</td><td>5</td></tr><tr><td>9</td><td>Empire 4</td><td>5</td></tr><tr><td>9</td><td>Empire 13</td><td>5</td></tr><tr><td>9</td><td>Empire 5</td><td>5</td></tr><tr><td>9</td><td>Empire 15</td><td>5</td></tr><tr><td>10</td><td>Empire 2</td><td>5</td></tr><tr><td>9</td><td>Empire 16</td><td>5</td></tr><tr><td>9</td><td>Empire 8</td><td>5</td></tr><tr><td>9</td><td>Empire 3</td><td>5</td></tr><tr><td>9</td><td>Empire 2</td><td>5</td></tr><tr><td>9</td><td>Empire 1</td><td>5</td></tr><tr><td>9</td><td>Empire 9</td><td>5</td></tr><tr><td>9</td><td>Empire 7</td><td>5</td></tr><tr><td>9</td><td>Empire 6</td><td>5</td></tr></tbody></table></div>"
      ]
     },
     "metadata": {
      "application/vnd.databricks.v1+output": {
       "addedWidgets": {},
       "aggData": [],
       "aggError": "",
       "aggOverflow": false,
       "aggSchema": [],
       "aggSeriesLimitReached": false,
       "aggType": "",
       "arguments": {},
       "columnCustomDisplayInfos": {},
       "data": [
        [
         "age",
         "empire_name",
         "stability"
        ],
        [
         "2",
         "Empire 18",
         "0.2599999999999998"
        ],
        [
         "3",
         "Empire 23",
         "1.9599999999999995"
        ],
        [
         "2",
         "Empire 22",
         "0.6200000000000001"
        ],
        [
         "1",
         "Empire 24",
         "0.9199999999999999"
        ],
        [
         "3",
         "Empire 21",
         "0.7599999999999998"
        ],
        [
         "2",
         "Empire 24",
         "0.8199999999999998"
        ],
        [
         "2",
         "Empire 23",
         "1.6399999999999997"
        ],
        [
         "4",
         "Empire 23",
         "2.2599999999999993"
        ],
        [
         "3",
         "Empire 24",
         "0.7199999999999998"
        ],
        [
         "1",
         "Empire 21",
         "0.9199999999999999"
        ],
        [
         "2",
         "Empire 21",
         "0.8399999999999999"
        ],
        [
         "1",
         "Empire 22",
         "0.8200000000000001"
        ],
        [
         "4",
         "Empire 21",
         "0.6799999999999997"
        ],
        [
         "1",
         "Empire 23",
         "1.3199999999999998"
        ],
        [
         "6",
         "AI Empire",
         "4.9999999999999964"
        ],
        [
         "1",
         "Empire 18",
         "0.6399999999999999"
        ],
        [
         "11",
         "AI Empire",
         "5"
        ],
        [
         "12",
         "AI Empire",
         "5"
        ],
        [
         "10",
         "AI Empire",
         "5"
        ],
        [
         "14",
         "AI Empire",
         "5"
        ],
        [
         "16",
         "AI Empire",
         "5"
        ],
        [
         "13",
         "AI Empire",
         "5"
        ],
        [
         "15",
         "AI Empire",
         "5"
        ],
        [
         "17",
         "AI Empire",
         "5"
        ],
        [
         "18",
         "AI Empire",
         "5"
        ],
        [
         "23",
         "AI Empire",
         "5"
        ],
        [
         "24",
         "AI Empire",
         "5"
        ],
        [
         "8",
         "AI Empire",
         "5"
        ],
        [
         "9",
         "AI Empire",
         "5"
        ],
        [
         "10",
         "Empire 10",
         "5"
        ],
        [
         "13",
         "Empire 13",
         "5"
        ],
        [
         "12",
         "Empire 13",
         "5"
        ],
        [
         "12",
         "Empire 10",
         "5"
        ],
        [
         "13",
         "Empire 10",
         "5"
        ],
        [
         "20",
         "AI Empire",
         "5"
        ],
        [
         "21",
         "AI Empire",
         "5"
        ],
        [
         "1",
         "Empire 19",
         "1.5"
        ],
        [
         "14",
         "Empire 13",
         "5"
        ],
        [
         "3",
         "Empire 19",
         "2.5"
        ],
        [
         "22",
         "AI Empire",
         "5"
        ],
        [
         "4",
         "Empire 19",
         "3.0"
        ],
        [
         "14",
         "Empire 10",
         "5"
        ],
        [
         "2",
         "Empire 19",
         "2.0"
        ],
        [
         "8",
         "Empire 12",
         "5.0"
        ],
        [
         "7",
         "Empire 12",
         "4.5"
        ],
        [
         "11",
         "Empire 12",
         "5"
        ],
        [
         "11",
         "Empire 10",
         "5"
        ],
        [
         "10",
         "Empire 12",
         "5"
        ],
        [
         "14",
         "Empire 16",
         "5"
        ],
        [
         "13",
         "Empire 16",
         "5"
        ],
        [
         "15",
         "Empire 16",
         "5"
        ],
        [
         "12",
         "Empire 16",
         "5"
        ],
        [
         "16",
         "Empire 16",
         "5"
        ],
        [
         "12",
         "Empire 12",
         "5"
        ],
        [
         "11",
         "Empire 3",
         "5"
        ],
        [
         "8",
         "Empire 10",
         "5.0"
        ],
        [
         "3",
         "AI Empire",
         "2.5"
        ],
        [
         "10",
         "Empire 11",
         "5"
        ],
        [
         "8",
         "Empire 11",
         "5.0"
        ],
        [
         "2",
         "Empire 13",
         "2.0"
        ],
        [
         "2",
         "Empire 10",
         "2.0"
        ],
        [
         "4",
         "AI Empire",
         "3.0"
        ],
        [
         "3",
         "Empire 15",
         "2.5"
        ],
        [
         "7",
         "Empire 13",
         "4.5"
        ],
        [
         "10",
         "Empire 1",
         "5"
        ],
        [
         "3",
         "Empire 13",
         "2.5"
        ],
        [
         "2",
         "AI Empire",
         "2.0"
        ],
        [
         "7",
         "AI Empire",
         "5"
        ],
        [
         "5",
         "AI Empire",
         "3.5"
        ],
        [
         "4",
         "Empire 11",
         "3.0"
        ],
        [
         "6",
         "Empire 11",
         "4.0"
        ],
        [
         "7",
         "Empire 5",
         "4.5"
        ],
        [
         "6",
         "Empire 13",
         "4.0"
        ],
        [
         "5",
         "Empire 15",
         "3.5"
        ],
        [
         "6",
         "Empire 15",
         "4.0"
        ],
        [
         "4",
         "Empire 15",
         "3.0"
        ],
        [
         "7",
         "Empire 11",
         "4.5"
        ],
        [
         "10",
         "Empire 14",
         "5"
        ],
        [
         "2",
         "Empire 14",
         "2.0"
        ],
        [
         "7",
         "Empire 15",
         "4.5"
        ],
        [
         "8",
         "Empire 5",
         "5.0"
        ],
        [
         "3",
         "Empire 10",
         "2.5"
        ],
        [
         "5",
         "Empire 10",
         "3.5"
        ],
        [
         "1",
         "Empire 14",
         "1.5"
        ],
        [
         "8",
         "Empire 4",
         "5.0"
        ],
        [
         "2",
         "Empire 15",
         "2.0"
        ],
        [
         "5",
         "Empire 14",
         "3.5"
        ],
        [
         "4",
         "Empire 14",
         "3.0"
        ],
        [
         "1",
         "Empire 10",
         "1.5"
        ],
        [
         "10",
         "Empire 5",
         "5"
        ],
        [
         "3",
         "Empire 11",
         "2.5"
        ],
        [
         "1",
         "Empire 11",
         "1.5"
        ],
        [
         "2",
         "Empire 11",
         "2.0"
        ],
        [
         "10",
         "Empire 3",
         "5"
        ],
        [
         "7",
         "Empire 14",
         "4.5"
        ],
        [
         "6",
         "Empire 10",
         "4.0"
        ],
        [
         "11",
         "Empire 1",
         "5"
        ],
        [
         "7",
         "Empire 10",
         "4.5"
        ],
        [
         "8",
         "Empire 14",
         "5.0"
        ],
        [
         "5",
         "Empire 13",
         "3.5"
        ],
        [
         "6",
         "Empire 14",
         "4.0"
        ],
        [
         "1",
         "Empire 15",
         "1.5"
        ],
        [
         "1",
         "AI Empire",
         "1.5"
        ],
        [
         "1",
         "Empire 13",
         "1.5"
        ],
        [
         "4",
         "Empire 10",
         "3.0"
        ],
        [
         "8",
         "Empire 13",
         "5.0"
        ],
        [
         "3",
         "Empire 14",
         "2.5"
        ],
        [
         "4",
         "Empire 13",
         "3.0"
        ],
        [
         "7",
         "Empire 4",
         "4.5"
        ],
        [
         "13",
         "Empire 3",
         "5"
        ],
        [
         "13",
         "Empire 4",
         "5"
        ],
        [
         "11",
         "Empire 13",
         "5"
        ],
        [
         "13",
         "Empire 1",
         "5"
        ],
        [
         "10",
         "Empire 4",
         "5"
        ],
        [
         "15",
         "Empire 1",
         "5"
        ],
        [
         "14",
         "Empire 1",
         "5"
        ],
        [
         "11",
         "Empire 5",
         "5"
        ],
        [
         "11",
         "Empire 15",
         "5"
        ],
        [
         "11",
         "Empire 14",
         "5"
        ],
        [
         "12",
         "Empire 3",
         "5"
        ],
        [
         "11",
         "Empire 11",
         "5"
        ],
        [
         "14",
         "Empire 5",
         "5"
        ],
        [
         "12",
         "Empire 4",
         "5"
        ],
        [
         "11",
         "Empire 4",
         "5"
        ],
        [
         "13",
         "Empire 5",
         "5"
        ],
        [
         "8",
         "Empire 15",
         "5.0"
        ],
        [
         "15",
         "Empire 5",
         "5"
        ],
        [
         "16",
         "Empire 1",
         "5"
        ],
        [
         "18",
         "Empire 5",
         "5"
        ],
        [
         "4",
         "Empire 18",
         "0"
        ],
        [
         "6",
         "Empire 18",
         "0"
        ],
        [
         "5",
         "Empire 18",
         "0"
        ],
        [
         "17",
         "Empire 1",
         "5"
        ],
        [
         "18",
         "Empire 1",
         "5"
        ],
        [
         "16",
         "Empire 5",
         "5"
        ],
        [
         "12",
         "Empire 11",
         "5"
        ],
        [
         "17",
         "Empire 5",
         "5"
        ],
        [
         "12",
         "Empire 14",
         "5"
        ],
        [
         "7",
         "Empire 8",
         "4.5"
        ],
        [
         "12",
         "Empire 1",
         "5"
        ],
        [
         "2",
         "Empire 12",
         "2.0"
        ],
        [
         "3",
         "Empire 12",
         "2.5"
        ],
        [
         "5",
         "Empire 11",
         "3.5"
        ],
        [
         "7",
         "Empire 16",
         "4.5"
        ],
        [
         "10",
         "Empire 8",
         "5"
        ],
        [
         "11",
         "Empire 8",
         "5"
        ],
        [
         "4",
         "Empire 12",
         "3.0"
        ],
        [
         "8",
         "Empire 8",
         "5.0"
        ],
        [
         "6",
         "Empire 16",
         "4.0"
        ],
        [
         "1",
         "Empire 12",
         "1.5"
        ],
        [
         "5",
         "Empire 12",
         "3.5"
        ],
        [
         "2",
         "Empire 16",
         "2.0"
        ],
        [
         "3",
         "Empire 16",
         "2.5"
        ],
        [
         "1",
         "Empire 16",
         "1.5"
        ],
        [
         "5",
         "Empire 16",
         "3.5"
        ],
        [
         "8",
         "Empire 16",
         "5.0"
        ],
        [
         "4",
         "Empire 16",
         "3.0"
        ],
        [
         "6",
         "Empire 12",
         "4.0"
        ],
        [
         "13",
         "Empire 8",
         "5"
        ],
        [
         "11",
         "Empire 16",
         "5"
        ],
        [
         "12",
         "Empire 8",
         "5"
        ],
        [
         "12",
         "Empire 5",
         "5"
        ],
        [
         "14",
         "Empire 8",
         "5"
        ],
        [
         "6",
         "Empire 2",
         "4.0"
        ],
        [
         "7",
         "Empire 6",
         "4.5"
        ],
        [
         "1",
         "Empire 5",
         "1.5"
        ],
        [
         "2",
         "Empire 5",
         "2.0"
        ],
        [
         "1",
         "Empire 2",
         "1.5"
        ],
        [
         "4",
         "Empire 1",
         "3.0"
        ],
        [
         "1",
         "Empire 9",
         "1.5"
        ],
        [
         "2",
         "Empire 9",
         "2.0"
        ],
        [
         "3",
         "Empire 6",
         "2.5"
        ],
        [
         "4",
         "Empire 6",
         "3.0"
        ],
        [
         "2",
         "Empire 6",
         "2.0"
        ],
        [
         "3",
         "Empire 7",
         "2.5"
        ],
        [
         "4",
         "Empire 3",
         "3.0"
        ],
        [
         "10",
         "Empire 6",
         "5"
        ],
        [
         "6",
         "Empire 3",
         "4.0"
        ],
        [
         "1",
         "Empire 4",
         "1.5"
        ],
        [
         "4",
         "Empire 7",
         "3.0"
        ],
        [
         "2",
         "Empire 2",
         "2.0"
        ],
        [
         "11",
         "Empire 6",
         "5"
        ],
        [
         "6",
         "Empire 5",
         "4.0"
        ],
        [
         "5",
         "Empire 5",
         "3.5"
        ],
        [
         "3",
         "Empire 5",
         "2.5"
        ],
        [
         "4",
         "Empire 5",
         "3.0"
        ],
        [
         "8",
         "Empire 3",
         "5.0"
        ],
        [
         "1",
         "Empire 6",
         "1.5"
        ],
        [
         "3",
         "Empire 9",
         "2.5"
        ],
        [
         "1",
         "Empire 1",
         "1.5"
        ],
        [
         "4",
         "Empire 9",
         "3.0"
        ],
        [
         "6",
         "Empire 6",
         "4.0"
        ],
        [
         "1",
         "Empire 7",
         "1.5"
        ],
        [
         "8",
         "Empire 1",
         "5.0"
        ],
        [
         "4",
         "Empire 2",
         "3.0"
        ],
        [
         "7",
         "Empire 2",
         "4.5"
        ],
        [
         "6",
         "Empire 1",
         "4.0"
        ],
        [
         "8",
         "Empire 2",
         "5.0"
        ],
        [
         "2",
         "Empire 7",
         "2.0"
        ],
        [
         "1",
         "Empire 3",
         "1.5"
        ],
        [
         "5",
         "Empire 3",
         "3.5"
        ],
        [
         "3",
         "Empire 4",
         "2.5"
        ],
        [
         "7",
         "Empire 3",
         "4.5"
        ],
        [
         "6",
         "Empire 9",
         "4.0"
        ],
        [
         "2",
         "Empire 1",
         "2.0"
        ],
        [
         "2",
         "Empire 4",
         "2.0"
        ],
        [
         "3",
         "Empire 2",
         "2.5"
        ],
        [
         "10",
         "Empire 13",
         "5"
        ],
        [
         "3",
         "Empire 1",
         "2.5"
        ],
        [
         "5",
         "Empire 7",
         "3.5"
        ],
        [
         "8",
         "Empire 9",
         "5.0"
        ],
        [
         "5",
         "Empire 4",
         "3.5"
        ],
        [
         "7",
         "Empire 1",
         "4.5"
        ],
        [
         "6",
         "Empire 4",
         "4.0"
        ],
        [
         "5",
         "Empire 2",
         "3.5"
        ],
        [
         "6",
         "Empire 7",
         "4.0"
        ],
        [
         "10",
         "Empire 7",
         "5"
        ],
        [
         "3",
         "Empire 3",
         "2.5"
        ],
        [
         "7",
         "Empire 7",
         "4.5"
        ],
        [
         "7",
         "Empire 9",
         "4.5"
        ],
        [
         "4",
         "Empire 4",
         "3.0"
        ],
        [
         "9",
         "Empire 10",
         "5"
        ],
        [
         "2",
         "Empire 3",
         "2.0"
        ],
        [
         "10",
         "Empire 9",
         "5"
        ],
        [
         "11",
         "Empire 9",
         "5"
        ],
        [
         "12",
         "Empire 9",
         "5"
        ],
        [
         "12",
         "Empire 7",
         "5"
        ],
        [
         "14",
         "Empire 6",
         "5"
        ],
        [
         "13",
         "Empire 6",
         "5"
        ],
        [
         "12",
         "Empire 6",
         "5"
        ],
        [
         "12",
         "Empire 2",
         "5"
        ],
        [
         "10",
         "Empire 15",
         "5"
        ],
        [
         "13",
         "Empire 7",
         "5"
        ],
        [
         "13",
         "Empire 2",
         "5"
        ],
        [
         "19",
         "AI Empire",
         "5"
        ],
        [
         "15",
         "Empire 2",
         "5"
        ],
        [
         "3",
         "Empire 18",
         "0"
        ],
        [
         "14",
         "Empire 2",
         "5"
        ],
        [
         "16",
         "Empire 2",
         "5"
        ],
        [
         "4",
         "Empire 8",
         "3.0"
        ],
        [
         "5",
         "Empire 6",
         "3.5"
        ],
        [
         "8",
         "Empire 6",
         "5.0"
        ],
        [
         "3",
         "Empire 8",
         "2.5"
        ],
        [
         "8",
         "Empire 7",
         "5.0"
        ],
        [
         "5",
         "Empire 8",
         "3.5"
        ],
        [
         "5",
         "Empire 9",
         "3.5"
        ],
        [
         "5",
         "Empire 1",
         "3.5"
        ],
        [
         "6",
         "Empire 8",
         "4.0"
        ],
        [
         "1",
         "Empire 8",
         "1.5"
        ],
        [
         "2",
         "Empire 8",
         "2.0"
        ],
        [
         "9",
         "Empire 12",
         "5"
        ],
        [
         "11",
         "Empire 2",
         "5"
        ],
        [
         "10",
         "Empire 16",
         "5"
        ],
        [
         "11",
         "Empire 7",
         "5"
        ],
        [
         "9",
         "Empire 11",
         "5"
        ],
        [
         "9",
         "Empire 14",
         "5"
        ],
        [
         "9",
         "Empire 4",
         "5"
        ],
        [
         "9",
         "Empire 13",
         "5"
        ],
        [
         "9",
         "Empire 5",
         "5"
        ],
        [
         "9",
         "Empire 15",
         "5"
        ],
        [
         "10",
         "Empire 2",
         "5"
        ],
        [
         "9",
         "Empire 16",
         "5"
        ],
        [
         "9",
         "Empire 8",
         "5"
        ],
        [
         "9",
         "Empire 3",
         "5"
        ],
        [
         "9",
         "Empire 2",
         "5"
        ],
        [
         "9",
         "Empire 1",
         "5"
        ],
        [
         "9",
         "Empire 9",
         "5"
        ],
        [
         "9",
         "Empire 7",
         "5"
        ],
        [
         "9",
         "Empire 6",
         "5"
        ]
       ],
       "datasetInfos": [],
       "dbfsResultPath": null,
       "isJsonSchema": true,
       "metadata": {},
       "overflow": false,
       "plotOptions": {
        "customPlotOptions": {},
        "displayType": "table",
        "pivotAggregation": null,
        "pivotColumns": null,
        "xColumns": null,
        "yColumns": null
       },
       "removedWidgets": [],
       "schema": [
        {
         "metadata": "{}",
         "name": "age",
         "type": "\"string\""
        },
        {
         "metadata": "{}",
         "name": "empire_name",
         "type": "\"string\""
        },
        {
         "metadata": "{}",
         "name": "stability",
         "type": "\"string\""
        }
       ],
       "type": "table"
      }
     },
     "output_type": "display_data"
    }
   ],
   "source": [
    "# Load Delta Lake table for comparison\n",
    "#delta_table_path = \"/dbfs/empire_data/metrics\"\n",
    "metrics_df = spark.read.format(\"delta\").load(delta_lake_path)\n",
    "\n",
    "# Display data table for review\n",
    "display(metrics_df)\n",
    "\n",
    "# Example visualization - territory size comparison over time\n",
    "territory_comparison_df = metrics_df.select(\"age\", \"empire_name\", \"territory_size\")\n",
    "display(territory_comparison_df)\n",
    "\n",
    "# Example visualization - economy comparison over time\n",
    "economy_comparison_df = metrics_df.select(\"age\", \"empire_name\", \"economy\")\n",
    "display(economy_comparison_df)\n",
    "\n",
    "# Example visualization - stability comparison over time\n",
    "stability_comparison_df = metrics_df.select(\"age\", \"empire_name\", \"stability\")\n",
    "display(stability_comparison_df)\n"
   ]
  }
 ],
 "metadata": {
  "application/vnd.databricks.v1+notebook": {
   "dashboards": [],
   "environmentMetadata": null,
   "language": "python",
   "notebookMetadata": {
    "pythonIndentUnit": 2
   },
   "notebookName": "civ",
   "widgets": {}
  },
  "language_info": {
   "name": "python"
  }
 },
 "nbformat": 4,
 "nbformat_minor": 0
}
